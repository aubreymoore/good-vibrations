{
 "cells": [
  {
   "cell_type": "code",
   "execution_count": 1,
   "id": "3ff0b422",
   "metadata": {},
   "outputs": [],
   "source": [
    "import os\n",
    "from pathlib import Path\n",
    "import sounddevice as sd\n",
    "import soundfile as sf\n",
    "import datetime\n",
    "import time"
   ]
  },
  {
   "cell_type": "code",
   "execution_count": 2,
   "id": "5c768fd5-c85e-419a-a28d-001583d33dcc",
   "metadata": {
    "tags": [
     "parameters"
    ]
   },
   "outputs": [],
   "source": [
    "# This cell is tagged as \"parameters\" to allow using papermill\n",
    "\n",
    "MAX_RECORDINGS = 6\n",
    "OUTPUTDIR = '/home/pi/Desktop/test'\n",
    "DURATION = 1*60   # seconds\n",
    "SLEEP =    9*60   # seconds\n",
    "SAMPLERATE = 8000 # samples per second\n",
    "CHANNELS = 1      # 1 = mono; 2 = stereo"
   ]
  },
  {
   "cell_type": "code",
   "execution_count": 3,
   "id": "fb4da313-dede-43b9-be64-71626f357033",
   "metadata": {},
   "outputs": [],
   "source": [
    "def record_wav_file(filepath, seconds, samplerate, channels): \n",
    "    wav = sd.rec(frames=int(seconds*samplerate), samplerate=samplerate, channels=channels)\n",
    "    sd.wait()  # Wait until recording is finished\n",
    "    sf.write(filepath, wav, samplerate)"
   ]
  },
  {
   "cell_type": "code",
   "execution_count": 4,
   "id": "41e6964a-fe11-44e9-b1b9-f898bc7ebf75",
   "metadata": {},
   "outputs": [
    {
     "name": "stdout",
     "output_type": "stream",
     "text": [
      "CPU times: user 51 µs, sys: 8 µs, total: 59 µs\n",
      "Wall time: 106 µs\n"
     ]
    }
   ],
   "source": [
    "%%time\n",
    "\n",
    "def update_github():\n",
    "    \"\"\"\n",
    "    Simply executes a script containing the following:\n",
    "        \n",
    "    cd ..\n",
    "    git pull\n",
    "    git add .\n",
    "    git commit -m 'record_wav'\n",
    "    git push\n",
    "    \n",
    "    \"\"\"\n",
    "\n",
    "    command = f'./update_github.sh'\n",
    "    result = os.system(command)\n",
    "    # assert result==0, f'{command} failed\n",
    "    return result\n",
    "\n",
    "# update_github()"
   ]
  },
  {
   "cell_type": "code",
   "execution_count": 4,
   "id": "cbc07bb3-dc6b-4340-af77-378a2a92d623",
   "metadata": {},
   "outputs": [
    {
     "name": "stdout",
     "output_type": "stream",
     "text": [
      "STARTING\n",
      "1 of 6\n",
      "   recording for 60s; saving to /home/pi/Desktop/test/2022-05-04T14:24:41.750.wav\n",
      "   sleeping for 540s\n",
      "2 of 6\n",
      "   recording for 60s; saving to /home/pi/Desktop/test/2022-05-04T14:34:42.520.wav\n",
      "   sleeping for 540s\n",
      "3 of 6\n",
      "   recording for 60s; saving to /home/pi/Desktop/test/2022-05-04T14:44:42.802.wav\n",
      "   sleeping for 540s\n",
      "4 of 6\n",
      "   recording for 60s; saving to /home/pi/Desktop/test/2022-05-04T14:54:43.093.wav\n",
      "   sleeping for 540s\n",
      "5 of 6\n",
      "   recording for 60s; saving to /home/pi/Desktop/test/2022-05-04T15:04:43.346.wav\n",
      "   sleeping for 540s\n",
      "6 of 6\n",
      "   recording for 60s; saving to /home/pi/Desktop/test/2022-05-04T15:14:43.620.wav\n",
      "   sleeping for 540s\n",
      "FINISHED\n"
     ]
    }
   ],
   "source": [
    "# MAIN\n",
    "\n",
    "print('STARTING')\n",
    "Path(OUTPUTDIR).mkdir(parents=True, exist_ok=True)   # ensure existence of OUTPUTDIR\n",
    "nrec = 1\n",
    "while nrec <= MAX_RECORDINGS:\n",
    "    print(f'{nrec} of {MAX_RECORDINGS}')\n",
    "    timestamp = datetime.datetime.now().isoformat()[:-3]\n",
    "    filepath = f'{OUTPUTDIR}/{timestamp}.wav'\n",
    "    print(f'   recording for {DURATION}s; saving to {filepath}')\n",
    "    record_wav_file(filepath, DURATION, SAMPLERATE, CHANNELS)\n",
    "    print(f'   uploading data to GitHub; result code: {update_github()}') \n",
    "    nrec += 1\n",
    "    print(f'   sleeping for {SLEEP}s')\n",
    "    time.sleep(SLEEP)\n",
    "print('FINISHED')"
   ]
  },
  {
   "cell_type": "code",
   "execution_count": null,
   "id": "b2e6f862-64b8-4db5-8cb3-109cd873125d",
   "metadata": {},
   "outputs": [],
   "source": []
  }
 ],
 "metadata": {
  "kernelspec": {
   "display_name": "Python 3 (ipykernel)",
   "language": "python",
   "name": "python3"
  },
  "language_info": {
   "codemirror_mode": {
    "name": "ipython",
    "version": 3
   },
   "file_extension": ".py",
   "mimetype": "text/x-python",
   "name": "python",
   "nbconvert_exporter": "python",
   "pygments_lexer": "ipython3",
   "version": "3.7.3"
  }
 },
 "nbformat": 4,
 "nbformat_minor": 5
}

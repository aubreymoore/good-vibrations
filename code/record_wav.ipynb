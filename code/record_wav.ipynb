{
 "cells": [
  {
   "cell_type": "code",
   "execution_count": 6,
   "id": "3ff0b422",
   "metadata": {},
   "outputs": [],
   "source": [
    "import os\n",
    "from pathlib import Path\n",
    "import sounddevice as sd\n",
    "import soundfile as sf\n",
    "import datetime\n",
    "import time"
   ]
  },
  {
   "cell_type": "code",
   "execution_count": 7,
   "id": "5c768fd5-c85e-419a-a28d-001583d33dcc",
   "metadata": {
    "tags": [
     "parameters"
    ]
   },
   "outputs": [],
   "source": [
    "# This cell is tagged as \"parameters\" to allow using papermill\n",
    "\n",
    "MAX_RECORDINGS = 100000\n",
    "OUTPUTDIR = '/home/pi/good-vibrations/data/gpepp'\n",
    "DURATION = 1*60     # seconds\n",
    "SLEEP =    9*60     # seconds\n",
    "SAMPLERATE = 8000   # samples per second\n",
    "CHANNELS = 1        # 1 = mono; 2 = stereo"
   ]
  },
  {
   "cell_type": "code",
   "execution_count": 8,
   "id": "fb4da313-dede-43b9-be64-71626f357033",
   "metadata": {},
   "outputs": [],
   "source": [
    "def record_wav_file(filepath, seconds, samplerate, channels): \n",
    "    wav = sd.rec(frames=int(seconds*samplerate), samplerate=samplerate, channels=channels)\n",
    "    sd.wait()  # Wait until recording is finished\n",
    "    sf.write(filepath, wav, samplerate)"
   ]
  },
  {
   "cell_type": "code",
   "execution_count": 9,
   "id": "41e6964a-fe11-44e9-b1b9-f898bc7ebf75",
   "metadata": {},
   "outputs": [
    {
     "name": "stdout",
     "output_type": "stream",
     "text": [
      "CPU times: user 25 µs, sys: 11 µs, total: 36 µs\n",
      "Wall time: 64.4 µs\n"
     ]
    }
   ],
   "source": [
    "%%time\n",
    "\n",
    "def update_github():\n",
    "    \"\"\"\n",
    "    Simply executes a script containing the following:\n",
    "        \n",
    "    cd ..\n",
    "    git pull\n",
    "    git add .\n",
    "    git commit -m 'record_wav'\n",
    "    git push\n",
    "    \n",
    "    \"\"\"\n",
    "\n",
    "    command = f'./update_github.sh'\n",
    "    result = os.system(command)\n",
    "    # assert result==0, f'{command} failed\n",
    "\n",
    "# update_github()"
   ]
  },
  {
   "cell_type": "code",
   "execution_count": null,
   "id": "cbc07bb3-dc6b-4340-af77-378a2a92d623",
   "metadata": {},
   "outputs": [
    {
     "name": "stdout",
     "output_type": "stream",
     "text": [
      "STARTING\n",
      "1 of 100000\n",
      "   recording for 60s; saving to /home/pi/good-vibrations/data/gpepp/2022-05-23T13:13:19.526.wav\n",
      "   uploading data to GitHub\n",
      "Already up to date.\n",
      "[main ff0211b] record_wav\n",
      " 2 files changed, 9 insertions(+), 139 deletions(-)\n",
      " create mode 100644 data/gpepp/2022-05-23T13:13:19.526.wav\n"
     ]
    },
    {
     "name": "stderr",
     "output_type": "stream",
     "text": [
      "To https://github.com/aubreymoore/good-vibrations.git\n",
      "   55bebd4..ff0211b  main -> main\n"
     ]
    },
    {
     "name": "stdout",
     "output_type": "stream",
     "text": [
      "   sleeping for 540s\n",
      "2 of 100000\n",
      "   recording for 60s; saving to /home/pi/good-vibrations/data/gpepp/2022-05-23T13:23:33.519.wav\n",
      "   uploading data to GitHub\n",
      "Already up to date.\n",
      "[main f66c399] record_wav\n",
      " 2 files changed, 23 insertions(+), 1 deletion(-)\n",
      " create mode 100644 data/gpepp/2022-05-23T13:23:33.519.wav\n"
     ]
    },
    {
     "name": "stderr",
     "output_type": "stream",
     "text": [
      "To https://github.com/aubreymoore/good-vibrations.git\n",
      "   ff0211b..f66c399  main -> main\n"
     ]
    },
    {
     "name": "stdout",
     "output_type": "stream",
     "text": [
      "   sleeping for 540s\n",
      "3 of 100000\n",
      "   recording for 60s; saving to /home/pi/good-vibrations/data/gpepp/2022-05-23T13:33:39.999.wav\n",
      "   uploading data to GitHub\n",
      "Already up to date.\n",
      "[main 85d52e5] record_wav\n",
      " 2 files changed, 23 insertions(+), 1 deletion(-)\n",
      " create mode 100644 data/gpepp/2022-05-23T13:33:39.999.wav\n"
     ]
    },
    {
     "name": "stderr",
     "output_type": "stream",
     "text": [
      "To https://github.com/aubreymoore/good-vibrations.git\n",
      "   f66c399..85d52e5  main -> main\n"
     ]
    },
    {
     "name": "stdout",
     "output_type": "stream",
     "text": [
      "   sleeping for 540s\n",
      "4 of 100000\n",
      "   recording for 60s; saving to /home/pi/good-vibrations/data/gpepp/2022-05-23T13:43:51.028.wav\n",
      "   uploading data to GitHub\n",
      "Already up to date.\n",
      "[main b60bfd7] record_wav\n",
      " 2 files changed, 23 insertions(+), 1 deletion(-)\n",
      " create mode 100644 data/gpepp/2022-05-23T13:43:51.028.wav\n"
     ]
    },
    {
     "name": "stderr",
     "output_type": "stream",
     "text": [
      "To https://github.com/aubreymoore/good-vibrations.git\n",
      "   85d52e5..b60bfd7  main -> main\n"
     ]
    },
    {
     "name": "stdout",
     "output_type": "stream",
     "text": [
      "   sleeping for 540s\n",
      "5 of 100000\n",
      "   recording for 60s; saving to /home/pi/good-vibrations/data/gpepp/2022-05-23T13:53:57.366.wav\n",
      "   uploading data to GitHub\n",
      "Already up to date.\n",
      "[main 7a55a19] record_wav\n",
      " 2 files changed, 23 insertions(+), 1 deletion(-)\n",
      " create mode 100644 data/gpepp/2022-05-23T13:53:57.366.wav\n"
     ]
    },
    {
     "name": "stderr",
     "output_type": "stream",
     "text": [
      "To https://github.com/aubreymoore/good-vibrations.git\n",
      "   b60bfd7..7a55a19  main -> main\n"
     ]
    },
    {
     "name": "stdout",
     "output_type": "stream",
     "text": [
      "   sleeping for 540s\n",
      "6 of 100000\n",
      "   recording for 60s; saving to /home/pi/good-vibrations/data/gpepp/2022-05-23T14:04:03.859.wav\n",
      "   uploading data to GitHub\n",
      "Already up to date.\n",
      "[main eb332f1] record_wav\n",
      " 2 files changed, 23 insertions(+), 1 deletion(-)\n",
      " create mode 100644 data/gpepp/2022-05-23T14:04:03.859.wav\n"
     ]
    },
    {
     "name": "stderr",
     "output_type": "stream",
     "text": [
      "To https://github.com/aubreymoore/good-vibrations.git\n",
      "   7a55a19..eb332f1  main -> main\n"
     ]
    },
    {
     "name": "stdout",
     "output_type": "stream",
     "text": [
      "   sleeping for 540s\n",
      "7 of 100000\n",
      "   recording for 60s; saving to /home/pi/good-vibrations/data/gpepp/2022-05-23T14:14:10.494.wav\n",
      "   uploading data to GitHub\n",
      "Already up to date.\n",
      "[main 606668e] record_wav\n",
      " 2 files changed, 23 insertions(+), 1 deletion(-)\n",
      " create mode 100644 data/gpepp/2022-05-23T14:14:10.494.wav\n"
     ]
    },
    {
     "name": "stderr",
     "output_type": "stream",
     "text": [
      "To https://github.com/aubreymoore/good-vibrations.git\n",
      "   eb332f1..606668e  main -> main\n"
     ]
    },
    {
     "name": "stdout",
     "output_type": "stream",
     "text": [
      "   sleeping for 540s\n",
      "8 of 100000\n",
      "   recording for 60s; saving to /home/pi/good-vibrations/data/gpepp/2022-05-23T14:24:17.696.wav\n",
      "   uploading data to GitHub\n",
      "Already up to date.\n",
      "[main 413856f] record_wav\n",
      " 2 files changed, 23 insertions(+), 1 deletion(-)\n",
      " create mode 100644 data/gpepp/2022-05-23T14:24:17.696.wav\n"
     ]
    },
    {
     "name": "stderr",
     "output_type": "stream",
     "text": [
      "To https://github.com/aubreymoore/good-vibrations.git\n",
      "   606668e..413856f  main -> main\n"
     ]
    },
    {
     "name": "stdout",
     "output_type": "stream",
     "text": [
      "   sleeping for 540s\n",
      "9 of 100000\n",
      "   recording for 60s; saving to /home/pi/good-vibrations/data/gpepp/2022-05-23T14:34:23.999.wav\n",
      "   uploading data to GitHub\n",
      "Already up to date.\n",
      "[main 74ed9c9] record_wav\n",
      " 2 files changed, 21 insertions(+), 1 deletion(-)\n",
      " create mode 100644 data/gpepp/2022-05-23T14:34:23.999.wav\n"
     ]
    },
    {
     "name": "stderr",
     "output_type": "stream",
     "text": [
      "To https://github.com/aubreymoore/good-vibrations.git\n",
      "   413856f..74ed9c9  main -> main\n"
     ]
    },
    {
     "name": "stdout",
     "output_type": "stream",
     "text": [
      "   sleeping for 540s\n",
      "10 of 100000\n",
      "   recording for 60s; saving to /home/pi/good-vibrations/data/gpepp/2022-05-23T14:44:30.527.wav\n",
      "   uploading data to GitHub\n",
      "Already up to date.\n",
      "[main 72b35e3] record_wav\n",
      " 2 files changed, 22 insertions(+)\n",
      " create mode 100644 data/gpepp/2022-05-23T14:44:30.527.wav\n"
     ]
    },
    {
     "name": "stderr",
     "output_type": "stream",
     "text": [
      "To https://github.com/aubreymoore/good-vibrations.git\n",
      "   74ed9c9..72b35e3  main -> main\n"
     ]
    },
    {
     "name": "stdout",
     "output_type": "stream",
     "text": [
      "   sleeping for 540s\n",
      "11 of 100000\n",
      "   recording for 60s; saving to /home/pi/good-vibrations/data/gpepp/2022-05-23T14:54:36.769.wav\n",
      "   uploading data to GitHub\n",
      "Already up to date.\n",
      "[main c4f667f] record_wav\n",
      " 2 files changed, 22 insertions(+)\n",
      " create mode 100644 data/gpepp/2022-05-23T14:54:36.769.wav\n"
     ]
    },
    {
     "name": "stderr",
     "output_type": "stream",
     "text": [
      "To https://github.com/aubreymoore/good-vibrations.git\n",
      "   72b35e3..c4f667f  main -> main\n"
     ]
    },
    {
     "name": "stdout",
     "output_type": "stream",
     "text": [
      "   sleeping for 540s\n",
      "12 of 100000\n",
      "   recording for 60s; saving to /home/pi/good-vibrations/data/gpepp/2022-05-23T15:04:43.299.wav\n",
      "   uploading data to GitHub\n",
      "Already up to date.\n",
      "[main 253ef2f] record_wav\n",
      " 2 files changed, 22 insertions(+)\n",
      " create mode 100644 data/gpepp/2022-05-23T15:04:43.299.wav\n"
     ]
    },
    {
     "name": "stderr",
     "output_type": "stream",
     "text": [
      "To https://github.com/aubreymoore/good-vibrations.git\n",
      "   c4f667f..253ef2f  main -> main\n"
     ]
    },
    {
     "name": "stdout",
     "output_type": "stream",
     "text": [
      "   sleeping for 540s\n",
      "13 of 100000\n",
      "   recording for 60s; saving to /home/pi/good-vibrations/data/gpepp/2022-05-23T15:14:49.749.wav\n",
      "   uploading data to GitHub\n",
      "Already up to date.\n",
      "[main 0329d54] record_wav\n",
      " 2 files changed, 22 insertions(+)\n",
      " create mode 100644 data/gpepp/2022-05-23T15:14:49.749.wav\n"
     ]
    },
    {
     "name": "stderr",
     "output_type": "stream",
     "text": [
      "To https://github.com/aubreymoore/good-vibrations.git\n",
      "   253ef2f..0329d54  main -> main\n"
     ]
    },
    {
     "name": "stdout",
     "output_type": "stream",
     "text": [
      "   sleeping for 540s\n",
      "14 of 100000\n",
      "   recording for 60s; saving to /home/pi/good-vibrations/data/gpepp/2022-05-23T15:25:03.209.wav\n",
      "   uploading data to GitHub\n",
      "Already up to date.\n",
      "[main 121d958] record_wav\n",
      " 2 files changed, 22 insertions(+)\n",
      " create mode 100644 data/gpepp/2022-05-23T15:25:03.209.wav\n"
     ]
    },
    {
     "name": "stderr",
     "output_type": "stream",
     "text": [
      "To https://github.com/aubreymoore/good-vibrations.git\n",
      "   0329d54..121d958  main -> main\n"
     ]
    },
    {
     "name": "stdout",
     "output_type": "stream",
     "text": [
      "   sleeping for 540s\n",
      "15 of 100000\n",
      "   recording for 60s; saving to /home/pi/good-vibrations/data/gpepp/2022-05-23T15:35:09.767.wav\n",
      "   uploading data to GitHub\n",
      "Already up to date.\n",
      "[main f195805] record_wav\n",
      " 2 files changed, 22 insertions(+)\n",
      " create mode 100644 data/gpepp/2022-05-23T15:35:09.767.wav\n"
     ]
    },
    {
     "name": "stderr",
     "output_type": "stream",
     "text": [
      "To https://github.com/aubreymoore/good-vibrations.git\n",
      "   121d958..f195805  main -> main\n"
     ]
    },
    {
     "name": "stdout",
     "output_type": "stream",
     "text": [
      "   sleeping for 540s\n",
      "16 of 100000\n",
      "   recording for 60s; saving to /home/pi/good-vibrations/data/gpepp/2022-05-23T15:45:16.613.wav\n",
      "   uploading data to GitHub\n",
      "Already up to date.\n",
      "[main bf4dc2b] record_wav\n",
      " 2 files changed, 22 insertions(+)\n",
      " create mode 100644 data/gpepp/2022-05-23T15:45:16.613.wav\n"
     ]
    },
    {
     "name": "stderr",
     "output_type": "stream",
     "text": [
      "To https://github.com/aubreymoore/good-vibrations.git\n",
      "   f195805..bf4dc2b  main -> main\n"
     ]
    },
    {
     "name": "stdout",
     "output_type": "stream",
     "text": [
      "   sleeping for 540s\n",
      "17 of 100000\n",
      "   recording for 60s; saving to /home/pi/good-vibrations/data/gpepp/2022-05-23T15:55:23.886.wav\n",
      "   uploading data to GitHub\n",
      "Already up to date.\n",
      "[main 8e9abc2] record_wav\n",
      " 2 files changed, 22 insertions(+)\n",
      " create mode 100644 data/gpepp/2022-05-23T15:55:23.886.wav\n"
     ]
    },
    {
     "name": "stderr",
     "output_type": "stream",
     "text": [
      "To https://github.com/aubreymoore/good-vibrations.git\n",
      "   bf4dc2b..8e9abc2  main -> main\n"
     ]
    },
    {
     "name": "stdout",
     "output_type": "stream",
     "text": [
      "   sleeping for 540s\n",
      "18 of 100000\n",
      "   recording for 60s; saving to /home/pi/good-vibrations/data/gpepp/2022-05-23T16:05:30.355.wav\n",
      "   uploading data to GitHub\n",
      "Already up to date.\n",
      "[main 97c1684] record_wav\n",
      " 2 files changed, 25 insertions(+), 1 deletion(-)\n",
      " create mode 100644 data/gpepp/2022-05-23T16:05:30.355.wav\n"
     ]
    },
    {
     "name": "stderr",
     "output_type": "stream",
     "text": [
      "To https://github.com/aubreymoore/good-vibrations.git\n",
      "   8e9abc2..97c1684  main -> main\n"
     ]
    },
    {
     "name": "stdout",
     "output_type": "stream",
     "text": [
      "   sleeping for 540s\n",
      "19 of 100000\n",
      "   recording for 60s; saving to /home/pi/good-vibrations/data/gpepp/2022-05-23T16:15:36.710.wav\n",
      "   uploading data to GitHub\n",
      "Already up to date.\n",
      "[main 15f9a22] record_wav\n",
      " 2 files changed, 23 insertions(+), 1 deletion(-)\n",
      " create mode 100644 data/gpepp/2022-05-23T16:15:36.710.wav\n"
     ]
    },
    {
     "name": "stderr",
     "output_type": "stream",
     "text": [
      "To https://github.com/aubreymoore/good-vibrations.git\n",
      "   97c1684..15f9a22  main -> main\n"
     ]
    },
    {
     "name": "stdout",
     "output_type": "stream",
     "text": [
      "   sleeping for 540s\n",
      "20 of 100000\n",
      "   recording for 60s; saving to /home/pi/good-vibrations/data/gpepp/2022-05-23T16:25:43.933.wav\n",
      "   uploading data to GitHub\n",
      "Already up to date.\n",
      "[main adcdb6e] record_wav\n",
      " 2 files changed, 23 insertions(+), 1 deletion(-)\n",
      " create mode 100644 data/gpepp/2022-05-23T16:25:43.933.wav\n"
     ]
    },
    {
     "name": "stderr",
     "output_type": "stream",
     "text": [
      "To https://github.com/aubreymoore/good-vibrations.git\n",
      "   15f9a22..adcdb6e  main -> main\n"
     ]
    },
    {
     "name": "stdout",
     "output_type": "stream",
     "text": [
      "   sleeping for 540s\n",
      "21 of 100000\n",
      "   recording for 60s; saving to /home/pi/good-vibrations/data/gpepp/2022-05-23T16:35:50.399.wav\n",
      "   uploading data to GitHub\n",
      "Already up to date.\n",
      "[main 7d81350] record_wav\n",
      " 2 files changed, 23 insertions(+), 1 deletion(-)\n",
      " create mode 100644 data/gpepp/2022-05-23T16:35:50.399.wav\n"
     ]
    },
    {
     "name": "stderr",
     "output_type": "stream",
     "text": [
      "To https://github.com/aubreymoore/good-vibrations.git\n",
      "   adcdb6e..7d81350  main -> main\n"
     ]
    },
    {
     "name": "stdout",
     "output_type": "stream",
     "text": [
      "   sleeping for 540s\n",
      "22 of 100000\n",
      "   recording for 60s; saving to /home/pi/good-vibrations/data/gpepp/2022-05-23T16:45:57.249.wav\n",
      "   uploading data to GitHub\n",
      "Already up to date.\n",
      "[main 5f6e3f6] record_wav\n",
      " 2 files changed, 23 insertions(+), 1 deletion(-)\n",
      " create mode 100644 data/gpepp/2022-05-23T16:45:57.249.wav\n"
     ]
    },
    {
     "name": "stderr",
     "output_type": "stream",
     "text": [
      "To https://github.com/aubreymoore/good-vibrations.git\n",
      "   7d81350..5f6e3f6  main -> main\n"
     ]
    },
    {
     "name": "stdout",
     "output_type": "stream",
     "text": [
      "   sleeping for 540s\n",
      "23 of 100000\n",
      "   recording for 60s; saving to /home/pi/good-vibrations/data/gpepp/2022-05-23T16:56:08.819.wav\n",
      "   uploading data to GitHub\n",
      "Already up to date.\n",
      "[main 8e3f9fa] record_wav\n",
      " 2 files changed, 23 insertions(+), 1 deletion(-)\n",
      " create mode 100644 data/gpepp/2022-05-23T16:56:08.819.wav\n"
     ]
    },
    {
     "name": "stderr",
     "output_type": "stream",
     "text": [
      "To https://github.com/aubreymoore/good-vibrations.git\n",
      "   5f6e3f6..8e3f9fa  main -> main\n"
     ]
    },
    {
     "name": "stdout",
     "output_type": "stream",
     "text": [
      "   sleeping for 540s\n",
      "24 of 100000\n",
      "   recording for 60s; saving to /home/pi/good-vibrations/data/gpepp/2022-05-23T17:06:15.366.wav\n",
      "   uploading data to GitHub\n",
      "Already up to date.\n",
      "[main 4d72342] record_wav\n",
      " 2 files changed, 23 insertions(+), 1 deletion(-)\n",
      " create mode 100644 data/gpepp/2022-05-23T17:06:15.366.wav\n"
     ]
    },
    {
     "name": "stderr",
     "output_type": "stream",
     "text": [
      "To https://github.com/aubreymoore/good-vibrations.git\n",
      "   8e3f9fa..4d72342  main -> main\n"
     ]
    },
    {
     "name": "stdout",
     "output_type": "stream",
     "text": [
      "   sleeping for 540s\n",
      "25 of 100000\n",
      "   recording for 60s; saving to /home/pi/good-vibrations/data/gpepp/2022-05-23T17:16:23.722.wav\n",
      "   uploading data to GitHub\n",
      "Already up to date.\n",
      "[main 2aaba0e] record_wav\n",
      " 2 files changed, 23 insertions(+), 1 deletion(-)\n",
      " create mode 100644 data/gpepp/2022-05-23T17:16:23.722.wav\n"
     ]
    },
    {
     "name": "stderr",
     "output_type": "stream",
     "text": [
      "To https://github.com/aubreymoore/good-vibrations.git\n",
      "   4d72342..2aaba0e  main -> main\n"
     ]
    },
    {
     "name": "stdout",
     "output_type": "stream",
     "text": [
      "   sleeping for 540s\n",
      "26 of 100000\n",
      "   recording for 60s; saving to /home/pi/good-vibrations/data/gpepp/2022-05-23T17:26:31.889.wav\n",
      "   uploading data to GitHub\n",
      "Already up to date.\n",
      "[main 96b8209] record_wav\n",
      " 2 files changed, 23 insertions(+), 1 deletion(-)\n",
      " create mode 100644 data/gpepp/2022-05-23T17:26:31.889.wav\n"
     ]
    },
    {
     "name": "stderr",
     "output_type": "stream",
     "text": [
      "To https://github.com/aubreymoore/good-vibrations.git\n",
      "   2aaba0e..96b8209  main -> main\n"
     ]
    },
    {
     "name": "stdout",
     "output_type": "stream",
     "text": [
      "   sleeping for 540s\n",
      "27 of 100000\n",
      "   recording for 60s; saving to /home/pi/good-vibrations/data/gpepp/2022-05-23T17:36:39.950.wav\n",
      "   uploading data to GitHub\n"
     ]
    },
    {
     "name": "stderr",
     "output_type": "stream",
     "text": [
      "fatal: unable to access 'https://github.com/aubreymoore/good-vibrations.git/': Could not resolve host: github.com\n"
     ]
    },
    {
     "name": "stdout",
     "output_type": "stream",
     "text": [
      "[main 0d9c507] record_wav\n",
      " 2 files changed, 21 insertions(+), 1 deletion(-)\n",
      " create mode 100644 data/gpepp/2022-05-23T17:36:39.950.wav\n",
      "   sleeping for 540s\n"
     ]
    },
    {
     "name": "stderr",
     "output_type": "stream",
     "text": [
      "fatal: unable to access 'https://github.com/aubreymoore/good-vibrations.git/': Could not resolve host: github.com\n"
     ]
    },
    {
     "name": "stdout",
     "output_type": "stream",
     "text": [
      "28 of 100000\n",
      "   recording for 60s; saving to /home/pi/good-vibrations/data/gpepp/2022-05-23T17:46:40.598.wav\n",
      "   uploading data to GitHub\n",
      "Already up to date.\n",
      "[main d4e7d8e] record_wav\n",
      " 2 files changed, 27 insertions(+)\n",
      " create mode 100644 data/gpepp/2022-05-23T17:46:40.598.wav\n"
     ]
    },
    {
     "name": "stderr",
     "output_type": "stream",
     "text": [
      "To https://github.com/aubreymoore/good-vibrations.git\n",
      "   96b8209..d4e7d8e  main -> main\n"
     ]
    },
    {
     "name": "stdout",
     "output_type": "stream",
     "text": [
      "   sleeping for 540s\n",
      "29 of 100000\n",
      "   recording for 60s; saving to /home/pi/good-vibrations/data/gpepp/2022-05-23T17:56:49.079.wav\n",
      "   uploading data to GitHub\n"
     ]
    },
    {
     "name": "stderr",
     "output_type": "stream",
     "text": [
      "fatal: unable to access 'https://github.com/aubreymoore/good-vibrations.git/': Could not resolve host: github.com\n"
     ]
    },
    {
     "name": "stdout",
     "output_type": "stream",
     "text": [
      "[main 03d60f3] record_wav\n",
      " 2 files changed, 28 insertions(+)\n",
      " create mode 100644 data/gpepp/2022-05-23T17:56:49.079.wav\n",
      "   sleeping for 540s\n"
     ]
    },
    {
     "name": "stderr",
     "output_type": "stream",
     "text": [
      "fatal: unable to access 'https://github.com/aubreymoore/good-vibrations.git/': Could not resolve host: github.com\n"
     ]
    },
    {
     "name": "stdout",
     "output_type": "stream",
     "text": [
      "30 of 100000\n",
      "   recording for 60s; saving to /home/pi/good-vibrations/data/gpepp/2022-05-23T18:06:49.749.wav\n",
      "   uploading data to GitHub\n",
      "Already up to date.\n",
      "[main b9a67bf] record_wav\n",
      " 2 files changed, 27 insertions(+)\n",
      " create mode 100644 data/gpepp/2022-05-23T18:06:49.749.wav\n"
     ]
    },
    {
     "name": "stderr",
     "output_type": "stream",
     "text": [
      "To https://github.com/aubreymoore/good-vibrations.git\n",
      "   d4e7d8e..b9a67bf  main -> main\n"
     ]
    },
    {
     "name": "stdout",
     "output_type": "stream",
     "text": [
      "   sleeping for 540s\n",
      "31 of 100000\n",
      "   recording for 60s; saving to /home/pi/good-vibrations/data/gpepp/2022-05-23T18:17:05.189.wav\n",
      "   uploading data to GitHub\n",
      "Already up to date.\n",
      "[main 5b32679] record_wav\n",
      " 2 files changed, 28 insertions(+)\n",
      " create mode 100644 data/gpepp/2022-05-23T18:17:05.189.wav\n"
     ]
    },
    {
     "name": "stderr",
     "output_type": "stream",
     "text": [
      "To https://github.com/aubreymoore/good-vibrations.git\n",
      "   b9a67bf..5b32679  main -> main\n"
     ]
    },
    {
     "name": "stdout",
     "output_type": "stream",
     "text": [
      "   sleeping for 540s\n",
      "32 of 100000\n",
      "   recording for 60s; saving to /home/pi/good-vibrations/data/gpepp/2022-05-23T18:27:11.839.wav\n",
      "   uploading data to GitHub\n",
      "Already up to date.\n",
      "[main e46ef6e] record_wav\n",
      " 2 files changed, 22 insertions(+)\n",
      " create mode 100644 data/gpepp/2022-05-23T18:27:11.839.wav\n"
     ]
    },
    {
     "name": "stderr",
     "output_type": "stream",
     "text": [
      "To https://github.com/aubreymoore/good-vibrations.git\n",
      "   5b32679..e46ef6e  main -> main\n"
     ]
    },
    {
     "name": "stdout",
     "output_type": "stream",
     "text": [
      "   sleeping for 540s\n",
      "33 of 100000\n",
      "   recording for 60s; saving to /home/pi/good-vibrations/data/gpepp/2022-05-23T18:37:19.179.wav\n",
      "   uploading data to GitHub\n",
      "Already up to date.\n",
      "[main 9d9598a] record_wav\n",
      " 2 files changed, 22 insertions(+)\n",
      " create mode 100644 data/gpepp/2022-05-23T18:37:19.179.wav\n"
     ]
    },
    {
     "name": "stderr",
     "output_type": "stream",
     "text": [
      "To https://github.com/aubreymoore/good-vibrations.git\n",
      "   e46ef6e..9d9598a  main -> main\n"
     ]
    },
    {
     "name": "stdout",
     "output_type": "stream",
     "text": [
      "   sleeping for 540s\n",
      "34 of 100000\n",
      "   recording for 60s; saving to /home/pi/good-vibrations/data/gpepp/2022-05-23T18:47:25.529.wav\n",
      "   uploading data to GitHub\n",
      "Already up to date.\n",
      "[main 85d1475] record_wav\n",
      " 2 files changed, 22 insertions(+)\n",
      " create mode 100644 data/gpepp/2022-05-23T18:47:25.529.wav\n"
     ]
    },
    {
     "name": "stderr",
     "output_type": "stream",
     "text": [
      "To https://github.com/aubreymoore/good-vibrations.git\n",
      "   9d9598a..85d1475  main -> main\n"
     ]
    },
    {
     "name": "stdout",
     "output_type": "stream",
     "text": [
      "   sleeping for 540s\n",
      "35 of 100000\n",
      "   recording for 60s; saving to /home/pi/good-vibrations/data/gpepp/2022-05-23T18:57:32.172.wav\n",
      "   uploading data to GitHub\n",
      "Already up to date.\n",
      "[main b274ee6] record_wav\n",
      " 2 files changed, 22 insertions(+)\n",
      " create mode 100644 data/gpepp/2022-05-23T18:57:32.172.wav\n"
     ]
    },
    {
     "name": "stderr",
     "output_type": "stream",
     "text": [
      "To https://github.com/aubreymoore/good-vibrations.git\n",
      "   85d1475..b274ee6  main -> main\n"
     ]
    },
    {
     "name": "stdout",
     "output_type": "stream",
     "text": [
      "   sleeping for 540s\n",
      "36 of 100000\n",
      "   recording for 60s; saving to /home/pi/good-vibrations/data/gpepp/2022-05-23T19:07:38.639.wav\n",
      "   uploading data to GitHub\n",
      "Already up to date.\n",
      "[main 29476a2] record_wav\n",
      " 2 files changed, 22 insertions(+)\n",
      " create mode 100644 data/gpepp/2022-05-23T19:07:38.639.wav\n"
     ]
    },
    {
     "name": "stderr",
     "output_type": "stream",
     "text": [
      "To https://github.com/aubreymoore/good-vibrations.git\n",
      "   b274ee6..29476a2  main -> main\n"
     ]
    },
    {
     "name": "stdout",
     "output_type": "stream",
     "text": [
      "   sleeping for 540s\n",
      "37 of 100000\n",
      "   recording for 60s; saving to /home/pi/good-vibrations/data/gpepp/2022-05-23T19:17:45.749.wav\n",
      "   uploading data to GitHub\n"
     ]
    },
    {
     "name": "stderr",
     "output_type": "stream",
     "text": [
      "fatal: unable to access 'https://github.com/aubreymoore/good-vibrations.git/': Could not resolve host: github.com\n"
     ]
    },
    {
     "name": "stdout",
     "output_type": "stream",
     "text": [
      "[main bbcb8ae] record_wav\n",
      " 2 files changed, 25 insertions(+), 1 deletion(-)\n",
      " create mode 100644 data/gpepp/2022-05-23T19:17:45.749.wav\n"
     ]
    },
    {
     "name": "stderr",
     "output_type": "stream",
     "text": [
      "fatal: unable to access 'https://github.com/aubreymoore/good-vibrations.git/': Could not resolve host: github.com\n"
     ]
    },
    {
     "name": "stdout",
     "output_type": "stream",
     "text": [
      "   sleeping for 540s\n",
      "38 of 100000\n",
      "   recording for 60s; saving to /home/pi/good-vibrations/data/gpepp/2022-05-23T19:28:06.508.wav\n",
      "   uploading data to GitHub\n"
     ]
    },
    {
     "name": "stderr",
     "output_type": "stream",
     "text": [
      "fatal: unable to access 'https://github.com/aubreymoore/good-vibrations.git/': Could not resolve host: github.com\n"
     ]
    },
    {
     "name": "stdout",
     "output_type": "stream",
     "text": [
      "[main cb38e4b] record_wav\n",
      " 2 files changed, 34 insertions(+), 1 deletion(-)\n",
      " create mode 100644 data/gpepp/2022-05-23T19:28:06.508.wav\n"
     ]
    },
    {
     "name": "stderr",
     "output_type": "stream",
     "text": [
      "fatal: unable to access 'https://github.com/aubreymoore/good-vibrations.git/': Could not resolve host: github.com\n"
     ]
    },
    {
     "name": "stdout",
     "output_type": "stream",
     "text": [
      "   sleeping for 540s\n",
      "39 of 100000\n",
      "   recording for 60s; saving to /home/pi/good-vibrations/data/gpepp/2022-05-23T19:38:27.349.wav\n",
      "   uploading data to GitHub\n"
     ]
    },
    {
     "name": "stderr",
     "output_type": "stream",
     "text": [
      "fatal: unable to access 'https://github.com/aubreymoore/good-vibrations.git/': Could not resolve host: github.com\n"
     ]
    },
    {
     "name": "stdout",
     "output_type": "stream",
     "text": [
      "[main edb91b3] record_wav\n",
      " 2 files changed, 34 insertions(+), 1 deletion(-)\n",
      " create mode 100644 data/gpepp/2022-05-23T19:38:27.349.wav\n"
     ]
    },
    {
     "name": "stderr",
     "output_type": "stream",
     "text": [
      "fatal: unable to access 'https://github.com/aubreymoore/good-vibrations.git/': Could not resolve host: github.com\n"
     ]
    },
    {
     "name": "stdout",
     "output_type": "stream",
     "text": [
      "   sleeping for 540s\n",
      "40 of 100000\n",
      "   recording for 60s; saving to /home/pi/good-vibrations/data/gpepp/2022-05-23T19:48:48.130.wav\n",
      "   uploading data to GitHub\n",
      "Already up to date.\n",
      "[main 0c30576] record_wav\n",
      " 2 files changed, 32 insertions(+), 1 deletion(-)\n",
      " create mode 100644 data/gpepp/2022-05-23T19:48:48.130.wav\n"
     ]
    },
    {
     "name": "stderr",
     "output_type": "stream",
     "text": [
      "To https://github.com/aubreymoore/good-vibrations.git\n",
      "   29476a2..0c30576  main -> main\n"
     ]
    },
    {
     "name": "stdout",
     "output_type": "stream",
     "text": [
      "   sleeping for 540s\n",
      "41 of 100000\n",
      "   recording for 60s; saving to /home/pi/good-vibrations/data/gpepp/2022-05-23T19:58:57.370.wav\n",
      "   uploading data to GitHub\n",
      "Already up to date.\n",
      "[main 5a9b5ca] record_wav\n",
      " 2 files changed, 22 insertions(+)\n",
      " create mode 100644 data/gpepp/2022-05-23T19:58:57.370.wav\n"
     ]
    },
    {
     "name": "stderr",
     "output_type": "stream",
     "text": [
      "To https://github.com/aubreymoore/good-vibrations.git\n",
      "   0c30576..5a9b5ca  main -> main\n"
     ]
    },
    {
     "name": "stdout",
     "output_type": "stream",
     "text": [
      "   sleeping for 540s\n",
      "42 of 100000\n",
      "   recording for 60s; saving to /home/pi/good-vibrations/data/gpepp/2022-05-23T20:09:04.143.wav\n",
      "   uploading data to GitHub\n",
      "Already up to date.\n",
      "[main d8a4d81] record_wav\n",
      " 2 files changed, 22 insertions(+)\n",
      " create mode 100644 data/gpepp/2022-05-23T20:09:04.143.wav\n"
     ]
    },
    {
     "name": "stderr",
     "output_type": "stream",
     "text": [
      "To https://github.com/aubreymoore/good-vibrations.git\n",
      "   5a9b5ca..d8a4d81  main -> main\n"
     ]
    },
    {
     "name": "stdout",
     "output_type": "stream",
     "text": [
      "   sleeping for 540s\n",
      "43 of 100000\n",
      "   recording for 60s; saving to /home/pi/good-vibrations/data/gpepp/2022-05-23T20:19:10.699.wav\n",
      "   uploading data to GitHub\n",
      "Already up to date.\n",
      "[main 2d0f2d8] record_wav\n",
      " 2 files changed, 22 insertions(+)\n",
      " create mode 100644 data/gpepp/2022-05-23T20:19:10.699.wav\n"
     ]
    },
    {
     "name": "stderr",
     "output_type": "stream",
     "text": [
      "To https://github.com/aubreymoore/good-vibrations.git\n",
      "   d8a4d81..2d0f2d8  main -> main\n"
     ]
    },
    {
     "name": "stdout",
     "output_type": "stream",
     "text": [
      "   sleeping for 540s\n",
      "44 of 100000\n",
      "   recording for 60s; saving to /home/pi/good-vibrations/data/gpepp/2022-05-23T20:29:17.655.wav\n",
      "   uploading data to GitHub\n",
      "Already up to date.\n",
      "[main c0aeb01] record_wav\n",
      " 2 files changed, 22 insertions(+)\n",
      " create mode 100644 data/gpepp/2022-05-23T20:29:17.655.wav\n"
     ]
    },
    {
     "name": "stderr",
     "output_type": "stream",
     "text": [
      "To https://github.com/aubreymoore/good-vibrations.git\n",
      "   2d0f2d8..c0aeb01  main -> main\n"
     ]
    },
    {
     "name": "stdout",
     "output_type": "stream",
     "text": [
      "   sleeping for 540s\n",
      "45 of 100000\n",
      "   recording for 60s; saving to /home/pi/good-vibrations/data/gpepp/2022-05-23T20:39:24.685.wav\n",
      "   uploading data to GitHub\n",
      "Already up to date.\n",
      "[main 3ded042] record_wav\n",
      " 2 files changed, 22 insertions(+)\n",
      " create mode 100644 data/gpepp/2022-05-23T20:39:24.685.wav\n"
     ]
    },
    {
     "name": "stderr",
     "output_type": "stream",
     "text": [
      "To https://github.com/aubreymoore/good-vibrations.git\n",
      "   c0aeb01..3ded042  main -> main\n"
     ]
    },
    {
     "name": "stdout",
     "output_type": "stream",
     "text": [
      "   sleeping for 540s\n",
      "46 of 100000\n",
      "   recording for 60s; saving to /home/pi/good-vibrations/data/gpepp/2022-05-23T20:49:30.999.wav\n",
      "   uploading data to GitHub\n",
      "Already up to date.\n",
      "[main 9cea9a6] record_wav\n",
      " 2 files changed, 22 insertions(+)\n",
      " create mode 100644 data/gpepp/2022-05-23T20:49:30.999.wav\n"
     ]
    },
    {
     "name": "stderr",
     "output_type": "stream",
     "text": [
      "To https://github.com/aubreymoore/good-vibrations.git\n",
      "   3ded042..9cea9a6  main -> main\n"
     ]
    },
    {
     "name": "stdout",
     "output_type": "stream",
     "text": [
      "   sleeping for 540s\n",
      "47 of 100000\n",
      "   recording for 60s; saving to /home/pi/good-vibrations/data/gpepp/2022-05-23T20:59:37.729.wav\n",
      "   uploading data to GitHub\n"
     ]
    },
    {
     "name": "stderr",
     "output_type": "stream",
     "text": [
      "fatal: unable to access 'https://github.com/aubreymoore/good-vibrations.git/': Could not resolve host: github.com\n"
     ]
    },
    {
     "name": "stdout",
     "output_type": "stream",
     "text": [
      "[main 43a9e72] record_wav\n",
      " 2 files changed, 22 insertions(+)\n",
      " create mode 100644 data/gpepp/2022-05-23T20:59:37.729.wav\n"
     ]
    },
    {
     "name": "stderr",
     "output_type": "stream",
     "text": [
      "To https://github.com/aubreymoore/good-vibrations.git\n",
      "   9cea9a6..43a9e72  main -> main\n"
     ]
    },
    {
     "name": "stdout",
     "output_type": "stream",
     "text": [
      "   sleeping for 540s\n",
      "48 of 100000\n",
      "   recording for 60s; saving to /home/pi/good-vibrations/data/gpepp/2022-05-23T21:09:44.709.wav\n",
      "   uploading data to GitHub\n",
      "Already up to date.\n",
      "[main 3890641] record_wav\n",
      " 2 files changed, 34 insertions(+)\n",
      " create mode 100644 data/gpepp/2022-05-23T21:09:44.709.wav\n"
     ]
    },
    {
     "name": "stderr",
     "output_type": "stream",
     "text": [
      "To https://github.com/aubreymoore/good-vibrations.git\n",
      "   43a9e72..3890641  main -> main\n"
     ]
    },
    {
     "name": "stdout",
     "output_type": "stream",
     "text": [
      "   sleeping for 540s\n",
      "49 of 100000\n",
      "   recording for 60s; saving to /home/pi/good-vibrations/data/gpepp/2022-05-23T21:19:51.383.wav\n",
      "   uploading data to GitHub\n",
      "Already up to date.\n",
      "[main 446d332] record_wav\n",
      " 2 files changed, 26 insertions(+), 1 deletion(-)\n",
      " create mode 100644 data/gpepp/2022-05-23T21:19:51.383.wav\n"
     ]
    },
    {
     "name": "stderr",
     "output_type": "stream",
     "text": [
      "To https://github.com/aubreymoore/good-vibrations.git\n",
      "   3890641..446d332  main -> main\n"
     ]
    },
    {
     "name": "stdout",
     "output_type": "stream",
     "text": [
      "   sleeping for 540s\n",
      "50 of 100000\n",
      "   recording for 60s; saving to /home/pi/good-vibrations/data/gpepp/2022-05-23T21:29:57.699.wav\n",
      "   uploading data to GitHub\n",
      "Already up to date.\n",
      "[main 408ef16] record_wav\n",
      " 2 files changed, 22 insertions(+), 1 deletion(-)\n",
      " create mode 100644 data/gpepp/2022-05-23T21:29:57.699.wav\n"
     ]
    },
    {
     "name": "stderr",
     "output_type": "stream",
     "text": [
      "To https://github.com/aubreymoore/good-vibrations.git\n",
      "   446d332..408ef16  main -> main\n"
     ]
    },
    {
     "name": "stdout",
     "output_type": "stream",
     "text": [
      "   sleeping for 540s\n",
      "51 of 100000\n",
      "   recording for 60s; saving to /home/pi/good-vibrations/data/gpepp/2022-05-23T21:40:04.108.wav\n",
      "   uploading data to GitHub\n",
      "Already up to date.\n",
      "[main 2cc3b4d] record_wav\n",
      " 2 files changed, 23 insertions(+), 1 deletion(-)\n",
      " create mode 100644 data/gpepp/2022-05-23T21:40:04.108.wav\n"
     ]
    },
    {
     "name": "stderr",
     "output_type": "stream",
     "text": [
      "To https://github.com/aubreymoore/good-vibrations.git\n",
      "   408ef16..2cc3b4d  main -> main\n"
     ]
    },
    {
     "name": "stdout",
     "output_type": "stream",
     "text": [
      "   sleeping for 540s\n",
      "52 of 100000\n",
      "   recording for 60s; saving to /home/pi/good-vibrations/data/gpepp/2022-05-23T21:50:45.829.wav\n",
      "   uploading data to GitHub\n"
     ]
    },
    {
     "name": "stderr",
     "output_type": "stream",
     "text": [
      "fatal: unable to access 'https://github.com/aubreymoore/good-vibrations.git/': Could not resolve host: github.com\n"
     ]
    },
    {
     "name": "stdout",
     "output_type": "stream",
     "text": [
      "[main 111d786] record_wav\n",
      " 2 files changed, 23 insertions(+), 1 deletion(-)\n",
      " create mode 100644 data/gpepp/2022-05-23T21:50:45.829.wav\n",
      "   sleeping for 540s\n"
     ]
    },
    {
     "name": "stderr",
     "output_type": "stream",
     "text": [
      "fatal: unable to access 'https://github.com/aubreymoore/good-vibrations.git/': Could not resolve host: github.com\n"
     ]
    },
    {
     "name": "stdout",
     "output_type": "stream",
     "text": [
      "53 of 100000\n",
      "   recording for 60s; saving to /home/pi/good-vibrations/data/gpepp/2022-05-23T22:00:56.469.wav\n",
      "   uploading data to GitHub\n"
     ]
    },
    {
     "name": "stderr",
     "output_type": "stream",
     "text": [
      "fatal: unable to access 'https://github.com/aubreymoore/good-vibrations.git/': Could not resolve host: github.com\n"
     ]
    },
    {
     "name": "stdout",
     "output_type": "stream",
     "text": [
      "[main 591c673] record_wav\n",
      " 2 files changed, 26 insertions(+), 1 deletion(-)\n",
      " create mode 100644 data/gpepp/2022-05-23T22:00:56.469.wav\n",
      "   sleeping for 540s\n"
     ]
    },
    {
     "name": "stderr",
     "output_type": "stream",
     "text": [
      "fatal: unable to access 'https://github.com/aubreymoore/good-vibrations.git/': Could not resolve host: github.com\n"
     ]
    },
    {
     "name": "stdout",
     "output_type": "stream",
     "text": [
      "54 of 100000\n",
      "   recording for 60s; saving to /home/pi/good-vibrations/data/gpepp/2022-05-23T22:10:57.115.wav\n",
      "   uploading data to GitHub\n",
      "Already up to date.\n",
      "[main 3c98964] record_wav\n",
      " 2 files changed, 33 insertions(+)\n",
      " create mode 100644 data/gpepp/2022-05-23T22:10:57.115.wav\n"
     ]
    },
    {
     "name": "stderr",
     "output_type": "stream",
     "text": [
      "To https://github.com/aubreymoore/good-vibrations.git\n",
      "   2cc3b4d..3c98964  main -> main\n"
     ]
    },
    {
     "name": "stdout",
     "output_type": "stream",
     "text": [
      "   sleeping for 540s\n",
      "55 of 100000\n",
      "   recording for 60s; saving to /home/pi/good-vibrations/data/gpepp/2022-05-23T22:21:05.249.wav\n",
      "   uploading data to GitHub\n",
      "Already up to date.\n",
      "[main 9cd5f18] record_wav\n",
      " 2 files changed, 28 insertions(+)\n",
      " create mode 100644 data/gpepp/2022-05-23T22:21:05.249.wav\n"
     ]
    },
    {
     "name": "stderr",
     "output_type": "stream",
     "text": [
      "To https://github.com/aubreymoore/good-vibrations.git\n",
      "   3c98964..9cd5f18  main -> main\n"
     ]
    },
    {
     "name": "stdout",
     "output_type": "stream",
     "text": [
      "   sleeping for 540s\n",
      "56 of 100000\n",
      "   recording for 60s; saving to /home/pi/good-vibrations/data/gpepp/2022-05-23T22:31:11.939.wav\n",
      "   uploading data to GitHub\n",
      "Already up to date.\n",
      "[main b9a59de] record_wav\n",
      " 2 files changed, 22 insertions(+)\n",
      " create mode 100644 data/gpepp/2022-05-23T22:31:11.939.wav\n"
     ]
    },
    {
     "name": "stderr",
     "output_type": "stream",
     "text": [
      "To https://github.com/aubreymoore/good-vibrations.git\n",
      "   9cd5f18..b9a59de  main -> main\n"
     ]
    },
    {
     "name": "stdout",
     "output_type": "stream",
     "text": [
      "   sleeping for 540s\n",
      "57 of 100000\n",
      "   recording for 60s; saving to /home/pi/good-vibrations/data/gpepp/2022-05-23T22:41:18.499.wav\n",
      "   uploading data to GitHub\n",
      "Already up to date.\n",
      "[main c36c7e5] record_wav\n",
      " 2 files changed, 22 insertions(+)\n",
      " create mode 100644 data/gpepp/2022-05-23T22:41:18.499.wav\n"
     ]
    },
    {
     "name": "stderr",
     "output_type": "stream",
     "text": [
      "To https://github.com/aubreymoore/good-vibrations.git\n",
      "   b9a59de..c36c7e5  main -> main\n"
     ]
    },
    {
     "name": "stdout",
     "output_type": "stream",
     "text": [
      "   sleeping for 540s\n",
      "58 of 100000\n",
      "   recording for 60s; saving to /home/pi/good-vibrations/data/gpepp/2022-05-23T22:51:30.719.wav\n",
      "   uploading data to GitHub\n",
      "Already up to date.\n",
      "[main c6864ef] record_wav\n",
      " 2 files changed, 22 insertions(+)\n",
      " create mode 100644 data/gpepp/2022-05-23T22:51:30.719.wav\n"
     ]
    },
    {
     "name": "stderr",
     "output_type": "stream",
     "text": [
      "To https://github.com/aubreymoore/good-vibrations.git\n",
      "   c36c7e5..c6864ef  main -> main\n"
     ]
    },
    {
     "name": "stdout",
     "output_type": "stream",
     "text": [
      "   sleeping for 540s\n",
      "59 of 100000\n",
      "   recording for 60s; saving to /home/pi/good-vibrations/data/gpepp/2022-05-23T23:01:38.008.wav\n",
      "   uploading data to GitHub\n",
      "Already up to date.\n",
      "[main 7c016af] record_wav\n",
      " 2 files changed, 22 insertions(+)\n",
      " create mode 100644 data/gpepp/2022-05-23T23:01:38.008.wav\n"
     ]
    },
    {
     "name": "stderr",
     "output_type": "stream",
     "text": [
      "To https://github.com/aubreymoore/good-vibrations.git\n",
      "   c6864ef..7c016af  main -> main\n"
     ]
    },
    {
     "name": "stdout",
     "output_type": "stream",
     "text": [
      "   sleeping for 540s\n",
      "60 of 100000\n",
      "   recording for 60s; saving to /home/pi/good-vibrations/data/gpepp/2022-05-23T23:11:45.550.wav\n",
      "   uploading data to GitHub\n",
      "Already up to date.\n",
      "[main 3a09cc6] record_wav\n",
      " 2 files changed, 22 insertions(+)\n",
      " create mode 100644 data/gpepp/2022-05-23T23:11:45.550.wav\n"
     ]
    },
    {
     "name": "stderr",
     "output_type": "stream",
     "text": [
      "To https://github.com/aubreymoore/good-vibrations.git\n",
      "   7c016af..3a09cc6  main -> main\n"
     ]
    },
    {
     "name": "stdout",
     "output_type": "stream",
     "text": [
      "   sleeping for 540s\n",
      "61 of 100000\n",
      "   recording for 60s; saving to /home/pi/good-vibrations/data/gpepp/2022-05-23T23:22:03.489.wav\n",
      "   uploading data to GitHub\n",
      "Already up to date.\n",
      "[main e6886dc] record_wav\n",
      " 2 files changed, 25 insertions(+), 1 deletion(-)\n",
      " create mode 100644 data/gpepp/2022-05-23T23:22:03.489.wav\n"
     ]
    },
    {
     "name": "stderr",
     "output_type": "stream",
     "text": [
      "To https://github.com/aubreymoore/good-vibrations.git\n",
      "   3a09cc6..e6886dc  main -> main\n"
     ]
    },
    {
     "name": "stdout",
     "output_type": "stream",
     "text": [
      "   sleeping for 540s\n",
      "62 of 100000\n",
      "   recording for 60s; saving to /home/pi/good-vibrations/data/gpepp/2022-05-23T23:32:29.656.wav\n",
      "   uploading data to GitHub\n",
      "Already up to date.\n",
      "[main 01606ef] record_wav\n",
      " 2 files changed, 23 insertions(+), 1 deletion(-)\n",
      " create mode 100644 data/gpepp/2022-05-23T23:32:29.656.wav\n"
     ]
    },
    {
     "name": "stderr",
     "output_type": "stream",
     "text": [
      "To https://github.com/aubreymoore/good-vibrations.git\n",
      "   e6886dc..01606ef  main -> main\n"
     ]
    },
    {
     "name": "stdout",
     "output_type": "stream",
     "text": [
      "   sleeping for 540s\n",
      "63 of 100000\n",
      "   recording for 60s; saving to /home/pi/good-vibrations/data/gpepp/2022-05-23T23:43:02.869.wav\n",
      "   uploading data to GitHub\n",
      "Already up to date.\n",
      "[main d8111d9] record_wav\n",
      " 2 files changed, 21 insertions(+), 1 deletion(-)\n",
      " create mode 100644 data/gpepp/2022-05-23T23:43:02.869.wav\n"
     ]
    },
    {
     "name": "stderr",
     "output_type": "stream",
     "text": [
      "To https://github.com/aubreymoore/good-vibrations.git\n",
      "   01606ef..d8111d9  main -> main\n"
     ]
    },
    {
     "name": "stdout",
     "output_type": "stream",
     "text": [
      "   sleeping for 540s\n",
      "64 of 100000\n",
      "   recording for 60s; saving to /home/pi/good-vibrations/data/gpepp/2022-05-23T23:53:52.329.wav\n",
      "   uploading data to GitHub\n",
      "Already up to date.\n",
      "[main b3d9720] record_wav\n",
      " 2 files changed, 22 insertions(+)\n",
      " create mode 100644 data/gpepp/2022-05-23T23:53:52.329.wav\n"
     ]
    },
    {
     "name": "stderr",
     "output_type": "stream",
     "text": [
      "To https://github.com/aubreymoore/good-vibrations.git\n",
      "   d8111d9..b3d9720  main -> main\n"
     ]
    },
    {
     "name": "stdout",
     "output_type": "stream",
     "text": [
      "   sleeping for 540s\n",
      "65 of 100000\n",
      "   recording for 60s; saving to /home/pi/good-vibrations/data/gpepp/2022-05-24T00:04:44.004.wav\n",
      "   uploading data to GitHub\n",
      "Already up to date.\n",
      "[main dda4c61] record_wav\n",
      " 2 files changed, 25 insertions(+), 1 deletion(-)\n",
      " create mode 100644 data/gpepp/2022-05-24T00:04:44.004.wav\n"
     ]
    },
    {
     "name": "stderr",
     "output_type": "stream",
     "text": [
      "To https://github.com/aubreymoore/good-vibrations.git\n",
      "   b3d9720..dda4c61  main -> main\n"
     ]
    },
    {
     "name": "stdout",
     "output_type": "stream",
     "text": [
      "   sleeping for 540s\n",
      "66 of 100000\n",
      "   recording for 60s; saving to /home/pi/good-vibrations/data/gpepp/2022-05-24T00:15:53.025.wav\n",
      "   uploading data to GitHub\n",
      "Already up to date.\n",
      "[main e377b2d] record_wav\n",
      " 2 files changed, 21 insertions(+), 1 deletion(-)\n",
      " create mode 100644 data/gpepp/2022-05-24T00:15:53.025.wav\n"
     ]
    },
    {
     "name": "stderr",
     "output_type": "stream",
     "text": [
      "fatal: the remote end hung up unexpectedly\n",
      "fatal: the remote end hung up unexpectedly\n",
      "Everything up-to-date\n"
     ]
    },
    {
     "name": "stdout",
     "output_type": "stream",
     "text": [
      "   sleeping for 540s\n",
      "67 of 100000\n",
      "   recording for 60s; saving to /home/pi/good-vibrations/data/gpepp/2022-05-24T00:27:43.026.wav\n",
      "   uploading data to GitHub\n",
      "Already up to date.\n",
      "[main ba56ab2] record_wav\n",
      " 2 files changed, 23 insertions(+)\n",
      " create mode 100644 data/gpepp/2022-05-24T00:27:43.026.wav\n"
     ]
    },
    {
     "name": "stderr",
     "output_type": "stream",
     "text": [
      "To https://github.com/aubreymoore/good-vibrations.git\n",
      "   dda4c61..ba56ab2  main -> main\n"
     ]
    },
    {
     "name": "stdout",
     "output_type": "stream",
     "text": [
      "   sleeping for 540s\n",
      "68 of 100000\n",
      "   recording for 60s; saving to /home/pi/good-vibrations/data/gpepp/2022-05-24T00:38:29.699.wav\n",
      "   uploading data to GitHub\n",
      "Already up to date.\n",
      "[main 533c060] record_wav\n",
      " 2 files changed, 25 insertions(+), 1 deletion(-)\n",
      " create mode 100644 data/gpepp/2022-05-24T00:38:29.699.wav\n"
     ]
    },
    {
     "name": "stderr",
     "output_type": "stream",
     "text": [
      "To https://github.com/aubreymoore/good-vibrations.git\n",
      "   ba56ab2..533c060  main -> main\n"
     ]
    },
    {
     "name": "stdout",
     "output_type": "stream",
     "text": [
      "   sleeping for 540s\n",
      "69 of 100000\n",
      "   recording for 60s; saving to /home/pi/good-vibrations/data/gpepp/2022-05-24T00:48:36.359.wav\n",
      "   uploading data to GitHub\n",
      "Already up to date.\n",
      "[main b3e4a21] record_wav\n",
      " 2 files changed, 23 insertions(+), 1 deletion(-)\n",
      " create mode 100644 data/gpepp/2022-05-24T00:48:36.359.wav\n"
     ]
    },
    {
     "name": "stderr",
     "output_type": "stream",
     "text": [
      "To https://github.com/aubreymoore/good-vibrations.git\n",
      "   533c060..b3e4a21  main -> main\n"
     ]
    },
    {
     "name": "stdout",
     "output_type": "stream",
     "text": [
      "   sleeping for 540s\n",
      "70 of 100000\n",
      "   recording for 60s; saving to /home/pi/good-vibrations/data/gpepp/2022-05-24T00:58:46.039.wav\n",
      "   uploading data to GitHub\n",
      "Already up to date.\n",
      "[main 6d3df2a] record_wav\n",
      " 2 files changed, 23 insertions(+), 1 deletion(-)\n",
      " create mode 100644 data/gpepp/2022-05-24T00:58:46.039.wav\n"
     ]
    },
    {
     "name": "stderr",
     "output_type": "stream",
     "text": [
      "To https://github.com/aubreymoore/good-vibrations.git\n",
      "   b3e4a21..6d3df2a  main -> main\n"
     ]
    },
    {
     "name": "stdout",
     "output_type": "stream",
     "text": [
      "   sleeping for 540s\n",
      "71 of 100000\n",
      "   recording for 60s; saving to /home/pi/good-vibrations/data/gpepp/2022-05-24T01:09:05.189.wav\n",
      "   uploading data to GitHub\n",
      "Already up to date.\n",
      "[main 7f0ebfa] record_wav\n",
      " 2 files changed, 23 insertions(+), 1 deletion(-)\n",
      " create mode 100644 data/gpepp/2022-05-24T01:09:05.189.wav\n"
     ]
    },
    {
     "name": "stderr",
     "output_type": "stream",
     "text": [
      "To https://github.com/aubreymoore/good-vibrations.git\n",
      "   6d3df2a..7f0ebfa  main -> main\n"
     ]
    },
    {
     "name": "stdout",
     "output_type": "stream",
     "text": [
      "   sleeping for 540s\n",
      "72 of 100000\n",
      "   recording for 60s; saving to /home/pi/good-vibrations/data/gpepp/2022-05-24T01:19:37.103.wav\n",
      "   uploading data to GitHub\n",
      "Already up to date.\n",
      "[main c12a157] record_wav\n",
      " 2 files changed, 21 insertions(+), 1 deletion(-)\n",
      " create mode 100644 data/gpepp/2022-05-24T01:19:37.103.wav\n"
     ]
    },
    {
     "name": "stderr",
     "output_type": "stream",
     "text": [
      "To https://github.com/aubreymoore/good-vibrations.git\n",
      "   7f0ebfa..c12a157  main -> main\n"
     ]
    },
    {
     "name": "stdout",
     "output_type": "stream",
     "text": [
      "   sleeping for 540s\n",
      "73 of 100000\n",
      "   recording for 60s; saving to /home/pi/good-vibrations/data/gpepp/2022-05-24T01:30:15.694.wav\n",
      "   uploading data to GitHub\n",
      "Already up to date.\n",
      "[main b383c6c] record_wav\n",
      " 2 files changed, 25 insertions(+), 1 deletion(-)\n",
      " create mode 100644 data/gpepp/2022-05-24T01:30:15.694.wav\n"
     ]
    },
    {
     "name": "stderr",
     "output_type": "stream",
     "text": [
      "To https://github.com/aubreymoore/good-vibrations.git\n",
      "   c12a157..b383c6c  main -> main\n"
     ]
    },
    {
     "name": "stdout",
     "output_type": "stream",
     "text": [
      "   sleeping for 540s\n",
      "74 of 100000\n",
      "   recording for 60s; saving to /home/pi/good-vibrations/data/gpepp/2022-05-24T01:41:12.289.wav\n",
      "   uploading data to GitHub\n",
      "Already up to date.\n",
      "[main fcf67e4] record_wav\n",
      " 2 files changed, 21 insertions(+), 1 deletion(-)\n",
      " create mode 100644 data/gpepp/2022-05-24T01:41:12.289.wav\n"
     ]
    },
    {
     "name": "stderr",
     "output_type": "stream",
     "text": [
      "To https://github.com/aubreymoore/good-vibrations.git\n",
      "   b383c6c..fcf67e4  main -> main\n"
     ]
    },
    {
     "name": "stdout",
     "output_type": "stream",
     "text": [
      "   sleeping for 540s\n",
      "75 of 100000\n",
      "   recording for 60s; saving to /home/pi/good-vibrations/data/gpepp/2022-05-24T01:52:23.959.wav\n",
      "   uploading data to GitHub\n",
      "Already up to date.\n",
      "[main 840065d] record_wav\n",
      " 2 files changed, 25 insertions(+), 1 deletion(-)\n",
      " create mode 100644 data/gpepp/2022-05-24T01:52:23.959.wav\n"
     ]
    },
    {
     "name": "stderr",
     "output_type": "stream",
     "text": [
      "To https://github.com/aubreymoore/good-vibrations.git\n",
      "   fcf67e4..840065d  main -> main\n"
     ]
    },
    {
     "name": "stdout",
     "output_type": "stream",
     "text": [
      "   sleeping for 540s\n",
      "76 of 100000\n",
      "   recording for 60s; saving to /home/pi/good-vibrations/data/gpepp/2022-05-24T02:03:57.929.wav\n",
      "   uploading data to GitHub\n",
      "Already up to date.\n",
      "[main 63d7b66] record_wav\n",
      " 2 files changed, 21 insertions(+), 1 deletion(-)\n",
      " create mode 100644 data/gpepp/2022-05-24T02:03:57.929.wav\n"
     ]
    },
    {
     "name": "stderr",
     "output_type": "stream",
     "text": [
      "To https://github.com/aubreymoore/good-vibrations.git\n",
      "   840065d..63d7b66  main -> main\n"
     ]
    },
    {
     "name": "stdout",
     "output_type": "stream",
     "text": [
      "   sleeping for 540s\n",
      "77 of 100000\n",
      "   recording for 60s; saving to /home/pi/good-vibrations/data/gpepp/2022-05-24T02:15:35.744.wav\n",
      "   uploading data to GitHub\n",
      "Already up to date.\n",
      "[main 3a9b1cd] record_wav\n",
      " 2 files changed, 22 insertions(+)\n",
      " create mode 100644 data/gpepp/2022-05-24T02:15:35.744.wav\n"
     ]
    },
    {
     "name": "stderr",
     "output_type": "stream",
     "text": [
      "error: RPC failed; curl 92 HTTP/2 stream 0 was not closed cleanly: CANCEL (err 8)\n",
      "fatal: the remote end hung up unexpectedly\n",
      "fatal: the remote end hung up unexpectedly\n",
      "Everything up-to-date\n"
     ]
    },
    {
     "name": "stdout",
     "output_type": "stream",
     "text": [
      "   sleeping for 540s\n",
      "78 of 100000\n",
      "   recording for 60s; saving to /home/pi/good-vibrations/data/gpepp/2022-05-24T02:25:56.129.wav\n",
      "   uploading data to GitHub\n",
      "Already up to date.\n",
      "[main d265c22] record_wav\n",
      " 2 files changed, 24 insertions(+)\n",
      " create mode 100644 data/gpepp/2022-05-24T02:25:56.129.wav\n"
     ]
    },
    {
     "name": "stderr",
     "output_type": "stream",
     "text": [
      "error: RPC failed; curl 92 HTTP/2 stream 0 was not closed cleanly: CANCEL (err 8)\n",
      "fatal: the remote end hung up unexpectedly\n",
      "fatal: the remote end hung up unexpectedly\n",
      "Everything up-to-date\n"
     ]
    },
    {
     "name": "stdout",
     "output_type": "stream",
     "text": [
      "   sleeping for 540s\n",
      "79 of 100000\n",
      "   recording for 60s; saving to /home/pi/good-vibrations/data/gpepp/2022-05-24T02:37:37.620.wav\n",
      "   uploading data to GitHub\n",
      "Already up to date.\n",
      "[main 8e23c9c] record_wav\n",
      " 2 files changed, 24 insertions(+)\n",
      " create mode 100644 data/gpepp/2022-05-24T02:37:37.620.wav\n"
     ]
    },
    {
     "name": "stderr",
     "output_type": "stream",
     "text": [
      "To https://github.com/aubreymoore/good-vibrations.git\n",
      "   63d7b66..8e23c9c  main -> main\n"
     ]
    },
    {
     "name": "stdout",
     "output_type": "stream",
     "text": [
      "   sleeping for 540s\n",
      "80 of 100000\n",
      "   recording for 60s; saving to /home/pi/good-vibrations/data/gpepp/2022-05-24T02:47:58.799.wav\n",
      "   uploading data to GitHub\n",
      "Already up to date.\n",
      "[main c42e8a5] record_wav\n",
      " 2 files changed, 22 insertions(+)\n",
      " create mode 100644 data/gpepp/2022-05-24T02:47:58.799.wav\n"
     ]
    },
    {
     "name": "stderr",
     "output_type": "stream",
     "text": [
      "To https://github.com/aubreymoore/good-vibrations.git\n",
      "   8e23c9c..c42e8a5  main -> main\n"
     ]
    },
    {
     "name": "stdout",
     "output_type": "stream",
     "text": [
      "   sleeping for 540s\n",
      "81 of 100000\n",
      "   recording for 60s; saving to /home/pi/good-vibrations/data/gpepp/2022-05-24T02:58:05.413.wav\n",
      "   uploading data to GitHub\n",
      "Already up to date.\n",
      "[main d1b7005] record_wav\n",
      " 2 files changed, 22 insertions(+)\n",
      " create mode 100644 data/gpepp/2022-05-24T02:58:05.413.wav\n"
     ]
    },
    {
     "name": "stderr",
     "output_type": "stream",
     "text": [
      "To https://github.com/aubreymoore/good-vibrations.git\n",
      "   c42e8a5..d1b7005  main -> main\n"
     ]
    },
    {
     "name": "stdout",
     "output_type": "stream",
     "text": [
      "   sleeping for 540s\n",
      "82 of 100000\n",
      "   recording for 60s; saving to /home/pi/good-vibrations/data/gpepp/2022-05-24T03:08:12.579.wav\n",
      "   uploading data to GitHub\n",
      "Already up to date.\n",
      "[main 49d3f19] record_wav\n",
      " 2 files changed, 22 insertions(+)\n",
      " create mode 100644 data/gpepp/2022-05-24T03:08:12.579.wav\n"
     ]
    },
    {
     "name": "stderr",
     "output_type": "stream",
     "text": [
      "To https://github.com/aubreymoore/good-vibrations.git\n",
      "   d1b7005..49d3f19  main -> main\n"
     ]
    },
    {
     "name": "stdout",
     "output_type": "stream",
     "text": [
      "   sleeping for 540s\n",
      "83 of 100000\n",
      "   recording for 60s; saving to /home/pi/good-vibrations/data/gpepp/2022-05-24T03:18:19.358.wav\n",
      "   uploading data to GitHub\n"
     ]
    },
    {
     "name": "stderr",
     "output_type": "stream",
     "text": [
      "fatal: unable to access 'https://github.com/aubreymoore/good-vibrations.git/': Could not resolve host: github.com\n"
     ]
    },
    {
     "name": "stdout",
     "output_type": "stream",
     "text": [
      "[main a0501a6] record_wav\n",
      " 2 files changed, 22 insertions(+)\n",
      " create mode 100644 data/gpepp/2022-05-24T03:18:19.358.wav\n"
     ]
    },
    {
     "name": "stderr",
     "output_type": "stream",
     "text": [
      "To https://github.com/aubreymoore/good-vibrations.git\n",
      "   49d3f19..a0501a6  main -> main\n"
     ]
    },
    {
     "name": "stdout",
     "output_type": "stream",
     "text": [
      "   sleeping for 540s\n",
      "84 of 100000\n",
      "   recording for 60s; saving to /home/pi/good-vibrations/data/gpepp/2022-05-24T03:28:24.429.wav\n",
      "   uploading data to GitHub\n",
      "Already up to date.\n",
      "[main 457db16] record_wav\n",
      " 2 files changed, 37 insertions(+), 1 deletion(-)\n",
      " create mode 100644 data/gpepp/2022-05-24T03:28:24.429.wav\n"
     ]
    },
    {
     "name": "stderr",
     "output_type": "stream",
     "text": [
      "To https://github.com/aubreymoore/good-vibrations.git\n",
      "   a0501a6..457db16  main -> main\n"
     ]
    },
    {
     "name": "stdout",
     "output_type": "stream",
     "text": [
      "   sleeping for 540s\n",
      "85 of 100000\n",
      "   recording for 60s; saving to /home/pi/good-vibrations/data/gpepp/2022-05-24T03:38:31.024.wav\n",
      "   uploading data to GitHub\n",
      "Already up to date.\n",
      "[main e31292d] record_wav\n",
      " 2 files changed, 23 insertions(+), 1 deletion(-)\n",
      " create mode 100644 data/gpepp/2022-05-24T03:38:31.024.wav\n"
     ]
    },
    {
     "name": "stderr",
     "output_type": "stream",
     "text": [
      "To https://github.com/aubreymoore/good-vibrations.git\n",
      "   457db16..e31292d  main -> main\n"
     ]
    },
    {
     "name": "stdout",
     "output_type": "stream",
     "text": [
      "   sleeping for 540s\n",
      "86 of 100000\n",
      "   recording for 60s; saving to /home/pi/good-vibrations/data/gpepp/2022-05-24T03:48:37.478.wav\n",
      "   uploading data to GitHub\n",
      "Already up to date.\n",
      "[main df4d6b6] record_wav\n",
      " 2 files changed, 23 insertions(+), 1 deletion(-)\n",
      " create mode 100644 data/gpepp/2022-05-24T03:48:37.478.wav\n"
     ]
    },
    {
     "name": "stderr",
     "output_type": "stream",
     "text": [
      "To https://github.com/aubreymoore/good-vibrations.git\n",
      "   e31292d..df4d6b6  main -> main\n"
     ]
    },
    {
     "name": "stdout",
     "output_type": "stream",
     "text": [
      "   sleeping for 540s\n",
      "87 of 100000\n",
      "   recording for 60s; saving to /home/pi/good-vibrations/data/gpepp/2022-05-24T03:58:44.769.wav\n",
      "   uploading data to GitHub\n"
     ]
    },
    {
     "name": "stderr",
     "output_type": "stream",
     "text": [
      "fatal: unable to access 'https://github.com/aubreymoore/good-vibrations.git/': Could not resolve host: github.com\n"
     ]
    },
    {
     "name": "stdout",
     "output_type": "stream",
     "text": [
      "[main e7d968b] record_wav\n",
      " 2 files changed, 23 insertions(+), 1 deletion(-)\n",
      " create mode 100644 data/gpepp/2022-05-24T03:58:44.769.wav\n",
      "   sleeping for 540s\n"
     ]
    },
    {
     "name": "stderr",
     "output_type": "stream",
     "text": [
      "fatal: unable to access 'https://github.com/aubreymoore/good-vibrations.git/': Could not resolve host: github.com\n"
     ]
    },
    {
     "name": "stdout",
     "output_type": "stream",
     "text": [
      "88 of 100000\n",
      "   recording for 60s; saving to /home/pi/good-vibrations/data/gpepp/2022-05-24T04:08:45.319.wav\n",
      "   uploading data to GitHub\n"
     ]
    },
    {
     "name": "stderr",
     "output_type": "stream",
     "text": [
      "fatal: unable to access 'https://github.com/aubreymoore/good-vibrations.git/': Could not resolve host: github.com\n"
     ]
    },
    {
     "name": "stdout",
     "output_type": "stream",
     "text": [
      "[main 6953fac] record_wav\n",
      " 2 files changed, 34 insertions(+), 1 deletion(-)\n",
      " create mode 100644 data/gpepp/2022-05-24T04:08:45.319.wav\n",
      "   sleeping for 540s\n"
     ]
    },
    {
     "name": "stderr",
     "output_type": "stream",
     "text": [
      "fatal: unable to access 'https://github.com/aubreymoore/good-vibrations.git/': Could not resolve host: github.com\n"
     ]
    },
    {
     "name": "stdout",
     "output_type": "stream",
     "text": [
      "89 of 100000\n",
      "   recording for 60s; saving to /home/pi/good-vibrations/data/gpepp/2022-05-24T04:18:51.049.wav\n",
      "   uploading data to GitHub\n",
      "Already up to date.\n",
      "[main b3968f9] record_wav\n",
      " 2 files changed, 34 insertions(+), 1 deletion(-)\n",
      " create mode 100644 data/gpepp/2022-05-24T04:18:51.049.wav\n"
     ]
    },
    {
     "name": "stderr",
     "output_type": "stream",
     "text": [
      "To https://github.com/aubreymoore/good-vibrations.git\n",
      "   df4d6b6..b3968f9  main -> main\n"
     ]
    },
    {
     "name": "stdout",
     "output_type": "stream",
     "text": [
      "   sleeping for 540s\n",
      "90 of 100000\n",
      "   recording for 60s; saving to /home/pi/good-vibrations/data/gpepp/2022-05-24T04:28:59.784.wav\n",
      "   uploading data to GitHub\n",
      "Already up to date.\n",
      "[main 8071a82] record_wav\n",
      " 2 files changed, 23 insertions(+), 1 deletion(-)\n",
      " create mode 100644 data/gpepp/2022-05-24T04:28:59.784.wav\n"
     ]
    },
    {
     "name": "stderr",
     "output_type": "stream",
     "text": [
      "To https://github.com/aubreymoore/good-vibrations.git\n",
      "   b3968f9..8071a82  main -> main\n"
     ]
    },
    {
     "name": "stdout",
     "output_type": "stream",
     "text": [
      "   sleeping for 540s\n",
      "91 of 100000\n",
      "   recording for 60s; saving to /home/pi/good-vibrations/data/gpepp/2022-05-24T04:39:06.399.wav\n",
      "   uploading data to GitHub\n",
      "Already up to date.\n",
      "[main f7e19ae] record_wav\n",
      " 2 files changed, 23 insertions(+), 1 deletion(-)\n",
      " create mode 100644 data/gpepp/2022-05-24T04:39:06.399.wav\n"
     ]
    },
    {
     "name": "stderr",
     "output_type": "stream",
     "text": [
      "To https://github.com/aubreymoore/good-vibrations.git\n",
      "   8071a82..f7e19ae  main -> main\n"
     ]
    },
    {
     "name": "stdout",
     "output_type": "stream",
     "text": [
      "   sleeping for 540s\n",
      "92 of 100000\n",
      "   recording for 60s; saving to /home/pi/good-vibrations/data/gpepp/2022-05-24T04:49:12.819.wav\n",
      "   uploading data to GitHub\n",
      "Already up to date.\n",
      "[main 5414daa] record_wav\n",
      " 2 files changed, 23 insertions(+), 1 deletion(-)\n",
      " create mode 100644 data/gpepp/2022-05-24T04:49:12.819.wav\n"
     ]
    },
    {
     "name": "stderr",
     "output_type": "stream",
     "text": [
      "To https://github.com/aubreymoore/good-vibrations.git\n",
      "   f7e19ae..5414daa  main -> main\n"
     ]
    },
    {
     "name": "stdout",
     "output_type": "stream",
     "text": [
      "   sleeping for 540s\n",
      "93 of 100000\n",
      "   recording for 60s; saving to /home/pi/good-vibrations/data/gpepp/2022-05-24T04:59:19.512.wav\n",
      "   uploading data to GitHub\n"
     ]
    },
    {
     "name": "stderr",
     "output_type": "stream",
     "text": [
      "fatal: unable to access 'https://github.com/aubreymoore/good-vibrations.git/': Could not resolve host: github.com\n"
     ]
    },
    {
     "name": "stdout",
     "output_type": "stream",
     "text": [
      "[main 9489624] record_wav\n",
      " 2 files changed, 23 insertions(+), 1 deletion(-)\n",
      " create mode 100644 data/gpepp/2022-05-24T04:59:19.512.wav\n",
      "   sleeping for 540s\n"
     ]
    },
    {
     "name": "stderr",
     "output_type": "stream",
     "text": [
      "fatal: unable to access 'https://github.com/aubreymoore/good-vibrations.git/': Could not resolve host: github.com\n"
     ]
    },
    {
     "name": "stdout",
     "output_type": "stream",
     "text": [
      "94 of 100000\n",
      "   recording for 60s; saving to /home/pi/good-vibrations/data/gpepp/2022-05-24T05:09:20.235.wav\n",
      "   uploading data to GitHub\n",
      "Already up to date.\n",
      "[main c82f054] record_wav\n",
      " 2 files changed, 34 insertions(+), 1 deletion(-)\n",
      " create mode 100644 data/gpepp/2022-05-24T05:09:20.235.wav\n"
     ]
    },
    {
     "name": "stderr",
     "output_type": "stream",
     "text": [
      "To https://github.com/aubreymoore/good-vibrations.git\n",
      "   5414daa..c82f054  main -> main\n"
     ]
    },
    {
     "name": "stdout",
     "output_type": "stream",
     "text": [
      "   sleeping for 540s\n",
      "95 of 100000\n",
      "   recording for 60s; saving to /home/pi/good-vibrations/data/gpepp/2022-05-24T05:19:28.399.wav\n",
      "   uploading data to GitHub\n",
      "Already up to date.\n",
      "[main e1d50de] record_wav\n",
      " 2 files changed, 23 insertions(+), 1 deletion(-)\n",
      " create mode 100644 data/gpepp/2022-05-24T05:19:28.399.wav\n"
     ]
    },
    {
     "name": "stderr",
     "output_type": "stream",
     "text": [
      "To https://github.com/aubreymoore/good-vibrations.git\n",
      "   c82f054..e1d50de  main -> main\n"
     ]
    },
    {
     "name": "stdout",
     "output_type": "stream",
     "text": [
      "   sleeping for 540s\n",
      "96 of 100000\n",
      "   recording for 60s; saving to /home/pi/good-vibrations/data/gpepp/2022-05-24T05:29:34.959.wav\n",
      "   uploading data to GitHub\n",
      "Already up to date.\n",
      "[main 109c0cb] record_wav\n",
      " 2 files changed, 21 insertions(+), 1 deletion(-)\n",
      " create mode 100644 data/gpepp/2022-05-24T05:29:34.959.wav\n"
     ]
    },
    {
     "name": "stderr",
     "output_type": "stream",
     "text": [
      "To https://github.com/aubreymoore/good-vibrations.git\n",
      "   e1d50de..109c0cb  main -> main\n"
     ]
    },
    {
     "name": "stdout",
     "output_type": "stream",
     "text": [
      "   sleeping for 540s\n",
      "97 of 100000\n",
      "   recording for 60s; saving to /home/pi/good-vibrations/data/gpepp/2022-05-24T05:39:43.535.wav\n",
      "   uploading data to GitHub\n",
      "Already up to date.\n",
      "[main f333741] record_wav\n",
      " 2 files changed, 22 insertions(+)\n",
      " create mode 100644 data/gpepp/2022-05-24T05:39:43.535.wav\n"
     ]
    },
    {
     "name": "stderr",
     "output_type": "stream",
     "text": [
      "To https://github.com/aubreymoore/good-vibrations.git\n",
      "   109c0cb..f333741  main -> main\n"
     ]
    },
    {
     "name": "stdout",
     "output_type": "stream",
     "text": [
      "   sleeping for 540s\n",
      "98 of 100000\n",
      "   recording for 60s; saving to /home/pi/good-vibrations/data/gpepp/2022-05-24T05:49:50.179.wav\n",
      "   uploading data to GitHub\n",
      "Already up to date.\n",
      "[main 6009ac4] record_wav\n",
      " 2 files changed, 22 insertions(+)\n",
      " create mode 100644 data/gpepp/2022-05-24T05:49:50.179.wav\n"
     ]
    },
    {
     "name": "stderr",
     "output_type": "stream",
     "text": [
      "To https://github.com/aubreymoore/good-vibrations.git\n",
      "   f333741..6009ac4  main -> main\n"
     ]
    },
    {
     "name": "stdout",
     "output_type": "stream",
     "text": [
      "   sleeping for 540s\n",
      "99 of 100000\n",
      "   recording for 60s; saving to /home/pi/good-vibrations/data/gpepp/2022-05-24T05:59:56.659.wav\n",
      "   uploading data to GitHub\n",
      "Already up to date.\n",
      "[main 817f1c6] record_wav\n",
      " 2 files changed, 22 insertions(+)\n",
      " create mode 100644 data/gpepp/2022-05-24T05:59:56.659.wav\n"
     ]
    },
    {
     "name": "stderr",
     "output_type": "stream",
     "text": [
      "To https://github.com/aubreymoore/good-vibrations.git\n",
      "   6009ac4..817f1c6  main -> main\n"
     ]
    },
    {
     "name": "stdout",
     "output_type": "stream",
     "text": [
      "   sleeping for 540s\n",
      "100 of 100000\n",
      "   recording for 60s; saving to /home/pi/good-vibrations/data/gpepp/2022-05-24T06:10:03.379.wav\n",
      "   uploading data to GitHub\n",
      "Already up to date.\n",
      "[main 0352516] record_wav\n",
      " 2 files changed, 22 insertions(+)\n",
      " create mode 100644 data/gpepp/2022-05-24T06:10:03.379.wav\n"
     ]
    },
    {
     "name": "stderr",
     "output_type": "stream",
     "text": [
      "To https://github.com/aubreymoore/good-vibrations.git\n",
      "   817f1c6..0352516  main -> main\n"
     ]
    },
    {
     "name": "stdout",
     "output_type": "stream",
     "text": [
      "   sleeping for 540s\n",
      "101 of 100000\n",
      "   recording for 60s; saving to /home/pi/good-vibrations/data/gpepp/2022-05-24T06:20:09.823.wav\n",
      "   uploading data to GitHub\n",
      "Already up to date.\n",
      "[main 62e5971] record_wav\n",
      " 2 files changed, 22 insertions(+)\n",
      " create mode 100644 data/gpepp/2022-05-24T06:20:09.823.wav\n"
     ]
    },
    {
     "name": "stderr",
     "output_type": "stream",
     "text": [
      "To https://github.com/aubreymoore/good-vibrations.git\n",
      "   0352516..62e5971  main -> main\n"
     ]
    },
    {
     "name": "stdout",
     "output_type": "stream",
     "text": [
      "   sleeping for 540s\n",
      "102 of 100000\n",
      "   recording for 60s; saving to /home/pi/good-vibrations/data/gpepp/2022-05-24T06:30:17.319.wav\n",
      "   uploading data to GitHub\n",
      "Already up to date.\n",
      "[main 7437558] record_wav\n",
      " 2 files changed, 22 insertions(+)\n",
      " create mode 100644 data/gpepp/2022-05-24T06:30:17.319.wav\n"
     ]
    },
    {
     "name": "stderr",
     "output_type": "stream",
     "text": [
      "To https://github.com/aubreymoore/good-vibrations.git\n",
      "   62e5971..7437558  main -> main\n"
     ]
    },
    {
     "name": "stdout",
     "output_type": "stream",
     "text": [
      "   sleeping for 540s\n",
      "103 of 100000\n",
      "   recording for 60s; saving to /home/pi/good-vibrations/data/gpepp/2022-05-24T06:40:23.693.wav\n",
      "   uploading data to GitHub\n",
      "Already up to date.\n",
      "[main d26d9c5] record_wav\n",
      " 2 files changed, 22 insertions(+)\n",
      " create mode 100644 data/gpepp/2022-05-24T06:40:23.693.wav\n"
     ]
    },
    {
     "name": "stderr",
     "output_type": "stream",
     "text": [
      "To https://github.com/aubreymoore/good-vibrations.git\n",
      "   7437558..d26d9c5  main -> main\n"
     ]
    },
    {
     "name": "stdout",
     "output_type": "stream",
     "text": [
      "   sleeping for 540s\n",
      "104 of 100000\n",
      "   recording for 60s; saving to /home/pi/good-vibrations/data/gpepp/2022-05-24T06:50:30.349.wav\n",
      "   uploading data to GitHub\n",
      "Already up to date.\n",
      "[main 80be3f3] record_wav\n",
      " 2 files changed, 22 insertions(+)\n",
      " create mode 100644 data/gpepp/2022-05-24T06:50:30.349.wav\n"
     ]
    },
    {
     "name": "stderr",
     "output_type": "stream",
     "text": [
      "To https://github.com/aubreymoore/good-vibrations.git\n",
      "   d26d9c5..80be3f3  main -> main\n"
     ]
    },
    {
     "name": "stdout",
     "output_type": "stream",
     "text": [
      "   sleeping for 540s\n",
      "105 of 100000\n",
      "   recording for 60s; saving to /home/pi/good-vibrations/data/gpepp/2022-05-24T07:00:37.014.wav\n",
      "   uploading data to GitHub\n",
      "Already up to date.\n",
      "[main 98de288] record_wav\n",
      " 2 files changed, 22 insertions(+)\n",
      " create mode 100644 data/gpepp/2022-05-24T07:00:37.014.wav\n"
     ]
    },
    {
     "name": "stderr",
     "output_type": "stream",
     "text": [
      "To https://github.com/aubreymoore/good-vibrations.git\n",
      "   80be3f3..98de288  main -> main\n"
     ]
    },
    {
     "name": "stdout",
     "output_type": "stream",
     "text": [
      "   sleeping for 540s\n",
      "106 of 100000\n",
      "   recording for 60s; saving to /home/pi/good-vibrations/data/gpepp/2022-05-24T07:10:46.124.wav\n",
      "   uploading data to GitHub\n",
      "Already up to date.\n",
      "[main f336477] record_wav\n",
      " 2 files changed, 26 insertions(+), 1 deletion(-)\n",
      " create mode 100644 data/gpepp/2022-05-24T07:10:46.124.wav\n"
     ]
    },
    {
     "name": "stderr",
     "output_type": "stream",
     "text": [
      "To https://github.com/aubreymoore/good-vibrations.git\n",
      "   98de288..f336477  main -> main\n"
     ]
    },
    {
     "name": "stdout",
     "output_type": "stream",
     "text": [
      "   sleeping for 540s\n",
      "107 of 100000\n",
      "   recording for 60s; saving to /home/pi/good-vibrations/data/gpepp/2022-05-24T07:21:10.079.wav\n",
      "   uploading data to GitHub\n",
      "Already up to date.\n",
      "[main c1c040d] record_wav\n",
      " 2 files changed, 22 insertions(+), 1 deletion(-)\n",
      " create mode 100644 data/gpepp/2022-05-24T07:21:10.079.wav\n"
     ]
    },
    {
     "name": "stderr",
     "output_type": "stream",
     "text": [
      "To https://github.com/aubreymoore/good-vibrations.git\n",
      "   f336477..c1c040d  main -> main\n"
     ]
    },
    {
     "name": "stdout",
     "output_type": "stream",
     "text": [
      "   sleeping for 540s\n",
      "108 of 100000\n",
      "   recording for 60s; saving to /home/pi/good-vibrations/data/gpepp/2022-05-24T07:31:16.639.wav\n",
      "   uploading data to GitHub\n",
      "Already up to date.\n",
      "[main eeaf301] record_wav\n",
      " 2 files changed, 23 insertions(+), 1 deletion(-)\n",
      " create mode 100644 data/gpepp/2022-05-24T07:31:16.639.wav\n"
     ]
    },
    {
     "name": "stderr",
     "output_type": "stream",
     "text": [
      "To https://github.com/aubreymoore/good-vibrations.git\n",
      "   c1c040d..eeaf301  main -> main\n"
     ]
    },
    {
     "name": "stdout",
     "output_type": "stream",
     "text": [
      "   sleeping for 540s\n",
      "109 of 100000\n",
      "   recording for 60s; saving to /home/pi/good-vibrations/data/gpepp/2022-05-24T07:41:22.999.wav\n",
      "   uploading data to GitHub\n",
      "Already up to date.\n",
      "[main 2878cbe] record_wav\n",
      " 2 files changed, 23 insertions(+), 1 deletion(-)\n",
      " create mode 100644 data/gpepp/2022-05-24T07:41:22.999.wav\n"
     ]
    },
    {
     "name": "stderr",
     "output_type": "stream",
     "text": [
      "To https://github.com/aubreymoore/good-vibrations.git\n",
      "   eeaf301..2878cbe  main -> main\n"
     ]
    },
    {
     "name": "stdout",
     "output_type": "stream",
     "text": [
      "   sleeping for 540s\n",
      "110 of 100000\n",
      "   recording for 60s; saving to /home/pi/good-vibrations/data/gpepp/2022-05-24T07:51:29.359.wav\n",
      "   uploading data to GitHub\n",
      "Already up to date.\n",
      "[main 0a558fe] record_wav\n",
      " 2 files changed, 23 insertions(+), 1 deletion(-)\n",
      " create mode 100644 data/gpepp/2022-05-24T07:51:29.359.wav\n"
     ]
    },
    {
     "name": "stderr",
     "output_type": "stream",
     "text": [
      "To https://github.com/aubreymoore/good-vibrations.git\n",
      "   2878cbe..0a558fe  main -> main\n"
     ]
    },
    {
     "name": "stdout",
     "output_type": "stream",
     "text": [
      "   sleeping for 540s\n",
      "111 of 100000\n",
      "   recording for 60s; saving to /home/pi/good-vibrations/data/gpepp/2022-05-24T08:01:35.859.wav\n",
      "   uploading data to GitHub\n",
      "Already up to date.\n",
      "[main 7865209] record_wav\n",
      " 2 files changed, 23 insertions(+), 1 deletion(-)\n",
      " create mode 100644 data/gpepp/2022-05-24T08:01:35.859.wav\n"
     ]
    },
    {
     "name": "stderr",
     "output_type": "stream",
     "text": [
      "To https://github.com/aubreymoore/good-vibrations.git\n",
      "   0a558fe..7865209  main -> main\n"
     ]
    },
    {
     "name": "stdout",
     "output_type": "stream",
     "text": [
      "   sleeping for 540s\n",
      "112 of 100000\n",
      "   recording for 60s; saving to /home/pi/good-vibrations/data/gpepp/2022-05-24T08:11:44.251.wav\n",
      "   uploading data to GitHub\n",
      "Already up to date.\n",
      "[main 06f8b8f] record_wav\n",
      " 2 files changed, 23 insertions(+), 1 deletion(-)\n",
      " create mode 100644 data/gpepp/2022-05-24T08:11:44.251.wav\n"
     ]
    },
    {
     "name": "stderr",
     "output_type": "stream",
     "text": [
      "To https://github.com/aubreymoore/good-vibrations.git\n",
      "   7865209..06f8b8f  main -> main\n"
     ]
    },
    {
     "name": "stdout",
     "output_type": "stream",
     "text": [
      "   sleeping for 540s\n",
      "113 of 100000\n",
      "   recording for 60s; saving to /home/pi/good-vibrations/data/gpepp/2022-05-24T08:22:02.202.wav\n",
      "   uploading data to GitHub\n",
      "Already up to date.\n",
      "[main 1959874] record_wav\n",
      " 2 files changed, 21 insertions(+), 1 deletion(-)\n",
      " create mode 100644 data/gpepp/2022-05-24T08:22:02.202.wav\n"
     ]
    },
    {
     "name": "stderr",
     "output_type": "stream",
     "text": [
      "To https://github.com/aubreymoore/good-vibrations.git\n",
      "   06f8b8f..1959874  main -> main\n"
     ]
    },
    {
     "name": "stdout",
     "output_type": "stream",
     "text": [
      "   sleeping for 540s\n",
      "114 of 100000\n",
      "   recording for 60s; saving to /home/pi/good-vibrations/data/gpepp/2022-05-24T08:32:08.633.wav\n",
      "   uploading data to GitHub\n",
      "Already up to date.\n",
      "[main 4aec80a] record_wav\n",
      " 2 files changed, 22 insertions(+)\n",
      " create mode 100644 data/gpepp/2022-05-24T08:32:08.633.wav\n"
     ]
    },
    {
     "name": "stderr",
     "output_type": "stream",
     "text": [
      "To https://github.com/aubreymoore/good-vibrations.git\n",
      "   1959874..4aec80a  main -> main\n"
     ]
    },
    {
     "name": "stdout",
     "output_type": "stream",
     "text": [
      "   sleeping for 540s\n",
      "115 of 100000\n",
      "   recording for 60s; saving to /home/pi/good-vibrations/data/gpepp/2022-05-24T08:42:15.279.wav\n",
      "   uploading data to GitHub\n",
      "Already up to date.\n",
      "[main 23c8619] record_wav\n",
      " 2 files changed, 22 insertions(+)\n",
      " create mode 100644 data/gpepp/2022-05-24T08:42:15.279.wav\n"
     ]
    },
    {
     "name": "stderr",
     "output_type": "stream",
     "text": [
      "To https://github.com/aubreymoore/good-vibrations.git\n",
      "   4aec80a..23c8619  main -> main\n"
     ]
    },
    {
     "name": "stdout",
     "output_type": "stream",
     "text": [
      "   sleeping for 540s\n",
      "116 of 100000\n",
      "   recording for 60s; saving to /home/pi/good-vibrations/data/gpepp/2022-05-24T08:52:21.767.wav\n",
      "   uploading data to GitHub\n"
     ]
    },
    {
     "name": "stderr",
     "output_type": "stream",
     "text": [
      "fatal: unable to access 'https://github.com/aubreymoore/good-vibrations.git/': Could not resolve host: github.com\n"
     ]
    },
    {
     "name": "stdout",
     "output_type": "stream",
     "text": [
      "[main dd4a058] record_wav\n",
      " 2 files changed, 22 insertions(+)\n",
      " create mode 100644 data/gpepp/2022-05-24T08:52:21.767.wav\n",
      "   sleeping for 540s\n"
     ]
    },
    {
     "name": "stderr",
     "output_type": "stream",
     "text": [
      "fatal: unable to access 'https://github.com/aubreymoore/good-vibrations.git/': Could not resolve host: github.com\n"
     ]
    },
    {
     "name": "stdout",
     "output_type": "stream",
     "text": [
      "117 of 100000\n",
      "   recording for 60s; saving to /home/pi/good-vibrations/data/gpepp/2022-05-24T09:02:22.428.wav\n",
      "   uploading data to GitHub\n",
      "Already up to date.\n",
      "[main 9b6f04d] record_wav\n",
      " 2 files changed, 27 insertions(+)\n",
      " create mode 100644 data/gpepp/2022-05-24T09:02:22.428.wav\n"
     ]
    },
    {
     "name": "stderr",
     "output_type": "stream",
     "text": [
      "To https://github.com/aubreymoore/good-vibrations.git\n",
      "   23c8619..9b6f04d  main -> main\n"
     ]
    },
    {
     "name": "stdout",
     "output_type": "stream",
     "text": [
      "   sleeping for 540s\n",
      "118 of 100000\n",
      "   recording for 60s; saving to /home/pi/good-vibrations/data/gpepp/2022-05-24T09:12:30.200.wav\n",
      "   uploading data to GitHub\n",
      "Already up to date.\n",
      "[main 76ec66e] record_wav\n",
      " 2 files changed, 28 insertions(+)\n",
      " create mode 100644 data/gpepp/2022-05-24T09:12:30.200.wav\n"
     ]
    },
    {
     "name": "stderr",
     "output_type": "stream",
     "text": [
      "To https://github.com/aubreymoore/good-vibrations.git\n",
      "   9b6f04d..76ec66e  main -> main\n"
     ]
    },
    {
     "name": "stdout",
     "output_type": "stream",
     "text": [
      "   sleeping for 540s\n",
      "119 of 100000\n",
      "   recording for 60s; saving to /home/pi/good-vibrations/data/gpepp/2022-05-24T09:22:37.312.wav\n",
      "   uploading data to GitHub\n",
      "Already up to date.\n",
      "[main 66dac5f] record_wav\n",
      " 2 files changed, 22 insertions(+)\n",
      " create mode 100644 data/gpepp/2022-05-24T09:22:37.312.wav\n"
     ]
    },
    {
     "name": "stderr",
     "output_type": "stream",
     "text": [
      "To https://github.com/aubreymoore/good-vibrations.git\n",
      "   76ec66e..66dac5f  main -> main\n"
     ]
    },
    {
     "name": "stdout",
     "output_type": "stream",
     "text": [
      "   sleeping for 540s\n",
      "120 of 100000\n",
      "   recording for 60s; saving to /home/pi/good-vibrations/data/gpepp/2022-05-24T09:32:44.371.wav\n",
      "   uploading data to GitHub\n",
      "Already up to date.\n",
      "[main 22dd2c6] record_wav\n",
      " 2 files changed, 22 insertions(+)\n",
      " create mode 100644 data/gpepp/2022-05-24T09:32:44.371.wav\n"
     ]
    },
    {
     "name": "stderr",
     "output_type": "stream",
     "text": [
      "To https://github.com/aubreymoore/good-vibrations.git\n",
      "   66dac5f..22dd2c6  main -> main\n"
     ]
    },
    {
     "name": "stdout",
     "output_type": "stream",
     "text": [
      "   sleeping for 540s\n",
      "121 of 100000\n",
      "   recording for 60s; saving to /home/pi/good-vibrations/data/gpepp/2022-05-24T09:42:52.206.wav\n",
      "   uploading data to GitHub\n",
      "Already up to date.\n",
      "[main 2a63858] record_wav\n",
      " 2 files changed, 22 insertions(+)\n",
      " create mode 100644 data/gpepp/2022-05-24T09:42:52.206.wav\n"
     ]
    },
    {
     "name": "stderr",
     "output_type": "stream",
     "text": [
      "To https://github.com/aubreymoore/good-vibrations.git\n",
      "   22dd2c6..2a63858  main -> main\n"
     ]
    },
    {
     "name": "stdout",
     "output_type": "stream",
     "text": [
      "   sleeping for 540s\n",
      "122 of 100000\n",
      "   recording for 60s; saving to /home/pi/good-vibrations/data/gpepp/2022-05-24T09:53:03.583.wav\n",
      "   uploading data to GitHub\n",
      "Already up to date.\n",
      "[main f6816c5] record_wav\n",
      " 2 files changed, 25 insertions(+), 1 deletion(-)\n",
      " create mode 100644 data/gpepp/2022-05-24T09:53:03.583.wav\n"
     ]
    },
    {
     "name": "stderr",
     "output_type": "stream",
     "text": [
      "To https://github.com/aubreymoore/good-vibrations.git\n",
      "   2a63858..f6816c5  main -> main\n"
     ]
    },
    {
     "name": "stdout",
     "output_type": "stream",
     "text": [
      "   sleeping for 540s\n",
      "123 of 100000\n",
      "   recording for 60s; saving to /home/pi/good-vibrations/data/gpepp/2022-05-24T10:03:10.748.wav\n",
      "   uploading data to GitHub\n",
      "Already up to date.\n",
      "[main 7a228a5] record_wav\n",
      " 2 files changed, 23 insertions(+), 1 deletion(-)\n",
      " create mode 100644 data/gpepp/2022-05-24T10:03:10.748.wav\n"
     ]
    },
    {
     "name": "stderr",
     "output_type": "stream",
     "text": [
      "To https://github.com/aubreymoore/good-vibrations.git\n",
      "   f6816c5..7a228a5  main -> main\n"
     ]
    },
    {
     "name": "stdout",
     "output_type": "stream",
     "text": [
      "   sleeping for 540s\n",
      "124 of 100000\n",
      "   recording for 60s; saving to /home/pi/good-vibrations/data/gpepp/2022-05-24T10:13:20.173.wav\n",
      "   uploading data to GitHub\n",
      "Already up to date.\n",
      "[main 27628e5] record_wav\n",
      " 2 files changed, 23 insertions(+), 1 deletion(-)\n",
      " create mode 100644 data/gpepp/2022-05-24T10:13:20.173.wav\n"
     ]
    },
    {
     "name": "stderr",
     "output_type": "stream",
     "text": [
      "To https://github.com/aubreymoore/good-vibrations.git\n",
      "   7a228a5..27628e5  main -> main\n"
     ]
    },
    {
     "name": "stdout",
     "output_type": "stream",
     "text": [
      "   sleeping for 540s\n",
      "125 of 100000\n",
      "   recording for 60s; saving to /home/pi/good-vibrations/data/gpepp/2022-05-24T10:23:27.948.wav\n",
      "   uploading data to GitHub\n",
      "Already up to date.\n",
      "[main 9b6f07e] record_wav\n",
      " 2 files changed, 23 insertions(+), 1 deletion(-)\n",
      " create mode 100644 data/gpepp/2022-05-24T10:23:27.948.wav\n"
     ]
    },
    {
     "name": "stderr",
     "output_type": "stream",
     "text": [
      "To https://github.com/aubreymoore/good-vibrations.git\n",
      "   27628e5..9b6f07e  main -> main\n"
     ]
    },
    {
     "name": "stdout",
     "output_type": "stream",
     "text": [
      "   sleeping for 540s\n",
      "126 of 100000\n",
      "   recording for 60s; saving to /home/pi/good-vibrations/data/gpepp/2022-05-24T10:33:36.819.wav\n",
      "   uploading data to GitHub\n",
      "Already up to date.\n",
      "[main 561ddd0] record_wav\n",
      " 2 files changed, 23 insertions(+), 1 deletion(-)\n",
      " create mode 100644 data/gpepp/2022-05-24T10:33:36.819.wav\n"
     ]
    },
    {
     "name": "stderr",
     "output_type": "stream",
     "text": [
      "To https://github.com/aubreymoore/good-vibrations.git\n",
      "   9b6f07e..561ddd0  main -> main\n"
     ]
    },
    {
     "name": "stdout",
     "output_type": "stream",
     "text": [
      "   sleeping for 540s\n",
      "127 of 100000\n",
      "   recording for 60s; saving to /home/pi/good-vibrations/data/gpepp/2022-05-24T10:43:51.009.wav\n",
      "   uploading data to GitHub\n"
     ]
    },
    {
     "name": "stderr",
     "output_type": "stream",
     "text": [
      "fatal: unable to access 'https://github.com/aubreymoore/good-vibrations.git/': Could not resolve host: github.com\n"
     ]
    },
    {
     "name": "stdout",
     "output_type": "stream",
     "text": [
      "[main 40b0ea7] record_wav\n",
      " 2 files changed, 23 insertions(+), 1 deletion(-)\n",
      " create mode 100644 data/gpepp/2022-05-24T10:43:51.009.wav\n",
      "   sleeping for 540s\n"
     ]
    },
    {
     "name": "stderr",
     "output_type": "stream",
     "text": [
      "fatal: unable to access 'https://github.com/aubreymoore/good-vibrations.git/': Could not resolve host: github.com\n"
     ]
    },
    {
     "name": "stdout",
     "output_type": "stream",
     "text": [
      "128 of 100000\n",
      "   recording for 60s; saving to /home/pi/good-vibrations/data/gpepp/2022-05-24T10:53:51.719.wav\n",
      "   uploading data to GitHub\n"
     ]
    },
    {
     "name": "stderr",
     "output_type": "stream",
     "text": [
      "fatal: unable to access 'https://github.com/aubreymoore/good-vibrations.git/': Could not resolve host: github.com\n"
     ]
    },
    {
     "name": "stdout",
     "output_type": "stream",
     "text": [
      "[main 3009f17] record_wav\n",
      " 2 files changed, 34 insertions(+), 1 deletion(-)\n",
      " create mode 100644 data/gpepp/2022-05-24T10:53:51.719.wav\n",
      "   sleeping for 540s\n"
     ]
    },
    {
     "name": "stderr",
     "output_type": "stream",
     "text": [
      "fatal: unable to access 'https://github.com/aubreymoore/good-vibrations.git/': Could not resolve host: github.com\n"
     ]
    },
    {
     "name": "stdout",
     "output_type": "stream",
     "text": [
      "129 of 100000\n",
      "   recording for 60s; saving to /home/pi/good-vibrations/data/gpepp/2022-05-24T11:03:52.349.wav\n",
      "   uploading data to GitHub\n"
     ]
    },
    {
     "name": "stderr",
     "output_type": "stream",
     "text": [
      "fatal: unable to access 'https://github.com/aubreymoore/good-vibrations.git/': Could not resolve host: github.com\n"
     ]
    },
    {
     "name": "stdout",
     "output_type": "stream",
     "text": [
      "[main f6b44ed] record_wav\n",
      " 2 files changed, 34 insertions(+), 1 deletion(-)\n",
      " create mode 100644 data/gpepp/2022-05-24T11:03:52.349.wav\n"
     ]
    },
    {
     "name": "stderr",
     "output_type": "stream",
     "text": [
      "To https://github.com/aubreymoore/good-vibrations.git\n",
      "   561ddd0..f6b44ed  main -> main\n"
     ]
    },
    {
     "name": "stdout",
     "output_type": "stream",
     "text": [
      "   sleeping for 540s\n",
      "130 of 100000\n",
      "   recording for 60s; saving to /home/pi/good-vibrations/data/gpepp/2022-05-24T11:14:10.671.wav\n",
      "   uploading data to GitHub\n",
      "Already up to date.\n",
      "[main ef70dcb] record_wav\n",
      " 2 files changed, 33 insertions(+), 1 deletion(-)\n",
      " create mode 100644 data/gpepp/2022-05-24T11:14:10.671.wav\n"
     ]
    },
    {
     "name": "stderr",
     "output_type": "stream",
     "text": [
      "To https://github.com/aubreymoore/good-vibrations.git\n",
      "   f6b44ed..ef70dcb  main -> main\n"
     ]
    },
    {
     "name": "stdout",
     "output_type": "stream",
     "text": [
      "   sleeping for 540s\n",
      "131 of 100000\n",
      "   recording for 60s; saving to /home/pi/good-vibrations/data/gpepp/2022-05-24T11:24:17.246.wav\n",
      "   uploading data to GitHub\n",
      "Already up to date.\n",
      "[main f23ed55] record_wav\n",
      " 2 files changed, 22 insertions(+)\n",
      " create mode 100644 data/gpepp/2022-05-24T11:24:17.246.wav\n"
     ]
    },
    {
     "name": "stderr",
     "output_type": "stream",
     "text": [
      "To https://github.com/aubreymoore/good-vibrations.git\n",
      "   ef70dcb..f23ed55  main -> main\n"
     ]
    },
    {
     "name": "stdout",
     "output_type": "stream",
     "text": [
      "   sleeping for 540s\n",
      "132 of 100000\n",
      "   recording for 60s; saving to /home/pi/good-vibrations/data/gpepp/2022-05-24T11:34:24.904.wav\n",
      "   uploading data to GitHub\n",
      "Already up to date.\n",
      "[main b527c23] record_wav\n",
      " 2 files changed, 22 insertions(+)\n",
      " create mode 100644 data/gpepp/2022-05-24T11:34:24.904.wav\n"
     ]
    },
    {
     "name": "stderr",
     "output_type": "stream",
     "text": [
      "To https://github.com/aubreymoore/good-vibrations.git\n",
      "   f23ed55..b527c23  main -> main\n"
     ]
    },
    {
     "name": "stdout",
     "output_type": "stream",
     "text": [
      "   sleeping for 540s\n",
      "133 of 100000\n",
      "   recording for 60s; saving to /home/pi/good-vibrations/data/gpepp/2022-05-24T11:44:31.830.wav\n",
      "   uploading data to GitHub\n",
      "Already up to date.\n",
      "[main 8c049ad] record_wav\n",
      " 2 files changed, 22 insertions(+)\n",
      " create mode 100644 data/gpepp/2022-05-24T11:44:31.830.wav\n"
     ]
    },
    {
     "name": "stderr",
     "output_type": "stream",
     "text": [
      "To https://github.com/aubreymoore/good-vibrations.git\n",
      "   b527c23..8c049ad  main -> main\n"
     ]
    },
    {
     "name": "stdout",
     "output_type": "stream",
     "text": [
      "   sleeping for 540s\n",
      "134 of 100000\n",
      "   recording for 60s; saving to /home/pi/good-vibrations/data/gpepp/2022-05-24T11:54:39.673.wav\n",
      "   uploading data to GitHub\n",
      "Already up to date.\n",
      "[main 3394fb0] record_wav\n",
      " 2 files changed, 22 insertions(+)\n",
      " create mode 100644 data/gpepp/2022-05-24T11:54:39.673.wav\n"
     ]
    },
    {
     "name": "stderr",
     "output_type": "stream",
     "text": [
      "To https://github.com/aubreymoore/good-vibrations.git\n",
      "   8c049ad..3394fb0  main -> main\n"
     ]
    },
    {
     "name": "stdout",
     "output_type": "stream",
     "text": [
      "   sleeping for 540s\n",
      "135 of 100000\n",
      "   recording for 60s; saving to /home/pi/good-vibrations/data/gpepp/2022-05-24T12:04:49.416.wav\n",
      "   uploading data to GitHub\n",
      "Already up to date.\n",
      "[main 834a47c] record_wav\n",
      " 2 files changed, 22 insertions(+)\n",
      " create mode 100644 data/gpepp/2022-05-24T12:04:49.416.wav\n"
     ]
    },
    {
     "name": "stderr",
     "output_type": "stream",
     "text": [
      "To https://github.com/aubreymoore/good-vibrations.git\n",
      "   3394fb0..834a47c  main -> main\n"
     ]
    },
    {
     "name": "stdout",
     "output_type": "stream",
     "text": [
      "   sleeping for 540s\n",
      "136 of 100000\n",
      "   recording for 60s; saving to /home/pi/good-vibrations/data/gpepp/2022-05-24T12:14:55.999.wav\n",
      "   uploading data to GitHub\n",
      "Already up to date.\n",
      "[main 4ba743c] record_wav\n",
      " 2 files changed, 22 insertions(+)\n",
      " create mode 100644 data/gpepp/2022-05-24T12:14:55.999.wav\n"
     ]
    },
    {
     "name": "stderr",
     "output_type": "stream",
     "text": [
      "To https://github.com/aubreymoore/good-vibrations.git\n",
      "   834a47c..4ba743c  main -> main\n"
     ]
    },
    {
     "name": "stdout",
     "output_type": "stream",
     "text": [
      "   sleeping for 540s\n",
      "137 of 100000\n",
      "   recording for 60s; saving to /home/pi/good-vibrations/data/gpepp/2022-05-24T12:25:03.149.wav\n",
      "   uploading data to GitHub\n",
      "Already up to date.\n",
      "[main cde92a3] record_wav\n",
      " 2 files changed, 22 insertions(+)\n",
      " create mode 100644 data/gpepp/2022-05-24T12:25:03.149.wav\n"
     ]
    },
    {
     "name": "stderr",
     "output_type": "stream",
     "text": [
      "To https://github.com/aubreymoore/good-vibrations.git\n",
      "   4ba743c..cde92a3  main -> main\n"
     ]
    },
    {
     "name": "stdout",
     "output_type": "stream",
     "text": [
      "   sleeping for 540s\n",
      "138 of 100000\n",
      "   recording for 60s; saving to /home/pi/good-vibrations/data/gpepp/2022-05-24T12:35:09.634.wav\n",
      "   uploading data to GitHub\n",
      "Already up to date.\n",
      "[main 46cbe6d] record_wav\n",
      " 2 files changed, 22 insertions(+)\n",
      " create mode 100644 data/gpepp/2022-05-24T12:35:09.634.wav\n"
     ]
    },
    {
     "name": "stderr",
     "output_type": "stream",
     "text": [
      "To https://github.com/aubreymoore/good-vibrations.git\n",
      "   cde92a3..46cbe6d  main -> main\n"
     ]
    },
    {
     "name": "stdout",
     "output_type": "stream",
     "text": [
      "   sleeping for 540s\n",
      "139 of 100000\n",
      "   recording for 60s; saving to /home/pi/good-vibrations/data/gpepp/2022-05-24T12:45:17.749.wav\n",
      "   uploading data to GitHub\n",
      "Already up to date.\n",
      "[main 7713b9b] record_wav\n",
      " 2 files changed, 25 insertions(+), 1 deletion(-)\n",
      " create mode 100644 data/gpepp/2022-05-24T12:45:17.749.wav\n"
     ]
    },
    {
     "name": "stderr",
     "output_type": "stream",
     "text": [
      "To https://github.com/aubreymoore/good-vibrations.git\n",
      "   46cbe6d..7713b9b  main -> main\n"
     ]
    },
    {
     "name": "stdout",
     "output_type": "stream",
     "text": [
      "   sleeping for 540s\n",
      "140 of 100000\n",
      "   recording for 60s; saving to /home/pi/good-vibrations/data/gpepp/2022-05-24T12:55:29.679.wav\n",
      "   uploading data to GitHub\n",
      "Already up to date.\n",
      "[main f65e7a9] record_wav\n",
      " 2 files changed, 23 insertions(+), 1 deletion(-)\n",
      " create mode 100644 data/gpepp/2022-05-24T12:55:29.679.wav\n"
     ]
    },
    {
     "name": "stderr",
     "output_type": "stream",
     "text": [
      "To https://github.com/aubreymoore/good-vibrations.git\n",
      "   7713b9b..f65e7a9  main -> main\n"
     ]
    },
    {
     "name": "stdout",
     "output_type": "stream",
     "text": [
      "   sleeping for 540s\n",
      "141 of 100000\n",
      "   recording for 60s; saving to /home/pi/good-vibrations/data/gpepp/2022-05-24T13:05:52.437.wav\n",
      "   uploading data to GitHub\n",
      "Already up to date.\n",
      "[main d1ee546] record_wav\n",
      " 2 files changed, 23 insertions(+), 1 deletion(-)\n",
      " create mode 100644 data/gpepp/2022-05-24T13:05:52.437.wav\n"
     ]
    },
    {
     "name": "stderr",
     "output_type": "stream",
     "text": [
      "To https://github.com/aubreymoore/good-vibrations.git\n",
      "   f65e7a9..d1ee546  main -> main\n"
     ]
    },
    {
     "name": "stdout",
     "output_type": "stream",
     "text": [
      "   sleeping for 540s\n",
      "142 of 100000\n",
      "   recording for 60s; saving to /home/pi/good-vibrations/data/gpepp/2022-05-24T13:16:00.083.wav\n",
      "   uploading data to GitHub\n",
      "Already up to date.\n",
      "[main 1beba2c] record_wav\n",
      " 2 files changed, 23 insertions(+), 1 deletion(-)\n",
      " create mode 100644 data/gpepp/2022-05-24T13:16:00.083.wav\n"
     ]
    },
    {
     "name": "stderr",
     "output_type": "stream",
     "text": [
      "To https://github.com/aubreymoore/good-vibrations.git\n",
      "   d1ee546..1beba2c  main -> main\n"
     ]
    },
    {
     "name": "stdout",
     "output_type": "stream",
     "text": [
      "   sleeping for 540s\n",
      "143 of 100000\n",
      "   recording for 60s; saving to /home/pi/good-vibrations/data/gpepp/2022-05-24T13:26:11.575.wav\n",
      "   uploading data to GitHub\n",
      "Already up to date.\n",
      "[main 784521f] record_wav\n",
      " 2 files changed, 23 insertions(+), 1 deletion(-)\n",
      " create mode 100644 data/gpepp/2022-05-24T13:26:11.575.wav\n"
     ]
    },
    {
     "name": "stderr",
     "output_type": "stream",
     "text": [
      "To https://github.com/aubreymoore/good-vibrations.git\n",
      "   1beba2c..784521f  main -> main\n"
     ]
    },
    {
     "name": "stdout",
     "output_type": "stream",
     "text": [
      "   sleeping for 540s\n",
      "144 of 100000\n",
      "   recording for 60s; saving to /home/pi/good-vibrations/data/gpepp/2022-05-24T13:36:23.825.wav\n",
      "   uploading data to GitHub\n",
      "Already up to date.\n",
      "[main 89b5416] record_wav\n",
      " 2 files changed, 21 insertions(+), 1 deletion(-)\n",
      " create mode 100644 data/gpepp/2022-05-24T13:36:23.825.wav\n"
     ]
    },
    {
     "name": "stderr",
     "output_type": "stream",
     "text": [
      "To https://github.com/aubreymoore/good-vibrations.git\n",
      "   784521f..89b5416  main -> main\n"
     ]
    },
    {
     "name": "stdout",
     "output_type": "stream",
     "text": [
      "   sleeping for 540s\n",
      "145 of 100000\n",
      "   recording for 60s; saving to /home/pi/good-vibrations/data/gpepp/2022-05-24T13:46:31.490.wav\n",
      "   uploading data to GitHub\n",
      "Already up to date.\n",
      "[main a56ba9d] record_wav\n",
      " 2 files changed, 22 insertions(+)\n",
      " create mode 100644 data/gpepp/2022-05-24T13:46:31.490.wav\n"
     ]
    },
    {
     "name": "stderr",
     "output_type": "stream",
     "text": [
      "To https://github.com/aubreymoore/good-vibrations.git\n",
      "   89b5416..a56ba9d  main -> main\n"
     ]
    },
    {
     "name": "stdout",
     "output_type": "stream",
     "text": [
      "   sleeping for 540s\n",
      "146 of 100000\n",
      "   recording for 60s; saving to /home/pi/good-vibrations/data/gpepp/2022-05-24T13:56:40.947.wav\n",
      "   uploading data to GitHub\n",
      "Already up to date.\n",
      "[main c79a814] record_wav\n",
      " 2 files changed, 22 insertions(+)\n",
      " create mode 100644 data/gpepp/2022-05-24T13:56:40.947.wav\n"
     ]
    },
    {
     "name": "stderr",
     "output_type": "stream",
     "text": [
      "To https://github.com/aubreymoore/good-vibrations.git\n",
      "   a56ba9d..c79a814  main -> main\n"
     ]
    },
    {
     "name": "stdout",
     "output_type": "stream",
     "text": [
      "   sleeping for 540s\n",
      "147 of 100000\n",
      "   recording for 60s; saving to /home/pi/good-vibrations/data/gpepp/2022-05-24T14:06:49.403.wav\n",
      "   uploading data to GitHub\n",
      "Already up to date.\n",
      "[main 2c0ca76] record_wav\n",
      " 2 files changed, 22 insertions(+)\n",
      " create mode 100644 data/gpepp/2022-05-24T14:06:49.403.wav\n"
     ]
    },
    {
     "name": "stderr",
     "output_type": "stream",
     "text": [
      "To https://github.com/aubreymoore/good-vibrations.git\n",
      "   c79a814..2c0ca76  main -> main\n"
     ]
    },
    {
     "name": "stdout",
     "output_type": "stream",
     "text": [
      "   sleeping for 540s\n",
      "148 of 100000\n",
      "   recording for 60s; saving to /home/pi/good-vibrations/data/gpepp/2022-05-24T14:16:56.749.wav\n",
      "   uploading data to GitHub\n",
      "Already up to date.\n",
      "[main 2020a87] record_wav\n",
      " 2 files changed, 22 insertions(+)\n",
      " create mode 100644 data/gpepp/2022-05-24T14:16:56.749.wav\n"
     ]
    },
    {
     "name": "stderr",
     "output_type": "stream",
     "text": [
      "To https://github.com/aubreymoore/good-vibrations.git\n",
      "   2c0ca76..2020a87  main -> main\n"
     ]
    },
    {
     "name": "stdout",
     "output_type": "stream",
     "text": [
      "   sleeping for 540s\n",
      "149 of 100000\n",
      "   recording for 60s; saving to /home/pi/good-vibrations/data/gpepp/2022-05-24T14:27:17.699.wav\n",
      "   uploading data to GitHub\n",
      "Already up to date.\n",
      "[main 9020d4b] record_wav\n",
      " 2 files changed, 22 insertions(+)\n",
      " create mode 100644 data/gpepp/2022-05-24T14:27:17.699.wav\n"
     ]
    },
    {
     "name": "stderr",
     "output_type": "stream",
     "text": [
      "To https://github.com/aubreymoore/good-vibrations.git\n",
      "   2020a87..9020d4b  main -> main\n"
     ]
    },
    {
     "name": "stdout",
     "output_type": "stream",
     "text": [
      "   sleeping for 540s\n",
      "150 of 100000\n",
      "   recording for 60s; saving to /home/pi/good-vibrations/data/gpepp/2022-05-24T14:37:25.329.wav\n",
      "   uploading data to GitHub\n",
      "Already up to date.\n",
      "[main 7ddf146] record_wav\n",
      " 2 files changed, 22 insertions(+)\n",
      " create mode 100644 data/gpepp/2022-05-24T14:37:25.329.wav\n"
     ]
    },
    {
     "name": "stderr",
     "output_type": "stream",
     "text": [
      "To https://github.com/aubreymoore/good-vibrations.git\n",
      "   9020d4b..7ddf146  main -> main\n"
     ]
    },
    {
     "name": "stdout",
     "output_type": "stream",
     "text": [
      "   sleeping for 540s\n",
      "151 of 100000\n",
      "   recording for 60s; saving to /home/pi/good-vibrations/data/gpepp/2022-05-24T14:47:32.269.wav\n",
      "   uploading data to GitHub\n",
      "Already up to date.\n",
      "[main f935ae1] record_wav\n",
      " 2 files changed, 25 insertions(+), 1 deletion(-)\n",
      " create mode 100644 data/gpepp/2022-05-24T14:47:32.269.wav\n"
     ]
    },
    {
     "name": "stderr",
     "output_type": "stream",
     "text": [
      "To https://github.com/aubreymoore/good-vibrations.git\n",
      "   7ddf146..f935ae1  main -> main\n"
     ]
    },
    {
     "name": "stdout",
     "output_type": "stream",
     "text": [
      "   sleeping for 540s\n",
      "152 of 100000\n",
      "   recording for 60s; saving to /home/pi/good-vibrations/data/gpepp/2022-05-24T14:57:39.599.wav\n",
      "   uploading data to GitHub\n",
      "Already up to date.\n",
      "[main 6430b6d] record_wav\n",
      " 2 files changed, 23 insertions(+), 1 deletion(-)\n",
      " create mode 100644 data/gpepp/2022-05-24T14:57:39.599.wav\n"
     ]
    },
    {
     "name": "stderr",
     "output_type": "stream",
     "text": [
      "To https://github.com/aubreymoore/good-vibrations.git\n",
      "   f935ae1..6430b6d  main -> main\n"
     ]
    },
    {
     "name": "stdout",
     "output_type": "stream",
     "text": [
      "   sleeping for 540s\n",
      "153 of 100000\n",
      "   recording for 60s; saving to /home/pi/good-vibrations/data/gpepp/2022-05-24T15:07:47.419.wav\n",
      "   uploading data to GitHub\n",
      "Already up to date.\n",
      "[main 9aa5d58] record_wav\n",
      " 2 files changed, 23 insertions(+), 1 deletion(-)\n",
      " create mode 100644 data/gpepp/2022-05-24T15:07:47.419.wav\n"
     ]
    },
    {
     "name": "stderr",
     "output_type": "stream",
     "text": [
      "To https://github.com/aubreymoore/good-vibrations.git\n",
      "   6430b6d..9aa5d58  main -> main\n"
     ]
    },
    {
     "name": "stdout",
     "output_type": "stream",
     "text": [
      "   sleeping for 540s\n",
      "154 of 100000\n",
      "   recording for 60s; saving to /home/pi/good-vibrations/data/gpepp/2022-05-24T15:17:55.367.wav\n",
      "   uploading data to GitHub\n",
      "Already up to date.\n",
      "[main 9605e2a] record_wav\n",
      " 2 files changed, 23 insertions(+), 1 deletion(-)\n",
      " create mode 100644 data/gpepp/2022-05-24T15:17:55.367.wav\n"
     ]
    },
    {
     "name": "stderr",
     "output_type": "stream",
     "text": [
      "To https://github.com/aubreymoore/good-vibrations.git\n",
      "   9aa5d58..9605e2a  main -> main\n"
     ]
    },
    {
     "name": "stdout",
     "output_type": "stream",
     "text": [
      "   sleeping for 540s\n",
      "155 of 100000\n",
      "   recording for 60s; saving to /home/pi/good-vibrations/data/gpepp/2022-05-24T15:28:02.443.wav\n",
      "   uploading data to GitHub\n",
      "Already up to date.\n",
      "[main 651501c] record_wav\n",
      " 2 files changed, 23 insertions(+), 1 deletion(-)\n",
      " create mode 100644 data/gpepp/2022-05-24T15:28:02.443.wav\n"
     ]
    },
    {
     "name": "stderr",
     "output_type": "stream",
     "text": [
      "To https://github.com/aubreymoore/good-vibrations.git\n",
      "   9605e2a..651501c  main -> main\n"
     ]
    },
    {
     "name": "stdout",
     "output_type": "stream",
     "text": [
      "   sleeping for 540s\n",
      "156 of 100000\n",
      "   recording for 60s; saving to /home/pi/good-vibrations/data/gpepp/2022-05-24T15:38:09.035.wav\n",
      "   uploading data to GitHub\n",
      "Already up to date.\n",
      "[main 5bd2a10] record_wav\n",
      " 2 files changed, 23 insertions(+), 1 deletion(-)\n",
      " create mode 100644 data/gpepp/2022-05-24T15:38:09.035.wav\n"
     ]
    },
    {
     "name": "stderr",
     "output_type": "stream",
     "text": [
      "To https://github.com/aubreymoore/good-vibrations.git\n",
      "   651501c..5bd2a10  main -> main\n"
     ]
    },
    {
     "name": "stdout",
     "output_type": "stream",
     "text": [
      "   sleeping for 540s\n",
      "157 of 100000\n",
      "   recording for 60s; saving to /home/pi/good-vibrations/data/gpepp/2022-05-24T15:48:15.739.wav\n",
      "   uploading data to GitHub\n",
      "Already up to date.\n",
      "[main efc6ce7] record_wav\n",
      " 2 files changed, 23 insertions(+), 1 deletion(-)\n",
      " create mode 100644 data/gpepp/2022-05-24T15:48:15.739.wav\n"
     ]
    },
    {
     "name": "stderr",
     "output_type": "stream",
     "text": [
      "To https://github.com/aubreymoore/good-vibrations.git\n",
      "   5bd2a10..efc6ce7  main -> main\n"
     ]
    },
    {
     "name": "stdout",
     "output_type": "stream",
     "text": [
      "   sleeping for 540s\n",
      "158 of 100000\n",
      "   recording for 60s; saving to /home/pi/good-vibrations/data/gpepp/2022-05-24T15:58:22.187.wav\n",
      "   uploading data to GitHub\n",
      "Already up to date.\n",
      "[main f69867a] record_wav\n",
      " 2 files changed, 23 insertions(+), 1 deletion(-)\n",
      " create mode 100644 data/gpepp/2022-05-24T15:58:22.187.wav\n"
     ]
    },
    {
     "name": "stderr",
     "output_type": "stream",
     "text": [
      "To https://github.com/aubreymoore/good-vibrations.git\n",
      "   efc6ce7..f69867a  main -> main\n"
     ]
    },
    {
     "name": "stdout",
     "output_type": "stream",
     "text": [
      "   sleeping for 540s\n",
      "159 of 100000\n",
      "   recording for 60s; saving to /home/pi/good-vibrations/data/gpepp/2022-05-24T16:08:28.899.wav\n",
      "   uploading data to GitHub\n",
      "Already up to date.\n",
      "[main 678b057] record_wav\n",
      " 2 files changed, 23 insertions(+), 1 deletion(-)\n",
      " create mode 100644 data/gpepp/2022-05-24T16:08:28.899.wav\n"
     ]
    },
    {
     "name": "stderr",
     "output_type": "stream",
     "text": [
      "To https://github.com/aubreymoore/good-vibrations.git\n",
      "   f69867a..678b057  main -> main\n"
     ]
    },
    {
     "name": "stdout",
     "output_type": "stream",
     "text": [
      "   sleeping for 540s\n",
      "160 of 100000\n",
      "   recording for 60s; saving to /home/pi/good-vibrations/data/gpepp/2022-05-24T16:18:35.694.wav\n",
      "   uploading data to GitHub\n",
      "Already up to date.\n",
      "[main 75281ab] record_wav\n",
      " 2 files changed, 23 insertions(+), 1 deletion(-)\n",
      " create mode 100644 data/gpepp/2022-05-24T16:18:35.694.wav\n"
     ]
    },
    {
     "name": "stderr",
     "output_type": "stream",
     "text": [
      "To https://github.com/aubreymoore/good-vibrations.git\n",
      "   678b057..75281ab  main -> main\n"
     ]
    },
    {
     "name": "stdout",
     "output_type": "stream",
     "text": [
      "   sleeping for 540s\n",
      "161 of 100000\n",
      "   recording for 60s; saving to /home/pi/good-vibrations/data/gpepp/2022-05-24T16:28:44.762.wav\n",
      "   uploading data to GitHub\n",
      "Already up to date.\n",
      "[main 8b801a2] record_wav\n",
      " 2 files changed, 21 insertions(+), 1 deletion(-)\n",
      " create mode 100644 data/gpepp/2022-05-24T16:28:44.762.wav\n"
     ]
    },
    {
     "name": "stderr",
     "output_type": "stream",
     "text": [
      "To https://github.com/aubreymoore/good-vibrations.git\n",
      "   75281ab..8b801a2  main -> main\n"
     ]
    },
    {
     "name": "stdout",
     "output_type": "stream",
     "text": [
      "   sleeping for 540s\n",
      "162 of 100000\n",
      "   recording for 60s; saving to /home/pi/good-vibrations/data/gpepp/2022-05-24T16:38:52.893.wav\n",
      "   uploading data to GitHub\n",
      "Already up to date.\n",
      "[main 9811e0c] record_wav\n",
      " 2 files changed, 22 insertions(+)\n",
      " create mode 100644 data/gpepp/2022-05-24T16:38:52.893.wav\n"
     ]
    },
    {
     "name": "stderr",
     "output_type": "stream",
     "text": [
      "To https://github.com/aubreymoore/good-vibrations.git\n",
      "   8b801a2..9811e0c  main -> main\n"
     ]
    },
    {
     "name": "stdout",
     "output_type": "stream",
     "text": [
      "   sleeping for 540s\n",
      "163 of 100000\n",
      "   recording for 60s; saving to /home/pi/good-vibrations/data/gpepp/2022-05-24T16:48:59.889.wav\n",
      "   uploading data to GitHub\n",
      "Already up to date.\n",
      "[main d19530e] record_wav\n",
      " 2 files changed, 22 insertions(+)\n",
      " create mode 100644 data/gpepp/2022-05-24T16:48:59.889.wav\n"
     ]
    },
    {
     "name": "stderr",
     "output_type": "stream",
     "text": [
      "To https://github.com/aubreymoore/good-vibrations.git\n",
      "   9811e0c..d19530e  main -> main\n"
     ]
    },
    {
     "name": "stdout",
     "output_type": "stream",
     "text": [
      "   sleeping for 540s\n",
      "164 of 100000\n",
      "   recording for 60s; saving to /home/pi/good-vibrations/data/gpepp/2022-05-24T16:59:06.709.wav\n",
      "   uploading data to GitHub\n",
      "Already up to date.\n",
      "[main 9f7d729] record_wav\n",
      " 2 files changed, 22 insertions(+)\n",
      " create mode 100644 data/gpepp/2022-05-24T16:59:06.709.wav\n"
     ]
    },
    {
     "name": "stderr",
     "output_type": "stream",
     "text": [
      "To https://github.com/aubreymoore/good-vibrations.git\n",
      "   d19530e..9f7d729  main -> main\n"
     ]
    },
    {
     "name": "stdout",
     "output_type": "stream",
     "text": [
      "   sleeping for 540s\n",
      "165 of 100000\n",
      "   recording for 60s; saving to /home/pi/good-vibrations/data/gpepp/2022-05-24T17:09:13.159.wav\n",
      "   uploading data to GitHub\n",
      "Already up to date.\n",
      "[main 9f8a38f] record_wav\n",
      " 2 files changed, 22 insertions(+)\n",
      " create mode 100644 data/gpepp/2022-05-24T17:09:13.159.wav\n"
     ]
    },
    {
     "name": "stderr",
     "output_type": "stream",
     "text": [
      "To https://github.com/aubreymoore/good-vibrations.git\n",
      "   9f7d729..9f8a38f  main -> main\n"
     ]
    },
    {
     "name": "stdout",
     "output_type": "stream",
     "text": [
      "   sleeping for 540s\n",
      "166 of 100000\n",
      "   recording for 60s; saving to /home/pi/good-vibrations/data/gpepp/2022-05-24T17:19:19.921.wav\n",
      "   uploading data to GitHub\n",
      "Already up to date.\n",
      "[main f6f60ad] record_wav\n",
      " 2 files changed, 22 insertions(+)\n",
      " create mode 100644 data/gpepp/2022-05-24T17:19:19.921.wav\n"
     ]
    },
    {
     "name": "stderr",
     "output_type": "stream",
     "text": [
      "To https://github.com/aubreymoore/good-vibrations.git\n",
      "   9f8a38f..f6f60ad  main -> main\n"
     ]
    },
    {
     "name": "stdout",
     "output_type": "stream",
     "text": [
      "   sleeping for 540s\n",
      "167 of 100000\n",
      "   recording for 60s; saving to /home/pi/good-vibrations/data/gpepp/2022-05-24T17:29:26.499.wav\n",
      "   uploading data to GitHub\n",
      "Already up to date.\n",
      "[main 5daa392] record_wav\n",
      " 2 files changed, 22 insertions(+)\n",
      " create mode 100644 data/gpepp/2022-05-24T17:29:26.499.wav\n"
     ]
    },
    {
     "name": "stderr",
     "output_type": "stream",
     "text": [
      "To https://github.com/aubreymoore/good-vibrations.git\n",
      "   f6f60ad..5daa392  main -> main\n"
     ]
    },
    {
     "name": "stdout",
     "output_type": "stream",
     "text": [
      "   sleeping for 540s\n",
      "168 of 100000\n",
      "   recording for 60s; saving to /home/pi/good-vibrations/data/gpepp/2022-05-24T17:39:32.949.wav\n",
      "   uploading data to GitHub\n",
      "Already up to date.\n",
      "[main df6af62] record_wav\n",
      " 2 files changed, 22 insertions(+)\n",
      " create mode 100644 data/gpepp/2022-05-24T17:39:32.949.wav\n"
     ]
    },
    {
     "name": "stderr",
     "output_type": "stream",
     "text": [
      "To https://github.com/aubreymoore/good-vibrations.git\n",
      "   5daa392..df6af62  main -> main\n"
     ]
    },
    {
     "name": "stdout",
     "output_type": "stream",
     "text": [
      "   sleeping for 540s\n",
      "169 of 100000\n",
      "   recording for 60s; saving to /home/pi/good-vibrations/data/gpepp/2022-05-24T17:49:41.719.wav\n",
      "   uploading data to GitHub\n",
      "Already up to date.\n",
      "[main e14938a] record_wav\n",
      " 2 files changed, 22 insertions(+)\n",
      " create mode 100644 data/gpepp/2022-05-24T17:49:41.719.wav\n"
     ]
    },
    {
     "name": "stderr",
     "output_type": "stream",
     "text": [
      "To https://github.com/aubreymoore/good-vibrations.git\n",
      "   df6af62..e14938a  main -> main\n"
     ]
    },
    {
     "name": "stdout",
     "output_type": "stream",
     "text": [
      "   sleeping for 540s\n",
      "170 of 100000\n",
      "   recording for 60s; saving to /home/pi/good-vibrations/data/gpepp/2022-05-24T17:59:48.669.wav\n",
      "   uploading data to GitHub\n",
      "Already up to date.\n",
      "[main e9fc683] record_wav\n",
      " 2 files changed, 25 insertions(+), 1 deletion(-)\n",
      " create mode 100644 data/gpepp/2022-05-24T17:59:48.669.wav\n"
     ]
    },
    {
     "name": "stderr",
     "output_type": "stream",
     "text": [
      "To https://github.com/aubreymoore/good-vibrations.git\n",
      "   e14938a..e9fc683  main -> main\n"
     ]
    },
    {
     "name": "stdout",
     "output_type": "stream",
     "text": [
      "   sleeping for 540s\n",
      "171 of 100000\n",
      "   recording for 60s; saving to /home/pi/good-vibrations/data/gpepp/2022-05-24T18:09:56.319.wav\n",
      "   uploading data to GitHub\n",
      "Already up to date.\n",
      "[main ae4f88b] record_wav\n",
      " 2 files changed, 23 insertions(+), 1 deletion(-)\n",
      " create mode 100644 data/gpepp/2022-05-24T18:09:56.319.wav\n"
     ]
    },
    {
     "name": "stderr",
     "output_type": "stream",
     "text": [
      "To https://github.com/aubreymoore/good-vibrations.git\n",
      "   e9fc683..ae4f88b  main -> main\n"
     ]
    },
    {
     "name": "stdout",
     "output_type": "stream",
     "text": [
      "   sleeping for 540s\n",
      "172 of 100000\n",
      "   recording for 60s; saving to /home/pi/good-vibrations/data/gpepp/2022-05-24T18:20:03.020.wav\n",
      "   uploading data to GitHub\n",
      "Already up to date.\n",
      "[main 4856076] record_wav\n",
      " 2 files changed, 23 insertions(+), 1 deletion(-)\n",
      " create mode 100644 data/gpepp/2022-05-24T18:20:03.020.wav\n"
     ]
    },
    {
     "name": "stderr",
     "output_type": "stream",
     "text": [
      "To https://github.com/aubreymoore/good-vibrations.git\n",
      "   ae4f88b..4856076  main -> main\n"
     ]
    },
    {
     "name": "stdout",
     "output_type": "stream",
     "text": [
      "   sleeping for 540s\n",
      "173 of 100000\n",
      "   recording for 60s; saving to /home/pi/good-vibrations/data/gpepp/2022-05-24T18:30:11.146.wav\n",
      "   uploading data to GitHub\n",
      "Already up to date.\n",
      "[main 93ab7be] record_wav\n",
      " 2 files changed, 23 insertions(+), 1 deletion(-)\n",
      " create mode 100644 data/gpepp/2022-05-24T18:30:11.146.wav\n"
     ]
    },
    {
     "name": "stderr",
     "output_type": "stream",
     "text": [
      "To https://github.com/aubreymoore/good-vibrations.git\n",
      "   4856076..93ab7be  main -> main\n"
     ]
    },
    {
     "name": "stdout",
     "output_type": "stream",
     "text": [
      "   sleeping for 540s\n",
      "174 of 100000\n",
      "   recording for 60s; saving to /home/pi/good-vibrations/data/gpepp/2022-05-24T18:40:17.490.wav\n",
      "   uploading data to GitHub\n",
      "Already up to date.\n",
      "[main c55250f] record_wav\n",
      " 2 files changed, 23 insertions(+), 1 deletion(-)\n",
      " create mode 100644 data/gpepp/2022-05-24T18:40:17.490.wav\n"
     ]
    },
    {
     "name": "stderr",
     "output_type": "stream",
     "text": [
      "To https://github.com/aubreymoore/good-vibrations.git\n",
      "   93ab7be..c55250f  main -> main\n"
     ]
    },
    {
     "name": "stdout",
     "output_type": "stream",
     "text": [
      "   sleeping for 540s\n",
      "175 of 100000\n",
      "   recording for 60s; saving to /home/pi/good-vibrations/data/gpepp/2022-05-24T18:50:23.789.wav\n",
      "   uploading data to GitHub\n",
      "Already up to date.\n",
      "[main 7df7e80] record_wav\n",
      " 2 files changed, 23 insertions(+), 1 deletion(-)\n",
      " create mode 100644 data/gpepp/2022-05-24T18:50:23.789.wav\n"
     ]
    },
    {
     "name": "stderr",
     "output_type": "stream",
     "text": [
      "To https://github.com/aubreymoore/good-vibrations.git\n",
      "   c55250f..7df7e80  main -> main\n"
     ]
    },
    {
     "name": "stdout",
     "output_type": "stream",
     "text": [
      "   sleeping for 540s\n",
      "176 of 100000\n",
      "   recording for 60s; saving to /home/pi/good-vibrations/data/gpepp/2022-05-24T19:00:30.419.wav\n",
      "   uploading data to GitHub\n",
      "Already up to date.\n",
      "[main 7a71814] record_wav\n",
      " 2 files changed, 23 insertions(+), 1 deletion(-)\n",
      " create mode 100644 data/gpepp/2022-05-24T19:00:30.419.wav\n"
     ]
    },
    {
     "name": "stderr",
     "output_type": "stream",
     "text": [
      "To https://github.com/aubreymoore/good-vibrations.git\n",
      "   7df7e80..7a71814  main -> main\n"
     ]
    },
    {
     "name": "stdout",
     "output_type": "stream",
     "text": [
      "   sleeping for 540s\n",
      "177 of 100000\n",
      "   recording for 60s; saving to /home/pi/good-vibrations/data/gpepp/2022-05-24T19:10:36.801.wav\n",
      "   uploading data to GitHub\n",
      "Already up to date.\n",
      "[main a37cf00] record_wav\n",
      " 2 files changed, 23 insertions(+), 1 deletion(-)\n",
      " create mode 100644 data/gpepp/2022-05-24T19:10:36.801.wav\n"
     ]
    },
    {
     "name": "stderr",
     "output_type": "stream",
     "text": [
      "To https://github.com/aubreymoore/good-vibrations.git\n",
      "   7a71814..a37cf00  main -> main\n"
     ]
    },
    {
     "name": "stdout",
     "output_type": "stream",
     "text": [
      "   sleeping for 540s\n",
      "178 of 100000\n",
      "   recording for 60s; saving to /home/pi/good-vibrations/data/gpepp/2022-05-24T19:20:45.799.wav\n",
      "   uploading data to GitHub\n",
      "Already up to date.\n",
      "[main a4bf6fa] record_wav\n",
      " 2 files changed, 23 insertions(+), 1 deletion(-)\n",
      " create mode 100644 data/gpepp/2022-05-24T19:20:45.799.wav\n"
     ]
    },
    {
     "name": "stderr",
     "output_type": "stream",
     "text": [
      "To https://github.com/aubreymoore/good-vibrations.git\n",
      "   a37cf00..a4bf6fa  main -> main\n"
     ]
    },
    {
     "name": "stdout",
     "output_type": "stream",
     "text": [
      "   sleeping for 540s\n",
      "179 of 100000\n",
      "   recording for 60s; saving to /home/pi/good-vibrations/data/gpepp/2022-05-24T19:30:52.434.wav\n",
      "   uploading data to GitHub\n",
      "Already up to date.\n",
      "[main a6fc335] record_wav\n",
      " 2 files changed, 23 insertions(+), 1 deletion(-)\n",
      " create mode 100644 data/gpepp/2022-05-24T19:30:52.434.wav\n"
     ]
    },
    {
     "name": "stderr",
     "output_type": "stream",
     "text": [
      "To https://github.com/aubreymoore/good-vibrations.git\n",
      "   a4bf6fa..a6fc335  main -> main\n"
     ]
    },
    {
     "name": "stdout",
     "output_type": "stream",
     "text": [
      "   sleeping for 540s\n",
      "180 of 100000\n",
      "   recording for 60s; saving to /home/pi/good-vibrations/data/gpepp/2022-05-24T19:40:59.270.wav\n",
      "   uploading data to GitHub\n",
      "Already up to date.\n",
      "[main e54a95e] record_wav\n",
      " 2 files changed, 21 insertions(+), 1 deletion(-)\n",
      " create mode 100644 data/gpepp/2022-05-24T19:40:59.270.wav\n"
     ]
    },
    {
     "name": "stderr",
     "output_type": "stream",
     "text": [
      "To https://github.com/aubreymoore/good-vibrations.git\n",
      "   a6fc335..e54a95e  main -> main\n"
     ]
    },
    {
     "name": "stdout",
     "output_type": "stream",
     "text": [
      "   sleeping for 540s\n",
      "181 of 100000\n",
      "   recording for 60s; saving to /home/pi/good-vibrations/data/gpepp/2022-05-24T19:51:05.779.wav\n",
      "   uploading data to GitHub\n",
      "Already up to date.\n",
      "[main 6e2fa26] record_wav\n",
      " 2 files changed, 22 insertions(+)\n",
      " create mode 100644 data/gpepp/2022-05-24T19:51:05.779.wav\n"
     ]
    },
    {
     "name": "stderr",
     "output_type": "stream",
     "text": [
      "To https://github.com/aubreymoore/good-vibrations.git\n",
      "   e54a95e..6e2fa26  main -> main\n"
     ]
    },
    {
     "name": "stdout",
     "output_type": "stream",
     "text": [
      "   sleeping for 540s\n",
      "182 of 100000\n",
      "   recording for 60s; saving to /home/pi/good-vibrations/data/gpepp/2022-05-24T20:01:12.439.wav\n",
      "   uploading data to GitHub\n",
      "Already up to date.\n",
      "[main 02bde3f] record_wav\n",
      " 2 files changed, 22 insertions(+)\n",
      " create mode 100644 data/gpepp/2022-05-24T20:01:12.439.wav\n"
     ]
    },
    {
     "name": "stderr",
     "output_type": "stream",
     "text": [
      "To https://github.com/aubreymoore/good-vibrations.git\n",
      "   6e2fa26..02bde3f  main -> main\n"
     ]
    },
    {
     "name": "stdout",
     "output_type": "stream",
     "text": [
      "   sleeping for 540s\n",
      "183 of 100000\n",
      "   recording for 60s; saving to /home/pi/good-vibrations/data/gpepp/2022-05-24T20:11:19.086.wav\n",
      "   uploading data to GitHub\n",
      "Already up to date.\n",
      "[main 80a3e54] record_wav\n",
      " 2 files changed, 22 insertions(+)\n",
      " create mode 100644 data/gpepp/2022-05-24T20:11:19.086.wav\n"
     ]
    },
    {
     "name": "stderr",
     "output_type": "stream",
     "text": [
      "To https://github.com/aubreymoore/good-vibrations.git\n",
      "   02bde3f..80a3e54  main -> main\n"
     ]
    },
    {
     "name": "stdout",
     "output_type": "stream",
     "text": [
      "   sleeping for 540s\n",
      "184 of 100000\n",
      "   recording for 60s; saving to /home/pi/good-vibrations/data/gpepp/2022-05-24T20:21:26.091.wav\n",
      "   uploading data to GitHub\n",
      "Already up to date.\n",
      "[main 66751ad] record_wav\n",
      " 2 files changed, 22 insertions(+)\n",
      " create mode 100644 data/gpepp/2022-05-24T20:21:26.091.wav\n"
     ]
    },
    {
     "name": "stderr",
     "output_type": "stream",
     "text": [
      "To https://github.com/aubreymoore/good-vibrations.git\n",
      "   80a3e54..66751ad  main -> main\n"
     ]
    },
    {
     "name": "stdout",
     "output_type": "stream",
     "text": [
      "   sleeping for 540s\n",
      "185 of 100000\n",
      "   recording for 60s; saving to /home/pi/good-vibrations/data/gpepp/2022-05-24T20:31:32.749.wav\n",
      "   uploading data to GitHub\n",
      "Already up to date.\n",
      "[main 168c5a1] record_wav\n",
      " 2 files changed, 22 insertions(+)\n",
      " create mode 100644 data/gpepp/2022-05-24T20:31:32.749.wav\n"
     ]
    },
    {
     "name": "stderr",
     "output_type": "stream",
     "text": [
      "To https://github.com/aubreymoore/good-vibrations.git\n",
      "   66751ad..168c5a1  main -> main\n"
     ]
    },
    {
     "name": "stdout",
     "output_type": "stream",
     "text": [
      "   sleeping for 540s\n",
      "186 of 100000\n",
      "   recording for 60s; saving to /home/pi/good-vibrations/data/gpepp/2022-05-24T20:41:43.021.wav\n",
      "   uploading data to GitHub\n",
      "Already up to date.\n",
      "[main f333c5b] record_wav\n",
      " 2 files changed, 22 insertions(+)\n",
      " create mode 100644 data/gpepp/2022-05-24T20:41:43.021.wav\n"
     ]
    },
    {
     "name": "stderr",
     "output_type": "stream",
     "text": [
      "To https://github.com/aubreymoore/good-vibrations.git\n",
      "   168c5a1..f333c5b  main -> main\n"
     ]
    },
    {
     "name": "stdout",
     "output_type": "stream",
     "text": [
      "   sleeping for 540s\n",
      "187 of 100000\n",
      "   recording for 60s; saving to /home/pi/good-vibrations/data/gpepp/2022-05-24T20:51:51.132.wav\n",
      "   uploading data to GitHub\n",
      "Already up to date.\n",
      "[main 2895c7e] record_wav\n",
      " 2 files changed, 22 insertions(+)\n",
      " create mode 100644 data/gpepp/2022-05-24T20:51:51.132.wav\n"
     ]
    },
    {
     "name": "stderr",
     "output_type": "stream",
     "text": [
      "To https://github.com/aubreymoore/good-vibrations.git\n",
      "   f333c5b..2895c7e  main -> main\n"
     ]
    },
    {
     "name": "stdout",
     "output_type": "stream",
     "text": [
      "   sleeping for 540s\n",
      "188 of 100000\n",
      "   recording for 60s; saving to /home/pi/good-vibrations/data/gpepp/2022-05-24T21:01:57.939.wav\n",
      "   uploading data to GitHub\n",
      "Already up to date.\n",
      "[main e601fa0] record_wav\n",
      " 2 files changed, 22 insertions(+)\n",
      " create mode 100644 data/gpepp/2022-05-24T21:01:57.939.wav\n"
     ]
    },
    {
     "name": "stderr",
     "output_type": "stream",
     "text": [
      "To https://github.com/aubreymoore/good-vibrations.git\n",
      "   2895c7e..e601fa0  main -> main\n"
     ]
    },
    {
     "name": "stdout",
     "output_type": "stream",
     "text": [
      "   sleeping for 540s\n",
      "189 of 100000\n",
      "   recording for 60s; saving to /home/pi/good-vibrations/data/gpepp/2022-05-24T21:12:04.599.wav\n",
      "   uploading data to GitHub\n",
      "Already up to date.\n",
      "[main 98acabe] record_wav\n",
      " 2 files changed, 22 insertions(+)\n",
      " create mode 100644 data/gpepp/2022-05-24T21:12:04.599.wav\n"
     ]
    },
    {
     "name": "stderr",
     "output_type": "stream",
     "text": [
      "To https://github.com/aubreymoore/good-vibrations.git\n",
      "   e601fa0..98acabe  main -> main\n"
     ]
    },
    {
     "name": "stdout",
     "output_type": "stream",
     "text": [
      "   sleeping for 540s\n",
      "190 of 100000\n",
      "   recording for 60s; saving to /home/pi/good-vibrations/data/gpepp/2022-05-24T21:22:13.529.wav\n",
      "   uploading data to GitHub\n",
      "Already up to date.\n",
      "[main f0fa0b0] record_wav\n",
      " 2 files changed, 25 insertions(+), 1 deletion(-)\n",
      " create mode 100644 data/gpepp/2022-05-24T21:22:13.529.wav\n"
     ]
    },
    {
     "name": "stderr",
     "output_type": "stream",
     "text": [
      "To https://github.com/aubreymoore/good-vibrations.git\n",
      "   98acabe..f0fa0b0  main -> main\n"
     ]
    },
    {
     "name": "stdout",
     "output_type": "stream",
     "text": [
      "   sleeping for 540s\n",
      "191 of 100000\n",
      "   recording for 60s; saving to /home/pi/good-vibrations/data/gpepp/2022-05-24T21:32:23.410.wav\n",
      "   uploading data to GitHub\n",
      "Already up to date.\n",
      "[main 666423e] record_wav\n",
      " 2 files changed, 23 insertions(+), 1 deletion(-)\n",
      " create mode 100644 data/gpepp/2022-05-24T21:32:23.410.wav\n"
     ]
    },
    {
     "name": "stderr",
     "output_type": "stream",
     "text": [
      "To https://github.com/aubreymoore/good-vibrations.git\n",
      "   f0fa0b0..666423e  main -> main\n"
     ]
    },
    {
     "name": "stdout",
     "output_type": "stream",
     "text": [
      "   sleeping for 540s\n",
      "192 of 100000\n",
      "   recording for 60s; saving to /home/pi/good-vibrations/data/gpepp/2022-05-24T21:42:30.101.wav\n",
      "   uploading data to GitHub\n",
      "Already up to date.\n",
      "[main 231b41c] record_wav\n",
      " 2 files changed, 23 insertions(+), 1 deletion(-)\n",
      " create mode 100644 data/gpepp/2022-05-24T21:42:30.101.wav\n"
     ]
    },
    {
     "name": "stderr",
     "output_type": "stream",
     "text": [
      "To https://github.com/aubreymoore/good-vibrations.git\n",
      "   666423e..231b41c  main -> main\n"
     ]
    },
    {
     "name": "stdout",
     "output_type": "stream",
     "text": [
      "   sleeping for 540s\n",
      "193 of 100000\n",
      "   recording for 60s; saving to /home/pi/good-vibrations/data/gpepp/2022-05-24T21:52:36.736.wav\n",
      "   uploading data to GitHub\n",
      "Already up to date.\n",
      "[main 1df945d] record_wav\n",
      " 2 files changed, 23 insertions(+), 1 deletion(-)\n",
      " create mode 100644 data/gpepp/2022-05-24T21:52:36.736.wav\n"
     ]
    },
    {
     "name": "stderr",
     "output_type": "stream",
     "text": [
      "To https://github.com/aubreymoore/good-vibrations.git\n",
      "   231b41c..1df945d  main -> main\n"
     ]
    },
    {
     "name": "stdout",
     "output_type": "stream",
     "text": [
      "   sleeping for 540s\n",
      "194 of 100000\n",
      "   recording for 60s; saving to /home/pi/good-vibrations/data/gpepp/2022-05-24T22:02:47.583.wav\n",
      "   uploading data to GitHub\n",
      "Already up to date.\n",
      "[main e4825d5] record_wav\n",
      " 2 files changed, 23 insertions(+), 1 deletion(-)\n",
      " create mode 100644 data/gpepp/2022-05-24T22:02:47.583.wav\n"
     ]
    },
    {
     "name": "stderr",
     "output_type": "stream",
     "text": [
      "To https://github.com/aubreymoore/good-vibrations.git\n",
      "   1df945d..e4825d5  main -> main\n"
     ]
    },
    {
     "name": "stdout",
     "output_type": "stream",
     "text": [
      "   sleeping for 540s\n",
      "195 of 100000\n",
      "   recording for 60s; saving to /home/pi/good-vibrations/data/gpepp/2022-05-24T22:13:02.747.wav\n",
      "   uploading data to GitHub\n",
      "Already up to date.\n",
      "[main 1e9209a] record_wav\n",
      " 2 files changed, 23 insertions(+), 1 deletion(-)\n",
      " create mode 100644 data/gpepp/2022-05-24T22:13:02.747.wav\n"
     ]
    },
    {
     "name": "stderr",
     "output_type": "stream",
     "text": [
      "To https://github.com/aubreymoore/good-vibrations.git\n",
      "   e4825d5..1e9209a  main -> main\n"
     ]
    },
    {
     "name": "stdout",
     "output_type": "stream",
     "text": [
      "   sleeping for 540s\n",
      "196 of 100000\n",
      "   recording for 60s; saving to /home/pi/good-vibrations/data/gpepp/2022-05-24T22:23:09.189.wav\n",
      "   uploading data to GitHub\n",
      "Already up to date.\n",
      "[main c512a59] record_wav\n",
      " 2 files changed, 23 insertions(+), 1 deletion(-)\n",
      " create mode 100644 data/gpepp/2022-05-24T22:23:09.189.wav\n"
     ]
    },
    {
     "name": "stderr",
     "output_type": "stream",
     "text": [
      "To https://github.com/aubreymoore/good-vibrations.git\n",
      "   1e9209a..c512a59  main -> main\n"
     ]
    },
    {
     "name": "stdout",
     "output_type": "stream",
     "text": [
      "   sleeping for 540s\n",
      "197 of 100000\n",
      "   recording for 60s; saving to /home/pi/good-vibrations/data/gpepp/2022-05-24T22:33:15.992.wav\n",
      "   uploading data to GitHub\n",
      "Already up to date.\n",
      "[main 39b161f] record_wav\n",
      " 2 files changed, 23 insertions(+), 1 deletion(-)\n",
      " create mode 100644 data/gpepp/2022-05-24T22:33:15.992.wav\n"
     ]
    },
    {
     "name": "stderr",
     "output_type": "stream",
     "text": [
      "To https://github.com/aubreymoore/good-vibrations.git\n",
      "   c512a59..39b161f  main -> main\n"
     ]
    },
    {
     "name": "stdout",
     "output_type": "stream",
     "text": [
      "   sleeping for 540s\n",
      "198 of 100000\n",
      "   recording for 60s; saving to /home/pi/good-vibrations/data/gpepp/2022-05-24T22:43:22.555.wav\n",
      "   uploading data to GitHub\n",
      "Already up to date.\n",
      "[main 723b204] record_wav\n",
      " 2 files changed, 23 insertions(+), 1 deletion(-)\n",
      " create mode 100644 data/gpepp/2022-05-24T22:43:22.555.wav\n"
     ]
    },
    {
     "name": "stderr",
     "output_type": "stream",
     "text": [
      "To https://github.com/aubreymoore/good-vibrations.git\n",
      "   39b161f..723b204  main -> main\n"
     ]
    },
    {
     "name": "stdout",
     "output_type": "stream",
     "text": [
      "   sleeping for 540s\n",
      "199 of 100000\n",
      "   recording for 60s; saving to /home/pi/good-vibrations/data/gpepp/2022-05-24T22:53:28.759.wav\n",
      "   uploading data to GitHub\n"
     ]
    },
    {
     "name": "stderr",
     "output_type": "stream",
     "text": [
      "fatal: unable to access 'https://github.com/aubreymoore/good-vibrations.git/': Could not resolve host: github.com\n"
     ]
    },
    {
     "name": "stdout",
     "output_type": "stream",
     "text": [
      "[main d9da897] record_wav\n",
      " 2 files changed, 21 insertions(+), 1 deletion(-)\n",
      " create mode 100644 data/gpepp/2022-05-24T22:53:28.759.wav\n",
      "   sleeping for 540s\n"
     ]
    },
    {
     "name": "stderr",
     "output_type": "stream",
     "text": [
      "fatal: unable to access 'https://github.com/aubreymoore/good-vibrations.git/': Could not resolve host: github.com\n"
     ]
    },
    {
     "name": "stdout",
     "output_type": "stream",
     "text": [
      "200 of 100000\n",
      "   recording for 60s; saving to /home/pi/good-vibrations/data/gpepp/2022-05-24T23:03:29.369.wav\n",
      "   uploading data to GitHub\n",
      "Already up to date.\n",
      "[main c9a9ed2] record_wav\n",
      " 2 files changed, 27 insertions(+)\n",
      " create mode 100644 data/gpepp/2022-05-24T23:03:29.369.wav\n"
     ]
    },
    {
     "name": "stderr",
     "output_type": "stream",
     "text": [
      "To https://github.com/aubreymoore/good-vibrations.git\n",
      "   723b204..c9a9ed2  main -> main\n"
     ]
    },
    {
     "name": "stdout",
     "output_type": "stream",
     "text": [
      "   sleeping for 540s\n",
      "201 of 100000\n",
      "   recording for 60s; saving to /home/pi/good-vibrations/data/gpepp/2022-05-24T23:13:37.749.wav\n",
      "   uploading data to GitHub\n",
      "Already up to date.\n",
      "[main 8336852] record_wav\n",
      " 2 files changed, 28 insertions(+)\n",
      " create mode 100644 data/gpepp/2022-05-24T23:13:37.749.wav\n"
     ]
    },
    {
     "name": "stderr",
     "output_type": "stream",
     "text": [
      "To https://github.com/aubreymoore/good-vibrations.git\n",
      "   c9a9ed2..8336852  main -> main\n"
     ]
    },
    {
     "name": "stdout",
     "output_type": "stream",
     "text": [
      "   sleeping for 540s\n",
      "202 of 100000\n",
      "   recording for 60s; saving to /home/pi/good-vibrations/data/gpepp/2022-05-24T23:23:46.119.wav\n",
      "   uploading data to GitHub\n",
      "Already up to date.\n",
      "[main 9476652] record_wav\n",
      " 2 files changed, 22 insertions(+)\n",
      " create mode 100644 data/gpepp/2022-05-24T23:23:46.119.wav\n"
     ]
    },
    {
     "name": "stderr",
     "output_type": "stream",
     "text": [
      "To https://github.com/aubreymoore/good-vibrations.git\n",
      "   8336852..9476652  main -> main\n"
     ]
    },
    {
     "name": "stdout",
     "output_type": "stream",
     "text": [
      "   sleeping for 540s\n",
      "203 of 100000\n",
      "   recording for 60s; saving to /home/pi/good-vibrations/data/gpepp/2022-05-24T23:33:52.949.wav\n",
      "   uploading data to GitHub\n",
      "Already up to date.\n",
      "[main 4b9866d] record_wav\n",
      " 2 files changed, 22 insertions(+)\n",
      " create mode 100644 data/gpepp/2022-05-24T23:33:52.949.wav\n"
     ]
    },
    {
     "name": "stderr",
     "output_type": "stream",
     "text": [
      "To https://github.com/aubreymoore/good-vibrations.git\n",
      "   9476652..4b9866d  main -> main\n"
     ]
    },
    {
     "name": "stdout",
     "output_type": "stream",
     "text": [
      "   sleeping for 540s\n",
      "204 of 100000\n",
      "   recording for 60s; saving to /home/pi/good-vibrations/data/gpepp/2022-05-24T23:43:59.480.wav\n",
      "   uploading data to GitHub\n",
      "Already up to date.\n",
      "[main 3fe1f0f] record_wav\n",
      " 2 files changed, 22 insertions(+)\n",
      " create mode 100644 data/gpepp/2022-05-24T23:43:59.480.wav\n"
     ]
    },
    {
     "name": "stderr",
     "output_type": "stream",
     "text": [
      "To https://github.com/aubreymoore/good-vibrations.git\n",
      "   4b9866d..3fe1f0f  main -> main\n"
     ]
    },
    {
     "name": "stdout",
     "output_type": "stream",
     "text": [
      "   sleeping for 540s\n",
      "205 of 100000\n",
      "   recording for 60s; saving to /home/pi/good-vibrations/data/gpepp/2022-05-24T23:54:08.749.wav\n",
      "   uploading data to GitHub\n",
      "Already up to date.\n",
      "[main 5ca3901] record_wav\n",
      " 2 files changed, 22 insertions(+)\n",
      " create mode 100644 data/gpepp/2022-05-24T23:54:08.749.wav\n"
     ]
    },
    {
     "name": "stderr",
     "output_type": "stream",
     "text": [
      "To https://github.com/aubreymoore/good-vibrations.git\n",
      "   3fe1f0f..5ca3901  main -> main\n"
     ]
    },
    {
     "name": "stdout",
     "output_type": "stream",
     "text": [
      "   sleeping for 540s\n",
      "206 of 100000\n",
      "   recording for 60s; saving to /home/pi/good-vibrations/data/gpepp/2022-05-25T00:04:18.099.wav\n",
      "   uploading data to GitHub\n",
      "Already up to date.\n",
      "[main 209c836] record_wav\n",
      " 2 files changed, 22 insertions(+)\n",
      " create mode 100644 data/gpepp/2022-05-25T00:04:18.099.wav\n"
     ]
    },
    {
     "name": "stderr",
     "output_type": "stream",
     "text": [
      "To https://github.com/aubreymoore/good-vibrations.git\n",
      "   5ca3901..209c836  main -> main\n"
     ]
    },
    {
     "name": "stdout",
     "output_type": "stream",
     "text": [
      "   sleeping for 540s\n",
      "207 of 100000\n",
      "   recording for 60s; saving to /home/pi/good-vibrations/data/gpepp/2022-05-25T00:14:24.767.wav\n",
      "   uploading data to GitHub\n",
      "Already up to date.\n",
      "[main 4b7f398] record_wav\n",
      " 2 files changed, 22 insertions(+)\n",
      " create mode 100644 data/gpepp/2022-05-25T00:14:24.767.wav\n"
     ]
    },
    {
     "name": "stderr",
     "output_type": "stream",
     "text": [
      "To https://github.com/aubreymoore/good-vibrations.git\n",
      "   209c836..4b7f398  main -> main\n"
     ]
    },
    {
     "name": "stdout",
     "output_type": "stream",
     "text": [
      "   sleeping for 540s\n",
      "208 of 100000\n",
      "   recording for 60s; saving to /home/pi/good-vibrations/data/gpepp/2022-05-25T00:24:31.749.wav\n",
      "   uploading data to GitHub\n",
      "Already up to date.\n",
      "[main cd56884] record_wav\n",
      " 2 files changed, 26 insertions(+), 1 deletion(-)\n",
      " create mode 100644 data/gpepp/2022-05-25T00:24:31.749.wav\n"
     ]
    },
    {
     "name": "stderr",
     "output_type": "stream",
     "text": [
      "To https://github.com/aubreymoore/good-vibrations.git\n",
      "   4b7f398..cd56884  main -> main\n"
     ]
    },
    {
     "name": "stdout",
     "output_type": "stream",
     "text": [
      "   sleeping for 540s\n",
      "209 of 100000\n",
      "   recording for 60s; saving to /home/pi/good-vibrations/data/gpepp/2022-05-25T00:34:38.766.wav\n",
      "   uploading data to GitHub\n",
      "Already up to date.\n",
      "[main 164923d] record_wav\n",
      " 2 files changed, 22 insertions(+), 1 deletion(-)\n",
      " create mode 100644 data/gpepp/2022-05-25T00:34:38.766.wav\n"
     ]
    },
    {
     "name": "stderr",
     "output_type": "stream",
     "text": [
      "To https://github.com/aubreymoore/good-vibrations.git\n",
      "   cd56884..164923d  main -> main\n"
     ]
    },
    {
     "name": "stdout",
     "output_type": "stream",
     "text": [
      "   sleeping for 540s\n",
      "210 of 100000\n",
      "   recording for 60s; saving to /home/pi/good-vibrations/data/gpepp/2022-05-25T00:44:46.900.wav\n",
      "   uploading data to GitHub\n",
      "Already up to date.\n",
      "[main 5956185] record_wav\n",
      " 2 files changed, 23 insertions(+), 1 deletion(-)\n",
      " create mode 100644 data/gpepp/2022-05-25T00:44:46.900.wav\n"
     ]
    },
    {
     "name": "stderr",
     "output_type": "stream",
     "text": [
      "To https://github.com/aubreymoore/good-vibrations.git\n",
      "   164923d..5956185  main -> main\n"
     ]
    },
    {
     "name": "stdout",
     "output_type": "stream",
     "text": [
      "   sleeping for 540s\n",
      "211 of 100000\n",
      "   recording for 60s; saving to /home/pi/good-vibrations/data/gpepp/2022-05-25T00:54:53.379.wav\n",
      "   uploading data to GitHub\n",
      "Already up to date.\n",
      "[main 5d61861] record_wav\n",
      " 2 files changed, 23 insertions(+), 1 deletion(-)\n",
      " create mode 100644 data/gpepp/2022-05-25T00:54:53.379.wav\n"
     ]
    },
    {
     "name": "stderr",
     "output_type": "stream",
     "text": [
      "To https://github.com/aubreymoore/good-vibrations.git\n",
      "   5956185..5d61861  main -> main\n"
     ]
    },
    {
     "name": "stdout",
     "output_type": "stream",
     "text": [
      "   sleeping for 540s\n",
      "212 of 100000\n",
      "   recording for 60s; saving to /home/pi/good-vibrations/data/gpepp/2022-05-25T01:04:59.939.wav\n",
      "   uploading data to GitHub\n",
      "Already up to date.\n",
      "[main 1bae078] record_wav\n",
      " 2 files changed, 23 insertions(+), 1 deletion(-)\n",
      " create mode 100644 data/gpepp/2022-05-25T01:04:59.939.wav\n"
     ]
    },
    {
     "name": "stderr",
     "output_type": "stream",
     "text": [
      "To https://github.com/aubreymoore/good-vibrations.git\n",
      "   5d61861..1bae078  main -> main\n"
     ]
    },
    {
     "name": "stdout",
     "output_type": "stream",
     "text": [
      "   sleeping for 540s\n",
      "213 of 100000\n",
      "   recording for 60s; saving to /home/pi/good-vibrations/data/gpepp/2022-05-25T01:15:06.411.wav\n",
      "   uploading data to GitHub\n",
      "Already up to date.\n",
      "[main 3f716ae] record_wav\n",
      " 2 files changed, 23 insertions(+), 1 deletion(-)\n",
      " create mode 100644 data/gpepp/2022-05-25T01:15:06.411.wav\n"
     ]
    },
    {
     "name": "stderr",
     "output_type": "stream",
     "text": [
      "To https://github.com/aubreymoore/good-vibrations.git\n",
      "   1bae078..3f716ae  main -> main\n"
     ]
    },
    {
     "name": "stdout",
     "output_type": "stream",
     "text": [
      "   sleeping for 540s\n",
      "214 of 100000\n",
      "   recording for 60s; saving to /home/pi/good-vibrations/data/gpepp/2022-05-25T01:25:13.079.wav\n",
      "   uploading data to GitHub\n",
      "Already up to date.\n",
      "[main 93582a3] record_wav\n",
      " 2 files changed, 23 insertions(+), 1 deletion(-)\n",
      " create mode 100644 data/gpepp/2022-05-25T01:25:13.079.wav\n"
     ]
    },
    {
     "name": "stderr",
     "output_type": "stream",
     "text": [
      "To https://github.com/aubreymoore/good-vibrations.git\n",
      "   3f716ae..93582a3  main -> main\n"
     ]
    },
    {
     "name": "stdout",
     "output_type": "stream",
     "text": [
      "   sleeping for 540s\n",
      "215 of 100000\n",
      "   recording for 60s; saving to /home/pi/good-vibrations/data/gpepp/2022-05-25T01:35:19.699.wav\n",
      "   uploading data to GitHub\n",
      "Already up to date.\n",
      "[main 25cba96] record_wav\n",
      " 2 files changed, 23 insertions(+), 1 deletion(-)\n",
      " create mode 100644 data/gpepp/2022-05-25T01:35:19.699.wav\n"
     ]
    },
    {
     "name": "stderr",
     "output_type": "stream",
     "text": [
      "To https://github.com/aubreymoore/good-vibrations.git\n",
      "   93582a3..25cba96  main -> main\n"
     ]
    },
    {
     "name": "stdout",
     "output_type": "stream",
     "text": [
      "   sleeping for 540s\n",
      "216 of 100000\n",
      "   recording for 60s; saving to /home/pi/good-vibrations/data/gpepp/2022-05-25T01:45:26.259.wav\n",
      "   uploading data to GitHub\n",
      "Already up to date.\n",
      "[main d29c18f] record_wav\n",
      " 2 files changed, 23 insertions(+), 1 deletion(-)\n",
      " create mode 100644 data/gpepp/2022-05-25T01:45:26.259.wav\n"
     ]
    },
    {
     "name": "stderr",
     "output_type": "stream",
     "text": [
      "To https://github.com/aubreymoore/good-vibrations.git\n",
      "   25cba96..d29c18f  main -> main\n"
     ]
    },
    {
     "name": "stdout",
     "output_type": "stream",
     "text": [
      "   sleeping for 540s\n",
      "217 of 100000\n",
      "   recording for 60s; saving to /home/pi/good-vibrations/data/gpepp/2022-05-25T01:55:33.059.wav\n",
      "   uploading data to GitHub\n",
      "Already up to date.\n",
      "[main 1d676e8] record_wav\n",
      " 2 files changed, 23 insertions(+), 1 deletion(-)\n",
      " create mode 100644 data/gpepp/2022-05-25T01:55:33.059.wav\n"
     ]
    },
    {
     "name": "stderr",
     "output_type": "stream",
     "text": [
      "To https://github.com/aubreymoore/good-vibrations.git\n",
      "   d29c18f..1d676e8  main -> main\n"
     ]
    },
    {
     "name": "stdout",
     "output_type": "stream",
     "text": [
      "   sleeping for 540s\n",
      "218 of 100000\n",
      "   recording for 60s; saving to /home/pi/good-vibrations/data/gpepp/2022-05-25T02:05:39.499.wav\n",
      "   uploading data to GitHub\n",
      "Already up to date.\n",
      "[main a7675a3] record_wav\n",
      " 2 files changed, 23 insertions(+), 1 deletion(-)\n",
      " create mode 100644 data/gpepp/2022-05-25T02:05:39.499.wav\n"
     ]
    },
    {
     "name": "stderr",
     "output_type": "stream",
     "text": [
      "To https://github.com/aubreymoore/good-vibrations.git\n",
      "   1d676e8..a7675a3  main -> main\n"
     ]
    },
    {
     "name": "stdout",
     "output_type": "stream",
     "text": [
      "   sleeping for 540s\n",
      "219 of 100000\n",
      "   recording for 60s; saving to /home/pi/good-vibrations/data/gpepp/2022-05-25T02:15:46.749.wav\n",
      "   uploading data to GitHub\n",
      "Already up to date.\n",
      "[main a2c0e12] record_wav\n",
      " 2 files changed, 23 insertions(+), 1 deletion(-)\n",
      " create mode 100644 data/gpepp/2022-05-25T02:15:46.749.wav\n"
     ]
    },
    {
     "name": "stderr",
     "output_type": "stream",
     "text": [
      "To https://github.com/aubreymoore/good-vibrations.git\n",
      "   a7675a3..a2c0e12  main -> main\n"
     ]
    },
    {
     "name": "stdout",
     "output_type": "stream",
     "text": [
      "   sleeping for 540s\n",
      "220 of 100000\n",
      "   recording for 60s; saving to /home/pi/good-vibrations/data/gpepp/2022-05-25T02:25:53.711.wav\n",
      "   uploading data to GitHub\n",
      "Already up to date.\n",
      "[main f8b4a98] record_wav\n",
      " 2 files changed, 23 insertions(+), 1 deletion(-)\n",
      " create mode 100644 data/gpepp/2022-05-25T02:25:53.711.wav\n"
     ]
    },
    {
     "name": "stderr",
     "output_type": "stream",
     "text": [
      "To https://github.com/aubreymoore/good-vibrations.git\n",
      "   a2c0e12..f8b4a98  main -> main\n"
     ]
    },
    {
     "name": "stdout",
     "output_type": "stream",
     "text": [
      "   sleeping for 540s\n",
      "221 of 100000\n",
      "   recording for 60s; saving to /home/pi/good-vibrations/data/gpepp/2022-05-25T02:36:00.470.wav\n",
      "   uploading data to GitHub\n"
     ]
    },
    {
     "name": "stderr",
     "output_type": "stream",
     "text": [
      "fatal: unable to access 'https://github.com/aubreymoore/good-vibrations.git/': Could not resolve host: github.com\n"
     ]
    },
    {
     "name": "stdout",
     "output_type": "stream",
     "text": [
      "[main 8d6fdb3] record_wav\n",
      " 2 files changed, 21 insertions(+), 1 deletion(-)\n",
      " create mode 100644 data/gpepp/2022-05-25T02:36:00.470.wav\n",
      "   sleeping for 540s\n"
     ]
    },
    {
     "name": "stderr",
     "output_type": "stream",
     "text": [
      "fatal: unable to access 'https://github.com/aubreymoore/good-vibrations.git/': Could not resolve host: github.com\n"
     ]
    },
    {
     "name": "stdout",
     "output_type": "stream",
     "text": [
      "222 of 100000\n",
      "   recording for 60s; saving to /home/pi/good-vibrations/data/gpepp/2022-05-25T02:46:01.429.wav\n",
      "   uploading data to GitHub\n",
      "Already up to date.\n",
      "[main 845164e] record_wav\n",
      " 2 files changed, 27 insertions(+)\n",
      " create mode 100644 data/gpepp/2022-05-25T02:46:01.429.wav\n"
     ]
    },
    {
     "name": "stderr",
     "output_type": "stream",
     "text": [
      "To https://github.com/aubreymoore/good-vibrations.git\n",
      "   f8b4a98..845164e  main -> main\n"
     ]
    },
    {
     "name": "stdout",
     "output_type": "stream",
     "text": [
      "   sleeping for 540s\n",
      "223 of 100000\n",
      "   recording for 60s; saving to /home/pi/good-vibrations/data/gpepp/2022-05-25T02:56:09.366.wav\n",
      "   uploading data to GitHub\n",
      "Already up to date.\n",
      "[main f7c1d76] record_wav\n",
      " 2 files changed, 28 insertions(+)\n",
      " create mode 100644 data/gpepp/2022-05-25T02:56:09.366.wav\n"
     ]
    },
    {
     "name": "stderr",
     "output_type": "stream",
     "text": [
      "To https://github.com/aubreymoore/good-vibrations.git\n",
      "   845164e..f7c1d76  main -> main\n"
     ]
    },
    {
     "name": "stdout",
     "output_type": "stream",
     "text": [
      "   sleeping for 540s\n",
      "224 of 100000\n",
      "   recording for 60s; saving to /home/pi/good-vibrations/data/gpepp/2022-05-25T03:06:18.471.wav\n",
      "   uploading data to GitHub\n",
      "Already up to date.\n",
      "[main d82d3f8] record_wav\n",
      " 2 files changed, 22 insertions(+)\n",
      " create mode 100644 data/gpepp/2022-05-25T03:06:18.471.wav\n"
     ]
    },
    {
     "name": "stderr",
     "output_type": "stream",
     "text": [
      "To https://github.com/aubreymoore/good-vibrations.git\n",
      "   f7c1d76..d82d3f8  main -> main\n"
     ]
    },
    {
     "name": "stdout",
     "output_type": "stream",
     "text": [
      "   sleeping for 540s\n",
      "225 of 100000\n",
      "   recording for 60s; saving to /home/pi/good-vibrations/data/gpepp/2022-05-25T03:16:26.099.wav\n",
      "   uploading data to GitHub\n",
      "Already up to date.\n",
      "[main ae38d85] record_wav\n",
      " 2 files changed, 22 insertions(+)\n",
      " create mode 100644 data/gpepp/2022-05-25T03:16:26.099.wav\n"
     ]
    },
    {
     "name": "stderr",
     "output_type": "stream",
     "text": [
      "To https://github.com/aubreymoore/good-vibrations.git\n",
      "   d82d3f8..ae38d85  main -> main\n"
     ]
    },
    {
     "name": "stdout",
     "output_type": "stream",
     "text": [
      "   sleeping for 540s\n",
      "226 of 100000\n",
      "   recording for 60s; saving to /home/pi/good-vibrations/data/gpepp/2022-05-25T03:26:38.844.wav\n",
      "   uploading data to GitHub\n",
      "Already up to date.\n",
      "[main 8fdaded] record_wav\n",
      " 2 files changed, 22 insertions(+)\n",
      " create mode 100644 data/gpepp/2022-05-25T03:26:38.844.wav\n"
     ]
    },
    {
     "name": "stderr",
     "output_type": "stream",
     "text": [
      "To https://github.com/aubreymoore/good-vibrations.git\n",
      "   ae38d85..8fdaded  main -> main\n"
     ]
    },
    {
     "name": "stdout",
     "output_type": "stream",
     "text": [
      "   sleeping for 540s\n",
      "227 of 100000\n",
      "   recording for 60s; saving to /home/pi/good-vibrations/data/gpepp/2022-05-25T03:36:46.749.wav\n",
      "   uploading data to GitHub\n",
      "Already up to date.\n",
      "[main 5cbb8e8] record_wav\n",
      " 2 files changed, 22 insertions(+)\n",
      " create mode 100644 data/gpepp/2022-05-25T03:36:46.749.wav\n"
     ]
    },
    {
     "name": "stderr",
     "output_type": "stream",
     "text": [
      "To https://github.com/aubreymoore/good-vibrations.git\n",
      "   8fdaded..5cbb8e8  main -> main\n"
     ]
    },
    {
     "name": "stdout",
     "output_type": "stream",
     "text": [
      "   sleeping for 540s\n",
      "228 of 100000\n",
      "   recording for 60s; saving to /home/pi/good-vibrations/data/gpepp/2022-05-25T03:46:53.583.wav\n",
      "   uploading data to GitHub\n",
      "Already up to date.\n",
      "[main dc952c1] record_wav\n",
      " 2 files changed, 22 insertions(+)\n",
      " create mode 100644 data/gpepp/2022-05-25T03:46:53.583.wav\n"
     ]
    },
    {
     "name": "stderr",
     "output_type": "stream",
     "text": [
      "To https://github.com/aubreymoore/good-vibrations.git\n",
      "   5cbb8e8..dc952c1  main -> main\n"
     ]
    },
    {
     "name": "stdout",
     "output_type": "stream",
     "text": [
      "   sleeping for 540s\n",
      "229 of 100000\n",
      "   recording for 60s; saving to /home/pi/good-vibrations/data/gpepp/2022-05-25T03:57:00.319.wav\n",
      "   uploading data to GitHub\n",
      "Already up to date.\n",
      "[main 98be262] record_wav\n",
      " 2 files changed, 22 insertions(+)\n",
      " create mode 100644 data/gpepp/2022-05-25T03:57:00.319.wav\n"
     ]
    },
    {
     "name": "stderr",
     "output_type": "stream",
     "text": [
      "To https://github.com/aubreymoore/good-vibrations.git\n",
      "   dc952c1..98be262  main -> main\n"
     ]
    },
    {
     "name": "stdout",
     "output_type": "stream",
     "text": [
      "   sleeping for 540s\n",
      "230 of 100000\n",
      "   recording for 60s; saving to /home/pi/good-vibrations/data/gpepp/2022-05-25T04:07:07.459.wav\n",
      "   uploading data to GitHub\n",
      "Already up to date.\n",
      "[main c1b8695] record_wav\n",
      " 2 files changed, 22 insertions(+)\n",
      " create mode 100644 data/gpepp/2022-05-25T04:07:07.459.wav\n"
     ]
    },
    {
     "name": "stderr",
     "output_type": "stream",
     "text": [
      "To https://github.com/aubreymoore/good-vibrations.git\n",
      "   98be262..c1b8695  main -> main\n"
     ]
    },
    {
     "name": "stdout",
     "output_type": "stream",
     "text": [
      "   sleeping for 540s\n",
      "231 of 100000\n",
      "   recording for 60s; saving to /home/pi/good-vibrations/data/gpepp/2022-05-25T04:17:14.093.wav\n",
      "   uploading data to GitHub\n",
      "Already up to date.\n",
      "[main dad4794] record_wav\n",
      " 2 files changed, 22 insertions(+)\n",
      " create mode 100644 data/gpepp/2022-05-25T04:17:14.093.wav\n"
     ]
    },
    {
     "name": "stderr",
     "output_type": "stream",
     "text": [
      "To https://github.com/aubreymoore/good-vibrations.git\n",
      "   c1b8695..dad4794  main -> main\n"
     ]
    },
    {
     "name": "stdout",
     "output_type": "stream",
     "text": [
      "   sleeping for 540s\n",
      "232 of 100000\n",
      "   recording for 60s; saving to /home/pi/good-vibrations/data/gpepp/2022-05-25T04:27:20.969.wav\n",
      "   uploading data to GitHub\n",
      "Already up to date.\n",
      "[main 6616dc0] record_wav\n",
      " 2 files changed, 25 insertions(+), 1 deletion(-)\n",
      " create mode 100644 data/gpepp/2022-05-25T04:27:20.969.wav\n"
     ]
    },
    {
     "name": "stderr",
     "output_type": "stream",
     "text": [
      "To https://github.com/aubreymoore/good-vibrations.git\n",
      "   dad4794..6616dc0  main -> main\n"
     ]
    },
    {
     "name": "stdout",
     "output_type": "stream",
     "text": [
      "   sleeping for 540s\n",
      "233 of 100000\n",
      "   recording for 60s; saving to /home/pi/good-vibrations/data/gpepp/2022-05-25T04:37:30.583.wav\n",
      "   uploading data to GitHub\n",
      "Already up to date.\n",
      "[main d37ce2a] record_wav\n",
      " 2 files changed, 23 insertions(+), 1 deletion(-)\n",
      " create mode 100644 data/gpepp/2022-05-25T04:37:30.583.wav\n"
     ]
    },
    {
     "name": "stderr",
     "output_type": "stream",
     "text": [
      "To https://github.com/aubreymoore/good-vibrations.git\n",
      "   6616dc0..d37ce2a  main -> main\n"
     ]
    },
    {
     "name": "stdout",
     "output_type": "stream",
     "text": [
      "   sleeping for 540s\n",
      "234 of 100000\n",
      "   recording for 60s; saving to /home/pi/good-vibrations/data/gpepp/2022-05-25T04:47:37.151.wav\n",
      "   uploading data to GitHub\n",
      "Already up to date.\n",
      "[main ae8c92d] record_wav\n",
      " 2 files changed, 23 insertions(+), 1 deletion(-)\n",
      " create mode 100644 data/gpepp/2022-05-25T04:47:37.151.wav\n"
     ]
    },
    {
     "name": "stderr",
     "output_type": "stream",
     "text": [
      "To https://github.com/aubreymoore/good-vibrations.git\n",
      "   d37ce2a..ae8c92d  main -> main\n"
     ]
    },
    {
     "name": "stdout",
     "output_type": "stream",
     "text": [
      "   sleeping for 540s\n",
      "235 of 100000\n",
      "   recording for 60s; saving to /home/pi/good-vibrations/data/gpepp/2022-05-25T04:57:45.789.wav\n",
      "   uploading data to GitHub\n",
      "Already up to date.\n",
      "[main d4a8b60] record_wav\n",
      " 2 files changed, 23 insertions(+), 1 deletion(-)\n",
      " create mode 100644 data/gpepp/2022-05-25T04:57:45.789.wav\n"
     ]
    },
    {
     "name": "stderr",
     "output_type": "stream",
     "text": [
      "To https://github.com/aubreymoore/good-vibrations.git\n",
      "   ae8c92d..d4a8b60  main -> main\n"
     ]
    },
    {
     "name": "stdout",
     "output_type": "stream",
     "text": [
      "   sleeping for 540s\n",
      "236 of 100000\n",
      "   recording for 60s; saving to /home/pi/good-vibrations/data/gpepp/2022-05-25T05:07:53.027.wav\n",
      "   uploading data to GitHub\n",
      "Already up to date.\n",
      "[main cc345f5] record_wav\n",
      " 2 files changed, 23 insertions(+), 1 deletion(-)\n",
      " create mode 100644 data/gpepp/2022-05-25T05:07:53.027.wav\n"
     ]
    },
    {
     "name": "stderr",
     "output_type": "stream",
     "text": [
      "To https://github.com/aubreymoore/good-vibrations.git\n",
      "   d4a8b60..cc345f5  main -> main\n"
     ]
    },
    {
     "name": "stdout",
     "output_type": "stream",
     "text": [
      "   sleeping for 540s\n",
      "237 of 100000\n",
      "   recording for 60s; saving to /home/pi/good-vibrations/data/gpepp/2022-05-25T05:18:00.519.wav\n",
      "   uploading data to GitHub\n",
      "Already up to date.\n",
      "[main 8ce04b5] record_wav\n",
      " 2 files changed, 23 insertions(+), 1 deletion(-)\n",
      " create mode 100644 data/gpepp/2022-05-25T05:18:00.519.wav\n"
     ]
    },
    {
     "name": "stderr",
     "output_type": "stream",
     "text": [
      "To https://github.com/aubreymoore/good-vibrations.git\n",
      "   cc345f5..8ce04b5  main -> main\n"
     ]
    },
    {
     "name": "stdout",
     "output_type": "stream",
     "text": [
      "   sleeping for 540s\n",
      "238 of 100000\n",
      "   recording for 60s; saving to /home/pi/good-vibrations/data/gpepp/2022-05-25T05:28:08.493.wav\n",
      "   uploading data to GitHub\n",
      "Already up to date.\n",
      "[main fe29d97] record_wav\n",
      " 2 files changed, 23 insertions(+), 1 deletion(-)\n",
      " create mode 100644 data/gpepp/2022-05-25T05:28:08.493.wav\n"
     ]
    },
    {
     "name": "stderr",
     "output_type": "stream",
     "text": [
      "To https://github.com/aubreymoore/good-vibrations.git\n",
      "   8ce04b5..fe29d97  main -> main\n"
     ]
    },
    {
     "name": "stdout",
     "output_type": "stream",
     "text": [
      "   sleeping for 540s\n",
      "239 of 100000\n",
      "   recording for 60s; saving to /home/pi/good-vibrations/data/gpepp/2022-05-25T05:38:15.059.wav\n",
      "   uploading data to GitHub\n",
      "Already up to date.\n",
      "[main 78445cb] record_wav\n",
      " 2 files changed, 23 insertions(+), 1 deletion(-)\n",
      " create mode 100644 data/gpepp/2022-05-25T05:38:15.059.wav\n"
     ]
    },
    {
     "name": "stderr",
     "output_type": "stream",
     "text": [
      "To https://github.com/aubreymoore/good-vibrations.git\n",
      "   fe29d97..78445cb  main -> main\n"
     ]
    },
    {
     "name": "stdout",
     "output_type": "stream",
     "text": [
      "   sleeping for 540s\n",
      "240 of 100000\n",
      "   recording for 60s; saving to /home/pi/good-vibrations/data/gpepp/2022-05-25T05:48:21.508.wav\n",
      "   uploading data to GitHub\n",
      "Already up to date.\n",
      "[main bef6f13] record_wav\n",
      " 2 files changed, 23 insertions(+), 1 deletion(-)\n",
      " create mode 100644 data/gpepp/2022-05-25T05:48:21.508.wav\n"
     ]
    },
    {
     "name": "stderr",
     "output_type": "stream",
     "text": [
      "To https://github.com/aubreymoore/good-vibrations.git\n",
      "   78445cb..bef6f13  main -> main\n"
     ]
    },
    {
     "name": "stdout",
     "output_type": "stream",
     "text": [
      "   sleeping for 540s\n",
      "241 of 100000\n",
      "   recording for 60s; saving to /home/pi/good-vibrations/data/gpepp/2022-05-25T05:58:28.338.wav\n",
      "   uploading data to GitHub\n",
      "Already up to date.\n",
      "[main f9978c5] record_wav\n",
      " 2 files changed, 23 insertions(+), 1 deletion(-)\n",
      " create mode 100644 data/gpepp/2022-05-25T05:58:28.338.wav\n"
     ]
    },
    {
     "name": "stderr",
     "output_type": "stream",
     "text": [
      "To https://github.com/aubreymoore/good-vibrations.git\n",
      "   bef6f13..f9978c5  main -> main\n"
     ]
    },
    {
     "name": "stdout",
     "output_type": "stream",
     "text": [
      "   sleeping for 540s\n",
      "242 of 100000\n",
      "   recording for 60s; saving to /home/pi/good-vibrations/data/gpepp/2022-05-25T06:08:34.909.wav\n",
      "   uploading data to GitHub\n",
      "Already up to date.\n",
      "[main cef1dc9] record_wav\n",
      " 2 files changed, 23 insertions(+), 1 deletion(-)\n",
      " create mode 100644 data/gpepp/2022-05-25T06:08:34.909.wav\n"
     ]
    },
    {
     "name": "stderr",
     "output_type": "stream",
     "text": [
      "To https://github.com/aubreymoore/good-vibrations.git\n",
      "   f9978c5..cef1dc9  main -> main\n"
     ]
    },
    {
     "name": "stdout",
     "output_type": "stream",
     "text": [
      "   sleeping for 540s\n",
      "243 of 100000\n",
      "   recording for 60s; saving to /home/pi/good-vibrations/data/gpepp/2022-05-25T06:18:45.194.wav\n",
      "   uploading data to GitHub\n",
      "Already up to date.\n",
      "[main 4a6781f] record_wav\n",
      " 2 files changed, 23 insertions(+), 1 deletion(-)\n",
      " create mode 100644 data/gpepp/2022-05-25T06:18:45.194.wav\n"
     ]
    },
    {
     "name": "stderr",
     "output_type": "stream",
     "text": [
      "To https://github.com/aubreymoore/good-vibrations.git\n",
      "   cef1dc9..4a6781f  main -> main\n"
     ]
    },
    {
     "name": "stdout",
     "output_type": "stream",
     "text": [
      "   sleeping for 540s\n",
      "244 of 100000\n",
      "   recording for 60s; saving to /home/pi/good-vibrations/data/gpepp/2022-05-25T06:28:53.093.wav\n",
      "   uploading data to GitHub\n",
      "Already up to date.\n",
      "[main 1037a50] record_wav\n",
      " 2 files changed, 21 insertions(+), 1 deletion(-)\n",
      " create mode 100644 data/gpepp/2022-05-25T06:28:53.093.wav\n"
     ]
    },
    {
     "name": "stderr",
     "output_type": "stream",
     "text": [
      "To https://github.com/aubreymoore/good-vibrations.git\n",
      "   4a6781f..1037a50  main -> main\n"
     ]
    },
    {
     "name": "stdout",
     "output_type": "stream",
     "text": [
      "   sleeping for 540s\n",
      "245 of 100000\n",
      "   recording for 60s; saving to /home/pi/good-vibrations/data/gpepp/2022-05-25T06:38:59.979.wav\n",
      "   uploading data to GitHub\n",
      "Already up to date.\n",
      "[main b7bc886] record_wav\n",
      " 2 files changed, 22 insertions(+)\n",
      " create mode 100644 data/gpepp/2022-05-25T06:38:59.979.wav\n"
     ]
    },
    {
     "name": "stderr",
     "output_type": "stream",
     "text": [
      "To https://github.com/aubreymoore/good-vibrations.git\n",
      "   1037a50..b7bc886  main -> main\n"
     ]
    },
    {
     "name": "stdout",
     "output_type": "stream",
     "text": [
      "   sleeping for 540s\n",
      "246 of 100000\n",
      "   recording for 60s; saving to /home/pi/good-vibrations/data/gpepp/2022-05-25T06:49:06.694.wav\n",
      "   uploading data to GitHub\n"
     ]
    },
    {
     "name": "stderr",
     "output_type": "stream",
     "text": [
      "fatal: unable to access 'https://github.com/aubreymoore/good-vibrations.git/': Could not resolve host: github.com\n"
     ]
    },
    {
     "name": "stdout",
     "output_type": "stream",
     "text": [
      "[main af8a794] record_wav\n",
      " 2 files changed, 22 insertions(+)\n",
      " create mode 100644 data/gpepp/2022-05-25T06:49:06.694.wav\n",
      "   sleeping for 540s\n"
     ]
    },
    {
     "name": "stderr",
     "output_type": "stream",
     "text": [
      "fatal: unable to access 'https://github.com/aubreymoore/good-vibrations.git/': Could not resolve host: github.com\n"
     ]
    },
    {
     "name": "stdout",
     "output_type": "stream",
     "text": [
      "247 of 100000\n",
      "   recording for 60s; saving to /home/pi/good-vibrations/data/gpepp/2022-05-25T06:59:07.399.wav\n",
      "   uploading data to GitHub\n",
      "Already up to date.\n",
      "[main e6a9610] record_wav\n",
      " 2 files changed, 27 insertions(+)\n",
      " create mode 100644 data/gpepp/2022-05-25T06:59:07.399.wav\n"
     ]
    },
    {
     "name": "stderr",
     "output_type": "stream",
     "text": [
      "To https://github.com/aubreymoore/good-vibrations.git\n",
      "   b7bc886..e6a9610  main -> main\n"
     ]
    },
    {
     "name": "stdout",
     "output_type": "stream",
     "text": [
      "   sleeping for 540s\n",
      "248 of 100000\n",
      "   recording for 60s; saving to /home/pi/good-vibrations/data/gpepp/2022-05-25T07:09:15.429.wav\n",
      "   uploading data to GitHub\n",
      "Already up to date.\n",
      "[main 13a6336] record_wav\n",
      " 2 files changed, 28 insertions(+)\n",
      " create mode 100644 data/gpepp/2022-05-25T07:09:15.429.wav\n"
     ]
    },
    {
     "name": "stderr",
     "output_type": "stream",
     "text": [
      "To https://github.com/aubreymoore/good-vibrations.git\n",
      "   e6a9610..13a6336  main -> main\n"
     ]
    },
    {
     "name": "stdout",
     "output_type": "stream",
     "text": [
      "   sleeping for 540s\n",
      "249 of 100000\n",
      "   recording for 60s; saving to /home/pi/good-vibrations/data/gpepp/2022-05-25T07:19:22.065.wav\n",
      "   uploading data to GitHub\n",
      "Already up to date.\n",
      "[main ff73269] record_wav\n",
      " 2 files changed, 22 insertions(+)\n",
      " create mode 100644 data/gpepp/2022-05-25T07:19:22.065.wav\n"
     ]
    },
    {
     "name": "stderr",
     "output_type": "stream",
     "text": [
      "To https://github.com/aubreymoore/good-vibrations.git\n",
      "   13a6336..ff73269  main -> main\n"
     ]
    },
    {
     "name": "stdout",
     "output_type": "stream",
     "text": [
      "   sleeping for 540s\n",
      "250 of 100000\n",
      "   recording for 60s; saving to /home/pi/good-vibrations/data/gpepp/2022-05-25T07:29:28.583.wav\n",
      "   uploading data to GitHub\n",
      "Already up to date.\n",
      "[main 9b92fc4] record_wav\n",
      " 2 files changed, 22 insertions(+)\n",
      " create mode 100644 data/gpepp/2022-05-25T07:29:28.583.wav\n"
     ]
    },
    {
     "name": "stderr",
     "output_type": "stream",
     "text": [
      "To https://github.com/aubreymoore/good-vibrations.git\n",
      "   ff73269..9b92fc4  main -> main\n"
     ]
    },
    {
     "name": "stdout",
     "output_type": "stream",
     "text": [
      "   sleeping for 540s\n",
      "251 of 100000\n",
      "   recording for 60s; saving to /home/pi/good-vibrations/data/gpepp/2022-05-25T07:39:35.359.wav\n",
      "   uploading data to GitHub\n",
      "Already up to date.\n",
      "[main e3bcba4] record_wav\n",
      " 2 files changed, 22 insertions(+)\n",
      " create mode 100644 data/gpepp/2022-05-25T07:39:35.359.wav\n"
     ]
    },
    {
     "name": "stderr",
     "output_type": "stream",
     "text": [
      "To https://github.com/aubreymoore/good-vibrations.git\n",
      "   9b92fc4..e3bcba4  main -> main\n"
     ]
    },
    {
     "name": "stdout",
     "output_type": "stream",
     "text": [
      "   sleeping for 540s\n",
      "252 of 100000\n",
      "   recording for 60s; saving to /home/pi/good-vibrations/data/gpepp/2022-05-25T07:49:43.729.wav\n",
      "   uploading data to GitHub\n",
      "Already up to date.\n",
      "[main 267c044] record_wav\n",
      " 2 files changed, 22 insertions(+)\n",
      " create mode 100644 data/gpepp/2022-05-25T07:49:43.729.wav\n"
     ]
    },
    {
     "name": "stderr",
     "output_type": "stream",
     "text": [
      "To https://github.com/aubreymoore/good-vibrations.git\n",
      "   e3bcba4..267c044  main -> main\n"
     ]
    },
    {
     "name": "stdout",
     "output_type": "stream",
     "text": [
      "   sleeping for 540s\n",
      "253 of 100000\n",
      "   recording for 60s; saving to /home/pi/good-vibrations/data/gpepp/2022-05-25T07:59:50.259.wav\n",
      "   uploading data to GitHub\n",
      "Already up to date.\n",
      "[main 6fc83d1] record_wav\n",
      " 2 files changed, 22 insertions(+)\n",
      " create mode 100644 data/gpepp/2022-05-25T07:59:50.259.wav\n"
     ]
    },
    {
     "name": "stderr",
     "output_type": "stream",
     "text": [
      "To https://github.com/aubreymoore/good-vibrations.git\n",
      "   267c044..6fc83d1  main -> main\n"
     ]
    },
    {
     "name": "stdout",
     "output_type": "stream",
     "text": [
      "   sleeping for 540s\n",
      "254 of 100000\n",
      "   recording for 60s; saving to /home/pi/good-vibrations/data/gpepp/2022-05-25T08:09:57.359.wav\n",
      "   uploading data to GitHub\n",
      "Already up to date.\n",
      "[main 5e0aea8] record_wav\n",
      " 2 files changed, 22 insertions(+)\n",
      " create mode 100644 data/gpepp/2022-05-25T08:09:57.359.wav\n"
     ]
    },
    {
     "name": "stderr",
     "output_type": "stream",
     "text": [
      "To https://github.com/aubreymoore/good-vibrations.git\n",
      "   6fc83d1..5e0aea8  main -> main\n"
     ]
    },
    {
     "name": "stdout",
     "output_type": "stream",
     "text": [
      "   sleeping for 540s\n",
      "255 of 100000\n",
      "   recording for 60s; saving to /home/pi/good-vibrations/data/gpepp/2022-05-25T08:20:03.919.wav\n",
      "   uploading data to GitHub\n",
      "Already up to date.\n",
      "[main 1414d2e] record_wav\n",
      " 2 files changed, 25 insertions(+), 1 deletion(-)\n",
      " create mode 100644 data/gpepp/2022-05-25T08:20:03.919.wav\n"
     ]
    },
    {
     "name": "stderr",
     "output_type": "stream",
     "text": [
      "To https://github.com/aubreymoore/good-vibrations.git\n",
      "   5e0aea8..1414d2e  main -> main\n"
     ]
    },
    {
     "name": "stdout",
     "output_type": "stream",
     "text": [
      "   sleeping for 540s\n",
      "256 of 100000\n",
      "   recording for 60s; saving to /home/pi/good-vibrations/data/gpepp/2022-05-25T08:30:10.461.wav\n",
      "   uploading data to GitHub\n",
      "Already up to date.\n",
      "[main f6deb27] record_wav\n",
      " 2 files changed, 23 insertions(+), 1 deletion(-)\n",
      " create mode 100644 data/gpepp/2022-05-25T08:30:10.461.wav\n"
     ]
    },
    {
     "name": "stderr",
     "output_type": "stream",
     "text": [
      "To https://github.com/aubreymoore/good-vibrations.git\n",
      "   1414d2e..f6deb27  main -> main\n"
     ]
    },
    {
     "name": "stdout",
     "output_type": "stream",
     "text": [
      "   sleeping for 540s\n",
      "257 of 100000\n",
      "   recording for 60s; saving to /home/pi/good-vibrations/data/gpepp/2022-05-25T08:40:17.159.wav\n",
      "   uploading data to GitHub\n",
      "Already up to date.\n",
      "[main 3bf0ef8] record_wav\n",
      " 2 files changed, 23 insertions(+), 1 deletion(-)\n",
      " create mode 100644 data/gpepp/2022-05-25T08:40:17.159.wav\n"
     ]
    },
    {
     "name": "stderr",
     "output_type": "stream",
     "text": [
      "To https://github.com/aubreymoore/good-vibrations.git\n",
      "   f6deb27..3bf0ef8  main -> main\n"
     ]
    },
    {
     "name": "stdout",
     "output_type": "stream",
     "text": [
      "   sleeping for 540s\n",
      "258 of 100000\n",
      "   recording for 60s; saving to /home/pi/good-vibrations/data/gpepp/2022-05-25T08:50:23.769.wav\n",
      "   uploading data to GitHub\n",
      "Already up to date.\n",
      "[main 8020d45] record_wav\n",
      " 2 files changed, 23 insertions(+), 1 deletion(-)\n",
      " create mode 100644 data/gpepp/2022-05-25T08:50:23.769.wav\n"
     ]
    },
    {
     "name": "stderr",
     "output_type": "stream",
     "text": [
      "To https://github.com/aubreymoore/good-vibrations.git\n",
      "   3bf0ef8..8020d45  main -> main\n"
     ]
    },
    {
     "name": "stdout",
     "output_type": "stream",
     "text": [
      "   sleeping for 540s\n",
      "259 of 100000\n",
      "   recording for 60s; saving to /home/pi/good-vibrations/data/gpepp/2022-05-25T09:00:30.873.wav\n",
      "   uploading data to GitHub\n",
      "Already up to date.\n",
      "[main afd19c1] record_wav\n",
      " 2 files changed, 23 insertions(+), 1 deletion(-)\n",
      " create mode 100644 data/gpepp/2022-05-25T09:00:30.873.wav\n"
     ]
    },
    {
     "name": "stderr",
     "output_type": "stream",
     "text": [
      "To https://github.com/aubreymoore/good-vibrations.git\n",
      "   8020d45..afd19c1  main -> main\n"
     ]
    },
    {
     "name": "stdout",
     "output_type": "stream",
     "text": [
      "   sleeping for 540s\n",
      "260 of 100000\n",
      "   recording for 60s; saving to /home/pi/good-vibrations/data/gpepp/2022-05-25T09:10:37.499.wav\n",
      "   uploading data to GitHub\n",
      "Already up to date.\n",
      "[main 6967eeb] record_wav\n",
      " 2 files changed, 23 insertions(+), 1 deletion(-)\n",
      " create mode 100644 data/gpepp/2022-05-25T09:10:37.499.wav\n"
     ]
    },
    {
     "name": "stderr",
     "output_type": "stream",
     "text": [
      "To https://github.com/aubreymoore/good-vibrations.git\n",
      "   afd19c1..6967eeb  main -> main\n"
     ]
    },
    {
     "name": "stdout",
     "output_type": "stream",
     "text": [
      "   sleeping for 540s\n",
      "261 of 100000\n",
      "   recording for 60s; saving to /home/pi/good-vibrations/data/gpepp/2022-05-25T09:20:45.919.wav\n",
      "   uploading data to GitHub\n",
      "Already up to date.\n",
      "[main ea58a9c] record_wav\n",
      " 2 files changed, 23 insertions(+), 1 deletion(-)\n",
      " create mode 100644 data/gpepp/2022-05-25T09:20:45.919.wav\n"
     ]
    },
    {
     "name": "stderr",
     "output_type": "stream",
     "text": [
      "To https://github.com/aubreymoore/good-vibrations.git\n",
      "   6967eeb..ea58a9c  main -> main\n"
     ]
    },
    {
     "name": "stdout",
     "output_type": "stream",
     "text": [
      "   sleeping for 540s\n",
      "262 of 100000\n",
      "   recording for 60s; saving to /home/pi/good-vibrations/data/gpepp/2022-05-25T09:30:52.379.wav\n",
      "   uploading data to GitHub\n",
      "Already up to date.\n",
      "[main ed1c9e4] record_wav\n",
      " 2 files changed, 23 insertions(+), 1 deletion(-)\n",
      " create mode 100644 data/gpepp/2022-05-25T09:30:52.379.wav\n"
     ]
    },
    {
     "name": "stderr",
     "output_type": "stream",
     "text": [
      "To https://github.com/aubreymoore/good-vibrations.git\n",
      "   ea58a9c..ed1c9e4  main -> main\n"
     ]
    },
    {
     "name": "stdout",
     "output_type": "stream",
     "text": [
      "   sleeping for 540s\n",
      "263 of 100000\n",
      "   recording for 60s; saving to /home/pi/good-vibrations/data/gpepp/2022-05-25T09:40:58.894.wav\n",
      "   uploading data to GitHub\n",
      "Already up to date.\n",
      "[main 2b99214] record_wav\n",
      " 2 files changed, 23 insertions(+), 1 deletion(-)\n",
      " create mode 100644 data/gpepp/2022-05-25T09:40:58.894.wav\n"
     ]
    },
    {
     "name": "stderr",
     "output_type": "stream",
     "text": [
      "To https://github.com/aubreymoore/good-vibrations.git\n",
      "   ed1c9e4..2b99214  main -> main\n"
     ]
    },
    {
     "name": "stdout",
     "output_type": "stream",
     "text": [
      "   sleeping for 540s\n",
      "264 of 100000\n",
      "   recording for 60s; saving to /home/pi/good-vibrations/data/gpepp/2022-05-25T09:51:06.019.wav\n",
      "   uploading data to GitHub\n",
      "Already up to date.\n",
      "[main ec13031] record_wav\n",
      " 2 files changed, 23 insertions(+), 1 deletion(-)\n",
      " create mode 100644 data/gpepp/2022-05-25T09:51:06.019.wav\n"
     ]
    },
    {
     "name": "stderr",
     "output_type": "stream",
     "text": [
      "To https://github.com/aubreymoore/good-vibrations.git\n",
      "   2b99214..ec13031  main -> main\n"
     ]
    },
    {
     "name": "stdout",
     "output_type": "stream",
     "text": [
      "   sleeping for 540s\n",
      "265 of 100000\n",
      "   recording for 60s; saving to /home/pi/good-vibrations/data/gpepp/2022-05-25T10:01:15.590.wav\n",
      "   uploading data to GitHub\n",
      "Already up to date.\n",
      "[main 84b0087] record_wav\n",
      " 2 files changed, 23 insertions(+), 1 deletion(-)\n",
      " create mode 100644 data/gpepp/2022-05-25T10:01:15.590.wav\n"
     ]
    },
    {
     "name": "stderr",
     "output_type": "stream",
     "text": [
      "To https://github.com/aubreymoore/good-vibrations.git\n",
      "   ec13031..84b0087  main -> main\n"
     ]
    },
    {
     "name": "stdout",
     "output_type": "stream",
     "text": [
      "   sleeping for 540s\n",
      "266 of 100000\n",
      "   recording for 60s; saving to /home/pi/good-vibrations/data/gpepp/2022-05-25T10:11:22.199.wav\n",
      "   uploading data to GitHub\n",
      "Already up to date.\n",
      "[main 1161780] record_wav\n",
      " 2 files changed, 23 insertions(+), 1 deletion(-)\n",
      " create mode 100644 data/gpepp/2022-05-25T10:11:22.199.wav\n"
     ]
    },
    {
     "name": "stderr",
     "output_type": "stream",
     "text": [
      "To https://github.com/aubreymoore/good-vibrations.git\n",
      "   84b0087..1161780  main -> main\n"
     ]
    },
    {
     "name": "stdout",
     "output_type": "stream",
     "text": [
      "   sleeping for 540s\n",
      "267 of 100000\n",
      "   recording for 60s; saving to /home/pi/good-vibrations/data/gpepp/2022-05-25T10:21:28.799.wav\n",
      "   uploading data to GitHub\n",
      "Already up to date.\n",
      "[main efc4bf5] record_wav\n",
      " 2 files changed, 21 insertions(+), 1 deletion(-)\n",
      " create mode 100644 data/gpepp/2022-05-25T10:21:28.799.wav\n"
     ]
    },
    {
     "name": "stderr",
     "output_type": "stream",
     "text": [
      "To https://github.com/aubreymoore/good-vibrations.git\n",
      "   1161780..efc4bf5  main -> main\n"
     ]
    },
    {
     "name": "stdout",
     "output_type": "stream",
     "text": [
      "   sleeping for 540s\n",
      "268 of 100000\n",
      "   recording for 60s; saving to /home/pi/good-vibrations/data/gpepp/2022-05-25T10:31:35.289.wav\n",
      "   uploading data to GitHub\n",
      "Already up to date.\n",
      "[main b455864] record_wav\n",
      " 2 files changed, 22 insertions(+)\n",
      " create mode 100644 data/gpepp/2022-05-25T10:31:35.289.wav\n"
     ]
    },
    {
     "name": "stderr",
     "output_type": "stream",
     "text": [
      "To https://github.com/aubreymoore/good-vibrations.git\n",
      "   efc4bf5..b455864  main -> main\n"
     ]
    },
    {
     "name": "stdout",
     "output_type": "stream",
     "text": [
      "   sleeping for 540s\n",
      "269 of 100000\n",
      "   recording for 60s; saving to /home/pi/good-vibrations/data/gpepp/2022-05-25T10:41:44.297.wav\n",
      "   uploading data to GitHub\n",
      "Already up to date.\n",
      "[main e898221] record_wav\n",
      " 2 files changed, 22 insertions(+)\n",
      " create mode 100644 data/gpepp/2022-05-25T10:41:44.297.wav\n"
     ]
    },
    {
     "name": "stderr",
     "output_type": "stream",
     "text": [
      "To https://github.com/aubreymoore/good-vibrations.git\n",
      "   b455864..e898221  main -> main\n"
     ]
    },
    {
     "name": "stdout",
     "output_type": "stream",
     "text": [
      "   sleeping for 540s\n",
      "270 of 100000\n",
      "   recording for 60s; saving to /home/pi/good-vibrations/data/gpepp/2022-05-25T10:51:51.019.wav\n",
      "   uploading data to GitHub\n",
      "Already up to date.\n",
      "[main 4ba7537] record_wav\n",
      " 2 files changed, 22 insertions(+)\n",
      " create mode 100644 data/gpepp/2022-05-25T10:51:51.019.wav\n"
     ]
    },
    {
     "name": "stderr",
     "output_type": "stream",
     "text": [
      "To https://github.com/aubreymoore/good-vibrations.git\n",
      "   e898221..4ba7537  main -> main\n"
     ]
    },
    {
     "name": "stdout",
     "output_type": "stream",
     "text": [
      "   sleeping for 540s\n",
      "271 of 100000\n",
      "   recording for 60s; saving to /home/pi/good-vibrations/data/gpepp/2022-05-25T11:01:57.950.wav\n",
      "   uploading data to GitHub\n",
      "Already up to date.\n",
      "[main 2010aba] record_wav\n",
      " 2 files changed, 22 insertions(+)\n",
      " create mode 100644 data/gpepp/2022-05-25T11:01:57.950.wav\n"
     ]
    },
    {
     "name": "stderr",
     "output_type": "stream",
     "text": [
      "To https://github.com/aubreymoore/good-vibrations.git\n",
      "   4ba7537..2010aba  main -> main\n"
     ]
    },
    {
     "name": "stdout",
     "output_type": "stream",
     "text": [
      "   sleeping for 540s\n",
      "272 of 100000\n",
      "   recording for 60s; saving to /home/pi/good-vibrations/data/gpepp/2022-05-25T11:12:05.249.wav\n",
      "   uploading data to GitHub\n",
      "Already up to date.\n",
      "[main 8736270] record_wav\n",
      " 2 files changed, 22 insertions(+)\n",
      " create mode 100644 data/gpepp/2022-05-25T11:12:05.249.wav\n"
     ]
    },
    {
     "name": "stderr",
     "output_type": "stream",
     "text": [
      "To https://github.com/aubreymoore/good-vibrations.git\n",
      "   2010aba..8736270  main -> main\n"
     ]
    },
    {
     "name": "stdout",
     "output_type": "stream",
     "text": [
      "   sleeping for 540s\n",
      "273 of 100000\n",
      "   recording for 60s; saving to /home/pi/good-vibrations/data/gpepp/2022-05-25T11:22:12.169.wav\n",
      "   uploading data to GitHub\n",
      "Already up to date.\n",
      "[main 6e87d42] record_wav\n",
      " 2 files changed, 22 insertions(+)\n",
      " create mode 100644 data/gpepp/2022-05-25T11:22:12.169.wav\n"
     ]
    },
    {
     "name": "stderr",
     "output_type": "stream",
     "text": [
      "To https://github.com/aubreymoore/good-vibrations.git\n",
      "   8736270..6e87d42  main -> main\n"
     ]
    },
    {
     "name": "stdout",
     "output_type": "stream",
     "text": [
      "   sleeping for 540s\n",
      "274 of 100000\n",
      "   recording for 60s; saving to /home/pi/good-vibrations/data/gpepp/2022-05-25T11:32:19.483.wav\n",
      "   uploading data to GitHub\n",
      "Already up to date.\n",
      "[main 2fdec26] record_wav\n",
      " 2 files changed, 22 insertions(+)\n",
      " create mode 100644 data/gpepp/2022-05-25T11:32:19.483.wav\n"
     ]
    },
    {
     "name": "stderr",
     "output_type": "stream",
     "text": [
      "To https://github.com/aubreymoore/good-vibrations.git\n",
      "   6e87d42..2fdec26  main -> main\n"
     ]
    },
    {
     "name": "stdout",
     "output_type": "stream",
     "text": [
      "   sleeping for 540s\n",
      "275 of 100000\n",
      "   recording for 60s; saving to /home/pi/good-vibrations/data/gpepp/2022-05-25T11:42:26.659.wav\n",
      "   uploading data to GitHub\n",
      "Already up to date.\n",
      "[main 108f8bd] record_wav\n",
      " 2 files changed, 22 insertions(+)\n",
      " create mode 100644 data/gpepp/2022-05-25T11:42:26.659.wav\n"
     ]
    },
    {
     "name": "stderr",
     "output_type": "stream",
     "text": [
      "To https://github.com/aubreymoore/good-vibrations.git\n",
      "   2fdec26..108f8bd  main -> main\n"
     ]
    },
    {
     "name": "stdout",
     "output_type": "stream",
     "text": [
      "   sleeping for 540s\n",
      "276 of 100000\n",
      "   recording for 60s; saving to /home/pi/good-vibrations/data/gpepp/2022-05-25T11:52:33.360.wav\n",
      "   uploading data to GitHub\n",
      "Already up to date.\n",
      "[main 5d1dacb] record_wav\n",
      " 2 files changed, 22 insertions(+)\n",
      " create mode 100644 data/gpepp/2022-05-25T11:52:33.360.wav\n"
     ]
    },
    {
     "name": "stderr",
     "output_type": "stream",
     "text": [
      "To https://github.com/aubreymoore/good-vibrations.git\n",
      "   108f8bd..5d1dacb  main -> main\n"
     ]
    },
    {
     "name": "stdout",
     "output_type": "stream",
     "text": [
      "   sleeping for 540s\n",
      "277 of 100000\n",
      "   recording for 60s; saving to /home/pi/good-vibrations/data/gpepp/2022-05-25T12:02:39.933.wav\n",
      "   uploading data to GitHub\n",
      "Already up to date.\n",
      "[main 4d11605] record_wav\n",
      " 2 files changed, 25 insertions(+), 1 deletion(-)\n",
      " create mode 100644 data/gpepp/2022-05-25T12:02:39.933.wav\n"
     ]
    },
    {
     "name": "stderr",
     "output_type": "stream",
     "text": [
      "To https://github.com/aubreymoore/good-vibrations.git\n",
      "   5d1dacb..4d11605  main -> main\n"
     ]
    },
    {
     "name": "stdout",
     "output_type": "stream",
     "text": [
      "   sleeping for 540s\n",
      "278 of 100000\n",
      "   recording for 60s; saving to /home/pi/good-vibrations/data/gpepp/2022-05-25T12:12:48.339.wav\n",
      "   uploading data to GitHub\n",
      "Already up to date.\n",
      "[main c75341e] record_wav\n",
      " 2 files changed, 23 insertions(+), 1 deletion(-)\n",
      " create mode 100644 data/gpepp/2022-05-25T12:12:48.339.wav\n"
     ]
    },
    {
     "name": "stderr",
     "output_type": "stream",
     "text": [
      "To https://github.com/aubreymoore/good-vibrations.git\n",
      "   4d11605..c75341e  main -> main\n"
     ]
    },
    {
     "name": "stdout",
     "output_type": "stream",
     "text": [
      "   sleeping for 540s\n",
      "279 of 100000\n",
      "   recording for 60s; saving to /home/pi/good-vibrations/data/gpepp/2022-05-25T12:22:54.999.wav\n",
      "   uploading data to GitHub\n",
      "Already up to date.\n",
      "[main aec0a34] record_wav\n",
      " 2 files changed, 23 insertions(+), 1 deletion(-)\n",
      " create mode 100644 data/gpepp/2022-05-25T12:22:54.999.wav\n"
     ]
    },
    {
     "name": "stderr",
     "output_type": "stream",
     "text": [
      "To https://github.com/aubreymoore/good-vibrations.git\n",
      "   c75341e..aec0a34  main -> main\n"
     ]
    },
    {
     "name": "stdout",
     "output_type": "stream",
     "text": [
      "   sleeping for 540s\n",
      "280 of 100000\n",
      "   recording for 60s; saving to /home/pi/good-vibrations/data/gpepp/2022-05-25T12:33:04.999.wav\n",
      "   uploading data to GitHub\n",
      "Already up to date.\n",
      "[main b2d3eb1] record_wav\n",
      " 2 files changed, 23 insertions(+), 1 deletion(-)\n",
      " create mode 100644 data/gpepp/2022-05-25T12:33:04.999.wav\n"
     ]
    },
    {
     "name": "stderr",
     "output_type": "stream",
     "text": [
      "To https://github.com/aubreymoore/good-vibrations.git\n",
      "   aec0a34..b2d3eb1  main -> main\n"
     ]
    },
    {
     "name": "stdout",
     "output_type": "stream",
     "text": [
      "   sleeping for 540s\n",
      "281 of 100000\n",
      "   recording for 60s; saving to /home/pi/good-vibrations/data/gpepp/2022-05-25T12:43:11.689.wav\n",
      "   uploading data to GitHub\n",
      "Already up to date.\n",
      "[main 99084b9] record_wav\n",
      " 2 files changed, 23 insertions(+), 1 deletion(-)\n",
      " create mode 100644 data/gpepp/2022-05-25T12:43:11.689.wav\n"
     ]
    },
    {
     "name": "stderr",
     "output_type": "stream",
     "text": [
      "To https://github.com/aubreymoore/good-vibrations.git\n",
      "   b2d3eb1..99084b9  main -> main\n"
     ]
    },
    {
     "name": "stdout",
     "output_type": "stream",
     "text": [
      "   sleeping for 540s\n",
      "282 of 100000\n",
      "   recording for 60s; saving to /home/pi/good-vibrations/data/gpepp/2022-05-25T12:53:18.249.wav\n",
      "   uploading data to GitHub\n"
     ]
    },
    {
     "name": "stderr",
     "output_type": "stream",
     "text": [
      "fatal: unable to access 'https://github.com/aubreymoore/good-vibrations.git/': Could not resolve host: github.com\n"
     ]
    },
    {
     "name": "stdout",
     "output_type": "stream",
     "text": [
      "[main 853cf79] record_wav\n",
      " 2 files changed, 23 insertions(+), 1 deletion(-)\n",
      " create mode 100644 data/gpepp/2022-05-25T12:53:18.249.wav\n",
      "   sleeping for 540s\n"
     ]
    },
    {
     "name": "stderr",
     "output_type": "stream",
     "text": [
      "fatal: unable to access 'https://github.com/aubreymoore/good-vibrations.git/': Could not resolve host: github.com\n"
     ]
    },
    {
     "name": "stdout",
     "output_type": "stream",
     "text": [
      "283 of 100000\n",
      "   recording for 60s; saving to /home/pi/good-vibrations/data/gpepp/2022-05-25T13:03:18.969.wav\n",
      "   uploading data to GitHub\n",
      "Already up to date.\n",
      "[main 8248075] record_wav\n",
      " 2 files changed, 34 insertions(+), 1 deletion(-)\n",
      " create mode 100644 data/gpepp/2022-05-25T13:03:18.969.wav\n"
     ]
    },
    {
     "name": "stderr",
     "output_type": "stream",
     "text": [
      "To https://github.com/aubreymoore/good-vibrations.git\n",
      "   99084b9..8248075  main -> main\n"
     ]
    },
    {
     "name": "stdout",
     "output_type": "stream",
     "text": [
      "   sleeping for 540s\n",
      "284 of 100000\n",
      "   recording for 60s; saving to /home/pi/good-vibrations/data/gpepp/2022-05-25T13:13:26.999.wav\n",
      "   uploading data to GitHub\n",
      "Already up to date.\n",
      "[main 49e0d79] record_wav\n",
      " 2 files changed, 23 insertions(+), 1 deletion(-)\n",
      " create mode 100644 data/gpepp/2022-05-25T13:13:26.999.wav\n"
     ]
    },
    {
     "name": "stderr",
     "output_type": "stream",
     "text": [
      "To https://github.com/aubreymoore/good-vibrations.git\n",
      "   8248075..49e0d79  main -> main\n"
     ]
    },
    {
     "name": "stdout",
     "output_type": "stream",
     "text": [
      "   sleeping for 540s\n",
      "285 of 100000\n",
      "   recording for 60s; saving to /home/pi/good-vibrations/data/gpepp/2022-05-25T13:23:34.743.wav\n",
      "   uploading data to GitHub\n",
      "Already up to date.\n",
      "[main 9dfa840] record_wav\n",
      " 2 files changed, 23 insertions(+), 1 deletion(-)\n",
      " create mode 100644 data/gpepp/2022-05-25T13:23:34.743.wav\n"
     ]
    },
    {
     "name": "stderr",
     "output_type": "stream",
     "text": [
      "To https://github.com/aubreymoore/good-vibrations.git\n",
      "   49e0d79..9dfa840  main -> main\n"
     ]
    },
    {
     "name": "stdout",
     "output_type": "stream",
     "text": [
      "   sleeping for 540s\n",
      "286 of 100000\n",
      "   recording for 60s; saving to /home/pi/good-vibrations/data/gpepp/2022-05-25T13:33:41.679.wav\n",
      "   uploading data to GitHub\n",
      "Already up to date.\n",
      "[main 9cae2a1] record_wav\n",
      " 2 files changed, 23 insertions(+), 1 deletion(-)\n",
      " create mode 100644 data/gpepp/2022-05-25T13:33:41.679.wav\n"
     ]
    },
    {
     "name": "stderr",
     "output_type": "stream",
     "text": [
      "To https://github.com/aubreymoore/good-vibrations.git\n",
      "   9dfa840..9cae2a1  main -> main\n"
     ]
    },
    {
     "name": "stdout",
     "output_type": "stream",
     "text": [
      "   sleeping for 540s\n",
      "287 of 100000\n",
      "   recording for 60s; saving to /home/pi/good-vibrations/data/gpepp/2022-05-25T13:43:50.355.wav\n",
      "   uploading data to GitHub\n",
      "Already up to date.\n",
      "[main 20d7077] record_wav\n",
      " 2 files changed, 23 insertions(+), 1 deletion(-)\n",
      " create mode 100644 data/gpepp/2022-05-25T13:43:50.355.wav\n"
     ]
    },
    {
     "name": "stderr",
     "output_type": "stream",
     "text": [
      "To https://github.com/aubreymoore/good-vibrations.git\n",
      "   9cae2a1..20d7077  main -> main\n"
     ]
    },
    {
     "name": "stdout",
     "output_type": "stream",
     "text": [
      "   sleeping for 540s\n",
      "288 of 100000\n",
      "   recording for 60s; saving to /home/pi/good-vibrations/data/gpepp/2022-05-25T13:53:57.391.wav\n",
      "   uploading data to GitHub\n",
      "Already up to date.\n",
      "[main 879e4ff] record_wav\n",
      " 2 files changed, 21 insertions(+), 1 deletion(-)\n",
      " create mode 100644 data/gpepp/2022-05-25T13:53:57.391.wav\n"
     ]
    },
    {
     "name": "stderr",
     "output_type": "stream",
     "text": [
      "To https://github.com/aubreymoore/good-vibrations.git\n",
      "   20d7077..879e4ff  main -> main\n"
     ]
    },
    {
     "name": "stdout",
     "output_type": "stream",
     "text": [
      "   sleeping for 540s\n",
      "289 of 100000\n",
      "   recording for 60s; saving to /home/pi/good-vibrations/data/gpepp/2022-05-25T14:04:04.327.wav\n",
      "   uploading data to GitHub\n",
      "Already up to date.\n",
      "[main 95f20ae] record_wav\n",
      " 2 files changed, 22 insertions(+)\n",
      " create mode 100644 data/gpepp/2022-05-25T14:04:04.327.wav\n"
     ]
    },
    {
     "name": "stderr",
     "output_type": "stream",
     "text": [
      "To https://github.com/aubreymoore/good-vibrations.git\n",
      "   879e4ff..95f20ae  main -> main\n"
     ]
    },
    {
     "name": "stdout",
     "output_type": "stream",
     "text": [
      "   sleeping for 540s\n",
      "290 of 100000\n",
      "   recording for 60s; saving to /home/pi/good-vibrations/data/gpepp/2022-05-25T14:14:10.993.wav\n",
      "   uploading data to GitHub\n",
      "Already up to date.\n",
      "[main 71da189] record_wav\n",
      " 2 files changed, 22 insertions(+)\n",
      " create mode 100644 data/gpepp/2022-05-25T14:14:10.993.wav\n"
     ]
    },
    {
     "name": "stderr",
     "output_type": "stream",
     "text": [
      "To https://github.com/aubreymoore/good-vibrations.git\n",
      "   95f20ae..71da189  main -> main\n"
     ]
    },
    {
     "name": "stdout",
     "output_type": "stream",
     "text": [
      "   sleeping for 540s\n",
      "291 of 100000\n",
      "   recording for 60s; saving to /home/pi/good-vibrations/data/gpepp/2022-05-25T14:24:17.849.wav\n",
      "   uploading data to GitHub\n",
      "Already up to date.\n",
      "[main a246c63] record_wav\n",
      " 2 files changed, 22 insertions(+)\n",
      " create mode 100644 data/gpepp/2022-05-25T14:24:17.849.wav\n"
     ]
    },
    {
     "name": "stderr",
     "output_type": "stream",
     "text": [
      "To https://github.com/aubreymoore/good-vibrations.git\n",
      "   71da189..a246c63  main -> main\n"
     ]
    },
    {
     "name": "stdout",
     "output_type": "stream",
     "text": [
      "   sleeping for 540s\n",
      "292 of 100000\n",
      "   recording for 60s; saving to /home/pi/good-vibrations/data/gpepp/2022-05-25T14:34:24.379.wav\n",
      "   uploading data to GitHub\n",
      "Already up to date.\n",
      "[main 894cc44] record_wav\n",
      " 2 files changed, 22 insertions(+)\n",
      " create mode 100644 data/gpepp/2022-05-25T14:34:24.379.wav\n"
     ]
    },
    {
     "name": "stderr",
     "output_type": "stream",
     "text": [
      "To https://github.com/aubreymoore/good-vibrations.git\n",
      "   a246c63..894cc44  main -> main\n"
     ]
    },
    {
     "name": "stdout",
     "output_type": "stream",
     "text": [
      "   sleeping for 540s\n",
      "293 of 100000\n",
      "   recording for 60s; saving to /home/pi/good-vibrations/data/gpepp/2022-05-25T14:44:31.122.wav\n",
      "   uploading data to GitHub\n",
      "Already up to date.\n",
      "[main 243dd7c] record_wav\n",
      " 2 files changed, 22 insertions(+)\n",
      " create mode 100644 data/gpepp/2022-05-25T14:44:31.122.wav\n"
     ]
    },
    {
     "name": "stderr",
     "output_type": "stream",
     "text": [
      "To https://github.com/aubreymoore/good-vibrations.git\n",
      "   894cc44..243dd7c  main -> main\n"
     ]
    },
    {
     "name": "stdout",
     "output_type": "stream",
     "text": [
      "   sleeping for 540s\n",
      "294 of 100000\n",
      "   recording for 60s; saving to /home/pi/good-vibrations/data/gpepp/2022-05-25T14:54:38.948.wav\n",
      "   uploading data to GitHub\n",
      "Already up to date.\n",
      "[main ea261ab] record_wav\n",
      " 2 files changed, 22 insertions(+)\n",
      " create mode 100644 data/gpepp/2022-05-25T14:54:38.948.wav\n"
     ]
    },
    {
     "name": "stderr",
     "output_type": "stream",
     "text": [
      "To https://github.com/aubreymoore/good-vibrations.git\n",
      "   243dd7c..ea261ab  main -> main\n"
     ]
    },
    {
     "name": "stdout",
     "output_type": "stream",
     "text": [
      "   sleeping for 540s\n",
      "295 of 100000\n",
      "   recording for 60s; saving to /home/pi/good-vibrations/data/gpepp/2022-05-25T15:04:46.129.wav\n",
      "   uploading data to GitHub\n",
      "Already up to date.\n",
      "[main e5f2c76] record_wav\n",
      " 2 files changed, 22 insertions(+)\n",
      " create mode 100644 data/gpepp/2022-05-25T15:04:46.129.wav\n"
     ]
    },
    {
     "name": "stderr",
     "output_type": "stream",
     "text": [
      "To https://github.com/aubreymoore/good-vibrations.git\n",
      "   ea261ab..e5f2c76  main -> main\n"
     ]
    },
    {
     "name": "stdout",
     "output_type": "stream",
     "text": [
      "   sleeping for 540s\n",
      "296 of 100000\n",
      "   recording for 60s; saving to /home/pi/good-vibrations/data/gpepp/2022-05-25T15:14:54.183.wav\n",
      "   uploading data to GitHub\n",
      "Already up to date.\n",
      "[main 6ee969b] record_wav\n",
      " 2 files changed, 22 insertions(+)\n",
      " create mode 100644 data/gpepp/2022-05-25T15:14:54.183.wav\n"
     ]
    },
    {
     "name": "stderr",
     "output_type": "stream",
     "text": [
      "To https://github.com/aubreymoore/good-vibrations.git\n",
      "   e5f2c76..6ee969b  main -> main\n"
     ]
    },
    {
     "name": "stdout",
     "output_type": "stream",
     "text": [
      "   sleeping for 540s\n",
      "297 of 100000\n",
      "   recording for 60s; saving to /home/pi/good-vibrations/data/gpepp/2022-05-25T15:25:01.208.wav\n",
      "   uploading data to GitHub\n",
      "Already up to date.\n",
      "[main a3f04d9] record_wav\n",
      " 2 files changed, 22 insertions(+)\n",
      " create mode 100644 data/gpepp/2022-05-25T15:25:01.208.wav\n"
     ]
    },
    {
     "name": "stderr",
     "output_type": "stream",
     "text": [
      "To https://github.com/aubreymoore/good-vibrations.git\n",
      "   6ee969b..a3f04d9  main -> main\n"
     ]
    },
    {
     "name": "stdout",
     "output_type": "stream",
     "text": [
      "   sleeping for 540s\n",
      "298 of 100000\n",
      "   recording for 60s; saving to /home/pi/good-vibrations/data/gpepp/2022-05-25T15:35:07.859.wav\n",
      "   uploading data to GitHub\n",
      "Already up to date.\n",
      "[main 4e1ed62] record_wav\n",
      " 2 files changed, 8 insertions(+), 1 deletion(-)\n",
      " create mode 100644 data/gpepp/2022-05-25T15:35:07.859.wav\n"
     ]
    },
    {
     "name": "stderr",
     "output_type": "stream",
     "text": [
      "To https://github.com/aubreymoore/good-vibrations.git\n",
      "   a3f04d9..4e1ed62  main -> main\n"
     ]
    },
    {
     "name": "stdout",
     "output_type": "stream",
     "text": [
      "   sleeping for 540s\n",
      "299 of 100000\n",
      "   recording for 60s; saving to /home/pi/good-vibrations/data/gpepp/2022-05-25T15:45:14.601.wav\n",
      "   uploading data to GitHub\n",
      "Already up to date.\n",
      "[main cb13bdd] record_wav\n",
      " 2 files changed, 39 insertions(+)\n",
      " create mode 100644 data/gpepp/2022-05-25T15:45:14.601.wav\n"
     ]
    },
    {
     "name": "stderr",
     "output_type": "stream",
     "text": [
      "To https://github.com/aubreymoore/good-vibrations.git\n",
      "   4e1ed62..cb13bdd  main -> main\n"
     ]
    },
    {
     "name": "stdout",
     "output_type": "stream",
     "text": [
      "   sleeping for 540s\n",
      "300 of 100000\n",
      "   recording for 60s; saving to /home/pi/good-vibrations/data/gpepp/2022-05-25T15:55:21.366.wav\n",
      "   uploading data to GitHub\n",
      "Already up to date.\n",
      "[main 0247d7f] record_wav\n",
      " 2 files changed, 23 insertions(+), 1 deletion(-)\n",
      " create mode 100644 data/gpepp/2022-05-25T15:55:21.366.wav\n"
     ]
    },
    {
     "name": "stderr",
     "output_type": "stream",
     "text": [
      "To https://github.com/aubreymoore/good-vibrations.git\n",
      "   cb13bdd..0247d7f  main -> main\n"
     ]
    },
    {
     "name": "stdout",
     "output_type": "stream",
     "text": [
      "   sleeping for 540s\n",
      "301 of 100000\n",
      "   recording for 60s; saving to /home/pi/good-vibrations/data/gpepp/2022-05-25T16:05:33.019.wav\n",
      "   uploading data to GitHub\n"
     ]
    },
    {
     "name": "stderr",
     "output_type": "stream",
     "text": [
      "From https://github.com/aubreymoore/good-vibrations\n",
      "   0247d7f..3e8df4a  main       -> origin/main\n"
     ]
    },
    {
     "name": "stdout",
     "output_type": "stream",
     "text": [
      "Updating 0247d7f..3e8df4a\n",
      "Fast-forward\n",
      " data/gpepp/actions.csv | 5 +++++\n",
      " 1 file changed, 5 insertions(+)\n",
      " create mode 100644 data/gpepp/actions.csv\n",
      "[main d91e7f1] record_wav\n",
      " 2 files changed, 23 insertions(+), 1 deletion(-)\n",
      " create mode 100644 data/gpepp/2022-05-25T16:05:33.019.wav\n"
     ]
    },
    {
     "name": "stderr",
     "output_type": "stream",
     "text": [
      "To https://github.com/aubreymoore/good-vibrations.git\n",
      "   3e8df4a..d91e7f1  main -> main\n"
     ]
    },
    {
     "name": "stdout",
     "output_type": "stream",
     "text": [
      "   sleeping for 540s\n",
      "302 of 100000\n",
      "   recording for 60s; saving to /home/pi/good-vibrations/data/gpepp/2022-05-25T16:15:40.979.wav\n",
      "   uploading data to GitHub\n",
      "Already up to date.\n",
      "[main cb0daa2] record_wav\n",
      " 2 files changed, 41 insertions(+), 1 deletion(-)\n",
      " create mode 100644 data/gpepp/2022-05-25T16:15:40.979.wav\n"
     ]
    },
    {
     "name": "stderr",
     "output_type": "stream",
     "text": [
      "To https://github.com/aubreymoore/good-vibrations.git\n",
      "   d91e7f1..cb0daa2  main -> main\n"
     ]
    },
    {
     "name": "stdout",
     "output_type": "stream",
     "text": [
      "   sleeping for 540s\n",
      "303 of 100000\n",
      "   recording for 60s; saving to /home/pi/good-vibrations/data/gpepp/2022-05-25T16:25:48.419.wav\n",
      "   uploading data to GitHub\n",
      "Already up to date.\n",
      "[main f0f8fe9] record_wav\n",
      " 2 files changed, 23 insertions(+), 1 deletion(-)\n",
      " create mode 100644 data/gpepp/2022-05-25T16:25:48.419.wav\n"
     ]
    },
    {
     "name": "stderr",
     "output_type": "stream",
     "text": [
      "To https://github.com/aubreymoore/good-vibrations.git\n",
      "   cb0daa2..f0f8fe9  main -> main\n"
     ]
    },
    {
     "name": "stdout",
     "output_type": "stream",
     "text": [
      "   sleeping for 540s\n",
      "304 of 100000\n",
      "   recording for 60s; saving to /home/pi/good-vibrations/data/gpepp/2022-05-25T16:35:55.139.wav\n",
      "   uploading data to GitHub\n",
      "Already up to date.\n",
      "[main 959e80e] record_wav\n",
      " 2 files changed, 23 insertions(+), 1 deletion(-)\n",
      " create mode 100644 data/gpepp/2022-05-25T16:35:55.139.wav\n"
     ]
    },
    {
     "name": "stderr",
     "output_type": "stream",
     "text": [
      "To https://github.com/aubreymoore/good-vibrations.git\n",
      "   f0f8fe9..959e80e  main -> main\n"
     ]
    },
    {
     "name": "stdout",
     "output_type": "stream",
     "text": [
      "   sleeping for 540s\n",
      "305 of 100000\n",
      "   recording for 60s; saving to /home/pi/good-vibrations/data/gpepp/2022-05-25T16:46:01.779.wav\n",
      "   uploading data to GitHub\n",
      "Already up to date.\n",
      "[main 5890dda] record_wav\n",
      " 2 files changed, 23 insertions(+), 1 deletion(-)\n",
      " create mode 100644 data/gpepp/2022-05-25T16:46:01.779.wav\n"
     ]
    },
    {
     "name": "stderr",
     "output_type": "stream",
     "text": [
      "To https://github.com/aubreymoore/good-vibrations.git\n",
      "   959e80e..5890dda  main -> main\n"
     ]
    },
    {
     "name": "stdout",
     "output_type": "stream",
     "text": [
      "   sleeping for 540s\n",
      "306 of 100000\n",
      "   recording for 60s; saving to /home/pi/good-vibrations/data/gpepp/2022-05-25T16:56:08.659.wav\n",
      "   uploading data to GitHub\n",
      "Already up to date.\n",
      "[main e8c092e] record_wav\n",
      " 2 files changed, 23 insertions(+), 1 deletion(-)\n",
      " create mode 100644 data/gpepp/2022-05-25T16:56:08.659.wav\n"
     ]
    },
    {
     "name": "stderr",
     "output_type": "stream",
     "text": [
      "To https://github.com/aubreymoore/good-vibrations.git\n",
      "   5890dda..e8c092e  main -> main\n"
     ]
    },
    {
     "name": "stdout",
     "output_type": "stream",
     "text": [
      "   sleeping for 540s\n",
      "307 of 100000\n",
      "   recording for 60s; saving to /home/pi/good-vibrations/data/gpepp/2022-05-25T17:06:15.580.wav\n",
      "   uploading data to GitHub\n",
      "Already up to date.\n",
      "[main d075b96] record_wav\n",
      " 2 files changed, 23 insertions(+), 1 deletion(-)\n",
      " create mode 100644 data/gpepp/2022-05-25T17:06:15.580.wav\n"
     ]
    },
    {
     "name": "stderr",
     "output_type": "stream",
     "text": [
      "To https://github.com/aubreymoore/good-vibrations.git\n",
      "   e8c092e..d075b96  main -> main\n"
     ]
    },
    {
     "name": "stdout",
     "output_type": "stream",
     "text": [
      "   sleeping for 540s\n",
      "308 of 100000\n",
      "   recording for 60s; saving to /home/pi/good-vibrations/data/gpepp/2022-05-25T17:16:22.912.wav\n",
      "   uploading data to GitHub\n",
      "Already up to date.\n",
      "[main 40b1438] record_wav\n",
      " 2 files changed, 23 insertions(+), 1 deletion(-)\n",
      " create mode 100644 data/gpepp/2022-05-25T17:16:22.912.wav\n"
     ]
    },
    {
     "name": "stderr",
     "output_type": "stream",
     "text": [
      "To https://github.com/aubreymoore/good-vibrations.git\n",
      "   d075b96..40b1438  main -> main\n"
     ]
    },
    {
     "name": "stdout",
     "output_type": "stream",
     "text": [
      "   sleeping for 540s\n",
      "309 of 100000\n",
      "   recording for 60s; saving to /home/pi/good-vibrations/data/gpepp/2022-05-25T17:26:29.499.wav\n",
      "   uploading data to GitHub\n",
      "Already up to date.\n",
      "[main 37d06d8] record_wav\n",
      " 2 files changed, 23 insertions(+), 1 deletion(-)\n",
      " create mode 100644 data/gpepp/2022-05-25T17:26:29.499.wav\n"
     ]
    },
    {
     "name": "stderr",
     "output_type": "stream",
     "text": [
      "To https://github.com/aubreymoore/good-vibrations.git\n",
      "   40b1438..37d06d8  main -> main\n"
     ]
    },
    {
     "name": "stdout",
     "output_type": "stream",
     "text": [
      "   sleeping for 540s\n",
      "310 of 100000\n",
      "   recording for 60s; saving to /home/pi/good-vibrations/data/gpepp/2022-05-25T17:36:36.119.wav\n",
      "   uploading data to GitHub\n",
      "Already up to date.\n",
      "[main 33b21b8] record_wav\n",
      " 2 files changed, 21 insertions(+), 1 deletion(-)\n",
      " create mode 100644 data/gpepp/2022-05-25T17:36:36.119.wav\n"
     ]
    },
    {
     "name": "stderr",
     "output_type": "stream",
     "text": [
      "To https://github.com/aubreymoore/good-vibrations.git\n",
      "   37d06d8..33b21b8  main -> main\n"
     ]
    },
    {
     "name": "stdout",
     "output_type": "stream",
     "text": [
      "   sleeping for 540s\n",
      "311 of 100000\n",
      "   recording for 60s; saving to /home/pi/good-vibrations/data/gpepp/2022-05-25T17:46:44.999.wav\n",
      "   uploading data to GitHub\n",
      "Already up to date.\n",
      "[main b805df8] record_wav\n",
      " 2 files changed, 22 insertions(+)\n",
      " create mode 100644 data/gpepp/2022-05-25T17:46:44.999.wav\n"
     ]
    },
    {
     "name": "stderr",
     "output_type": "stream",
     "text": [
      "To https://github.com/aubreymoore/good-vibrations.git\n",
      "   33b21b8..b805df8  main -> main\n"
     ]
    },
    {
     "name": "stdout",
     "output_type": "stream",
     "text": [
      "   sleeping for 540s\n",
      "312 of 100000\n",
      "   recording for 60s; saving to /home/pi/good-vibrations/data/gpepp/2022-05-25T17:56:51.829.wav\n",
      "   uploading data to GitHub\n",
      "Already up to date.\n",
      "[main 35db302] record_wav\n",
      " 2 files changed, 22 insertions(+)\n",
      " create mode 100644 data/gpepp/2022-05-25T17:56:51.829.wav\n"
     ]
    },
    {
     "name": "stderr",
     "output_type": "stream",
     "text": [
      "To https://github.com/aubreymoore/good-vibrations.git\n",
      "   b805df8..35db302  main -> main\n"
     ]
    },
    {
     "name": "stdout",
     "output_type": "stream",
     "text": [
      "   sleeping for 540s\n",
      "313 of 100000\n",
      "   recording for 60s; saving to /home/pi/good-vibrations/data/gpepp/2022-05-25T18:06:59.089.wav\n",
      "   uploading data to GitHub\n",
      "Already up to date.\n",
      "[main 8d56c03] record_wav\n",
      " 2 files changed, 22 insertions(+)\n",
      " create mode 100644 data/gpepp/2022-05-25T18:06:59.089.wav\n"
     ]
    },
    {
     "name": "stderr",
     "output_type": "stream",
     "text": [
      "To https://github.com/aubreymoore/good-vibrations.git\n",
      "   35db302..8d56c03  main -> main\n"
     ]
    },
    {
     "name": "stdout",
     "output_type": "stream",
     "text": [
      "   sleeping for 540s\n",
      "314 of 100000\n",
      "   recording for 60s; saving to /home/pi/good-vibrations/data/gpepp/2022-05-25T18:17:07.619.wav\n",
      "   uploading data to GitHub\n",
      "Already up to date.\n",
      "[main 6ef7c72] record_wav\n",
      " 2 files changed, 22 insertions(+)\n",
      " create mode 100644 data/gpepp/2022-05-25T18:17:07.619.wav\n"
     ]
    },
    {
     "name": "stderr",
     "output_type": "stream",
     "text": [
      "To https://github.com/aubreymoore/good-vibrations.git\n",
      "   8d56c03..6ef7c72  main -> main\n"
     ]
    },
    {
     "name": "stdout",
     "output_type": "stream",
     "text": [
      "   sleeping for 540s\n",
      "315 of 100000\n",
      "   recording for 60s; saving to /home/pi/good-vibrations/data/gpepp/2022-05-25T18:27:14.949.wav\n",
      "   uploading data to GitHub\n",
      "Already up to date.\n",
      "[main c51495d] record_wav\n",
      " 2 files changed, 22 insertions(+)\n",
      " create mode 100644 data/gpepp/2022-05-25T18:27:14.949.wav\n"
     ]
    },
    {
     "name": "stderr",
     "output_type": "stream",
     "text": [
      "To https://github.com/aubreymoore/good-vibrations.git\n",
      "   6ef7c72..c51495d  main -> main\n"
     ]
    },
    {
     "name": "stdout",
     "output_type": "stream",
     "text": [
      "   sleeping for 540s\n",
      "316 of 100000\n",
      "   recording for 60s; saving to /home/pi/good-vibrations/data/gpepp/2022-05-25T18:37:21.549.wav\n",
      "   uploading data to GitHub\n",
      "Already up to date.\n",
      "[main 2ea16dd] record_wav\n",
      " 2 files changed, 22 insertions(+)\n",
      " create mode 100644 data/gpepp/2022-05-25T18:37:21.549.wav\n"
     ]
    },
    {
     "name": "stderr",
     "output_type": "stream",
     "text": [
      "To https://github.com/aubreymoore/good-vibrations.git\n",
      "   c51495d..2ea16dd  main -> main\n"
     ]
    },
    {
     "name": "stdout",
     "output_type": "stream",
     "text": [
      "   sleeping for 540s\n",
      "317 of 100000\n",
      "   recording for 60s; saving to /home/pi/good-vibrations/data/gpepp/2022-05-25T18:47:28.059.wav\n",
      "   uploading data to GitHub\n",
      "Already up to date.\n",
      "[main d9371bd] record_wav\n",
      " 2 files changed, 22 insertions(+)\n",
      " create mode 100644 data/gpepp/2022-05-25T18:47:28.059.wav\n"
     ]
    },
    {
     "name": "stderr",
     "output_type": "stream",
     "text": [
      "To https://github.com/aubreymoore/good-vibrations.git\n",
      "   2ea16dd..d9371bd  main -> main\n"
     ]
    },
    {
     "name": "stdout",
     "output_type": "stream",
     "text": [
      "   sleeping for 540s\n",
      "318 of 100000\n",
      "   recording for 60s; saving to /home/pi/good-vibrations/data/gpepp/2022-05-25T18:57:34.523.wav\n",
      "   uploading data to GitHub\n",
      "Already up to date.\n",
      "[main c2ca79b] record_wav\n",
      " 2 files changed, 22 insertions(+)\n",
      " create mode 100644 data/gpepp/2022-05-25T18:57:34.523.wav\n"
     ]
    },
    {
     "name": "stderr",
     "output_type": "stream",
     "text": [
      "To https://github.com/aubreymoore/good-vibrations.git\n",
      "   d9371bd..c2ca79b  main -> main\n"
     ]
    },
    {
     "name": "stdout",
     "output_type": "stream",
     "text": [
      "   sleeping for 540s\n",
      "319 of 100000\n",
      "   recording for 60s; saving to /home/pi/good-vibrations/data/gpepp/2022-05-25T19:07:41.289.wav\n",
      "   uploading data to GitHub\n",
      "Already up to date.\n",
      "[main 57ee386] record_wav\n",
      " 2 files changed, 22 insertions(+)\n",
      " create mode 100644 data/gpepp/2022-05-25T19:07:41.289.wav\n"
     ]
    },
    {
     "name": "stderr",
     "output_type": "stream",
     "text": [
      "To https://github.com/aubreymoore/good-vibrations.git\n",
      "   c2ca79b..57ee386  main -> main\n"
     ]
    },
    {
     "name": "stdout",
     "output_type": "stream",
     "text": [
      "   sleeping for 540s\n",
      "320 of 100000\n",
      "   recording for 60s; saving to /home/pi/good-vibrations/data/gpepp/2022-05-25T19:17:48.999.wav\n",
      "   uploading data to GitHub\n",
      "Already up to date.\n",
      "[main 7a0f592] record_wav\n",
      " 2 files changed, 25 insertions(+), 1 deletion(-)\n",
      " create mode 100644 data/gpepp/2022-05-25T19:17:48.999.wav\n"
     ]
    },
    {
     "name": "stderr",
     "output_type": "stream",
     "text": [
      "To https://github.com/aubreymoore/good-vibrations.git\n",
      "   57ee386..7a0f592  main -> main\n"
     ]
    },
    {
     "name": "stdout",
     "output_type": "stream",
     "text": [
      "   sleeping for 540s\n",
      "321 of 100000\n",
      "   recording for 60s; saving to /home/pi/good-vibrations/data/gpepp/2022-05-25T19:27:55.743.wav\n",
      "   uploading data to GitHub\n",
      "Already up to date.\n",
      "[main 3331192] record_wav\n",
      " 2 files changed, 23 insertions(+), 1 deletion(-)\n",
      " create mode 100644 data/gpepp/2022-05-25T19:27:55.743.wav\n"
     ]
    },
    {
     "name": "stderr",
     "output_type": "stream",
     "text": [
      "To https://github.com/aubreymoore/good-vibrations.git\n",
      "   7a0f592..3331192  main -> main\n"
     ]
    },
    {
     "name": "stdout",
     "output_type": "stream",
     "text": [
      "   sleeping for 540s\n",
      "322 of 100000\n",
      "   recording for 60s; saving to /home/pi/good-vibrations/data/gpepp/2022-05-25T19:38:02.249.wav\n",
      "   uploading data to GitHub\n",
      "Already up to date.\n",
      "[main db7b6b8] record_wav\n",
      " 2 files changed, 23 insertions(+), 1 deletion(-)\n",
      " create mode 100644 data/gpepp/2022-05-25T19:38:02.249.wav\n"
     ]
    },
    {
     "name": "stderr",
     "output_type": "stream",
     "text": [
      "To https://github.com/aubreymoore/good-vibrations.git\n",
      "   3331192..db7b6b8  main -> main\n"
     ]
    },
    {
     "name": "stdout",
     "output_type": "stream",
     "text": [
      "   sleeping for 540s\n",
      "323 of 100000\n",
      "   recording for 60s; saving to /home/pi/good-vibrations/data/gpepp/2022-05-25T19:48:09.102.wav\n",
      "   uploading data to GitHub\n",
      "Already up to date.\n",
      "[main 7f75a58] record_wav\n",
      " 2 files changed, 23 insertions(+), 1 deletion(-)\n",
      " create mode 100644 data/gpepp/2022-05-25T19:48:09.102.wav\n"
     ]
    },
    {
     "name": "stderr",
     "output_type": "stream",
     "text": [
      "To https://github.com/aubreymoore/good-vibrations.git\n",
      "   db7b6b8..7f75a58  main -> main\n"
     ]
    },
    {
     "name": "stdout",
     "output_type": "stream",
     "text": [
      "   sleeping for 540s\n",
      "324 of 100000\n",
      "   recording for 60s; saving to /home/pi/good-vibrations/data/gpepp/2022-05-25T19:58:16.929.wav\n",
      "   uploading data to GitHub\n",
      "Already up to date.\n",
      "[main b447e21] record_wav\n",
      " 2 files changed, 23 insertions(+), 1 deletion(-)\n",
      " create mode 100644 data/gpepp/2022-05-25T19:58:16.929.wav\n"
     ]
    },
    {
     "name": "stderr",
     "output_type": "stream",
     "text": [
      "To https://github.com/aubreymoore/good-vibrations.git\n",
      "   7f75a58..b447e21  main -> main\n"
     ]
    },
    {
     "name": "stdout",
     "output_type": "stream",
     "text": [
      "   sleeping for 540s\n",
      "325 of 100000\n",
      "   recording for 60s; saving to /home/pi/good-vibrations/data/gpepp/2022-05-25T20:08:23.866.wav\n",
      "   uploading data to GitHub\n",
      "Already up to date.\n",
      "[main e815587] record_wav\n",
      " 2 files changed, 23 insertions(+), 1 deletion(-)\n",
      " create mode 100644 data/gpepp/2022-05-25T20:08:23.866.wav\n"
     ]
    },
    {
     "name": "stderr",
     "output_type": "stream",
     "text": [
      "To https://github.com/aubreymoore/good-vibrations.git\n",
      "   b447e21..e815587  main -> main\n"
     ]
    },
    {
     "name": "stdout",
     "output_type": "stream",
     "text": [
      "   sleeping for 540s\n",
      "326 of 100000\n",
      "   recording for 60s; saving to /home/pi/good-vibrations/data/gpepp/2022-05-25T20:18:30.539.wav\n",
      "   uploading data to GitHub\n",
      "Already up to date.\n",
      "[main 1896807] record_wav\n",
      " 2 files changed, 23 insertions(+), 1 deletion(-)\n",
      " create mode 100644 data/gpepp/2022-05-25T20:18:30.539.wav\n"
     ]
    },
    {
     "name": "stderr",
     "output_type": "stream",
     "text": [
      "To https://github.com/aubreymoore/good-vibrations.git\n",
      "   e815587..1896807  main -> main\n"
     ]
    },
    {
     "name": "stdout",
     "output_type": "stream",
     "text": [
      "   sleeping for 540s\n",
      "327 of 100000\n",
      "   recording for 60s; saving to /home/pi/good-vibrations/data/gpepp/2022-05-25T20:28:37.990.wav\n",
      "   uploading data to GitHub\n",
      "Already up to date.\n",
      "[main 88b2fc0] record_wav\n",
      " 2 files changed, 23 insertions(+), 1 deletion(-)\n",
      " create mode 100644 data/gpepp/2022-05-25T20:28:37.990.wav\n"
     ]
    },
    {
     "name": "stderr",
     "output_type": "stream",
     "text": [
      "To https://github.com/aubreymoore/good-vibrations.git\n",
      "   1896807..88b2fc0  main -> main\n"
     ]
    },
    {
     "name": "stdout",
     "output_type": "stream",
     "text": [
      "   sleeping for 540s\n",
      "328 of 100000\n",
      "   recording for 60s; saving to /home/pi/good-vibrations/data/gpepp/2022-05-25T20:38:46.519.wav\n",
      "   uploading data to GitHub\n",
      "Already up to date.\n",
      "[main 709b48f] record_wav\n",
      " 2 files changed, 23 insertions(+), 1 deletion(-)\n",
      " create mode 100644 data/gpepp/2022-05-25T20:38:46.519.wav\n"
     ]
    },
    {
     "name": "stderr",
     "output_type": "stream",
     "text": [
      "To https://github.com/aubreymoore/good-vibrations.git\n",
      "   88b2fc0..709b48f  main -> main\n"
     ]
    },
    {
     "name": "stdout",
     "output_type": "stream",
     "text": [
      "   sleeping for 540s\n",
      "329 of 100000\n",
      "   recording for 60s; saving to /home/pi/good-vibrations/data/gpepp/2022-05-25T20:48:53.109.wav\n",
      "   uploading data to GitHub\n",
      "Already up to date.\n",
      "[main 4a6e09d] record_wav\n",
      " 2 files changed, 23 insertions(+), 1 deletion(-)\n",
      " create mode 100644 data/gpepp/2022-05-25T20:48:53.109.wav\n"
     ]
    },
    {
     "name": "stderr",
     "output_type": "stream",
     "text": [
      "To https://github.com/aubreymoore/good-vibrations.git\n",
      "   709b48f..4a6e09d  main -> main\n"
     ]
    },
    {
     "name": "stdout",
     "output_type": "stream",
     "text": [
      "   sleeping for 540s\n",
      "330 of 100000\n",
      "   recording for 60s; saving to /home/pi/good-vibrations/data/gpepp/2022-05-25T20:58:59.761.wav\n",
      "   uploading data to GitHub\n",
      "Already up to date.\n",
      "[main d7a9074] record_wav\n",
      " 2 files changed, 23 insertions(+), 1 deletion(-)\n",
      " create mode 100644 data/gpepp/2022-05-25T20:58:59.761.wav\n"
     ]
    },
    {
     "name": "stderr",
     "output_type": "stream",
     "text": [
      "To https://github.com/aubreymoore/good-vibrations.git\n",
      "   4a6e09d..d7a9074  main -> main\n"
     ]
    },
    {
     "name": "stdout",
     "output_type": "stream",
     "text": [
      "   sleeping for 540s\n",
      "331 of 100000\n",
      "   recording for 60s; saving to /home/pi/good-vibrations/data/gpepp/2022-05-25T21:09:07.044.wav\n",
      "   uploading data to GitHub\n",
      "Already up to date.\n",
      "[main a103035] record_wav\n",
      " 2 files changed, 21 insertions(+), 1 deletion(-)\n",
      " create mode 100644 data/gpepp/2022-05-25T21:09:07.044.wav\n"
     ]
    },
    {
     "name": "stderr",
     "output_type": "stream",
     "text": [
      "To https://github.com/aubreymoore/good-vibrations.git\n",
      "   d7a9074..a103035  main -> main\n"
     ]
    },
    {
     "name": "stdout",
     "output_type": "stream",
     "text": [
      "   sleeping for 540s\n",
      "332 of 100000\n",
      "   recording for 60s; saving to /home/pi/good-vibrations/data/gpepp/2022-05-25T21:19:13.819.wav\n",
      "   uploading data to GitHub\n",
      "Already up to date.\n",
      "[main 2a0f5ae] record_wav\n",
      " 2 files changed, 22 insertions(+)\n",
      " create mode 100644 data/gpepp/2022-05-25T21:19:13.819.wav\n"
     ]
    },
    {
     "name": "stderr",
     "output_type": "stream",
     "text": [
      "To https://github.com/aubreymoore/good-vibrations.git\n",
      "   a103035..2a0f5ae  main -> main\n"
     ]
    },
    {
     "name": "stdout",
     "output_type": "stream",
     "text": [
      "   sleeping for 540s\n",
      "333 of 100000\n",
      "   recording for 60s; saving to /home/pi/good-vibrations/data/gpepp/2022-05-25T21:29:20.628.wav\n",
      "   uploading data to GitHub\n",
      "Already up to date.\n",
      "[main 595b02f] record_wav\n",
      " 2 files changed, 22 insertions(+)\n",
      " create mode 100644 data/gpepp/2022-05-25T21:29:20.628.wav\n"
     ]
    },
    {
     "name": "stderr",
     "output_type": "stream",
     "text": [
      "To https://github.com/aubreymoore/good-vibrations.git\n",
      "   2a0f5ae..595b02f  main -> main\n"
     ]
    },
    {
     "name": "stdout",
     "output_type": "stream",
     "text": [
      "   sleeping for 540s\n",
      "334 of 100000\n",
      "   recording for 60s; saving to /home/pi/good-vibrations/data/gpepp/2022-05-25T21:39:27.099.wav\n",
      "   uploading data to GitHub\n",
      "Already up to date.\n",
      "[main 91e7816] record_wav\n",
      " 2 files changed, 22 insertions(+)\n",
      " create mode 100644 data/gpepp/2022-05-25T21:39:27.099.wav\n"
     ]
    },
    {
     "name": "stderr",
     "output_type": "stream",
     "text": [
      "To https://github.com/aubreymoore/good-vibrations.git\n",
      "   595b02f..91e7816  main -> main\n"
     ]
    },
    {
     "name": "stdout",
     "output_type": "stream",
     "text": [
      "   sleeping for 540s\n",
      "335 of 100000\n",
      "   recording for 60s; saving to /home/pi/good-vibrations/data/gpepp/2022-05-25T21:49:33.719.wav\n",
      "   uploading data to GitHub\n",
      "Already up to date.\n",
      "[main 0b5c13d] record_wav\n",
      " 2 files changed, 22 insertions(+)\n",
      " create mode 100644 data/gpepp/2022-05-25T21:49:33.719.wav\n"
     ]
    },
    {
     "name": "stderr",
     "output_type": "stream",
     "text": [
      "To https://github.com/aubreymoore/good-vibrations.git\n",
      "   91e7816..0b5c13d  main -> main\n"
     ]
    },
    {
     "name": "stdout",
     "output_type": "stream",
     "text": [
      "   sleeping for 540s\n",
      "336 of 100000\n",
      "   recording for 60s; saving to /home/pi/good-vibrations/data/gpepp/2022-05-25T21:59:40.248.wav\n",
      "   uploading data to GitHub\n",
      "Already up to date.\n",
      "[main 92859a8] record_wav\n",
      " 2 files changed, 22 insertions(+)\n",
      " create mode 100644 data/gpepp/2022-05-25T21:59:40.248.wav\n"
     ]
    },
    {
     "name": "stderr",
     "output_type": "stream",
     "text": [
      "To https://github.com/aubreymoore/good-vibrations.git\n",
      "   0b5c13d..92859a8  main -> main\n"
     ]
    },
    {
     "name": "stdout",
     "output_type": "stream",
     "text": [
      "   sleeping for 540s\n",
      "337 of 100000\n",
      "   recording for 60s; saving to /home/pi/good-vibrations/data/gpepp/2022-05-25T22:09:47.672.wav\n",
      "   uploading data to GitHub\n",
      "Already up to date.\n",
      "[main 8bafdd5] record_wav\n",
      " 2 files changed, 22 insertions(+)\n",
      " create mode 100644 data/gpepp/2022-05-25T22:09:47.672.wav\n"
     ]
    },
    {
     "name": "stderr",
     "output_type": "stream",
     "text": [
      "To https://github.com/aubreymoore/good-vibrations.git\n",
      "   92859a8..8bafdd5  main -> main\n"
     ]
    },
    {
     "name": "stdout",
     "output_type": "stream",
     "text": [
      "   sleeping for 540s\n",
      "338 of 100000\n",
      "   recording for 60s; saving to /home/pi/good-vibrations/data/gpepp/2022-05-25T22:19:54.608.wav\n",
      "   uploading data to GitHub\n",
      "Already up to date.\n",
      "[main 27334db] record_wav\n",
      " 2 files changed, 22 insertions(+)\n",
      " create mode 100644 data/gpepp/2022-05-25T22:19:54.608.wav\n"
     ]
    },
    {
     "name": "stderr",
     "output_type": "stream",
     "text": [
      "To https://github.com/aubreymoore/good-vibrations.git\n",
      "   8bafdd5..27334db  main -> main\n"
     ]
    },
    {
     "name": "stdout",
     "output_type": "stream",
     "text": [
      "   sleeping for 540s\n",
      "339 of 100000\n",
      "   recording for 60s; saving to /home/pi/good-vibrations/data/gpepp/2022-05-25T22:30:01.319.wav\n",
      "   uploading data to GitHub\n",
      "Already up to date.\n",
      "[main 7ee2105] record_wav\n",
      " 2 files changed, 22 insertions(+)\n",
      " create mode 100644 data/gpepp/2022-05-25T22:30:01.319.wav\n"
     ]
    },
    {
     "name": "stderr",
     "output_type": "stream",
     "text": [
      "To https://github.com/aubreymoore/good-vibrations.git\n",
      "   27334db..7ee2105  main -> main\n"
     ]
    },
    {
     "name": "stdout",
     "output_type": "stream",
     "text": [
      "   sleeping for 540s\n",
      "340 of 100000\n",
      "   recording for 60s; saving to /home/pi/good-vibrations/data/gpepp/2022-05-25T22:40:07.949.wav\n",
      "   uploading data to GitHub\n",
      "Already up to date.\n",
      "[main 52f6204] record_wav\n",
      " 2 files changed, 22 insertions(+)\n",
      " create mode 100644 data/gpepp/2022-05-25T22:40:07.949.wav\n"
     ]
    },
    {
     "name": "stderr",
     "output_type": "stream",
     "text": [
      "To https://github.com/aubreymoore/good-vibrations.git\n",
      "   7ee2105..52f6204  main -> main\n"
     ]
    },
    {
     "name": "stdout",
     "output_type": "stream",
     "text": [
      "   sleeping for 540s\n",
      "341 of 100000\n",
      "   recording for 60s; saving to /home/pi/good-vibrations/data/gpepp/2022-05-25T22:50:14.486.wav\n",
      "   uploading data to GitHub\n",
      "Already up to date.\n",
      "[main bcb24a3] record_wav\n",
      " 2 files changed, 22 insertions(+)\n",
      " create mode 100644 data/gpepp/2022-05-25T22:50:14.486.wav\n"
     ]
    },
    {
     "name": "stderr",
     "output_type": "stream",
     "text": [
      "To https://github.com/aubreymoore/good-vibrations.git\n",
      "   52f6204..bcb24a3  main -> main\n"
     ]
    },
    {
     "name": "stdout",
     "output_type": "stream",
     "text": [
      "   sleeping for 540s\n",
      "342 of 100000\n",
      "   recording for 60s; saving to /home/pi/good-vibrations/data/gpepp/2022-05-25T23:00:20.829.wav\n",
      "   uploading data to GitHub\n",
      "Already up to date.\n",
      "[main edcaa44] record_wav\n",
      " 2 files changed, 25 insertions(+), 1 deletion(-)\n",
      " create mode 100644 data/gpepp/2022-05-25T23:00:20.829.wav\n"
     ]
    },
    {
     "name": "stderr",
     "output_type": "stream",
     "text": [
      "To https://github.com/aubreymoore/good-vibrations.git\n",
      "   bcb24a3..edcaa44  main -> main\n"
     ]
    },
    {
     "name": "stdout",
     "output_type": "stream",
     "text": [
      "   sleeping for 540s\n",
      "343 of 100000\n",
      "   recording for 60s; saving to /home/pi/good-vibrations/data/gpepp/2022-05-25T23:10:28.146.wav\n",
      "   uploading data to GitHub\n",
      "Already up to date.\n",
      "[main 5fc9c2d] record_wav\n",
      " 2 files changed, 23 insertions(+), 1 deletion(-)\n",
      " create mode 100644 data/gpepp/2022-05-25T23:10:28.146.wav\n"
     ]
    },
    {
     "name": "stderr",
     "output_type": "stream",
     "text": [
      "To https://github.com/aubreymoore/good-vibrations.git\n",
      "   edcaa44..5fc9c2d  main -> main\n"
     ]
    },
    {
     "name": "stdout",
     "output_type": "stream",
     "text": [
      "   sleeping for 540s\n",
      "344 of 100000\n",
      "   recording for 60s; saving to /home/pi/good-vibrations/data/gpepp/2022-05-25T23:20:35.009.wav\n",
      "   uploading data to GitHub\n",
      "Already up to date.\n",
      "[main bd699be] record_wav\n",
      " 2 files changed, 23 insertions(+), 1 deletion(-)\n",
      " create mode 100644 data/gpepp/2022-05-25T23:20:35.009.wav\n"
     ]
    },
    {
     "name": "stderr",
     "output_type": "stream",
     "text": [
      "To https://github.com/aubreymoore/good-vibrations.git\n",
      "   5fc9c2d..bd699be  main -> main\n"
     ]
    },
    {
     "name": "stdout",
     "output_type": "stream",
     "text": [
      "   sleeping for 540s\n",
      "345 of 100000\n",
      "   recording for 60s; saving to /home/pi/good-vibrations/data/gpepp/2022-05-25T23:30:44.080.wav\n",
      "   uploading data to GitHub\n",
      "Already up to date.\n",
      "[main c919a91] record_wav\n",
      " 2 files changed, 23 insertions(+), 1 deletion(-)\n",
      " create mode 100644 data/gpepp/2022-05-25T23:30:44.080.wav\n"
     ]
    },
    {
     "name": "stderr",
     "output_type": "stream",
     "text": [
      "To https://github.com/aubreymoore/good-vibrations.git\n",
      "   bd699be..c919a91  main -> main\n"
     ]
    },
    {
     "name": "stdout",
     "output_type": "stream",
     "text": [
      "   sleeping for 540s\n",
      "346 of 100000\n",
      "   recording for 60s; saving to /home/pi/good-vibrations/data/gpepp/2022-05-25T23:40:51.508.wav\n",
      "   uploading data to GitHub\n"
     ]
    },
    {
     "name": "stderr",
     "output_type": "stream",
     "text": [
      "fatal: unable to access 'https://github.com/aubreymoore/good-vibrations.git/': Could not resolve host: github.com\n"
     ]
    },
    {
     "name": "stdout",
     "output_type": "stream",
     "text": [
      "[main 8cb655e] record_wav\n",
      " 2 files changed, 23 insertions(+), 1 deletion(-)\n",
      " create mode 100644 data/gpepp/2022-05-25T23:40:51.508.wav\n",
      "   sleeping for 540s\n"
     ]
    },
    {
     "name": "stderr",
     "output_type": "stream",
     "text": [
      "fatal: unable to access 'https://github.com/aubreymoore/good-vibrations.git/': Could not resolve host: github.com\n"
     ]
    },
    {
     "name": "stdout",
     "output_type": "stream",
     "text": [
      "347 of 100000\n",
      "   recording for 60s; saving to /home/pi/good-vibrations/data/gpepp/2022-05-25T23:50:52.179.wav\n",
      "   uploading data to GitHub\n",
      "Already up to date.\n",
      "[main 44f116e] record_wav\n",
      " 2 files changed, 34 insertions(+), 1 deletion(-)\n",
      " create mode 100644 data/gpepp/2022-05-25T23:50:52.179.wav\n"
     ]
    },
    {
     "name": "stderr",
     "output_type": "stream",
     "text": [
      "To https://github.com/aubreymoore/good-vibrations.git\n",
      "   c919a91..44f116e  main -> main\n"
     ]
    },
    {
     "name": "stdout",
     "output_type": "stream",
     "text": [
      "   sleeping for 540s\n",
      "348 of 100000\n",
      "   recording for 60s; saving to /home/pi/good-vibrations/data/gpepp/2022-05-26T00:01:00.583.wav\n",
      "   uploading data to GitHub\n"
     ]
    },
    {
     "name": "stderr",
     "output_type": "stream",
     "text": [
      "fatal: unable to access 'https://github.com/aubreymoore/good-vibrations.git/': Could not resolve host: github.com\n"
     ]
    },
    {
     "name": "stdout",
     "output_type": "stream",
     "text": [
      "[main 5e7c2fa] record_wav\n",
      " 2 files changed, 23 insertions(+), 1 deletion(-)\n",
      " create mode 100644 data/gpepp/2022-05-26T00:01:00.583.wav\n"
     ]
    },
    {
     "name": "stderr",
     "output_type": "stream",
     "text": [
      "fatal: unable to access 'https://github.com/aubreymoore/good-vibrations.git/': Could not resolve host: github.com\n"
     ]
    },
    {
     "name": "stdout",
     "output_type": "stream",
     "text": [
      "   sleeping for 540s\n",
      "349 of 100000\n",
      "   recording for 60s; saving to /home/pi/good-vibrations/data/gpepp/2022-05-26T00:11:21.767.wav\n",
      "   uploading data to GitHub\n",
      "Already up to date.\n",
      "[main a2bf837] record_wav\n",
      " 2 files changed, 34 insertions(+), 1 deletion(-)\n",
      " create mode 100644 data/gpepp/2022-05-26T00:11:21.767.wav\n"
     ]
    },
    {
     "name": "stderr",
     "output_type": "stream",
     "text": [
      "To https://github.com/aubreymoore/good-vibrations.git\n",
      "   44f116e..a2bf837  main -> main\n"
     ]
    },
    {
     "name": "stdout",
     "output_type": "stream",
     "text": [
      "   sleeping for 540s\n",
      "350 of 100000\n",
      "   recording for 60s; saving to /home/pi/good-vibrations/data/gpepp/2022-05-26T00:21:30.366.wav\n",
      "   uploading data to GitHub\n",
      "Already up to date.\n",
      "[main 1664658] record_wav\n",
      " 2 files changed, 23 insertions(+), 1 deletion(-)\n",
      " create mode 100644 data/gpepp/2022-05-26T00:21:30.366.wav\n"
     ]
    },
    {
     "name": "stderr",
     "output_type": "stream",
     "text": [
      "To https://github.com/aubreymoore/good-vibrations.git\n",
      "   a2bf837..1664658  main -> main\n"
     ]
    },
    {
     "name": "stdout",
     "output_type": "stream",
     "text": [
      "   sleeping for 540s\n",
      "351 of 100000\n",
      "   recording for 60s; saving to /home/pi/good-vibrations/data/gpepp/2022-05-26T00:31:37.390.wav\n",
      "   uploading data to GitHub\n",
      "Already up to date.\n",
      "[main a2755ce] record_wav\n",
      " 2 files changed, 23 insertions(+), 1 deletion(-)\n",
      " create mode 100644 data/gpepp/2022-05-26T00:31:37.390.wav\n"
     ]
    },
    {
     "name": "stderr",
     "output_type": "stream",
     "text": [
      "To https://github.com/aubreymoore/good-vibrations.git\n",
      "   1664658..a2755ce  main -> main\n"
     ]
    },
    {
     "name": "stdout",
     "output_type": "stream",
     "text": [
      "   sleeping for 540s\n",
      "352 of 100000\n",
      "   recording for 60s; saving to /home/pi/good-vibrations/data/gpepp/2022-05-26T00:41:50.131.wav\n",
      "   uploading data to GitHub\n"
     ]
    },
    {
     "name": "stderr",
     "output_type": "stream",
     "text": [
      "fatal: unable to access 'https://github.com/aubreymoore/good-vibrations.git/': Could not resolve host: github.com\n"
     ]
    },
    {
     "name": "stdout",
     "output_type": "stream",
     "text": [
      "[main eae89a6] record_wav\n",
      " 2 files changed, 21 insertions(+), 1 deletion(-)\n",
      " create mode 100644 data/gpepp/2022-05-26T00:41:50.131.wav\n",
      "   sleeping for 540s\n"
     ]
    },
    {
     "name": "stderr",
     "output_type": "stream",
     "text": [
      "fatal: unable to access 'https://github.com/aubreymoore/good-vibrations.git/': Could not resolve host: github.com\n"
     ]
    },
    {
     "name": "stdout",
     "output_type": "stream",
     "text": [
      "353 of 100000\n",
      "   recording for 60s; saving to /home/pi/good-vibrations/data/gpepp/2022-05-26T00:51:50.880.wav\n",
      "   uploading data to GitHub\n",
      "Already up to date.\n",
      "[main 31509cd] record_wav\n",
      " 2 files changed, 27 insertions(+)\n",
      " create mode 100644 data/gpepp/2022-05-26T00:51:50.880.wav\n"
     ]
    },
    {
     "name": "stderr",
     "output_type": "stream",
     "text": [
      "To https://github.com/aubreymoore/good-vibrations.git\n",
      "   a2755ce..31509cd  main -> main\n"
     ]
    },
    {
     "name": "stdout",
     "output_type": "stream",
     "text": [
      "   sleeping for 540s\n",
      "354 of 100000\n",
      "   recording for 60s; saving to /home/pi/good-vibrations/data/gpepp/2022-05-26T01:02:00.249.wav\n",
      "   uploading data to GitHub\n",
      "Already up to date.\n",
      "[main 2c707e9] record_wav\n",
      " 2 files changed, 28 insertions(+)\n",
      " create mode 100644 data/gpepp/2022-05-26T01:02:00.249.wav\n"
     ]
    },
    {
     "name": "stderr",
     "output_type": "stream",
     "text": [
      "To https://github.com/aubreymoore/good-vibrations.git\n",
      "   31509cd..2c707e9  main -> main\n"
     ]
    },
    {
     "name": "stdout",
     "output_type": "stream",
     "text": [
      "   sleeping for 540s\n",
      "355 of 100000\n",
      "   recording for 60s; saving to /home/pi/good-vibrations/data/gpepp/2022-05-26T01:12:07.129.wav\n",
      "   uploading data to GitHub\n",
      "Already up to date.\n",
      "[main 00c0dcc] record_wav\n",
      " 2 files changed, 22 insertions(+)\n",
      " create mode 100644 data/gpepp/2022-05-26T01:12:07.129.wav\n"
     ]
    },
    {
     "name": "stderr",
     "output_type": "stream",
     "text": [
      "To https://github.com/aubreymoore/good-vibrations.git\n",
      "   2c707e9..00c0dcc  main -> main\n"
     ]
    },
    {
     "name": "stdout",
     "output_type": "stream",
     "text": [
      "   sleeping for 540s\n",
      "356 of 100000\n",
      "   recording for 60s; saving to /home/pi/good-vibrations/data/gpepp/2022-05-26T01:22:14.249.wav\n",
      "   uploading data to GitHub\n",
      "Already up to date.\n",
      "[main 212079e] record_wav\n",
      " 2 files changed, 22 insertions(+)\n",
      " create mode 100644 data/gpepp/2022-05-26T01:22:14.249.wav\n"
     ]
    },
    {
     "name": "stderr",
     "output_type": "stream",
     "text": [
      "To https://github.com/aubreymoore/good-vibrations.git\n",
      "   00c0dcc..212079e  main -> main\n"
     ]
    },
    {
     "name": "stdout",
     "output_type": "stream",
     "text": [
      "   sleeping for 540s\n",
      "357 of 100000\n",
      "   recording for 60s; saving to /home/pi/good-vibrations/data/gpepp/2022-05-26T01:32:21.190.wav\n",
      "   uploading data to GitHub\n",
      "Already up to date.\n",
      "[main 66a7341] record_wav\n",
      " 2 files changed, 22 insertions(+)\n",
      " create mode 100644 data/gpepp/2022-05-26T01:32:21.190.wav\n"
     ]
    },
    {
     "name": "stderr",
     "output_type": "stream",
     "text": [
      "To https://github.com/aubreymoore/good-vibrations.git\n",
      "   212079e..66a7341  main -> main\n"
     ]
    },
    {
     "name": "stdout",
     "output_type": "stream",
     "text": [
      "   sleeping for 540s\n",
      "358 of 100000\n",
      "   recording for 60s; saving to /home/pi/good-vibrations/data/gpepp/2022-05-26T01:42:28.179.wav\n",
      "   uploading data to GitHub\n",
      "Already up to date.\n",
      "[main 00a9003] record_wav\n",
      " 2 files changed, 22 insertions(+)\n",
      " create mode 100644 data/gpepp/2022-05-26T01:42:28.179.wav\n"
     ]
    },
    {
     "name": "stderr",
     "output_type": "stream",
     "text": [
      "To https://github.com/aubreymoore/good-vibrations.git\n",
      "   66a7341..00a9003  main -> main\n"
     ]
    },
    {
     "name": "stdout",
     "output_type": "stream",
     "text": [
      "   sleeping for 540s\n",
      "359 of 100000\n",
      "   recording for 60s; saving to /home/pi/good-vibrations/data/gpepp/2022-05-26T01:52:34.809.wav\n",
      "   uploading data to GitHub\n",
      "Already up to date.\n",
      "[main 5d3bf7c] record_wav\n",
      " 2 files changed, 22 insertions(+)\n",
      " create mode 100644 data/gpepp/2022-05-26T01:52:34.809.wav\n"
     ]
    },
    {
     "name": "stderr",
     "output_type": "stream",
     "text": [
      "To https://github.com/aubreymoore/good-vibrations.git\n",
      "   00a9003..5d3bf7c  main -> main\n"
     ]
    },
    {
     "name": "stdout",
     "output_type": "stream",
     "text": [
      "   sleeping for 540s\n",
      "360 of 100000\n",
      "   recording for 60s; saving to /home/pi/good-vibrations/data/gpepp/2022-05-26T02:02:42.249.wav\n",
      "   uploading data to GitHub\n",
      "Already up to date.\n",
      "[main fcdb28b] record_wav\n",
      " 2 files changed, 22 insertions(+)\n",
      " create mode 100644 data/gpepp/2022-05-26T02:02:42.249.wav\n"
     ]
    },
    {
     "name": "stderr",
     "output_type": "stream",
     "text": [
      "To https://github.com/aubreymoore/good-vibrations.git\n",
      "   5d3bf7c..fcdb28b  main -> main\n"
     ]
    },
    {
     "name": "stdout",
     "output_type": "stream",
     "text": [
      "   sleeping for 540s\n",
      "361 of 100000\n",
      "   recording for 60s; saving to /home/pi/good-vibrations/data/gpepp/2022-05-26T02:12:49.921.wav\n",
      "   uploading data to GitHub\n",
      "Already up to date.\n",
      "[main 3d91d75] record_wav\n",
      " 2 files changed, 22 insertions(+)\n",
      " create mode 100644 data/gpepp/2022-05-26T02:12:49.921.wav\n"
     ]
    },
    {
     "name": "stderr",
     "output_type": "stream",
     "text": [
      "To https://github.com/aubreymoore/good-vibrations.git\n",
      "   fcdb28b..3d91d75  main -> main\n"
     ]
    },
    {
     "name": "stdout",
     "output_type": "stream",
     "text": [
      "   sleeping for 540s\n",
      "362 of 100000\n",
      "   recording for 60s; saving to /home/pi/good-vibrations/data/gpepp/2022-05-26T02:22:57.249.wav\n",
      "   uploading data to GitHub\n",
      "Already up to date.\n",
      "[main 9ea0488] record_wav\n",
      " 2 files changed, 22 insertions(+)\n",
      " create mode 100644 data/gpepp/2022-05-26T02:22:57.249.wav\n"
     ]
    },
    {
     "name": "stderr",
     "output_type": "stream",
     "text": [
      "To https://github.com/aubreymoore/good-vibrations.git\n",
      "   3d91d75..9ea0488  main -> main\n"
     ]
    },
    {
     "name": "stdout",
     "output_type": "stream",
     "text": [
      "   sleeping for 540s\n",
      "363 of 100000\n",
      "   recording for 60s; saving to /home/pi/good-vibrations/data/gpepp/2022-05-26T02:33:07.468.wav\n",
      "   uploading data to GitHub\n",
      "Already up to date.\n",
      "[main c0da7e6] record_wav\n",
      " 2 files changed, 25 insertions(+), 1 deletion(-)\n",
      " create mode 100644 data/gpepp/2022-05-26T02:33:07.468.wav\n"
     ]
    },
    {
     "name": "stderr",
     "output_type": "stream",
     "text": [
      "To https://github.com/aubreymoore/good-vibrations.git\n",
      "   9ea0488..c0da7e6  main -> main\n"
     ]
    },
    {
     "name": "stdout",
     "output_type": "stream",
     "text": [
      "   sleeping for 540s\n",
      "364 of 100000\n",
      "   recording for 60s; saving to /home/pi/good-vibrations/data/gpepp/2022-05-26T02:43:13.979.wav\n",
      "   uploading data to GitHub\n",
      "Already up to date.\n",
      "[main d33722a] record_wav\n",
      " 2 files changed, 23 insertions(+), 1 deletion(-)\n",
      " create mode 100644 data/gpepp/2022-05-26T02:43:13.979.wav\n"
     ]
    },
    {
     "name": "stderr",
     "output_type": "stream",
     "text": [
      "To https://github.com/aubreymoore/good-vibrations.git\n",
      "   c0da7e6..d33722a  main -> main\n"
     ]
    },
    {
     "name": "stdout",
     "output_type": "stream",
     "text": [
      "   sleeping for 540s\n",
      "365 of 100000\n",
      "   recording for 60s; saving to /home/pi/good-vibrations/data/gpepp/2022-05-26T02:53:20.789.wav\n",
      "   uploading data to GitHub\n",
      "Already up to date.\n",
      "[main 2830ac4] record_wav\n",
      " 2 files changed, 23 insertions(+), 1 deletion(-)\n",
      " create mode 100644 data/gpepp/2022-05-26T02:53:20.789.wav\n"
     ]
    },
    {
     "name": "stderr",
     "output_type": "stream",
     "text": [
      "To https://github.com/aubreymoore/good-vibrations.git\n",
      "   d33722a..2830ac4  main -> main\n"
     ]
    },
    {
     "name": "stdout",
     "output_type": "stream",
     "text": [
      "   sleeping for 540s\n",
      "366 of 100000\n",
      "   recording for 60s; saving to /home/pi/good-vibrations/data/gpepp/2022-05-26T03:03:27.588.wav\n",
      "   uploading data to GitHub\n",
      "Already up to date.\n",
      "[main 32f4cb9] record_wav\n",
      " 2 files changed, 23 insertions(+), 1 deletion(-)\n",
      " create mode 100644 data/gpepp/2022-05-26T03:03:27.588.wav\n"
     ]
    },
    {
     "name": "stderr",
     "output_type": "stream",
     "text": [
      "To https://github.com/aubreymoore/good-vibrations.git\n",
      "   2830ac4..32f4cb9  main -> main\n"
     ]
    },
    {
     "name": "stdout",
     "output_type": "stream",
     "text": [
      "   sleeping for 540s\n",
      "367 of 100000\n",
      "   recording for 60s; saving to /home/pi/good-vibrations/data/gpepp/2022-05-26T03:13:36.859.wav\n",
      "   uploading data to GitHub\n"
     ]
    },
    {
     "name": "stderr",
     "output_type": "stream",
     "text": [
      "fatal: unable to access 'https://github.com/aubreymoore/good-vibrations.git/': Could not resolve host: github.com\n"
     ]
    },
    {
     "name": "stdout",
     "output_type": "stream",
     "text": [
      "[main 808f861] record_wav\n",
      " 2 files changed, 23 insertions(+), 1 deletion(-)\n",
      " create mode 100644 data/gpepp/2022-05-26T03:13:36.859.wav\n",
      "   sleeping for 540s\n"
     ]
    },
    {
     "name": "stderr",
     "output_type": "stream",
     "text": [
      "fatal: unable to access 'https://github.com/aubreymoore/good-vibrations.git/': Could not resolve host: github.com\n"
     ]
    },
    {
     "name": "stdout",
     "output_type": "stream",
     "text": [
      "368 of 100000\n",
      "   recording for 60s; saving to /home/pi/good-vibrations/data/gpepp/2022-05-26T03:23:37.499.wav\n",
      "   uploading data to GitHub\n",
      "Already up to date.\n",
      "[main 7dee5ce] record_wav\n",
      " 2 files changed, 34 insertions(+), 1 deletion(-)\n",
      " create mode 100644 data/gpepp/2022-05-26T03:23:37.499.wav\n"
     ]
    },
    {
     "name": "stderr",
     "output_type": "stream",
     "text": [
      "To https://github.com/aubreymoore/good-vibrations.git\n",
      "   32f4cb9..7dee5ce  main -> main\n"
     ]
    },
    {
     "name": "stdout",
     "output_type": "stream",
     "text": [
      "   sleeping for 540s\n",
      "369 of 100000\n",
      "   recording for 60s; saving to /home/pi/good-vibrations/data/gpepp/2022-05-26T03:33:50.949.wav\n",
      "   uploading data to GitHub\n",
      "Already up to date.\n",
      "[main a0f37d9] record_wav\n",
      " 2 files changed, 23 insertions(+), 1 deletion(-)\n",
      " create mode 100644 data/gpepp/2022-05-26T03:33:50.949.wav\n"
     ]
    },
    {
     "name": "stderr",
     "output_type": "stream",
     "text": [
      "To https://github.com/aubreymoore/good-vibrations.git\n",
      "   7dee5ce..a0f37d9  main -> main\n"
     ]
    },
    {
     "name": "stdout",
     "output_type": "stream",
     "text": [
      "   sleeping for 540s\n",
      "370 of 100000\n",
      "   recording for 60s; saving to /home/pi/good-vibrations/data/gpepp/2022-05-26T03:43:57.969.wav\n",
      "   uploading data to GitHub\n",
      "Already up to date.\n",
      "[main 98db08f] record_wav\n",
      " 2 files changed, 23 insertions(+), 1 deletion(-)\n",
      " create mode 100644 data/gpepp/2022-05-26T03:43:57.969.wav\n"
     ]
    },
    {
     "name": "stderr",
     "output_type": "stream",
     "text": [
      "To https://github.com/aubreymoore/good-vibrations.git\n",
      "   a0f37d9..98db08f  main -> main\n"
     ]
    },
    {
     "name": "stdout",
     "output_type": "stream",
     "text": [
      "   sleeping for 540s\n",
      "371 of 100000\n",
      "   recording for 60s; saving to /home/pi/good-vibrations/data/gpepp/2022-05-26T03:54:04.999.wav\n",
      "   uploading data to GitHub\n",
      "Already up to date.\n",
      "[main 29f2b66] record_wav\n",
      " 2 files changed, 23 insertions(+), 1 deletion(-)\n",
      " create mode 100644 data/gpepp/2022-05-26T03:54:04.999.wav\n"
     ]
    },
    {
     "name": "stderr",
     "output_type": "stream",
     "text": [
      "To https://github.com/aubreymoore/good-vibrations.git\n",
      "   98db08f..29f2b66  main -> main\n"
     ]
    },
    {
     "name": "stdout",
     "output_type": "stream",
     "text": [
      "   sleeping for 540s\n",
      "372 of 100000\n",
      "   recording for 60s; saving to /home/pi/good-vibrations/data/gpepp/2022-05-26T04:04:11.937.wav\n",
      "   uploading data to GitHub\n",
      "Already up to date.\n",
      "[main 423e0b8] record_wav\n",
      " 2 files changed, 23 insertions(+), 1 deletion(-)\n",
      " create mode 100644 data/gpepp/2022-05-26T04:04:11.937.wav\n"
     ]
    },
    {
     "name": "stderr",
     "output_type": "stream",
     "text": [
      "To https://github.com/aubreymoore/good-vibrations.git\n",
      "   29f2b66..423e0b8  main -> main\n"
     ]
    },
    {
     "name": "stdout",
     "output_type": "stream",
     "text": [
      "   sleeping for 540s\n",
      "373 of 100000\n",
      "   recording for 60s; saving to /home/pi/good-vibrations/data/gpepp/2022-05-26T04:14:18.751.wav\n",
      "   uploading data to GitHub\n",
      "Already up to date.\n",
      "[main a374137] record_wav\n",
      " 2 files changed, 23 insertions(+), 1 deletion(-)\n",
      " create mode 100644 data/gpepp/2022-05-26T04:14:18.751.wav\n"
     ]
    },
    {
     "name": "stderr",
     "output_type": "stream",
     "text": [
      "To https://github.com/aubreymoore/good-vibrations.git\n",
      "   423e0b8..a374137  main -> main\n"
     ]
    },
    {
     "name": "stdout",
     "output_type": "stream",
     "text": [
      "   sleeping for 540s\n",
      "374 of 100000\n",
      "   recording for 60s; saving to /home/pi/good-vibrations/data/gpepp/2022-05-26T04:24:25.850.wav\n",
      "   uploading data to GitHub\n",
      "Already up to date.\n",
      "[main 13be620] record_wav\n",
      " 2 files changed, 21 insertions(+), 1 deletion(-)\n",
      " create mode 100644 data/gpepp/2022-05-26T04:24:25.850.wav\n"
     ]
    },
    {
     "name": "stderr",
     "output_type": "stream",
     "text": [
      "To https://github.com/aubreymoore/good-vibrations.git\n",
      "   a374137..13be620  main -> main\n"
     ]
    },
    {
     "name": "stdout",
     "output_type": "stream",
     "text": [
      "   sleeping for 540s\n",
      "375 of 100000\n",
      "   recording for 60s; saving to /home/pi/good-vibrations/data/gpepp/2022-05-26T04:34:32.995.wav\n",
      "   uploading data to GitHub\n",
      "Already up to date.\n",
      "[main 29c1118] record_wav\n",
      " 2 files changed, 22 insertions(+)\n",
      " create mode 100644 data/gpepp/2022-05-26T04:34:32.995.wav\n"
     ]
    },
    {
     "name": "stderr",
     "output_type": "stream",
     "text": [
      "To https://github.com/aubreymoore/good-vibrations.git\n",
      "   13be620..29c1118  main -> main\n"
     ]
    },
    {
     "name": "stdout",
     "output_type": "stream",
     "text": [
      "   sleeping for 540s\n",
      "376 of 100000\n",
      "   recording for 60s; saving to /home/pi/good-vibrations/data/gpepp/2022-05-26T04:44:39.583.wav\n",
      "   uploading data to GitHub\n",
      "Already up to date.\n",
      "[main c99fa48] record_wav\n",
      " 2 files changed, 22 insertions(+)\n",
      " create mode 100644 data/gpepp/2022-05-26T04:44:39.583.wav\n"
     ]
    },
    {
     "name": "stderr",
     "output_type": "stream",
     "text": [
      "To https://github.com/aubreymoore/good-vibrations.git\n",
      "   29c1118..c99fa48  main -> main\n"
     ]
    },
    {
     "name": "stdout",
     "output_type": "stream",
     "text": [
      "   sleeping for 540s\n",
      "377 of 100000\n",
      "   recording for 60s; saving to /home/pi/good-vibrations/data/gpepp/2022-05-26T04:54:48.299.wav\n",
      "   uploading data to GitHub\n",
      "Already up to date.\n",
      "[main 135e629] record_wav\n",
      " 2 files changed, 22 insertions(+)\n",
      " create mode 100644 data/gpepp/2022-05-26T04:54:48.299.wav\n"
     ]
    },
    {
     "name": "stderr",
     "output_type": "stream",
     "text": [
      "To https://github.com/aubreymoore/good-vibrations.git\n",
      "   c99fa48..135e629  main -> main\n"
     ]
    },
    {
     "name": "stdout",
     "output_type": "stream",
     "text": [
      "   sleeping for 540s\n",
      "378 of 100000\n",
      "   recording for 60s; saving to /home/pi/good-vibrations/data/gpepp/2022-05-26T05:04:55.331.wav\n",
      "   uploading data to GitHub\n",
      "Already up to date.\n",
      "[main de36ec8] record_wav\n",
      " 2 files changed, 22 insertions(+)\n",
      " create mode 100644 data/gpepp/2022-05-26T05:04:55.331.wav\n"
     ]
    },
    {
     "name": "stderr",
     "output_type": "stream",
     "text": [
      "To https://github.com/aubreymoore/good-vibrations.git\n",
      "   135e629..de36ec8  main -> main\n"
     ]
    },
    {
     "name": "stdout",
     "output_type": "stream",
     "text": [
      "   sleeping for 540s\n",
      "379 of 100000\n",
      "   recording for 60s; saving to /home/pi/good-vibrations/data/gpepp/2022-05-26T05:15:02.109.wav\n",
      "   uploading data to GitHub\n",
      "Already up to date.\n",
      "[main e22c2f1] record_wav\n",
      " 2 files changed, 22 insertions(+)\n",
      " create mode 100644 data/gpepp/2022-05-26T05:15:02.109.wav\n"
     ]
    },
    {
     "name": "stderr",
     "output_type": "stream",
     "text": [
      "To https://github.com/aubreymoore/good-vibrations.git\n",
      "   de36ec8..e22c2f1  main -> main\n"
     ]
    },
    {
     "name": "stdout",
     "output_type": "stream",
     "text": [
      "   sleeping for 540s\n",
      "380 of 100000\n",
      "   recording for 60s; saving to /home/pi/good-vibrations/data/gpepp/2022-05-26T05:25:08.769.wav\n",
      "   uploading data to GitHub\n",
      "Already up to date.\n",
      "[main 0d0b2dc] record_wav\n",
      " 2 files changed, 22 insertions(+)\n",
      " create mode 100644 data/gpepp/2022-05-26T05:25:08.769.wav\n"
     ]
    },
    {
     "name": "stderr",
     "output_type": "stream",
     "text": [
      "To https://github.com/aubreymoore/good-vibrations.git\n",
      "   e22c2f1..0d0b2dc  main -> main\n"
     ]
    },
    {
     "name": "stdout",
     "output_type": "stream",
     "text": [
      "   sleeping for 540s\n",
      "381 of 100000\n",
      "   recording for 60s; saving to /home/pi/good-vibrations/data/gpepp/2022-05-26T05:35:16.065.wav\n",
      "   uploading data to GitHub\n",
      "Already up to date.\n",
      "[main 980d822] record_wav\n",
      " 2 files changed, 22 insertions(+)\n",
      " create mode 100644 data/gpepp/2022-05-26T05:35:16.065.wav\n"
     ]
    },
    {
     "name": "stderr",
     "output_type": "stream",
     "text": [
      "To https://github.com/aubreymoore/good-vibrations.git\n",
      "   0d0b2dc..980d822  main -> main\n"
     ]
    },
    {
     "name": "stdout",
     "output_type": "stream",
     "text": [
      "   sleeping for 540s\n",
      "382 of 100000\n",
      "   recording for 60s; saving to /home/pi/good-vibrations/data/gpepp/2022-05-26T05:45:35.249.wav\n",
      "   uploading data to GitHub\n",
      "Already up to date.\n",
      "[main 6ea4f82] record_wav\n",
      " 2 files changed, 25 insertions(+), 1 deletion(-)\n",
      " create mode 100644 data/gpepp/2022-05-26T05:45:35.249.wav\n"
     ]
    },
    {
     "name": "stderr",
     "output_type": "stream",
     "text": [
      "To https://github.com/aubreymoore/good-vibrations.git\n",
      "   980d822..6ea4f82  main -> main\n"
     ]
    },
    {
     "name": "stdout",
     "output_type": "stream",
     "text": [
      "   sleeping for 540s\n",
      "383 of 100000\n",
      "   recording for 60s; saving to /home/pi/good-vibrations/data/gpepp/2022-05-26T05:55:42.519.wav\n",
      "   uploading data to GitHub\n",
      "Already up to date.\n",
      "[main 325ed72] record_wav\n",
      " 2 files changed, 23 insertions(+), 1 deletion(-)\n",
      " create mode 100644 data/gpepp/2022-05-26T05:55:42.519.wav\n"
     ]
    },
    {
     "name": "stderr",
     "output_type": "stream",
     "text": [
      "To https://github.com/aubreymoore/good-vibrations.git\n",
      "   6ea4f82..325ed72  main -> main\n"
     ]
    },
    {
     "name": "stdout",
     "output_type": "stream",
     "text": [
      "   sleeping for 540s\n",
      "384 of 100000\n",
      "   recording for 60s; saving to /home/pi/good-vibrations/data/gpepp/2022-05-26T06:05:49.919.wav\n",
      "   uploading data to GitHub\n",
      "Already up to date.\n",
      "[main d340f71] record_wav\n",
      " 2 files changed, 23 insertions(+), 1 deletion(-)\n",
      " create mode 100644 data/gpepp/2022-05-26T06:05:49.919.wav\n"
     ]
    },
    {
     "name": "stderr",
     "output_type": "stream",
     "text": [
      "To https://github.com/aubreymoore/good-vibrations.git\n",
      "   325ed72..d340f71  main -> main\n"
     ]
    },
    {
     "name": "stdout",
     "output_type": "stream",
     "text": [
      "   sleeping for 540s\n",
      "385 of 100000\n",
      "   recording for 60s; saving to /home/pi/good-vibrations/data/gpepp/2022-05-26T06:15:56.739.wav\n",
      "   uploading data to GitHub\n",
      "Already up to date.\n",
      "[main 104ec55] record_wav\n",
      " 2 files changed, 23 insertions(+), 1 deletion(-)\n",
      " create mode 100644 data/gpepp/2022-05-26T06:15:56.739.wav\n"
     ]
    },
    {
     "name": "stderr",
     "output_type": "stream",
     "text": [
      "To https://github.com/aubreymoore/good-vibrations.git\n",
      "   d340f71..104ec55  main -> main\n"
     ]
    },
    {
     "name": "stdout",
     "output_type": "stream",
     "text": [
      "   sleeping for 540s\n",
      "386 of 100000\n",
      "   recording for 60s; saving to /home/pi/good-vibrations/data/gpepp/2022-05-26T06:26:03.532.wav\n",
      "   uploading data to GitHub\n",
      "Already up to date.\n",
      "[main 7d08523] record_wav\n",
      " 2 files changed, 23 insertions(+), 1 deletion(-)\n",
      " create mode 100644 data/gpepp/2022-05-26T06:26:03.532.wav\n"
     ]
    },
    {
     "name": "stderr",
     "output_type": "stream",
     "text": [
      "To https://github.com/aubreymoore/good-vibrations.git\n",
      "   104ec55..7d08523  main -> main\n"
     ]
    },
    {
     "name": "stdout",
     "output_type": "stream",
     "text": [
      "   sleeping for 540s\n",
      "387 of 100000\n",
      "   recording for 60s; saving to /home/pi/good-vibrations/data/gpepp/2022-05-26T06:36:10.069.wav\n",
      "   uploading data to GitHub\n",
      "Already up to date.\n",
      "[main 88933f7] record_wav\n",
      " 2 files changed, 23 insertions(+), 1 deletion(-)\n",
      " create mode 100644 data/gpepp/2022-05-26T06:36:10.069.wav\n"
     ]
    },
    {
     "name": "stderr",
     "output_type": "stream",
     "text": [
      "To https://github.com/aubreymoore/good-vibrations.git\n",
      "   7d08523..88933f7  main -> main\n"
     ]
    },
    {
     "name": "stdout",
     "output_type": "stream",
     "text": [
      "   sleeping for 540s\n",
      "388 of 100000\n",
      "   recording for 60s; saving to /home/pi/good-vibrations/data/gpepp/2022-05-26T06:46:17.296.wav\n",
      "   uploading data to GitHub\n",
      "Already up to date.\n",
      "[main 9e8201b] record_wav\n",
      " 2 files changed, 23 insertions(+), 1 deletion(-)\n",
      " create mode 100644 data/gpepp/2022-05-26T06:46:17.296.wav\n"
     ]
    },
    {
     "name": "stderr",
     "output_type": "stream",
     "text": [
      "To https://github.com/aubreymoore/good-vibrations.git\n",
      "   88933f7..9e8201b  main -> main\n"
     ]
    },
    {
     "name": "stdout",
     "output_type": "stream",
     "text": [
      "   sleeping for 540s\n",
      "389 of 100000\n",
      "   recording for 60s; saving to /home/pi/good-vibrations/data/gpepp/2022-05-26T06:56:23.679.wav\n",
      "   uploading data to GitHub\n",
      "Already up to date.\n",
      "[main ec09f92] record_wav\n",
      " 2 files changed, 23 insertions(+), 1 deletion(-)\n",
      " create mode 100644 data/gpepp/2022-05-26T06:56:23.679.wav\n"
     ]
    },
    {
     "name": "stderr",
     "output_type": "stream",
     "text": [
      "To https://github.com/aubreymoore/good-vibrations.git\n",
      "   9e8201b..ec09f92  main -> main\n"
     ]
    },
    {
     "name": "stdout",
     "output_type": "stream",
     "text": [
      "   sleeping for 540s\n",
      "390 of 100000\n",
      "   recording for 60s; saving to /home/pi/good-vibrations/data/gpepp/2022-05-26T07:06:30.592.wav\n",
      "   uploading data to GitHub\n",
      "Already up to date.\n",
      "[main 4445b75] record_wav\n",
      " 2 files changed, 23 insertions(+), 1 deletion(-)\n",
      " create mode 100644 data/gpepp/2022-05-26T07:06:30.592.wav\n"
     ]
    },
    {
     "name": "stderr",
     "output_type": "stream",
     "text": [
      "To https://github.com/aubreymoore/good-vibrations.git\n",
      "   ec09f92..4445b75  main -> main\n"
     ]
    },
    {
     "name": "stdout",
     "output_type": "stream",
     "text": [
      "   sleeping for 540s\n",
      "391 of 100000\n",
      "   recording for 60s; saving to /home/pi/good-vibrations/data/gpepp/2022-05-26T07:16:37.126.wav\n",
      "   uploading data to GitHub\n",
      "Already up to date.\n",
      "[main d9e629e] record_wav\n",
      " 2 files changed, 23 insertions(+), 1 deletion(-)\n",
      " create mode 100644 data/gpepp/2022-05-26T07:16:37.126.wav\n"
     ]
    },
    {
     "name": "stderr",
     "output_type": "stream",
     "text": [
      "To https://github.com/aubreymoore/good-vibrations.git\n",
      "   4445b75..d9e629e  main -> main\n"
     ]
    },
    {
     "name": "stdout",
     "output_type": "stream",
     "text": [
      "   sleeping for 540s\n",
      "392 of 100000\n",
      "   recording for 60s; saving to /home/pi/good-vibrations/data/gpepp/2022-05-26T07:26:46.577.wav\n",
      "   uploading data to GitHub\n",
      "Already up to date.\n",
      "[main 02f52a6] record_wav\n",
      " 2 files changed, 23 insertions(+), 1 deletion(-)\n",
      " create mode 100644 data/gpepp/2022-05-26T07:26:46.577.wav\n"
     ]
    },
    {
     "name": "stderr",
     "output_type": "stream",
     "text": [
      "To https://github.com/aubreymoore/good-vibrations.git\n",
      "   d9e629e..02f52a6  main -> main\n"
     ]
    },
    {
     "name": "stdout",
     "output_type": "stream",
     "text": [
      "   sleeping for 540s\n",
      "393 of 100000\n",
      "   recording for 60s; saving to /home/pi/good-vibrations/data/gpepp/2022-05-26T07:36:53.533.wav\n",
      "   uploading data to GitHub\n",
      "Already up to date.\n",
      "[main 1b2292a] record_wav\n",
      " 2 files changed, 23 insertions(+), 1 deletion(-)\n",
      " create mode 100644 data/gpepp/2022-05-26T07:36:53.533.wav\n"
     ]
    },
    {
     "name": "stderr",
     "output_type": "stream",
     "text": [
      "To https://github.com/aubreymoore/good-vibrations.git\n",
      "   02f52a6..1b2292a  main -> main\n"
     ]
    },
    {
     "name": "stdout",
     "output_type": "stream",
     "text": [
      "   sleeping for 540s\n",
      "394 of 100000\n",
      "   recording for 60s; saving to /home/pi/good-vibrations/data/gpepp/2022-05-26T07:47:00.583.wav\n",
      "   uploading data to GitHub\n",
      "Already up to date.\n",
      "[main 328e4c8] record_wav\n",
      " 2 files changed, 21 insertions(+), 1 deletion(-)\n",
      " create mode 100644 data/gpepp/2022-05-26T07:47:00.583.wav\n"
     ]
    },
    {
     "name": "stderr",
     "output_type": "stream",
     "text": [
      "To https://github.com/aubreymoore/good-vibrations.git\n",
      "   1b2292a..328e4c8  main -> main\n"
     ]
    },
    {
     "name": "stdout",
     "output_type": "stream",
     "text": [
      "   sleeping for 540s\n",
      "395 of 100000\n",
      "   recording for 60s; saving to /home/pi/good-vibrations/data/gpepp/2022-05-26T07:57:08.249.wav\n",
      "   uploading data to GitHub\n",
      "Already up to date.\n",
      "[main 2221054] record_wav\n",
      " 2 files changed, 22 insertions(+)\n",
      " create mode 100644 data/gpepp/2022-05-26T07:57:08.249.wav\n"
     ]
    },
    {
     "name": "stderr",
     "output_type": "stream",
     "text": [
      "To https://github.com/aubreymoore/good-vibrations.git\n",
      "   328e4c8..2221054  main -> main\n"
     ]
    },
    {
     "name": "stdout",
     "output_type": "stream",
     "text": [
      "   sleeping for 540s\n",
      "396 of 100000\n",
      "   recording for 60s; saving to /home/pi/good-vibrations/data/gpepp/2022-05-26T08:07:14.899.wav\n",
      "   uploading data to GitHub\n",
      "Already up to date.\n",
      "[main f806a93] record_wav\n",
      " 2 files changed, 22 insertions(+)\n",
      " create mode 100644 data/gpepp/2022-05-26T08:07:14.899.wav\n"
     ]
    },
    {
     "name": "stderr",
     "output_type": "stream",
     "text": [
      "To https://github.com/aubreymoore/good-vibrations.git\n",
      "   2221054..f806a93  main -> main\n"
     ]
    },
    {
     "name": "stdout",
     "output_type": "stream",
     "text": [
      "   sleeping for 540s\n",
      "397 of 100000\n",
      "   recording for 60s; saving to /home/pi/good-vibrations/data/gpepp/2022-05-26T08:17:21.620.wav\n",
      "   uploading data to GitHub\n",
      "Already up to date.\n",
      "[main 7b80f57] record_wav\n",
      " 2 files changed, 22 insertions(+)\n",
      " create mode 100644 data/gpepp/2022-05-26T08:17:21.620.wav\n"
     ]
    },
    {
     "name": "stderr",
     "output_type": "stream",
     "text": [
      "To https://github.com/aubreymoore/good-vibrations.git\n",
      "   f806a93..7b80f57  main -> main\n"
     ]
    },
    {
     "name": "stdout",
     "output_type": "stream",
     "text": [
      "   sleeping for 540s\n",
      "398 of 100000\n",
      "   recording for 60s; saving to /home/pi/good-vibrations/data/gpepp/2022-05-26T08:27:28.352.wav\n",
      "   uploading data to GitHub\n",
      "Already up to date.\n",
      "[main 480fb93] record_wav\n",
      " 2 files changed, 22 insertions(+)\n",
      " create mode 100644 data/gpepp/2022-05-26T08:27:28.352.wav\n"
     ]
    },
    {
     "name": "stderr",
     "output_type": "stream",
     "text": [
      "To https://github.com/aubreymoore/good-vibrations.git\n",
      "   7b80f57..480fb93  main -> main\n"
     ]
    },
    {
     "name": "stdout",
     "output_type": "stream",
     "text": [
      "   sleeping for 540s\n",
      "399 of 100000\n",
      "   recording for 60s; saving to /home/pi/good-vibrations/data/gpepp/2022-05-26T08:37:35.012.wav\n",
      "   uploading data to GitHub\n",
      "Already up to date.\n",
      "[main 84a03a9] record_wav\n",
      " 2 files changed, 22 insertions(+)\n",
      " create mode 100644 data/gpepp/2022-05-26T08:37:35.012.wav\n"
     ]
    },
    {
     "name": "stderr",
     "output_type": "stream",
     "text": [
      "To https://github.com/aubreymoore/good-vibrations.git\n",
      "   480fb93..84a03a9  main -> main\n"
     ]
    },
    {
     "name": "stdout",
     "output_type": "stream",
     "text": [
      "   sleeping for 540s\n",
      "400 of 100000\n",
      "   recording for 60s; saving to /home/pi/good-vibrations/data/gpepp/2022-05-26T08:47:41.863.wav\n",
      "   uploading data to GitHub\n",
      "Already up to date.\n",
      "[main bf190d3] record_wav\n",
      " 2 files changed, 22 insertions(+)\n",
      " create mode 100644 data/gpepp/2022-05-26T08:47:41.863.wav\n"
     ]
    },
    {
     "name": "stderr",
     "output_type": "stream",
     "text": [
      "To https://github.com/aubreymoore/good-vibrations.git\n",
      "   84a03a9..bf190d3  main -> main\n"
     ]
    },
    {
     "name": "stdout",
     "output_type": "stream",
     "text": [
      "   sleeping for 540s\n",
      "401 of 100000\n",
      "   recording for 60s; saving to /home/pi/good-vibrations/data/gpepp/2022-05-26T08:57:49.069.wav\n",
      "   uploading data to GitHub\n",
      "Already up to date.\n",
      "[main 8e1f798] record_wav\n",
      " 2 files changed, 22 insertions(+)\n",
      " create mode 100644 data/gpepp/2022-05-26T08:57:49.069.wav\n"
     ]
    },
    {
     "name": "stderr",
     "output_type": "stream",
     "text": [
      "To https://github.com/aubreymoore/good-vibrations.git\n",
      "   bf190d3..8e1f798  main -> main\n"
     ]
    },
    {
     "name": "stdout",
     "output_type": "stream",
     "text": [
      "   sleeping for 540s\n",
      "402 of 100000\n",
      "   recording for 60s; saving to /home/pi/good-vibrations/data/gpepp/2022-05-26T09:07:55.999.wav\n",
      "   uploading data to GitHub\n",
      "Already up to date.\n",
      "[main 6601e65] record_wav\n",
      " 2 files changed, 22 insertions(+)\n",
      " create mode 100644 data/gpepp/2022-05-26T09:07:55.999.wav\n"
     ]
    },
    {
     "name": "stderr",
     "output_type": "stream",
     "text": [
      "To https://github.com/aubreymoore/good-vibrations.git\n",
      "   8e1f798..6601e65  main -> main\n"
     ]
    },
    {
     "name": "stdout",
     "output_type": "stream",
     "text": [
      "   sleeping for 540s\n",
      "403 of 100000\n",
      "   recording for 60s; saving to /home/pi/good-vibrations/data/gpepp/2022-05-26T09:18:02.499.wav\n",
      "   uploading data to GitHub\n",
      "Already up to date.\n",
      "[main 88b2b91] record_wav\n",
      " 2 files changed, 22 insertions(+)\n",
      " create mode 100644 data/gpepp/2022-05-26T09:18:02.499.wav\n"
     ]
    },
    {
     "name": "stderr",
     "output_type": "stream",
     "text": [
      "To https://github.com/aubreymoore/good-vibrations.git\n",
      "   6601e65..88b2b91  main -> main\n"
     ]
    },
    {
     "name": "stdout",
     "output_type": "stream",
     "text": [
      "   sleeping for 540s\n",
      "404 of 100000\n",
      "   recording for 60s; saving to /home/pi/good-vibrations/data/gpepp/2022-05-26T09:28:09.749.wav\n",
      "   uploading data to GitHub\n",
      "Already up to date.\n",
      "[main 42ea280] record_wav\n",
      " 3 files changed, 9281 deletions(-)\n",
      " create mode 100644 code/.~record_wav.ipynb\n",
      " rewrite code/record_wav.ipynb (100%)\n",
      " create mode 100644 data/gpepp/2022-05-26T09:28:09.749.wav\n"
     ]
    },
    {
     "name": "stderr",
     "output_type": "stream",
     "text": [
      "To https://github.com/aubreymoore/good-vibrations.git\n",
      "   88b2b91..42ea280  main -> main\n"
     ]
    },
    {
     "name": "stdout",
     "output_type": "stream",
     "text": [
      "   sleeping for 540s\n",
      "405 of 100000\n",
      "   recording for 60s; saving to /home/pi/good-vibrations/data/gpepp/2022-05-26T09:38:17.391.wav\n",
      "   uploading data to GitHub\n",
      "Already up to date.\n",
      "[main 5a9ef64] record_wav\n",
      " 3 files changed, 9329 insertions(+), 9303 deletions(-)\n",
      " delete mode 100644 code/.~record_wav.ipynb\n",
      " create mode 100644 data/gpepp/2022-05-26T09:38:17.391.wav\n"
     ]
    },
    {
     "name": "stderr",
     "output_type": "stream",
     "text": [
      "To https://github.com/aubreymoore/good-vibrations.git\n",
      "   42ea280..5a9ef64  main -> main\n"
     ]
    },
    {
     "name": "stdout",
     "output_type": "stream",
     "text": [
      "   sleeping for 540s\n",
      "406 of 100000\n",
      "   recording for 60s; saving to /home/pi/good-vibrations/data/gpepp/2022-05-26T09:48:24.247.wav\n",
      "   uploading data to GitHub\n",
      "Already up to date.\n",
      "[main 5a2dd13] record_wav\n",
      " 2 files changed, 24 insertions(+), 1 deletion(-)\n",
      " create mode 100644 data/gpepp/2022-05-26T09:48:24.247.wav\n"
     ]
    },
    {
     "name": "stderr",
     "output_type": "stream",
     "text": [
      "To https://github.com/aubreymoore/good-vibrations.git\n",
      "   5a9ef64..5a2dd13  main -> main\n"
     ]
    },
    {
     "name": "stdout",
     "output_type": "stream",
     "text": [
      "   sleeping for 540s\n",
      "407 of 100000\n",
      "   recording for 60s; saving to /home/pi/good-vibrations/data/gpepp/2022-05-26T09:58:30.989.wav\n",
      "   uploading data to GitHub\n",
      "Already up to date.\n",
      "[main 5ae5c29] record_wav\n",
      " 2 files changed, 23 insertions(+), 1 deletion(-)\n",
      " create mode 100644 data/gpepp/2022-05-26T09:58:30.989.wav\n"
     ]
    },
    {
     "name": "stderr",
     "output_type": "stream",
     "text": [
      "To https://github.com/aubreymoore/good-vibrations.git\n",
      "   5a2dd13..5ae5c29  main -> main\n"
     ]
    },
    {
     "name": "stdout",
     "output_type": "stream",
     "text": [
      "   sleeping for 540s\n",
      "408 of 100000\n",
      "   recording for 60s; saving to /home/pi/good-vibrations/data/gpepp/2022-05-26T10:08:37.797.wav\n",
      "   uploading data to GitHub\n",
      "Already up to date.\n",
      "[main 21b86cc] record_wav\n",
      " 2 files changed, 23 insertions(+), 1 deletion(-)\n",
      " create mode 100644 data/gpepp/2022-05-26T10:08:37.797.wav\n"
     ]
    },
    {
     "name": "stderr",
     "output_type": "stream",
     "text": [
      "To https://github.com/aubreymoore/good-vibrations.git\n",
      "   5ae5c29..21b86cc  main -> main\n"
     ]
    },
    {
     "name": "stdout",
     "output_type": "stream",
     "text": [
      "   sleeping for 540s\n",
      "409 of 100000\n",
      "   recording for 60s; saving to /home/pi/good-vibrations/data/gpepp/2022-05-26T10:18:47.404.wav\n",
      "   uploading data to GitHub\n",
      "Already up to date.\n",
      "[main 575252f] record_wav\n",
      " 2 files changed, 23 insertions(+), 1 deletion(-)\n",
      " create mode 100644 data/gpepp/2022-05-26T10:18:47.404.wav\n"
     ]
    },
    {
     "name": "stderr",
     "output_type": "stream",
     "text": [
      "To https://github.com/aubreymoore/good-vibrations.git\n",
      "   21b86cc..575252f  main -> main\n"
     ]
    },
    {
     "name": "stdout",
     "output_type": "stream",
     "text": [
      "   sleeping for 540s\n",
      "410 of 100000\n",
      "   recording for 60s; saving to /home/pi/good-vibrations/data/gpepp/2022-05-26T10:28:54.089.wav\n",
      "   uploading data to GitHub\n",
      "Already up to date.\n",
      "[main 880c4ae] record_wav\n",
      " 2 files changed, 23 insertions(+), 1 deletion(-)\n",
      " create mode 100644 data/gpepp/2022-05-26T10:28:54.089.wav\n"
     ]
    },
    {
     "name": "stderr",
     "output_type": "stream",
     "text": [
      "To https://github.com/aubreymoore/good-vibrations.git\n",
      "   575252f..880c4ae  main -> main\n"
     ]
    },
    {
     "name": "stdout",
     "output_type": "stream",
     "text": [
      "   sleeping for 540s\n",
      "411 of 100000\n",
      "   recording for 60s; saving to /home/pi/good-vibrations/data/gpepp/2022-05-26T10:39:00.731.wav\n",
      "   uploading data to GitHub\n",
      "Already up to date.\n",
      "[main a53a864] record_wav\n",
      " 2 files changed, 23 insertions(+), 1 deletion(-)\n",
      " create mode 100644 data/gpepp/2022-05-26T10:39:00.731.wav\n"
     ]
    },
    {
     "name": "stderr",
     "output_type": "stream",
     "text": [
      "To https://github.com/aubreymoore/good-vibrations.git\n",
      "   880c4ae..a53a864  main -> main\n"
     ]
    },
    {
     "name": "stdout",
     "output_type": "stream",
     "text": [
      "   sleeping for 540s\n",
      "412 of 100000\n",
      "   recording for 60s; saving to /home/pi/good-vibrations/data/gpepp/2022-05-26T10:49:07.453.wav\n",
      "   uploading data to GitHub\n",
      "Already up to date.\n",
      "[main 38fc43e] record_wav\n",
      " 2 files changed, 23 insertions(+), 1 deletion(-)\n",
      " create mode 100644 data/gpepp/2022-05-26T10:49:07.453.wav\n"
     ]
    },
    {
     "name": "stderr",
     "output_type": "stream",
     "text": [
      "To https://github.com/aubreymoore/good-vibrations.git\n",
      "   a53a864..38fc43e  main -> main\n"
     ]
    },
    {
     "name": "stdout",
     "output_type": "stream",
     "text": [
      "   sleeping for 540s\n",
      "413 of 100000\n",
      "   recording for 60s; saving to /home/pi/good-vibrations/data/gpepp/2022-05-26T10:59:14.351.wav\n",
      "   uploading data to GitHub\n",
      "Already up to date.\n",
      "[main 7eb848b] record_wav\n",
      " 2 files changed, 23 insertions(+), 1 deletion(-)\n",
      " create mode 100644 data/gpepp/2022-05-26T10:59:14.351.wav\n"
     ]
    },
    {
     "name": "stderr",
     "output_type": "stream",
     "text": [
      "To https://github.com/aubreymoore/good-vibrations.git\n",
      "   38fc43e..7eb848b  main -> main\n"
     ]
    },
    {
     "name": "stdout",
     "output_type": "stream",
     "text": [
      "   sleeping for 540s\n",
      "414 of 100000\n",
      "   recording for 60s; saving to /home/pi/good-vibrations/data/gpepp/2022-05-26T11:09:20.999.wav\n",
      "   uploading data to GitHub\n",
      "Already up to date.\n",
      "[main 51fa581] record_wav\n",
      " 2 files changed, 23 insertions(+), 1 deletion(-)\n",
      " create mode 100644 data/gpepp/2022-05-26T11:09:20.999.wav\n"
     ]
    },
    {
     "name": "stderr",
     "output_type": "stream",
     "text": [
      "To https://github.com/aubreymoore/good-vibrations.git\n",
      "   7eb848b..51fa581  main -> main\n"
     ]
    },
    {
     "name": "stdout",
     "output_type": "stream",
     "text": [
      "   sleeping for 540s\n",
      "415 of 100000\n",
      "   recording for 60s; saving to /home/pi/good-vibrations/data/gpepp/2022-05-26T11:19:27.773.wav\n",
      "   uploading data to GitHub\n",
      "Already up to date.\n",
      "[main 3703a2f] record_wav\n",
      " 2 files changed, 23 insertions(+), 1 deletion(-)\n",
      " create mode 100644 data/gpepp/2022-05-26T11:19:27.773.wav\n"
     ]
    },
    {
     "name": "stderr",
     "output_type": "stream",
     "text": [
      "To https://github.com/aubreymoore/good-vibrations.git\n",
      "   51fa581..3703a2f  main -> main\n"
     ]
    },
    {
     "name": "stdout",
     "output_type": "stream",
     "text": [
      "   sleeping for 540s\n",
      "416 of 100000\n",
      "   recording for 60s; saving to /home/pi/good-vibrations/data/gpepp/2022-05-26T11:29:34.339.wav\n",
      "   uploading data to GitHub\n",
      "Already up to date.\n",
      "[main 52801a4] record_wav\n",
      " 2 files changed, 21 insertions(+), 1 deletion(-)\n",
      " create mode 100644 data/gpepp/2022-05-26T11:29:34.339.wav\n"
     ]
    },
    {
     "name": "stderr",
     "output_type": "stream",
     "text": [
      "To https://github.com/aubreymoore/good-vibrations.git\n",
      "   3703a2f..52801a4  main -> main\n"
     ]
    },
    {
     "name": "stdout",
     "output_type": "stream",
     "text": [
      "   sleeping for 540s\n",
      "417 of 100000\n",
      "   recording for 60s; saving to /home/pi/good-vibrations/data/gpepp/2022-05-26T11:39:41.499.wav\n",
      "   uploading data to GitHub\n",
      "Already up to date.\n",
      "[main e741ce7] record_wav\n",
      " 2 files changed, 22 insertions(+)\n",
      " create mode 100644 data/gpepp/2022-05-26T11:39:41.499.wav\n"
     ]
    },
    {
     "name": "stderr",
     "output_type": "stream",
     "text": [
      "To https://github.com/aubreymoore/good-vibrations.git\n",
      "   52801a4..e741ce7  main -> main\n"
     ]
    },
    {
     "name": "stdout",
     "output_type": "stream",
     "text": [
      "   sleeping for 540s\n",
      "418 of 100000\n",
      "   recording for 60s; saving to /home/pi/good-vibrations/data/gpepp/2022-05-26T11:49:48.749.wav\n",
      "   uploading data to GitHub\n",
      "Already up to date.\n",
      "[main 358033e] record_wav\n",
      " 2 files changed, 22 insertions(+)\n",
      " create mode 100644 data/gpepp/2022-05-26T11:49:48.749.wav\n"
     ]
    },
    {
     "name": "stderr",
     "output_type": "stream",
     "text": [
      "To https://github.com/aubreymoore/good-vibrations.git\n",
      "   e741ce7..358033e  main -> main\n"
     ]
    },
    {
     "name": "stdout",
     "output_type": "stream",
     "text": [
      "   sleeping for 540s\n",
      "419 of 100000\n",
      "   recording for 60s; saving to /home/pi/good-vibrations/data/gpepp/2022-05-26T11:59:55.679.wav\n",
      "   uploading data to GitHub\n",
      "Already up to date.\n",
      "[main f336b09] record_wav\n",
      " 2 files changed, 22 insertions(+)\n",
      " create mode 100644 data/gpepp/2022-05-26T11:59:55.679.wav\n"
     ]
    },
    {
     "name": "stderr",
     "output_type": "stream",
     "text": [
      "To https://github.com/aubreymoore/good-vibrations.git\n",
      "   358033e..f336b09  main -> main\n"
     ]
    },
    {
     "name": "stdout",
     "output_type": "stream",
     "text": [
      "   sleeping for 540s\n",
      "420 of 100000\n",
      "   recording for 60s; saving to /home/pi/good-vibrations/data/gpepp/2022-05-26T12:10:02.709.wav\n",
      "   uploading data to GitHub\n",
      "Already up to date.\n",
      "[main 49915b3] record_wav\n",
      " 2 files changed, 22 insertions(+)\n",
      " create mode 100644 data/gpepp/2022-05-26T12:10:02.709.wav\n"
     ]
    },
    {
     "name": "stderr",
     "output_type": "stream",
     "text": [
      "To https://github.com/aubreymoore/good-vibrations.git\n",
      "   f336b09..49915b3  main -> main\n"
     ]
    },
    {
     "name": "stdout",
     "output_type": "stream",
     "text": [
      "   sleeping for 540s\n",
      "421 of 100000\n",
      "   recording for 60s; saving to /home/pi/good-vibrations/data/gpepp/2022-05-26T12:20:09.779.wav\n",
      "   uploading data to GitHub\n",
      "Already up to date.\n",
      "[main c89fd39] record_wav\n",
      " 2 files changed, 22 insertions(+)\n",
      " create mode 100644 data/gpepp/2022-05-26T12:20:09.779.wav\n"
     ]
    },
    {
     "name": "stderr",
     "output_type": "stream",
     "text": [
      "To https://github.com/aubreymoore/good-vibrations.git\n",
      "   49915b3..c89fd39  main -> main\n"
     ]
    },
    {
     "name": "stdout",
     "output_type": "stream",
     "text": [
      "   sleeping for 540s\n",
      "422 of 100000\n",
      "   recording for 60s; saving to /home/pi/good-vibrations/data/gpepp/2022-05-26T12:30:17.249.wav\n",
      "   uploading data to GitHub\n",
      "Already up to date.\n",
      "[main 51f9f00] record_wav\n",
      " 2 files changed, 22 insertions(+)\n",
      " create mode 100644 data/gpepp/2022-05-26T12:30:17.249.wav\n"
     ]
    },
    {
     "name": "stderr",
     "output_type": "stream",
     "text": [
      "To https://github.com/aubreymoore/good-vibrations.git\n",
      "   c89fd39..51f9f00  main -> main\n"
     ]
    },
    {
     "name": "stdout",
     "output_type": "stream",
     "text": [
      "   sleeping for 540s\n",
      "423 of 100000\n",
      "   recording for 60s; saving to /home/pi/good-vibrations/data/gpepp/2022-05-26T12:40:23.986.wav\n",
      "   uploading data to GitHub\n",
      "Already up to date.\n",
      "[main 862bdde] record_wav\n",
      " 2 files changed, 22 insertions(+)\n",
      " create mode 100644 data/gpepp/2022-05-26T12:40:23.986.wav\n"
     ]
    },
    {
     "name": "stderr",
     "output_type": "stream",
     "text": [
      "To https://github.com/aubreymoore/good-vibrations.git\n",
      "   51f9f00..862bdde  main -> main\n"
     ]
    },
    {
     "name": "stdout",
     "output_type": "stream",
     "text": [
      "   sleeping for 540s\n",
      "424 of 100000\n",
      "   recording for 60s; saving to /home/pi/good-vibrations/data/gpepp/2022-05-26T12:50:30.671.wav\n",
      "   uploading data to GitHub\n",
      "Already up to date.\n",
      "[main 28fc5cb] record_wav\n",
      " 2 files changed, 22 insertions(+)\n",
      " create mode 100644 data/gpepp/2022-05-26T12:50:30.671.wav\n"
     ]
    },
    {
     "name": "stderr",
     "output_type": "stream",
     "text": [
      "To https://github.com/aubreymoore/good-vibrations.git\n",
      "   862bdde..28fc5cb  main -> main\n"
     ]
    },
    {
     "name": "stdout",
     "output_type": "stream",
     "text": [
      "   sleeping for 540s\n",
      "425 of 100000\n",
      "   recording for 60s; saving to /home/pi/good-vibrations/data/gpepp/2022-05-26T13:00:37.392.wav\n",
      "   uploading data to GitHub\n",
      "Already up to date.\n",
      "[main cdae6ea] record_wav\n",
      " 2 files changed, 22 insertions(+)\n",
      " create mode 100644 data/gpepp/2022-05-26T13:00:37.392.wav\n"
     ]
    },
    {
     "name": "stderr",
     "output_type": "stream",
     "text": [
      "To https://github.com/aubreymoore/good-vibrations.git\n",
      "   28fc5cb..cdae6ea  main -> main\n"
     ]
    },
    {
     "name": "stdout",
     "output_type": "stream",
     "text": [
      "   sleeping for 540s\n",
      "426 of 100000\n",
      "   recording for 60s; saving to /home/pi/good-vibrations/data/gpepp/2022-05-26T13:10:46.674.wav\n",
      "   uploading data to GitHub\n",
      "Already up to date.\n",
      "[main 6f8b55b] record_wav\n",
      " 3 files changed, 22 insertions(+), 9768 deletions(-)\n",
      " copy code/{record_wav.ipynb => .~record_wav.ipynb} (99%)\n",
      " rewrite code/record_wav.ipynb (100%)\n",
      " create mode 100644 data/gpepp/2022-05-26T13:10:46.674.wav\n"
     ]
    },
    {
     "name": "stderr",
     "output_type": "stream",
     "text": [
      "To https://github.com/aubreymoore/good-vibrations.git\n",
      "   cdae6ea..6f8b55b  main -> main\n"
     ]
    },
    {
     "name": "stdout",
     "output_type": "stream",
     "text": [
      "   sleeping for 540s\n",
      "427 of 100000\n",
      "   recording for 60s; saving to /home/pi/good-vibrations/data/gpepp/2022-05-26T13:20:53.800.wav\n",
      "   uploading data to GitHub\n",
      "Already up to date.\n",
      "[main b83def1] record_wav\n",
      " 3 files changed, 9816 insertions(+), 9790 deletions(-)\n",
      " delete mode 100644 code/.~record_wav.ipynb\n",
      " create mode 100644 data/gpepp/2022-05-26T13:20:53.800.wav\n"
     ]
    },
    {
     "name": "stderr",
     "output_type": "stream",
     "text": [
      "To https://github.com/aubreymoore/good-vibrations.git\n",
      "   6f8b55b..b83def1  main -> main\n"
     ]
    },
    {
     "name": "stdout",
     "output_type": "stream",
     "text": [
      "   sleeping for 540s\n",
      "428 of 100000\n",
      "   recording for 60s; saving to /home/pi/good-vibrations/data/gpepp/2022-05-26T13:31:00.829.wav\n",
      "   uploading data to GitHub\n",
      "Already up to date.\n",
      "[main 24e6515] record_wav\n",
      " 2 files changed, 24 insertions(+), 1 deletion(-)\n",
      " create mode 100644 data/gpepp/2022-05-26T13:31:00.829.wav\n"
     ]
    },
    {
     "name": "stderr",
     "output_type": "stream",
     "text": [
      "To https://github.com/aubreymoore/good-vibrations.git\n",
      "   b83def1..24e6515  main -> main\n"
     ]
    },
    {
     "name": "stdout",
     "output_type": "stream",
     "text": [
      "   sleeping for 540s\n",
      "429 of 100000\n",
      "   recording for 60s; saving to /home/pi/good-vibrations/data/gpepp/2022-05-26T13:41:07.509.wav\n",
      "   uploading data to GitHub\n",
      "Already up to date.\n",
      "[main f2aa4de] record_wav\n",
      " 2 files changed, 23 insertions(+), 1 deletion(-)\n",
      " create mode 100644 data/gpepp/2022-05-26T13:41:07.509.wav\n"
     ]
    },
    {
     "name": "stderr",
     "output_type": "stream",
     "text": [
      "To https://github.com/aubreymoore/good-vibrations.git\n",
      "   24e6515..f2aa4de  main -> main\n"
     ]
    },
    {
     "name": "stdout",
     "output_type": "stream",
     "text": [
      "   sleeping for 540s\n",
      "430 of 100000\n",
      "   recording for 60s; saving to /home/pi/good-vibrations/data/gpepp/2022-05-26T13:51:14.719.wav\n",
      "   uploading data to GitHub\n",
      "Already up to date.\n",
      "[main 1af8a95] record_wav\n",
      " 2 files changed, 23 insertions(+), 1 deletion(-)\n",
      " create mode 100644 data/gpepp/2022-05-26T13:51:14.719.wav\n"
     ]
    },
    {
     "name": "stderr",
     "output_type": "stream",
     "text": [
      "To https://github.com/aubreymoore/good-vibrations.git\n",
      "   f2aa4de..1af8a95  main -> main\n"
     ]
    },
    {
     "name": "stdout",
     "output_type": "stream",
     "text": [
      "   sleeping for 540s\n",
      "431 of 100000\n",
      "   recording for 60s; saving to /home/pi/good-vibrations/data/gpepp/2022-05-26T14:01:21.366.wav\n",
      "   uploading data to GitHub\n"
     ]
    },
    {
     "name": "stderr",
     "output_type": "stream",
     "text": [
      "From https://github.com/aubreymoore/good-vibrations\n",
      "   1af8a95..a885363  main       -> origin/main\n"
     ]
    },
    {
     "name": "stdout",
     "output_type": "stream",
     "text": [
      "Updating 1af8a95..a885363\n",
      "Fast-forward\n",
      " data/gpepp/actions.csv | 7 +++----\n",
      " 1 file changed, 3 insertions(+), 4 deletions(-)\n",
      "[main 5ffd464] record_wav\n",
      " 2 files changed, 23 insertions(+), 1 deletion(-)\n",
      " create mode 100644 data/gpepp/2022-05-26T14:01:21.366.wav\n"
     ]
    },
    {
     "name": "stderr",
     "output_type": "stream",
     "text": [
      "To https://github.com/aubreymoore/good-vibrations.git\n",
      "   a885363..5ffd464  main -> main\n"
     ]
    },
    {
     "name": "stdout",
     "output_type": "stream",
     "text": [
      "   sleeping for 540s\n",
      "432 of 100000\n",
      "   recording for 60s; saving to /home/pi/good-vibrations/data/gpepp/2022-05-26T14:11:28.633.wav\n",
      "   uploading data to GitHub\n",
      "Already up to date.\n",
      "[main 5a058d0] record_wav\n",
      " 2 files changed, 40 insertions(+), 1 deletion(-)\n",
      " create mode 100644 data/gpepp/2022-05-26T14:11:28.633.wav\n"
     ]
    },
    {
     "name": "stderr",
     "output_type": "stream",
     "text": [
      "To https://github.com/aubreymoore/good-vibrations.git\n",
      "   5ffd464..5a058d0  main -> main\n"
     ]
    },
    {
     "name": "stdout",
     "output_type": "stream",
     "text": [
      "   sleeping for 540s\n",
      "433 of 100000\n",
      "   recording for 60s; saving to /home/pi/good-vibrations/data/gpepp/2022-05-26T14:21:36.452.wav\n",
      "   uploading data to GitHub\n",
      "Already up to date.\n",
      "[main a60c527] record_wav\n",
      " 2 files changed, 23 insertions(+), 1 deletion(-)\n",
      " create mode 100644 data/gpepp/2022-05-26T14:21:36.452.wav\n"
     ]
    },
    {
     "name": "stderr",
     "output_type": "stream",
     "text": [
      "To https://github.com/aubreymoore/good-vibrations.git\n",
      "   5a058d0..a60c527  main -> main\n"
     ]
    },
    {
     "name": "stdout",
     "output_type": "stream",
     "text": [
      "   sleeping for 540s\n",
      "434 of 100000\n",
      "   recording for 60s; saving to /home/pi/good-vibrations/data/gpepp/2022-05-26T14:31:44.112.wav\n",
      "   uploading data to GitHub\n",
      "Already up to date.\n",
      "[main 1f1cd2c] record_wav\n",
      " 2 files changed, 23 insertions(+), 1 deletion(-)\n",
      " create mode 100644 data/gpepp/2022-05-26T14:31:44.112.wav\n"
     ]
    },
    {
     "name": "stderr",
     "output_type": "stream",
     "text": [
      "To https://github.com/aubreymoore/good-vibrations.git\n",
      "   a60c527..1f1cd2c  main -> main\n"
     ]
    },
    {
     "name": "stdout",
     "output_type": "stream",
     "text": [
      "   sleeping for 540s\n",
      "435 of 100000\n",
      "   recording for 60s; saving to /home/pi/good-vibrations/data/gpepp/2022-05-26T14:41:56.249.wav\n",
      "   uploading data to GitHub\n",
      "Already up to date.\n",
      "[main 2cfcd94] record_wav\n",
      " 2 files changed, 23 insertions(+), 1 deletion(-)\n",
      " create mode 100644 data/gpepp/2022-05-26T14:41:56.249.wav\n"
     ]
    },
    {
     "name": "stderr",
     "output_type": "stream",
     "text": [
      "To https://github.com/aubreymoore/good-vibrations.git\n",
      "   1f1cd2c..2cfcd94  main -> main\n"
     ]
    },
    {
     "name": "stdout",
     "output_type": "stream",
     "text": [
      "   sleeping for 540s\n",
      "436 of 100000\n",
      "   recording for 60s; saving to /home/pi/good-vibrations/data/gpepp/2022-05-26T14:52:03.049.wav\n",
      "   uploading data to GitHub\n",
      "Already up to date.\n",
      "[main 4bd6ffa] record_wav\n",
      " 2 files changed, 23 insertions(+), 1 deletion(-)\n",
      " create mode 100644 data/gpepp/2022-05-26T14:52:03.049.wav\n"
     ]
    },
    {
     "name": "stderr",
     "output_type": "stream",
     "text": [
      "To https://github.com/aubreymoore/good-vibrations.git\n",
      "   2cfcd94..4bd6ffa  main -> main\n"
     ]
    },
    {
     "name": "stdout",
     "output_type": "stream",
     "text": [
      "   sleeping for 540s\n",
      "437 of 100000\n",
      "   recording for 60s; saving to /home/pi/good-vibrations/data/gpepp/2022-05-26T15:02:09.683.wav\n",
      "   uploading data to GitHub\n",
      "Already up to date.\n",
      "[main d809f09] record_wav\n",
      " 2 files changed, 23 insertions(+), 1 deletion(-)\n",
      " create mode 100644 data/gpepp/2022-05-26T15:02:09.683.wav\n"
     ]
    },
    {
     "name": "stderr",
     "output_type": "stream",
     "text": [
      "To https://github.com/aubreymoore/good-vibrations.git\n",
      "   4bd6ffa..d809f09  main -> main\n"
     ]
    },
    {
     "name": "stdout",
     "output_type": "stream",
     "text": [
      "   sleeping for 540s\n",
      "438 of 100000\n",
      "   recording for 60s; saving to /home/pi/good-vibrations/data/gpepp/2022-05-26T15:12:16.409.wav\n",
      "   uploading data to GitHub\n",
      "Already up to date.\n",
      "[main 2c37007] record_wav\n",
      " 2 files changed, 21 insertions(+), 1 deletion(-)\n",
      " create mode 100644 data/gpepp/2022-05-26T15:12:16.409.wav\n"
     ]
    },
    {
     "name": "stderr",
     "output_type": "stream",
     "text": [
      "To https://github.com/aubreymoore/good-vibrations.git\n",
      "   d809f09..2c37007  main -> main\n"
     ]
    },
    {
     "name": "stdout",
     "output_type": "stream",
     "text": [
      "   sleeping for 540s\n",
      "439 of 100000\n",
      "   recording for 60s; saving to /home/pi/good-vibrations/data/gpepp/2022-05-26T15:22:23.576.wav\n",
      "   uploading data to GitHub\n",
      "Already up to date.\n",
      "[main 7140d8b] record_wav\n",
      " 2 files changed, 22 insertions(+)\n",
      " create mode 100644 data/gpepp/2022-05-26T15:22:23.576.wav\n"
     ]
    },
    {
     "name": "stderr",
     "output_type": "stream",
     "text": [
      "To https://github.com/aubreymoore/good-vibrations.git\n",
      "   2c37007..7140d8b  main -> main\n"
     ]
    },
    {
     "name": "stdout",
     "output_type": "stream",
     "text": [
      "   sleeping for 540s\n",
      "440 of 100000\n",
      "   recording for 60s; saving to /home/pi/good-vibrations/data/gpepp/2022-05-26T15:32:30.479.wav\n",
      "   uploading data to GitHub\n",
      "Already up to date.\n",
      "[main cfcb361] record_wav\n",
      " 2 files changed, 22 insertions(+)\n",
      " create mode 100644 data/gpepp/2022-05-26T15:32:30.479.wav\n"
     ]
    },
    {
     "name": "stderr",
     "output_type": "stream",
     "text": [
      "To https://github.com/aubreymoore/good-vibrations.git\n",
      "   7140d8b..cfcb361  main -> main\n"
     ]
    },
    {
     "name": "stdout",
     "output_type": "stream",
     "text": [
      "   sleeping for 540s\n",
      "441 of 100000\n",
      "   recording for 60s; saving to /home/pi/good-vibrations/data/gpepp/2022-05-26T15:42:37.499.wav\n",
      "   uploading data to GitHub\n",
      "Already up to date.\n",
      "[main e28f605] record_wav\n",
      " 2 files changed, 22 insertions(+)\n",
      " create mode 100644 data/gpepp/2022-05-26T15:42:37.499.wav\n"
     ]
    },
    {
     "name": "stderr",
     "output_type": "stream",
     "text": [
      "To https://github.com/aubreymoore/good-vibrations.git\n",
      "   cfcb361..e28f605  main -> main\n"
     ]
    },
    {
     "name": "stdout",
     "output_type": "stream",
     "text": [
      "   sleeping for 540s\n",
      "442 of 100000\n",
      "   recording for 60s; saving to /home/pi/good-vibrations/data/gpepp/2022-05-26T15:52:48.229.wav\n",
      "   uploading data to GitHub\n",
      "Already up to date.\n",
      "[main 6dcd4d3] record_wav\n",
      " 2 files changed, 22 insertions(+)\n",
      " create mode 100644 data/gpepp/2022-05-26T15:52:48.229.wav\n"
     ]
    },
    {
     "name": "stderr",
     "output_type": "stream",
     "text": [
      "To https://github.com/aubreymoore/good-vibrations.git\n",
      "   e28f605..6dcd4d3  main -> main\n"
     ]
    },
    {
     "name": "stdout",
     "output_type": "stream",
     "text": [
      "   sleeping for 540s\n",
      "443 of 100000\n",
      "   recording for 60s; saving to /home/pi/good-vibrations/data/gpepp/2022-05-26T16:02:55.046.wav\n",
      "   uploading data to GitHub\n",
      "Already up to date.\n",
      "[main 7aee8c4] record_wav\n",
      " 2 files changed, 22 insertions(+)\n",
      " create mode 100644 data/gpepp/2022-05-26T16:02:55.046.wav\n"
     ]
    },
    {
     "name": "stderr",
     "output_type": "stream",
     "text": [
      "To https://github.com/aubreymoore/good-vibrations.git\n",
      "   6dcd4d3..7aee8c4  main -> main\n"
     ]
    },
    {
     "name": "stdout",
     "output_type": "stream",
     "text": [
      "   sleeping for 540s\n",
      "444 of 100000\n",
      "   recording for 60s; saving to /home/pi/good-vibrations/data/gpepp/2022-05-26T16:13:01.887.wav\n",
      "   uploading data to GitHub\n",
      "Already up to date.\n",
      "[main 29a4dba] record_wav\n",
      " 2 files changed, 22 insertions(+)\n",
      " create mode 100644 data/gpepp/2022-05-26T16:13:01.887.wav\n"
     ]
    },
    {
     "name": "stderr",
     "output_type": "stream",
     "text": [
      "To https://github.com/aubreymoore/good-vibrations.git\n",
      "   7aee8c4..29a4dba  main -> main\n"
     ]
    },
    {
     "name": "stdout",
     "output_type": "stream",
     "text": [
      "   sleeping for 540s\n",
      "445 of 100000\n",
      "   recording for 60s; saving to /home/pi/good-vibrations/data/gpepp/2022-05-26T16:23:08.729.wav\n",
      "   uploading data to GitHub\n",
      "Already up to date.\n",
      "[main e9a5926] record_wav\n",
      " 2 files changed, 22 insertions(+)\n",
      " create mode 100644 data/gpepp/2022-05-26T16:23:08.729.wav\n"
     ]
    },
    {
     "name": "stderr",
     "output_type": "stream",
     "text": [
      "To https://github.com/aubreymoore/good-vibrations.git\n",
      "   29a4dba..e9a5926  main -> main\n"
     ]
    },
    {
     "name": "stdout",
     "output_type": "stream",
     "text": [
      "   sleeping for 540s\n",
      "446 of 100000\n",
      "   recording for 60s; saving to /home/pi/good-vibrations/data/gpepp/2022-05-26T16:33:15.469.wav\n",
      "   uploading data to GitHub\n",
      "Already up to date.\n",
      "[main 1aeab15] record_wav\n",
      " 2 files changed, 22 insertions(+)\n",
      " create mode 100644 data/gpepp/2022-05-26T16:33:15.469.wav\n"
     ]
    },
    {
     "name": "stderr",
     "output_type": "stream",
     "text": [
      "To https://github.com/aubreymoore/good-vibrations.git\n",
      "   e9a5926..1aeab15  main -> main\n"
     ]
    },
    {
     "name": "stdout",
     "output_type": "stream",
     "text": [
      "   sleeping for 540s\n",
      "447 of 100000\n",
      "   recording for 60s; saving to /home/pi/good-vibrations/data/gpepp/2022-05-26T16:43:22.239.wav\n",
      "   uploading data to GitHub\n",
      "Already up to date.\n",
      "[main 47138d2] record_wav\n",
      " 2 files changed, 22 insertions(+)\n",
      " create mode 100644 data/gpepp/2022-05-26T16:43:22.239.wav\n"
     ]
    },
    {
     "name": "stderr",
     "output_type": "stream",
     "text": [
      "To https://github.com/aubreymoore/good-vibrations.git\n",
      "   1aeab15..47138d2  main -> main\n"
     ]
    },
    {
     "name": "stdout",
     "output_type": "stream",
     "text": [
      "   sleeping for 540s\n",
      "448 of 100000\n",
      "   recording for 60s; saving to /home/pi/good-vibrations/data/gpepp/2022-05-26T16:53:29.059.wav\n",
      "   uploading data to GitHub\n",
      "Already up to date.\n",
      "[main c64deae] record_wav\n",
      " 2 files changed, 25 insertions(+), 1 deletion(-)\n",
      " create mode 100644 data/gpepp/2022-05-26T16:53:29.059.wav\n"
     ]
    },
    {
     "name": "stderr",
     "output_type": "stream",
     "text": [
      "To https://github.com/aubreymoore/good-vibrations.git\n",
      "   47138d2..c64deae  main -> main\n"
     ]
    },
    {
     "name": "stdout",
     "output_type": "stream",
     "text": [
      "   sleeping for 540s\n",
      "449 of 100000\n",
      "   recording for 60s; saving to /home/pi/good-vibrations/data/gpepp/2022-05-26T17:03:36.019.wav\n",
      "   uploading data to GitHub\n",
      "Already up to date.\n",
      "[main 31a673c] record_wav\n",
      " 2 files changed, 23 insertions(+), 1 deletion(-)\n",
      " create mode 100644 data/gpepp/2022-05-26T17:03:36.019.wav\n"
     ]
    },
    {
     "name": "stderr",
     "output_type": "stream",
     "text": [
      "To https://github.com/aubreymoore/good-vibrations.git\n",
      "   c64deae..31a673c  main -> main\n"
     ]
    },
    {
     "name": "stdout",
     "output_type": "stream",
     "text": [
      "   sleeping for 540s\n",
      "450 of 100000\n",
      "   recording for 60s; saving to /home/pi/good-vibrations/data/gpepp/2022-05-26T17:13:42.850.wav\n",
      "   uploading data to GitHub\n",
      "Already up to date.\n",
      "[main 3cf44ef] record_wav\n",
      " 2 files changed, 23 insertions(+), 1 deletion(-)\n",
      " create mode 100644 data/gpepp/2022-05-26T17:13:42.850.wav\n"
     ]
    },
    {
     "name": "stderr",
     "output_type": "stream",
     "text": [
      "To https://github.com/aubreymoore/good-vibrations.git\n",
      "   31a673c..3cf44ef  main -> main\n"
     ]
    },
    {
     "name": "stdout",
     "output_type": "stream",
     "text": [
      "   sleeping for 540s\n",
      "451 of 100000\n",
      "   recording for 60s; saving to /home/pi/good-vibrations/data/gpepp/2022-05-26T17:23:50.409.wav\n",
      "   uploading data to GitHub\n",
      "Already up to date.\n",
      "[main f5d99d4] record_wav\n",
      " 2 files changed, 23 insertions(+), 1 deletion(-)\n",
      " create mode 100644 data/gpepp/2022-05-26T17:23:50.409.wav\n"
     ]
    },
    {
     "name": "stderr",
     "output_type": "stream",
     "text": [
      "To https://github.com/aubreymoore/good-vibrations.git\n",
      "   3cf44ef..f5d99d4  main -> main\n"
     ]
    },
    {
     "name": "stdout",
     "output_type": "stream",
     "text": [
      "   sleeping for 540s\n",
      "452 of 100000\n",
      "   recording for 60s; saving to /home/pi/good-vibrations/data/gpepp/2022-05-26T17:33:57.019.wav\n",
      "   uploading data to GitHub\n",
      "Already up to date.\n",
      "[main ee938c5] record_wav\n",
      " 2 files changed, 23 insertions(+), 1 deletion(-)\n",
      " create mode 100644 data/gpepp/2022-05-26T17:33:57.019.wav\n"
     ]
    },
    {
     "name": "stderr",
     "output_type": "stream",
     "text": [
      "To https://github.com/aubreymoore/good-vibrations.git\n",
      "   f5d99d4..ee938c5  main -> main\n"
     ]
    },
    {
     "name": "stdout",
     "output_type": "stream",
     "text": [
      "   sleeping for 540s\n",
      "453 of 100000\n",
      "   recording for 60s; saving to /home/pi/good-vibrations/data/gpepp/2022-05-26T17:44:03.926.wav\n",
      "   uploading data to GitHub\n",
      "Already up to date.\n",
      "[main ce277e0] record_wav\n",
      " 2 files changed, 23 insertions(+), 1 deletion(-)\n",
      " create mode 100644 data/gpepp/2022-05-26T17:44:03.926.wav\n"
     ]
    },
    {
     "name": "stderr",
     "output_type": "stream",
     "text": [
      "To https://github.com/aubreymoore/good-vibrations.git\n",
      "   ee938c5..ce277e0  main -> main\n"
     ]
    },
    {
     "name": "stdout",
     "output_type": "stream",
     "text": [
      "   sleeping for 540s\n",
      "454 of 100000\n",
      "   recording for 60s; saving to /home/pi/good-vibrations/data/gpepp/2022-05-26T17:54:10.884.wav\n",
      "   uploading data to GitHub\n",
      "Already up to date.\n",
      "[main 2e628c2] record_wav\n",
      " 2 files changed, 23 insertions(+), 1 deletion(-)\n",
      " create mode 100644 data/gpepp/2022-05-26T17:54:10.884.wav\n"
     ]
    },
    {
     "name": "stderr",
     "output_type": "stream",
     "text": [
      "To https://github.com/aubreymoore/good-vibrations.git\n",
      "   ce277e0..2e628c2  main -> main\n"
     ]
    },
    {
     "name": "stdout",
     "output_type": "stream",
     "text": [
      "   sleeping for 540s\n",
      "455 of 100000\n",
      "   recording for 60s; saving to /home/pi/good-vibrations/data/gpepp/2022-05-26T18:04:18.679.wav\n",
      "   uploading data to GitHub\n",
      "Already up to date.\n",
      "[main 1e0fbc7] record_wav\n",
      " 2 files changed, 23 insertions(+), 1 deletion(-)\n",
      " create mode 100644 data/gpepp/2022-05-26T18:04:18.679.wav\n"
     ]
    },
    {
     "name": "stderr",
     "output_type": "stream",
     "text": [
      "To https://github.com/aubreymoore/good-vibrations.git\n",
      "   2e628c2..1e0fbc7  main -> main\n"
     ]
    },
    {
     "name": "stdout",
     "output_type": "stream",
     "text": [
      "   sleeping for 540s\n",
      "456 of 100000\n",
      "   recording for 60s; saving to /home/pi/good-vibrations/data/gpepp/2022-05-26T18:14:25.429.wav\n",
      "   uploading data to GitHub\n",
      "Already up to date.\n",
      "[main 70d08ec] record_wav\n",
      " 2 files changed, 23 insertions(+), 1 deletion(-)\n",
      " create mode 100644 data/gpepp/2022-05-26T18:14:25.429.wav\n"
     ]
    },
    {
     "name": "stderr",
     "output_type": "stream",
     "text": [
      "To https://github.com/aubreymoore/good-vibrations.git\n",
      "   1e0fbc7..70d08ec  main -> main\n"
     ]
    },
    {
     "name": "stdout",
     "output_type": "stream",
     "text": [
      "   sleeping for 540s\n",
      "457 of 100000\n",
      "   recording for 60s; saving to /home/pi/good-vibrations/data/gpepp/2022-05-26T18:24:31.999.wav\n",
      "   uploading data to GitHub\n",
      "Already up to date.\n",
      "[main bebfa9c] record_wav\n",
      " 2 files changed, 23 insertions(+), 1 deletion(-)\n",
      " create mode 100644 data/gpepp/2022-05-26T18:24:31.999.wav\n"
     ]
    },
    {
     "name": "stderr",
     "output_type": "stream",
     "text": [
      "To https://github.com/aubreymoore/good-vibrations.git\n",
      "   70d08ec..bebfa9c  main -> main\n"
     ]
    },
    {
     "name": "stdout",
     "output_type": "stream",
     "text": [
      "   sleeping for 540s\n",
      "458 of 100000\n",
      "   recording for 60s; saving to /home/pi/good-vibrations/data/gpepp/2022-05-26T18:34:38.504.wav\n",
      "   uploading data to GitHub\n",
      "Already up to date.\n",
      "[main 07dbf0f] record_wav\n",
      " 2 files changed, 23 insertions(+), 1 deletion(-)\n",
      " create mode 100644 data/gpepp/2022-05-26T18:34:38.504.wav\n"
     ]
    },
    {
     "name": "stderr",
     "output_type": "stream",
     "text": [
      "To https://github.com/aubreymoore/good-vibrations.git\n",
      "   bebfa9c..07dbf0f  main -> main\n"
     ]
    },
    {
     "name": "stdout",
     "output_type": "stream",
     "text": [
      "   sleeping for 540s\n",
      "459 of 100000\n",
      "   recording for 60s; saving to /home/pi/good-vibrations/data/gpepp/2022-05-26T18:44:46.739.wav\n",
      "   uploading data to GitHub\n",
      "Already up to date.\n",
      "[main 0eaf617] record_wav\n",
      " 2 files changed, 23 insertions(+), 1 deletion(-)\n",
      " create mode 100644 data/gpepp/2022-05-26T18:44:46.739.wav\n"
     ]
    },
    {
     "name": "stderr",
     "output_type": "stream",
     "text": [
      "To https://github.com/aubreymoore/good-vibrations.git\n",
      "   07dbf0f..0eaf617  main -> main\n"
     ]
    },
    {
     "name": "stdout",
     "output_type": "stream",
     "text": [
      "   sleeping for 540s\n",
      "460 of 100000\n",
      "   recording for 60s; saving to /home/pi/good-vibrations/data/gpepp/2022-05-26T18:54:53.425.wav\n",
      "   uploading data to GitHub\n",
      "Already up to date.\n",
      "[main 5557b62] record_wav\n",
      " 2 files changed, 23 insertions(+), 1 deletion(-)\n",
      " create mode 100644 data/gpepp/2022-05-26T18:54:53.425.wav\n"
     ]
    },
    {
     "name": "stderr",
     "output_type": "stream",
     "text": [
      "To https://github.com/aubreymoore/good-vibrations.git\n",
      "   0eaf617..5557b62  main -> main\n"
     ]
    },
    {
     "name": "stdout",
     "output_type": "stream",
     "text": [
      "   sleeping for 540s\n",
      "461 of 100000\n",
      "   recording for 60s; saving to /home/pi/good-vibrations/data/gpepp/2022-05-26T19:05:00.529.wav\n",
      "   uploading data to GitHub\n",
      "Already up to date.\n",
      "[main a7c11d0] record_wav\n",
      " 2 files changed, 21 insertions(+), 1 deletion(-)\n",
      " create mode 100644 data/gpepp/2022-05-26T19:05:00.529.wav\n"
     ]
    },
    {
     "name": "stderr",
     "output_type": "stream",
     "text": [
      "To https://github.com/aubreymoore/good-vibrations.git\n",
      "   5557b62..a7c11d0  main -> main\n"
     ]
    },
    {
     "name": "stdout",
     "output_type": "stream",
     "text": [
      "   sleeping for 540s\n",
      "462 of 100000\n",
      "   recording for 60s; saving to /home/pi/good-vibrations/data/gpepp/2022-05-26T19:15:07.354.wav\n",
      "   uploading data to GitHub\n",
      "Already up to date.\n",
      "[main 989e157] record_wav\n",
      " 2 files changed, 22 insertions(+)\n",
      " create mode 100644 data/gpepp/2022-05-26T19:15:07.354.wav\n"
     ]
    },
    {
     "name": "stderr",
     "output_type": "stream",
     "text": [
      "To https://github.com/aubreymoore/good-vibrations.git\n",
      "   a7c11d0..989e157  main -> main\n"
     ]
    },
    {
     "name": "stdout",
     "output_type": "stream",
     "text": [
      "   sleeping for 540s\n",
      "463 of 100000\n",
      "   recording for 60s; saving to /home/pi/good-vibrations/data/gpepp/2022-05-26T19:25:14.289.wav\n",
      "   uploading data to GitHub\n",
      "Already up to date.\n",
      "[main 51d0182] record_wav\n",
      " 2 files changed, 22 insertions(+)\n",
      " create mode 100644 data/gpepp/2022-05-26T19:25:14.289.wav\n"
     ]
    },
    {
     "name": "stderr",
     "output_type": "stream",
     "text": [
      "To https://github.com/aubreymoore/good-vibrations.git\n",
      "   989e157..51d0182  main -> main\n"
     ]
    },
    {
     "name": "stdout",
     "output_type": "stream",
     "text": [
      "   sleeping for 540s\n",
      "464 of 100000\n",
      "   recording for 60s; saving to /home/pi/good-vibrations/data/gpepp/2022-05-26T19:35:20.847.wav\n",
      "   uploading data to GitHub\n",
      "Already up to date.\n",
      "[main b3f0d32] record_wav\n",
      " 2 files changed, 22 insertions(+)\n",
      " create mode 100644 data/gpepp/2022-05-26T19:35:20.847.wav\n"
     ]
    },
    {
     "name": "stderr",
     "output_type": "stream",
     "text": [
      "To https://github.com/aubreymoore/good-vibrations.git\n",
      "   51d0182..b3f0d32  main -> main\n"
     ]
    },
    {
     "name": "stdout",
     "output_type": "stream",
     "text": [
      "   sleeping for 540s\n",
      "465 of 100000\n",
      "   recording for 60s; saving to /home/pi/good-vibrations/data/gpepp/2022-05-26T19:45:27.699.wav\n",
      "   uploading data to GitHub\n",
      "Already up to date.\n",
      "[main cd6f529] record_wav\n",
      " 2 files changed, 22 insertions(+)\n",
      " create mode 100644 data/gpepp/2022-05-26T19:45:27.699.wav\n"
     ]
    },
    {
     "name": "stderr",
     "output_type": "stream",
     "text": [
      "To https://github.com/aubreymoore/good-vibrations.git\n",
      "   b3f0d32..cd6f529  main -> main\n"
     ]
    },
    {
     "name": "stdout",
     "output_type": "stream",
     "text": [
      "   sleeping for 540s\n",
      "466 of 100000\n",
      "   recording for 60s; saving to /home/pi/good-vibrations/data/gpepp/2022-05-26T19:55:34.579.wav\n",
      "   uploading data to GitHub\n",
      "Already up to date.\n",
      "[main 17dd5a6] record_wav\n",
      " 2 files changed, 22 insertions(+)\n",
      " create mode 100644 data/gpepp/2022-05-26T19:55:34.579.wav\n"
     ]
    },
    {
     "name": "stderr",
     "output_type": "stream",
     "text": [
      "To https://github.com/aubreymoore/good-vibrations.git\n",
      "   cd6f529..17dd5a6  main -> main\n"
     ]
    },
    {
     "name": "stdout",
     "output_type": "stream",
     "text": [
      "   sleeping for 540s\n",
      "467 of 100000\n",
      "   recording for 60s; saving to /home/pi/good-vibrations/data/gpepp/2022-05-26T20:05:41.259.wav\n",
      "   uploading data to GitHub\n",
      "Already up to date.\n",
      "[main 28ba007] record_wav\n",
      " 2 files changed, 22 insertions(+)\n",
      " create mode 100644 data/gpepp/2022-05-26T20:05:41.259.wav\n"
     ]
    },
    {
     "name": "stderr",
     "output_type": "stream",
     "text": [
      "To https://github.com/aubreymoore/good-vibrations.git\n",
      "   17dd5a6..28ba007  main -> main\n"
     ]
    },
    {
     "name": "stdout",
     "output_type": "stream",
     "text": [
      "   sleeping for 540s\n",
      "468 of 100000\n",
      "   recording for 60s; saving to /home/pi/good-vibrations/data/gpepp/2022-05-26T20:15:48.673.wav\n",
      "   uploading data to GitHub\n",
      "Already up to date.\n",
      "[main 314c83a] record_wav\n",
      " 2 files changed, 22 insertions(+)\n",
      " create mode 100644 data/gpepp/2022-05-26T20:15:48.673.wav\n"
     ]
    },
    {
     "name": "stderr",
     "output_type": "stream",
     "text": [
      "To https://github.com/aubreymoore/good-vibrations.git\n",
      "   28ba007..314c83a  main -> main\n"
     ]
    },
    {
     "name": "stdout",
     "output_type": "stream",
     "text": [
      "   sleeping for 540s\n",
      "469 of 100000\n",
      "   recording for 60s; saving to /home/pi/good-vibrations/data/gpepp/2022-05-26T20:25:55.363.wav\n",
      "   uploading data to GitHub\n",
      "Already up to date.\n",
      "[main 0d89628] record_wav\n",
      " 2 files changed, 22 insertions(+)\n",
      " create mode 100644 data/gpepp/2022-05-26T20:25:55.363.wav\n"
     ]
    },
    {
     "name": "stderr",
     "output_type": "stream",
     "text": [
      "To https://github.com/aubreymoore/good-vibrations.git\n",
      "   314c83a..0d89628  main -> main\n"
     ]
    },
    {
     "name": "stdout",
     "output_type": "stream",
     "text": [
      "   sleeping for 540s\n",
      "470 of 100000\n",
      "   recording for 60s; saving to /home/pi/good-vibrations/data/gpepp/2022-05-26T20:36:01.999.wav\n",
      "   uploading data to GitHub\n",
      "Already up to date.\n",
      "[main d7f77a4] record_wav\n",
      " 2 files changed, 22 insertions(+)\n",
      " create mode 100644 data/gpepp/2022-05-26T20:36:01.999.wav\n"
     ]
    },
    {
     "name": "stderr",
     "output_type": "stream",
     "text": [
      "To https://github.com/aubreymoore/good-vibrations.git\n",
      "   0d89628..d7f77a4  main -> main\n"
     ]
    },
    {
     "name": "stdout",
     "output_type": "stream",
     "text": [
      "   sleeping for 540s\n",
      "471 of 100000\n",
      "   recording for 60s; saving to /home/pi/good-vibrations/data/gpepp/2022-05-26T20:46:08.701.wav\n",
      "   uploading data to GitHub\n",
      "Already up to date.\n",
      "[main fa53bb9] record_wav\n",
      " 2 files changed, 22 insertions(+)\n",
      " create mode 100644 data/gpepp/2022-05-26T20:46:08.701.wav\n"
     ]
    },
    {
     "name": "stderr",
     "output_type": "stream",
     "text": [
      "To https://github.com/aubreymoore/good-vibrations.git\n",
      "   d7f77a4..fa53bb9  main -> main\n"
     ]
    },
    {
     "name": "stdout",
     "output_type": "stream",
     "text": [
      "   sleeping for 540s\n",
      "472 of 100000\n",
      "   recording for 60s; saving to /home/pi/good-vibrations/data/gpepp/2022-05-26T20:56:15.472.wav\n",
      "   uploading data to GitHub\n",
      "Already up to date.\n",
      "[main 33a0e5f] record_wav\n",
      " 2 files changed, 25 insertions(+), 1 deletion(-)\n",
      " create mode 100644 data/gpepp/2022-05-26T20:56:15.472.wav\n"
     ]
    },
    {
     "name": "stderr",
     "output_type": "stream",
     "text": [
      "To https://github.com/aubreymoore/good-vibrations.git\n",
      "   fa53bb9..33a0e5f  main -> main\n"
     ]
    },
    {
     "name": "stdout",
     "output_type": "stream",
     "text": [
      "   sleeping for 540s\n",
      "473 of 100000\n",
      "   recording for 60s; saving to /home/pi/good-vibrations/data/gpepp/2022-05-26T21:06:22.229.wav\n",
      "   uploading data to GitHub\n",
      "Already up to date.\n",
      "[main cdc029d] record_wav\n",
      " 2 files changed, 23 insertions(+), 1 deletion(-)\n",
      " create mode 100644 data/gpepp/2022-05-26T21:06:22.229.wav\n"
     ]
    },
    {
     "name": "stderr",
     "output_type": "stream",
     "text": [
      "To https://github.com/aubreymoore/good-vibrations.git\n",
      "   33a0e5f..cdc029d  main -> main\n"
     ]
    },
    {
     "name": "stdout",
     "output_type": "stream",
     "text": [
      "   sleeping for 540s\n",
      "474 of 100000\n",
      "   recording for 60s; saving to /home/pi/good-vibrations/data/gpepp/2022-05-26T21:16:28.879.wav\n",
      "   uploading data to GitHub\n",
      "Already up to date.\n",
      "[main c7d34c1] record_wav\n",
      " 2 files changed, 23 insertions(+), 1 deletion(-)\n",
      " create mode 100644 data/gpepp/2022-05-26T21:16:28.879.wav\n"
     ]
    },
    {
     "name": "stderr",
     "output_type": "stream",
     "text": [
      "To https://github.com/aubreymoore/good-vibrations.git\n",
      "   cdc029d..c7d34c1  main -> main\n"
     ]
    },
    {
     "name": "stdout",
     "output_type": "stream",
     "text": [
      "   sleeping for 540s\n",
      "475 of 100000\n",
      "   recording for 60s; saving to /home/pi/good-vibrations/data/gpepp/2022-05-26T21:26:35.499.wav\n",
      "   uploading data to GitHub\n",
      "Already up to date.\n",
      "[main 7d7addf] record_wav\n",
      " 2 files changed, 23 insertions(+), 1 deletion(-)\n",
      " create mode 100644 data/gpepp/2022-05-26T21:26:35.499.wav\n"
     ]
    },
    {
     "name": "stderr",
     "output_type": "stream",
     "text": [
      "To https://github.com/aubreymoore/good-vibrations.git\n",
      "   c7d34c1..7d7addf  main -> main\n"
     ]
    },
    {
     "name": "stdout",
     "output_type": "stream",
     "text": [
      "   sleeping for 540s\n",
      "476 of 100000\n",
      "   recording for 60s; saving to /home/pi/good-vibrations/data/gpepp/2022-05-26T21:36:42.249.wav\n",
      "   uploading data to GitHub\n",
      "Already up to date.\n",
      "[main 62c547f] record_wav\n",
      " 2 files changed, 23 insertions(+), 1 deletion(-)\n",
      " create mode 100644 data/gpepp/2022-05-26T21:36:42.249.wav\n"
     ]
    },
    {
     "name": "stderr",
     "output_type": "stream",
     "text": [
      "To https://github.com/aubreymoore/good-vibrations.git\n",
      "   7d7addf..62c547f  main -> main\n"
     ]
    },
    {
     "name": "stdout",
     "output_type": "stream",
     "text": [
      "   sleeping for 540s\n",
      "477 of 100000\n",
      "   recording for 60s; saving to /home/pi/good-vibrations/data/gpepp/2022-05-26T21:46:50.196.wav\n",
      "   uploading data to GitHub\n",
      "Already up to date.\n",
      "[main 2e9ba1c] record_wav\n",
      " 2 files changed, 23 insertions(+), 1 deletion(-)\n",
      " create mode 100644 data/gpepp/2022-05-26T21:46:50.196.wav\n"
     ]
    },
    {
     "name": "stderr",
     "output_type": "stream",
     "text": [
      "To https://github.com/aubreymoore/good-vibrations.git\n",
      "   62c547f..2e9ba1c  main -> main\n"
     ]
    },
    {
     "name": "stdout",
     "output_type": "stream",
     "text": [
      "   sleeping for 540s\n",
      "478 of 100000\n",
      "   recording for 60s; saving to /home/pi/good-vibrations/data/gpepp/2022-05-26T21:56:57.119.wav\n",
      "   uploading data to GitHub\n",
      "Already up to date.\n",
      "[main a97f437] record_wav\n",
      " 2 files changed, 23 insertions(+), 1 deletion(-)\n",
      " create mode 100644 data/gpepp/2022-05-26T21:56:57.119.wav\n"
     ]
    },
    {
     "name": "stderr",
     "output_type": "stream",
     "text": [
      "To https://github.com/aubreymoore/good-vibrations.git\n",
      "   2e9ba1c..a97f437  main -> main\n"
     ]
    },
    {
     "name": "stdout",
     "output_type": "stream",
     "text": [
      "   sleeping for 540s\n",
      "479 of 100000\n",
      "   recording for 60s; saving to /home/pi/good-vibrations/data/gpepp/2022-05-26T22:07:04.028.wav\n",
      "   uploading data to GitHub\n",
      "Already up to date.\n",
      "[main 982504a] record_wav\n",
      " 2 files changed, 23 insertions(+), 1 deletion(-)\n",
      " create mode 100644 data/gpepp/2022-05-26T22:07:04.028.wav\n"
     ]
    },
    {
     "name": "stderr",
     "output_type": "stream",
     "text": [
      "To https://github.com/aubreymoore/good-vibrations.git\n",
      "   a97f437..982504a  main -> main\n"
     ]
    },
    {
     "name": "stdout",
     "output_type": "stream",
     "text": [
      "   sleeping for 540s\n",
      "480 of 100000\n",
      "   recording for 60s; saving to /home/pi/good-vibrations/data/gpepp/2022-05-26T22:17:10.879.wav\n",
      "   uploading data to GitHub\n",
      "Already up to date.\n",
      "[main 8e12c94] record_wav\n",
      " 2 files changed, 23 insertions(+), 1 deletion(-)\n",
      " create mode 100644 data/gpepp/2022-05-26T22:17:10.879.wav\n"
     ]
    },
    {
     "name": "stderr",
     "output_type": "stream",
     "text": [
      "To https://github.com/aubreymoore/good-vibrations.git\n",
      "   982504a..8e12c94  main -> main\n"
     ]
    },
    {
     "name": "stdout",
     "output_type": "stream",
     "text": [
      "   sleeping for 540s\n",
      "481 of 100000\n",
      "   recording for 60s; saving to /home/pi/good-vibrations/data/gpepp/2022-05-26T22:27:17.469.wav\n",
      "   uploading data to GitHub\n",
      "Already up to date.\n",
      "[main 613e181] record_wav\n",
      " 2 files changed, 23 insertions(+), 1 deletion(-)\n",
      " create mode 100644 data/gpepp/2022-05-26T22:27:17.469.wav\n"
     ]
    },
    {
     "name": "stderr",
     "output_type": "stream",
     "text": [
      "To https://github.com/aubreymoore/good-vibrations.git\n",
      "   8e12c94..613e181  main -> main\n"
     ]
    },
    {
     "name": "stdout",
     "output_type": "stream",
     "text": [
      "   sleeping for 540s\n",
      "482 of 100000\n",
      "   recording for 60s; saving to /home/pi/good-vibrations/data/gpepp/2022-05-26T22:37:24.100.wav\n",
      "   uploading data to GitHub\n",
      "Already up to date.\n",
      "[main 80f4e3a] record_wav\n",
      " 2 files changed, 23 insertions(+), 1 deletion(-)\n",
      " create mode 100644 data/gpepp/2022-05-26T22:37:24.100.wav\n"
     ]
    },
    {
     "name": "stderr",
     "output_type": "stream",
     "text": [
      "To https://github.com/aubreymoore/good-vibrations.git\n",
      "   613e181..80f4e3a  main -> main\n"
     ]
    },
    {
     "name": "stdout",
     "output_type": "stream",
     "text": [
      "   sleeping for 540s\n",
      "483 of 100000\n",
      "   recording for 60s; saving to /home/pi/good-vibrations/data/gpepp/2022-05-26T22:47:31.044.wav\n",
      "   uploading data to GitHub\n",
      "Already up to date.\n",
      "[main 7f1c3ec] record_wav\n",
      " 2 files changed, 23 insertions(+), 1 deletion(-)\n",
      " create mode 100644 data/gpepp/2022-05-26T22:47:31.044.wav\n"
     ]
    },
    {
     "name": "stderr",
     "output_type": "stream",
     "text": [
      "To https://github.com/aubreymoore/good-vibrations.git\n",
      "   80f4e3a..7f1c3ec  main -> main\n"
     ]
    },
    {
     "name": "stdout",
     "output_type": "stream",
     "text": [
      "   sleeping for 540s\n",
      "484 of 100000\n",
      "   recording for 60s; saving to /home/pi/good-vibrations/data/gpepp/2022-05-26T22:57:37.679.wav\n",
      "   uploading data to GitHub\n",
      "Already up to date.\n",
      "[main a80f57d] record_wav\n",
      " 2 files changed, 23 insertions(+), 1 deletion(-)\n",
      " create mode 100644 data/gpepp/2022-05-26T22:57:37.679.wav\n"
     ]
    },
    {
     "name": "stderr",
     "output_type": "stream",
     "text": [
      "To https://github.com/aubreymoore/good-vibrations.git\n",
      "   7f1c3ec..a80f57d  main -> main\n"
     ]
    },
    {
     "name": "stdout",
     "output_type": "stream",
     "text": [
      "   sleeping for 540s\n",
      "485 of 100000\n",
      "   recording for 60s; saving to /home/pi/good-vibrations/data/gpepp/2022-05-26T23:07:46.439.wav\n",
      "   uploading data to GitHub\n",
      "Already up to date.\n",
      "[main 4425f96] record_wav\n",
      " 2 files changed, 23 insertions(+), 1 deletion(-)\n",
      " create mode 100644 data/gpepp/2022-05-26T23:07:46.439.wav\n"
     ]
    },
    {
     "name": "stderr",
     "output_type": "stream",
     "text": [
      "To https://github.com/aubreymoore/good-vibrations.git\n",
      "   a80f57d..4425f96  main -> main\n"
     ]
    },
    {
     "name": "stdout",
     "output_type": "stream",
     "text": [
      "   sleeping for 540s\n",
      "486 of 100000\n",
      "   recording for 60s; saving to /home/pi/good-vibrations/data/gpepp/2022-05-26T23:17:53.159.wav\n",
      "   uploading data to GitHub\n",
      "Already up to date.\n",
      "[main 4a3047b] record_wav\n",
      " 2 files changed, 23 insertions(+), 1 deletion(-)\n",
      " create mode 100644 data/gpepp/2022-05-26T23:17:53.159.wav\n"
     ]
    },
    {
     "name": "stderr",
     "output_type": "stream",
     "text": [
      "To https://github.com/aubreymoore/good-vibrations.git\n",
      "   4425f96..4a3047b  main -> main\n"
     ]
    },
    {
     "name": "stdout",
     "output_type": "stream",
     "text": [
      "   sleeping for 540s\n",
      "487 of 100000\n",
      "   recording for 60s; saving to /home/pi/good-vibrations/data/gpepp/2022-05-26T23:27:59.809.wav\n",
      "   uploading data to GitHub\n",
      "Already up to date.\n",
      "[main 385fe84] record_wav\n",
      " 2 files changed, 23 insertions(+), 1 deletion(-)\n",
      " create mode 100644 data/gpepp/2022-05-26T23:27:59.809.wav\n"
     ]
    },
    {
     "name": "stderr",
     "output_type": "stream",
     "text": [
      "To https://github.com/aubreymoore/good-vibrations.git\n",
      "   4a3047b..385fe84  main -> main\n"
     ]
    },
    {
     "name": "stdout",
     "output_type": "stream",
     "text": [
      "   sleeping for 540s\n",
      "488 of 100000\n",
      "   recording for 60s; saving to /home/pi/good-vibrations/data/gpepp/2022-05-26T23:38:06.578.wav\n",
      "   uploading data to GitHub\n",
      "Already up to date.\n",
      "[main fe0363b] record_wav\n",
      " 2 files changed, 21 insertions(+), 1 deletion(-)\n",
      " create mode 100644 data/gpepp/2022-05-26T23:38:06.578.wav\n"
     ]
    },
    {
     "name": "stderr",
     "output_type": "stream",
     "text": [
      "To https://github.com/aubreymoore/good-vibrations.git\n",
      "   385fe84..fe0363b  main -> main\n"
     ]
    },
    {
     "name": "stdout",
     "output_type": "stream",
     "text": [
      "   sleeping for 540s\n",
      "489 of 100000\n",
      "   recording for 60s; saving to /home/pi/good-vibrations/data/gpepp/2022-05-26T23:48:13.266.wav\n",
      "   uploading data to GitHub\n",
      "Already up to date.\n",
      "[main dfb7ade] record_wav\n",
      " 2 files changed, 22 insertions(+)\n",
      " create mode 100644 data/gpepp/2022-05-26T23:48:13.266.wav\n"
     ]
    },
    {
     "name": "stderr",
     "output_type": "stream",
     "text": [
      "To https://github.com/aubreymoore/good-vibrations.git\n",
      "   fe0363b..dfb7ade  main -> main\n"
     ]
    },
    {
     "name": "stdout",
     "output_type": "stream",
     "text": [
      "   sleeping for 540s\n",
      "490 of 100000\n",
      "   recording for 60s; saving to /home/pi/good-vibrations/data/gpepp/2022-05-26T23:58:20.009.wav\n",
      "   uploading data to GitHub\n",
      "Already up to date.\n",
      "[main d61b43f] record_wav\n",
      " 2 files changed, 22 insertions(+)\n",
      " create mode 100644 data/gpepp/2022-05-26T23:58:20.009.wav\n"
     ]
    },
    {
     "name": "stderr",
     "output_type": "stream",
     "text": [
      "To https://github.com/aubreymoore/good-vibrations.git\n",
      "   dfb7ade..d61b43f  main -> main\n"
     ]
    },
    {
     "name": "stdout",
     "output_type": "stream",
     "text": [
      "   sleeping for 540s\n",
      "491 of 100000\n",
      "   recording for 60s; saving to /home/pi/good-vibrations/data/gpepp/2022-05-27T00:08:28.883.wav\n",
      "   uploading data to GitHub\n",
      "Already up to date.\n",
      "[main f74241e] record_wav\n",
      " 2 files changed, 22 insertions(+)\n",
      " create mode 100644 data/gpepp/2022-05-27T00:08:28.883.wav\n"
     ]
    },
    {
     "name": "stderr",
     "output_type": "stream",
     "text": [
      "To https://github.com/aubreymoore/good-vibrations.git\n",
      "   d61b43f..f74241e  main -> main\n"
     ]
    },
    {
     "name": "stdout",
     "output_type": "stream",
     "text": [
      "   sleeping for 540s\n",
      "492 of 100000\n",
      "   recording for 60s; saving to /home/pi/good-vibrations/data/gpepp/2022-05-27T00:18:35.529.wav\n",
      "   uploading data to GitHub\n",
      "Already up to date.\n",
      "[main ad27fd8] record_wav\n",
      " 2 files changed, 22 insertions(+)\n",
      " create mode 100644 data/gpepp/2022-05-27T00:18:35.529.wav\n"
     ]
    },
    {
     "name": "stderr",
     "output_type": "stream",
     "text": [
      "To https://github.com/aubreymoore/good-vibrations.git\n",
      "   f74241e..ad27fd8  main -> main\n"
     ]
    },
    {
     "name": "stdout",
     "output_type": "stream",
     "text": [
      "   sleeping for 540s\n",
      "493 of 100000\n",
      "   recording for 60s; saving to /home/pi/good-vibrations/data/gpepp/2022-05-27T00:28:45.653.wav\n",
      "   uploading data to GitHub\n",
      "Already up to date.\n",
      "[main bb36693] record_wav\n",
      " 2 files changed, 22 insertions(+)\n",
      " create mode 100644 data/gpepp/2022-05-27T00:28:45.653.wav\n"
     ]
    },
    {
     "name": "stderr",
     "output_type": "stream",
     "text": [
      "To https://github.com/aubreymoore/good-vibrations.git\n",
      "   ad27fd8..bb36693  main -> main\n"
     ]
    },
    {
     "name": "stdout",
     "output_type": "stream",
     "text": [
      "   sleeping for 540s\n",
      "494 of 100000\n",
      "   recording for 60s; saving to /home/pi/good-vibrations/data/gpepp/2022-05-27T00:38:52.583.wav\n",
      "   uploading data to GitHub\n",
      "Already up to date.\n",
      "[main f78d988] record_wav\n",
      " 2 files changed, 22 insertions(+)\n",
      " create mode 100644 data/gpepp/2022-05-27T00:38:52.583.wav\n"
     ]
    },
    {
     "name": "stderr",
     "output_type": "stream",
     "text": [
      "To https://github.com/aubreymoore/good-vibrations.git\n",
      "   bb36693..f78d988  main -> main\n"
     ]
    },
    {
     "name": "stdout",
     "output_type": "stream",
     "text": [
      "   sleeping for 540s\n",
      "495 of 100000\n",
      "   recording for 60s; saving to /home/pi/good-vibrations/data/gpepp/2022-05-27T00:49:00.309.wav\n",
      "   uploading data to GitHub\n",
      "Already up to date.\n",
      "[main 559c882] record_wav\n",
      " 2 files changed, 22 insertions(+)\n",
      " create mode 100644 data/gpepp/2022-05-27T00:49:00.309.wav\n"
     ]
    },
    {
     "name": "stderr",
     "output_type": "stream",
     "text": [
      "To https://github.com/aubreymoore/good-vibrations.git\n",
      "   f78d988..559c882  main -> main\n"
     ]
    },
    {
     "name": "stdout",
     "output_type": "stream",
     "text": [
      "   sleeping for 540s\n",
      "496 of 100000\n",
      "   recording for 60s; saving to /home/pi/good-vibrations/data/gpepp/2022-05-27T00:59:08.259.wav\n",
      "   uploading data to GitHub\n",
      "Already up to date.\n",
      "[main 60e29cf] record_wav\n",
      " 2 files changed, 22 insertions(+)\n",
      " create mode 100644 data/gpepp/2022-05-27T00:59:08.259.wav\n"
     ]
    },
    {
     "name": "stderr",
     "output_type": "stream",
     "text": [
      "To https://github.com/aubreymoore/good-vibrations.git\n",
      "   559c882..60e29cf  main -> main\n"
     ]
    },
    {
     "name": "stdout",
     "output_type": "stream",
     "text": [
      "   sleeping for 540s\n",
      "497 of 100000\n",
      "   recording for 60s; saving to /home/pi/good-vibrations/data/gpepp/2022-05-27T01:09:15.096.wav\n",
      "   uploading data to GitHub\n",
      "Already up to date.\n",
      "[main 98f2407] record_wav\n",
      " 2 files changed, 22 insertions(+)\n",
      " create mode 100644 data/gpepp/2022-05-27T01:09:15.096.wav\n"
     ]
    },
    {
     "name": "stderr",
     "output_type": "stream",
     "text": [
      "To https://github.com/aubreymoore/good-vibrations.git\n",
      "   60e29cf..98f2407  main -> main\n"
     ]
    },
    {
     "name": "stdout",
     "output_type": "stream",
     "text": [
      "   sleeping for 540s\n",
      "498 of 100000\n",
      "   recording for 60s; saving to /home/pi/good-vibrations/data/gpepp/2022-05-27T01:19:21.939.wav\n",
      "   uploading data to GitHub\n",
      "Already up to date.\n",
      "[main 7c0bf0c] record_wav\n",
      " 2 files changed, 26 insertions(+), 1 deletion(-)\n",
      " create mode 100644 data/gpepp/2022-05-27T01:19:21.939.wav\n"
     ]
    },
    {
     "name": "stderr",
     "output_type": "stream",
     "text": [
      "To https://github.com/aubreymoore/good-vibrations.git\n",
      "   98f2407..7c0bf0c  main -> main\n"
     ]
    },
    {
     "name": "stdout",
     "output_type": "stream",
     "text": [
      "   sleeping for 540s\n",
      "499 of 100000\n",
      "   recording for 60s; saving to /home/pi/good-vibrations/data/gpepp/2022-05-27T01:29:28.824.wav\n",
      "   uploading data to GitHub\n",
      "Already up to date.\n",
      "[main d31fd4b] record_wav\n",
      " 2 files changed, 22 insertions(+), 1 deletion(-)\n",
      " create mode 100644 data/gpepp/2022-05-27T01:29:28.824.wav\n"
     ]
    },
    {
     "name": "stderr",
     "output_type": "stream",
     "text": [
      "To https://github.com/aubreymoore/good-vibrations.git\n",
      "   7c0bf0c..d31fd4b  main -> main\n"
     ]
    },
    {
     "name": "stdout",
     "output_type": "stream",
     "text": [
      "   sleeping for 540s\n",
      "500 of 100000\n",
      "   recording for 60s; saving to /home/pi/good-vibrations/data/gpepp/2022-05-27T01:39:37.249.wav\n",
      "   uploading data to GitHub\n",
      "Already up to date.\n",
      "[main f016969] record_wav\n",
      " 2 files changed, 23 insertions(+), 1 deletion(-)\n",
      " create mode 100644 data/gpepp/2022-05-27T01:39:37.249.wav\n"
     ]
    },
    {
     "name": "stderr",
     "output_type": "stream",
     "text": [
      "To https://github.com/aubreymoore/good-vibrations.git\n",
      "   d31fd4b..f016969  main -> main\n"
     ]
    },
    {
     "name": "stdout",
     "output_type": "stream",
     "text": [
      "   sleeping for 540s\n",
      "501 of 100000\n",
      "   recording for 60s; saving to /home/pi/good-vibrations/data/gpepp/2022-05-27T01:49:44.429.wav\n",
      "   uploading data to GitHub\n",
      "Already up to date.\n",
      "[main 1d87326] record_wav\n",
      " 2 files changed, 23 insertions(+), 1 deletion(-)\n",
      " create mode 100644 data/gpepp/2022-05-27T01:49:44.429.wav\n"
     ]
    },
    {
     "name": "stderr",
     "output_type": "stream",
     "text": [
      "To https://github.com/aubreymoore/good-vibrations.git\n",
      "   f016969..1d87326  main -> main\n"
     ]
    },
    {
     "name": "stdout",
     "output_type": "stream",
     "text": [
      "   sleeping for 540s\n",
      "502 of 100000\n",
      "   recording for 60s; saving to /home/pi/good-vibrations/data/gpepp/2022-05-27T01:59:51.509.wav\n",
      "   uploading data to GitHub\n",
      "Already up to date.\n",
      "[main 696ecf7] record_wav\n",
      " 2 files changed, 23 insertions(+), 1 deletion(-)\n",
      " create mode 100644 data/gpepp/2022-05-27T01:59:51.509.wav\n"
     ]
    },
    {
     "name": "stderr",
     "output_type": "stream",
     "text": [
      "To https://github.com/aubreymoore/good-vibrations.git\n",
      "   1d87326..696ecf7  main -> main\n"
     ]
    },
    {
     "name": "stdout",
     "output_type": "stream",
     "text": [
      "   sleeping for 540s\n",
      "503 of 100000\n",
      "   recording for 60s; saving to /home/pi/good-vibrations/data/gpepp/2022-05-27T02:09:58.319.wav\n",
      "   uploading data to GitHub\n",
      "Already up to date.\n",
      "[main 5b9ef4b] record_wav\n",
      " 2 files changed, 23 insertions(+), 1 deletion(-)\n",
      " create mode 100644 data/gpepp/2022-05-27T02:09:58.319.wav\n"
     ]
    },
    {
     "name": "stderr",
     "output_type": "stream",
     "text": [
      "To https://github.com/aubreymoore/good-vibrations.git\n",
      "   696ecf7..5b9ef4b  main -> main\n"
     ]
    },
    {
     "name": "stdout",
     "output_type": "stream",
     "text": [
      "   sleeping for 540s\n",
      "504 of 100000\n",
      "   recording for 60s; saving to /home/pi/good-vibrations/data/gpepp/2022-05-27T02:20:05.569.wav\n",
      "   uploading data to GitHub\n",
      "Already up to date.\n",
      "[main 493788b] record_wav\n",
      " 2 files changed, 23 insertions(+), 1 deletion(-)\n",
      " create mode 100644 data/gpepp/2022-05-27T02:20:05.569.wav\n"
     ]
    },
    {
     "name": "stderr",
     "output_type": "stream",
     "text": [
      "To https://github.com/aubreymoore/good-vibrations.git\n",
      "   5b9ef4b..493788b  main -> main\n"
     ]
    },
    {
     "name": "stdout",
     "output_type": "stream",
     "text": [
      "   sleeping for 540s\n",
      "505 of 100000\n",
      "   recording for 60s; saving to /home/pi/good-vibrations/data/gpepp/2022-05-27T02:30:12.419.wav\n",
      "   uploading data to GitHub\n",
      "Already up to date.\n",
      "[main e549f38] record_wav\n",
      " 2 files changed, 23 insertions(+), 1 deletion(-)\n",
      " create mode 100644 data/gpepp/2022-05-27T02:30:12.419.wav\n"
     ]
    },
    {
     "name": "stderr",
     "output_type": "stream",
     "text": [
      "To https://github.com/aubreymoore/good-vibrations.git\n",
      "   493788b..e549f38  main -> main\n"
     ]
    },
    {
     "name": "stdout",
     "output_type": "stream",
     "text": [
      "   sleeping for 540s\n",
      "506 of 100000\n",
      "   recording for 60s; saving to /home/pi/good-vibrations/data/gpepp/2022-05-27T02:40:19.129.wav\n",
      "   uploading data to GitHub\n",
      "Already up to date.\n",
      "[main ad3c2d5] record_wav\n",
      " 2 files changed, 23 insertions(+), 1 deletion(-)\n",
      " create mode 100644 data/gpepp/2022-05-27T02:40:19.129.wav\n"
     ]
    },
    {
     "name": "stderr",
     "output_type": "stream",
     "text": [
      "To https://github.com/aubreymoore/good-vibrations.git\n",
      "   e549f38..ad3c2d5  main -> main\n"
     ]
    },
    {
     "name": "stdout",
     "output_type": "stream",
     "text": [
      "   sleeping for 540s\n",
      "507 of 100000\n",
      "   recording for 60s; saving to /home/pi/good-vibrations/data/gpepp/2022-05-27T02:50:25.899.wav\n",
      "   uploading data to GitHub\n",
      "Already up to date.\n",
      "[main d54966c] record_wav\n",
      " 2 files changed, 23 insertions(+), 1 deletion(-)\n",
      " create mode 100644 data/gpepp/2022-05-27T02:50:25.899.wav\n"
     ]
    },
    {
     "name": "stderr",
     "output_type": "stream",
     "text": [
      "To https://github.com/aubreymoore/good-vibrations.git\n",
      "   ad3c2d5..d54966c  main -> main\n"
     ]
    },
    {
     "name": "stdout",
     "output_type": "stream",
     "text": [
      "   sleeping for 540s\n",
      "508 of 100000\n",
      "   recording for 60s; saving to /home/pi/good-vibrations/data/gpepp/2022-05-27T03:00:32.732.wav\n",
      "   uploading data to GitHub\n",
      "Already up to date.\n",
      "[main 836fb3e] record_wav\n",
      " 2 files changed, 23 insertions(+), 1 deletion(-)\n",
      " create mode 100644 data/gpepp/2022-05-27T03:00:32.732.wav\n"
     ]
    },
    {
     "name": "stderr",
     "output_type": "stream",
     "text": [
      "To https://github.com/aubreymoore/good-vibrations.git\n",
      "   d54966c..836fb3e  main -> main\n"
     ]
    },
    {
     "name": "stdout",
     "output_type": "stream",
     "text": [
      "   sleeping for 540s\n",
      "509 of 100000\n",
      "   recording for 60s; saving to /home/pi/good-vibrations/data/gpepp/2022-05-27T03:10:39.379.wav\n",
      "   uploading data to GitHub\n",
      "Already up to date.\n",
      "[main bab8f3c] record_wav\n",
      " 2 files changed, 23 insertions(+), 1 deletion(-)\n",
      " create mode 100644 data/gpepp/2022-05-27T03:10:39.379.wav\n"
     ]
    },
    {
     "name": "stderr",
     "output_type": "stream",
     "text": [
      "To https://github.com/aubreymoore/good-vibrations.git\n",
      "   836fb3e..bab8f3c  main -> main\n"
     ]
    },
    {
     "name": "stdout",
     "output_type": "stream",
     "text": [
      "   sleeping for 540s\n",
      "510 of 100000\n",
      "   recording for 60s; saving to /home/pi/good-vibrations/data/gpepp/2022-05-27T03:20:48.487.wav\n",
      "   uploading data to GitHub\n",
      "Already up to date.\n",
      "[main 53d30dd] record_wav\n",
      " 2 files changed, 23 insertions(+), 1 deletion(-)\n",
      " create mode 100644 data/gpepp/2022-05-27T03:20:48.487.wav\n"
     ]
    },
    {
     "name": "stderr",
     "output_type": "stream",
     "text": [
      "To https://github.com/aubreymoore/good-vibrations.git\n",
      "   bab8f3c..53d30dd  main -> main\n"
     ]
    },
    {
     "name": "stdout",
     "output_type": "stream",
     "text": [
      "   sleeping for 540s\n",
      "511 of 100000\n",
      "   recording for 60s; saving to /home/pi/good-vibrations/data/gpepp/2022-05-27T03:30:55.388.wav\n",
      "   uploading data to GitHub\n",
      "Already up to date.\n",
      "[main fc3436c] record_wav\n",
      " 2 files changed, 23 insertions(+), 1 deletion(-)\n",
      " create mode 100644 data/gpepp/2022-05-27T03:30:55.388.wav\n"
     ]
    },
    {
     "name": "stderr",
     "output_type": "stream",
     "text": [
      "To https://github.com/aubreymoore/good-vibrations.git\n",
      "   53d30dd..fc3436c  main -> main\n"
     ]
    },
    {
     "name": "stdout",
     "output_type": "stream",
     "text": [
      "   sleeping for 540s\n",
      "512 of 100000\n",
      "   recording for 60s; saving to /home/pi/good-vibrations/data/gpepp/2022-05-27T03:41:01.699.wav\n",
      "   uploading data to GitHub\n",
      "Already up to date.\n",
      "[main fda84fe] record_wav\n",
      " 2 files changed, 23 insertions(+), 1 deletion(-)\n",
      " create mode 100644 data/gpepp/2022-05-27T03:41:01.699.wav\n"
     ]
    },
    {
     "name": "stderr",
     "output_type": "stream",
     "text": [
      "To https://github.com/aubreymoore/good-vibrations.git\n",
      "   fc3436c..fda84fe  main -> main\n"
     ]
    },
    {
     "name": "stdout",
     "output_type": "stream",
     "text": [
      "   sleeping for 540s\n",
      "513 of 100000\n",
      "   recording for 60s; saving to /home/pi/good-vibrations/data/gpepp/2022-05-27T03:51:08.359.wav\n",
      "   uploading data to GitHub\n",
      "Already up to date.\n",
      "[main 9c34dac] record_wav\n",
      " 2 files changed, 21 insertions(+), 1 deletion(-)\n",
      " create mode 100644 data/gpepp/2022-05-27T03:51:08.359.wav\n"
     ]
    },
    {
     "name": "stderr",
     "output_type": "stream",
     "text": [
      "To https://github.com/aubreymoore/good-vibrations.git\n",
      "   fda84fe..9c34dac  main -> main\n"
     ]
    },
    {
     "name": "stdout",
     "output_type": "stream",
     "text": [
      "   sleeping for 540s\n",
      "514 of 100000\n",
      "   recording for 60s; saving to /home/pi/good-vibrations/data/gpepp/2022-05-27T04:01:14.899.wav\n",
      "   uploading data to GitHub\n",
      "Already up to date.\n",
      "[main 92ddbcd] record_wav\n",
      " 2 files changed, 22 insertions(+)\n",
      " create mode 100644 data/gpepp/2022-05-27T04:01:14.899.wav\n"
     ]
    },
    {
     "name": "stderr",
     "output_type": "stream",
     "text": [
      "To https://github.com/aubreymoore/good-vibrations.git\n",
      "   9c34dac..92ddbcd  main -> main\n"
     ]
    },
    {
     "name": "stdout",
     "output_type": "stream",
     "text": [
      "   sleeping for 540s\n",
      "515 of 100000\n",
      "   recording for 60s; saving to /home/pi/good-vibrations/data/gpepp/2022-05-27T04:11:22.065.wav\n",
      "   uploading data to GitHub\n",
      "Already up to date.\n",
      "[main a30c65e] record_wav\n",
      " 2 files changed, 22 insertions(+)\n",
      " create mode 100644 data/gpepp/2022-05-27T04:11:22.065.wav\n"
     ]
    },
    {
     "name": "stderr",
     "output_type": "stream",
     "text": [
      "To https://github.com/aubreymoore/good-vibrations.git\n",
      "   92ddbcd..a30c65e  main -> main\n"
     ]
    },
    {
     "name": "stdout",
     "output_type": "stream",
     "text": [
      "   sleeping for 540s\n",
      "516 of 100000\n",
      "   recording for 60s; saving to /home/pi/good-vibrations/data/gpepp/2022-05-27T04:21:29.249.wav\n",
      "   uploading data to GitHub\n",
      "Already up to date.\n",
      "[main 3849379] record_wav\n",
      " 2 files changed, 22 insertions(+)\n",
      " create mode 100644 data/gpepp/2022-05-27T04:21:29.249.wav\n"
     ]
    },
    {
     "name": "stderr",
     "output_type": "stream",
     "text": [
      "To https://github.com/aubreymoore/good-vibrations.git\n",
      "   a30c65e..3849379  main -> main\n"
     ]
    },
    {
     "name": "stdout",
     "output_type": "stream",
     "text": [
      "   sleeping for 540s\n",
      "517 of 100000\n",
      "   recording for 60s; saving to /home/pi/good-vibrations/data/gpepp/2022-05-27T04:31:35.961.wav\n",
      "   uploading data to GitHub\n",
      "Already up to date.\n",
      "[main 336ba59] record_wav\n",
      " 2 files changed, 22 insertions(+)\n",
      " create mode 100644 data/gpepp/2022-05-27T04:31:35.961.wav\n"
     ]
    },
    {
     "name": "stderr",
     "output_type": "stream",
     "text": [
      "To https://github.com/aubreymoore/good-vibrations.git\n",
      "   3849379..336ba59  main -> main\n"
     ]
    },
    {
     "name": "stdout",
     "output_type": "stream",
     "text": [
      "   sleeping for 540s\n",
      "518 of 100000\n",
      "   recording for 60s; saving to /home/pi/good-vibrations/data/gpepp/2022-05-27T04:41:42.663.wav\n",
      "   uploading data to GitHub\n",
      "Already up to date.\n",
      "[main 3057f46] record_wav\n",
      " 2 files changed, 22 insertions(+)\n",
      " create mode 100644 data/gpepp/2022-05-27T04:41:42.663.wav\n"
     ]
    },
    {
     "name": "stderr",
     "output_type": "stream",
     "text": [
      "To https://github.com/aubreymoore/good-vibrations.git\n",
      "   336ba59..3057f46  main -> main\n"
     ]
    },
    {
     "name": "stdout",
     "output_type": "stream",
     "text": [
      "   sleeping for 540s\n",
      "519 of 100000\n",
      "   recording for 60s; saving to /home/pi/good-vibrations/data/gpepp/2022-05-27T04:51:51.699.wav\n",
      "   uploading data to GitHub\n",
      "Already up to date.\n",
      "[main f2bbd07] record_wav\n",
      " 2 files changed, 22 insertions(+)\n",
      " create mode 100644 data/gpepp/2022-05-27T04:51:51.699.wav\n"
     ]
    },
    {
     "name": "stderr",
     "output_type": "stream",
     "text": [
      "To https://github.com/aubreymoore/good-vibrations.git\n",
      "   3057f46..f2bbd07  main -> main\n"
     ]
    },
    {
     "name": "stdout",
     "output_type": "stream",
     "text": [
      "   sleeping for 540s\n",
      "520 of 100000\n",
      "   recording for 60s; saving to /home/pi/good-vibrations/data/gpepp/2022-05-27T05:01:58.583.wav\n",
      "   uploading data to GitHub\n",
      "Already up to date.\n",
      "[main 638bb9e] record_wav\n",
      " 2 files changed, 22 insertions(+)\n",
      " create mode 100644 data/gpepp/2022-05-27T05:01:58.583.wav\n"
     ]
    },
    {
     "name": "stderr",
     "output_type": "stream",
     "text": [
      "To https://github.com/aubreymoore/good-vibrations.git\n",
      "   f2bbd07..638bb9e  main -> main\n"
     ]
    },
    {
     "name": "stdout",
     "output_type": "stream",
     "text": [
      "   sleeping for 540s\n",
      "521 of 100000\n",
      "   recording for 60s; saving to /home/pi/good-vibrations/data/gpepp/2022-05-27T05:12:05.418.wav\n",
      "   uploading data to GitHub\n",
      "Already up to date.\n",
      "[main 37ae0e6] record_wav\n",
      " 2 files changed, 22 insertions(+)\n",
      " create mode 100644 data/gpepp/2022-05-27T05:12:05.418.wav\n"
     ]
    },
    {
     "name": "stderr",
     "output_type": "stream",
     "text": [
      "To https://github.com/aubreymoore/good-vibrations.git\n",
      "   638bb9e..37ae0e6  main -> main\n"
     ]
    },
    {
     "name": "stdout",
     "output_type": "stream",
     "text": [
      "   sleeping for 540s\n",
      "522 of 100000\n",
      "   recording for 60s; saving to /home/pi/good-vibrations/data/gpepp/2022-05-27T05:22:12.249.wav\n",
      "   uploading data to GitHub\n",
      "Already up to date.\n",
      "[main 59c6780] record_wav\n",
      " 2 files changed, 22 insertions(+)\n",
      " create mode 100644 data/gpepp/2022-05-27T05:22:12.249.wav\n"
     ]
    },
    {
     "name": "stderr",
     "output_type": "stream",
     "text": [
      "To https://github.com/aubreymoore/good-vibrations.git\n",
      "   37ae0e6..59c6780  main -> main\n"
     ]
    },
    {
     "name": "stdout",
     "output_type": "stream",
     "text": [
      "   sleeping for 540s\n",
      "523 of 100000\n",
      "   recording for 60s; saving to /home/pi/good-vibrations/data/gpepp/2022-05-27T05:32:21.769.wav\n",
      "   uploading data to GitHub\n",
      "Already up to date.\n",
      "[main c5b195a] record_wav\n",
      " 2 files changed, 25 insertions(+), 1 deletion(-)\n",
      " create mode 100644 data/gpepp/2022-05-27T05:32:21.769.wav\n"
     ]
    },
    {
     "name": "stderr",
     "output_type": "stream",
     "text": [
      "To https://github.com/aubreymoore/good-vibrations.git\n",
      "   59c6780..c5b195a  main -> main\n"
     ]
    },
    {
     "name": "stdout",
     "output_type": "stream",
     "text": [
      "   sleeping for 540s\n",
      "524 of 100000\n",
      "   recording for 60s; saving to /home/pi/good-vibrations/data/gpepp/2022-05-27T05:42:28.914.wav\n",
      "   uploading data to GitHub\n",
      "Already up to date.\n",
      "[main f63040f] record_wav\n",
      " 2 files changed, 23 insertions(+), 1 deletion(-)\n",
      " create mode 100644 data/gpepp/2022-05-27T05:42:28.914.wav\n"
     ]
    },
    {
     "name": "stderr",
     "output_type": "stream",
     "text": [
      "To https://github.com/aubreymoore/good-vibrations.git\n",
      "   c5b195a..f63040f  main -> main\n"
     ]
    },
    {
     "name": "stdout",
     "output_type": "stream",
     "text": [
      "   sleeping for 540s\n",
      "525 of 100000\n",
      "   recording for 60s; saving to /home/pi/good-vibrations/data/gpepp/2022-05-27T05:52:35.795.wav\n",
      "   uploading data to GitHub\n",
      "Already up to date.\n",
      "[main 459d5fc] record_wav\n",
      " 2 files changed, 23 insertions(+), 1 deletion(-)\n",
      " create mode 100644 data/gpepp/2022-05-27T05:52:35.795.wav\n"
     ]
    },
    {
     "name": "stderr",
     "output_type": "stream",
     "text": [
      "To https://github.com/aubreymoore/good-vibrations.git\n",
      "   f63040f..459d5fc  main -> main\n"
     ]
    },
    {
     "name": "stdout",
     "output_type": "stream",
     "text": [
      "   sleeping for 540s\n",
      "526 of 100000\n",
      "   recording for 60s; saving to /home/pi/good-vibrations/data/gpepp/2022-05-27T06:02:42.583.wav\n",
      "   uploading data to GitHub\n",
      "Already up to date.\n",
      "[main 98a7a3a] record_wav\n",
      " 2 files changed, 23 insertions(+), 1 deletion(-)\n",
      " create mode 100644 data/gpepp/2022-05-27T06:02:42.583.wav\n"
     ]
    },
    {
     "name": "stderr",
     "output_type": "stream",
     "text": [
      "To https://github.com/aubreymoore/good-vibrations.git\n",
      "   459d5fc..98a7a3a  main -> main\n"
     ]
    },
    {
     "name": "stdout",
     "output_type": "stream",
     "text": [
      "   sleeping for 540s\n",
      "527 of 100000\n",
      "   recording for 60s; saving to /home/pi/good-vibrations/data/gpepp/2022-05-27T06:12:50.844.wav\n",
      "   uploading data to GitHub\n",
      "Already up to date.\n",
      "[main ad1f6a3] record_wav\n",
      " 2 files changed, 23 insertions(+), 1 deletion(-)\n",
      " create mode 100644 data/gpepp/2022-05-27T06:12:50.844.wav\n"
     ]
    },
    {
     "name": "stderr",
     "output_type": "stream",
     "text": [
      "To https://github.com/aubreymoore/good-vibrations.git\n",
      "   98a7a3a..ad1f6a3  main -> main\n"
     ]
    },
    {
     "name": "stdout",
     "output_type": "stream",
     "text": [
      "   sleeping for 540s\n",
      "528 of 100000\n",
      "   recording for 60s; saving to /home/pi/good-vibrations/data/gpepp/2022-05-27T06:22:57.939.wav\n",
      "   uploading data to GitHub\n",
      "Already up to date.\n",
      "[main b3c6947] record_wav\n",
      " 2 files changed, 23 insertions(+), 1 deletion(-)\n",
      " create mode 100644 data/gpepp/2022-05-27T06:22:57.939.wav\n"
     ]
    },
    {
     "name": "stderr",
     "output_type": "stream",
     "text": [
      "To https://github.com/aubreymoore/good-vibrations.git\n",
      "   ad1f6a3..b3c6947  main -> main\n"
     ]
    },
    {
     "name": "stdout",
     "output_type": "stream",
     "text": [
      "   sleeping for 540s\n",
      "529 of 100000\n",
      "   recording for 60s; saving to /home/pi/good-vibrations/data/gpepp/2022-05-27T06:33:05.091.wav\n",
      "   uploading data to GitHub\n",
      "Already up to date.\n",
      "[main c38076c] record_wav\n",
      " 2 files changed, 23 insertions(+), 1 deletion(-)\n",
      " create mode 100644 data/gpepp/2022-05-27T06:33:05.091.wav\n"
     ]
    },
    {
     "name": "stderr",
     "output_type": "stream",
     "text": [
      "To https://github.com/aubreymoore/good-vibrations.git\n",
      "   b3c6947..c38076c  main -> main\n"
     ]
    },
    {
     "name": "stdout",
     "output_type": "stream",
     "text": [
      "   sleeping for 540s\n",
      "530 of 100000\n",
      "   recording for 60s; saving to /home/pi/good-vibrations/data/gpepp/2022-05-27T06:43:11.871.wav\n",
      "   uploading data to GitHub\n",
      "Already up to date.\n",
      "[main ea7b5c1] record_wav\n",
      " 2 files changed, 23 insertions(+), 1 deletion(-)\n",
      " create mode 100644 data/gpepp/2022-05-27T06:43:11.871.wav\n"
     ]
    },
    {
     "name": "stderr",
     "output_type": "stream",
     "text": [
      "To https://github.com/aubreymoore/good-vibrations.git\n",
      "   c38076c..ea7b5c1  main -> main\n"
     ]
    },
    {
     "name": "stdout",
     "output_type": "stream",
     "text": [
      "   sleeping for 540s\n",
      "531 of 100000\n",
      "   recording for 60s; saving to /home/pi/good-vibrations/data/gpepp/2022-05-27T06:53:19.862.wav\n",
      "   uploading data to GitHub\n",
      "Already up to date.\n",
      "[main 8a515b7] record_wav\n",
      " 2 files changed, 23 insertions(+), 1 deletion(-)\n",
      " create mode 100644 data/gpepp/2022-05-27T06:53:19.862.wav\n"
     ]
    },
    {
     "name": "stderr",
     "output_type": "stream",
     "text": [
      "To https://github.com/aubreymoore/good-vibrations.git\n",
      "   ea7b5c1..8a515b7  main -> main\n"
     ]
    },
    {
     "name": "stdout",
     "output_type": "stream",
     "text": [
      "   sleeping for 540s\n",
      "532 of 100000\n",
      "   recording for 60s; saving to /home/pi/good-vibrations/data/gpepp/2022-05-27T07:03:27.049.wav\n",
      "   uploading data to GitHub\n",
      "Already up to date.\n",
      "[main 00bfcaa] record_wav\n",
      " 2 files changed, 23 insertions(+), 1 deletion(-)\n",
      " create mode 100644 data/gpepp/2022-05-27T07:03:27.049.wav\n"
     ]
    },
    {
     "name": "stderr",
     "output_type": "stream",
     "text": [
      "To https://github.com/aubreymoore/good-vibrations.git\n",
      "   8a515b7..00bfcaa  main -> main\n"
     ]
    },
    {
     "name": "stdout",
     "output_type": "stream",
     "text": [
      "   sleeping for 540s\n",
      "533 of 100000\n",
      "   recording for 60s; saving to /home/pi/good-vibrations/data/gpepp/2022-05-27T07:13:34.509.wav\n",
      "   uploading data to GitHub\n",
      "Already up to date.\n",
      "[main e0a8246] record_wav\n",
      " 2 files changed, 23 insertions(+), 1 deletion(-)\n",
      " create mode 100644 data/gpepp/2022-05-27T07:13:34.509.wav\n"
     ]
    },
    {
     "name": "stderr",
     "output_type": "stream",
     "text": [
      "To https://github.com/aubreymoore/good-vibrations.git\n",
      "   00bfcaa..e0a8246  main -> main\n"
     ]
    },
    {
     "name": "stdout",
     "output_type": "stream",
     "text": [
      "   sleeping for 540s\n",
      "534 of 100000\n",
      "   recording for 60s; saving to /home/pi/good-vibrations/data/gpepp/2022-05-27T07:23:41.614.wav\n",
      "   uploading data to GitHub\n",
      "Already up to date.\n",
      "[main 954d096] record_wav\n",
      " 2 files changed, 23 insertions(+), 1 deletion(-)\n",
      " create mode 100644 data/gpepp/2022-05-27T07:23:41.614.wav\n"
     ]
    },
    {
     "name": "stderr",
     "output_type": "stream",
     "text": [
      "To https://github.com/aubreymoore/good-vibrations.git\n",
      "   e0a8246..954d096  main -> main\n"
     ]
    },
    {
     "name": "stdout",
     "output_type": "stream",
     "text": [
      "   sleeping for 540s\n",
      "535 of 100000\n",
      "   recording for 60s; saving to /home/pi/good-vibrations/data/gpepp/2022-05-27T07:33:49.359.wav\n",
      "   uploading data to GitHub\n",
      "Already up to date.\n",
      "[main 19dc4ba] record_wav\n",
      " 2 files changed, 21 insertions(+), 1 deletion(-)\n",
      " create mode 100644 data/gpepp/2022-05-27T07:33:49.359.wav\n"
     ]
    },
    {
     "name": "stderr",
     "output_type": "stream",
     "text": [
      "To https://github.com/aubreymoore/good-vibrations.git\n",
      "   954d096..19dc4ba  main -> main\n"
     ]
    },
    {
     "name": "stdout",
     "output_type": "stream",
     "text": [
      "   sleeping for 540s\n",
      "536 of 100000\n",
      "   recording for 60s; saving to /home/pi/good-vibrations/data/gpepp/2022-05-27T07:43:56.319.wav\n",
      "   uploading data to GitHub\n",
      "Already up to date.\n",
      "[main acecab9] record_wav\n",
      " 2 files changed, 22 insertions(+)\n",
      " create mode 100644 data/gpepp/2022-05-27T07:43:56.319.wav\n"
     ]
    },
    {
     "name": "stderr",
     "output_type": "stream",
     "text": [
      "To https://github.com/aubreymoore/good-vibrations.git\n",
      "   19dc4ba..acecab9  main -> main\n"
     ]
    },
    {
     "name": "stdout",
     "output_type": "stream",
     "text": [
      "   sleeping for 540s\n",
      "537 of 100000\n",
      "   recording for 60s; saving to /home/pi/good-vibrations/data/gpepp/2022-05-27T07:54:03.140.wav\n",
      "   uploading data to GitHub\n",
      "Already up to date.\n",
      "[main 25f60c4] record_wav\n",
      " 2 files changed, 22 insertions(+)\n",
      " create mode 100644 data/gpepp/2022-05-27T07:54:03.140.wav\n"
     ]
    },
    {
     "name": "stderr",
     "output_type": "stream",
     "text": [
      "To https://github.com/aubreymoore/good-vibrations.git\n",
      "   acecab9..25f60c4  main -> main\n"
     ]
    },
    {
     "name": "stdout",
     "output_type": "stream",
     "text": [
      "   sleeping for 540s\n",
      "538 of 100000\n",
      "   recording for 60s; saving to /home/pi/good-vibrations/data/gpepp/2022-05-27T08:04:10.074.wav\n",
      "   uploading data to GitHub\n",
      "Already up to date.\n",
      "[main 3ad1c5d] record_wav\n",
      " 2 files changed, 22 insertions(+)\n",
      " create mode 100644 data/gpepp/2022-05-27T08:04:10.074.wav\n"
     ]
    },
    {
     "name": "stderr",
     "output_type": "stream",
     "text": [
      "To https://github.com/aubreymoore/good-vibrations.git\n",
      "   25f60c4..3ad1c5d  main -> main\n"
     ]
    },
    {
     "name": "stdout",
     "output_type": "stream",
     "text": [
      "   sleeping for 540s\n",
      "539 of 100000\n",
      "   recording for 60s; saving to /home/pi/good-vibrations/data/gpepp/2022-05-27T08:14:16.868.wav\n",
      "   uploading data to GitHub\n",
      "Already up to date.\n",
      "[main 5e15fee] record_wav\n",
      " 2 files changed, 22 insertions(+)\n",
      " create mode 100644 data/gpepp/2022-05-27T08:14:16.868.wav\n"
     ]
    },
    {
     "name": "stderr",
     "output_type": "stream",
     "text": [
      "To https://github.com/aubreymoore/good-vibrations.git\n",
      "   3ad1c5d..5e15fee  main -> main\n"
     ]
    },
    {
     "name": "stdout",
     "output_type": "stream",
     "text": [
      "   sleeping for 540s\n",
      "540 of 100000\n",
      "   recording for 60s; saving to /home/pi/good-vibrations/data/gpepp/2022-05-27T08:24:24.201.wav\n",
      "   uploading data to GitHub\n",
      "Already up to date.\n",
      "[main d05c88d] record_wav\n",
      " 2 files changed, 22 insertions(+)\n",
      " create mode 100644 data/gpepp/2022-05-27T08:24:24.201.wav\n"
     ]
    },
    {
     "name": "stderr",
     "output_type": "stream",
     "text": [
      "To https://github.com/aubreymoore/good-vibrations.git\n",
      "   5e15fee..d05c88d  main -> main\n"
     ]
    },
    {
     "name": "stdout",
     "output_type": "stream",
     "text": [
      "   sleeping for 540s\n",
      "541 of 100000\n",
      "   recording for 60s; saving to /home/pi/good-vibrations/data/gpepp/2022-05-27T08:34:30.983.wav\n",
      "   uploading data to GitHub\n",
      "Already up to date.\n",
      "[main bcd3bdf] record_wav\n",
      " 2 files changed, 22 insertions(+)\n",
      " create mode 100644 data/gpepp/2022-05-27T08:34:30.983.wav\n"
     ]
    },
    {
     "name": "stderr",
     "output_type": "stream",
     "text": [
      "To https://github.com/aubreymoore/good-vibrations.git\n",
      "   d05c88d..bcd3bdf  main -> main\n"
     ]
    },
    {
     "name": "stdout",
     "output_type": "stream",
     "text": [
      "   sleeping for 540s\n",
      "542 of 100000\n",
      "   recording for 60s; saving to /home/pi/good-vibrations/data/gpepp/2022-05-27T08:44:38.079.wav\n",
      "   uploading data to GitHub\n",
      "Already up to date.\n",
      "[main ced6eb8] record_wav\n",
      " 2 files changed, 22 insertions(+)\n",
      " create mode 100644 data/gpepp/2022-05-27T08:44:38.079.wav\n"
     ]
    },
    {
     "name": "stderr",
     "output_type": "stream",
     "text": [
      "To https://github.com/aubreymoore/good-vibrations.git\n",
      "   bcd3bdf..ced6eb8  main -> main\n"
     ]
    },
    {
     "name": "stdout",
     "output_type": "stream",
     "text": [
      "   sleeping for 540s\n",
      "543 of 100000\n",
      "   recording for 60s; saving to /home/pi/good-vibrations/data/gpepp/2022-05-27T08:54:46.969.wav\n",
      "   uploading data to GitHub\n",
      "Already up to date.\n",
      "[main c8f3e25] record_wav\n",
      " 2 files changed, 22 insertions(+)\n",
      " create mode 100644 data/gpepp/2022-05-27T08:54:46.969.wav\n"
     ]
    },
    {
     "name": "stderr",
     "output_type": "stream",
     "text": [
      "To https://github.com/aubreymoore/good-vibrations.git\n",
      "   ced6eb8..c8f3e25  main -> main\n"
     ]
    },
    {
     "name": "stdout",
     "output_type": "stream",
     "text": [
      "   sleeping for 540s\n",
      "544 of 100000\n",
      "   recording for 60s; saving to /home/pi/good-vibrations/data/gpepp/2022-05-27T09:04:53.949.wav\n",
      "   uploading data to GitHub\n",
      "Already up to date.\n",
      "[main 0c19873] record_wav\n",
      " 2 files changed, 22 insertions(+)\n",
      " create mode 100644 data/gpepp/2022-05-27T09:04:53.949.wav\n"
     ]
    },
    {
     "name": "stderr",
     "output_type": "stream",
     "text": [
      "To https://github.com/aubreymoore/good-vibrations.git\n",
      "   c8f3e25..0c19873  main -> main\n"
     ]
    },
    {
     "name": "stdout",
     "output_type": "stream",
     "text": [
      "   sleeping for 540s\n",
      "545 of 100000\n",
      "   recording for 60s; saving to /home/pi/good-vibrations/data/gpepp/2022-05-27T09:15:01.049.wav\n",
      "   uploading data to GitHub\n",
      "Already up to date.\n",
      "[main cacaf2b] record_wav\n",
      " 2 files changed, 22 insertions(+)\n",
      " create mode 100644 data/gpepp/2022-05-27T09:15:01.049.wav\n"
     ]
    },
    {
     "name": "stderr",
     "output_type": "stream",
     "text": [
      "To https://github.com/aubreymoore/good-vibrations.git\n",
      "   0c19873..cacaf2b  main -> main\n"
     ]
    },
    {
     "name": "stdout",
     "output_type": "stream",
     "text": [
      "   sleeping for 540s\n",
      "546 of 100000\n",
      "   recording for 60s; saving to /home/pi/good-vibrations/data/gpepp/2022-05-27T09:25:07.939.wav\n",
      "   uploading data to GitHub\n",
      "Already up to date.\n",
      "[main 3bc4df7] record_wav\n",
      " 2 files changed, 25 insertions(+), 1 deletion(-)\n",
      " create mode 100644 data/gpepp/2022-05-27T09:25:07.939.wav\n"
     ]
    },
    {
     "name": "stderr",
     "output_type": "stream",
     "text": [
      "To https://github.com/aubreymoore/good-vibrations.git\n",
      "   cacaf2b..3bc4df7  main -> main\n"
     ]
    },
    {
     "name": "stdout",
     "output_type": "stream",
     "text": [
      "   sleeping for 540s\n",
      "547 of 100000\n",
      "   recording for 60s; saving to /home/pi/good-vibrations/data/gpepp/2022-05-27T09:35:15.249.wav\n",
      "   uploading data to GitHub\n",
      "Already up to date.\n",
      "[main 0ddd996] record_wav\n",
      " 2 files changed, 23 insertions(+), 1 deletion(-)\n",
      " create mode 100644 data/gpepp/2022-05-27T09:35:15.249.wav\n"
     ]
    },
    {
     "name": "stderr",
     "output_type": "stream",
     "text": [
      "To https://github.com/aubreymoore/good-vibrations.git\n",
      "   3bc4df7..0ddd996  main -> main\n"
     ]
    },
    {
     "name": "stdout",
     "output_type": "stream",
     "text": [
      "   sleeping for 540s\n",
      "548 of 100000\n",
      "   recording for 60s; saving to /home/pi/good-vibrations/data/gpepp/2022-05-27T09:45:22.429.wav\n",
      "   uploading data to GitHub\n",
      "Already up to date.\n",
      "[main 01dac6e] record_wav\n",
      " 2 files changed, 23 insertions(+), 1 deletion(-)\n",
      " create mode 100644 data/gpepp/2022-05-27T09:45:22.429.wav\n"
     ]
    },
    {
     "name": "stderr",
     "output_type": "stream",
     "text": [
      "To https://github.com/aubreymoore/good-vibrations.git\n",
      "   0ddd996..01dac6e  main -> main\n"
     ]
    },
    {
     "name": "stdout",
     "output_type": "stream",
     "text": [
      "   sleeping for 540s\n",
      "549 of 100000\n",
      "   recording for 60s; saving to /home/pi/good-vibrations/data/gpepp/2022-05-27T09:55:30.409.wav\n",
      "   uploading data to GitHub\n",
      "Already up to date.\n",
      "[main 39755ba] record_wav\n",
      " 2 files changed, 23 insertions(+), 1 deletion(-)\n",
      " create mode 100644 data/gpepp/2022-05-27T09:55:30.409.wav\n"
     ]
    },
    {
     "name": "stderr",
     "output_type": "stream",
     "text": [
      "To https://github.com/aubreymoore/good-vibrations.git\n",
      "   01dac6e..39755ba  main -> main\n"
     ]
    },
    {
     "name": "stdout",
     "output_type": "stream",
     "text": [
      "   sleeping for 540s\n",
      "550 of 100000\n",
      "   recording for 60s; saving to /home/pi/good-vibrations/data/gpepp/2022-05-27T10:05:37.422.wav\n",
      "   uploading data to GitHub\n",
      "Already up to date.\n",
      "[main 3259f0b] record_wav\n",
      " 2 files changed, 23 insertions(+), 1 deletion(-)\n",
      " create mode 100644 data/gpepp/2022-05-27T10:05:37.422.wav\n"
     ]
    },
    {
     "name": "stderr",
     "output_type": "stream",
     "text": [
      "To https://github.com/aubreymoore/good-vibrations.git\n",
      "   39755ba..3259f0b  main -> main\n"
     ]
    },
    {
     "name": "stdout",
     "output_type": "stream",
     "text": [
      "   sleeping for 540s\n",
      "551 of 100000\n",
      "   recording for 60s; saving to /home/pi/good-vibrations/data/gpepp/2022-05-27T10:15:46.369.wav\n",
      "   uploading data to GitHub\n",
      "Already up to date.\n",
      "[main c15a51c] record_wav\n",
      " 2 files changed, 23 insertions(+), 1 deletion(-)\n",
      " create mode 100644 data/gpepp/2022-05-27T10:15:46.369.wav\n"
     ]
    },
    {
     "name": "stderr",
     "output_type": "stream",
     "text": [
      "To https://github.com/aubreymoore/good-vibrations.git\n",
      "   3259f0b..c15a51c  main -> main\n"
     ]
    },
    {
     "name": "stdout",
     "output_type": "stream",
     "text": [
      "   sleeping for 540s\n",
      "552 of 100000\n",
      "   recording for 60s; saving to /home/pi/good-vibrations/data/gpepp/2022-05-27T10:25:53.499.wav\n",
      "   uploading data to GitHub\n",
      "Already up to date.\n",
      "[main 57b751e] record_wav\n",
      " 2 files changed, 23 insertions(+), 1 deletion(-)\n",
      " create mode 100644 data/gpepp/2022-05-27T10:25:53.499.wav\n"
     ]
    },
    {
     "name": "stderr",
     "output_type": "stream",
     "text": [
      "To https://github.com/aubreymoore/good-vibrations.git\n",
      "   c15a51c..57b751e  main -> main\n"
     ]
    },
    {
     "name": "stdout",
     "output_type": "stream",
     "text": [
      "   sleeping for 540s\n",
      "553 of 100000\n",
      "   recording for 60s; saving to /home/pi/good-vibrations/data/gpepp/2022-05-27T10:36:00.615.wav\n",
      "   uploading data to GitHub\n",
      "Already up to date.\n",
      "[main 4f0e027] record_wav\n",
      " 2 files changed, 23 insertions(+), 1 deletion(-)\n",
      " create mode 100644 data/gpepp/2022-05-27T10:36:00.615.wav\n"
     ]
    },
    {
     "name": "stderr",
     "output_type": "stream",
     "text": [
      "To https://github.com/aubreymoore/good-vibrations.git\n",
      "   57b751e..4f0e027  main -> main\n"
     ]
    },
    {
     "name": "stdout",
     "output_type": "stream",
     "text": [
      "   sleeping for 540s\n",
      "554 of 100000\n",
      "   recording for 60s; saving to /home/pi/good-vibrations/data/gpepp/2022-05-27T10:46:11.509.wav\n",
      "   uploading data to GitHub\n",
      "Already up to date.\n",
      "[main 356572a] record_wav\n",
      " 2 files changed, 23 insertions(+), 1 deletion(-)\n",
      " create mode 100644 data/gpepp/2022-05-27T10:46:11.509.wav\n"
     ]
    },
    {
     "name": "stderr",
     "output_type": "stream",
     "text": [
      "To https://github.com/aubreymoore/good-vibrations.git\n",
      "   4f0e027..356572a  main -> main\n"
     ]
    },
    {
     "name": "stdout",
     "output_type": "stream",
     "text": [
      "   sleeping for 540s\n",
      "555 of 100000\n",
      "   recording for 60s; saving to /home/pi/good-vibrations/data/gpepp/2022-05-27T10:56:18.149.wav\n",
      "   uploading data to GitHub\n",
      "Already up to date.\n",
      "[main c610c6d] record_wav\n",
      " 2 files changed, 23 insertions(+), 1 deletion(-)\n",
      " create mode 100644 data/gpepp/2022-05-27T10:56:18.149.wav\n"
     ]
    },
    {
     "name": "stderr",
     "output_type": "stream",
     "text": [
      "To https://github.com/aubreymoore/good-vibrations.git\n",
      "   356572a..c610c6d  main -> main\n"
     ]
    },
    {
     "name": "stdout",
     "output_type": "stream",
     "text": [
      "   sleeping for 540s\n",
      "556 of 100000\n",
      "   recording for 60s; saving to /home/pi/good-vibrations/data/gpepp/2022-05-27T11:06:24.960.wav\n",
      "   uploading data to GitHub\n",
      "Already up to date.\n",
      "[main 9616303] record_wav\n",
      " 2 files changed, 23 insertions(+), 1 deletion(-)\n",
      " create mode 100644 data/gpepp/2022-05-27T11:06:24.960.wav\n"
     ]
    },
    {
     "name": "stderr",
     "output_type": "stream",
     "text": [
      "To https://github.com/aubreymoore/good-vibrations.git\n",
      "   c610c6d..9616303  main -> main\n"
     ]
    },
    {
     "name": "stdout",
     "output_type": "stream",
     "text": [
      "   sleeping for 540s\n",
      "557 of 100000\n",
      "   recording for 60s; saving to /home/pi/good-vibrations/data/gpepp/2022-05-27T11:16:31.790.wav\n",
      "   uploading data to GitHub\n",
      "Already up to date.\n",
      "[main f0b8217] record_wav\n",
      " 2 files changed, 23 insertions(+), 1 deletion(-)\n",
      " create mode 100644 data/gpepp/2022-05-27T11:16:31.790.wav\n"
     ]
    },
    {
     "name": "stderr",
     "output_type": "stream",
     "text": [
      "To https://github.com/aubreymoore/good-vibrations.git\n",
      "   9616303..f0b8217  main -> main\n"
     ]
    },
    {
     "name": "stdout",
     "output_type": "stream",
     "text": [
      "   sleeping for 540s\n",
      "558 of 100000\n",
      "   recording for 60s; saving to /home/pi/good-vibrations/data/gpepp/2022-05-27T11:26:38.749.wav\n",
      "   uploading data to GitHub\n",
      "Already up to date.\n",
      "[main 4f55126] record_wav\n",
      " 2 files changed, 21 insertions(+), 1 deletion(-)\n",
      " create mode 100644 data/gpepp/2022-05-27T11:26:38.749.wav\n"
     ]
    },
    {
     "name": "stderr",
     "output_type": "stream",
     "text": [
      "To https://github.com/aubreymoore/good-vibrations.git\n",
      "   f0b8217..4f55126  main -> main\n"
     ]
    },
    {
     "name": "stdout",
     "output_type": "stream",
     "text": [
      "   sleeping for 540s\n",
      "559 of 100000\n",
      "   recording for 60s; saving to /home/pi/good-vibrations/data/gpepp/2022-05-27T11:36:47.929.wav\n",
      "   uploading data to GitHub\n",
      "Already up to date.\n",
      "[main 6821baf] record_wav\n",
      " 2 files changed, 22 insertions(+)\n",
      " create mode 100644 data/gpepp/2022-05-27T11:36:47.929.wav\n"
     ]
    },
    {
     "name": "stderr",
     "output_type": "stream",
     "text": [
      "To https://github.com/aubreymoore/good-vibrations.git\n",
      "   4f55126..6821baf  main -> main\n"
     ]
    },
    {
     "name": "stdout",
     "output_type": "stream",
     "text": [
      "   sleeping for 540s\n",
      "560 of 100000\n",
      "   recording for 60s; saving to /home/pi/good-vibrations/data/gpepp/2022-05-27T11:46:54.749.wav\n",
      "   uploading data to GitHub\n",
      "Already up to date.\n",
      "[main 24042bc] record_wav\n",
      " 2 files changed, 22 insertions(+)\n",
      " create mode 100644 data/gpepp/2022-05-27T11:46:54.749.wav\n"
     ]
    },
    {
     "name": "stderr",
     "output_type": "stream",
     "text": [
      "To https://github.com/aubreymoore/good-vibrations.git\n",
      "   6821baf..24042bc  main -> main\n"
     ]
    },
    {
     "name": "stdout",
     "output_type": "stream",
     "text": [
      "   sleeping for 540s\n",
      "561 of 100000\n",
      "   recording for 60s; saving to /home/pi/good-vibrations/data/gpepp/2022-05-27T11:57:01.909.wav\n",
      "   uploading data to GitHub\n",
      "Already up to date.\n",
      "[main 9799676] record_wav\n",
      " 2 files changed, 22 insertions(+)\n",
      " create mode 100644 data/gpepp/2022-05-27T11:57:01.909.wav\n"
     ]
    },
    {
     "name": "stderr",
     "output_type": "stream",
     "text": [
      "To https://github.com/aubreymoore/good-vibrations.git\n",
      "   24042bc..9799676  main -> main\n"
     ]
    },
    {
     "name": "stdout",
     "output_type": "stream",
     "text": [
      "   sleeping for 540s\n",
      "562 of 100000\n",
      "   recording for 60s; saving to /home/pi/good-vibrations/data/gpepp/2022-05-27T12:07:08.939.wav\n",
      "   uploading data to GitHub\n",
      "Already up to date.\n",
      "[main 5106a38] record_wav\n",
      " 2 files changed, 22 insertions(+)\n",
      " create mode 100644 data/gpepp/2022-05-27T12:07:08.939.wav\n"
     ]
    },
    {
     "name": "stderr",
     "output_type": "stream",
     "text": [
      "To https://github.com/aubreymoore/good-vibrations.git\n",
      "   9799676..5106a38  main -> main\n"
     ]
    },
    {
     "name": "stdout",
     "output_type": "stream",
     "text": [
      "   sleeping for 540s\n",
      "563 of 100000\n",
      "   recording for 60s; saving to /home/pi/good-vibrations/data/gpepp/2022-05-27T12:17:15.999.wav\n",
      "   uploading data to GitHub\n",
      "Already up to date.\n",
      "[main 0e8ed0c] record_wav\n",
      " 2 files changed, 22 insertions(+)\n",
      " create mode 100644 data/gpepp/2022-05-27T12:17:15.999.wav\n"
     ]
    },
    {
     "name": "stderr",
     "output_type": "stream",
     "text": [
      "To https://github.com/aubreymoore/good-vibrations.git\n",
      "   5106a38..0e8ed0c  main -> main\n"
     ]
    },
    {
     "name": "stdout",
     "output_type": "stream",
     "text": [
      "   sleeping for 540s\n",
      "564 of 100000\n",
      "   recording for 60s; saving to /home/pi/good-vibrations/data/gpepp/2022-05-27T12:27:22.969.wav\n",
      "   uploading data to GitHub\n",
      "Already up to date.\n",
      "[main 6f41ed1] record_wav\n",
      " 2 files changed, 22 insertions(+)\n",
      " create mode 100644 data/gpepp/2022-05-27T12:27:22.969.wav\n"
     ]
    },
    {
     "name": "stderr",
     "output_type": "stream",
     "text": [
      "To https://github.com/aubreymoore/good-vibrations.git\n",
      "   0e8ed0c..6f41ed1  main -> main\n"
     ]
    },
    {
     "name": "stdout",
     "output_type": "stream",
     "text": [
      "   sleeping for 540s\n",
      "565 of 100000\n",
      "   recording for 60s; saving to /home/pi/good-vibrations/data/gpepp/2022-05-27T12:37:29.319.wav\n",
      "   uploading data to GitHub\n",
      "Already up to date.\n",
      "[main d24e9b1] record_wav\n",
      " 2 files changed, 22 insertions(+)\n",
      " create mode 100644 data/gpepp/2022-05-27T12:37:29.319.wav\n"
     ]
    },
    {
     "name": "stderr",
     "output_type": "stream",
     "text": [
      "To https://github.com/aubreymoore/good-vibrations.git\n",
      "   6f41ed1..d24e9b1  main -> main\n"
     ]
    },
    {
     "name": "stdout",
     "output_type": "stream",
     "text": [
      "   sleeping for 540s\n",
      "566 of 100000\n",
      "   recording for 60s; saving to /home/pi/good-vibrations/data/gpepp/2022-05-27T12:47:35.749.wav\n",
      "   uploading data to GitHub\n",
      "Already up to date.\n",
      "[main 44b04b4] record_wav\n",
      " 2 files changed, 22 insertions(+)\n",
      " create mode 100644 data/gpepp/2022-05-27T12:47:35.749.wav\n"
     ]
    },
    {
     "name": "stderr",
     "output_type": "stream",
     "text": [
      "To https://github.com/aubreymoore/good-vibrations.git\n",
      "   d24e9b1..44b04b4  main -> main\n"
     ]
    },
    {
     "name": "stdout",
     "output_type": "stream",
     "text": [
      "   sleeping for 540s\n",
      "567 of 100000\n",
      "   recording for 60s; saving to /home/pi/good-vibrations/data/gpepp/2022-05-27T12:57:42.119.wav\n",
      "   uploading data to GitHub\n",
      "Already up to date.\n",
      "[main 082ae02] record_wav\n",
      " 2 files changed, 22 insertions(+)\n",
      " create mode 100644 data/gpepp/2022-05-27T12:57:42.119.wav\n"
     ]
    },
    {
     "name": "stderr",
     "output_type": "stream",
     "text": [
      "To https://github.com/aubreymoore/good-vibrations.git\n",
      "   44b04b4..082ae02  main -> main\n"
     ]
    },
    {
     "name": "stdout",
     "output_type": "stream",
     "text": [
      "   sleeping for 540s\n",
      "568 of 100000\n",
      "   recording for 60s; saving to /home/pi/good-vibrations/data/gpepp/2022-05-27T13:07:50.138.wav\n",
      "   uploading data to GitHub\n",
      "Already up to date.\n",
      "[main 256159d] record_wav\n",
      " 2 files changed, 22 insertions(+)\n",
      " create mode 100644 data/gpepp/2022-05-27T13:07:50.138.wav\n"
     ]
    },
    {
     "name": "stderr",
     "output_type": "stream",
     "text": [
      "To https://github.com/aubreymoore/good-vibrations.git\n",
      "   082ae02..256159d  main -> main\n"
     ]
    },
    {
     "name": "stdout",
     "output_type": "stream",
     "text": [
      "   sleeping for 540s\n",
      "569 of 100000\n",
      "   recording for 60s; saving to /home/pi/good-vibrations/data/gpepp/2022-05-27T13:17:57.652.wav\n",
      "   uploading data to GitHub\n",
      "Already up to date.\n",
      "[main 7da7a6c] record_wav\n",
      " 2 files changed, 22 insertions(+)\n",
      " create mode 100644 data/gpepp/2022-05-27T13:17:57.652.wav\n"
     ]
    },
    {
     "name": "stderr",
     "output_type": "stream",
     "text": [
      "To https://github.com/aubreymoore/good-vibrations.git\n",
      "   256159d..7da7a6c  main -> main\n"
     ]
    },
    {
     "name": "stdout",
     "output_type": "stream",
     "text": [
      "   sleeping for 540s\n",
      "570 of 100000\n",
      "   recording for 60s; saving to /home/pi/good-vibrations/data/gpepp/2022-05-27T13:28:05.029.wav\n",
      "   uploading data to GitHub\n",
      "Already up to date.\n",
      "[main 8813344] record_wav\n",
      " 2 files changed, 25 insertions(+), 1 deletion(-)\n",
      " create mode 100644 data/gpepp/2022-05-27T13:28:05.029.wav\n"
     ]
    },
    {
     "name": "stderr",
     "output_type": "stream",
     "text": [
      "To https://github.com/aubreymoore/good-vibrations.git\n",
      "   7da7a6c..8813344  main -> main\n"
     ]
    },
    {
     "name": "stdout",
     "output_type": "stream",
     "text": [
      "   sleeping for 540s\n",
      "571 of 100000\n",
      "   recording for 60s; saving to /home/pi/good-vibrations/data/gpepp/2022-05-27T13:38:11.970.wav\n",
      "   uploading data to GitHub\n",
      "Already up to date.\n",
      "[main 8e58a63] record_wav\n",
      " 2 files changed, 23 insertions(+), 1 deletion(-)\n",
      " create mode 100644 data/gpepp/2022-05-27T13:38:11.970.wav\n"
     ]
    },
    {
     "name": "stderr",
     "output_type": "stream",
     "text": [
      "To https://github.com/aubreymoore/good-vibrations.git\n",
      "   8813344..8e58a63  main -> main\n"
     ]
    },
    {
     "name": "stdout",
     "output_type": "stream",
     "text": [
      "   sleeping for 540s\n",
      "572 of 100000\n",
      "   recording for 60s; saving to /home/pi/good-vibrations/data/gpepp/2022-05-27T13:48:18.836.wav\n",
      "   uploading data to GitHub\n",
      "Already up to date.\n",
      "[main aa1c2b6] record_wav\n",
      " 2 files changed, 23 insertions(+), 1 deletion(-)\n",
      " create mode 100644 data/gpepp/2022-05-27T13:48:18.836.wav\n"
     ]
    },
    {
     "name": "stderr",
     "output_type": "stream",
     "text": [
      "To https://github.com/aubreymoore/good-vibrations.git\n",
      "   8e58a63..aa1c2b6  main -> main\n"
     ]
    },
    {
     "name": "stdout",
     "output_type": "stream",
     "text": [
      "   sleeping for 540s\n",
      "573 of 100000\n",
      "   recording for 60s; saving to /home/pi/good-vibrations/data/gpepp/2022-05-27T13:58:25.792.wav\n",
      "   uploading data to GitHub\n",
      "Already up to date.\n",
      "[main 2b2cd64] record_wav\n",
      " 2 files changed, 23 insertions(+), 1 deletion(-)\n",
      " create mode 100644 data/gpepp/2022-05-27T13:58:25.792.wav\n"
     ]
    },
    {
     "name": "stderr",
     "output_type": "stream",
     "text": [
      "To https://github.com/aubreymoore/good-vibrations.git\n",
      "   aa1c2b6..2b2cd64  main -> main\n"
     ]
    },
    {
     "name": "stdout",
     "output_type": "stream",
     "text": [
      "   sleeping for 540s\n",
      "574 of 100000\n",
      "   recording for 60s; saving to /home/pi/good-vibrations/data/gpepp/2022-05-27T14:08:32.921.wav\n",
      "   uploading data to GitHub\n",
      "Already up to date.\n",
      "[main 908a50a] record_wav\n",
      " 2 files changed, 23 insertions(+), 1 deletion(-)\n",
      " create mode 100644 data/gpepp/2022-05-27T14:08:32.921.wav\n"
     ]
    },
    {
     "name": "stderr",
     "output_type": "stream",
     "text": [
      "To https://github.com/aubreymoore/good-vibrations.git\n",
      "   2b2cd64..908a50a  main -> main\n"
     ]
    },
    {
     "name": "stdout",
     "output_type": "stream",
     "text": [
      "   sleeping for 540s\n",
      "575 of 100000\n",
      "   recording for 60s; saving to /home/pi/good-vibrations/data/gpepp/2022-05-27T14:18:42.955.wav\n",
      "   uploading data to GitHub\n",
      "Already up to date.\n",
      "[main bd29b6e] record_wav\n",
      " 2 files changed, 23 insertions(+), 1 deletion(-)\n",
      " create mode 100644 data/gpepp/2022-05-27T14:18:42.955.wav\n"
     ]
    },
    {
     "name": "stderr",
     "output_type": "stream",
     "text": [
      "To https://github.com/aubreymoore/good-vibrations.git\n",
      "   908a50a..bd29b6e  main -> main\n"
     ]
    },
    {
     "name": "stdout",
     "output_type": "stream",
     "text": [
      "   sleeping for 540s\n",
      "576 of 100000\n",
      "   recording for 60s; saving to /home/pi/good-vibrations/data/gpepp/2022-05-27T14:28:50.754.wav\n",
      "   uploading data to GitHub\n",
      "Already up to date.\n",
      "[main bcebb55] record_wav\n",
      " 2 files changed, 23 insertions(+), 1 deletion(-)\n",
      " create mode 100644 data/gpepp/2022-05-27T14:28:50.754.wav\n"
     ]
    },
    {
     "name": "stderr",
     "output_type": "stream",
     "text": [
      "To https://github.com/aubreymoore/good-vibrations.git\n",
      "   bd29b6e..bcebb55  main -> main\n"
     ]
    },
    {
     "name": "stdout",
     "output_type": "stream",
     "text": [
      "   sleeping for 540s\n",
      "577 of 100000\n",
      "   recording for 60s; saving to /home/pi/good-vibrations/data/gpepp/2022-05-27T14:39:00.249.wav\n",
      "   uploading data to GitHub\n",
      "Already up to date.\n",
      "[main ba716f0] record_wav\n",
      " 2 files changed, 23 insertions(+), 1 deletion(-)\n",
      " create mode 100644 data/gpepp/2022-05-27T14:39:00.249.wav\n"
     ]
    },
    {
     "name": "stderr",
     "output_type": "stream",
     "text": [
      "To https://github.com/aubreymoore/good-vibrations.git\n",
      "   bcebb55..ba716f0  main -> main\n"
     ]
    },
    {
     "name": "stdout",
     "output_type": "stream",
     "text": [
      "   sleeping for 540s\n",
      "578 of 100000\n",
      "   recording for 60s; saving to /home/pi/good-vibrations/data/gpepp/2022-05-27T14:49:07.279.wav\n",
      "   uploading data to GitHub\n",
      "Already up to date.\n",
      "[main 0b3469c] record_wav\n",
      " 2 files changed, 23 insertions(+), 1 deletion(-)\n",
      " create mode 100644 data/gpepp/2022-05-27T14:49:07.279.wav\n"
     ]
    },
    {
     "name": "stderr",
     "output_type": "stream",
     "text": [
      "To https://github.com/aubreymoore/good-vibrations.git\n",
      "   ba716f0..0b3469c  main -> main\n"
     ]
    },
    {
     "name": "stdout",
     "output_type": "stream",
     "text": [
      "   sleeping for 540s\n",
      "579 of 100000\n",
      "   recording for 60s; saving to /home/pi/good-vibrations/data/gpepp/2022-05-27T14:59:14.249.wav\n",
      "   uploading data to GitHub\n",
      "Already up to date.\n",
      "[main 58fc23b] record_wav\n",
      " 2 files changed, 23 insertions(+), 1 deletion(-)\n",
      " create mode 100644 data/gpepp/2022-05-27T14:59:14.249.wav\n"
     ]
    },
    {
     "name": "stderr",
     "output_type": "stream",
     "text": [
      "To https://github.com/aubreymoore/good-vibrations.git\n",
      "   0b3469c..58fc23b  main -> main\n"
     ]
    },
    {
     "name": "stdout",
     "output_type": "stream",
     "text": [
      "   sleeping for 540s\n",
      "580 of 100000\n",
      "   recording for 60s; saving to /home/pi/good-vibrations/data/gpepp/2022-05-27T15:09:21.389.wav\n",
      "   uploading data to GitHub\n",
      "Already up to date.\n",
      "[main 9427fc8] record_wav\n",
      " 2 files changed, 23 insertions(+), 1 deletion(-)\n",
      " create mode 100644 data/gpepp/2022-05-27T15:09:21.389.wav\n"
     ]
    },
    {
     "name": "stderr",
     "output_type": "stream",
     "text": [
      "To https://github.com/aubreymoore/good-vibrations.git\n",
      "   58fc23b..9427fc8  main -> main\n"
     ]
    },
    {
     "name": "stdout",
     "output_type": "stream",
     "text": [
      "   sleeping for 540s\n",
      "581 of 100000\n",
      "   recording for 60s; saving to /home/pi/good-vibrations/data/gpepp/2022-05-27T15:19:28.549.wav\n",
      "   uploading data to GitHub\n",
      "Already up to date.\n",
      "[main 554c6b6] record_wav\n",
      " 2 files changed, 23 insertions(+), 1 deletion(-)\n",
      " create mode 100644 data/gpepp/2022-05-27T15:19:28.549.wav\n"
     ]
    },
    {
     "name": "stderr",
     "output_type": "stream",
     "text": [
      "To https://github.com/aubreymoore/good-vibrations.git\n",
      "   9427fc8..554c6b6  main -> main\n"
     ]
    },
    {
     "name": "stdout",
     "output_type": "stream",
     "text": [
      "   sleeping for 540s\n",
      "582 of 100000\n",
      "   recording for 60s; saving to /home/pi/good-vibrations/data/gpepp/2022-05-27T15:29:35.789.wav\n",
      "   uploading data to GitHub\n",
      "Already up to date.\n",
      "[main e9939ec] record_wav\n",
      " 2 files changed, 21 insertions(+), 1 deletion(-)\n",
      " create mode 100644 data/gpepp/2022-05-27T15:29:35.789.wav\n"
     ]
    },
    {
     "name": "stderr",
     "output_type": "stream",
     "text": [
      "To https://github.com/aubreymoore/good-vibrations.git\n",
      "   554c6b6..e9939ec  main -> main\n"
     ]
    },
    {
     "name": "stdout",
     "output_type": "stream",
     "text": [
      "   sleeping for 540s\n",
      "583 of 100000\n",
      "   recording for 60s; saving to /home/pi/good-vibrations/data/gpepp/2022-05-27T15:39:42.219.wav\n",
      "   uploading data to GitHub\n",
      "Already up to date.\n",
      "[main 7c287d9] record_wav\n",
      " 2 files changed, 22 insertions(+)\n",
      " create mode 100644 data/gpepp/2022-05-27T15:39:42.219.wav\n"
     ]
    },
    {
     "name": "stderr",
     "output_type": "stream",
     "text": [
      "To https://github.com/aubreymoore/good-vibrations.git\n",
      "   e9939ec..7c287d9  main -> main\n"
     ]
    },
    {
     "name": "stdout",
     "output_type": "stream",
     "text": [
      "   sleeping for 540s\n",
      "584 of 100000\n",
      "   recording for 60s; saving to /home/pi/good-vibrations/data/gpepp/2022-05-27T15:49:49.417.wav\n",
      "   uploading data to GitHub\n",
      "Already up to date.\n",
      "[main decc000] record_wav\n",
      " 2 files changed, 22 insertions(+)\n",
      " create mode 100644 data/gpepp/2022-05-27T15:49:49.417.wav\n"
     ]
    },
    {
     "name": "stderr",
     "output_type": "stream",
     "text": [
      "To https://github.com/aubreymoore/good-vibrations.git\n",
      "   7c287d9..decc000  main -> main\n"
     ]
    },
    {
     "name": "stdout",
     "output_type": "stream",
     "text": [
      "   sleeping for 540s\n",
      "585 of 100000\n",
      "   recording for 60s; saving to /home/pi/good-vibrations/data/gpepp/2022-05-27T15:59:55.469.wav\n",
      "   uploading data to GitHub\n",
      "Already up to date.\n",
      "[main 94aa491] record_wav\n",
      " 2 files changed, 22 insertions(+)\n",
      " create mode 100644 data/gpepp/2022-05-27T15:59:55.469.wav\n"
     ]
    },
    {
     "name": "stderr",
     "output_type": "stream",
     "text": [
      "To https://github.com/aubreymoore/good-vibrations.git\n",
      "   decc000..94aa491  main -> main\n"
     ]
    },
    {
     "name": "stdout",
     "output_type": "stream",
     "text": [
      "   sleeping for 540s\n",
      "586 of 100000\n",
      "   recording for 60s; saving to /home/pi/good-vibrations/data/gpepp/2022-05-27T16:10:01.859.wav\n",
      "   uploading data to GitHub\n",
      "Already up to date.\n",
      "[main bc3b645] record_wav\n",
      " 2 files changed, 22 insertions(+)\n",
      " create mode 100644 data/gpepp/2022-05-27T16:10:01.859.wav\n"
     ]
    },
    {
     "name": "stderr",
     "output_type": "stream",
     "text": [
      "To https://github.com/aubreymoore/good-vibrations.git\n",
      "   94aa491..bc3b645  main -> main\n"
     ]
    },
    {
     "name": "stdout",
     "output_type": "stream",
     "text": [
      "   sleeping for 540s\n",
      "587 of 100000\n",
      "   recording for 60s; saving to /home/pi/good-vibrations/data/gpepp/2022-05-27T16:20:09.223.wav\n",
      "   uploading data to GitHub\n",
      "Already up to date.\n",
      "[main 5a81134] record_wav\n",
      " 2 files changed, 22 insertions(+)\n",
      " create mode 100644 data/gpepp/2022-05-27T16:20:09.223.wav\n"
     ]
    },
    {
     "name": "stderr",
     "output_type": "stream",
     "text": [
      "To https://github.com/aubreymoore/good-vibrations.git\n",
      "   bc3b645..5a81134  main -> main\n"
     ]
    },
    {
     "name": "stdout",
     "output_type": "stream",
     "text": [
      "   sleeping for 540s\n",
      "588 of 100000\n",
      "   recording for 60s; saving to /home/pi/good-vibrations/data/gpepp/2022-05-27T16:30:15.749.wav\n",
      "   uploading data to GitHub\n",
      "Already up to date.\n",
      "[main e76eb40] record_wav\n",
      " 2 files changed, 22 insertions(+)\n",
      " create mode 100644 data/gpepp/2022-05-27T16:30:15.749.wav\n"
     ]
    },
    {
     "name": "stderr",
     "output_type": "stream",
     "text": [
      "To https://github.com/aubreymoore/good-vibrations.git\n",
      "   5a81134..e76eb40  main -> main\n"
     ]
    },
    {
     "name": "stdout",
     "output_type": "stream",
     "text": [
      "   sleeping for 540s\n",
      "589 of 100000\n",
      "   recording for 60s; saving to /home/pi/good-vibrations/data/gpepp/2022-05-27T16:40:22.319.wav\n",
      "   uploading data to GitHub\n",
      "Already up to date.\n",
      "[main 50671a0] record_wav\n",
      " 2 files changed, 22 insertions(+)\n",
      " create mode 100644 data/gpepp/2022-05-27T16:40:22.319.wav\n"
     ]
    },
    {
     "name": "stderr",
     "output_type": "stream",
     "text": [
      "To https://github.com/aubreymoore/good-vibrations.git\n",
      "   e76eb40..50671a0  main -> main\n"
     ]
    },
    {
     "name": "stdout",
     "output_type": "stream",
     "text": [
      "   sleeping for 540s\n",
      "590 of 100000\n",
      "   recording for 60s; saving to /home/pi/good-vibrations/data/gpepp/2022-05-27T16:50:28.843.wav\n",
      "   uploading data to GitHub\n",
      "Already up to date.\n",
      "[main 5219570] record_wav\n",
      " 2 files changed, 22 insertions(+)\n",
      " create mode 100644 data/gpepp/2022-05-27T16:50:28.843.wav\n"
     ]
    },
    {
     "name": "stderr",
     "output_type": "stream",
     "text": [
      "To https://github.com/aubreymoore/good-vibrations.git\n",
      "   50671a0..5219570  main -> main\n"
     ]
    },
    {
     "name": "stdout",
     "output_type": "stream",
     "text": [
      "   sleeping for 540s\n",
      "591 of 100000\n",
      "   recording for 60s; saving to /home/pi/good-vibrations/data/gpepp/2022-05-27T17:00:35.799.wav\n",
      "   uploading data to GitHub\n",
      "Already up to date.\n",
      "[main 3174836] record_wav\n",
      " 2 files changed, 22 insertions(+)\n",
      " create mode 100644 data/gpepp/2022-05-27T17:00:35.799.wav\n"
     ]
    },
    {
     "name": "stderr",
     "output_type": "stream",
     "text": [
      "To https://github.com/aubreymoore/good-vibrations.git\n",
      "   5219570..3174836  main -> main\n"
     ]
    },
    {
     "name": "stdout",
     "output_type": "stream",
     "text": [
      "   sleeping for 540s\n",
      "592 of 100000\n",
      "   recording for 60s; saving to /home/pi/good-vibrations/data/gpepp/2022-05-27T17:10:42.441.wav\n",
      "   uploading data to GitHub\n",
      "Already up to date.\n",
      "[main acccd7e] record_wav\n",
      " 2 files changed, 22 insertions(+)\n",
      " create mode 100644 data/gpepp/2022-05-27T17:10:42.441.wav\n"
     ]
    },
    {
     "name": "stderr",
     "output_type": "stream",
     "text": [
      "To https://github.com/aubreymoore/good-vibrations.git\n",
      "   3174836..acccd7e  main -> main\n"
     ]
    },
    {
     "name": "stdout",
     "output_type": "stream",
     "text": [
      "   sleeping for 540s\n",
      "593 of 100000\n",
      "   recording for 60s; saving to /home/pi/good-vibrations/data/gpepp/2022-05-27T17:20:49.989.wav\n",
      "   uploading data to GitHub\n",
      "Already up to date.\n",
      "[main ad4a512] record_wav\n",
      " 2 files changed, 25 insertions(+), 1 deletion(-)\n",
      " create mode 100644 data/gpepp/2022-05-27T17:20:49.989.wav\n"
     ]
    },
    {
     "name": "stderr",
     "output_type": "stream",
     "text": [
      "To https://github.com/aubreymoore/good-vibrations.git\n",
      "   acccd7e..ad4a512  main -> main\n"
     ]
    },
    {
     "name": "stdout",
     "output_type": "stream",
     "text": [
      "   sleeping for 540s\n",
      "594 of 100000\n",
      "   recording for 60s; saving to /home/pi/good-vibrations/data/gpepp/2022-05-27T17:30:57.124.wav\n",
      "   uploading data to GitHub\n",
      "Already up to date.\n",
      "[main 2a16931] record_wav\n",
      " 2 files changed, 23 insertions(+), 1 deletion(-)\n",
      " create mode 100644 data/gpepp/2022-05-27T17:30:57.124.wav\n"
     ]
    },
    {
     "name": "stderr",
     "output_type": "stream",
     "text": [
      "To https://github.com/aubreymoore/good-vibrations.git\n",
      "   ad4a512..2a16931  main -> main\n"
     ]
    },
    {
     "name": "stdout",
     "output_type": "stream",
     "text": [
      "   sleeping for 540s\n",
      "595 of 100000\n",
      "   recording for 60s; saving to /home/pi/good-vibrations/data/gpepp/2022-05-27T17:41:04.349.wav\n",
      "   uploading data to GitHub\n",
      "Already up to date.\n",
      "[main 94fffb4] record_wav\n",
      " 2 files changed, 23 insertions(+), 1 deletion(-)\n",
      " create mode 100644 data/gpepp/2022-05-27T17:41:04.349.wav\n"
     ]
    },
    {
     "name": "stderr",
     "output_type": "stream",
     "text": [
      "To https://github.com/aubreymoore/good-vibrations.git\n",
      "   2a16931..94fffb4  main -> main\n"
     ]
    },
    {
     "name": "stdout",
     "output_type": "stream",
     "text": [
      "   sleeping for 540s\n",
      "596 of 100000\n",
      "   recording for 60s; saving to /home/pi/good-vibrations/data/gpepp/2022-05-27T17:51:12.339.wav\n",
      "   uploading data to GitHub\n",
      "Already up to date.\n",
      "[main 7cfedf1] record_wav\n",
      " 2 files changed, 23 insertions(+), 1 deletion(-)\n",
      " create mode 100644 data/gpepp/2022-05-27T17:51:12.339.wav\n"
     ]
    },
    {
     "name": "stderr",
     "output_type": "stream",
     "text": [
      "To https://github.com/aubreymoore/good-vibrations.git\n",
      "   94fffb4..7cfedf1  main -> main\n"
     ]
    },
    {
     "name": "stdout",
     "output_type": "stream",
     "text": [
      "   sleeping for 540s\n",
      "597 of 100000\n",
      "   recording for 60s; saving to /home/pi/good-vibrations/data/gpepp/2022-05-27T18:01:18.767.wav\n",
      "   uploading data to GitHub\n",
      "Already up to date.\n",
      "[main bf43f40] record_wav\n",
      " 2 files changed, 23 insertions(+), 1 deletion(-)\n",
      " create mode 100644 data/gpepp/2022-05-27T18:01:18.767.wav\n"
     ]
    },
    {
     "name": "stderr",
     "output_type": "stream",
     "text": [
      "To https://github.com/aubreymoore/good-vibrations.git\n",
      "   7cfedf1..bf43f40  main -> main\n"
     ]
    },
    {
     "name": "stdout",
     "output_type": "stream",
     "text": [
      "   sleeping for 540s\n",
      "598 of 100000\n",
      "   recording for 60s; saving to /home/pi/good-vibrations/data/gpepp/2022-05-27T18:11:25.482.wav\n",
      "   uploading data to GitHub\n",
      "Already up to date.\n",
      "[main bcfebc6] record_wav\n",
      " 2 files changed, 23 insertions(+), 1 deletion(-)\n",
      " create mode 100644 data/gpepp/2022-05-27T18:11:25.482.wav\n"
     ]
    },
    {
     "name": "stderr",
     "output_type": "stream",
     "text": [
      "To https://github.com/aubreymoore/good-vibrations.git\n",
      "   bf43f40..bcfebc6  main -> main\n"
     ]
    },
    {
     "name": "stdout",
     "output_type": "stream",
     "text": [
      "   sleeping for 540s\n",
      "599 of 100000\n",
      "   recording for 60s; saving to /home/pi/good-vibrations/data/gpepp/2022-05-27T18:21:31.659.wav\n",
      "   uploading data to GitHub\n",
      "Already up to date.\n",
      "[main 8d3f6ad] record_wav\n",
      " 2 files changed, 23 insertions(+), 1 deletion(-)\n",
      " create mode 100644 data/gpepp/2022-05-27T18:21:31.659.wav\n"
     ]
    },
    {
     "name": "stderr",
     "output_type": "stream",
     "text": [
      "To https://github.com/aubreymoore/good-vibrations.git\n",
      "   bcfebc6..8d3f6ad  main -> main\n"
     ]
    },
    {
     "name": "stdout",
     "output_type": "stream",
     "text": [
      "   sleeping for 540s\n",
      "600 of 100000\n",
      "   recording for 60s; saving to /home/pi/good-vibrations/data/gpepp/2022-05-27T18:31:37.859.wav\n",
      "   uploading data to GitHub\n",
      "Already up to date.\n",
      "[main 74bc41f] record_wav\n",
      " 2 files changed, 23 insertions(+), 1 deletion(-)\n",
      " create mode 100644 data/gpepp/2022-05-27T18:31:37.859.wav\n"
     ]
    },
    {
     "name": "stderr",
     "output_type": "stream",
     "text": [
      "To https://github.com/aubreymoore/good-vibrations.git\n",
      "   8d3f6ad..74bc41f  main -> main\n"
     ]
    },
    {
     "name": "stdout",
     "output_type": "stream",
     "text": [
      "   sleeping for 540s\n",
      "601 of 100000\n",
      "   recording for 60s; saving to /home/pi/good-vibrations/data/gpepp/2022-05-27T18:41:45.639.wav\n",
      "   uploading data to GitHub\n",
      "Already up to date.\n",
      "[main d1a42c6] record_wav\n",
      " 2 files changed, 23 insertions(+), 1 deletion(-)\n",
      " create mode 100644 data/gpepp/2022-05-27T18:41:45.639.wav\n"
     ]
    },
    {
     "name": "stderr",
     "output_type": "stream",
     "text": [
      "To https://github.com/aubreymoore/good-vibrations.git\n",
      "   74bc41f..d1a42c6  main -> main\n"
     ]
    },
    {
     "name": "stdout",
     "output_type": "stream",
     "text": [
      "   sleeping for 540s\n",
      "602 of 100000\n",
      "   recording for 60s; saving to /home/pi/good-vibrations/data/gpepp/2022-05-27T18:51:53.050.wav\n",
      "   uploading data to GitHub\n",
      "Already up to date.\n",
      "[main 1c3ede6] record_wav\n",
      " 2 files changed, 23 insertions(+), 1 deletion(-)\n",
      " create mode 100644 data/gpepp/2022-05-27T18:51:53.050.wav\n"
     ]
    },
    {
     "name": "stderr",
     "output_type": "stream",
     "text": [
      "To https://github.com/aubreymoore/good-vibrations.git\n",
      "   d1a42c6..1c3ede6  main -> main\n"
     ]
    },
    {
     "name": "stdout",
     "output_type": "stream",
     "text": [
      "   sleeping for 540s\n",
      "603 of 100000\n",
      "   recording for 60s; saving to /home/pi/good-vibrations/data/gpepp/2022-05-27T19:01:59.605.wav\n",
      "   uploading data to GitHub\n",
      "Already up to date.\n",
      "[main 8938fca] record_wav\n",
      " 2 files changed, 23 insertions(+), 1 deletion(-)\n",
      " create mode 100644 data/gpepp/2022-05-27T19:01:59.605.wav\n"
     ]
    },
    {
     "name": "stderr",
     "output_type": "stream",
     "text": [
      "To https://github.com/aubreymoore/good-vibrations.git\n",
      "   1c3ede6..8938fca  main -> main\n"
     ]
    },
    {
     "name": "stdout",
     "output_type": "stream",
     "text": [
      "   sleeping for 540s\n",
      "604 of 100000\n",
      "   recording for 60s; saving to /home/pi/good-vibrations/data/gpepp/2022-05-27T19:12:05.949.wav\n",
      "   uploading data to GitHub\n",
      "Already up to date.\n",
      "[main f31ea3d] record_wav\n",
      " 2 files changed, 23 insertions(+), 1 deletion(-)\n",
      " create mode 100644 data/gpepp/2022-05-27T19:12:05.949.wav\n"
     ]
    },
    {
     "name": "stderr",
     "output_type": "stream",
     "text": [
      "To https://github.com/aubreymoore/good-vibrations.git\n",
      "   8938fca..f31ea3d  main -> main\n"
     ]
    },
    {
     "name": "stdout",
     "output_type": "stream",
     "text": [
      "   sleeping for 540s\n",
      "605 of 100000\n",
      "   recording for 60s; saving to /home/pi/good-vibrations/data/gpepp/2022-05-27T19:22:12.889.wav\n",
      "   uploading data to GitHub\n",
      "Already up to date.\n",
      "[main 165fe58] record_wav\n",
      " 2 files changed, 23 insertions(+), 1 deletion(-)\n",
      " create mode 100644 data/gpepp/2022-05-27T19:22:12.889.wav\n"
     ]
    },
    {
     "name": "stderr",
     "output_type": "stream",
     "text": [
      "To https://github.com/aubreymoore/good-vibrations.git\n",
      "   f31ea3d..165fe58  main -> main\n"
     ]
    },
    {
     "name": "stdout",
     "output_type": "stream",
     "text": [
      "   sleeping for 540s\n",
      "606 of 100000\n",
      "   recording for 60s; saving to /home/pi/good-vibrations/data/gpepp/2022-05-27T19:32:19.609.wav\n",
      "   uploading data to GitHub\n",
      "Already up to date.\n",
      "[main e2f053a] record_wav\n",
      " 2 files changed, 23 insertions(+), 1 deletion(-)\n",
      " create mode 100644 data/gpepp/2022-05-27T19:32:19.609.wav\n"
     ]
    },
    {
     "name": "stderr",
     "output_type": "stream",
     "text": [
      "To https://github.com/aubreymoore/good-vibrations.git\n",
      "   165fe58..e2f053a  main -> main\n"
     ]
    },
    {
     "name": "stdout",
     "output_type": "stream",
     "text": [
      "   sleeping for 540s\n",
      "607 of 100000\n",
      "   recording for 60s; saving to /home/pi/good-vibrations/data/gpepp/2022-05-27T19:42:28.119.wav\n",
      "   uploading data to GitHub\n",
      "Already up to date.\n",
      "[main f4b502d] record_wav\n",
      " 2 files changed, 23 insertions(+), 1 deletion(-)\n",
      " create mode 100644 data/gpepp/2022-05-27T19:42:28.119.wav\n",
      "   sleeping for 540s\n"
     ]
    },
    {
     "name": "stderr",
     "output_type": "stream",
     "text": [
      "fatal: unable to access 'https://github.com/aubreymoore/good-vibrations.git/': Could not resolve host: github.com\n"
     ]
    },
    {
     "name": "stdout",
     "output_type": "stream",
     "text": [
      "608 of 100000\n",
      "   recording for 60s; saving to /home/pi/good-vibrations/data/gpepp/2022-05-27T19:52:30.499.wav\n",
      "   uploading data to GitHub\n",
      "Already up to date.\n",
      "[main ba7d70e] record_wav\n",
      " 2 files changed, 22 insertions(+), 1 deletion(-)\n",
      " create mode 100644 data/gpepp/2022-05-27T19:52:30.499.wav\n"
     ]
    },
    {
     "name": "stderr",
     "output_type": "stream",
     "text": [
      "To https://github.com/aubreymoore/good-vibrations.git\n",
      "   e2f053a..ba7d70e  main -> main\n"
     ]
    },
    {
     "name": "stdout",
     "output_type": "stream",
     "text": [
      "   sleeping for 540s\n",
      "609 of 100000\n",
      "   recording for 60s; saving to /home/pi/good-vibrations/data/gpepp/2022-05-27T20:02:38.143.wav\n",
      "   uploading data to GitHub\n",
      "Already up to date.\n",
      "[main 158972d] record_wav\n",
      " 2 files changed, 21 insertions(+), 1 deletion(-)\n",
      " create mode 100644 data/gpepp/2022-05-27T20:02:38.143.wav\n"
     ]
    },
    {
     "name": "stderr",
     "output_type": "stream",
     "text": [
      "To https://github.com/aubreymoore/good-vibrations.git\n",
      "   ba7d70e..158972d  main -> main\n"
     ]
    },
    {
     "name": "stdout",
     "output_type": "stream",
     "text": [
      "   sleeping for 540s\n",
      "610 of 100000\n",
      "   recording for 60s; saving to /home/pi/good-vibrations/data/gpepp/2022-05-27T20:12:45.441.wav\n",
      "   uploading data to GitHub\n",
      "Already up to date.\n",
      "[main 51ab448] record_wav\n",
      " 2 files changed, 22 insertions(+)\n",
      " create mode 100644 data/gpepp/2022-05-27T20:12:45.441.wav\n"
     ]
    },
    {
     "name": "stderr",
     "output_type": "stream",
     "text": [
      "To https://github.com/aubreymoore/good-vibrations.git\n",
      "   158972d..51ab448  main -> main\n"
     ]
    },
    {
     "name": "stdout",
     "output_type": "stream",
     "text": [
      "   sleeping for 540s\n",
      "611 of 100000\n",
      "   recording for 60s; saving to /home/pi/good-vibrations/data/gpepp/2022-05-27T20:22:52.299.wav\n",
      "   uploading data to GitHub\n",
      "Already up to date.\n",
      "[main ee7d92d] record_wav\n",
      " 2 files changed, 22 insertions(+)\n",
      " create mode 100644 data/gpepp/2022-05-27T20:22:52.299.wav\n"
     ]
    },
    {
     "name": "stderr",
     "output_type": "stream",
     "text": [
      "To https://github.com/aubreymoore/good-vibrations.git\n",
      "   51ab448..ee7d92d  main -> main\n"
     ]
    },
    {
     "name": "stdout",
     "output_type": "stream",
     "text": [
      "   sleeping for 540s\n",
      "612 of 100000\n",
      "   recording for 60s; saving to /home/pi/good-vibrations/data/gpepp/2022-05-27T20:32:58.803.wav\n",
      "   uploading data to GitHub\n",
      "Already up to date.\n"
     ]
    },
    {
     "name": "stderr",
     "output_type": "stream",
     "text": [
      "Auto packing the repository in background for optimum performance.\n",
      "See \"git help gc\" for manual housekeeping.\n"
     ]
    },
    {
     "name": "stdout",
     "output_type": "stream",
     "text": [
      "[main b5dd71b] record_wav\n",
      " 2 files changed, 22 insertions(+)\n",
      " create mode 100644 data/gpepp/2022-05-27T20:32:58.803.wav\n"
     ]
    },
    {
     "name": "stderr",
     "output_type": "stream",
     "text": [
      "To https://github.com/aubreymoore/good-vibrations.git\n",
      "   ee7d92d..b5dd71b  main -> main\n"
     ]
    },
    {
     "name": "stdout",
     "output_type": "stream",
     "text": [
      "   sleeping for 540s\n",
      "613 of 100000\n",
      "   recording for 60s; saving to /home/pi/good-vibrations/data/gpepp/2022-05-27T20:43:05.925.wav\n",
      "   uploading data to GitHub\n"
     ]
    },
    {
     "name": "stderr",
     "output_type": "stream",
     "text": [
      "Auto packing the repository in background for optimum performance.\n",
      "See \"git help gc\" for manual housekeeping.\n"
     ]
    },
    {
     "name": "stdout",
     "output_type": "stream",
     "text": [
      "Already up to date.\n"
     ]
    },
    {
     "name": "stderr",
     "output_type": "stream",
     "text": [
      "Auto packing the repository in background for optimum performance.\n",
      "See \"git help gc\" for manual housekeeping.\n"
     ]
    },
    {
     "name": "stdout",
     "output_type": "stream",
     "text": [
      "[main 2339225] record_wav\n",
      " 2 files changed, 36 insertions(+)\n",
      " create mode 100644 data/gpepp/2022-05-27T20:43:05.925.wav\n"
     ]
    },
    {
     "name": "stderr",
     "output_type": "stream",
     "text": [
      "To https://github.com/aubreymoore/good-vibrations.git\n",
      "   b5dd71b..2339225  main -> main\n"
     ]
    },
    {
     "name": "stdout",
     "output_type": "stream",
     "text": [
      "   sleeping for 540s\n",
      "614 of 100000\n",
      "   recording for 60s; saving to /home/pi/good-vibrations/data/gpepp/2022-05-27T20:53:18.151.wav\n",
      "   uploading data to GitHub\n",
      "Already up to date.\n",
      "[main 3c58b6f] record_wav\n",
      " 2 files changed, 50 insertions(+)\n",
      " create mode 100644 data/gpepp/2022-05-27T20:53:18.151.wav\n"
     ]
    },
    {
     "name": "stderr",
     "output_type": "stream",
     "text": [
      "To https://github.com/aubreymoore/good-vibrations.git\n",
      "   2339225..3c58b6f  main -> main\n"
     ]
    },
    {
     "name": "stdout",
     "output_type": "stream",
     "text": [
      "   sleeping for 540s\n",
      "615 of 100000\n",
      "   recording for 60s; saving to /home/pi/good-vibrations/data/gpepp/2022-05-27T21:03:25.932.wav\n",
      "   uploading data to GitHub\n",
      "Already up to date.\n",
      "[main 06208df] record_wav\n",
      " 2 files changed, 22 insertions(+)\n",
      " create mode 100644 data/gpepp/2022-05-27T21:03:25.932.wav\n"
     ]
    },
    {
     "name": "stderr",
     "output_type": "stream",
     "text": [
      "To https://github.com/aubreymoore/good-vibrations.git\n",
      "   3c58b6f..06208df  main -> main\n"
     ]
    },
    {
     "name": "stdout",
     "output_type": "stream",
     "text": [
      "   sleeping for 540s\n",
      "616 of 100000\n",
      "   recording for 60s; saving to /home/pi/good-vibrations/data/gpepp/2022-05-27T21:13:32.391.wav\n",
      "   uploading data to GitHub\n",
      "Already up to date.\n",
      "[main 12d8326] record_wav\n",
      " 2 files changed, 22 insertions(+)\n",
      " create mode 100644 data/gpepp/2022-05-27T21:13:32.391.wav\n"
     ]
    },
    {
     "name": "stderr",
     "output_type": "stream",
     "text": [
      "To https://github.com/aubreymoore/good-vibrations.git\n",
      "   06208df..12d8326  main -> main\n"
     ]
    },
    {
     "name": "stdout",
     "output_type": "stream",
     "text": [
      "   sleeping for 540s\n",
      "617 of 100000\n",
      "   recording for 60s; saving to /home/pi/good-vibrations/data/gpepp/2022-05-27T21:23:38.632.wav\n",
      "   uploading data to GitHub\n",
      "Already up to date.\n",
      "[main f75c6db] record_wav\n",
      " 2 files changed, 22 insertions(+)\n",
      " create mode 100644 data/gpepp/2022-05-27T21:23:38.632.wav\n"
     ]
    },
    {
     "name": "stderr",
     "output_type": "stream",
     "text": [
      "To https://github.com/aubreymoore/good-vibrations.git\n",
      "   12d8326..f75c6db  main -> main\n"
     ]
    },
    {
     "name": "stdout",
     "output_type": "stream",
     "text": [
      "   sleeping for 540s\n",
      "618 of 100000\n",
      "   recording for 60s; saving to /home/pi/good-vibrations/data/gpepp/2022-05-27T21:33:47.059.wav\n",
      "   uploading data to GitHub\n",
      "Already up to date.\n",
      "[main 02a183e] record_wav\n",
      " 2 files changed, 22 insertions(+)\n",
      " create mode 100644 data/gpepp/2022-05-27T21:33:47.059.wav\n"
     ]
    },
    {
     "name": "stderr",
     "output_type": "stream",
     "text": [
      "To https://github.com/aubreymoore/good-vibrations.git\n",
      "   f75c6db..02a183e  main -> main\n"
     ]
    },
    {
     "name": "stdout",
     "output_type": "stream",
     "text": [
      "   sleeping for 540s\n",
      "619 of 100000\n",
      "   recording for 60s; saving to /home/pi/good-vibrations/data/gpepp/2022-05-27T21:43:53.469.wav\n",
      "   uploading data to GitHub\n",
      "Already up to date.\n",
      "[main d735df9] record_wav\n",
      " 3 files changed, 14075 deletions(-)\n",
      " create mode 100644 code/.~record_wav.ipynb\n",
      " rewrite code/record_wav.ipynb (100%)\n",
      " create mode 100644 data/gpepp/2022-05-27T21:43:53.469.wav\n"
     ]
    },
    {
     "name": "stderr",
     "output_type": "stream",
     "text": [
      "To https://github.com/aubreymoore/good-vibrations.git\n",
      "   02a183e..d735df9  main -> main\n"
     ]
    },
    {
     "name": "stdout",
     "output_type": "stream",
     "text": [
      "   sleeping for 540s\n",
      "620 of 100000\n",
      "   recording for 60s; saving to /home/pi/good-vibrations/data/gpepp/2022-05-27T21:54:03.539.wav\n",
      "   uploading data to GitHub\n",
      "Already up to date.\n",
      "[main 8c5e90d] record_wav\n",
      " 3 files changed, 14123 insertions(+), 14097 deletions(-)\n",
      " delete mode 100644 code/.~record_wav.ipynb\n",
      " create mode 100644 data/gpepp/2022-05-27T21:54:03.539.wav\n"
     ]
    },
    {
     "name": "stderr",
     "output_type": "stream",
     "text": [
      "To https://github.com/aubreymoore/good-vibrations.git\n",
      "   d735df9..8c5e90d  main -> main\n"
     ]
    },
    {
     "name": "stdout",
     "output_type": "stream",
     "text": [
      "   sleeping for 540s\n",
      "621 of 100000\n",
      "   recording for 60s; saving to /home/pi/good-vibrations/data/gpepp/2022-05-27T22:04:10.173.wav\n",
      "   uploading data to GitHub\n",
      "Already up to date.\n",
      "[main 25cae82] record_wav\n",
      " 2 files changed, 24 insertions(+), 1 deletion(-)\n",
      " create mode 100644 data/gpepp/2022-05-27T22:04:10.173.wav\n"
     ]
    },
    {
     "name": "stderr",
     "output_type": "stream",
     "text": [
      "To https://github.com/aubreymoore/good-vibrations.git\n",
      "   8c5e90d..25cae82  main -> main\n"
     ]
    },
    {
     "name": "stdout",
     "output_type": "stream",
     "text": [
      "   sleeping for 540s\n",
      "622 of 100000\n",
      "   recording for 60s; saving to /home/pi/good-vibrations/data/gpepp/2022-05-27T22:14:16.499.wav\n",
      "   uploading data to GitHub\n",
      "Already up to date.\n",
      "[main a907a81] record_wav\n",
      " 2 files changed, 23 insertions(+), 1 deletion(-)\n",
      " create mode 100644 data/gpepp/2022-05-27T22:14:16.499.wav\n"
     ]
    },
    {
     "name": "stderr",
     "output_type": "stream",
     "text": [
      "To https://github.com/aubreymoore/good-vibrations.git\n",
      "   25cae82..a907a81  main -> main\n"
     ]
    },
    {
     "name": "stdout",
     "output_type": "stream",
     "text": [
      "   sleeping for 540s\n",
      "623 of 100000\n",
      "   recording for 60s; saving to /home/pi/good-vibrations/data/gpepp/2022-05-27T22:24:23.019.wav\n",
      "   uploading data to GitHub\n"
     ]
    },
    {
     "name": "stderr",
     "output_type": "stream",
     "text": [
      "fatal: unable to access 'https://github.com/aubreymoore/good-vibrations.git/': Could not resolve host: github.com\n"
     ]
    },
    {
     "name": "stdout",
     "output_type": "stream",
     "text": [
      "[main 68be2a6] record_wav\n",
      " 2 files changed, 23 insertions(+), 1 deletion(-)\n",
      " create mode 100644 data/gpepp/2022-05-27T22:24:23.019.wav\n",
      "   sleeping for 540s\n"
     ]
    },
    {
     "name": "stderr",
     "output_type": "stream",
     "text": [
      "fatal: unable to access 'https://github.com/aubreymoore/good-vibrations.git/': Could not resolve host: github.com\n"
     ]
    },
    {
     "name": "stdout",
     "output_type": "stream",
     "text": [
      "624 of 100000\n",
      "   recording for 60s; saving to /home/pi/good-vibrations/data/gpepp/2022-05-27T22:34:23.709.wav\n",
      "   uploading data to GitHub\n",
      "Already up to date.\n",
      "[main d6bbd70] record_wav\n",
      " 2 files changed, 34 insertions(+), 1 deletion(-)\n",
      " create mode 100644 data/gpepp/2022-05-27T22:34:23.709.wav\n"
     ]
    },
    {
     "name": "stderr",
     "output_type": "stream",
     "text": [
      "To https://github.com/aubreymoore/good-vibrations.git\n",
      "   a907a81..d6bbd70  main -> main\n"
     ]
    },
    {
     "name": "stdout",
     "output_type": "stream",
     "text": [
      "   sleeping for 540s\n",
      "625 of 100000\n",
      "   recording for 60s; saving to /home/pi/good-vibrations/data/gpepp/2022-05-27T22:44:31.359.wav\n",
      "   uploading data to GitHub\n",
      "Already up to date.\n",
      "[main ecb5321] record_wav\n",
      " 2 files changed, 23 insertions(+), 1 deletion(-)\n",
      " create mode 100644 data/gpepp/2022-05-27T22:44:31.359.wav\n"
     ]
    },
    {
     "name": "stderr",
     "output_type": "stream",
     "text": [
      "To https://github.com/aubreymoore/good-vibrations.git\n",
      "   d6bbd70..ecb5321  main -> main\n"
     ]
    },
    {
     "name": "stdout",
     "output_type": "stream",
     "text": [
      "   sleeping for 540s\n",
      "626 of 100000\n",
      "   recording for 60s; saving to /home/pi/good-vibrations/data/gpepp/2022-05-27T22:54:37.579.wav\n",
      "   uploading data to GitHub\n",
      "Already up to date.\n",
      "[main 99a3a38] record_wav\n",
      " 2 files changed, 23 insertions(+), 1 deletion(-)\n",
      " create mode 100644 data/gpepp/2022-05-27T22:54:37.579.wav\n"
     ]
    },
    {
     "name": "stderr",
     "output_type": "stream",
     "text": [
      "To https://github.com/aubreymoore/good-vibrations.git\n",
      "   ecb5321..99a3a38  main -> main\n"
     ]
    },
    {
     "name": "stdout",
     "output_type": "stream",
     "text": [
      "   sleeping for 540s\n",
      "627 of 100000\n",
      "   recording for 60s; saving to /home/pi/good-vibrations/data/gpepp/2022-05-27T23:04:44.869.wav\n",
      "   uploading data to GitHub\n",
      "Already up to date.\n",
      "[main 54d986a] record_wav\n",
      " 2 files changed, 23 insertions(+), 1 deletion(-)\n",
      " create mode 100644 data/gpepp/2022-05-27T23:04:44.869.wav\n"
     ]
    },
    {
     "name": "stderr",
     "output_type": "stream",
     "text": [
      "To https://github.com/aubreymoore/good-vibrations.git\n",
      "   99a3a38..54d986a  main -> main\n"
     ]
    },
    {
     "name": "stdout",
     "output_type": "stream",
     "text": [
      "   sleeping for 540s\n",
      "628 of 100000\n",
      "   recording for 60s; saving to /home/pi/good-vibrations/data/gpepp/2022-05-27T23:14:51.709.wav\n",
      "   uploading data to GitHub\n",
      "Already up to date.\n",
      "[main 29f380c] record_wav\n",
      " 2 files changed, 23 insertions(+), 1 deletion(-)\n",
      " create mode 100644 data/gpepp/2022-05-27T23:14:51.709.wav\n"
     ]
    },
    {
     "name": "stderr",
     "output_type": "stream",
     "text": [
      "To https://github.com/aubreymoore/good-vibrations.git\n",
      "   54d986a..29f380c  main -> main\n"
     ]
    },
    {
     "name": "stdout",
     "output_type": "stream",
     "text": [
      "   sleeping for 540s\n",
      "629 of 100000\n",
      "   recording for 60s; saving to /home/pi/good-vibrations/data/gpepp/2022-05-27T23:24:59.244.wav\n",
      "   uploading data to GitHub\n",
      "Already up to date.\n",
      "[main 108850a] record_wav\n",
      " 2 files changed, 23 insertions(+), 1 deletion(-)\n",
      " create mode 100644 data/gpepp/2022-05-27T23:24:59.244.wav\n"
     ]
    },
    {
     "name": "stderr",
     "output_type": "stream",
     "text": [
      "To https://github.com/aubreymoore/good-vibrations.git\n",
      "   29f380c..108850a  main -> main\n"
     ]
    },
    {
     "name": "stdout",
     "output_type": "stream",
     "text": [
      "   sleeping for 540s\n",
      "630 of 100000\n",
      "   recording for 60s; saving to /home/pi/good-vibrations/data/gpepp/2022-05-27T23:35:05.388.wav\n",
      "   uploading data to GitHub\n",
      "Already up to date.\n",
      "[main 0f864fb] record_wav\n",
      " 2 files changed, 23 insertions(+), 1 deletion(-)\n",
      " create mode 100644 data/gpepp/2022-05-27T23:35:05.388.wav\n"
     ]
    },
    {
     "name": "stderr",
     "output_type": "stream",
     "text": [
      "To https://github.com/aubreymoore/good-vibrations.git\n",
      "   108850a..0f864fb  main -> main\n"
     ]
    },
    {
     "name": "stdout",
     "output_type": "stream",
     "text": [
      "   sleeping for 540s\n",
      "631 of 100000\n",
      "   recording for 60s; saving to /home/pi/good-vibrations/data/gpepp/2022-05-27T23:45:11.999.wav\n",
      "   uploading data to GitHub\n",
      "Already up to date.\n",
      "[main 6503c5a] record_wav\n",
      " 2 files changed, 23 insertions(+), 1 deletion(-)\n",
      " create mode 100644 data/gpepp/2022-05-27T23:45:11.999.wav\n"
     ]
    },
    {
     "name": "stderr",
     "output_type": "stream",
     "text": [
      "To https://github.com/aubreymoore/good-vibrations.git\n",
      "   0f864fb..6503c5a  main -> main\n"
     ]
    },
    {
     "name": "stdout",
     "output_type": "stream",
     "text": [
      "   sleeping for 540s\n",
      "632 of 100000\n",
      "   recording for 60s; saving to /home/pi/good-vibrations/data/gpepp/2022-05-27T23:55:18.419.wav\n",
      "   uploading data to GitHub\n",
      "Already up to date.\n",
      "[main 997fcd2] record_wav\n",
      " 2 files changed, 23 insertions(+), 1 deletion(-)\n",
      " create mode 100644 data/gpepp/2022-05-27T23:55:18.419.wav\n"
     ]
    },
    {
     "name": "stderr",
     "output_type": "stream",
     "text": [
      "To https://github.com/aubreymoore/good-vibrations.git\n",
      "   6503c5a..997fcd2  main -> main\n"
     ]
    },
    {
     "name": "stdout",
     "output_type": "stream",
     "text": [
      "   sleeping for 540s\n",
      "633 of 100000\n",
      "   recording for 60s; saving to /home/pi/good-vibrations/data/gpepp/2022-05-28T00:05:24.680.wav\n",
      "   uploading data to GitHub\n",
      "Already up to date.\n",
      "[main b6f6702] record_wav\n",
      " 2 files changed, 23 insertions(+), 1 deletion(-)\n",
      " create mode 100644 data/gpepp/2022-05-28T00:05:24.680.wav\n"
     ]
    },
    {
     "name": "stderr",
     "output_type": "stream",
     "text": [
      "To https://github.com/aubreymoore/good-vibrations.git\n",
      "   997fcd2..b6f6702  main -> main\n"
     ]
    },
    {
     "name": "stdout",
     "output_type": "stream",
     "text": [
      "   sleeping for 540s\n",
      "634 of 100000\n",
      "   recording for 60s; saving to /home/pi/good-vibrations/data/gpepp/2022-05-28T00:15:31.023.wav\n",
      "   uploading data to GitHub\n",
      "Already up to date.\n",
      "[main 058d865] record_wav\n",
      " 2 files changed, 23 insertions(+), 1 deletion(-)\n",
      " create mode 100644 data/gpepp/2022-05-28T00:15:31.023.wav\n"
     ]
    },
    {
     "name": "stderr",
     "output_type": "stream",
     "text": [
      "To https://github.com/aubreymoore/good-vibrations.git\n",
      "   b6f6702..058d865  main -> main\n"
     ]
    },
    {
     "name": "stdout",
     "output_type": "stream",
     "text": [
      "   sleeping for 540s\n",
      "635 of 100000\n",
      "   recording for 60s; saving to /home/pi/good-vibrations/data/gpepp/2022-05-28T00:25:37.434.wav\n",
      "   uploading data to GitHub\n",
      "Already up to date.\n",
      "[main 87117f0] record_wav\n",
      " 2 files changed, 23 insertions(+), 1 deletion(-)\n",
      " create mode 100644 data/gpepp/2022-05-28T00:25:37.434.wav\n"
     ]
    },
    {
     "name": "stderr",
     "output_type": "stream",
     "text": [
      "To https://github.com/aubreymoore/good-vibrations.git\n",
      "   058d865..87117f0  main -> main\n"
     ]
    },
    {
     "name": "stdout",
     "output_type": "stream",
     "text": [
      "   sleeping for 540s\n",
      "636 of 100000\n",
      "   recording for 60s; saving to /home/pi/good-vibrations/data/gpepp/2022-05-28T00:35:43.799.wav\n",
      "   uploading data to GitHub\n",
      "Already up to date.\n",
      "[main b6cca25] record_wav\n",
      " 2 files changed, 23 insertions(+), 1 deletion(-)\n",
      " create mode 100644 data/gpepp/2022-05-28T00:35:43.799.wav\n"
     ]
    },
    {
     "name": "stderr",
     "output_type": "stream",
     "text": [
      "To https://github.com/aubreymoore/good-vibrations.git\n",
      "   87117f0..b6cca25  main -> main\n"
     ]
    },
    {
     "name": "stdout",
     "output_type": "stream",
     "text": [
      "   sleeping for 540s\n",
      "637 of 100000\n",
      "   recording for 60s; saving to /home/pi/good-vibrations/data/gpepp/2022-05-28T00:45:50.695.wav\n",
      "   uploading data to GitHub\n",
      "Already up to date.\n",
      "[main 52bd1d6] record_wav\n",
      " 2 files changed, 23 insertions(+), 1 deletion(-)\n",
      " create mode 100644 data/gpepp/2022-05-28T00:45:50.695.wav\n"
     ]
    },
    {
     "name": "stderr",
     "output_type": "stream",
     "text": [
      "To https://github.com/aubreymoore/good-vibrations.git\n",
      "   b6cca25..52bd1d6  main -> main\n"
     ]
    },
    {
     "name": "stdout",
     "output_type": "stream",
     "text": [
      "   sleeping for 540s\n",
      "638 of 100000\n",
      "   recording for 60s; saving to /home/pi/good-vibrations/data/gpepp/2022-05-28T00:55:56.979.wav\n",
      "   uploading data to GitHub\n",
      "Already up to date.\n",
      "[main 0c026ad] record_wav\n",
      " 2 files changed, 23 insertions(+), 1 deletion(-)\n",
      " create mode 100644 data/gpepp/2022-05-28T00:55:56.979.wav\n"
     ]
    },
    {
     "name": "stderr",
     "output_type": "stream",
     "text": [
      "To https://github.com/aubreymoore/good-vibrations.git\n",
      "   52bd1d6..0c026ad  main -> main\n"
     ]
    },
    {
     "name": "stdout",
     "output_type": "stream",
     "text": [
      "   sleeping for 540s\n",
      "639 of 100000\n",
      "   recording for 60s; saving to /home/pi/good-vibrations/data/gpepp/2022-05-28T01:06:03.472.wav\n",
      "   uploading data to GitHub\n",
      "Already up to date.\n",
      "[main 09e46b1] record_wav\n",
      " 2 files changed, 21 insertions(+), 1 deletion(-)\n",
      " create mode 100644 data/gpepp/2022-05-28T01:06:03.472.wav\n"
     ]
    },
    {
     "name": "stderr",
     "output_type": "stream",
     "text": [
      "To https://github.com/aubreymoore/good-vibrations.git\n",
      "   0c026ad..09e46b1  main -> main\n"
     ]
    },
    {
     "name": "stdout",
     "output_type": "stream",
     "text": [
      "   sleeping for 540s\n",
      "640 of 100000\n",
      "   recording for 60s; saving to /home/pi/good-vibrations/data/gpepp/2022-05-28T01:16:10.249.wav\n",
      "   uploading data to GitHub\n",
      "Already up to date.\n",
      "[main 58ee936] record_wav\n",
      " 2 files changed, 22 insertions(+)\n",
      " create mode 100644 data/gpepp/2022-05-28T01:16:10.249.wav\n"
     ]
    },
    {
     "name": "stderr",
     "output_type": "stream",
     "text": [
      "To https://github.com/aubreymoore/good-vibrations.git\n",
      "   09e46b1..58ee936  main -> main\n"
     ]
    },
    {
     "name": "stdout",
     "output_type": "stream",
     "text": [
      "   sleeping for 540s\n",
      "641 of 100000\n",
      "   recording for 60s; saving to /home/pi/good-vibrations/data/gpepp/2022-05-28T01:26:16.926.wav\n",
      "   uploading data to GitHub\n",
      "Already up to date.\n",
      "[main 66690ef] record_wav\n",
      " 2 files changed, 22 insertions(+)\n",
      " create mode 100644 data/gpepp/2022-05-28T01:26:16.926.wav\n"
     ]
    },
    {
     "name": "stderr",
     "output_type": "stream",
     "text": [
      "To https://github.com/aubreymoore/good-vibrations.git\n",
      "   58ee936..66690ef  main -> main\n"
     ]
    },
    {
     "name": "stdout",
     "output_type": "stream",
     "text": [
      "   sleeping for 540s\n",
      "642 of 100000\n",
      "   recording for 60s; saving to /home/pi/good-vibrations/data/gpepp/2022-05-28T01:36:23.428.wav\n",
      "   uploading data to GitHub\n",
      "Already up to date.\n",
      "[main aeb8814] record_wav\n",
      " 2 files changed, 22 insertions(+)\n",
      " create mode 100644 data/gpepp/2022-05-28T01:36:23.428.wav\n"
     ]
    },
    {
     "name": "stderr",
     "output_type": "stream",
     "text": [
      "To https://github.com/aubreymoore/good-vibrations.git\n",
      "   66690ef..aeb8814  main -> main\n"
     ]
    },
    {
     "name": "stdout",
     "output_type": "stream",
     "text": [
      "   sleeping for 540s\n",
      "643 of 100000\n",
      "   recording for 60s; saving to /home/pi/good-vibrations/data/gpepp/2022-05-28T01:46:29.749.wav\n",
      "   uploading data to GitHub\n",
      "Already up to date.\n",
      "[main 3c51738] record_wav\n",
      " 2 files changed, 22 insertions(+)\n",
      " create mode 100644 data/gpepp/2022-05-28T01:46:29.749.wav\n"
     ]
    },
    {
     "name": "stderr",
     "output_type": "stream",
     "text": [
      "To https://github.com/aubreymoore/good-vibrations.git\n",
      "   aeb8814..3c51738  main -> main\n"
     ]
    },
    {
     "name": "stdout",
     "output_type": "stream",
     "text": [
      "   sleeping for 540s\n",
      "644 of 100000\n",
      "   recording for 60s; saving to /home/pi/good-vibrations/data/gpepp/2022-05-28T01:56:36.113.wav\n",
      "   uploading data to GitHub\n",
      "Already up to date.\n",
      "[main 6c4603d] record_wav\n",
      " 2 files changed, 22 insertions(+)\n",
      " create mode 100644 data/gpepp/2022-05-28T01:56:36.113.wav\n"
     ]
    },
    {
     "name": "stderr",
     "output_type": "stream",
     "text": [
      "To https://github.com/aubreymoore/good-vibrations.git\n",
      "   3c51738..6c4603d  main -> main\n"
     ]
    },
    {
     "name": "stdout",
     "output_type": "stream",
     "text": [
      "   sleeping for 540s\n",
      "645 of 100000\n",
      "   recording for 60s; saving to /home/pi/good-vibrations/data/gpepp/2022-05-28T02:06:42.508.wav\n",
      "   uploading data to GitHub\n",
      "Already up to date.\n",
      "[main 36dff13] record_wav\n",
      " 2 files changed, 22 insertions(+)\n",
      " create mode 100644 data/gpepp/2022-05-28T02:06:42.508.wav\n"
     ]
    },
    {
     "name": "stderr",
     "output_type": "stream",
     "text": [
      "To https://github.com/aubreymoore/good-vibrations.git\n",
      "   6c4603d..36dff13  main -> main\n"
     ]
    },
    {
     "name": "stdout",
     "output_type": "stream",
     "text": [
      "   sleeping for 540s\n",
      "646 of 100000\n",
      "   recording for 60s; saving to /home/pi/good-vibrations/data/gpepp/2022-05-28T02:16:49.344.wav\n",
      "   uploading data to GitHub\n",
      "Already up to date.\n",
      "[main 62db0ed] record_wav\n",
      " 2 files changed, 22 insertions(+)\n",
      " create mode 100644 data/gpepp/2022-05-28T02:16:49.344.wav\n"
     ]
    },
    {
     "name": "stderr",
     "output_type": "stream",
     "text": [
      "To https://github.com/aubreymoore/good-vibrations.git\n",
      "   36dff13..62db0ed  main -> main\n"
     ]
    },
    {
     "name": "stdout",
     "output_type": "stream",
     "text": [
      "   sleeping for 540s\n",
      "647 of 100000\n",
      "   recording for 60s; saving to /home/pi/good-vibrations/data/gpepp/2022-05-28T02:26:55.679.wav\n",
      "   uploading data to GitHub\n",
      "Already up to date.\n",
      "[main d55134c] record_wav\n",
      " 2 files changed, 22 insertions(+)\n",
      " create mode 100644 data/gpepp/2022-05-28T02:26:55.679.wav\n"
     ]
    },
    {
     "name": "stderr",
     "output_type": "stream",
     "text": [
      "To https://github.com/aubreymoore/good-vibrations.git\n",
      "   62db0ed..d55134c  main -> main\n"
     ]
    },
    {
     "name": "stdout",
     "output_type": "stream",
     "text": [
      "   sleeping for 540s\n",
      "648 of 100000\n",
      "   recording for 60s; saving to /home/pi/good-vibrations/data/gpepp/2022-05-28T02:37:01.950.wav\n",
      "   uploading data to GitHub\n",
      "Already up to date.\n",
      "[main da483fb] record_wav\n",
      " 2 files changed, 22 insertions(+)\n",
      " create mode 100644 data/gpepp/2022-05-28T02:37:01.950.wav\n"
     ]
    },
    {
     "name": "stderr",
     "output_type": "stream",
     "text": [
      "To https://github.com/aubreymoore/good-vibrations.git\n",
      "   d55134c..da483fb  main -> main\n"
     ]
    },
    {
     "name": "stdout",
     "output_type": "stream",
     "text": [
      "   sleeping for 540s\n",
      "649 of 100000\n",
      "   recording for 60s; saving to /home/pi/good-vibrations/data/gpepp/2022-05-28T02:47:08.199.wav\n",
      "   uploading data to GitHub\n",
      "Already up to date.\n",
      "[main e5c5984] record_wav\n",
      " 2 files changed, 22 insertions(+)\n",
      " create mode 100644 data/gpepp/2022-05-28T02:47:08.199.wav\n"
     ]
    },
    {
     "name": "stderr",
     "output_type": "stream",
     "text": [
      "To https://github.com/aubreymoore/good-vibrations.git\n",
      "   da483fb..e5c5984  main -> main\n"
     ]
    },
    {
     "name": "stdout",
     "output_type": "stream",
     "text": [
      "   sleeping for 540s\n",
      "650 of 100000\n",
      "   recording for 60s; saving to /home/pi/good-vibrations/data/gpepp/2022-05-28T02:57:16.887.wav\n",
      "   uploading data to GitHub\n",
      "Already up to date.\n",
      "[main 4990954] record_wav\n",
      " 2 files changed, 22 insertions(+)\n",
      " create mode 100644 data/gpepp/2022-05-28T02:57:16.887.wav\n"
     ]
    },
    {
     "name": "stderr",
     "output_type": "stream",
     "text": [
      "To https://github.com/aubreymoore/good-vibrations.git\n",
      "   e5c5984..4990954  main -> main\n"
     ]
    },
    {
     "name": "stdout",
     "output_type": "stream",
     "text": [
      "   sleeping for 540s\n",
      "651 of 100000\n",
      "   recording for 60s; saving to /home/pi/good-vibrations/data/gpepp/2022-05-28T03:07:23.479.wav\n",
      "   uploading data to GitHub\n",
      "Already up to date.\n",
      "[main 08b2fe9] record_wav\n",
      " 2 files changed, 25 insertions(+), 1 deletion(-)\n",
      " create mode 100644 data/gpepp/2022-05-28T03:07:23.479.wav\n"
     ]
    },
    {
     "name": "stderr",
     "output_type": "stream",
     "text": [
      "To https://github.com/aubreymoore/good-vibrations.git\n",
      "   4990954..08b2fe9  main -> main\n"
     ]
    },
    {
     "name": "stdout",
     "output_type": "stream",
     "text": [
      "   sleeping for 540s\n",
      "652 of 100000\n",
      "   recording for 60s; saving to /home/pi/good-vibrations/data/gpepp/2022-05-28T03:17:30.189.wav\n",
      "   uploading data to GitHub\n",
      "Already up to date.\n",
      "[main 39539e3] record_wav\n",
      " 2 files changed, 23 insertions(+), 1 deletion(-)\n",
      " create mode 100644 data/gpepp/2022-05-28T03:17:30.189.wav\n"
     ]
    },
    {
     "name": "stderr",
     "output_type": "stream",
     "text": [
      "To https://github.com/aubreymoore/good-vibrations.git\n",
      "   08b2fe9..39539e3  main -> main\n"
     ]
    },
    {
     "name": "stdout",
     "output_type": "stream",
     "text": [
      "   sleeping for 540s\n",
      "653 of 100000\n",
      "   recording for 60s; saving to /home/pi/good-vibrations/data/gpepp/2022-05-28T03:27:36.628.wav\n",
      "   uploading data to GitHub\n",
      "Already up to date.\n",
      "[main 710a797] record_wav\n",
      " 2 files changed, 23 insertions(+), 1 deletion(-)\n",
      " create mode 100644 data/gpepp/2022-05-28T03:27:36.628.wav\n"
     ]
    },
    {
     "name": "stderr",
     "output_type": "stream",
     "text": [
      "To https://github.com/aubreymoore/good-vibrations.git\n",
      "   39539e3..710a797  main -> main\n"
     ]
    },
    {
     "name": "stdout",
     "output_type": "stream",
     "text": [
      "   sleeping for 540s\n",
      "654 of 100000\n",
      "   recording for 60s; saving to /home/pi/good-vibrations/data/gpepp/2022-05-28T03:37:42.807.wav\n",
      "   uploading data to GitHub\n",
      "Already up to date.\n",
      "[main ff4404d] record_wav\n",
      " 2 files changed, 23 insertions(+), 1 deletion(-)\n",
      " create mode 100644 data/gpepp/2022-05-28T03:37:42.807.wav\n"
     ]
    },
    {
     "name": "stderr",
     "output_type": "stream",
     "text": [
      "To https://github.com/aubreymoore/good-vibrations.git\n",
      "   710a797..ff4404d  main -> main\n"
     ]
    },
    {
     "name": "stdout",
     "output_type": "stream",
     "text": [
      "   sleeping for 540s\n",
      "655 of 100000\n",
      "   recording for 60s; saving to /home/pi/good-vibrations/data/gpepp/2022-05-28T03:47:50.070.wav\n",
      "   uploading data to GitHub\n",
      "Already up to date.\n",
      "[main ca06a45] record_wav\n",
      " 2 files changed, 23 insertions(+), 1 deletion(-)\n",
      " create mode 100644 data/gpepp/2022-05-28T03:47:50.070.wav\n"
     ]
    },
    {
     "name": "stderr",
     "output_type": "stream",
     "text": [
      "To https://github.com/aubreymoore/good-vibrations.git\n",
      "   ff4404d..ca06a45  main -> main\n"
     ]
    },
    {
     "name": "stdout",
     "output_type": "stream",
     "text": [
      "   sleeping for 540s\n",
      "656 of 100000\n",
      "   recording for 60s; saving to /home/pi/good-vibrations/data/gpepp/2022-05-28T03:57:57.220.wav\n",
      "   uploading data to GitHub\n",
      "Already up to date.\n",
      "[main 4e0b77a] record_wav\n",
      " 2 files changed, 23 insertions(+), 1 deletion(-)\n",
      " create mode 100644 data/gpepp/2022-05-28T03:57:57.220.wav\n"
     ]
    },
    {
     "name": "stderr",
     "output_type": "stream",
     "text": [
      "To https://github.com/aubreymoore/good-vibrations.git\n",
      "   ca06a45..4e0b77a  main -> main\n"
     ]
    },
    {
     "name": "stdout",
     "output_type": "stream",
     "text": [
      "   sleeping for 540s\n",
      "657 of 100000\n",
      "   recording for 60s; saving to /home/pi/good-vibrations/data/gpepp/2022-05-28T04:08:03.609.wav\n",
      "   uploading data to GitHub\n",
      "Already up to date.\n",
      "[main 3c7e3bc] record_wav\n",
      " 2 files changed, 23 insertions(+), 1 deletion(-)\n",
      " create mode 100644 data/gpepp/2022-05-28T04:08:03.609.wav\n"
     ]
    },
    {
     "name": "stderr",
     "output_type": "stream",
     "text": [
      "To https://github.com/aubreymoore/good-vibrations.git\n",
      "   4e0b77a..3c7e3bc  main -> main\n"
     ]
    },
    {
     "name": "stdout",
     "output_type": "stream",
     "text": [
      "   sleeping for 540s\n",
      "658 of 100000\n",
      "   recording for 60s; saving to /home/pi/good-vibrations/data/gpepp/2022-05-28T04:18:10.089.wav\n",
      "   uploading data to GitHub\n",
      "Already up to date.\n",
      "[main 91d8015] record_wav\n",
      " 2 files changed, 23 insertions(+), 1 deletion(-)\n",
      " create mode 100644 data/gpepp/2022-05-28T04:18:10.089.wav\n"
     ]
    },
    {
     "name": "stderr",
     "output_type": "stream",
     "text": [
      "To https://github.com/aubreymoore/good-vibrations.git\n",
      "   3c7e3bc..91d8015  main -> main\n"
     ]
    },
    {
     "name": "stdout",
     "output_type": "stream",
     "text": [
      "   sleeping for 540s\n",
      "659 of 100000\n",
      "   recording for 60s; saving to /home/pi/good-vibrations/data/gpepp/2022-05-28T04:28:16.678.wav\n",
      "   uploading data to GitHub\n",
      "Already up to date.\n",
      "[main af2013a] record_wav\n",
      " 2 files changed, 23 insertions(+), 1 deletion(-)\n",
      " create mode 100644 data/gpepp/2022-05-28T04:28:16.678.wav\n"
     ]
    },
    {
     "name": "stderr",
     "output_type": "stream",
     "text": [
      "To https://github.com/aubreymoore/good-vibrations.git\n",
      "   91d8015..af2013a  main -> main\n"
     ]
    },
    {
     "name": "stdout",
     "output_type": "stream",
     "text": [
      "   sleeping for 540s\n",
      "660 of 100000\n",
      "   recording for 60s; saving to /home/pi/good-vibrations/data/gpepp/2022-05-28T04:38:23.999.wav\n",
      "   uploading data to GitHub\n",
      "Already up to date.\n",
      "[main e6a9f66] record_wav\n",
      " 2 files changed, 23 insertions(+), 1 deletion(-)\n",
      " create mode 100644 data/gpepp/2022-05-28T04:38:23.999.wav\n"
     ]
    },
    {
     "name": "stderr",
     "output_type": "stream",
     "text": [
      "To https://github.com/aubreymoore/good-vibrations.git\n",
      "   af2013a..e6a9f66  main -> main\n"
     ]
    },
    {
     "name": "stdout",
     "output_type": "stream",
     "text": [
      "   sleeping for 540s\n",
      "661 of 100000\n",
      "   recording for 60s; saving to /home/pi/good-vibrations/data/gpepp/2022-05-28T04:48:30.310.wav\n",
      "   uploading data to GitHub\n",
      "Already up to date.\n",
      "[main 091caf4] record_wav\n",
      " 2 files changed, 23 insertions(+), 1 deletion(-)\n",
      " create mode 100644 data/gpepp/2022-05-28T04:48:30.310.wav\n"
     ]
    },
    {
     "name": "stderr",
     "output_type": "stream",
     "text": [
      "To https://github.com/aubreymoore/good-vibrations.git\n",
      "   e6a9f66..091caf4  main -> main\n"
     ]
    },
    {
     "name": "stdout",
     "output_type": "stream",
     "text": [
      "   sleeping for 540s\n",
      "662 of 100000\n",
      "   recording for 60s; saving to /home/pi/good-vibrations/data/gpepp/2022-05-28T04:58:36.364.wav\n",
      "   uploading data to GitHub\n",
      "Already up to date.\n",
      "[main 78d4c9a] record_wav\n",
      " 2 files changed, 23 insertions(+), 1 deletion(-)\n",
      " create mode 100644 data/gpepp/2022-05-28T04:58:36.364.wav\n"
     ]
    },
    {
     "name": "stderr",
     "output_type": "stream",
     "text": [
      "To https://github.com/aubreymoore/good-vibrations.git\n",
      "   091caf4..78d4c9a  main -> main\n"
     ]
    },
    {
     "name": "stdout",
     "output_type": "stream",
     "text": [
      "   sleeping for 540s\n",
      "663 of 100000\n",
      "   recording for 60s; saving to /home/pi/good-vibrations/data/gpepp/2022-05-28T05:08:43.129.wav\n",
      "   uploading data to GitHub\n",
      "Already up to date.\n",
      "[main 8688383] record_wav\n",
      " 2 files changed, 23 insertions(+), 1 deletion(-)\n",
      " create mode 100644 data/gpepp/2022-05-28T05:08:43.129.wav\n"
     ]
    },
    {
     "name": "stderr",
     "output_type": "stream",
     "text": [
      "To https://github.com/aubreymoore/good-vibrations.git\n",
      "   78d4c9a..8688383  main -> main\n"
     ]
    },
    {
     "name": "stdout",
     "output_type": "stream",
     "text": [
      "   sleeping for 540s\n",
      "664 of 100000\n",
      "   recording for 60s; saving to /home/pi/good-vibrations/data/gpepp/2022-05-28T05:18:50.380.wav\n",
      "   uploading data to GitHub\n",
      "Already up to date.\n",
      "[main a69af31] record_wav\n",
      " 2 files changed, 23 insertions(+), 1 deletion(-)\n",
      " create mode 100644 data/gpepp/2022-05-28T05:18:50.380.wav\n"
     ]
    },
    {
     "name": "stderr",
     "output_type": "stream",
     "text": [
      "To https://github.com/aubreymoore/good-vibrations.git\n",
      "   8688383..a69af31  main -> main\n"
     ]
    },
    {
     "name": "stdout",
     "output_type": "stream",
     "text": [
      "   sleeping for 540s\n",
      "665 of 100000\n",
      "   recording for 60s; saving to /home/pi/good-vibrations/data/gpepp/2022-05-28T05:28:57.499.wav\n",
      "   uploading data to GitHub\n",
      "Already up to date.\n",
      "[main dc3802d] record_wav\n",
      " 2 files changed, 23 insertions(+), 1 deletion(-)\n",
      " create mode 100644 data/gpepp/2022-05-28T05:28:57.499.wav\n"
     ]
    },
    {
     "name": "stderr",
     "output_type": "stream",
     "text": [
      "To https://github.com/aubreymoore/good-vibrations.git\n",
      "   a69af31..dc3802d  main -> main\n"
     ]
    },
    {
     "name": "stdout",
     "output_type": "stream",
     "text": [
      "   sleeping for 540s\n",
      "666 of 100000\n",
      "   recording for 60s; saving to /home/pi/good-vibrations/data/gpepp/2022-05-28T05:39:04.749.wav\n",
      "   uploading data to GitHub\n",
      "Already up to date.\n",
      "[main 2735507] record_wav\n",
      " 2 files changed, 23 insertions(+), 1 deletion(-)\n",
      " create mode 100644 data/gpepp/2022-05-28T05:39:04.749.wav\n"
     ]
    },
    {
     "name": "stderr",
     "output_type": "stream",
     "text": [
      "To https://github.com/aubreymoore/good-vibrations.git\n",
      "   dc3802d..2735507  main -> main\n"
     ]
    },
    {
     "name": "stdout",
     "output_type": "stream",
     "text": [
      "   sleeping for 540s\n",
      "667 of 100000\n",
      "   recording for 60s; saving to /home/pi/good-vibrations/data/gpepp/2022-05-28T05:49:11.348.wav\n",
      "   uploading data to GitHub\n",
      "Already up to date.\n",
      "[main 0fb548a] record_wav\n",
      " 2 files changed, 23 insertions(+), 1 deletion(-)\n",
      " create mode 100644 data/gpepp/2022-05-28T05:49:11.348.wav\n"
     ]
    },
    {
     "name": "stderr",
     "output_type": "stream",
     "text": [
      "To https://github.com/aubreymoore/good-vibrations.git\n",
      "   2735507..0fb548a  main -> main\n"
     ]
    },
    {
     "name": "stdout",
     "output_type": "stream",
     "text": [
      "   sleeping for 540s\n",
      "668 of 100000\n",
      "   recording for 60s; saving to /home/pi/good-vibrations/data/gpepp/2022-05-28T05:59:17.859.wav\n",
      "   uploading data to GitHub\n",
      "Already up to date.\n",
      "[main 117b75b] record_wav\n",
      " 2 files changed, 23 insertions(+), 1 deletion(-)\n",
      " create mode 100644 data/gpepp/2022-05-28T05:59:17.859.wav\n"
     ]
    },
    {
     "name": "stderr",
     "output_type": "stream",
     "text": [
      "To https://github.com/aubreymoore/good-vibrations.git\n",
      "   0fb548a..117b75b  main -> main\n"
     ]
    },
    {
     "name": "stdout",
     "output_type": "stream",
     "text": [
      "   sleeping for 540s\n",
      "669 of 100000\n",
      "   recording for 60s; saving to /home/pi/good-vibrations/data/gpepp/2022-05-28T06:09:23.999.wav\n",
      "   uploading data to GitHub\n",
      "Already up to date.\n",
      "[main 02cbff8] record_wav\n",
      " 2 files changed, 21 insertions(+), 1 deletion(-)\n",
      " create mode 100644 data/gpepp/2022-05-28T06:09:23.999.wav\n"
     ]
    },
    {
     "name": "stderr",
     "output_type": "stream",
     "text": [
      "To https://github.com/aubreymoore/good-vibrations.git\n",
      "   117b75b..02cbff8  main -> main\n"
     ]
    },
    {
     "name": "stdout",
     "output_type": "stream",
     "text": [
      "   sleeping for 540s\n",
      "670 of 100000\n",
      "   recording for 60s; saving to /home/pi/good-vibrations/data/gpepp/2022-05-28T06:19:30.259.wav\n",
      "   uploading data to GitHub\n",
      "Already up to date.\n",
      "[main 1386562] record_wav\n",
      " 2 files changed, 22 insertions(+)\n",
      " create mode 100644 data/gpepp/2022-05-28T06:19:30.259.wav\n"
     ]
    },
    {
     "name": "stderr",
     "output_type": "stream",
     "text": [
      "To https://github.com/aubreymoore/good-vibrations.git\n",
      "   02cbff8..1386562  main -> main\n"
     ]
    },
    {
     "name": "stdout",
     "output_type": "stream",
     "text": [
      "   sleeping for 540s\n",
      "671 of 100000\n",
      "   recording for 60s; saving to /home/pi/good-vibrations/data/gpepp/2022-05-28T06:29:38.929.wav\n",
      "   uploading data to GitHub\n",
      "Already up to date.\n",
      "[main 220843d] record_wav\n",
      " 2 files changed, 22 insertions(+)\n",
      " create mode 100644 data/gpepp/2022-05-28T06:29:38.929.wav\n"
     ]
    },
    {
     "name": "stderr",
     "output_type": "stream",
     "text": [
      "To https://github.com/aubreymoore/good-vibrations.git\n",
      "   1386562..220843d  main -> main\n"
     ]
    },
    {
     "name": "stdout",
     "output_type": "stream",
     "text": [
      "   sleeping for 540s\n",
      "672 of 100000\n",
      "   recording for 60s; saving to /home/pi/good-vibrations/data/gpepp/2022-05-28T06:39:44.850.wav\n",
      "   uploading data to GitHub\n",
      "Already up to date.\n",
      "[main 1bab4ab] record_wav\n",
      " 2 files changed, 22 insertions(+)\n",
      " create mode 100644 data/gpepp/2022-05-28T06:39:44.850.wav\n"
     ]
    },
    {
     "name": "stderr",
     "output_type": "stream",
     "text": [
      "To https://github.com/aubreymoore/good-vibrations.git\n",
      "   220843d..1bab4ab  main -> main\n"
     ]
    },
    {
     "name": "stdout",
     "output_type": "stream",
     "text": [
      "   sleeping for 540s\n",
      "673 of 100000\n",
      "   recording for 60s; saving to /home/pi/good-vibrations/data/gpepp/2022-05-28T06:49:51.809.wav\n",
      "   uploading data to GitHub\n",
      "Already up to date.\n",
      "[main acc87a1] record_wav\n",
      " 2 files changed, 22 insertions(+)\n",
      " create mode 100644 data/gpepp/2022-05-28T06:49:51.809.wav\n"
     ]
    },
    {
     "name": "stderr",
     "output_type": "stream",
     "text": [
      "To https://github.com/aubreymoore/good-vibrations.git\n",
      "   1bab4ab..acc87a1  main -> main\n"
     ]
    },
    {
     "name": "stdout",
     "output_type": "stream",
     "text": [
      "   sleeping for 540s\n",
      "674 of 100000\n",
      "   recording for 60s; saving to /home/pi/good-vibrations/data/gpepp/2022-05-28T06:59:58.243.wav\n",
      "   uploading data to GitHub\n",
      "Already up to date.\n",
      "[main 9e9b0ca] record_wav\n",
      " 2 files changed, 22 insertions(+)\n",
      " create mode 100644 data/gpepp/2022-05-28T06:59:58.243.wav\n"
     ]
    },
    {
     "name": "stderr",
     "output_type": "stream",
     "text": [
      "To https://github.com/aubreymoore/good-vibrations.git\n",
      "   acc87a1..9e9b0ca  main -> main\n"
     ]
    },
    {
     "name": "stdout",
     "output_type": "stream",
     "text": [
      "   sleeping for 540s\n",
      "675 of 100000\n",
      "   recording for 60s; saving to /home/pi/good-vibrations/data/gpepp/2022-05-28T07:10:06.141.wav\n",
      "   uploading data to GitHub\n",
      "Already up to date.\n",
      "[main 38b3a97] record_wav\n",
      " 2 files changed, 22 insertions(+)\n",
      " create mode 100644 data/gpepp/2022-05-28T07:10:06.141.wav\n"
     ]
    },
    {
     "name": "stderr",
     "output_type": "stream",
     "text": [
      "To https://github.com/aubreymoore/good-vibrations.git\n",
      "   9e9b0ca..38b3a97  main -> main\n"
     ]
    },
    {
     "name": "stdout",
     "output_type": "stream",
     "text": [
      "   sleeping for 540s\n",
      "676 of 100000\n",
      "   recording for 60s; saving to /home/pi/good-vibrations/data/gpepp/2022-05-28T07:20:12.549.wav\n",
      "   uploading data to GitHub\n",
      "Already up to date.\n",
      "[main 809380a] record_wav\n",
      " 2 files changed, 22 insertions(+)\n",
      " create mode 100644 data/gpepp/2022-05-28T07:20:12.549.wav\n"
     ]
    },
    {
     "name": "stderr",
     "output_type": "stream",
     "text": [
      "To https://github.com/aubreymoore/good-vibrations.git\n",
      "   38b3a97..809380a  main -> main\n"
     ]
    },
    {
     "name": "stdout",
     "output_type": "stream",
     "text": [
      "   sleeping for 540s\n",
      "677 of 100000\n",
      "   recording for 60s; saving to /home/pi/good-vibrations/data/gpepp/2022-05-28T07:30:20.480.wav\n",
      "   uploading data to GitHub\n",
      "Already up to date.\n",
      "[main 7bb27ac] record_wav\n",
      " 2 files changed, 22 insertions(+)\n",
      " create mode 100644 data/gpepp/2022-05-28T07:30:20.480.wav\n"
     ]
    },
    {
     "name": "stderr",
     "output_type": "stream",
     "text": [
      "To https://github.com/aubreymoore/good-vibrations.git\n",
      "   809380a..7bb27ac  main -> main\n"
     ]
    },
    {
     "name": "stdout",
     "output_type": "stream",
     "text": [
      "   sleeping for 540s\n",
      "678 of 100000\n",
      "   recording for 60s; saving to /home/pi/good-vibrations/data/gpepp/2022-05-28T07:40:31.394.wav\n",
      "   uploading data to GitHub\n",
      "Already up to date.\n",
      "[main a54602c] record_wav\n",
      " 2 files changed, 22 insertions(+)\n",
      " create mode 100644 data/gpepp/2022-05-28T07:40:31.394.wav\n"
     ]
    },
    {
     "name": "stderr",
     "output_type": "stream",
     "text": [
      "To https://github.com/aubreymoore/good-vibrations.git\n",
      "   7bb27ac..a54602c  main -> main\n"
     ]
    },
    {
     "name": "stdout",
     "output_type": "stream",
     "text": [
      "   sleeping for 540s\n",
      "679 of 100000\n",
      "   recording for 60s; saving to /home/pi/good-vibrations/data/gpepp/2022-05-28T07:50:37.519.wav\n",
      "   uploading data to GitHub\n",
      "Already up to date.\n",
      "[main fa07b35] record_wav\n",
      " 2 files changed, 22 insertions(+)\n",
      " create mode 100644 data/gpepp/2022-05-28T07:50:37.519.wav\n"
     ]
    },
    {
     "name": "stderr",
     "output_type": "stream",
     "text": [
      "To https://github.com/aubreymoore/good-vibrations.git\n",
      "   a54602c..fa07b35  main -> main\n"
     ]
    },
    {
     "name": "stdout",
     "output_type": "stream",
     "text": [
      "   sleeping for 540s\n",
      "680 of 100000\n",
      "   recording for 60s; saving to /home/pi/good-vibrations/data/gpepp/2022-05-28T08:00:44.059.wav\n",
      "   uploading data to GitHub\n",
      "Already up to date.\n",
      "[main 5cd420f] record_wav\n",
      " 2 files changed, 22 insertions(+)\n",
      " create mode 100644 data/gpepp/2022-05-28T08:00:44.059.wav\n"
     ]
    },
    {
     "name": "stderr",
     "output_type": "stream",
     "text": [
      "To https://github.com/aubreymoore/good-vibrations.git\n",
      "   fa07b35..5cd420f  main -> main\n"
     ]
    },
    {
     "name": "stdout",
     "output_type": "stream",
     "text": [
      "   sleeping for 540s\n",
      "681 of 100000\n",
      "   recording for 60s; saving to /home/pi/good-vibrations/data/gpepp/2022-05-28T08:10:51.154.wav\n",
      "   uploading data to GitHub\n"
     ]
    },
    {
     "name": "stderr",
     "output_type": "stream",
     "text": [
      "fatal: unable to access 'https://github.com/aubreymoore/good-vibrations.git/': Could not resolve host: github.com\n"
     ]
    },
    {
     "name": "stdout",
     "output_type": "stream",
     "text": [
      "[main 383e9af] record_wav\n",
      " 2 files changed, 22 insertions(+)\n",
      " create mode 100644 data/gpepp/2022-05-28T08:10:51.154.wav\n",
      "   sleeping for 540s\n"
     ]
    },
    {
     "name": "stderr",
     "output_type": "stream",
     "text": [
      "fatal: unable to access 'https://github.com/aubreymoore/good-vibrations.git/': Could not resolve host: github.com\n"
     ]
    },
    {
     "name": "stdout",
     "output_type": "stream",
     "text": [
      "682 of 100000\n",
      "   recording for 60s; saving to /home/pi/good-vibrations/data/gpepp/2022-05-28T08:20:51.739.wav\n",
      "   uploading data to GitHub\n",
      "Already up to date.\n",
      "[main b523ae1] record_wav\n",
      " 2 files changed, 36 insertions(+)\n",
      " create mode 100644 data/gpepp/2022-05-28T08:20:51.739.wav\n"
     ]
    },
    {
     "name": "stderr",
     "output_type": "stream",
     "text": [
      "To https://github.com/aubreymoore/good-vibrations.git\n",
      "   5cd420f..b523ae1  main -> main\n"
     ]
    },
    {
     "name": "stdout",
     "output_type": "stream",
     "text": [
      "   sleeping for 540s\n",
      "683 of 100000\n",
      "   recording for 60s; saving to /home/pi/good-vibrations/data/gpepp/2022-05-28T08:31:10.919.wav\n",
      "   uploading data to GitHub\n",
      "Already up to date.\n",
      "[main fc606ae] record_wav\n",
      " 2 files changed, 22 insertions(+), 1 deletion(-)\n",
      " create mode 100644 data/gpepp/2022-05-28T08:31:10.919.wav\n"
     ]
    },
    {
     "name": "stderr",
     "output_type": "stream",
     "text": [
      "To https://github.com/aubreymoore/good-vibrations.git\n",
      "   b523ae1..fc606ae  main -> main\n"
     ]
    },
    {
     "name": "stdout",
     "output_type": "stream",
     "text": [
      "   sleeping for 540s\n",
      "684 of 100000\n",
      "   recording for 60s; saving to /home/pi/good-vibrations/data/gpepp/2022-05-28T08:41:19.028.wav\n",
      "   uploading data to GitHub\n",
      "Already up to date.\n",
      "[main 3e9e93b] record_wav\n",
      " 2 files changed, 23 insertions(+), 1 deletion(-)\n",
      " create mode 100644 data/gpepp/2022-05-28T08:41:19.028.wav\n"
     ]
    },
    {
     "name": "stderr",
     "output_type": "stream",
     "text": [
      "To https://github.com/aubreymoore/good-vibrations.git\n",
      "   fc606ae..3e9e93b  main -> main\n"
     ]
    },
    {
     "name": "stdout",
     "output_type": "stream",
     "text": [
      "   sleeping for 540s\n",
      "685 of 100000\n",
      "   recording for 60s; saving to /home/pi/good-vibrations/data/gpepp/2022-05-28T08:51:26.498.wav\n",
      "   uploading data to GitHub\n",
      "Already up to date.\n",
      "[main 3184fe0] record_wav\n",
      " 2 files changed, 23 insertions(+), 1 deletion(-)\n",
      " create mode 100644 data/gpepp/2022-05-28T08:51:26.498.wav\n"
     ]
    },
    {
     "name": "stderr",
     "output_type": "stream",
     "text": [
      "To https://github.com/aubreymoore/good-vibrations.git\n",
      "   3e9e93b..3184fe0  main -> main\n"
     ]
    },
    {
     "name": "stdout",
     "output_type": "stream",
     "text": [
      "   sleeping for 540s\n",
      "686 of 100000\n",
      "   recording for 60s; saving to /home/pi/good-vibrations/data/gpepp/2022-05-28T09:01:33.393.wav\n",
      "   uploading data to GitHub\n",
      "Already up to date.\n",
      "[main c093416] record_wav\n",
      " 2 files changed, 23 insertions(+), 1 deletion(-)\n",
      " create mode 100644 data/gpepp/2022-05-28T09:01:33.393.wav\n"
     ]
    },
    {
     "name": "stderr",
     "output_type": "stream",
     "text": [
      "To https://github.com/aubreymoore/good-vibrations.git\n",
      "   3184fe0..c093416  main -> main\n"
     ]
    },
    {
     "name": "stdout",
     "output_type": "stream",
     "text": [
      "   sleeping for 540s\n",
      "687 of 100000\n",
      "   recording for 60s; saving to /home/pi/good-vibrations/data/gpepp/2022-05-28T09:11:39.309.wav\n",
      "   uploading data to GitHub\n",
      "Already up to date.\n",
      "[main e936ede] record_wav\n",
      " 2 files changed, 23 insertions(+), 1 deletion(-)\n",
      " create mode 100644 data/gpepp/2022-05-28T09:11:39.309.wav\n"
     ]
    },
    {
     "name": "stderr",
     "output_type": "stream",
     "text": [
      "To https://github.com/aubreymoore/good-vibrations.git\n",
      "   c093416..e936ede  main -> main\n"
     ]
    },
    {
     "name": "stdout",
     "output_type": "stream",
     "text": [
      "   sleeping for 540s\n",
      "688 of 100000\n",
      "   recording for 60s; saving to /home/pi/good-vibrations/data/gpepp/2022-05-28T09:21:46.945.wav\n",
      "   uploading data to GitHub\n",
      "Already up to date.\n",
      "[main 0c734bb] record_wav\n",
      " 2 files changed, 23 insertions(+), 1 deletion(-)\n",
      " create mode 100644 data/gpepp/2022-05-28T09:21:46.945.wav\n"
     ]
    },
    {
     "name": "stderr",
     "output_type": "stream",
     "text": [
      "To https://github.com/aubreymoore/good-vibrations.git\n",
      "   e936ede..0c734bb  main -> main\n"
     ]
    },
    {
     "name": "stdout",
     "output_type": "stream",
     "text": [
      "   sleeping for 540s\n",
      "689 of 100000\n",
      "   recording for 60s; saving to /home/pi/good-vibrations/data/gpepp/2022-05-28T09:31:53.299.wav\n",
      "   uploading data to GitHub\n",
      "Already up to date.\n",
      "[main 0d2cb20] record_wav\n",
      " 2 files changed, 23 insertions(+), 1 deletion(-)\n",
      " create mode 100644 data/gpepp/2022-05-28T09:31:53.299.wav\n"
     ]
    },
    {
     "name": "stderr",
     "output_type": "stream",
     "text": [
      "To https://github.com/aubreymoore/good-vibrations.git\n",
      "   0c734bb..0d2cb20  main -> main\n"
     ]
    },
    {
     "name": "stdout",
     "output_type": "stream",
     "text": [
      "   sleeping for 540s\n",
      "690 of 100000\n",
      "   recording for 60s; saving to /home/pi/good-vibrations/data/gpepp/2022-05-28T09:41:59.724.wav\n",
      "   uploading data to GitHub\n",
      "Already up to date.\n",
      "[main 371a0b5] record_wav\n",
      " 2 files changed, 23 insertions(+), 1 deletion(-)\n",
      " create mode 100644 data/gpepp/2022-05-28T09:41:59.724.wav\n"
     ]
    },
    {
     "name": "stderr",
     "output_type": "stream",
     "text": [
      "To https://github.com/aubreymoore/good-vibrations.git\n",
      "   0d2cb20..371a0b5  main -> main\n"
     ]
    },
    {
     "name": "stdout",
     "output_type": "stream",
     "text": [
      "   sleeping for 540s\n",
      "691 of 100000\n",
      "   recording for 60s; saving to /home/pi/good-vibrations/data/gpepp/2022-05-28T09:52:06.160.wav\n",
      "   uploading data to GitHub\n",
      "Already up to date.\n",
      "[main c46978e] record_wav\n",
      " 2 files changed, 23 insertions(+), 1 deletion(-)\n",
      " create mode 100644 data/gpepp/2022-05-28T09:52:06.160.wav\n"
     ]
    },
    {
     "name": "stderr",
     "output_type": "stream",
     "text": [
      "To https://github.com/aubreymoore/good-vibrations.git\n",
      "   371a0b5..c46978e  main -> main\n"
     ]
    },
    {
     "name": "stdout",
     "output_type": "stream",
     "text": [
      "   sleeping for 540s\n",
      "692 of 100000\n",
      "   recording for 60s; saving to /home/pi/good-vibrations/data/gpepp/2022-05-28T10:02:13.339.wav\n",
      "   uploading data to GitHub\n",
      "Already up to date.\n",
      "[main df40dee] record_wav\n",
      " 2 files changed, 23 insertions(+), 1 deletion(-)\n",
      " create mode 100644 data/gpepp/2022-05-28T10:02:13.339.wav\n"
     ]
    },
    {
     "name": "stderr",
     "output_type": "stream",
     "text": [
      "To https://github.com/aubreymoore/good-vibrations.git\n",
      "   c46978e..df40dee  main -> main\n"
     ]
    },
    {
     "name": "stdout",
     "output_type": "stream",
     "text": [
      "   sleeping for 540s\n",
      "693 of 100000\n",
      "   recording for 60s; saving to /home/pi/good-vibrations/data/gpepp/2022-05-28T10:12:20.000.wav\n",
      "   uploading data to GitHub\n",
      "Already up to date.\n",
      "[main 9d23399] record_wav\n",
      " 2 files changed, 23 insertions(+), 1 deletion(-)\n",
      " create mode 100644 data/gpepp/2022-05-28T10:12:20.000.wav\n"
     ]
    },
    {
     "name": "stderr",
     "output_type": "stream",
     "text": [
      "To https://github.com/aubreymoore/good-vibrations.git\n",
      "   df40dee..9d23399  main -> main\n"
     ]
    },
    {
     "name": "stdout",
     "output_type": "stream",
     "text": [
      "   sleeping for 540s\n",
      "694 of 100000\n",
      "   recording for 60s; saving to /home/pi/good-vibrations/data/gpepp/2022-05-28T10:22:26.749.wav\n",
      "   uploading data to GitHub\n",
      "Already up to date.\n",
      "[main aad1062] record_wav\n",
      " 2 files changed, 23 insertions(+), 1 deletion(-)\n",
      " create mode 100644 data/gpepp/2022-05-28T10:22:26.749.wav\n"
     ]
    },
    {
     "name": "stderr",
     "output_type": "stream",
     "text": [
      "To https://github.com/aubreymoore/good-vibrations.git\n",
      "   9d23399..aad1062  main -> main\n"
     ]
    },
    {
     "name": "stdout",
     "output_type": "stream",
     "text": [
      "   sleeping for 540s\n",
      "695 of 100000\n",
      "   recording for 60s; saving to /home/pi/good-vibrations/data/gpepp/2022-05-28T10:32:33.924.wav\n",
      "   uploading data to GitHub\n",
      "Already up to date.\n",
      "[main 07206f8] record_wav\n",
      " 2 files changed, 23 insertions(+), 1 deletion(-)\n",
      " create mode 100644 data/gpepp/2022-05-28T10:32:33.924.wav\n"
     ]
    },
    {
     "name": "stderr",
     "output_type": "stream",
     "text": [
      "To https://github.com/aubreymoore/good-vibrations.git\n",
      "   aad1062..07206f8  main -> main\n"
     ]
    },
    {
     "name": "stdout",
     "output_type": "stream",
     "text": [
      "   sleeping for 540s\n",
      "696 of 100000\n",
      "   recording for 60s; saving to /home/pi/good-vibrations/data/gpepp/2022-05-28T10:42:40.749.wav\n",
      "   uploading data to GitHub\n",
      "Already up to date.\n",
      "[main c389104] record_wav\n",
      " 2 files changed, 23 insertions(+), 1 deletion(-)\n",
      " create mode 100644 data/gpepp/2022-05-28T10:42:40.749.wav\n"
     ]
    },
    {
     "name": "stderr",
     "output_type": "stream",
     "text": [
      "To https://github.com/aubreymoore/good-vibrations.git\n",
      "   07206f8..c389104  main -> main\n"
     ]
    },
    {
     "name": "stdout",
     "output_type": "stream",
     "text": [
      "   sleeping for 540s\n",
      "697 of 100000\n",
      "   recording for 60s; saving to /home/pi/good-vibrations/data/gpepp/2022-05-28T10:52:49.860.wav\n",
      "   uploading data to GitHub\n",
      "Already up to date.\n",
      "[main f9bfbd4] record_wav\n",
      " 2 files changed, 23 insertions(+), 1 deletion(-)\n",
      " create mode 100644 data/gpepp/2022-05-28T10:52:49.860.wav\n"
     ]
    },
    {
     "name": "stderr",
     "output_type": "stream",
     "text": [
      "To https://github.com/aubreymoore/good-vibrations.git\n",
      "   c389104..f9bfbd4  main -> main\n"
     ]
    },
    {
     "name": "stdout",
     "output_type": "stream",
     "text": [
      "   sleeping for 540s\n",
      "698 of 100000\n",
      "   recording for 60s; saving to /home/pi/good-vibrations/data/gpepp/2022-05-28T11:02:56.858.wav\n",
      "   uploading data to GitHub\n",
      "Already up to date.\n",
      "[main d6e6fe4] record_wav\n",
      " 2 files changed, 23 insertions(+), 1 deletion(-)\n",
      " create mode 100644 data/gpepp/2022-05-28T11:02:56.858.wav\n"
     ]
    },
    {
     "name": "stderr",
     "output_type": "stream",
     "text": [
      "To https://github.com/aubreymoore/good-vibrations.git\n",
      "   f9bfbd4..d6e6fe4  main -> main\n"
     ]
    },
    {
     "name": "stdout",
     "output_type": "stream",
     "text": [
      "   sleeping for 540s\n",
      "699 of 100000\n",
      "   recording for 60s; saving to /home/pi/good-vibrations/data/gpepp/2022-05-28T11:13:03.964.wav\n",
      "   uploading data to GitHub\n",
      "Already up to date.\n",
      "[main 2e1c124] record_wav\n",
      " 2 files changed, 23 insertions(+), 1 deletion(-)\n",
      " create mode 100644 data/gpepp/2022-05-28T11:13:03.964.wav\n"
     ]
    },
    {
     "name": "stderr",
     "output_type": "stream",
     "text": [
      "To https://github.com/aubreymoore/good-vibrations.git\n",
      "   d6e6fe4..2e1c124  main -> main\n"
     ]
    },
    {
     "name": "stdout",
     "output_type": "stream",
     "text": [
      "   sleeping for 540s\n",
      "700 of 100000\n",
      "   recording for 60s; saving to /home/pi/good-vibrations/data/gpepp/2022-05-28T11:23:11.118.wav\n",
      "   uploading data to GitHub\n",
      "Already up to date.\n",
      "[main 632795a] record_wav\n",
      " 2 files changed, 21 insertions(+), 1 deletion(-)\n",
      " create mode 100644 data/gpepp/2022-05-28T11:23:11.118.wav\n"
     ]
    },
    {
     "name": "stderr",
     "output_type": "stream",
     "text": [
      "To https://github.com/aubreymoore/good-vibrations.git\n",
      "   2e1c124..632795a  main -> main\n"
     ]
    },
    {
     "name": "stdout",
     "output_type": "stream",
     "text": [
      "   sleeping for 540s\n",
      "701 of 100000\n",
      "   recording for 60s; saving to /home/pi/good-vibrations/data/gpepp/2022-05-28T11:33:17.749.wav\n",
      "   uploading data to GitHub\n",
      "Already up to date.\n",
      "[main 4538dc5] record_wav\n",
      " 2 files changed, 22 insertions(+)\n",
      " create mode 100644 data/gpepp/2022-05-28T11:33:17.749.wav\n"
     ]
    },
    {
     "name": "stderr",
     "output_type": "stream",
     "text": [
      "To https://github.com/aubreymoore/good-vibrations.git\n",
      "   632795a..4538dc5  main -> main\n"
     ]
    },
    {
     "name": "stdout",
     "output_type": "stream",
     "text": [
      "   sleeping for 540s\n",
      "702 of 100000\n",
      "   recording for 60s; saving to /home/pi/good-vibrations/data/gpepp/2022-05-28T11:43:24.249.wav\n",
      "   uploading data to GitHub\n",
      "Already up to date.\n",
      "[main 2783d3a] record_wav\n",
      " 2 files changed, 22 insertions(+)\n",
      " create mode 100644 data/gpepp/2022-05-28T11:43:24.249.wav\n"
     ]
    },
    {
     "name": "stderr",
     "output_type": "stream",
     "text": [
      "To https://github.com/aubreymoore/good-vibrations.git\n",
      "   4538dc5..2783d3a  main -> main\n"
     ]
    },
    {
     "name": "stdout",
     "output_type": "stream",
     "text": [
      "   sleeping for 540s\n",
      "703 of 100000\n",
      "   recording for 60s; saving to /home/pi/good-vibrations/data/gpepp/2022-05-28T11:53:31.349.wav\n",
      "   uploading data to GitHub\n",
      "Already up to date.\n",
      "[main 0bfae8b] record_wav\n",
      " 2 files changed, 22 insertions(+)\n",
      " create mode 100644 data/gpepp/2022-05-28T11:53:31.349.wav\n"
     ]
    },
    {
     "name": "stderr",
     "output_type": "stream",
     "text": [
      "To https://github.com/aubreymoore/good-vibrations.git\n",
      "   2783d3a..0bfae8b  main -> main\n"
     ]
    },
    {
     "name": "stdout",
     "output_type": "stream",
     "text": [
      "   sleeping for 540s\n",
      "704 of 100000\n",
      "   recording for 60s; saving to /home/pi/good-vibrations/data/gpepp/2022-05-28T12:03:37.859.wav\n",
      "   uploading data to GitHub\n",
      "Already up to date.\n",
      "[main 021c1db] record_wav\n",
      " 2 files changed, 22 insertions(+)\n",
      " create mode 100644 data/gpepp/2022-05-28T12:03:37.859.wav\n"
     ]
    },
    {
     "name": "stderr",
     "output_type": "stream",
     "text": [
      "To https://github.com/aubreymoore/good-vibrations.git\n",
      "   0bfae8b..021c1db  main -> main\n"
     ]
    },
    {
     "name": "stdout",
     "output_type": "stream",
     "text": [
      "   sleeping for 540s\n",
      "705 of 100000\n",
      "   recording for 60s; saving to /home/pi/good-vibrations/data/gpepp/2022-05-28T12:13:44.583.wav\n",
      "   uploading data to GitHub\n",
      "Already up to date.\n",
      "[main b905203] record_wav\n",
      " 2 files changed, 22 insertions(+)\n",
      " create mode 100644 data/gpepp/2022-05-28T12:13:44.583.wav\n"
     ]
    },
    {
     "name": "stderr",
     "output_type": "stream",
     "text": [
      "To https://github.com/aubreymoore/good-vibrations.git\n",
      "   021c1db..b905203  main -> main\n"
     ]
    },
    {
     "name": "stdout",
     "output_type": "stream",
     "text": [
      "   sleeping for 540s\n",
      "706 of 100000\n",
      "   recording for 60s; saving to /home/pi/good-vibrations/data/gpepp/2022-05-28T12:23:51.941.wav\n",
      "   uploading data to GitHub\n",
      "Already up to date.\n",
      "[main d1b4e07] record_wav\n",
      " 2 files changed, 22 insertions(+)\n",
      " create mode 100644 data/gpepp/2022-05-28T12:23:51.941.wav\n"
     ]
    },
    {
     "name": "stderr",
     "output_type": "stream",
     "text": [
      "To https://github.com/aubreymoore/good-vibrations.git\n",
      "   b905203..d1b4e07  main -> main\n"
     ]
    },
    {
     "name": "stdout",
     "output_type": "stream",
     "text": [
      "   sleeping for 540s\n",
      "707 of 100000\n",
      "   recording for 60s; saving to /home/pi/good-vibrations/data/gpepp/2022-05-28T12:33:59.438.wav\n",
      "   uploading data to GitHub\n"
     ]
    },
    {
     "name": "stderr",
     "output_type": "stream",
     "text": [
      "From https://github.com/aubreymoore/good-vibrations\n",
      "   d1b4e07..09a29b6  main       -> origin/main\n"
     ]
    },
    {
     "name": "stdout",
     "output_type": "stream",
     "text": [
      "Updating d1b4e07..09a29b6\n",
      "Fast-forward\n",
      " data/gpepp/actions.csv | 1 +\n",
      " 1 file changed, 1 insertion(+)\n",
      "[main 5b5ef08] record_wav\n",
      " 2 files changed, 22 insertions(+)\n",
      " create mode 100644 data/gpepp/2022-05-28T12:33:59.438.wav\n"
     ]
    },
    {
     "name": "stderr",
     "output_type": "stream",
     "text": [
      "To https://github.com/aubreymoore/good-vibrations.git\n",
      "   09a29b6..5b5ef08  main -> main\n"
     ]
    },
    {
     "name": "stdout",
     "output_type": "stream",
     "text": [
      "   sleeping for 540s\n",
      "708 of 100000\n",
      "   recording for 60s; saving to /home/pi/good-vibrations/data/gpepp/2022-05-28T12:44:12.082.wav\n",
      "   uploading data to GitHub\n",
      "Already up to date.\n",
      "[main 0d064b7] record_wav\n",
      " 2 files changed, 39 insertions(+)\n",
      " create mode 100644 data/gpepp/2022-05-28T12:44:12.082.wav\n"
     ]
    },
    {
     "name": "stderr",
     "output_type": "stream",
     "text": [
      "To https://github.com/aubreymoore/good-vibrations.git\n",
      "   5b5ef08..0d064b7  main -> main\n"
     ]
    },
    {
     "name": "stdout",
     "output_type": "stream",
     "text": [
      "   sleeping for 540s\n",
      "709 of 100000\n",
      "   recording for 60s; saving to /home/pi/good-vibrations/data/gpepp/2022-05-28T12:54:18.658.wav\n",
      "   uploading data to GitHub\n",
      "Already up to date.\n",
      "[main 485187f] record_wav\n",
      " 2 files changed, 22 insertions(+)\n",
      " create mode 100644 data/gpepp/2022-05-28T12:54:18.658.wav\n"
     ]
    },
    {
     "name": "stderr",
     "output_type": "stream",
     "text": [
      "To https://github.com/aubreymoore/good-vibrations.git\n",
      "   0d064b7..485187f  main -> main\n"
     ]
    },
    {
     "name": "stdout",
     "output_type": "stream",
     "text": [
      "   sleeping for 540s\n",
      "710 of 100000\n",
      "   recording for 60s; saving to /home/pi/good-vibrations/data/gpepp/2022-05-28T13:04:25.719.wav\n",
      "   uploading data to GitHub\n",
      "Already up to date.\n",
      "[main 8559ff7] record_wav\n",
      " 2 files changed, 22 insertions(+)\n",
      " create mode 100644 data/gpepp/2022-05-28T13:04:25.719.wav\n"
     ]
    },
    {
     "name": "stderr",
     "output_type": "stream",
     "text": [
      "To https://github.com/aubreymoore/good-vibrations.git\n",
      "   485187f..8559ff7  main -> main\n"
     ]
    },
    {
     "name": "stdout",
     "output_type": "stream",
     "text": [
      "   sleeping for 540s\n",
      "711 of 100000\n",
      "   recording for 60s; saving to /home/pi/good-vibrations/data/gpepp/2022-05-28T13:14:32.509.wav\n",
      "   uploading data to GitHub\n",
      "Already up to date.\n",
      "[main bc6e9c9] record_wav\n",
      " 2 files changed, 25 insertions(+), 1 deletion(-)\n",
      " create mode 100644 data/gpepp/2022-05-28T13:14:32.509.wav\n"
     ]
    },
    {
     "name": "stderr",
     "output_type": "stream",
     "text": [
      "To https://github.com/aubreymoore/good-vibrations.git\n",
      "   8559ff7..bc6e9c9  main -> main\n"
     ]
    },
    {
     "name": "stdout",
     "output_type": "stream",
     "text": [
      "   sleeping for 540s\n",
      "712 of 100000\n",
      "   recording for 60s; saving to /home/pi/good-vibrations/data/gpepp/2022-05-28T13:24:39.129.wav\n",
      "   uploading data to GitHub\n",
      "Already up to date.\n",
      "[main 3c3d1fc] record_wav\n",
      " 2 files changed, 23 insertions(+), 1 deletion(-)\n",
      " create mode 100644 data/gpepp/2022-05-28T13:24:39.129.wav\n"
     ]
    },
    {
     "name": "stderr",
     "output_type": "stream",
     "text": [
      "To https://github.com/aubreymoore/good-vibrations.git\n",
      "   bc6e9c9..3c3d1fc  main -> main\n"
     ]
    },
    {
     "name": "stdout",
     "output_type": "stream",
     "text": [
      "   sleeping for 540s\n",
      "713 of 100000\n",
      "   recording for 60s; saving to /home/pi/good-vibrations/data/gpepp/2022-05-28T13:34:46.689.wav\n",
      "   uploading data to GitHub\n",
      "Already up to date.\n",
      "[main 01d6459] record_wav\n",
      " 2 files changed, 23 insertions(+), 1 deletion(-)\n",
      " create mode 100644 data/gpepp/2022-05-28T13:34:46.689.wav\n"
     ]
    },
    {
     "name": "stderr",
     "output_type": "stream",
     "text": [
      "To https://github.com/aubreymoore/good-vibrations.git\n",
      "   3c3d1fc..01d6459  main -> main\n"
     ]
    },
    {
     "name": "stdout",
     "output_type": "stream",
     "text": [
      "   sleeping for 540s\n",
      "714 of 100000\n",
      "   recording for 60s; saving to /home/pi/good-vibrations/data/gpepp/2022-05-28T13:44:53.999.wav\n",
      "   uploading data to GitHub\n",
      "Already up to date.\n",
      "[main 31397ce] record_wav\n",
      " 2 files changed, 23 insertions(+), 1 deletion(-)\n",
      " create mode 100644 data/gpepp/2022-05-28T13:44:53.999.wav\n"
     ]
    },
    {
     "name": "stderr",
     "output_type": "stream",
     "text": [
      "To https://github.com/aubreymoore/good-vibrations.git\n",
      "   01d6459..31397ce  main -> main\n"
     ]
    },
    {
     "name": "stdout",
     "output_type": "stream",
     "text": [
      "   sleeping for 540s\n",
      "715 of 100000\n",
      "   recording for 60s; saving to /home/pi/good-vibrations/data/gpepp/2022-05-28T13:55:00.529.wav\n",
      "   uploading data to GitHub\n",
      "Already up to date.\n",
      "[main 3c2f32c] record_wav\n",
      " 2 files changed, 23 insertions(+), 1 deletion(-)\n",
      " create mode 100644 data/gpepp/2022-05-28T13:55:00.529.wav\n"
     ]
    },
    {
     "name": "stderr",
     "output_type": "stream",
     "text": [
      "To https://github.com/aubreymoore/good-vibrations.git\n",
      "   31397ce..3c2f32c  main -> main\n"
     ]
    },
    {
     "name": "stdout",
     "output_type": "stream",
     "text": [
      "   sleeping for 540s\n",
      "716 of 100000\n",
      "   recording for 60s; saving to /home/pi/good-vibrations/data/gpepp/2022-05-28T14:05:07.163.wav\n",
      "   uploading data to GitHub\n",
      "Already up to date.\n",
      "[main 9bf95a9] record_wav\n",
      " 2 files changed, 23 insertions(+), 1 deletion(-)\n",
      " create mode 100644 data/gpepp/2022-05-28T14:05:07.163.wav\n"
     ]
    },
    {
     "name": "stderr",
     "output_type": "stream",
     "text": [
      "To https://github.com/aubreymoore/good-vibrations.git\n",
      "   3c2f32c..9bf95a9  main -> main\n"
     ]
    },
    {
     "name": "stdout",
     "output_type": "stream",
     "text": [
      "   sleeping for 540s\n",
      "717 of 100000\n",
      "   recording for 60s; saving to /home/pi/good-vibrations/data/gpepp/2022-05-28T14:15:13.939.wav\n",
      "   uploading data to GitHub\n",
      "Already up to date.\n",
      "[main 323ef4c] record_wav\n",
      " 2 files changed, 23 insertions(+), 1 deletion(-)\n",
      " create mode 100644 data/gpepp/2022-05-28T14:15:13.939.wav\n"
     ]
    },
    {
     "name": "stderr",
     "output_type": "stream",
     "text": [
      "To https://github.com/aubreymoore/good-vibrations.git\n",
      "   9bf95a9..323ef4c  main -> main\n"
     ]
    },
    {
     "name": "stdout",
     "output_type": "stream",
     "text": [
      "   sleeping for 540s\n",
      "718 of 100000\n",
      "   recording for 60s; saving to /home/pi/good-vibrations/data/gpepp/2022-05-28T14:25:20.749.wav\n",
      "   uploading data to GitHub\n",
      "Already up to date.\n",
      "[main 48a1af7] record_wav\n",
      " 2 files changed, 23 insertions(+), 1 deletion(-)\n",
      " create mode 100644 data/gpepp/2022-05-28T14:25:20.749.wav\n"
     ]
    },
    {
     "name": "stderr",
     "output_type": "stream",
     "text": [
      "To https://github.com/aubreymoore/good-vibrations.git\n",
      "   323ef4c..48a1af7  main -> main\n"
     ]
    },
    {
     "name": "stdout",
     "output_type": "stream",
     "text": [
      "   sleeping for 540s\n",
      "719 of 100000\n",
      "   recording for 60s; saving to /home/pi/good-vibrations/data/gpepp/2022-05-28T14:35:28.249.wav\n",
      "   uploading data to GitHub\n",
      "Already up to date.\n",
      "[main c729b6a] record_wav\n",
      " 2 files changed, 23 insertions(+), 1 deletion(-)\n",
      " create mode 100644 data/gpepp/2022-05-28T14:35:28.249.wav\n"
     ]
    },
    {
     "name": "stderr",
     "output_type": "stream",
     "text": [
      "To https://github.com/aubreymoore/good-vibrations.git\n",
      "   48a1af7..c729b6a  main -> main\n"
     ]
    },
    {
     "name": "stdout",
     "output_type": "stream",
     "text": [
      "   sleeping for 540s\n",
      "720 of 100000\n",
      "   recording for 60s; saving to /home/pi/good-vibrations/data/gpepp/2022-05-28T14:45:35.059.wav\n",
      "   uploading data to GitHub\n",
      "Already up to date.\n",
      "[main dd5f2c5] record_wav\n",
      " 2 files changed, 23 insertions(+), 1 deletion(-)\n",
      " create mode 100644 data/gpepp/2022-05-28T14:45:35.059.wav\n"
     ]
    },
    {
     "name": "stderr",
     "output_type": "stream",
     "text": [
      "To https://github.com/aubreymoore/good-vibrations.git\n",
      "   c729b6a..dd5f2c5  main -> main\n"
     ]
    },
    {
     "name": "stdout",
     "output_type": "stream",
     "text": [
      "   sleeping for 540s\n",
      "721 of 100000\n",
      "   recording for 60s; saving to /home/pi/good-vibrations/data/gpepp/2022-05-28T14:55:42.073.wav\n",
      "   uploading data to GitHub\n",
      "Already up to date.\n",
      "[main 6c75f49] record_wav\n",
      " 2 files changed, 23 insertions(+), 1 deletion(-)\n",
      " create mode 100644 data/gpepp/2022-05-28T14:55:42.073.wav\n"
     ]
    },
    {
     "name": "stderr",
     "output_type": "stream",
     "text": [
      "To https://github.com/aubreymoore/good-vibrations.git\n",
      "   dd5f2c5..6c75f49  main -> main\n"
     ]
    },
    {
     "name": "stdout",
     "output_type": "stream",
     "text": [
      "   sleeping for 540s\n",
      "722 of 100000\n",
      "   recording for 60s; saving to /home/pi/good-vibrations/data/gpepp/2022-05-28T15:05:50.169.wav\n",
      "   uploading data to GitHub\n",
      "Already up to date.\n",
      "[main 2221648] record_wav\n",
      " 2 files changed, 23 insertions(+), 1 deletion(-)\n",
      " create mode 100644 data/gpepp/2022-05-28T15:05:50.169.wav\n"
     ]
    },
    {
     "name": "stderr",
     "output_type": "stream",
     "text": [
      "To https://github.com/aubreymoore/good-vibrations.git\n",
      "   6c75f49..2221648  main -> main\n"
     ]
    },
    {
     "name": "stdout",
     "output_type": "stream",
     "text": [
      "   sleeping for 540s\n",
      "723 of 100000\n",
      "   recording for 60s; saving to /home/pi/good-vibrations/data/gpepp/2022-05-28T15:15:57.241.wav\n",
      "   uploading data to GitHub\n",
      "Already up to date.\n",
      "[main 433d067] record_wav\n",
      " 2 files changed, 23 insertions(+), 1 deletion(-)\n",
      " create mode 100644 data/gpepp/2022-05-28T15:15:57.241.wav\n"
     ]
    },
    {
     "name": "stderr",
     "output_type": "stream",
     "text": [
      "To https://github.com/aubreymoore/good-vibrations.git\n",
      "   2221648..433d067  main -> main\n"
     ]
    },
    {
     "name": "stdout",
     "output_type": "stream",
     "text": [
      "   sleeping for 540s\n",
      "724 of 100000\n",
      "   recording for 60s; saving to /home/pi/good-vibrations/data/gpepp/2022-05-28T15:26:04.259.wav\n",
      "   uploading data to GitHub\n",
      "Already up to date.\n",
      "[main ad2041c] record_wav\n",
      " 2 files changed, 23 insertions(+), 1 deletion(-)\n",
      " create mode 100644 data/gpepp/2022-05-28T15:26:04.259.wav\n"
     ]
    },
    {
     "name": "stderr",
     "output_type": "stream",
     "text": [
      "To https://github.com/aubreymoore/good-vibrations.git\n",
      "   433d067..ad2041c  main -> main\n"
     ]
    },
    {
     "name": "stdout",
     "output_type": "stream",
     "text": [
      "   sleeping for 540s\n",
      "725 of 100000\n",
      "   recording for 60s; saving to /home/pi/good-vibrations/data/gpepp/2022-05-28T15:36:11.999.wav\n",
      "   uploading data to GitHub\n",
      "Already up to date.\n",
      "[main 4c2530f] record_wav\n",
      " 2 files changed, 23 insertions(+), 1 deletion(-)\n",
      " create mode 100644 data/gpepp/2022-05-28T15:36:11.999.wav\n"
     ]
    },
    {
     "name": "stderr",
     "output_type": "stream",
     "text": [
      "To https://github.com/aubreymoore/good-vibrations.git\n",
      "   ad2041c..4c2530f  main -> main\n"
     ]
    },
    {
     "name": "stdout",
     "output_type": "stream",
     "text": [
      "   sleeping for 540s\n",
      "726 of 100000\n",
      "   recording for 60s; saving to /home/pi/good-vibrations/data/gpepp/2022-05-28T15:46:20.374.wav\n",
      "   uploading data to GitHub\n",
      "Already up to date.\n",
      "[main 31996f3] record_wav\n",
      " 2 files changed, 23 insertions(+), 1 deletion(-)\n",
      " create mode 100644 data/gpepp/2022-05-28T15:46:20.374.wav\n"
     ]
    },
    {
     "name": "stderr",
     "output_type": "stream",
     "text": [
      "To https://github.com/aubreymoore/good-vibrations.git\n",
      "   4c2530f..31996f3  main -> main\n"
     ]
    },
    {
     "name": "stdout",
     "output_type": "stream",
     "text": [
      "   sleeping for 540s\n",
      "727 of 100000\n",
      "   recording for 60s; saving to /home/pi/good-vibrations/data/gpepp/2022-05-28T15:56:26.999.wav\n",
      "   uploading data to GitHub\n",
      "Already up to date.\n",
      "[main f9e69c9] record_wav\n",
      " 2 files changed, 23 insertions(+), 1 deletion(-)\n",
      " create mode 100644 data/gpepp/2022-05-28T15:56:26.999.wav\n"
     ]
    },
    {
     "name": "stderr",
     "output_type": "stream",
     "text": [
      "To https://github.com/aubreymoore/good-vibrations.git\n",
      "   31996f3..f9e69c9  main -> main\n"
     ]
    },
    {
     "name": "stdout",
     "output_type": "stream",
     "text": [
      "   sleeping for 540s\n",
      "728 of 100000\n",
      "   recording for 60s; saving to /home/pi/good-vibrations/data/gpepp/2022-05-28T16:06:33.759.wav\n",
      "   uploading data to GitHub\n",
      "Already up to date.\n",
      "[main fc6d7d7] record_wav\n",
      " 2 files changed, 23 insertions(+), 1 deletion(-)\n",
      " create mode 100644 data/gpepp/2022-05-28T16:06:33.759.wav\n"
     ]
    },
    {
     "name": "stderr",
     "output_type": "stream",
     "text": [
      "To https://github.com/aubreymoore/good-vibrations.git\n",
      "   f9e69c9..fc6d7d7  main -> main\n"
     ]
    },
    {
     "name": "stdout",
     "output_type": "stream",
     "text": [
      "   sleeping for 540s\n",
      "729 of 100000\n",
      "   recording for 60s; saving to /home/pi/good-vibrations/data/gpepp/2022-05-28T16:16:40.329.wav\n",
      "   uploading data to GitHub\n",
      "Already up to date.\n",
      "[main 446ec4e] record_wav\n",
      " 2 files changed, 23 insertions(+), 1 deletion(-)\n",
      " create mode 100644 data/gpepp/2022-05-28T16:16:40.329.wav\n"
     ]
    },
    {
     "name": "stderr",
     "output_type": "stream",
     "text": [
      "error: RPC failed; curl 56 GnuTLS recv error (-54): Error in the pull function.\n",
      "fatal: the remote end hung up unexpectedly\n",
      "fatal: the remote end hung up unexpectedly\n",
      "Everything up-to-date\n"
     ]
    },
    {
     "name": "stdout",
     "output_type": "stream",
     "text": [
      "   sleeping for 540s\n",
      "730 of 100000\n",
      "   recording for 60s; saving to /home/pi/good-vibrations/data/gpepp/2022-05-28T16:42:25.159.wav\n",
      "   uploading data to GitHub\n"
     ]
    },
    {
     "name": "stderr",
     "output_type": "stream",
     "text": [
      "fatal: unable to access 'https://github.com/aubreymoore/good-vibrations.git/': Could not resolve host: github.com\n"
     ]
    },
    {
     "name": "stdout",
     "output_type": "stream",
     "text": [
      "[main 1f2a9a8] record_wav\n",
      " 2 files changed, 25 insertions(+), 1 deletion(-)\n",
      " create mode 100644 data/gpepp/2022-05-28T16:42:25.159.wav\n"
     ]
    },
    {
     "name": "stderr",
     "output_type": "stream",
     "text": [
      "fatal: unable to access 'https://github.com/aubreymoore/good-vibrations.git/': Could not resolve host: github.com\n"
     ]
    },
    {
     "name": "stdout",
     "output_type": "stream",
     "text": [
      "   sleeping for 540s\n",
      "731 of 100000\n",
      "   recording for 60s; saving to /home/pi/good-vibrations/data/gpepp/2022-05-28T16:52:45.889.wav\n",
      "   uploading data to GitHub\n",
      "Already up to date.\n",
      "[main 462d31a] record_wav\n",
      " 2 files changed, 34 insertions(+), 1 deletion(-)\n",
      " create mode 100644 data/gpepp/2022-05-28T16:52:45.889.wav\n"
     ]
    },
    {
     "name": "stderr",
     "output_type": "stream",
     "text": [
      "To https://github.com/aubreymoore/good-vibrations.git\n",
      "   fc6d7d7..462d31a  main -> main\n"
     ]
    },
    {
     "name": "stdout",
     "output_type": "stream",
     "text": [
      "   sleeping for 540s\n",
      "732 of 100000\n",
      "   recording for 60s; saving to /home/pi/good-vibrations/data/gpepp/2022-05-28T17:02:55.469.wav\n",
      "   uploading data to GitHub\n",
      "Already up to date.\n",
      "[main ec75e76] record_wav\n",
      " 2 files changed, 23 insertions(+), 1 deletion(-)\n",
      " create mode 100644 data/gpepp/2022-05-28T17:02:55.469.wav\n"
     ]
    },
    {
     "name": "stderr",
     "output_type": "stream",
     "text": [
      "To https://github.com/aubreymoore/good-vibrations.git\n",
      "   462d31a..ec75e76  main -> main\n"
     ]
    },
    {
     "name": "stdout",
     "output_type": "stream",
     "text": [
      "   sleeping for 540s\n",
      "733 of 100000\n",
      "   recording for 60s; saving to /home/pi/good-vibrations/data/gpepp/2022-05-28T17:13:02.359.wav\n",
      "   uploading data to GitHub\n",
      "Already up to date.\n",
      "[main 4a455ac] record_wav\n",
      " 2 files changed, 21 insertions(+), 1 deletion(-)\n",
      " create mode 100644 data/gpepp/2022-05-28T17:13:02.359.wav\n"
     ]
    },
    {
     "name": "stderr",
     "output_type": "stream",
     "text": [
      "To https://github.com/aubreymoore/good-vibrations.git\n",
      "   ec75e76..4a455ac  main -> main\n"
     ]
    },
    {
     "name": "stdout",
     "output_type": "stream",
     "text": [
      "   sleeping for 540s\n",
      "734 of 100000\n",
      "   recording for 60s; saving to /home/pi/good-vibrations/data/gpepp/2022-05-28T17:23:09.497.wav\n",
      "   uploading data to GitHub\n",
      "Already up to date.\n",
      "[main 7ee482d] record_wav\n",
      " 2 files changed, 22 insertions(+)\n",
      " create mode 100644 data/gpepp/2022-05-28T17:23:09.497.wav\n"
     ]
    },
    {
     "name": "stderr",
     "output_type": "stream",
     "text": [
      "To https://github.com/aubreymoore/good-vibrations.git\n",
      "   4a455ac..7ee482d  main -> main\n"
     ]
    },
    {
     "name": "stdout",
     "output_type": "stream",
     "text": [
      "   sleeping for 540s\n",
      "735 of 100000\n",
      "   recording for 60s; saving to /home/pi/good-vibrations/data/gpepp/2022-05-28T17:33:16.179.wav\n",
      "   uploading data to GitHub\n",
      "Already up to date.\n",
      "[main 09b76fe] record_wav\n",
      " 2 files changed, 22 insertions(+)\n",
      " create mode 100644 data/gpepp/2022-05-28T17:33:16.179.wav\n"
     ]
    },
    {
     "name": "stderr",
     "output_type": "stream",
     "text": [
      "To https://github.com/aubreymoore/good-vibrations.git\n",
      "   7ee482d..09b76fe  main -> main\n"
     ]
    },
    {
     "name": "stdout",
     "output_type": "stream",
     "text": [
      "   sleeping for 540s\n",
      "736 of 100000\n",
      "   recording for 60s; saving to /home/pi/good-vibrations/data/gpepp/2022-05-28T17:43:23.059.wav\n",
      "   uploading data to GitHub\n",
      "Already up to date.\n",
      "[main 2ef2227] record_wav\n",
      " 2 files changed, 22 insertions(+)\n",
      " create mode 100644 data/gpepp/2022-05-28T17:43:23.059.wav\n"
     ]
    },
    {
     "name": "stderr",
     "output_type": "stream",
     "text": [
      "To https://github.com/aubreymoore/good-vibrations.git\n",
      "   09b76fe..2ef2227  main -> main\n"
     ]
    },
    {
     "name": "stdout",
     "output_type": "stream",
     "text": [
      "   sleeping for 540s\n",
      "737 of 100000\n",
      "   recording for 60s; saving to /home/pi/good-vibrations/data/gpepp/2022-05-28T17:53:30.899.wav\n",
      "   uploading data to GitHub\n",
      "Already up to date.\n",
      "[main 84c30d6] record_wav\n",
      " 2 files changed, 22 insertions(+)\n",
      " create mode 100644 data/gpepp/2022-05-28T17:53:30.899.wav\n"
     ]
    },
    {
     "name": "stderr",
     "output_type": "stream",
     "text": [
      "To https://github.com/aubreymoore/good-vibrations.git\n",
      "   2ef2227..84c30d6  main -> main\n"
     ]
    },
    {
     "name": "stdout",
     "output_type": "stream",
     "text": [
      "   sleeping for 540s\n",
      "738 of 100000\n",
      "   recording for 60s; saving to /home/pi/good-vibrations/data/gpepp/2022-05-28T18:03:37.598.wav\n",
      "   uploading data to GitHub\n",
      "Already up to date.\n",
      "[main 6a206eb] record_wav\n",
      " 2 files changed, 22 insertions(+)\n",
      " create mode 100644 data/gpepp/2022-05-28T18:03:37.598.wav\n"
     ]
    },
    {
     "name": "stderr",
     "output_type": "stream",
     "text": [
      "To https://github.com/aubreymoore/good-vibrations.git\n",
      "   84c30d6..6a206eb  main -> main\n"
     ]
    },
    {
     "name": "stdout",
     "output_type": "stream",
     "text": [
      "   sleeping for 540s\n",
      "739 of 100000\n",
      "   recording for 60s; saving to /home/pi/good-vibrations/data/gpepp/2022-05-28T18:13:44.583.wav\n",
      "   uploading data to GitHub\n",
      "Already up to date.\n",
      "[main 94141f1] record_wav\n",
      " 2 files changed, 22 insertions(+)\n",
      " create mode 100644 data/gpepp/2022-05-28T18:13:44.583.wav\n"
     ]
    },
    {
     "name": "stderr",
     "output_type": "stream",
     "text": [
      "To https://github.com/aubreymoore/good-vibrations.git\n",
      "   6a206eb..94141f1  main -> main\n"
     ]
    },
    {
     "name": "stdout",
     "output_type": "stream",
     "text": [
      "   sleeping for 540s\n",
      "740 of 100000\n",
      "   recording for 60s; saving to /home/pi/good-vibrations/data/gpepp/2022-05-28T18:23:51.859.wav\n",
      "   uploading data to GitHub\n",
      "Already up to date.\n",
      "[main c7bcae0] record_wav\n",
      " 2 files changed, 22 insertions(+)\n",
      " create mode 100644 data/gpepp/2022-05-28T18:23:51.859.wav\n"
     ]
    },
    {
     "name": "stderr",
     "output_type": "stream",
     "text": [
      "To https://github.com/aubreymoore/good-vibrations.git\n",
      "   94141f1..c7bcae0  main -> main\n"
     ]
    },
    {
     "name": "stdout",
     "output_type": "stream",
     "text": [
      "   sleeping for 540s\n",
      "741 of 100000\n",
      "   recording for 60s; saving to /home/pi/good-vibrations/data/gpepp/2022-05-28T18:33:58.579.wav\n",
      "   uploading data to GitHub\n",
      "Already up to date.\n",
      "[main 420eb1a] record_wav\n",
      " 2 files changed, 22 insertions(+)\n",
      " create mode 100644 data/gpepp/2022-05-28T18:33:58.579.wav\n"
     ]
    },
    {
     "name": "stderr",
     "output_type": "stream",
     "text": [
      "To https://github.com/aubreymoore/good-vibrations.git\n",
      "   c7bcae0..420eb1a  main -> main\n"
     ]
    },
    {
     "name": "stdout",
     "output_type": "stream",
     "text": [
      "   sleeping for 540s\n",
      "742 of 100000\n",
      "   recording for 60s; saving to /home/pi/good-vibrations/data/gpepp/2022-05-28T18:44:05.168.wav\n",
      "   uploading data to GitHub\n",
      "Already up to date.\n",
      "[main 29de524] record_wav\n",
      " 2 files changed, 22 insertions(+)\n",
      " create mode 100644 data/gpepp/2022-05-28T18:44:05.168.wav\n"
     ]
    },
    {
     "name": "stderr",
     "output_type": "stream",
     "text": [
      "To https://github.com/aubreymoore/good-vibrations.git\n",
      "   420eb1a..29de524  main -> main\n"
     ]
    },
    {
     "name": "stdout",
     "output_type": "stream",
     "text": [
      "   sleeping for 540s\n",
      "743 of 100000\n",
      "   recording for 60s; saving to /home/pi/good-vibrations/data/gpepp/2022-05-28T18:54:11.609.wav\n",
      "   uploading data to GitHub\n",
      "Already up to date.\n",
      "[main 0bb7d9a] record_wav\n",
      " 2 files changed, 22 insertions(+)\n",
      " create mode 100644 data/gpepp/2022-05-28T18:54:11.609.wav\n"
     ]
    },
    {
     "name": "stderr",
     "output_type": "stream",
     "text": [
      "To https://github.com/aubreymoore/good-vibrations.git\n",
      "   29de524..0bb7d9a  main -> main\n"
     ]
    },
    {
     "name": "stdout",
     "output_type": "stream",
     "text": [
      "   sleeping for 540s\n",
      "744 of 100000\n",
      "   recording for 60s; saving to /home/pi/good-vibrations/data/gpepp/2022-05-28T19:04:18.181.wav\n",
      "   uploading data to GitHub\n",
      "Already up to date.\n",
      "[main 92789e1] record_wav\n",
      " 2 files changed, 22 insertions(+)\n",
      " create mode 100644 data/gpepp/2022-05-28T19:04:18.181.wav\n"
     ]
    },
    {
     "name": "stderr",
     "output_type": "stream",
     "text": [
      "To https://github.com/aubreymoore/good-vibrations.git\n",
      "   0bb7d9a..92789e1  main -> main\n"
     ]
    },
    {
     "name": "stdout",
     "output_type": "stream",
     "text": [
      "   sleeping for 540s\n",
      "745 of 100000\n",
      "   recording for 60s; saving to /home/pi/good-vibrations/data/gpepp/2022-05-28T19:14:24.767.wav\n",
      "   uploading data to GitHub\n",
      "Already up to date.\n",
      "[main c4d2e2b] record_wav\n",
      " 2 files changed, 22 insertions(+)\n",
      " create mode 100644 data/gpepp/2022-05-28T19:14:24.767.wav\n"
     ]
    },
    {
     "name": "stderr",
     "output_type": "stream",
     "text": [
      "To https://github.com/aubreymoore/good-vibrations.git\n",
      "   92789e1..c4d2e2b  main -> main\n"
     ]
    },
    {
     "name": "stdout",
     "output_type": "stream",
     "text": [
      "   sleeping for 540s\n",
      "746 of 100000\n",
      "   recording for 60s; saving to /home/pi/good-vibrations/data/gpepp/2022-05-28T19:24:32.310.wav\n",
      "   uploading data to GitHub\n",
      "Already up to date.\n",
      "[main 45400c8] record_wav\n",
      " 2 files changed, 22 insertions(+)\n",
      " create mode 100644 data/gpepp/2022-05-28T19:24:32.310.wav\n"
     ]
    },
    {
     "name": "stderr",
     "output_type": "stream",
     "text": [
      "To https://github.com/aubreymoore/good-vibrations.git\n",
      "   c4d2e2b..45400c8  main -> main\n"
     ]
    },
    {
     "name": "stdout",
     "output_type": "stream",
     "text": [
      "   sleeping for 540s\n",
      "747 of 100000\n",
      "   recording for 60s; saving to /home/pi/good-vibrations/data/gpepp/2022-05-28T19:34:38.890.wav\n",
      "   uploading data to GitHub\n",
      "Already up to date.\n",
      "[main 33205e4] record_wav\n",
      " 2 files changed, 22 insertions(+)\n",
      " create mode 100644 data/gpepp/2022-05-28T19:34:38.890.wav\n"
     ]
    },
    {
     "name": "stderr",
     "output_type": "stream",
     "text": [
      "To https://github.com/aubreymoore/good-vibrations.git\n",
      "   45400c8..33205e4  main -> main\n"
     ]
    },
    {
     "name": "stdout",
     "output_type": "stream",
     "text": [
      "   sleeping for 540s\n",
      "748 of 100000\n",
      "   recording for 60s; saving to /home/pi/good-vibrations/data/gpepp/2022-05-28T19:44:45.509.wav\n",
      "   uploading data to GitHub\n",
      "Already up to date.\n",
      "[main 6a5b476] record_wav\n",
      " 2 files changed, 22 insertions(+)\n",
      " create mode 100644 data/gpepp/2022-05-28T19:44:45.509.wav\n"
     ]
    },
    {
     "name": "stderr",
     "output_type": "stream",
     "text": [
      "To https://github.com/aubreymoore/good-vibrations.git\n",
      "   33205e4..6a5b476  main -> main\n"
     ]
    },
    {
     "name": "stdout",
     "output_type": "stream",
     "text": [
      "   sleeping for 540s\n",
      "749 of 100000\n",
      "   recording for 60s; saving to /home/pi/good-vibrations/data/gpepp/2022-05-28T19:54:52.685.wav\n",
      "   uploading data to GitHub\n",
      "Already up to date.\n",
      "[main d4d2fc1] record_wav\n",
      " 2 files changed, 25 insertions(+), 1 deletion(-)\n",
      " create mode 100644 data/gpepp/2022-05-28T19:54:52.685.wav\n"
     ]
    },
    {
     "name": "stderr",
     "output_type": "stream",
     "text": [
      "To https://github.com/aubreymoore/good-vibrations.git\n",
      "   6a5b476..d4d2fc1  main -> main\n"
     ]
    },
    {
     "name": "stdout",
     "output_type": "stream",
     "text": [
      "   sleeping for 540s\n",
      "750 of 100000\n",
      "   recording for 60s; saving to /home/pi/good-vibrations/data/gpepp/2022-05-28T20:04:59.287.wav\n",
      "   uploading data to GitHub\n",
      "Already up to date.\n",
      "[main 79c702c] record_wav\n",
      " 2 files changed, 23 insertions(+), 1 deletion(-)\n",
      " create mode 100644 data/gpepp/2022-05-28T20:04:59.287.wav\n"
     ]
    },
    {
     "name": "stderr",
     "output_type": "stream",
     "text": [
      "To https://github.com/aubreymoore/good-vibrations.git\n",
      "   d4d2fc1..79c702c  main -> main\n"
     ]
    },
    {
     "name": "stdout",
     "output_type": "stream",
     "text": [
      "   sleeping for 540s\n",
      "751 of 100000\n",
      "   recording for 60s; saving to /home/pi/good-vibrations/data/gpepp/2022-05-28T20:15:10.722.wav\n",
      "   uploading data to GitHub\n",
      "Already up to date.\n",
      "[main 55115b5] record_wav\n",
      " 2 files changed, 23 insertions(+), 1 deletion(-)\n",
      " create mode 100644 data/gpepp/2022-05-28T20:15:10.722.wav\n"
     ]
    },
    {
     "name": "stderr",
     "output_type": "stream",
     "text": [
      "To https://github.com/aubreymoore/good-vibrations.git\n",
      "   79c702c..55115b5  main -> main\n"
     ]
    },
    {
     "name": "stdout",
     "output_type": "stream",
     "text": [
      "   sleeping for 540s\n",
      "752 of 100000\n",
      "   recording for 60s; saving to /home/pi/good-vibrations/data/gpepp/2022-05-28T20:25:18.080.wav\n",
      "   uploading data to GitHub\n",
      "Already up to date.\n",
      "[main 2e53ada] record_wav\n",
      " 2 files changed, 23 insertions(+), 1 deletion(-)\n",
      " create mode 100644 data/gpepp/2022-05-28T20:25:18.080.wav\n"
     ]
    },
    {
     "name": "stderr",
     "output_type": "stream",
     "text": [
      "To https://github.com/aubreymoore/good-vibrations.git\n",
      "   55115b5..2e53ada  main -> main\n"
     ]
    },
    {
     "name": "stdout",
     "output_type": "stream",
     "text": [
      "   sleeping for 540s\n",
      "753 of 100000\n",
      "   recording for 60s; saving to /home/pi/good-vibrations/data/gpepp/2022-05-28T20:35:24.409.wav\n",
      "   uploading data to GitHub\n",
      "Already up to date.\n",
      "[main 6c7587b] record_wav\n",
      " 2 files changed, 23 insertions(+), 1 deletion(-)\n",
      " create mode 100644 data/gpepp/2022-05-28T20:35:24.409.wav\n"
     ]
    },
    {
     "name": "stderr",
     "output_type": "stream",
     "text": [
      "To https://github.com/aubreymoore/good-vibrations.git\n",
      "   2e53ada..6c7587b  main -> main\n"
     ]
    },
    {
     "name": "stdout",
     "output_type": "stream",
     "text": [
      "   sleeping for 540s\n",
      "754 of 100000\n",
      "   recording for 60s; saving to /home/pi/good-vibrations/data/gpepp/2022-05-28T20:45:30.998.wav\n",
      "   uploading data to GitHub\n",
      "Already up to date.\n",
      "[main 95a389d] record_wav\n",
      " 2 files changed, 23 insertions(+), 1 deletion(-)\n",
      " create mode 100644 data/gpepp/2022-05-28T20:45:30.998.wav\n"
     ]
    },
    {
     "name": "stderr",
     "output_type": "stream",
     "text": [
      "To https://github.com/aubreymoore/good-vibrations.git\n",
      "   6c7587b..95a389d  main -> main\n"
     ]
    },
    {
     "name": "stdout",
     "output_type": "stream",
     "text": [
      "   sleeping for 540s\n",
      "755 of 100000\n",
      "   recording for 60s; saving to /home/pi/good-vibrations/data/gpepp/2022-05-28T20:55:37.514.wav\n",
      "   uploading data to GitHub\n",
      "Already up to date.\n",
      "[main fb1be36] record_wav\n",
      " 2 files changed, 23 insertions(+), 1 deletion(-)\n",
      " create mode 100644 data/gpepp/2022-05-28T20:55:37.514.wav\n"
     ]
    },
    {
     "name": "stderr",
     "output_type": "stream",
     "text": [
      "To https://github.com/aubreymoore/good-vibrations.git\n",
      "   95a389d..fb1be36  main -> main\n"
     ]
    },
    {
     "name": "stdout",
     "output_type": "stream",
     "text": [
      "   sleeping for 540s\n",
      "756 of 100000\n",
      "   recording for 60s; saving to /home/pi/good-vibrations/data/gpepp/2022-05-28T21:05:46.009.wav\n",
      "   uploading data to GitHub\n",
      "Already up to date.\n",
      "[main 3bcfb9f] record_wav\n",
      " 2 files changed, 23 insertions(+), 1 deletion(-)\n",
      " create mode 100644 data/gpepp/2022-05-28T21:05:46.009.wav\n"
     ]
    },
    {
     "name": "stderr",
     "output_type": "stream",
     "text": [
      "To https://github.com/aubreymoore/good-vibrations.git\n",
      "   fb1be36..3bcfb9f  main -> main\n"
     ]
    },
    {
     "name": "stdout",
     "output_type": "stream",
     "text": [
      "   sleeping for 540s\n",
      "757 of 100000\n",
      "   recording for 60s; saving to /home/pi/good-vibrations/data/gpepp/2022-05-28T21:15:53.726.wav\n",
      "   uploading data to GitHub\n",
      "Already up to date.\n",
      "[main 81735b1] record_wav\n",
      " 2 files changed, 23 insertions(+), 1 deletion(-)\n",
      " create mode 100644 data/gpepp/2022-05-28T21:15:53.726.wav\n"
     ]
    },
    {
     "name": "stderr",
     "output_type": "stream",
     "text": [
      "To https://github.com/aubreymoore/good-vibrations.git\n",
      "   3bcfb9f..81735b1  main -> main\n"
     ]
    },
    {
     "name": "stdout",
     "output_type": "stream",
     "text": [
      "   sleeping for 540s\n",
      "758 of 100000\n",
      "   recording for 60s; saving to /home/pi/good-vibrations/data/gpepp/2022-05-28T21:26:01.569.wav\n",
      "   uploading data to GitHub\n",
      "Already up to date.\n",
      "[main b127aae] record_wav\n",
      " 2 files changed, 23 insertions(+), 1 deletion(-)\n",
      " create mode 100644 data/gpepp/2022-05-28T21:26:01.569.wav\n"
     ]
    },
    {
     "name": "stderr",
     "output_type": "stream",
     "text": [
      "To https://github.com/aubreymoore/good-vibrations.git\n",
      "   81735b1..b127aae  main -> main\n"
     ]
    },
    {
     "name": "stdout",
     "output_type": "stream",
     "text": [
      "   sleeping for 540s\n",
      "759 of 100000\n",
      "   recording for 60s; saving to /home/pi/good-vibrations/data/gpepp/2022-05-28T21:36:08.166.wav\n",
      "   uploading data to GitHub\n",
      "Already up to date.\n",
      "[main e0a3ff9] record_wav\n",
      " 2 files changed, 23 insertions(+), 1 deletion(-)\n",
      " create mode 100644 data/gpepp/2022-05-28T21:36:08.166.wav\n"
     ]
    },
    {
     "name": "stderr",
     "output_type": "stream",
     "text": [
      "To https://github.com/aubreymoore/good-vibrations.git\n",
      "   b127aae..e0a3ff9  main -> main\n"
     ]
    },
    {
     "name": "stdout",
     "output_type": "stream",
     "text": [
      "   sleeping for 540s\n",
      "760 of 100000\n",
      "   recording for 60s; saving to /home/pi/good-vibrations/data/gpepp/2022-05-28T21:46:14.749.wav\n",
      "   uploading data to GitHub\n",
      "Already up to date.\n",
      "[main b96d714] record_wav\n",
      " 2 files changed, 23 insertions(+), 1 deletion(-)\n",
      " create mode 100644 data/gpepp/2022-05-28T21:46:14.749.wav\n"
     ]
    },
    {
     "name": "stderr",
     "output_type": "stream",
     "text": [
      "To https://github.com/aubreymoore/good-vibrations.git\n",
      "   e0a3ff9..b96d714  main -> main\n"
     ]
    },
    {
     "name": "stdout",
     "output_type": "stream",
     "text": [
      "   sleeping for 540s\n",
      "761 of 100000\n",
      "   recording for 60s; saving to /home/pi/good-vibrations/data/gpepp/2022-05-28T21:56:21.644.wav\n",
      "   uploading data to GitHub\n",
      "Already up to date.\n",
      "[main ba02d37] record_wav\n",
      " 2 files changed, 23 insertions(+), 1 deletion(-)\n",
      " create mode 100644 data/gpepp/2022-05-28T21:56:21.644.wav\n"
     ]
    },
    {
     "name": "stderr",
     "output_type": "stream",
     "text": [
      "To https://github.com/aubreymoore/good-vibrations.git\n",
      "   b96d714..ba02d37  main -> main\n"
     ]
    },
    {
     "name": "stdout",
     "output_type": "stream",
     "text": [
      "   sleeping for 540s\n",
      "762 of 100000\n",
      "   recording for 60s; saving to /home/pi/good-vibrations/data/gpepp/2022-05-28T22:06:28.369.wav\n",
      "   uploading data to GitHub\n",
      "Already up to date.\n",
      "[main 7a94e80] record_wav\n",
      " 2 files changed, 23 insertions(+), 1 deletion(-)\n",
      " create mode 100644 data/gpepp/2022-05-28T22:06:28.369.wav\n"
     ]
    },
    {
     "name": "stderr",
     "output_type": "stream",
     "text": [
      "To https://github.com/aubreymoore/good-vibrations.git\n",
      "   ba02d37..7a94e80  main -> main\n"
     ]
    },
    {
     "name": "stdout",
     "output_type": "stream",
     "text": [
      "   sleeping for 540s\n",
      "763 of 100000\n",
      "   recording for 60s; saving to /home/pi/good-vibrations/data/gpepp/2022-05-28T22:16:35.749.wav\n",
      "   uploading data to GitHub\n",
      "Already up to date.\n",
      "[main 951ee84] record_wav\n",
      " 2 files changed, 23 insertions(+), 1 deletion(-)\n",
      " create mode 100644 data/gpepp/2022-05-28T22:16:35.749.wav\n"
     ]
    },
    {
     "name": "stderr",
     "output_type": "stream",
     "text": [
      "To https://github.com/aubreymoore/good-vibrations.git\n",
      "   7a94e80..951ee84  main -> main\n"
     ]
    },
    {
     "name": "stdout",
     "output_type": "stream",
     "text": [
      "   sleeping for 540s\n",
      "764 of 100000\n",
      "   recording for 60s; saving to /home/pi/good-vibrations/data/gpepp/2022-05-28T22:26:42.435.wav\n",
      "   uploading data to GitHub\n",
      "Already up to date.\n",
      "[main 435ebd7] record_wav\n",
      " 2 files changed, 23 insertions(+), 1 deletion(-)\n",
      " create mode 100644 data/gpepp/2022-05-28T22:26:42.435.wav\n"
     ]
    },
    {
     "name": "stderr",
     "output_type": "stream",
     "text": [
      "To https://github.com/aubreymoore/good-vibrations.git\n",
      "   951ee84..435ebd7  main -> main\n"
     ]
    },
    {
     "name": "stdout",
     "output_type": "stream",
     "text": [
      "   sleeping for 540s\n",
      "765 of 100000\n",
      "   recording for 60s; saving to /home/pi/good-vibrations/data/gpepp/2022-05-28T22:36:51.049.wav\n",
      "   uploading data to GitHub\n",
      "Already up to date.\n",
      "[main 4844394] record_wav\n",
      " 2 files changed, 21 insertions(+), 1 deletion(-)\n",
      " create mode 100644 data/gpepp/2022-05-28T22:36:51.049.wav\n"
     ]
    },
    {
     "name": "stderr",
     "output_type": "stream",
     "text": [
      "To https://github.com/aubreymoore/good-vibrations.git\n",
      "   435ebd7..4844394  main -> main\n"
     ]
    },
    {
     "name": "stdout",
     "output_type": "stream",
     "text": [
      "   sleeping for 540s\n",
      "766 of 100000\n",
      "   recording for 60s; saving to /home/pi/good-vibrations/data/gpepp/2022-05-28T22:46:57.741.wav\n",
      "   uploading data to GitHub\n",
      "Already up to date.\n",
      "[main 9573013] record_wav\n",
      " 2 files changed, 22 insertions(+)\n",
      " create mode 100644 data/gpepp/2022-05-28T22:46:57.741.wav\n"
     ]
    },
    {
     "name": "stderr",
     "output_type": "stream",
     "text": [
      "To https://github.com/aubreymoore/good-vibrations.git\n",
      "   4844394..9573013  main -> main\n"
     ]
    },
    {
     "name": "stdout",
     "output_type": "stream",
     "text": [
      "   sleeping for 540s\n",
      "767 of 100000\n",
      "   recording for 60s; saving to /home/pi/good-vibrations/data/gpepp/2022-05-28T22:57:06.059.wav\n",
      "   uploading data to GitHub\n",
      "Already up to date.\n",
      "[main 453ac69] record_wav\n",
      " 2 files changed, 22 insertions(+)\n",
      " create mode 100644 data/gpepp/2022-05-28T22:57:06.059.wav\n"
     ]
    },
    {
     "name": "stderr",
     "output_type": "stream",
     "text": [
      "To https://github.com/aubreymoore/good-vibrations.git\n",
      "   9573013..453ac69  main -> main\n"
     ]
    },
    {
     "name": "stdout",
     "output_type": "stream",
     "text": [
      "   sleeping for 540s\n",
      "768 of 100000\n",
      "   recording for 60s; saving to /home/pi/good-vibrations/data/gpepp/2022-05-28T23:07:12.588.wav\n",
      "   uploading data to GitHub\n",
      "Already up to date.\n",
      "[main 005ab83] record_wav\n",
      " 2 files changed, 22 insertions(+)\n",
      " create mode 100644 data/gpepp/2022-05-28T23:07:12.588.wav\n"
     ]
    },
    {
     "name": "stderr",
     "output_type": "stream",
     "text": [
      "To https://github.com/aubreymoore/good-vibrations.git\n",
      "   453ac69..005ab83  main -> main\n"
     ]
    },
    {
     "name": "stdout",
     "output_type": "stream",
     "text": [
      "   sleeping for 540s\n",
      "769 of 100000\n",
      "   recording for 60s; saving to /home/pi/good-vibrations/data/gpepp/2022-05-28T23:17:19.712.wav\n",
      "   uploading data to GitHub\n",
      "Already up to date.\n",
      "[main 8056b7c] record_wav\n",
      " 2 files changed, 22 insertions(+)\n",
      " create mode 100644 data/gpepp/2022-05-28T23:17:19.712.wav\n"
     ]
    },
    {
     "name": "stderr",
     "output_type": "stream",
     "text": [
      "To https://github.com/aubreymoore/good-vibrations.git\n",
      "   005ab83..8056b7c  main -> main\n"
     ]
    },
    {
     "name": "stdout",
     "output_type": "stream",
     "text": [
      "   sleeping for 540s\n",
      "770 of 100000\n",
      "   recording for 60s; saving to /home/pi/good-vibrations/data/gpepp/2022-05-28T23:27:26.403.wav\n",
      "   uploading data to GitHub\n",
      "Already up to date.\n",
      "[main b24e035] record_wav\n",
      " 2 files changed, 22 insertions(+)\n",
      " create mode 100644 data/gpepp/2022-05-28T23:27:26.403.wav\n"
     ]
    },
    {
     "name": "stderr",
     "output_type": "stream",
     "text": [
      "To https://github.com/aubreymoore/good-vibrations.git\n",
      "   8056b7c..b24e035  main -> main\n"
     ]
    },
    {
     "name": "stdout",
     "output_type": "stream",
     "text": [
      "   sleeping for 540s\n",
      "771 of 100000\n",
      "   recording for 60s; saving to /home/pi/good-vibrations/data/gpepp/2022-05-28T23:37:33.717.wav\n",
      "   uploading data to GitHub\n",
      "Already up to date.\n",
      "[main 27f1b32] record_wav\n",
      " 2 files changed, 22 insertions(+)\n",
      " create mode 100644 data/gpepp/2022-05-28T23:37:33.717.wav\n"
     ]
    },
    {
     "name": "stderr",
     "output_type": "stream",
     "text": [
      "To https://github.com/aubreymoore/good-vibrations.git\n",
      "   b24e035..27f1b32  main -> main\n"
     ]
    },
    {
     "name": "stdout",
     "output_type": "stream",
     "text": [
      "   sleeping for 540s\n",
      "772 of 100000\n",
      "   recording for 60s; saving to /home/pi/good-vibrations/data/gpepp/2022-05-28T23:47:40.249.wav\n",
      "   uploading data to GitHub\n",
      "Already up to date.\n",
      "[main f8f9f1c] record_wav\n",
      " 2 files changed, 22 insertions(+)\n",
      " create mode 100644 data/gpepp/2022-05-28T23:47:40.249.wav\n"
     ]
    },
    {
     "name": "stderr",
     "output_type": "stream",
     "text": [
      "To https://github.com/aubreymoore/good-vibrations.git\n",
      "   27f1b32..f8f9f1c  main -> main\n"
     ]
    },
    {
     "name": "stdout",
     "output_type": "stream",
     "text": [
      "   sleeping for 540s\n",
      "773 of 100000\n",
      "   recording for 60s; saving to /home/pi/good-vibrations/data/gpepp/2022-05-28T23:57:48.889.wav\n",
      "   uploading data to GitHub\n",
      "Already up to date.\n",
      "[main 189f2ec] record_wav\n",
      " 2 files changed, 22 insertions(+)\n",
      " create mode 100644 data/gpepp/2022-05-28T23:57:48.889.wav\n"
     ]
    },
    {
     "name": "stderr",
     "output_type": "stream",
     "text": [
      "To https://github.com/aubreymoore/good-vibrations.git\n",
      "   f8f9f1c..189f2ec  main -> main\n"
     ]
    },
    {
     "name": "stdout",
     "output_type": "stream",
     "text": [
      "   sleeping for 540s\n",
      "774 of 100000\n",
      "   recording for 60s; saving to /home/pi/good-vibrations/data/gpepp/2022-05-29T00:07:56.013.wav\n",
      "   uploading data to GitHub\n",
      "Already up to date.\n",
      "[main 3632556] record_wav\n",
      " 2 files changed, 22 insertions(+)\n",
      " create mode 100644 data/gpepp/2022-05-29T00:07:56.013.wav\n"
     ]
    },
    {
     "name": "stderr",
     "output_type": "stream",
     "text": [
      "To https://github.com/aubreymoore/good-vibrations.git\n",
      "   189f2ec..3632556  main -> main\n"
     ]
    },
    {
     "name": "stdout",
     "output_type": "stream",
     "text": [
      "   sleeping for 540s\n",
      "775 of 100000\n",
      "   recording for 60s; saving to /home/pi/good-vibrations/data/gpepp/2022-05-29T00:18:03.046.wav\n",
      "   uploading data to GitHub\n",
      "Already up to date.\n",
      "[main 8d115f3] record_wav\n",
      " 2 files changed, 22 insertions(+)\n",
      " create mode 100644 data/gpepp/2022-05-29T00:18:03.046.wav\n"
     ]
    },
    {
     "name": "stderr",
     "output_type": "stream",
     "text": [
      "To https://github.com/aubreymoore/good-vibrations.git\n",
      "   3632556..8d115f3  main -> main\n"
     ]
    },
    {
     "name": "stdout",
     "output_type": "stream",
     "text": [
      "   sleeping for 540s\n",
      "776 of 100000\n",
      "   recording for 60s; saving to /home/pi/good-vibrations/data/gpepp/2022-05-29T00:28:09.749.wav\n",
      "   uploading data to GitHub\n",
      "Already up to date.\n",
      "[main 8938a9f] record_wav\n",
      " 2 files changed, 22 insertions(+)\n",
      " create mode 100644 data/gpepp/2022-05-29T00:28:09.749.wav\n"
     ]
    },
    {
     "name": "stderr",
     "output_type": "stream",
     "text": [
      "To https://github.com/aubreymoore/good-vibrations.git\n",
      "   8d115f3..8938a9f  main -> main\n"
     ]
    },
    {
     "name": "stdout",
     "output_type": "stream",
     "text": [
      "   sleeping for 540s\n",
      "777 of 100000\n",
      "   recording for 60s; saving to /home/pi/good-vibrations/data/gpepp/2022-05-29T00:38:16.749.wav\n",
      "   uploading data to GitHub\n",
      "Already up to date.\n",
      "[main 0b3b13f] record_wav\n",
      " 2 files changed, 25 insertions(+), 1 deletion(-)\n",
      " create mode 100644 data/gpepp/2022-05-29T00:38:16.749.wav\n"
     ]
    },
    {
     "name": "stderr",
     "output_type": "stream",
     "text": [
      "To https://github.com/aubreymoore/good-vibrations.git\n",
      "   8938a9f..0b3b13f  main -> main\n"
     ]
    },
    {
     "name": "stdout",
     "output_type": "stream",
     "text": [
      "   sleeping for 540s\n",
      "778 of 100000\n",
      "   recording for 60s; saving to /home/pi/good-vibrations/data/gpepp/2022-05-29T00:48:24.113.wav\n",
      "   uploading data to GitHub\n"
     ]
    },
    {
     "name": "stderr",
     "output_type": "stream",
     "text": [
      "fatal: unable to access 'https://github.com/aubreymoore/good-vibrations.git/': Could not resolve host: github.com\n"
     ]
    },
    {
     "name": "stdout",
     "output_type": "stream",
     "text": [
      "[main e672ef9] record_wav\n",
      " 2 files changed, 23 insertions(+), 1 deletion(-)\n",
      " create mode 100644 data/gpepp/2022-05-29T00:48:24.113.wav\n",
      "   sleeping for 540s\n"
     ]
    },
    {
     "name": "stderr",
     "output_type": "stream",
     "text": [
      "fatal: unable to access 'https://github.com/aubreymoore/good-vibrations.git/': Could not resolve host: github.com\n"
     ]
    },
    {
     "name": "stdout",
     "output_type": "stream",
     "text": [
      "779 of 100000\n",
      "   recording for 60s; saving to /home/pi/good-vibrations/data/gpepp/2022-05-29T00:58:24.953.wav\n",
      "   uploading data to GitHub\n"
     ]
    },
    {
     "name": "stderr",
     "output_type": "stream",
     "text": [
      "fatal: unable to access 'https://github.com/aubreymoore/good-vibrations.git/': Could not resolve host: github.com\n"
     ]
    },
    {
     "name": "stdout",
     "output_type": "stream",
     "text": [
      "[main 0100107] record_wav\n",
      " 2 files changed, 34 insertions(+), 1 deletion(-)\n",
      " create mode 100644 data/gpepp/2022-05-29T00:58:24.953.wav\n"
     ]
    },
    {
     "name": "stderr",
     "output_type": "stream",
     "text": [
      "error: RPC failed; curl 92 HTTP/2 stream 0 was not closed cleanly: CANCEL (err 8)\n",
      "fatal: the remote end hung up unexpectedly\n",
      "fatal: the remote end hung up unexpectedly\n",
      "Everything up-to-date\n"
     ]
    },
    {
     "name": "stdout",
     "output_type": "stream",
     "text": [
      "   sleeping for 540s\n",
      "780 of 100000\n",
      "   recording for 60s; saving to /home/pi/good-vibrations/data/gpepp/2022-05-29T01:08:43.583.wav\n",
      "   uploading data to GitHub\n",
      "Already up to date.\n",
      "[main 94cbf24] record_wav\n",
      " 2 files changed, 37 insertions(+), 1 deletion(-)\n",
      " create mode 100644 data/gpepp/2022-05-29T01:08:43.583.wav\n"
     ]
    },
    {
     "name": "stderr",
     "output_type": "stream",
     "text": [
      "To https://github.com/aubreymoore/good-vibrations.git\n",
      "   0b3b13f..94cbf24  main -> main\n"
     ]
    },
    {
     "name": "stdout",
     "output_type": "stream",
     "text": [
      "   sleeping for 540s\n",
      "781 of 100000\n",
      "   recording for 60s; saving to /home/pi/good-vibrations/data/gpepp/2022-05-29T01:18:52.999.wav\n",
      "   uploading data to GitHub\n",
      "Already up to date.\n",
      "[main 7ecd182] record_wav\n",
      " 2 files changed, 23 insertions(+), 1 deletion(-)\n",
      " create mode 100644 data/gpepp/2022-05-29T01:18:52.999.wav\n"
     ]
    },
    {
     "name": "stderr",
     "output_type": "stream",
     "text": [
      "To https://github.com/aubreymoore/good-vibrations.git\n",
      "   94cbf24..7ecd182  main -> main\n"
     ]
    },
    {
     "name": "stdout",
     "output_type": "stream",
     "text": [
      "   sleeping for 540s\n",
      "782 of 100000\n",
      "   recording for 60s; saving to /home/pi/good-vibrations/data/gpepp/2022-05-29T01:28:59.693.wav\n",
      "   uploading data to GitHub\n",
      "Already up to date.\n",
      "[main 076cc55] record_wav\n",
      " 2 files changed, 23 insertions(+), 1 deletion(-)\n",
      " create mode 100644 data/gpepp/2022-05-29T01:28:59.693.wav\n"
     ]
    },
    {
     "name": "stderr",
     "output_type": "stream",
     "text": [
      "To https://github.com/aubreymoore/good-vibrations.git\n",
      "   7ecd182..076cc55  main -> main\n"
     ]
    },
    {
     "name": "stdout",
     "output_type": "stream",
     "text": [
      "   sleeping for 540s\n",
      "783 of 100000\n",
      "   recording for 60s; saving to /home/pi/good-vibrations/data/gpepp/2022-05-29T01:39:06.239.wav\n",
      "   uploading data to GitHub\n",
      "Already up to date.\n",
      "[main 4b6f295] record_wav\n",
      " 2 files changed, 23 insertions(+), 1 deletion(-)\n",
      " create mode 100644 data/gpepp/2022-05-29T01:39:06.239.wav\n"
     ]
    },
    {
     "name": "stderr",
     "output_type": "stream",
     "text": [
      "To https://github.com/aubreymoore/good-vibrations.git\n",
      "   076cc55..4b6f295  main -> main\n"
     ]
    },
    {
     "name": "stdout",
     "output_type": "stream",
     "text": [
      "   sleeping for 540s\n",
      "784 of 100000\n",
      "   recording for 60s; saving to /home/pi/good-vibrations/data/gpepp/2022-05-29T01:49:13.119.wav\n",
      "   uploading data to GitHub\n",
      "Already up to date.\n",
      "[main 7dc7b37] record_wav\n",
      " 2 files changed, 23 insertions(+), 1 deletion(-)\n",
      " create mode 100644 data/gpepp/2022-05-29T01:49:13.119.wav\n"
     ]
    },
    {
     "name": "stderr",
     "output_type": "stream",
     "text": [
      "To https://github.com/aubreymoore/good-vibrations.git\n",
      "   4b6f295..7dc7b37  main -> main\n"
     ]
    },
    {
     "name": "stdout",
     "output_type": "stream",
     "text": [
      "   sleeping for 540s\n",
      "785 of 100000\n",
      "   recording for 60s; saving to /home/pi/good-vibrations/data/gpepp/2022-05-29T01:59:19.699.wav\n",
      "   uploading data to GitHub\n",
      "Already up to date.\n",
      "[main 7ab9db9] record_wav\n",
      " 2 files changed, 23 insertions(+), 1 deletion(-)\n",
      " create mode 100644 data/gpepp/2022-05-29T01:59:19.699.wav\n"
     ]
    },
    {
     "name": "stderr",
     "output_type": "stream",
     "text": [
      "To https://github.com/aubreymoore/good-vibrations.git\n",
      "   7dc7b37..7ab9db9  main -> main\n"
     ]
    },
    {
     "name": "stdout",
     "output_type": "stream",
     "text": [
      "   sleeping for 540s\n",
      "786 of 100000\n",
      "   recording for 60s; saving to /home/pi/good-vibrations/data/gpepp/2022-05-29T02:09:26.179.wav\n",
      "   uploading data to GitHub\n",
      "Already up to date.\n",
      "[main d5c2245] record_wav\n",
      " 2 files changed, 23 insertions(+), 1 deletion(-)\n",
      " create mode 100644 data/gpepp/2022-05-29T02:09:26.179.wav\n"
     ]
    },
    {
     "name": "stderr",
     "output_type": "stream",
     "text": [
      "To https://github.com/aubreymoore/good-vibrations.git\n",
      "   7ab9db9..d5c2245  main -> main\n"
     ]
    },
    {
     "name": "stdout",
     "output_type": "stream",
     "text": [
      "   sleeping for 540s\n",
      "787 of 100000\n",
      "   recording for 60s; saving to /home/pi/good-vibrations/data/gpepp/2022-05-29T02:19:32.879.wav\n",
      "   uploading data to GitHub\n",
      "Already up to date.\n",
      "[main a4b29f6] record_wav\n",
      " 2 files changed, 23 insertions(+), 1 deletion(-)\n",
      " create mode 100644 data/gpepp/2022-05-29T02:19:32.879.wav\n"
     ]
    },
    {
     "name": "stderr",
     "output_type": "stream",
     "text": [
      "To https://github.com/aubreymoore/good-vibrations.git\n",
      "   d5c2245..a4b29f6  main -> main\n"
     ]
    },
    {
     "name": "stdout",
     "output_type": "stream",
     "text": [
      "   sleeping for 540s\n",
      "788 of 100000\n",
      "   recording for 60s; saving to /home/pi/good-vibrations/data/gpepp/2022-05-29T02:29:39.329.wav\n",
      "   uploading data to GitHub\n",
      "Already up to date.\n",
      "[main 699dcfb] record_wav\n",
      " 2 files changed, 23 insertions(+), 1 deletion(-)\n",
      " create mode 100644 data/gpepp/2022-05-29T02:29:39.329.wav\n"
     ]
    },
    {
     "name": "stderr",
     "output_type": "stream",
     "text": [
      "To https://github.com/aubreymoore/good-vibrations.git\n",
      "   a4b29f6..699dcfb  main -> main\n"
     ]
    },
    {
     "name": "stdout",
     "output_type": "stream",
     "text": [
      "   sleeping for 540s\n",
      "789 of 100000\n",
      "   recording for 60s; saving to /home/pi/good-vibrations/data/gpepp/2022-05-29T02:39:49.859.wav\n",
      "   uploading data to GitHub\n"
     ]
    },
    {
     "name": "stderr",
     "output_type": "stream",
     "text": [
      "fatal: unable to access 'https://github.com/aubreymoore/good-vibrations.git/': Could not resolve host: github.com\n"
     ]
    },
    {
     "name": "stdout",
     "output_type": "stream",
     "text": [
      "[main 4e45688] record_wav\n",
      " 2 files changed, 23 insertions(+), 1 deletion(-)\n",
      " create mode 100644 data/gpepp/2022-05-29T02:39:49.859.wav\n",
      "   sleeping for 540s\n"
     ]
    },
    {
     "name": "stderr",
     "output_type": "stream",
     "text": [
      "fatal: unable to access 'https://github.com/aubreymoore/good-vibrations.git/': Could not resolve host: github.com\n"
     ]
    },
    {
     "name": "stdout",
     "output_type": "stream",
     "text": [
      "790 of 100000\n",
      "   recording for 60s; saving to /home/pi/good-vibrations/data/gpepp/2022-05-29T02:49:50.638.wav\n",
      "   uploading data to GitHub\n",
      "Already up to date.\n",
      "[main e23c7b2] record_wav\n",
      " 2 files changed, 34 insertions(+), 1 deletion(-)\n",
      " create mode 100644 data/gpepp/2022-05-29T02:49:50.638.wav\n"
     ]
    },
    {
     "name": "stderr",
     "output_type": "stream",
     "text": [
      "To https://github.com/aubreymoore/good-vibrations.git\n",
      "   699dcfb..e23c7b2  main -> main\n"
     ]
    },
    {
     "name": "stdout",
     "output_type": "stream",
     "text": [
      "   sleeping for 540s\n",
      "791 of 100000\n",
      "   recording for 60s; saving to /home/pi/good-vibrations/data/gpepp/2022-05-29T02:59:58.929.wav\n",
      "   uploading data to GitHub\n",
      "Already up to date.\n",
      "[main f8b1922] record_wav\n",
      " 2 files changed, 23 insertions(+), 1 deletion(-)\n",
      " create mode 100644 data/gpepp/2022-05-29T02:59:58.929.wav\n"
     ]
    },
    {
     "name": "stderr",
     "output_type": "stream",
     "text": [
      "To https://github.com/aubreymoore/good-vibrations.git\n",
      "   e23c7b2..f8b1922  main -> main\n"
     ]
    },
    {
     "name": "stdout",
     "output_type": "stream",
     "text": [
      "   sleeping for 540s\n",
      "792 of 100000\n",
      "   recording for 60s; saving to /home/pi/good-vibrations/data/gpepp/2022-05-29T03:10:07.439.wav\n",
      "   uploading data to GitHub\n",
      "Already up to date.\n",
      "[main 7038a75] record_wav\n",
      " 2 files changed, 23 insertions(+), 1 deletion(-)\n",
      " create mode 100644 data/gpepp/2022-05-29T03:10:07.439.wav\n"
     ]
    },
    {
     "name": "stderr",
     "output_type": "stream",
     "text": [
      "To https://github.com/aubreymoore/good-vibrations.git\n",
      "   f8b1922..7038a75  main -> main\n"
     ]
    },
    {
     "name": "stdout",
     "output_type": "stream",
     "text": [
      "   sleeping for 540s\n",
      "793 of 100000\n",
      "   recording for 60s; saving to /home/pi/good-vibrations/data/gpepp/2022-05-29T03:20:15.370.wav\n",
      "   uploading data to GitHub\n",
      "Already up to date.\n",
      "[main 34475d4] record_wav\n",
      " 2 files changed, 21 insertions(+), 1 deletion(-)\n",
      " create mode 100644 data/gpepp/2022-05-29T03:20:15.370.wav\n"
     ]
    },
    {
     "name": "stderr",
     "output_type": "stream",
     "text": [
      "To https://github.com/aubreymoore/good-vibrations.git\n",
      "   7038a75..34475d4  main -> main\n"
     ]
    },
    {
     "name": "stdout",
     "output_type": "stream",
     "text": [
      "   sleeping for 540s\n",
      "794 of 100000\n",
      "   recording for 60s; saving to /home/pi/good-vibrations/data/gpepp/2022-05-29T03:30:22.365.wav\n",
      "   uploading data to GitHub\n",
      "Already up to date.\n",
      "[main 84671d5] record_wav\n",
      " 2 files changed, 22 insertions(+)\n",
      " create mode 100644 data/gpepp/2022-05-29T03:30:22.365.wav\n"
     ]
    },
    {
     "name": "stderr",
     "output_type": "stream",
     "text": [
      "To https://github.com/aubreymoore/good-vibrations.git\n",
      "   34475d4..84671d5  main -> main\n"
     ]
    },
    {
     "name": "stdout",
     "output_type": "stream",
     "text": [
      "   sleeping for 540s\n",
      "795 of 100000\n",
      "   recording for 60s; saving to /home/pi/good-vibrations/data/gpepp/2022-05-29T03:40:29.019.wav\n",
      "   uploading data to GitHub\n",
      "Already up to date.\n",
      "[main 05fd51b] record_wav\n",
      " 2 files changed, 22 insertions(+)\n",
      " create mode 100644 data/gpepp/2022-05-29T03:40:29.019.wav\n"
     ]
    },
    {
     "name": "stderr",
     "output_type": "stream",
     "text": [
      "To https://github.com/aubreymoore/good-vibrations.git\n",
      "   84671d5..05fd51b  main -> main\n"
     ]
    },
    {
     "name": "stdout",
     "output_type": "stream",
     "text": [
      "   sleeping for 540s\n",
      "796 of 100000\n",
      "   recording for 60s; saving to /home/pi/good-vibrations/data/gpepp/2022-05-29T03:50:37.959.wav\n",
      "   uploading data to GitHub\n",
      "Already up to date.\n",
      "[main 5425b5e] record_wav\n",
      " 2 files changed, 22 insertions(+)\n",
      " create mode 100644 data/gpepp/2022-05-29T03:50:37.959.wav\n"
     ]
    },
    {
     "name": "stderr",
     "output_type": "stream",
     "text": [
      "To https://github.com/aubreymoore/good-vibrations.git\n",
      "   05fd51b..5425b5e  main -> main\n"
     ]
    },
    {
     "name": "stdout",
     "output_type": "stream",
     "text": [
      "   sleeping for 540s\n",
      "797 of 100000\n",
      "   recording for 60s; saving to /home/pi/good-vibrations/data/gpepp/2022-05-29T04:00:45.449.wav\n",
      "   uploading data to GitHub\n",
      "Already up to date.\n",
      "[main 8fe318b] record_wav\n",
      " 2 files changed, 22 insertions(+)\n",
      " create mode 100644 data/gpepp/2022-05-29T04:00:45.449.wav\n"
     ]
    },
    {
     "name": "stderr",
     "output_type": "stream",
     "text": [
      "To https://github.com/aubreymoore/good-vibrations.git\n",
      "   5425b5e..8fe318b  main -> main\n"
     ]
    },
    {
     "name": "stdout",
     "output_type": "stream",
     "text": [
      "   sleeping for 540s\n",
      "798 of 100000\n",
      "   recording for 60s; saving to /home/pi/good-vibrations/data/gpepp/2022-05-29T04:10:54.849.wav\n",
      "   uploading data to GitHub\n",
      "Already up to date.\n",
      "[main d00d016] record_wav\n",
      " 2 files changed, 22 insertions(+)\n",
      " create mode 100644 data/gpepp/2022-05-29T04:10:54.849.wav\n"
     ]
    },
    {
     "name": "stderr",
     "output_type": "stream",
     "text": [
      "To https://github.com/aubreymoore/good-vibrations.git\n",
      "   8fe318b..d00d016  main -> main\n"
     ]
    },
    {
     "name": "stdout",
     "output_type": "stream",
     "text": [
      "   sleeping for 540s\n",
      "799 of 100000\n",
      "   recording for 60s; saving to /home/pi/good-vibrations/data/gpepp/2022-05-29T04:21:01.773.wav\n",
      "   uploading data to GitHub\n",
      "Already up to date.\n",
      "[main 5fa3330] record_wav\n",
      " 2 files changed, 25 insertions(+), 1 deletion(-)\n",
      " create mode 100644 data/gpepp/2022-05-29T04:21:01.773.wav\n"
     ]
    },
    {
     "name": "stderr",
     "output_type": "stream",
     "text": [
      "To https://github.com/aubreymoore/good-vibrations.git\n",
      "   d00d016..5fa3330  main -> main\n"
     ]
    },
    {
     "name": "stdout",
     "output_type": "stream",
     "text": [
      "   sleeping for 540s\n",
      "800 of 100000\n",
      "   recording for 60s; saving to /home/pi/good-vibrations/data/gpepp/2022-05-29T04:31:08.659.wav\n",
      "   uploading data to GitHub\n",
      "Already up to date.\n",
      "[main e320f56] record_wav\n",
      " 2 files changed, 23 insertions(+), 1 deletion(-)\n",
      " create mode 100644 data/gpepp/2022-05-29T04:31:08.659.wav\n"
     ]
    },
    {
     "name": "stderr",
     "output_type": "stream",
     "text": [
      "To https://github.com/aubreymoore/good-vibrations.git\n",
      "   5fa3330..e320f56  main -> main\n"
     ]
    },
    {
     "name": "stdout",
     "output_type": "stream",
     "text": [
      "   sleeping for 540s\n",
      "801 of 100000\n",
      "   recording for 60s; saving to /home/pi/good-vibrations/data/gpepp/2022-05-29T04:41:15.089.wav\n",
      "   uploading data to GitHub\n",
      "Already up to date.\n",
      "[main 37c594e] record_wav\n",
      " 2 files changed, 23 insertions(+), 1 deletion(-)\n",
      " create mode 100644 data/gpepp/2022-05-29T04:41:15.089.wav\n"
     ]
    },
    {
     "name": "stderr",
     "output_type": "stream",
     "text": [
      "To https://github.com/aubreymoore/good-vibrations.git\n",
      "   e320f56..37c594e  main -> main\n"
     ]
    },
    {
     "name": "stdout",
     "output_type": "stream",
     "text": [
      "   sleeping for 540s\n",
      "802 of 100000\n",
      "   recording for 60s; saving to /home/pi/good-vibrations/data/gpepp/2022-05-29T04:51:21.714.wav\n",
      "   uploading data to GitHub\n",
      "Already up to date.\n",
      "[main e37c618] record_wav\n",
      " 2 files changed, 23 insertions(+), 1 deletion(-)\n",
      " create mode 100644 data/gpepp/2022-05-29T04:51:21.714.wav\n"
     ]
    },
    {
     "name": "stderr",
     "output_type": "stream",
     "text": [
      "To https://github.com/aubreymoore/good-vibrations.git\n",
      "   37c594e..e37c618  main -> main\n"
     ]
    },
    {
     "name": "stdout",
     "output_type": "stream",
     "text": [
      "   sleeping for 540s\n",
      "803 of 100000\n",
      "   recording for 60s; saving to /home/pi/good-vibrations/data/gpepp/2022-05-29T05:01:28.319.wav\n",
      "   uploading data to GitHub\n",
      "Already up to date.\n",
      "[main c160f03] record_wav\n",
      " 2 files changed, 23 insertions(+), 1 deletion(-)\n",
      " create mode 100644 data/gpepp/2022-05-29T05:01:28.319.wav\n"
     ]
    },
    {
     "name": "stderr",
     "output_type": "stream",
     "text": [
      "To https://github.com/aubreymoore/good-vibrations.git\n",
      "   e37c618..c160f03  main -> main\n"
     ]
    },
    {
     "name": "stdout",
     "output_type": "stream",
     "text": [
      "   sleeping for 540s\n",
      "804 of 100000\n",
      "   recording for 60s; saving to /home/pi/good-vibrations/data/gpepp/2022-05-29T05:11:35.336.wav\n",
      "   uploading data to GitHub\n",
      "Already up to date.\n",
      "[main 1c9851d] record_wav\n",
      " 2 files changed, 23 insertions(+), 1 deletion(-)\n",
      " create mode 100644 data/gpepp/2022-05-29T05:11:35.336.wav\n"
     ]
    },
    {
     "name": "stderr",
     "output_type": "stream",
     "text": [
      "To https://github.com/aubreymoore/good-vibrations.git\n",
      "   c160f03..1c9851d  main -> main\n"
     ]
    },
    {
     "name": "stdout",
     "output_type": "stream",
     "text": [
      "   sleeping for 540s\n",
      "805 of 100000\n",
      "   recording for 60s; saving to /home/pi/good-vibrations/data/gpepp/2022-05-29T05:21:44.461.wav\n",
      "   uploading data to GitHub\n",
      "Already up to date.\n",
      "[main d9c3f7d] record_wav\n",
      " 2 files changed, 23 insertions(+), 1 deletion(-)\n",
      " create mode 100644 data/gpepp/2022-05-29T05:21:44.461.wav\n"
     ]
    },
    {
     "name": "stderr",
     "output_type": "stream",
     "text": [
      "To https://github.com/aubreymoore/good-vibrations.git\n",
      "   1c9851d..d9c3f7d  main -> main\n"
     ]
    },
    {
     "name": "stdout",
     "output_type": "stream",
     "text": [
      "   sleeping for 540s\n",
      "806 of 100000\n",
      "   recording for 60s; saving to /home/pi/good-vibrations/data/gpepp/2022-05-29T05:31:52.146.wav\n",
      "   uploading data to GitHub\n",
      "Already up to date.\n",
      "[main d2f45b6] record_wav\n",
      " 2 files changed, 23 insertions(+), 1 deletion(-)\n",
      " create mode 100644 data/gpepp/2022-05-29T05:31:52.146.wav\n"
     ]
    },
    {
     "name": "stderr",
     "output_type": "stream",
     "text": [
      "To https://github.com/aubreymoore/good-vibrations.git\n",
      "   d9c3f7d..d2f45b6  main -> main\n"
     ]
    },
    {
     "name": "stdout",
     "output_type": "stream",
     "text": [
      "   sleeping for 540s\n",
      "807 of 100000\n",
      "   recording for 60s; saving to /home/pi/good-vibrations/data/gpepp/2022-05-29T05:41:58.583.wav\n",
      "   uploading data to GitHub\n",
      "Already up to date.\n",
      "[main 78ff5f4] record_wav\n",
      " 2 files changed, 23 insertions(+), 1 deletion(-)\n",
      " create mode 100644 data/gpepp/2022-05-29T05:41:58.583.wav\n"
     ]
    },
    {
     "name": "stderr",
     "output_type": "stream",
     "text": [
      "To https://github.com/aubreymoore/good-vibrations.git\n",
      "   d2f45b6..78ff5f4  main -> main\n"
     ]
    },
    {
     "name": "stdout",
     "output_type": "stream",
     "text": [
      "   sleeping for 540s\n",
      "808 of 100000\n",
      "   recording for 60s; saving to /home/pi/good-vibrations/data/gpepp/2022-05-29T05:52:05.459.wav\n",
      "   uploading data to GitHub\n",
      "Already up to date.\n",
      "[main ab93e40] record_wav\n",
      " 2 files changed, 23 insertions(+), 1 deletion(-)\n",
      " create mode 100644 data/gpepp/2022-05-29T05:52:05.459.wav\n"
     ]
    },
    {
     "name": "stderr",
     "output_type": "stream",
     "text": [
      "To https://github.com/aubreymoore/good-vibrations.git\n",
      "   78ff5f4..ab93e40  main -> main\n"
     ]
    },
    {
     "name": "stdout",
     "output_type": "stream",
     "text": [
      "   sleeping for 540s\n",
      "809 of 100000\n",
      "   recording for 60s; saving to /home/pi/good-vibrations/data/gpepp/2022-05-29T06:02:12.175.wav\n",
      "   uploading data to GitHub\n",
      "Already up to date.\n",
      "[main d070ace] record_wav\n",
      " 2 files changed, 23 insertions(+), 1 deletion(-)\n",
      " create mode 100644 data/gpepp/2022-05-29T06:02:12.175.wav\n"
     ]
    },
    {
     "name": "stderr",
     "output_type": "stream",
     "text": [
      "To https://github.com/aubreymoore/good-vibrations.git\n",
      "   ab93e40..d070ace  main -> main\n"
     ]
    },
    {
     "name": "stdout",
     "output_type": "stream",
     "text": [
      "   sleeping for 540s\n",
      "810 of 100000\n",
      "   recording for 60s; saving to /home/pi/good-vibrations/data/gpepp/2022-05-29T06:12:19.838.wav\n",
      "   uploading data to GitHub\n",
      "Already up to date.\n",
      "[main c77e6f5] record_wav\n",
      " 2 files changed, 23 insertions(+), 1 deletion(-)\n",
      " create mode 100644 data/gpepp/2022-05-29T06:12:19.838.wav\n"
     ]
    },
    {
     "name": "stderr",
     "output_type": "stream",
     "text": [
      "To https://github.com/aubreymoore/good-vibrations.git\n",
      "   d070ace..c77e6f5  main -> main\n"
     ]
    },
    {
     "name": "stdout",
     "output_type": "stream",
     "text": [
      "   sleeping for 540s\n",
      "811 of 100000\n",
      "   recording for 60s; saving to /home/pi/good-vibrations/data/gpepp/2022-05-29T06:22:26.339.wav\n",
      "   uploading data to GitHub\n",
      "Already up to date.\n",
      "[main a5e70ee] record_wav\n",
      " 2 files changed, 23 insertions(+), 1 deletion(-)\n",
      " create mode 100644 data/gpepp/2022-05-29T06:22:26.339.wav\n"
     ]
    },
    {
     "name": "stderr",
     "output_type": "stream",
     "text": [
      "To https://github.com/aubreymoore/good-vibrations.git\n",
      "   c77e6f5..a5e70ee  main -> main\n"
     ]
    },
    {
     "name": "stdout",
     "output_type": "stream",
     "text": [
      "   sleeping for 540s\n",
      "812 of 100000\n",
      "   recording for 60s; saving to /home/pi/good-vibrations/data/gpepp/2022-05-29T06:32:33.156.wav\n",
      "   uploading data to GitHub\n",
      "Already up to date.\n",
      "[main 4abef00] record_wav\n",
      " 2 files changed, 23 insertions(+), 1 deletion(-)\n",
      " create mode 100644 data/gpepp/2022-05-29T06:32:33.156.wav\n"
     ]
    },
    {
     "name": "stderr",
     "output_type": "stream",
     "text": [
      "To https://github.com/aubreymoore/good-vibrations.git\n",
      "   a5e70ee..4abef00  main -> main\n"
     ]
    },
    {
     "name": "stdout",
     "output_type": "stream",
     "text": [
      "   sleeping for 540s\n",
      "813 of 100000\n",
      "   recording for 60s; saving to /home/pi/good-vibrations/data/gpepp/2022-05-29T06:42:40.482.wav\n",
      "   uploading data to GitHub\n",
      "Already up to date.\n",
      "[main 524b86b] record_wav\n",
      " 2 files changed, 23 insertions(+), 1 deletion(-)\n",
      " create mode 100644 data/gpepp/2022-05-29T06:42:40.482.wav\n"
     ]
    },
    {
     "name": "stderr",
     "output_type": "stream",
     "text": [
      "To https://github.com/aubreymoore/good-vibrations.git\n",
      "   4abef00..524b86b  main -> main\n"
     ]
    },
    {
     "name": "stdout",
     "output_type": "stream",
     "text": [
      "   sleeping for 540s\n",
      "814 of 100000\n",
      "   recording for 60s; saving to /home/pi/good-vibrations/data/gpepp/2022-05-29T06:52:50.500.wav\n",
      "   uploading data to GitHub\n"
     ]
    },
    {
     "name": "stderr",
     "output_type": "stream",
     "text": [
      "fatal: unable to access 'https://github.com/aubreymoore/good-vibrations.git/': Could not resolve host: github.com\n"
     ]
    },
    {
     "name": "stdout",
     "output_type": "stream",
     "text": [
      "[main 100203d] record_wav\n",
      " 2 files changed, 23 insertions(+), 1 deletion(-)\n",
      " create mode 100644 data/gpepp/2022-05-29T06:52:50.500.wav\n",
      "   sleeping for 540s\n"
     ]
    },
    {
     "name": "stderr",
     "output_type": "stream",
     "text": [
      "fatal: unable to access 'https://github.com/aubreymoore/good-vibrations.git/': Could not resolve host: github.com\n"
     ]
    },
    {
     "name": "stdout",
     "output_type": "stream",
     "text": [
      "815 of 100000\n",
      "   recording for 60s; saving to /home/pi/good-vibrations/data/gpepp/2022-05-29T07:02:51.999.wav\n",
      "   uploading data to GitHub\n",
      "Already up to date.\n",
      "[main 86f5560] record_wav\n",
      " 2 files changed, 34 insertions(+), 1 deletion(-)\n",
      " create mode 100644 data/gpepp/2022-05-29T07:02:51.999.wav\n"
     ]
    },
    {
     "name": "stderr",
     "output_type": "stream",
     "text": [
      "To https://github.com/aubreymoore/good-vibrations.git\n",
      "   524b86b..86f5560  main -> main\n"
     ]
    },
    {
     "name": "stdout",
     "output_type": "stream",
     "text": [
      "   sleeping for 540s\n",
      "816 of 100000\n",
      "   recording for 60s; saving to /home/pi/good-vibrations/data/gpepp/2022-05-29T07:13:00.600.wav\n",
      "   uploading data to GitHub\n",
      "Already up to date.\n",
      "[main adfc49d] record_wav\n",
      " 2 files changed, 23 insertions(+), 1 deletion(-)\n",
      " create mode 100644 data/gpepp/2022-05-29T07:13:00.600.wav\n"
     ]
    },
    {
     "name": "stderr",
     "output_type": "stream",
     "text": [
      "To https://github.com/aubreymoore/good-vibrations.git\n",
      "   86f5560..adfc49d  main -> main\n"
     ]
    },
    {
     "name": "stdout",
     "output_type": "stream",
     "text": [
      "   sleeping for 540s\n",
      "817 of 100000\n",
      "   recording for 60s; saving to /home/pi/good-vibrations/data/gpepp/2022-05-29T07:23:07.884.wav\n",
      "   uploading data to GitHub\n",
      "Already up to date.\n",
      "[main 3a07c1d] record_wav\n",
      " 2 files changed, 21 insertions(+), 1 deletion(-)\n",
      " create mode 100644 data/gpepp/2022-05-29T07:23:07.884.wav\n"
     ]
    },
    {
     "name": "stderr",
     "output_type": "stream",
     "text": [
      "To https://github.com/aubreymoore/good-vibrations.git\n",
      "   adfc49d..3a07c1d  main -> main\n"
     ]
    },
    {
     "name": "stdout",
     "output_type": "stream",
     "text": [
      "   sleeping for 540s\n",
      "818 of 100000\n",
      "   recording for 60s; saving to /home/pi/good-vibrations/data/gpepp/2022-05-29T07:33:15.891.wav\n",
      "   uploading data to GitHub\n",
      "Already up to date.\n",
      "[main 05e1196] record_wav\n",
      " 2 files changed, 22 insertions(+)\n",
      " create mode 100644 data/gpepp/2022-05-29T07:33:15.891.wav\n"
     ]
    },
    {
     "name": "stderr",
     "output_type": "stream",
     "text": [
      "To https://github.com/aubreymoore/good-vibrations.git\n",
      "   3a07c1d..05e1196  main -> main\n"
     ]
    },
    {
     "name": "stdout",
     "output_type": "stream",
     "text": [
      "   sleeping for 540s\n",
      "819 of 100000\n",
      "   recording for 60s; saving to /home/pi/good-vibrations/data/gpepp/2022-05-29T07:43:22.499.wav\n",
      "   uploading data to GitHub\n",
      "Already up to date.\n",
      "[main db7a330] record_wav\n",
      " 2 files changed, 22 insertions(+)\n",
      " create mode 100644 data/gpepp/2022-05-29T07:43:22.499.wav\n"
     ]
    },
    {
     "name": "stderr",
     "output_type": "stream",
     "text": [
      "To https://github.com/aubreymoore/good-vibrations.git\n",
      "   05e1196..db7a330  main -> main\n"
     ]
    },
    {
     "name": "stdout",
     "output_type": "stream",
     "text": [
      "   sleeping for 540s\n",
      "820 of 100000\n",
      "   recording for 60s; saving to /home/pi/good-vibrations/data/gpepp/2022-05-29T07:53:29.017.wav\n",
      "   uploading data to GitHub\n",
      "Already up to date.\n",
      "[main bcce3e5] record_wav\n",
      " 2 files changed, 22 insertions(+)\n",
      " create mode 100644 data/gpepp/2022-05-29T07:53:29.017.wav\n"
     ]
    },
    {
     "name": "stderr",
     "output_type": "stream",
     "text": [
      "To https://github.com/aubreymoore/good-vibrations.git\n",
      "   db7a330..bcce3e5  main -> main\n"
     ]
    },
    {
     "name": "stdout",
     "output_type": "stream",
     "text": [
      "   sleeping for 540s\n",
      "821 of 100000\n",
      "   recording for 60s; saving to /home/pi/good-vibrations/data/gpepp/2022-05-29T08:03:36.999.wav\n",
      "   uploading data to GitHub\n",
      "Already up to date.\n",
      "[main 850943f] record_wav\n",
      " 2 files changed, 22 insertions(+)\n",
      " create mode 100644 data/gpepp/2022-05-29T08:03:36.999.wav\n"
     ]
    },
    {
     "name": "stderr",
     "output_type": "stream",
     "text": [
      "To https://github.com/aubreymoore/good-vibrations.git\n",
      "   bcce3e5..850943f  main -> main\n"
     ]
    },
    {
     "name": "stdout",
     "output_type": "stream",
     "text": [
      "   sleeping for 540s\n",
      "822 of 100000\n",
      "   recording for 60s; saving to /home/pi/good-vibrations/data/gpepp/2022-05-29T08:13:48.999.wav\n",
      "   uploading data to GitHub\n",
      "Already up to date.\n",
      "[main 51a07e7] record_wav\n",
      " 2 files changed, 22 insertions(+)\n",
      " create mode 100644 data/gpepp/2022-05-29T08:13:48.999.wav\n"
     ]
    },
    {
     "name": "stderr",
     "output_type": "stream",
     "text": [
      "To https://github.com/aubreymoore/good-vibrations.git\n",
      "   850943f..51a07e7  main -> main\n"
     ]
    },
    {
     "name": "stdout",
     "output_type": "stream",
     "text": [
      "   sleeping for 540s\n",
      "823 of 100000\n",
      "   recording for 60s; saving to /home/pi/good-vibrations/data/gpepp/2022-05-29T08:23:56.089.wav\n",
      "   uploading data to GitHub\n",
      "Already up to date.\n",
      "[main 74705f1] record_wav\n",
      " 2 files changed, 22 insertions(+)\n",
      " create mode 100644 data/gpepp/2022-05-29T08:23:56.089.wav\n"
     ]
    },
    {
     "name": "stderr",
     "output_type": "stream",
     "text": [
      "To https://github.com/aubreymoore/good-vibrations.git\n",
      "   51a07e7..74705f1  main -> main\n"
     ]
    },
    {
     "name": "stdout",
     "output_type": "stream",
     "text": [
      "   sleeping for 540s\n",
      "824 of 100000\n",
      "   recording for 60s; saving to /home/pi/good-vibrations/data/gpepp/2022-05-29T08:34:02.694.wav\n",
      "   uploading data to GitHub\n",
      "Already up to date.\n",
      "[main ea20f8d] record_wav\n",
      " 2 files changed, 22 insertions(+)\n",
      " create mode 100644 data/gpepp/2022-05-29T08:34:02.694.wav\n"
     ]
    },
    {
     "name": "stderr",
     "output_type": "stream",
     "text": [
      "To https://github.com/aubreymoore/good-vibrations.git\n",
      "   74705f1..ea20f8d  main -> main\n"
     ]
    },
    {
     "name": "stdout",
     "output_type": "stream",
     "text": [
      "   sleeping for 540s\n",
      "825 of 100000\n",
      "   recording for 60s; saving to /home/pi/good-vibrations/data/gpepp/2022-05-29T08:44:09.767.wav\n",
      "   uploading data to GitHub\n",
      "Already up to date.\n",
      "[main 1c1bb0a] record_wav\n",
      " 2 files changed, 22 insertions(+)\n",
      " create mode 100644 data/gpepp/2022-05-29T08:44:09.767.wav\n"
     ]
    },
    {
     "name": "stderr",
     "output_type": "stream",
     "text": [
      "To https://github.com/aubreymoore/good-vibrations.git\n",
      "   ea20f8d..1c1bb0a  main -> main\n"
     ]
    },
    {
     "name": "stdout",
     "output_type": "stream",
     "text": [
      "   sleeping for 540s\n",
      "826 of 100000\n",
      "   recording for 60s; saving to /home/pi/good-vibrations/data/gpepp/2022-05-29T08:54:16.376.wav\n",
      "   uploading data to GitHub\n"
     ]
    },
    {
     "name": "stderr",
     "output_type": "stream",
     "text": [
      "fatal: unable to access 'https://github.com/aubreymoore/good-vibrations.git/': Could not resolve host: github.com\n"
     ]
    },
    {
     "name": "stdout",
     "output_type": "stream",
     "text": [
      "[main 8009c9a] record_wav\n",
      " 2 files changed, 22 insertions(+)\n",
      " create mode 100644 data/gpepp/2022-05-29T08:54:16.376.wav\n",
      "   sleeping for 540s\n"
     ]
    },
    {
     "name": "stderr",
     "output_type": "stream",
     "text": [
      "fatal: unable to access 'https://github.com/aubreymoore/good-vibrations.git/': Could not resolve host: github.com\n"
     ]
    },
    {
     "name": "stdout",
     "output_type": "stream",
     "text": [
      "827 of 100000\n",
      "   recording for 60s; saving to /home/pi/good-vibrations/data/gpepp/2022-05-29T09:04:17.859.wav\n",
      "   uploading data to GitHub\n",
      "Already up to date.\n",
      "[main de36031] record_wav\n",
      " 2 files changed, 27 insertions(+)\n",
      " create mode 100644 data/gpepp/2022-05-29T09:04:17.859.wav\n"
     ]
    },
    {
     "name": "stderr",
     "output_type": "stream",
     "text": [
      "To https://github.com/aubreymoore/good-vibrations.git\n",
      "   1c1bb0a..de36031  main -> main\n"
     ]
    },
    {
     "name": "stdout",
     "output_type": "stream",
     "text": [
      "   sleeping for 540s\n",
      "828 of 100000\n",
      "   recording for 60s; saving to /home/pi/good-vibrations/data/gpepp/2022-05-29T09:14:26.249.wav\n",
      "   uploading data to GitHub\n",
      "Already up to date.\n",
      "[main dfd9417] record_wav\n",
      " 2 files changed, 28 insertions(+)\n",
      " create mode 100644 data/gpepp/2022-05-29T09:14:26.249.wav\n"
     ]
    },
    {
     "name": "stderr",
     "output_type": "stream",
     "text": [
      "To https://github.com/aubreymoore/good-vibrations.git\n",
      "   de36031..dfd9417  main -> main\n"
     ]
    },
    {
     "name": "stdout",
     "output_type": "stream",
     "text": [
      "   sleeping for 540s\n",
      "829 of 100000\n",
      "   recording for 60s; saving to /home/pi/good-vibrations/data/gpepp/2022-05-29T09:24:33.056.wav\n",
      "   uploading data to GitHub\n"
     ]
    },
    {
     "name": "stderr",
     "output_type": "stream",
     "text": [
      "From https://github.com/aubreymoore/good-vibrations\n",
      "   dfd9417..b82d726  main       -> origin/main\n"
     ]
    },
    {
     "name": "stdout",
     "output_type": "stream",
     "text": [
      "Updating dfd9417..b82d726\n",
      "Fast-forward\n",
      " data/gpepp/actions.csv | 1 +\n",
      " 1 file changed, 1 insertion(+)\n",
      "[main 78ff224] record_wav\n",
      " 2 files changed, 25 insertions(+), 1 deletion(-)\n",
      " create mode 100644 data/gpepp/2022-05-29T09:24:33.056.wav\n"
     ]
    },
    {
     "name": "stderr",
     "output_type": "stream",
     "text": [
      "To https://github.com/aubreymoore/good-vibrations.git\n",
      "   b82d726..78ff224  main -> main\n"
     ]
    },
    {
     "name": "stdout",
     "output_type": "stream",
     "text": [
      "   sleeping for 540s\n",
      "830 of 100000\n",
      "   recording for 60s; saving to /home/pi/good-vibrations/data/gpepp/2022-05-29T09:34:40.499.wav\n",
      "   uploading data to GitHub\n",
      "Already up to date.\n",
      "[main dc42760] record_wav\n",
      " 2 files changed, 40 insertions(+), 1 deletion(-)\n",
      " create mode 100644 data/gpepp/2022-05-29T09:34:40.499.wav\n"
     ]
    },
    {
     "name": "stderr",
     "output_type": "stream",
     "text": [
      "To https://github.com/aubreymoore/good-vibrations.git\n",
      "   78ff224..dc42760  main -> main\n"
     ]
    },
    {
     "name": "stdout",
     "output_type": "stream",
     "text": [
      "   sleeping for 540s\n",
      "831 of 100000\n",
      "   recording for 60s; saving to /home/pi/good-vibrations/data/gpepp/2022-05-29T09:44:51.939.wav\n",
      "   uploading data to GitHub\n",
      "Already up to date.\n",
      "[main 5ef6b27] record_wav\n",
      " 2 files changed, 23 insertions(+), 1 deletion(-)\n",
      " create mode 100644 data/gpepp/2022-05-29T09:44:51.939.wav\n"
     ]
    },
    {
     "name": "stderr",
     "output_type": "stream",
     "text": [
      "To https://github.com/aubreymoore/good-vibrations.git\n",
      "   dc42760..5ef6b27  main -> main\n"
     ]
    },
    {
     "name": "stdout",
     "output_type": "stream",
     "text": [
      "   sleeping for 540s\n",
      "832 of 100000\n",
      "   recording for 60s; saving to /home/pi/good-vibrations/data/gpepp/2022-05-29T09:54:58.643.wav\n",
      "   uploading data to GitHub\n",
      "Already up to date.\n",
      "[main 432dd7d] record_wav\n",
      " 2 files changed, 23 insertions(+), 1 deletion(-)\n",
      " create mode 100644 data/gpepp/2022-05-29T09:54:58.643.wav\n"
     ]
    },
    {
     "name": "stderr",
     "output_type": "stream",
     "text": [
      "To https://github.com/aubreymoore/good-vibrations.git\n",
      "   5ef6b27..432dd7d  main -> main\n"
     ]
    },
    {
     "name": "stdout",
     "output_type": "stream",
     "text": [
      "   sleeping for 540s\n",
      "833 of 100000\n",
      "   recording for 60s; saving to /home/pi/good-vibrations/data/gpepp/2022-05-29T10:05:05.999.wav\n",
      "   uploading data to GitHub\n",
      "Already up to date.\n",
      "[main c485969] record_wav\n",
      " 2 files changed, 23 insertions(+), 1 deletion(-)\n",
      " create mode 100644 data/gpepp/2022-05-29T10:05:05.999.wav\n"
     ]
    },
    {
     "name": "stderr",
     "output_type": "stream",
     "text": [
      "To https://github.com/aubreymoore/good-vibrations.git\n",
      "   432dd7d..c485969  main -> main\n"
     ]
    },
    {
     "name": "stdout",
     "output_type": "stream",
     "text": [
      "   sleeping for 540s\n",
      "834 of 100000\n",
      "   recording for 60s; saving to /home/pi/good-vibrations/data/gpepp/2022-05-29T10:15:12.509.wav\n",
      "   uploading data to GitHub\n",
      "Already up to date.\n",
      "[main 9a7726f] record_wav\n",
      " 2 files changed, 23 insertions(+), 1 deletion(-)\n",
      " create mode 100644 data/gpepp/2022-05-29T10:15:12.509.wav\n"
     ]
    },
    {
     "name": "stderr",
     "output_type": "stream",
     "text": [
      "To https://github.com/aubreymoore/good-vibrations.git\n",
      "   c485969..9a7726f  main -> main\n"
     ]
    },
    {
     "name": "stdout",
     "output_type": "stream",
     "text": [
      "   sleeping for 540s\n",
      "835 of 100000\n",
      "   recording for 60s; saving to /home/pi/good-vibrations/data/gpepp/2022-05-29T10:25:19.459.wav\n",
      "   uploading data to GitHub\n",
      "Already up to date.\n",
      "[main 3d49406] record_wav\n",
      " 2 files changed, 23 insertions(+), 1 deletion(-)\n",
      " create mode 100644 data/gpepp/2022-05-29T10:25:19.459.wav\n"
     ]
    },
    {
     "name": "stderr",
     "output_type": "stream",
     "text": [
      "To https://github.com/aubreymoore/good-vibrations.git\n",
      "   9a7726f..3d49406  main -> main\n"
     ]
    },
    {
     "name": "stdout",
     "output_type": "stream",
     "text": [
      "   sleeping for 540s\n",
      "836 of 100000\n",
      "   recording for 60s; saving to /home/pi/good-vibrations/data/gpepp/2022-05-29T10:35:26.583.wav\n",
      "   uploading data to GitHub\n"
     ]
    },
    {
     "name": "stderr",
     "output_type": "stream",
     "text": [
      "From https://github.com/aubreymoore/good-vibrations\n",
      "   3d49406..f7cd47e  main       -> origin/main\n"
     ]
    },
    {
     "name": "stdout",
     "output_type": "stream",
     "text": [
      "Updating 3d49406..f7cd47e\n",
      "Fast-forward\n",
      " data/gpepp/actions.csv | 12 ++++++------\n",
      " 1 file changed, 6 insertions(+), 6 deletions(-)\n",
      "[main ffd40f9] record_wav\n",
      " 2 files changed, 23 insertions(+), 1 deletion(-)\n",
      " create mode 100644 data/gpepp/2022-05-29T10:35:26.583.wav\n"
     ]
    },
    {
     "name": "stderr",
     "output_type": "stream",
     "text": [
      "To https://github.com/aubreymoore/good-vibrations.git\n",
      "   f7cd47e..ffd40f9  main -> main\n"
     ]
    },
    {
     "name": "stdout",
     "output_type": "stream",
     "text": [
      "   sleeping for 540s\n",
      "837 of 100000\n",
      "   recording for 60s; saving to /home/pi/good-vibrations/data/gpepp/2022-05-29T10:45:34.374.wav\n",
      "   uploading data to GitHub\n",
      "Already up to date.\n",
      "[main e38dcc8] record_wav\n",
      " 2 files changed, 40 insertions(+), 1 deletion(-)\n",
      " create mode 100644 data/gpepp/2022-05-29T10:45:34.374.wav\n"
     ]
    },
    {
     "name": "stderr",
     "output_type": "stream",
     "text": [
      "To https://github.com/aubreymoore/good-vibrations.git\n",
      "   ffd40f9..e38dcc8  main -> main\n"
     ]
    },
    {
     "name": "stdout",
     "output_type": "stream",
     "text": [
      "   sleeping for 540s\n",
      "838 of 100000\n",
      "   recording for 60s; saving to /home/pi/good-vibrations/data/gpepp/2022-05-29T10:55:41.169.wav\n",
      "   uploading data to GitHub\n",
      "Already up to date.\n",
      "[main f09e2b9] record_wav\n",
      " 2 files changed, 23 insertions(+), 1 deletion(-)\n",
      " create mode 100644 data/gpepp/2022-05-29T10:55:41.169.wav\n"
     ]
    },
    {
     "name": "stderr",
     "output_type": "stream",
     "text": [
      "To https://github.com/aubreymoore/good-vibrations.git\n",
      "   e38dcc8..f09e2b9  main -> main\n"
     ]
    },
    {
     "name": "stdout",
     "output_type": "stream",
     "text": [
      "   sleeping for 540s\n",
      "839 of 100000\n",
      "   recording for 60s; saving to /home/pi/good-vibrations/data/gpepp/2022-05-29T11:05:50.609.wav\n",
      "   uploading data to GitHub\n",
      "Already up to date.\n",
      "[main b962b3b] record_wav\n",
      " 2 files changed, 23 insertions(+), 1 deletion(-)\n",
      " create mode 100644 data/gpepp/2022-05-29T11:05:50.609.wav\n"
     ]
    },
    {
     "name": "stderr",
     "output_type": "stream",
     "text": [
      "To https://github.com/aubreymoore/good-vibrations.git\n",
      "   f09e2b9..b962b3b  main -> main\n"
     ]
    },
    {
     "name": "stdout",
     "output_type": "stream",
     "text": [
      "   sleeping for 540s\n",
      "840 of 100000\n",
      "   recording for 60s; saving to /home/pi/good-vibrations/data/gpepp/2022-05-29T11:15:57.739.wav\n",
      "   uploading data to GitHub\n",
      "Already up to date.\n",
      "[main 3da1e62] record_wav\n",
      " 2 files changed, 23 insertions(+), 1 deletion(-)\n",
      " create mode 100644 data/gpepp/2022-05-29T11:15:57.739.wav\n"
     ]
    },
    {
     "name": "stderr",
     "output_type": "stream",
     "text": [
      "To https://github.com/aubreymoore/good-vibrations.git\n",
      "   b962b3b..3da1e62  main -> main\n"
     ]
    },
    {
     "name": "stdout",
     "output_type": "stream",
     "text": [
      "   sleeping for 540s\n",
      "841 of 100000\n",
      "   recording for 60s; saving to /home/pi/good-vibrations/data/gpepp/2022-05-29T11:26:04.739.wav\n",
      "   uploading data to GitHub\n",
      "Already up to date.\n",
      "[main efc3bdf] record_wav\n",
      " 2 files changed, 23 insertions(+), 1 deletion(-)\n",
      " create mode 100644 data/gpepp/2022-05-29T11:26:04.739.wav\n"
     ]
    },
    {
     "name": "stderr",
     "output_type": "stream",
     "text": [
      "To https://github.com/aubreymoore/good-vibrations.git\n",
      "   3da1e62..efc3bdf  main -> main\n"
     ]
    },
    {
     "name": "stdout",
     "output_type": "stream",
     "text": [
      "   sleeping for 540s\n",
      "842 of 100000\n",
      "   recording for 60s; saving to /home/pi/good-vibrations/data/gpepp/2022-05-29T11:36:11.497.wav\n",
      "   uploading data to GitHub\n",
      "Already up to date.\n",
      "[main 4eabc79] record_wav\n",
      " 2 files changed, 23 insertions(+), 1 deletion(-)\n",
      " create mode 100644 data/gpepp/2022-05-29T11:36:11.497.wav\n"
     ]
    },
    {
     "name": "stderr",
     "output_type": "stream",
     "text": [
      "To https://github.com/aubreymoore/good-vibrations.git\n",
      "   efc3bdf..4eabc79  main -> main\n"
     ]
    },
    {
     "name": "stdout",
     "output_type": "stream",
     "text": [
      "   sleeping for 540s\n",
      "843 of 100000\n",
      "   recording for 60s; saving to /home/pi/good-vibrations/data/gpepp/2022-05-29T11:46:18.013.wav\n",
      "   uploading data to GitHub\n",
      "Already up to date.\n",
      "[main caa78ed] record_wav\n",
      " 2 files changed, 23 insertions(+), 1 deletion(-)\n",
      " create mode 100644 data/gpepp/2022-05-29T11:46:18.013.wav\n"
     ]
    },
    {
     "name": "stderr",
     "output_type": "stream",
     "text": [
      "To https://github.com/aubreymoore/good-vibrations.git\n",
      "   4eabc79..caa78ed  main -> main\n"
     ]
    },
    {
     "name": "stdout",
     "output_type": "stream",
     "text": [
      "   sleeping for 540s\n",
      "844 of 100000\n",
      "   recording for 60s; saving to /home/pi/good-vibrations/data/gpepp/2022-05-29T11:56:24.806.wav\n",
      "   uploading data to GitHub\n",
      "Already up to date.\n",
      "[main 0872a5b] record_wav\n",
      " 2 files changed, 23 insertions(+), 1 deletion(-)\n",
      " create mode 100644 data/gpepp/2022-05-29T11:56:24.806.wav\n"
     ]
    },
    {
     "name": "stderr",
     "output_type": "stream",
     "text": [
      "To https://github.com/aubreymoore/good-vibrations.git\n",
      "   caa78ed..0872a5b  main -> main\n"
     ]
    },
    {
     "name": "stdout",
     "output_type": "stream",
     "text": [
      "   sleeping for 540s\n",
      "845 of 100000\n",
      "   recording for 60s; saving to /home/pi/good-vibrations/data/gpepp/2022-05-29T12:06:31.310.wav\n",
      "   uploading data to GitHub\n",
      "Already up to date.\n",
      "[main 353399e] record_wav\n",
      " 2 files changed, 23 insertions(+), 1 deletion(-)\n",
      " create mode 100644 data/gpepp/2022-05-29T12:06:31.310.wav\n"
     ]
    },
    {
     "name": "stderr",
     "output_type": "stream",
     "text": [
      "To https://github.com/aubreymoore/good-vibrations.git\n",
      "   0872a5b..353399e  main -> main\n"
     ]
    },
    {
     "name": "stdout",
     "output_type": "stream",
     "text": [
      "   sleeping for 540s\n",
      "846 of 100000\n",
      "   recording for 60s; saving to /home/pi/good-vibrations/data/gpepp/2022-05-29T12:16:39.029.wav\n",
      "   uploading data to GitHub\n",
      "Already up to date.\n",
      "[main 4cd7106] record_wav\n",
      " 2 files changed, 21 insertions(+), 1 deletion(-)\n",
      " create mode 100644 data/gpepp/2022-05-29T12:16:39.029.wav\n"
     ]
    },
    {
     "name": "stderr",
     "output_type": "stream",
     "text": [
      "To https://github.com/aubreymoore/good-vibrations.git\n",
      "   353399e..4cd7106  main -> main\n"
     ]
    },
    {
     "name": "stdout",
     "output_type": "stream",
     "text": [
      "   sleeping for 540s\n",
      "847 of 100000\n",
      "   recording for 60s; saving to /home/pi/good-vibrations/data/gpepp/2022-05-29T12:26:45.764.wav\n",
      "   uploading data to GitHub\n",
      "Already up to date.\n",
      "[main 99b7294] record_wav\n",
      " 2 files changed, 22 insertions(+)\n",
      " create mode 100644 data/gpepp/2022-05-29T12:26:45.764.wav\n"
     ]
    },
    {
     "name": "stderr",
     "output_type": "stream",
     "text": [
      "To https://github.com/aubreymoore/good-vibrations.git\n",
      "   4cd7106..99b7294  main -> main\n"
     ]
    },
    {
     "name": "stdout",
     "output_type": "stream",
     "text": [
      "   sleeping for 540s\n",
      "848 of 100000\n",
      "   recording for 60s; saving to /home/pi/good-vibrations/data/gpepp/2022-05-29T12:36:53.169.wav\n",
      "   uploading data to GitHub\n",
      "Already up to date.\n",
      "[main 7fac7eb] record_wav\n",
      " 2 files changed, 22 insertions(+)\n",
      " create mode 100644 data/gpepp/2022-05-29T12:36:53.169.wav\n"
     ]
    },
    {
     "name": "stderr",
     "output_type": "stream",
     "text": [
      "To https://github.com/aubreymoore/good-vibrations.git\n",
      "   99b7294..7fac7eb  main -> main\n"
     ]
    },
    {
     "name": "stdout",
     "output_type": "stream",
     "text": [
      "   sleeping for 540s\n",
      "849 of 100000\n",
      "   recording for 60s; saving to /home/pi/good-vibrations/data/gpepp/2022-05-29T12:46:59.729.wav\n",
      "   uploading data to GitHub\n",
      "Already up to date.\n",
      "[main be2d187] record_wav\n",
      " 2 files changed, 22 insertions(+)\n",
      " create mode 100644 data/gpepp/2022-05-29T12:46:59.729.wav\n"
     ]
    },
    {
     "name": "stderr",
     "output_type": "stream",
     "text": [
      "To https://github.com/aubreymoore/good-vibrations.git\n",
      "   7fac7eb..be2d187  main -> main\n"
     ]
    },
    {
     "name": "stdout",
     "output_type": "stream",
     "text": [
      "   sleeping for 540s\n",
      "850 of 100000\n",
      "   recording for 60s; saving to /home/pi/good-vibrations/data/gpepp/2022-05-29T12:57:06.583.wav\n",
      "   uploading data to GitHub\n",
      "Already up to date.\n",
      "[main 02a2d7f] record_wav\n",
      " 2 files changed, 22 insertions(+)\n",
      " create mode 100644 data/gpepp/2022-05-29T12:57:06.583.wav\n"
     ]
    },
    {
     "name": "stderr",
     "output_type": "stream",
     "text": [
      "To https://github.com/aubreymoore/good-vibrations.git\n",
      "   be2d187..02a2d7f  main -> main\n"
     ]
    },
    {
     "name": "stdout",
     "output_type": "stream",
     "text": [
      "   sleeping for 540s\n",
      "851 of 100000\n",
      "   recording for 60s; saving to /home/pi/good-vibrations/data/gpepp/2022-05-29T13:07:13.109.wav\n",
      "   uploading data to GitHub\n",
      "Already up to date.\n",
      "[main d53d0dc] record_wav\n",
      " 2 files changed, 22 insertions(+)\n",
      " create mode 100644 data/gpepp/2022-05-29T13:07:13.109.wav\n"
     ]
    },
    {
     "name": "stderr",
     "output_type": "stream",
     "text": [
      "To https://github.com/aubreymoore/good-vibrations.git\n",
      "   02a2d7f..d53d0dc  main -> main\n"
     ]
    },
    {
     "name": "stdout",
     "output_type": "stream",
     "text": [
      "   sleeping for 540s\n",
      "852 of 100000\n",
      "   recording for 60s; saving to /home/pi/good-vibrations/data/gpepp/2022-05-29T13:17:20.105.wav\n",
      "   uploading data to GitHub\n",
      "Already up to date.\n",
      "[main 97e35c1] record_wav\n",
      " 2 files changed, 22 insertions(+)\n",
      " create mode 100644 data/gpepp/2022-05-29T13:17:20.105.wav\n"
     ]
    },
    {
     "name": "stderr",
     "output_type": "stream",
     "text": [
      "To https://github.com/aubreymoore/good-vibrations.git\n",
      "   d53d0dc..97e35c1  main -> main\n"
     ]
    },
    {
     "name": "stdout",
     "output_type": "stream",
     "text": [
      "   sleeping for 540s\n",
      "853 of 100000\n",
      "   recording for 60s; saving to /home/pi/good-vibrations/data/gpepp/2022-05-29T13:27:26.831.wav\n",
      "   uploading data to GitHub\n",
      "Already up to date.\n",
      "[main 6c71550] record_wav\n",
      " 2 files changed, 22 insertions(+)\n",
      " create mode 100644 data/gpepp/2022-05-29T13:27:26.831.wav\n"
     ]
    },
    {
     "name": "stderr",
     "output_type": "stream",
     "text": [
      "To https://github.com/aubreymoore/good-vibrations.git\n",
      "   97e35c1..6c71550  main -> main\n"
     ]
    },
    {
     "name": "stdout",
     "output_type": "stream",
     "text": [
      "   sleeping for 540s\n",
      "854 of 100000\n",
      "   recording for 60s; saving to /home/pi/good-vibrations/data/gpepp/2022-05-29T13:37:33.359.wav\n",
      "   uploading data to GitHub\n",
      "Already up to date.\n",
      "[main 86a3029] record_wav\n",
      " 2 files changed, 22 insertions(+)\n",
      " create mode 100644 data/gpepp/2022-05-29T13:37:33.359.wav\n"
     ]
    },
    {
     "name": "stderr",
     "output_type": "stream",
     "text": [
      "To https://github.com/aubreymoore/good-vibrations.git\n",
      "   6c71550..86a3029  main -> main\n"
     ]
    },
    {
     "name": "stdout",
     "output_type": "stream",
     "text": [
      "   sleeping for 540s\n",
      "855 of 100000\n",
      "   recording for 60s; saving to /home/pi/good-vibrations/data/gpepp/2022-05-29T13:47:40.187.wav\n",
      "   uploading data to GitHub\n",
      "Already up to date.\n",
      "[main 953b3e7] record_wav\n",
      " 2 files changed, 22 insertions(+)\n",
      " create mode 100644 data/gpepp/2022-05-29T13:47:40.187.wav\n"
     ]
    },
    {
     "name": "stderr",
     "output_type": "stream",
     "text": [
      "To https://github.com/aubreymoore/good-vibrations.git\n",
      "   86a3029..953b3e7  main -> main\n"
     ]
    },
    {
     "name": "stdout",
     "output_type": "stream",
     "text": [
      "   sleeping for 540s\n",
      "856 of 100000\n",
      "   recording for 60s; saving to /home/pi/good-vibrations/data/gpepp/2022-05-29T13:57:46.717.wav\n",
      "   uploading data to GitHub\n",
      "Already up to date.\n",
      "[main 13a6566] record_wav\n",
      " 2 files changed, 22 insertions(+)\n",
      " create mode 100644 data/gpepp/2022-05-29T13:57:46.717.wav\n"
     ]
    },
    {
     "name": "stderr",
     "output_type": "stream",
     "text": [
      "To https://github.com/aubreymoore/good-vibrations.git\n",
      "   953b3e7..13a6566  main -> main\n"
     ]
    },
    {
     "name": "stdout",
     "output_type": "stream",
     "text": [
      "   sleeping for 540s\n",
      "857 of 100000\n",
      "   recording for 60s; saving to /home/pi/good-vibrations/data/gpepp/2022-05-29T14:07:54.417.wav\n",
      "   uploading data to GitHub\n",
      "Already up to date.\n",
      "[main e2643c8] record_wav\n",
      " 2 files changed, 22 insertions(+)\n",
      " create mode 100644 data/gpepp/2022-05-29T14:07:54.417.wav\n"
     ]
    },
    {
     "name": "stderr",
     "output_type": "stream",
     "text": [
      "To https://github.com/aubreymoore/good-vibrations.git\n",
      "   13a6566..e2643c8  main -> main\n"
     ]
    },
    {
     "name": "stdout",
     "output_type": "stream",
     "text": [
      "   sleeping for 540s\n",
      "858 of 100000\n",
      "   recording for 60s; saving to /home/pi/good-vibrations/data/gpepp/2022-05-29T14:18:01.244.wav\n",
      "   uploading data to GitHub\n",
      "Already up to date.\n",
      "[main 34b7681] record_wav\n",
      " 2 files changed, 22 insertions(+)\n",
      " create mode 100644 data/gpepp/2022-05-29T14:18:01.244.wav\n"
     ]
    },
    {
     "name": "stderr",
     "output_type": "stream",
     "text": [
      "To https://github.com/aubreymoore/good-vibrations.git\n",
      "   e2643c8..34b7681  main -> main\n"
     ]
    },
    {
     "name": "stdout",
     "output_type": "stream",
     "text": [
      "   sleeping for 540s\n",
      "859 of 100000\n",
      "   recording for 60s; saving to /home/pi/good-vibrations/data/gpepp/2022-05-29T14:28:09.445.wav\n",
      "   uploading data to GitHub\n",
      "Already up to date.\n",
      "[main 40b875c] record_wav\n",
      " 2 files changed, 25 insertions(+), 1 deletion(-)\n",
      " create mode 100644 data/gpepp/2022-05-29T14:28:09.445.wav\n"
     ]
    },
    {
     "name": "stderr",
     "output_type": "stream",
     "text": [
      "To https://github.com/aubreymoore/good-vibrations.git\n",
      "   34b7681..40b875c  main -> main\n"
     ]
    },
    {
     "name": "stdout",
     "output_type": "stream",
     "text": [
      "   sleeping for 540s\n",
      "860 of 100000\n",
      "   recording for 60s; saving to /home/pi/good-vibrations/data/gpepp/2022-05-29T14:38:16.849.wav\n",
      "   uploading data to GitHub\n",
      "Already up to date.\n",
      "[main 50a658a] record_wav\n",
      " 2 files changed, 23 insertions(+), 1 deletion(-)\n",
      " create mode 100644 data/gpepp/2022-05-29T14:38:16.849.wav\n"
     ]
    },
    {
     "name": "stderr",
     "output_type": "stream",
     "text": [
      "To https://github.com/aubreymoore/good-vibrations.git\n",
      "   40b875c..50a658a  main -> main\n"
     ]
    },
    {
     "name": "stdout",
     "output_type": "stream",
     "text": [
      "   sleeping for 540s\n",
      "861 of 100000\n",
      "   recording for 60s; saving to /home/pi/good-vibrations/data/gpepp/2022-05-29T14:48:23.844.wav\n",
      "   uploading data to GitHub\n",
      "Already up to date.\n",
      "[main c4764c9] record_wav\n",
      " 2 files changed, 23 insertions(+), 1 deletion(-)\n",
      " create mode 100644 data/gpepp/2022-05-29T14:48:23.844.wav\n"
     ]
    },
    {
     "name": "stderr",
     "output_type": "stream",
     "text": [
      "To https://github.com/aubreymoore/good-vibrations.git\n",
      "   50a658a..c4764c9  main -> main\n"
     ]
    },
    {
     "name": "stdout",
     "output_type": "stream",
     "text": [
      "   sleeping for 540s\n",
      "862 of 100000\n",
      "   recording for 60s; saving to /home/pi/good-vibrations/data/gpepp/2022-05-29T14:58:31.320.wav\n",
      "   uploading data to GitHub\n",
      "Already up to date.\n",
      "[main 050bf8a] record_wav\n",
      " 2 files changed, 23 insertions(+), 1 deletion(-)\n",
      " create mode 100644 data/gpepp/2022-05-29T14:58:31.320.wav\n"
     ]
    },
    {
     "name": "stderr",
     "output_type": "stream",
     "text": [
      "To https://github.com/aubreymoore/good-vibrations.git\n",
      "   c4764c9..050bf8a  main -> main\n"
     ]
    },
    {
     "name": "stdout",
     "output_type": "stream",
     "text": [
      "   sleeping for 540s\n",
      "863 of 100000\n",
      "   recording for 60s; saving to /home/pi/good-vibrations/data/gpepp/2022-05-29T15:08:37.996.wav\n",
      "   uploading data to GitHub\n",
      "Already up to date.\n",
      "[main 311c7a7] record_wav\n",
      " 2 files changed, 23 insertions(+), 1 deletion(-)\n",
      " create mode 100644 data/gpepp/2022-05-29T15:08:37.996.wav\n"
     ]
    },
    {
     "name": "stderr",
     "output_type": "stream",
     "text": [
      "To https://github.com/aubreymoore/good-vibrations.git\n",
      "   050bf8a..311c7a7  main -> main\n"
     ]
    },
    {
     "name": "stdout",
     "output_type": "stream",
     "text": [
      "   sleeping for 540s\n",
      "864 of 100000\n",
      "   recording for 60s; saving to /home/pi/good-vibrations/data/gpepp/2022-05-29T15:18:44.642.wav\n",
      "   uploading data to GitHub\n"
     ]
    },
    {
     "name": "stderr",
     "output_type": "stream",
     "text": [
      "fatal: unable to access 'https://github.com/aubreymoore/good-vibrations.git/': Could not resolve host: github.com\n"
     ]
    },
    {
     "name": "stdout",
     "output_type": "stream",
     "text": [
      "[main 4f467f9] record_wav\n",
      " 2 files changed, 23 insertions(+), 1 deletion(-)\n",
      " create mode 100644 data/gpepp/2022-05-29T15:18:44.642.wav\n",
      "   sleeping for 540s\n"
     ]
    },
    {
     "name": "stderr",
     "output_type": "stream",
     "text": [
      "fatal: unable to access 'https://github.com/aubreymoore/good-vibrations.git/': Could not resolve host: github.com\n"
     ]
    },
    {
     "name": "stdout",
     "output_type": "stream",
     "text": [
      "865 of 100000\n",
      "   recording for 60s; saving to /home/pi/good-vibrations/data/gpepp/2022-05-29T15:28:50.389.wav\n",
      "   uploading data to GitHub\n",
      "Already up to date.\n",
      "[main 9334ec0] record_wav\n",
      " 2 files changed, 34 insertions(+), 1 deletion(-)\n",
      " create mode 100644 data/gpepp/2022-05-29T15:28:50.389.wav\n"
     ]
    },
    {
     "name": "stderr",
     "output_type": "stream",
     "text": [
      "To https://github.com/aubreymoore/good-vibrations.git\n",
      "   311c7a7..9334ec0  main -> main\n"
     ]
    },
    {
     "name": "stdout",
     "output_type": "stream",
     "text": [
      "   sleeping for 540s\n",
      "866 of 100000\n",
      "   recording for 60s; saving to /home/pi/good-vibrations/data/gpepp/2022-05-29T15:38:59.189.wav\n",
      "   uploading data to GitHub\n",
      "Already up to date.\n",
      "[main 8334b32] record_wav\n",
      " 2 files changed, 23 insertions(+), 1 deletion(-)\n",
      " create mode 100644 data/gpepp/2022-05-29T15:38:59.189.wav\n"
     ]
    },
    {
     "name": "stderr",
     "output_type": "stream",
     "text": [
      "To https://github.com/aubreymoore/good-vibrations.git\n",
      "   9334ec0..8334b32  main -> main\n"
     ]
    },
    {
     "name": "stdout",
     "output_type": "stream",
     "text": [
      "   sleeping for 540s\n",
      "867 of 100000\n",
      "   recording for 60s; saving to /home/pi/good-vibrations/data/gpepp/2022-05-29T15:49:06.923.wav\n",
      "   uploading data to GitHub\n",
      "Already up to date.\n",
      "[main 84d6874] record_wav\n",
      " 2 files changed, 23 insertions(+), 1 deletion(-)\n",
      " create mode 100644 data/gpepp/2022-05-29T15:49:06.923.wav\n"
     ]
    },
    {
     "name": "stderr",
     "output_type": "stream",
     "text": [
      "To https://github.com/aubreymoore/good-vibrations.git\n",
      "   8334b32..84d6874  main -> main\n"
     ]
    },
    {
     "name": "stdout",
     "output_type": "stream",
     "text": [
      "   sleeping for 540s\n",
      "868 of 100000\n",
      "   recording for 60s; saving to /home/pi/good-vibrations/data/gpepp/2022-05-29T15:59:13.999.wav\n",
      "   uploading data to GitHub\n",
      "Already up to date.\n",
      "[main 3880233] record_wav\n",
      " 2 files changed, 23 insertions(+), 1 deletion(-)\n",
      " create mode 100644 data/gpepp/2022-05-29T15:59:13.999.wav\n"
     ]
    },
    {
     "name": "stderr",
     "output_type": "stream",
     "text": [
      "To https://github.com/aubreymoore/good-vibrations.git\n",
      "   84d6874..3880233  main -> main\n"
     ]
    },
    {
     "name": "stdout",
     "output_type": "stream",
     "text": [
      "   sleeping for 540s\n",
      "869 of 100000\n",
      "   recording for 60s; saving to /home/pi/good-vibrations/data/gpepp/2022-05-29T16:09:20.656.wav\n",
      "   uploading data to GitHub\n",
      "Already up to date.\n",
      "[main 2d90de6] record_wav\n",
      " 2 files changed, 23 insertions(+), 1 deletion(-)\n",
      " create mode 100644 data/gpepp/2022-05-29T16:09:20.656.wav\n"
     ]
    },
    {
     "name": "stderr",
     "output_type": "stream",
     "text": [
      "To https://github.com/aubreymoore/good-vibrations.git\n",
      "   3880233..2d90de6  main -> main\n"
     ]
    },
    {
     "name": "stdout",
     "output_type": "stream",
     "text": [
      "   sleeping for 540s\n",
      "870 of 100000\n",
      "   recording for 60s; saving to /home/pi/good-vibrations/data/gpepp/2022-05-29T16:19:27.789.wav\n",
      "   uploading data to GitHub\n",
      "Already up to date.\n",
      "[main 5199fc3] record_wav\n",
      " 2 files changed, 23 insertions(+), 1 deletion(-)\n",
      " create mode 100644 data/gpepp/2022-05-29T16:19:27.789.wav\n"
     ]
    },
    {
     "name": "stderr",
     "output_type": "stream",
     "text": [
      "To https://github.com/aubreymoore/good-vibrations.git\n",
      "   2d90de6..5199fc3  main -> main\n"
     ]
    },
    {
     "name": "stdout",
     "output_type": "stream",
     "text": [
      "   sleeping for 540s\n",
      "871 of 100000\n",
      "   recording for 60s; saving to /home/pi/good-vibrations/data/gpepp/2022-05-29T16:29:35.219.wav\n",
      "   uploading data to GitHub\n",
      "Already up to date.\n",
      "[main 98cb7af] record_wav\n",
      " 2 files changed, 23 insertions(+), 1 deletion(-)\n",
      " create mode 100644 data/gpepp/2022-05-29T16:29:35.219.wav\n"
     ]
    },
    {
     "name": "stderr",
     "output_type": "stream",
     "text": [
      "To https://github.com/aubreymoore/good-vibrations.git\n",
      "   5199fc3..98cb7af  main -> main\n"
     ]
    },
    {
     "name": "stdout",
     "output_type": "stream",
     "text": [
      "   sleeping for 540s\n",
      "872 of 100000\n",
      "   recording for 60s; saving to /home/pi/good-vibrations/data/gpepp/2022-05-29T16:39:41.916.wav\n",
      "   uploading data to GitHub\n",
      "Already up to date.\n",
      "[main 359f1de] record_wav\n",
      " 2 files changed, 23 insertions(+), 1 deletion(-)\n",
      " create mode 100644 data/gpepp/2022-05-29T16:39:41.916.wav\n"
     ]
    },
    {
     "name": "stderr",
     "output_type": "stream",
     "text": [
      "To https://github.com/aubreymoore/good-vibrations.git\n",
      "   98cb7af..359f1de  main -> main\n"
     ]
    },
    {
     "name": "stdout",
     "output_type": "stream",
     "text": [
      "   sleeping for 540s\n",
      "873 of 100000\n",
      "   recording for 60s; saving to /home/pi/good-vibrations/data/gpepp/2022-05-29T16:49:50.950.wav\n",
      "   uploading data to GitHub\n",
      "Already up to date.\n",
      "[main 69e2651] record_wav\n",
      " 2 files changed, 23 insertions(+), 1 deletion(-)\n",
      " create mode 100644 data/gpepp/2022-05-29T16:49:50.950.wav\n"
     ]
    },
    {
     "name": "stderr",
     "output_type": "stream",
     "text": [
      "To https://github.com/aubreymoore/good-vibrations.git\n",
      "   359f1de..69e2651  main -> main\n"
     ]
    },
    {
     "name": "stdout",
     "output_type": "stream",
     "text": [
      "   sleeping for 540s\n",
      "874 of 100000\n",
      "   recording for 60s; saving to /home/pi/good-vibrations/data/gpepp/2022-05-29T16:59:57.739.wav\n",
      "   uploading data to GitHub\n",
      "Already up to date.\n",
      "[main db1d27c] record_wav\n",
      " 2 files changed, 23 insertions(+), 1 deletion(-)\n",
      " create mode 100644 data/gpepp/2022-05-29T16:59:57.739.wav\n"
     ]
    },
    {
     "name": "stderr",
     "output_type": "stream",
     "text": [
      "To https://github.com/aubreymoore/good-vibrations.git\n",
      "   69e2651..db1d27c  main -> main\n"
     ]
    },
    {
     "name": "stdout",
     "output_type": "stream",
     "text": [
      "   sleeping for 540s\n",
      "875 of 100000\n",
      "   recording for 60s; saving to /home/pi/good-vibrations/data/gpepp/2022-05-29T17:10:04.229.wav\n",
      "   uploading data to GitHub\n",
      "Already up to date.\n",
      "[main 0a81d92] record_wav\n",
      " 2 files changed, 23 insertions(+), 1 deletion(-)\n",
      " create mode 100644 data/gpepp/2022-05-29T17:10:04.229.wav\n"
     ]
    },
    {
     "name": "stderr",
     "output_type": "stream",
     "text": [
      "To https://github.com/aubreymoore/good-vibrations.git\n",
      "   db1d27c..0a81d92  main -> main\n"
     ]
    },
    {
     "name": "stdout",
     "output_type": "stream",
     "text": [
      "   sleeping for 540s\n",
      "876 of 100000\n",
      "   recording for 60s; saving to /home/pi/good-vibrations/data/gpepp/2022-05-29T17:20:12.047.wav\n",
      "   uploading data to GitHub\n",
      "Already up to date.\n",
      "[main d33c9ee] record_wav\n",
      " 2 files changed, 23 insertions(+), 1 deletion(-)\n",
      " create mode 100644 data/gpepp/2022-05-29T17:20:12.047.wav\n"
     ]
    },
    {
     "name": "stderr",
     "output_type": "stream",
     "text": [
      "To https://github.com/aubreymoore/good-vibrations.git\n",
      "   0a81d92..d33c9ee  main -> main\n"
     ]
    },
    {
     "name": "stdout",
     "output_type": "stream",
     "text": [
      "   sleeping for 540s\n",
      "877 of 100000\n",
      "   recording for 60s; saving to /home/pi/good-vibrations/data/gpepp/2022-05-29T17:30:19.310.wav\n",
      "   uploading data to GitHub\n",
      "Already up to date.\n",
      "[main 3d45b46] record_wav\n",
      " 2 files changed, 23 insertions(+), 1 deletion(-)\n",
      " create mode 100644 data/gpepp/2022-05-29T17:30:19.310.wav\n"
     ]
    },
    {
     "name": "stderr",
     "output_type": "stream",
     "text": [
      "To https://github.com/aubreymoore/good-vibrations.git\n",
      "   d33c9ee..3d45b46  main -> main\n"
     ]
    },
    {
     "name": "stdout",
     "output_type": "stream",
     "text": [
      "   sleeping for 540s\n",
      "878 of 100000\n",
      "   recording for 60s; saving to /home/pi/good-vibrations/data/gpepp/2022-05-29T17:40:26.779.wav\n",
      "   uploading data to GitHub\n",
      "Already up to date.\n",
      "[main 4974caf] record_wav\n",
      " 2 files changed, 21 insertions(+), 1 deletion(-)\n",
      " create mode 100644 data/gpepp/2022-05-29T17:40:26.779.wav\n"
     ]
    },
    {
     "name": "stderr",
     "output_type": "stream",
     "text": [
      "To https://github.com/aubreymoore/good-vibrations.git\n",
      "   3d45b46..4974caf  main -> main\n"
     ]
    },
    {
     "name": "stdout",
     "output_type": "stream",
     "text": [
      "   sleeping for 540s\n",
      "879 of 100000\n",
      "   recording for 60s; saving to /home/pi/good-vibrations/data/gpepp/2022-05-29T17:50:33.884.wav\n",
      "   uploading data to GitHub\n",
      "Already up to date.\n",
      "[main 495d8e6] record_wav\n",
      " 2 files changed, 22 insertions(+)\n",
      " create mode 100644 data/gpepp/2022-05-29T17:50:33.884.wav\n"
     ]
    },
    {
     "name": "stderr",
     "output_type": "stream",
     "text": [
      "To https://github.com/aubreymoore/good-vibrations.git\n",
      "   4974caf..495d8e6  main -> main\n"
     ]
    },
    {
     "name": "stdout",
     "output_type": "stream",
     "text": [
      "   sleeping for 540s\n",
      "880 of 100000\n",
      "   recording for 60s; saving to /home/pi/good-vibrations/data/gpepp/2022-05-29T18:00:42.318.wav\n",
      "   uploading data to GitHub\n",
      "Already up to date.\n",
      "[main 5a650ae] record_wav\n",
      " 2 files changed, 22 insertions(+)\n",
      " create mode 100644 data/gpepp/2022-05-29T18:00:42.318.wav\n"
     ]
    },
    {
     "name": "stderr",
     "output_type": "stream",
     "text": [
      "To https://github.com/aubreymoore/good-vibrations.git\n",
      "   495d8e6..5a650ae  main -> main\n"
     ]
    },
    {
     "name": "stdout",
     "output_type": "stream",
     "text": [
      "   sleeping for 540s\n",
      "881 of 100000\n",
      "   recording for 60s; saving to /home/pi/good-vibrations/data/gpepp/2022-05-29T18:10:51.542.wav\n",
      "   uploading data to GitHub\n",
      "Already up to date.\n",
      "[main 2f8dc52] record_wav\n",
      " 2 files changed, 22 insertions(+)\n",
      " create mode 100644 data/gpepp/2022-05-29T18:10:51.542.wav\n"
     ]
    },
    {
     "name": "stderr",
     "output_type": "stream",
     "text": [
      "To https://github.com/aubreymoore/good-vibrations.git\n",
      "   5a650ae..2f8dc52  main -> main\n"
     ]
    },
    {
     "name": "stdout",
     "output_type": "stream",
     "text": [
      "   sleeping for 540s\n",
      "882 of 100000\n",
      "   recording for 60s; saving to /home/pi/good-vibrations/data/gpepp/2022-05-29T18:20:58.583.wav\n",
      "   uploading data to GitHub\n",
      "Already up to date.\n",
      "[main a065f12] record_wav\n",
      " 2 files changed, 22 insertions(+)\n",
      " create mode 100644 data/gpepp/2022-05-29T18:20:58.583.wav\n"
     ]
    },
    {
     "name": "stderr",
     "output_type": "stream",
     "text": [
      "To https://github.com/aubreymoore/good-vibrations.git\n",
      "   2f8dc52..a065f12  main -> main\n"
     ]
    },
    {
     "name": "stdout",
     "output_type": "stream",
     "text": [
      "   sleeping for 540s\n",
      "883 of 100000\n",
      "   recording for 60s; saving to /home/pi/good-vibrations/data/gpepp/2022-05-29T18:31:06.329.wav\n",
      "   uploading data to GitHub\n",
      "Already up to date.\n",
      "[main e10a0cd] record_wav\n",
      " 2 files changed, 22 insertions(+)\n",
      " create mode 100644 data/gpepp/2022-05-29T18:31:06.329.wav\n"
     ]
    },
    {
     "name": "stderr",
     "output_type": "stream",
     "text": [
      "To https://github.com/aubreymoore/good-vibrations.git\n",
      "   a065f12..e10a0cd  main -> main\n"
     ]
    },
    {
     "name": "stdout",
     "output_type": "stream",
     "text": [
      "   sleeping for 540s\n",
      "884 of 100000\n",
      "   recording for 60s; saving to /home/pi/good-vibrations/data/gpepp/2022-05-29T18:41:12.729.wav\n",
      "   uploading data to GitHub\n",
      "Already up to date.\n",
      "[main 9f4cdad] record_wav\n",
      " 2 files changed, 22 insertions(+)\n",
      " create mode 100644 data/gpepp/2022-05-29T18:41:12.729.wav\n"
     ]
    },
    {
     "name": "stderr",
     "output_type": "stream",
     "text": [
      "To https://github.com/aubreymoore/good-vibrations.git\n",
      "   e10a0cd..9f4cdad  main -> main\n"
     ]
    },
    {
     "name": "stdout",
     "output_type": "stream",
     "text": [
      "   sleeping for 540s\n",
      "885 of 100000\n",
      "   recording for 60s; saving to /home/pi/good-vibrations/data/gpepp/2022-05-29T18:51:19.829.wav\n",
      "   uploading data to GitHub\n",
      "Already up to date.\n",
      "[main 364f3dd] record_wav\n",
      " 2 files changed, 22 insertions(+)\n",
      " create mode 100644 data/gpepp/2022-05-29T18:51:19.829.wav\n"
     ]
    },
    {
     "name": "stderr",
     "output_type": "stream",
     "text": [
      "To https://github.com/aubreymoore/good-vibrations.git\n",
      "   9f4cdad..364f3dd  main -> main\n"
     ]
    },
    {
     "name": "stdout",
     "output_type": "stream",
     "text": [
      "   sleeping for 540s\n",
      "886 of 100000\n",
      "   recording for 60s; saving to /home/pi/good-vibrations/data/gpepp/2022-05-29T19:01:26.559.wav\n",
      "   uploading data to GitHub\n",
      "Already up to date.\n",
      "[main 5080ff5] record_wav\n",
      " 2 files changed, 22 insertions(+)\n",
      " create mode 100644 data/gpepp/2022-05-29T19:01:26.559.wav\n"
     ]
    },
    {
     "name": "stderr",
     "output_type": "stream",
     "text": [
      "To https://github.com/aubreymoore/good-vibrations.git\n",
      "   364f3dd..5080ff5  main -> main\n"
     ]
    },
    {
     "name": "stdout",
     "output_type": "stream",
     "text": [
      "   sleeping for 540s\n",
      "887 of 100000\n",
      "   recording for 60s; saving to /home/pi/good-vibrations/data/gpepp/2022-05-29T19:11:33.480.wav\n",
      "   uploading data to GitHub\n",
      "Already up to date.\n",
      "[main c087988] record_wav\n",
      " 2 files changed, 22 insertions(+)\n",
      " create mode 100644 data/gpepp/2022-05-29T19:11:33.480.wav\n"
     ]
    },
    {
     "name": "stderr",
     "output_type": "stream",
     "text": [
      "To https://github.com/aubreymoore/good-vibrations.git\n",
      "   5080ff5..c087988  main -> main\n"
     ]
    },
    {
     "name": "stdout",
     "output_type": "stream",
     "text": [
      "   sleeping for 540s\n",
      "888 of 100000\n",
      "   recording for 60s; saving to /home/pi/good-vibrations/data/gpepp/2022-05-29T19:21:51.605.wav\n",
      "   uploading data to GitHub\n",
      "Already up to date.\n",
      "[main ced4172] record_wav\n",
      " 2 files changed, 25 insertions(+), 1 deletion(-)\n",
      " create mode 100644 data/gpepp/2022-05-29T19:21:51.605.wav\n"
     ]
    },
    {
     "name": "stderr",
     "output_type": "stream",
     "text": [
      "To https://github.com/aubreymoore/good-vibrations.git\n",
      "   c087988..ced4172  main -> main\n"
     ]
    },
    {
     "name": "stdout",
     "output_type": "stream",
     "text": [
      "   sleeping for 540s\n",
      "889 of 100000\n",
      "   recording for 60s; saving to /home/pi/good-vibrations/data/gpepp/2022-05-29T19:31:58.266.wav\n",
      "   uploading data to GitHub\n",
      "Already up to date.\n",
      "[main fd007d4] record_wav\n",
      " 2 files changed, 23 insertions(+), 1 deletion(-)\n",
      " create mode 100644 data/gpepp/2022-05-29T19:31:58.266.wav\n"
     ]
    },
    {
     "name": "stderr",
     "output_type": "stream",
     "text": [
      "To https://github.com/aubreymoore/good-vibrations.git\n",
      "   ced4172..fd007d4  main -> main\n"
     ]
    },
    {
     "name": "stdout",
     "output_type": "stream",
     "text": [
      "   sleeping for 540s\n",
      "890 of 100000\n",
      "   recording for 60s; saving to /home/pi/good-vibrations/data/gpepp/2022-05-29T19:42:05.663.wav\n",
      "   uploading data to GitHub\n",
      "Already up to date.\n",
      "[main b77a270] record_wav\n",
      " 2 files changed, 23 insertions(+), 1 deletion(-)\n",
      " create mode 100644 data/gpepp/2022-05-29T19:42:05.663.wav\n"
     ]
    },
    {
     "name": "stderr",
     "output_type": "stream",
     "text": [
      "To https://github.com/aubreymoore/good-vibrations.git\n",
      "   fd007d4..b77a270  main -> main\n"
     ]
    },
    {
     "name": "stdout",
     "output_type": "stream",
     "text": [
      "   sleeping for 540s\n",
      "891 of 100000\n",
      "   recording for 60s; saving to /home/pi/good-vibrations/data/gpepp/2022-05-29T19:52:12.269.wav\n",
      "   uploading data to GitHub\n",
      "Already up to date.\n",
      "[main 6caab3c] record_wav\n",
      " 2 files changed, 23 insertions(+), 1 deletion(-)\n",
      " create mode 100644 data/gpepp/2022-05-29T19:52:12.269.wav\n"
     ]
    },
    {
     "name": "stderr",
     "output_type": "stream",
     "text": [
      "To https://github.com/aubreymoore/good-vibrations.git\n",
      "   b77a270..6caab3c  main -> main\n"
     ]
    },
    {
     "name": "stdout",
     "output_type": "stream",
     "text": [
      "   sleeping for 540s\n",
      "892 of 100000\n",
      "   recording for 60s; saving to /home/pi/good-vibrations/data/gpepp/2022-05-29T20:02:18.999.wav\n",
      "   uploading data to GitHub\n",
      "Already up to date.\n",
      "[main f2adc4b] record_wav\n",
      " 2 files changed, 23 insertions(+), 1 deletion(-)\n",
      " create mode 100644 data/gpepp/2022-05-29T20:02:18.999.wav\n"
     ]
    },
    {
     "name": "stderr",
     "output_type": "stream",
     "text": [
      "To https://github.com/aubreymoore/good-vibrations.git\n",
      "   6caab3c..f2adc4b  main -> main\n"
     ]
    },
    {
     "name": "stdout",
     "output_type": "stream",
     "text": [
      "   sleeping for 540s\n",
      "893 of 100000\n",
      "   recording for 60s; saving to /home/pi/good-vibrations/data/gpepp/2022-05-29T20:12:25.559.wav\n"
     ]
    }
   ],
   "source": [
    "# MAIN\n",
    "\n",
    "print('STARTING')\n",
    "Path(OUTPUTDIR).mkdir(parents=True, exist_ok=True)   # ensure existence of OUTPUTDIR\n",
    "nrec = 1\n",
    "while nrec <= MAX_RECORDINGS:\n",
    "    print(f'{nrec} of {MAX_RECORDINGS}')\n",
    "    timestamp = datetime.datetime.now().isoformat()[:-3]\n",
    "    # timestamp = timestamp.replace(':', '-').replace('.', '-')   # git doesn't like colons\n",
    "    filepath = f'{OUTPUTDIR}/{timestamp}.wav'\n",
    "    print(f'   recording for {DURATION}s; saving to {filepath}')\n",
    "    record_wav_file(filepath, DURATION, SAMPLERATE, CHANNELS)\n",
    "    print('   uploading data to GitHub') \n",
    "    update_github()\n",
    "    nrec += 1\n",
    "    print(f'   sleeping for {SLEEP}s')\n",
    "    time.sleep(SLEEP)\n",
    "print('FINISHED')\n",
    "update_github()"
   ]
  }
 ],
 "metadata": {
  "kernelspec": {
   "display_name": "Python 3 (ipykernel)",
   "language": "python",
   "name": "python3"
  },
  "language_info": {
   "codemirror_mode": {
    "name": "ipython",
    "version": 3
   },
   "file_extension": ".py",
   "mimetype": "text/x-python",
   "name": "python",
   "nbconvert_exporter": "python",
   "pygments_lexer": "ipython3",
   "version": "3.7.3"
  }
 },
 "nbformat": 4,
 "nbformat_minor": 5
}

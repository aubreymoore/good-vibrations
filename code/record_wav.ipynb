{
 "cells": [
  {
   "cell_type": "code",
   "execution_count": 1,
   "id": "3ff0b422",
   "metadata": {},
   "outputs": [],
   "source": [
    "import os\n",
    "from pathlib import Path\n",
    "import sounddevice as sd\n",
    "import soundfile as sf\n",
    "import datetime\n",
    "import time"
   ]
  },
  {
   "cell_type": "code",
   "execution_count": 2,
   "id": "5c768fd5-c85e-419a-a28d-001583d33dcc",
   "metadata": {
    "tags": [
     "parameters"
    ]
   },
   "outputs": [],
   "source": [
    "# This cell is tagged as \"parameters\" to allow using papermill\n",
    "\n",
    "MAX_RECORDINGS = 1000\n",
    "OUTPUTDIR = '/home/pi/good-vibrations/data/surfer'\n",
    "DURATION = 1*60     # seconds\n",
    "SLEEP =    9*60     # seconds\n",
    "SAMPLERATE = 8000   # samples per second\n",
    "CHANNELS = 1        # 1 = mono; 2 = stereo"
   ]
  },
  {
   "cell_type": "code",
   "execution_count": 3,
   "id": "fb4da313-dede-43b9-be64-71626f357033",
   "metadata": {},
   "outputs": [],
   "source": [
    "def record_wav_file(filepath, seconds, samplerate, channels): \n",
    "    wav = sd.rec(frames=int(seconds*samplerate), samplerate=samplerate, channels=channels)\n",
    "    sd.wait()  # Wait until recording is finished\n",
    "    sf.write(filepath, wav, samplerate)"
   ]
  },
  {
   "cell_type": "code",
   "execution_count": 4,
   "id": "41e6964a-fe11-44e9-b1b9-f898bc7ebf75",
   "metadata": {},
   "outputs": [
    {
     "name": "stdout",
     "output_type": "stream",
     "text": [
      "CPU times: user 19 µs, sys: 3 µs, total: 22 µs\n",
      "Wall time: 39.6 µs\n"
     ]
    }
   ],
   "source": [
    "%%time\n",
    "\n",
    "def update_github():\n",
    "    \"\"\"\n",
    "    Simply executes a script containing the following:\n",
    "        \n",
    "    cd ..\n",
    "    git pull\n",
    "    git add .\n",
    "    git commit -m 'record_wav'\n",
    "    git push\n",
    "    \n",
    "    \"\"\"\n",
    "\n",
    "    command = f'./update_github.sh'\n",
    "    result = os.system(command)\n",
    "    # assert result==0, f'{command} failed\n",
    "\n",
    "# update_github()"
   ]
  },
  {
   "cell_type": "code",
   "execution_count": null,
   "id": "cbc07bb3-dc6b-4340-af77-378a2a92d623",
   "metadata": {},
   "outputs": [
    {
     "name": "stdout",
     "output_type": "stream",
     "text": [
      "STARTING\n",
      "1 of 1000\n",
      "   recording for 60s; saving to /home/pi/good-vibrations/data/surfer/2022-05-06T15:52:11.152.wav\n",
      "   uploading data to GitHub\n",
      "Already up to date.\n",
      "[main 864527c] record_wav\n",
      " 4 files changed, 6 insertions(+), 136 deletions(-)\n",
      " create mode 100644 data/surfer/2022-05-06T15:52:11.152.wav\n",
      " delete mode 100644 data/test/2022-05-05T02:17:14.078.wav\n",
      " delete mode 100644 data/test/2022-05-05T02:17:31.149.wav\n"
     ]
    },
    {
     "name": "stderr",
     "output_type": "stream",
     "text": [
      "To https://github.com/aubreymoore/good-vibrations.git\n",
      "   89c04cd..864527c  main -> main\n"
     ]
    },
    {
     "name": "stdout",
     "output_type": "stream",
     "text": [
      "   sleeping for 540s\n",
      "2 of 1000\n",
      "   recording for 60s; saving to /home/pi/good-vibrations/data/surfer/2022-05-06T16:02:21.517.wav\n",
      "   uploading data to GitHub\n",
      "Already up to date.\n",
      "[main a16a12d] record_wav\n",
      " 2 files changed, 25 insertions(+), 1 deletion(-)\n",
      " create mode 100644 data/surfer/2022-05-06T16:02:21.517.wav\n"
     ]
    },
    {
     "name": "stderr",
     "output_type": "stream",
     "text": [
      "To https://github.com/aubreymoore/good-vibrations.git\n",
      "   864527c..a16a12d  main -> main\n"
     ]
    },
    {
     "name": "stdout",
     "output_type": "stream",
     "text": [
      "   sleeping for 540s\n",
      "3 of 1000\n",
      "   recording for 60s; saving to /home/pi/good-vibrations/data/surfer/2022-05-06T16:12:28.371.wav\n",
      "   uploading data to GitHub\n",
      "Already up to date.\n",
      "[main 32ce2d6] record_wav\n",
      " 2 files changed, 21 insertions(+), 1 deletion(-)\n",
      " create mode 100644 data/surfer/2022-05-06T16:12:28.371.wav\n"
     ]
    },
    {
     "name": "stderr",
     "output_type": "stream",
     "text": [
      "To https://github.com/aubreymoore/good-vibrations.git\n",
      "   a16a12d..32ce2d6  main -> main\n"
     ]
    },
    {
     "name": "stdout",
     "output_type": "stream",
     "text": [
      "   sleeping for 540s\n",
      "4 of 1000\n",
      "   recording for 60s; saving to /home/pi/good-vibrations/data/surfer/2022-05-06T16:22:40.447.wav\n",
      "   uploading data to GitHub\n",
      "Already up to date.\n",
      "[main 8bce2dd] record_wav\n",
      " 2 files changed, 22 insertions(+)\n",
      " create mode 100644 data/surfer/2022-05-06T16:22:40.447.wav\n"
     ]
    },
    {
     "name": "stderr",
     "output_type": "stream",
     "text": [
      "To https://github.com/aubreymoore/good-vibrations.git\n",
      "   32ce2d6..8bce2dd  main -> main\n"
     ]
    },
    {
     "name": "stdout",
     "output_type": "stream",
     "text": [
      "   sleeping for 540s\n",
      "5 of 1000\n",
      "   recording for 60s; saving to /home/pi/good-vibrations/data/surfer/2022-05-06T16:32:49.597.wav\n",
      "   uploading data to GitHub\n",
      "Already up to date.\n",
      "[main 50cb0eb] record_wav\n",
      " 2 files changed, 22 insertions(+)\n",
      " create mode 100644 data/surfer/2022-05-06T16:32:49.597.wav\n"
     ]
    },
    {
     "name": "stderr",
     "output_type": "stream",
     "text": [
      "To https://github.com/aubreymoore/good-vibrations.git\n",
      "   8bce2dd..50cb0eb  main -> main\n"
     ]
    },
    {
     "name": "stdout",
     "output_type": "stream",
     "text": [
      "   sleeping for 540s\n",
      "6 of 1000\n",
      "   recording for 60s; saving to /home/pi/good-vibrations/data/surfer/2022-05-06T16:42:55.999.wav\n",
      "   uploading data to GitHub\n",
      "Already up to date.\n",
      "[main 5bd90e2] record_wav\n",
      " 2 files changed, 22 insertions(+)\n",
      " create mode 100644 data/surfer/2022-05-06T16:42:55.999.wav\n"
     ]
    },
    {
     "name": "stderr",
     "output_type": "stream",
     "text": [
      "To https://github.com/aubreymoore/good-vibrations.git\n",
      "   50cb0eb..5bd90e2  main -> main\n"
     ]
    },
    {
     "name": "stdout",
     "output_type": "stream",
     "text": [
      "   sleeping for 540s\n",
      "7 of 1000\n",
      "   recording for 60s; saving to /home/pi/good-vibrations/data/surfer/2022-05-06T16:53:02.367.wav\n",
      "   uploading data to GitHub\n",
      "Already up to date.\n",
      "[main 3bbb409] record_wav\n",
      " 2 files changed, 22 insertions(+)\n",
      " create mode 100644 data/surfer/2022-05-06T16:53:02.367.wav\n"
     ]
    },
    {
     "name": "stderr",
     "output_type": "stream",
     "text": [
      "To https://github.com/aubreymoore/good-vibrations.git\n",
      "   5bd90e2..3bbb409  main -> main\n"
     ]
    },
    {
     "name": "stdout",
     "output_type": "stream",
     "text": [
      "   sleeping for 540s\n",
      "8 of 1000\n",
      "   recording for 60s; saving to /home/pi/good-vibrations/data/surfer/2022-05-06T17:03:08.543.wav\n",
      "   uploading data to GitHub\n",
      "Already up to date.\n",
      "[main c72f4c7] record_wav\n",
      " 2 files changed, 22 insertions(+)\n",
      " create mode 100644 data/surfer/2022-05-06T17:03:08.543.wav\n"
     ]
    },
    {
     "name": "stderr",
     "output_type": "stream",
     "text": [
      "To https://github.com/aubreymoore/good-vibrations.git\n",
      "   3bbb409..c72f4c7  main -> main\n"
     ]
    },
    {
     "name": "stdout",
     "output_type": "stream",
     "text": [
      "   sleeping for 540s\n",
      "9 of 1000\n",
      "   recording for 60s; saving to /home/pi/good-vibrations/data/surfer/2022-05-06T17:13:15.017.wav\n",
      "   uploading data to GitHub\n",
      "Already up to date.\n",
      "[main 4799b4e] record_wav\n",
      " 2 files changed, 22 insertions(+)\n",
      " create mode 100644 data/surfer/2022-05-06T17:13:15.017.wav\n"
     ]
    },
    {
     "name": "stderr",
     "output_type": "stream",
     "text": [
      "To https://github.com/aubreymoore/good-vibrations.git\n",
      "   c72f4c7..4799b4e  main -> main\n"
     ]
    },
    {
     "name": "stdout",
     "output_type": "stream",
     "text": [
      "   sleeping for 540s\n",
      "10 of 1000\n",
      "   recording for 60s; saving to /home/pi/good-vibrations/data/surfer/2022-05-06T17:23:21.359.wav\n",
      "   uploading data to GitHub\n",
      "Already up to date.\n",
      "[main 6b5f187] record_wav\n",
      " 2 files changed, 22 insertions(+)\n",
      " create mode 100644 data/surfer/2022-05-06T17:23:21.359.wav\n"
     ]
    },
    {
     "name": "stderr",
     "output_type": "stream",
     "text": [
      "To https://github.com/aubreymoore/good-vibrations.git\n",
      "   4799b4e..6b5f187  main -> main\n"
     ]
    },
    {
     "name": "stdout",
     "output_type": "stream",
     "text": [
      "   sleeping for 540s\n",
      "11 of 1000\n",
      "   recording for 60s; saving to /home/pi/good-vibrations/data/surfer/2022-05-06T17:33:27.518.wav\n",
      "   uploading data to GitHub\n",
      "Already up to date.\n",
      "[main 4d9200b] record_wav\n",
      " 2 files changed, 22 insertions(+)\n",
      " create mode 100644 data/surfer/2022-05-06T17:33:27.518.wav\n"
     ]
    },
    {
     "name": "stderr",
     "output_type": "stream",
     "text": [
      "To https://github.com/aubreymoore/good-vibrations.git\n",
      "   6b5f187..4d9200b  main -> main\n"
     ]
    },
    {
     "name": "stdout",
     "output_type": "stream",
     "text": [
      "   sleeping for 540s\n",
      "12 of 1000\n",
      "   recording for 60s; saving to /home/pi/good-vibrations/data/surfer/2022-05-06T17:43:34.569.wav\n",
      "   uploading data to GitHub\n",
      "Already up to date.\n",
      "[main 992c8d0] record_wav\n",
      " 2 files changed, 25 insertions(+), 1 deletion(-)\n",
      " create mode 100644 data/surfer/2022-05-06T17:43:34.569.wav\n"
     ]
    },
    {
     "name": "stderr",
     "output_type": "stream",
     "text": [
      "To https://github.com/aubreymoore/good-vibrations.git\n",
      "   4d9200b..992c8d0  main -> main\n"
     ]
    },
    {
     "name": "stdout",
     "output_type": "stream",
     "text": [
      "   sleeping for 540s\n",
      "13 of 1000\n",
      "   recording for 60s; saving to /home/pi/good-vibrations/data/surfer/2022-05-06T17:53:40.958.wav\n",
      "   uploading data to GitHub\n",
      "Already up to date.\n",
      "[main 04d40e0] record_wav\n",
      " 2 files changed, 23 insertions(+), 1 deletion(-)\n",
      " create mode 100644 data/surfer/2022-05-06T17:53:40.958.wav\n"
     ]
    },
    {
     "name": "stderr",
     "output_type": "stream",
     "text": [
      "To https://github.com/aubreymoore/good-vibrations.git\n",
      "   992c8d0..04d40e0  main -> main\n"
     ]
    },
    {
     "name": "stdout",
     "output_type": "stream",
     "text": [
      "   sleeping for 540s\n",
      "14 of 1000\n",
      "   recording for 60s; saving to /home/pi/good-vibrations/data/surfer/2022-05-06T18:03:50.258.wav\n",
      "   uploading data to GitHub\n",
      "Already up to date.\n",
      "[main ae79242] record_wav\n",
      " 2 files changed, 23 insertions(+), 1 deletion(-)\n",
      " create mode 100644 data/surfer/2022-05-06T18:03:50.258.wav\n"
     ]
    },
    {
     "name": "stderr",
     "output_type": "stream",
     "text": [
      "To https://github.com/aubreymoore/good-vibrations.git\n",
      "   04d40e0..ae79242  main -> main\n"
     ]
    },
    {
     "name": "stdout",
     "output_type": "stream",
     "text": [
      "   sleeping for 540s\n",
      "15 of 1000\n",
      "   recording for 60s; saving to /home/pi/good-vibrations/data/surfer/2022-05-06T18:13:56.550.wav\n",
      "   uploading data to GitHub\n",
      "Already up to date.\n",
      "[main ba1a6c5] record_wav\n",
      " 2 files changed, 23 insertions(+), 1 deletion(-)\n",
      " create mode 100644 data/surfer/2022-05-06T18:13:56.550.wav\n"
     ]
    },
    {
     "name": "stderr",
     "output_type": "stream",
     "text": [
      "To https://github.com/aubreymoore/good-vibrations.git\n",
      "   ae79242..ba1a6c5  main -> main\n"
     ]
    },
    {
     "name": "stdout",
     "output_type": "stream",
     "text": [
      "   sleeping for 540s\n",
      "16 of 1000\n",
      "   recording for 60s; saving to /home/pi/good-vibrations/data/surfer/2022-05-06T18:24:02.979.wav\n",
      "   uploading data to GitHub\n",
      "Already up to date.\n",
      "[main fc01023] record_wav\n",
      " 2 files changed, 23 insertions(+), 1 deletion(-)\n",
      " create mode 100644 data/surfer/2022-05-06T18:24:02.979.wav\n"
     ]
    },
    {
     "name": "stderr",
     "output_type": "stream",
     "text": [
      "To https://github.com/aubreymoore/good-vibrations.git\n",
      "   ba1a6c5..fc01023  main -> main\n"
     ]
    },
    {
     "name": "stdout",
     "output_type": "stream",
     "text": [
      "   sleeping for 540s\n",
      "17 of 1000\n",
      "   recording for 60s; saving to /home/pi/good-vibrations/data/surfer/2022-05-06T18:34:09.417.wav\n",
      "   uploading data to GitHub\n",
      "Already up to date.\n",
      "[main 68c1173] record_wav\n",
      " 2 files changed, 23 insertions(+), 1 deletion(-)\n",
      " create mode 100644 data/surfer/2022-05-06T18:34:09.417.wav\n"
     ]
    },
    {
     "name": "stderr",
     "output_type": "stream",
     "text": [
      "To https://github.com/aubreymoore/good-vibrations.git\n",
      "   fc01023..68c1173  main -> main\n"
     ]
    },
    {
     "name": "stdout",
     "output_type": "stream",
     "text": [
      "   sleeping for 540s\n",
      "18 of 1000\n",
      "   recording for 60s; saving to /home/pi/good-vibrations/data/surfer/2022-05-06T18:44:16.067.wav\n",
      "   uploading data to GitHub\n",
      "Already up to date.\n",
      "[main 0bd9dce] record_wav\n",
      " 2 files changed, 23 insertions(+), 1 deletion(-)\n",
      " create mode 100644 data/surfer/2022-05-06T18:44:16.067.wav\n"
     ]
    },
    {
     "name": "stderr",
     "output_type": "stream",
     "text": [
      "To https://github.com/aubreymoore/good-vibrations.git\n",
      "   68c1173..0bd9dce  main -> main\n"
     ]
    },
    {
     "name": "stdout",
     "output_type": "stream",
     "text": [
      "   sleeping for 540s\n",
      "19 of 1000\n",
      "   recording for 60s; saving to /home/pi/good-vibrations/data/surfer/2022-05-06T18:54:22.283.wav\n",
      "   uploading data to GitHub\n",
      "Already up to date.\n",
      "[main 9d05e42] record_wav\n",
      " 2 files changed, 23 insertions(+), 1 deletion(-)\n",
      " create mode 100644 data/surfer/2022-05-06T18:54:22.283.wav\n"
     ]
    },
    {
     "name": "stderr",
     "output_type": "stream",
     "text": [
      "To https://github.com/aubreymoore/good-vibrations.git\n",
      "   0bd9dce..9d05e42  main -> main\n"
     ]
    },
    {
     "name": "stdout",
     "output_type": "stream",
     "text": [
      "   sleeping for 540s\n",
      "20 of 1000\n",
      "   recording for 60s; saving to /home/pi/good-vibrations/data/surfer/2022-05-06T19:04:34.647.wav\n",
      "   uploading data to GitHub\n",
      "Already up to date.\n",
      "[main 0887230] record_wav\n",
      " 2 files changed, 23 insertions(+), 1 deletion(-)\n",
      " create mode 100644 data/surfer/2022-05-06T19:04:34.647.wav\n"
     ]
    },
    {
     "name": "stderr",
     "output_type": "stream",
     "text": [
      "To https://github.com/aubreymoore/good-vibrations.git\n",
      "   9d05e42..0887230  main -> main\n"
     ]
    },
    {
     "name": "stdout",
     "output_type": "stream",
     "text": [
      "   sleeping for 540s\n",
      "21 of 1000\n",
      "   recording for 60s; saving to /home/pi/good-vibrations/data/surfer/2022-05-06T19:14:40.808.wav\n",
      "   uploading data to GitHub\n",
      "Already up to date.\n",
      "[main c8e67b3] record_wav\n",
      " 2 files changed, 21 insertions(+), 1 deletion(-)\n",
      " create mode 100644 data/surfer/2022-05-06T19:14:40.808.wav\n"
     ]
    },
    {
     "name": "stderr",
     "output_type": "stream",
     "text": [
      "To https://github.com/aubreymoore/good-vibrations.git\n",
      "   0887230..c8e67b3  main -> main\n"
     ]
    },
    {
     "name": "stdout",
     "output_type": "stream",
     "text": [
      "   sleeping for 540s\n",
      "22 of 1000\n",
      "   recording for 60s; saving to /home/pi/good-vibrations/data/surfer/2022-05-06T19:24:49.168.wav\n",
      "   uploading data to GitHub\n",
      "Already up to date.\n",
      "[main 607dc77] record_wav\n",
      " 2 files changed, 22 insertions(+)\n",
      " create mode 100644 data/surfer/2022-05-06T19:24:49.168.wav\n"
     ]
    },
    {
     "name": "stderr",
     "output_type": "stream",
     "text": [
      "To https://github.com/aubreymoore/good-vibrations.git\n",
      "   c8e67b3..607dc77  main -> main\n"
     ]
    },
    {
     "name": "stdout",
     "output_type": "stream",
     "text": [
      "   sleeping for 540s\n",
      "23 of 1000\n",
      "   recording for 60s; saving to /home/pi/good-vibrations/data/surfer/2022-05-06T19:34:55.207.wav\n",
      "   uploading data to GitHub\n",
      "Already up to date.\n",
      "[main 652eee1] record_wav\n",
      " 2 files changed, 22 insertions(+)\n",
      " create mode 100644 data/surfer/2022-05-06T19:34:55.207.wav\n"
     ]
    },
    {
     "name": "stderr",
     "output_type": "stream",
     "text": [
      "To https://github.com/aubreymoore/good-vibrations.git\n",
      "   607dc77..652eee1  main -> main\n"
     ]
    },
    {
     "name": "stdout",
     "output_type": "stream",
     "text": [
      "   sleeping for 540s\n",
      "24 of 1000\n",
      "   recording for 60s; saving to /home/pi/good-vibrations/data/surfer/2022-05-06T19:45:01.407.wav\n",
      "   uploading data to GitHub\n",
      "Already up to date.\n",
      "[main ee4c63b] record_wav\n",
      " 2 files changed, 22 insertions(+)\n",
      " create mode 100644 data/surfer/2022-05-06T19:45:01.407.wav\n"
     ]
    },
    {
     "name": "stderr",
     "output_type": "stream",
     "text": [
      "To https://github.com/aubreymoore/good-vibrations.git\n",
      "   652eee1..ee4c63b  main -> main\n"
     ]
    },
    {
     "name": "stdout",
     "output_type": "stream",
     "text": [
      "   sleeping for 540s\n",
      "25 of 1000\n",
      "   recording for 60s; saving to /home/pi/good-vibrations/data/surfer/2022-05-06T19:55:07.428.wav\n",
      "   uploading data to GitHub\n",
      "Already up to date.\n",
      "[main be9a9bf] record_wav\n",
      " 2 files changed, 22 insertions(+)\n",
      " create mode 100644 data/surfer/2022-05-06T19:55:07.428.wav\n"
     ]
    },
    {
     "name": "stderr",
     "output_type": "stream",
     "text": [
      "To https://github.com/aubreymoore/good-vibrations.git\n",
      "   ee4c63b..be9a9bf  main -> main\n"
     ]
    },
    {
     "name": "stdout",
     "output_type": "stream",
     "text": [
      "   sleeping for 540s\n",
      "26 of 1000\n",
      "   recording for 60s; saving to /home/pi/good-vibrations/data/surfer/2022-05-06T20:05:13.568.wav\n",
      "   uploading data to GitHub\n",
      "Already up to date.\n",
      "[main d473e70] record_wav\n",
      " 2 files changed, 22 insertions(+)\n",
      " create mode 100644 data/surfer/2022-05-06T20:05:13.568.wav\n"
     ]
    },
    {
     "name": "stderr",
     "output_type": "stream",
     "text": [
      "To https://github.com/aubreymoore/good-vibrations.git\n",
      "   be9a9bf..d473e70  main -> main\n"
     ]
    },
    {
     "name": "stdout",
     "output_type": "stream",
     "text": [
      "   sleeping for 540s\n",
      "27 of 1000\n",
      "   recording for 60s; saving to /home/pi/good-vibrations/data/surfer/2022-05-06T20:15:19.694.wav\n",
      "   uploading data to GitHub\n",
      "Already up to date.\n",
      "[main 483635a] record_wav\n",
      " 2 files changed, 22 insertions(+)\n",
      " create mode 100644 data/surfer/2022-05-06T20:15:19.694.wav\n"
     ]
    },
    {
     "name": "stderr",
     "output_type": "stream",
     "text": [
      "To https://github.com/aubreymoore/good-vibrations.git\n",
      "   d473e70..483635a  main -> main\n"
     ]
    },
    {
     "name": "stdout",
     "output_type": "stream",
     "text": [
      "   sleeping for 540s\n",
      "28 of 1000\n",
      "   recording for 60s; saving to /home/pi/good-vibrations/data/surfer/2022-05-06T20:25:25.936.wav\n",
      "   uploading data to GitHub\n",
      "Already up to date.\n",
      "[main db97793] record_wav\n",
      " 2 files changed, 22 insertions(+)\n",
      " create mode 100644 data/surfer/2022-05-06T20:25:25.936.wav\n"
     ]
    },
    {
     "name": "stderr",
     "output_type": "stream",
     "text": [
      "To https://github.com/aubreymoore/good-vibrations.git\n",
      "   483635a..db97793  main -> main\n"
     ]
    },
    {
     "name": "stdout",
     "output_type": "stream",
     "text": [
      "   sleeping for 540s\n",
      "29 of 1000\n",
      "   recording for 60s; saving to /home/pi/good-vibrations/data/surfer/2022-05-06T20:35:32.198.wav\n",
      "   uploading data to GitHub\n",
      "Already up to date.\n",
      "[main c8743ff] record_wav\n",
      " 2 files changed, 22 insertions(+)\n",
      " create mode 100644 data/surfer/2022-05-06T20:35:32.198.wav\n"
     ]
    },
    {
     "name": "stderr",
     "output_type": "stream",
     "text": [
      "To https://github.com/aubreymoore/good-vibrations.git\n",
      "   db97793..c8743ff  main -> main\n"
     ]
    },
    {
     "name": "stdout",
     "output_type": "stream",
     "text": [
      "   sleeping for 540s\n",
      "30 of 1000\n",
      "   recording for 60s; saving to /home/pi/good-vibrations/data/surfer/2022-05-06T20:45:38.488.wav\n",
      "   uploading data to GitHub\n",
      "Already up to date.\n",
      "[main 17c1dc2] record_wav\n",
      " 2 files changed, 22 insertions(+)\n",
      " create mode 100644 data/surfer/2022-05-06T20:45:38.488.wav\n"
     ]
    },
    {
     "name": "stderr",
     "output_type": "stream",
     "text": [
      "To https://github.com/aubreymoore/good-vibrations.git\n",
      "   c8743ff..17c1dc2  main -> main\n"
     ]
    },
    {
     "name": "stdout",
     "output_type": "stream",
     "text": [
      "   sleeping for 540s\n",
      "31 of 1000\n",
      "   recording for 60s; saving to /home/pi/good-vibrations/data/surfer/2022-05-06T20:55:44.830.wav\n",
      "   uploading data to GitHub\n",
      "Already up to date.\n",
      "[main 63c85fe] record_wav\n",
      " 2 files changed, 25 insertions(+), 1 deletion(-)\n",
      " create mode 100644 data/surfer/2022-05-06T20:55:44.830.wav\n"
     ]
    },
    {
     "name": "stderr",
     "output_type": "stream",
     "text": [
      "To https://github.com/aubreymoore/good-vibrations.git\n",
      "   17c1dc2..63c85fe  main -> main\n"
     ]
    },
    {
     "name": "stdout",
     "output_type": "stream",
     "text": [
      "   sleeping for 540s\n",
      "32 of 1000\n",
      "   recording for 60s; saving to /home/pi/good-vibrations/data/surfer/2022-05-06T21:05:53.788.wav\n",
      "   uploading data to GitHub\n",
      "Already up to date.\n",
      "[main ff65f6f] record_wav\n",
      " 2 files changed, 23 insertions(+), 1 deletion(-)\n",
      " create mode 100644 data/surfer/2022-05-06T21:05:53.788.wav\n"
     ]
    },
    {
     "name": "stderr",
     "output_type": "stream",
     "text": [
      "To https://github.com/aubreymoore/good-vibrations.git\n",
      "   63c85fe..ff65f6f  main -> main\n"
     ]
    },
    {
     "name": "stdout",
     "output_type": "stream",
     "text": [
      "   sleeping for 540s\n",
      "33 of 1000\n",
      "   recording for 60s; saving to /home/pi/good-vibrations/data/surfer/2022-05-06T21:16:00.132.wav\n",
      "   uploading data to GitHub\n",
      "Already up to date.\n",
      "[main fa401ff] record_wav\n",
      " 2 files changed, 23 insertions(+), 1 deletion(-)\n",
      " create mode 100644 data/surfer/2022-05-06T21:16:00.132.wav\n"
     ]
    },
    {
     "name": "stderr",
     "output_type": "stream",
     "text": [
      "To https://github.com/aubreymoore/good-vibrations.git\n",
      "   ff65f6f..fa401ff  main -> main\n"
     ]
    },
    {
     "name": "stdout",
     "output_type": "stream",
     "text": [
      "   sleeping for 540s\n",
      "34 of 1000\n",
      "   recording for 60s; saving to /home/pi/good-vibrations/data/surfer/2022-05-06T21:26:06.573.wav\n",
      "   uploading data to GitHub\n",
      "Already up to date.\n",
      "[main 9070dfc] record_wav\n",
      " 2 files changed, 23 insertions(+), 1 deletion(-)\n",
      " create mode 100644 data/surfer/2022-05-06T21:26:06.573.wav\n"
     ]
    },
    {
     "name": "stderr",
     "output_type": "stream",
     "text": [
      "To https://github.com/aubreymoore/good-vibrations.git\n",
      "   fa401ff..9070dfc  main -> main\n"
     ]
    },
    {
     "name": "stdout",
     "output_type": "stream",
     "text": [
      "   sleeping for 540s\n",
      "35 of 1000\n",
      "   recording for 60s; saving to /home/pi/good-vibrations/data/surfer/2022-05-06T21:36:14.304.wav\n",
      "   uploading data to GitHub\n",
      "Already up to date.\n",
      "[main b1b43ad] record_wav\n",
      " 2 files changed, 23 insertions(+), 1 deletion(-)\n",
      " create mode 100644 data/surfer/2022-05-06T21:36:14.304.wav\n"
     ]
    },
    {
     "name": "stderr",
     "output_type": "stream",
     "text": [
      "To https://github.com/aubreymoore/good-vibrations.git\n",
      "   9070dfc..b1b43ad  main -> main\n"
     ]
    },
    {
     "name": "stdout",
     "output_type": "stream",
     "text": [
      "   sleeping for 540s\n",
      "36 of 1000\n",
      "   recording for 60s; saving to /home/pi/good-vibrations/data/surfer/2022-05-06T21:46:20.488.wav\n",
      "   uploading data to GitHub\n",
      "Already up to date.\n",
      "[main abd1815] record_wav\n",
      " 2 files changed, 23 insertions(+), 1 deletion(-)\n",
      " create mode 100644 data/surfer/2022-05-06T21:46:20.488.wav\n"
     ]
    },
    {
     "name": "stderr",
     "output_type": "stream",
     "text": [
      "To https://github.com/aubreymoore/good-vibrations.git\n",
      "   b1b43ad..abd1815  main -> main\n"
     ]
    },
    {
     "name": "stdout",
     "output_type": "stream",
     "text": [
      "   sleeping for 540s\n",
      "37 of 1000\n",
      "   recording for 60s; saving to /home/pi/good-vibrations/data/surfer/2022-05-06T21:56:26.729.wav\n",
      "   uploading data to GitHub\n",
      "Already up to date.\n",
      "[main 385ce41] record_wav\n",
      " 2 files changed, 23 insertions(+), 1 deletion(-)\n",
      " create mode 100644 data/surfer/2022-05-06T21:56:26.729.wav\n"
     ]
    },
    {
     "name": "stderr",
     "output_type": "stream",
     "text": [
      "To https://github.com/aubreymoore/good-vibrations.git\n",
      "   abd1815..385ce41  main -> main\n"
     ]
    },
    {
     "name": "stdout",
     "output_type": "stream",
     "text": [
      "   sleeping for 540s\n",
      "38 of 1000\n",
      "   recording for 60s; saving to /home/pi/good-vibrations/data/surfer/2022-05-06T22:06:32.878.wav\n",
      "   uploading data to GitHub\n",
      "Already up to date.\n",
      "[main 1182036] record_wav\n",
      " 2 files changed, 23 insertions(+), 1 deletion(-)\n",
      " create mode 100644 data/surfer/2022-05-06T22:06:32.878.wav\n"
     ]
    },
    {
     "name": "stderr",
     "output_type": "stream",
     "text": [
      "To https://github.com/aubreymoore/good-vibrations.git\n",
      "   385ce41..1182036  main -> main\n"
     ]
    },
    {
     "name": "stdout",
     "output_type": "stream",
     "text": [
      "   sleeping for 540s\n",
      "39 of 1000\n",
      "   recording for 60s; saving to /home/pi/good-vibrations/data/surfer/2022-05-06T22:16:38.959.wav\n",
      "   uploading data to GitHub\n",
      "Already up to date.\n",
      "[main 5a89a59] record_wav\n",
      " 2 files changed, 23 insertions(+), 1 deletion(-)\n",
      " create mode 100644 data/surfer/2022-05-06T22:16:38.959.wav\n"
     ]
    },
    {
     "name": "stderr",
     "output_type": "stream",
     "text": [
      "To https://github.com/aubreymoore/good-vibrations.git\n",
      "   1182036..5a89a59  main -> main\n"
     ]
    },
    {
     "name": "stdout",
     "output_type": "stream",
     "text": [
      "   sleeping for 540s\n",
      "40 of 1000\n",
      "   recording for 60s; saving to /home/pi/good-vibrations/data/surfer/2022-05-06T22:26:45.798.wav\n",
      "   uploading data to GitHub\n",
      "Already up to date.\n",
      "[main 76512df] record_wav\n",
      " 2 files changed, 23 insertions(+), 1 deletion(-)\n",
      " create mode 100644 data/surfer/2022-05-06T22:26:45.798.wav\n"
     ]
    },
    {
     "name": "stderr",
     "output_type": "stream",
     "text": [
      "To https://github.com/aubreymoore/good-vibrations.git\n",
      "   5a89a59..76512df  main -> main\n"
     ]
    },
    {
     "name": "stdout",
     "output_type": "stream",
     "text": [
      "   sleeping for 540s\n",
      "41 of 1000\n",
      "   recording for 60s; saving to /home/pi/good-vibrations/data/surfer/2022-05-06T22:36:52.697.wav\n",
      "   uploading data to GitHub\n",
      "Already up to date.\n",
      "[main 7faa174] record_wav\n",
      " 2 files changed, 21 insertions(+), 1 deletion(-)\n",
      " create mode 100644 data/surfer/2022-05-06T22:36:52.697.wav\n"
     ]
    },
    {
     "name": "stderr",
     "output_type": "stream",
     "text": [
      "To https://github.com/aubreymoore/good-vibrations.git\n",
      "   76512df..7faa174  main -> main\n"
     ]
    },
    {
     "name": "stdout",
     "output_type": "stream",
     "text": [
      "   sleeping for 540s\n",
      "42 of 1000\n",
      "   recording for 60s; saving to /home/pi/good-vibrations/data/surfer/2022-05-06T22:46:59.079.wav\n",
      "   uploading data to GitHub\n",
      "Already up to date.\n",
      "[main 879b448] record_wav\n",
      " 2 files changed, 22 insertions(+)\n",
      " create mode 100644 data/surfer/2022-05-06T22:46:59.079.wav\n"
     ]
    },
    {
     "name": "stderr",
     "output_type": "stream",
     "text": [
      "To https://github.com/aubreymoore/good-vibrations.git\n",
      "   7faa174..879b448  main -> main\n"
     ]
    },
    {
     "name": "stdout",
     "output_type": "stream",
     "text": [
      "   sleeping for 540s\n",
      "43 of 1000\n",
      "   recording for 60s; saving to /home/pi/good-vibrations/data/surfer/2022-05-06T22:57:05.658.wav\n",
      "   uploading data to GitHub\n",
      "Already up to date.\n",
      "[main a57e7f7] record_wav\n",
      " 2 files changed, 22 insertions(+)\n",
      " create mode 100644 data/surfer/2022-05-06T22:57:05.658.wav\n"
     ]
    },
    {
     "name": "stderr",
     "output_type": "stream",
     "text": [
      "To https://github.com/aubreymoore/good-vibrations.git\n",
      "   879b448..a57e7f7  main -> main\n"
     ]
    },
    {
     "name": "stdout",
     "output_type": "stream",
     "text": [
      "   sleeping for 540s\n",
      "44 of 1000\n",
      "   recording for 60s; saving to /home/pi/good-vibrations/data/surfer/2022-05-06T23:07:12.248.wav\n",
      "   uploading data to GitHub\n",
      "Already up to date.\n",
      "[main 6b11d7f] record_wav\n",
      " 2 files changed, 22 insertions(+)\n",
      " create mode 100644 data/surfer/2022-05-06T23:07:12.248.wav\n"
     ]
    },
    {
     "name": "stderr",
     "output_type": "stream",
     "text": [
      "To https://github.com/aubreymoore/good-vibrations.git\n",
      "   a57e7f7..6b11d7f  main -> main\n"
     ]
    },
    {
     "name": "stdout",
     "output_type": "stream",
     "text": [
      "   sleeping for 540s\n",
      "45 of 1000\n",
      "   recording for 60s; saving to /home/pi/good-vibrations/data/surfer/2022-05-06T23:17:18.858.wav\n",
      "   uploading data to GitHub\n",
      "Already up to date.\n",
      "[main 6d9540b] record_wav\n",
      " 2 files changed, 22 insertions(+)\n",
      " create mode 100644 data/surfer/2022-05-06T23:17:18.858.wav\n"
     ]
    },
    {
     "name": "stderr",
     "output_type": "stream",
     "text": [
      "To https://github.com/aubreymoore/good-vibrations.git\n",
      "   6b11d7f..6d9540b  main -> main\n"
     ]
    },
    {
     "name": "stdout",
     "output_type": "stream",
     "text": [
      "   sleeping for 540s\n",
      "46 of 1000\n",
      "   recording for 60s; saving to /home/pi/good-vibrations/data/surfer/2022-05-06T23:27:25.315.wav\n",
      "   uploading data to GitHub\n",
      "Already up to date.\n",
      "[main 7e9b5a1] record_wav\n",
      " 2 files changed, 22 insertions(+)\n",
      " create mode 100644 data/surfer/2022-05-06T23:27:25.315.wav\n"
     ]
    },
    {
     "name": "stderr",
     "output_type": "stream",
     "text": [
      "To https://github.com/aubreymoore/good-vibrations.git\n",
      "   6d9540b..7e9b5a1  main -> main\n"
     ]
    },
    {
     "name": "stdout",
     "output_type": "stream",
     "text": [
      "   sleeping for 540s\n",
      "47 of 1000\n",
      "   recording for 60s; saving to /home/pi/good-vibrations/data/surfer/2022-05-06T23:37:31.713.wav\n",
      "   uploading data to GitHub\n",
      "Already up to date.\n",
      "[main 357958d] record_wav\n",
      " 2 files changed, 22 insertions(+)\n",
      " create mode 100644 data/surfer/2022-05-06T23:37:31.713.wav\n"
     ]
    },
    {
     "name": "stderr",
     "output_type": "stream",
     "text": [
      "To https://github.com/aubreymoore/good-vibrations.git\n",
      "   7e9b5a1..357958d  main -> main\n"
     ]
    },
    {
     "name": "stdout",
     "output_type": "stream",
     "text": [
      "   sleeping for 540s\n",
      "48 of 1000\n",
      "   recording for 60s; saving to /home/pi/good-vibrations/data/surfer/2022-05-06T23:47:38.752.wav\n",
      "   uploading data to GitHub\n",
      "Already up to date.\n",
      "[main 0342690] record_wav\n",
      " 2 files changed, 22 insertions(+)\n",
      " create mode 100644 data/surfer/2022-05-06T23:47:38.752.wav\n"
     ]
    },
    {
     "name": "stderr",
     "output_type": "stream",
     "text": [
      "To https://github.com/aubreymoore/good-vibrations.git\n",
      "   357958d..0342690  main -> main\n"
     ]
    },
    {
     "name": "stdout",
     "output_type": "stream",
     "text": [
      "   sleeping for 540s\n",
      "49 of 1000\n",
      "   recording for 60s; saving to /home/pi/good-vibrations/data/surfer/2022-05-06T23:57:46.127.wav\n",
      "   uploading data to GitHub\n",
      "Already up to date.\n",
      "[main f2f0508] record_wav\n",
      " 2 files changed, 22 insertions(+)\n",
      " create mode 100644 data/surfer/2022-05-06T23:57:46.127.wav\n"
     ]
    },
    {
     "name": "stderr",
     "output_type": "stream",
     "text": [
      "To https://github.com/aubreymoore/good-vibrations.git\n",
      "   0342690..f2f0508  main -> main\n"
     ]
    },
    {
     "name": "stdout",
     "output_type": "stream",
     "text": [
      "   sleeping for 540s\n",
      "50 of 1000\n",
      "   recording for 60s; saving to /home/pi/good-vibrations/data/surfer/2022-05-07T00:07:53.898.wav\n",
      "   uploading data to GitHub\n",
      "Already up to date.\n",
      "[main a6f83fa] record_wav\n",
      " 2 files changed, 25 insertions(+), 1 deletion(-)\n",
      " create mode 100644 data/surfer/2022-05-07T00:07:53.898.wav\n"
     ]
    },
    {
     "name": "stderr",
     "output_type": "stream",
     "text": [
      "To https://github.com/aubreymoore/good-vibrations.git\n",
      "   f2f0508..a6f83fa  main -> main\n"
     ]
    },
    {
     "name": "stdout",
     "output_type": "stream",
     "text": [
      "   sleeping for 540s\n",
      "51 of 1000\n",
      "   recording for 60s; saving to /home/pi/good-vibrations/data/surfer/2022-05-07T00:18:00.267.wav\n",
      "   uploading data to GitHub\n",
      "Already up to date.\n",
      "[main 26000fe] record_wav\n",
      " 2 files changed, 23 insertions(+), 1 deletion(-)\n",
      " create mode 100644 data/surfer/2022-05-07T00:18:00.267.wav\n"
     ]
    },
    {
     "name": "stderr",
     "output_type": "stream",
     "text": [
      "To https://github.com/aubreymoore/good-vibrations.git\n",
      "   a6f83fa..26000fe  main -> main\n"
     ]
    },
    {
     "name": "stdout",
     "output_type": "stream",
     "text": [
      "   sleeping for 540s\n",
      "52 of 1000\n",
      "   recording for 60s; saving to /home/pi/good-vibrations/data/surfer/2022-05-07T00:28:06.707.wav\n",
      "   uploading data to GitHub\n",
      "Already up to date.\n",
      "[main cdc28b0] record_wav\n",
      " 2 files changed, 23 insertions(+), 1 deletion(-)\n",
      " create mode 100644 data/surfer/2022-05-07T00:28:06.707.wav\n"
     ]
    },
    {
     "name": "stderr",
     "output_type": "stream",
     "text": [
      "To https://github.com/aubreymoore/good-vibrations.git\n",
      "   26000fe..cdc28b0  main -> main\n"
     ]
    },
    {
     "name": "stdout",
     "output_type": "stream",
     "text": [
      "   sleeping for 540s\n",
      "53 of 1000\n",
      "   recording for 60s; saving to /home/pi/good-vibrations/data/surfer/2022-05-07T00:38:13.492.wav\n",
      "   uploading data to GitHub\n",
      "Already up to date.\n",
      "[main 6684c26] record_wav\n",
      " 2 files changed, 23 insertions(+), 1 deletion(-)\n",
      " create mode 100644 data/surfer/2022-05-07T00:38:13.492.wav\n"
     ]
    },
    {
     "name": "stderr",
     "output_type": "stream",
     "text": [
      "To https://github.com/aubreymoore/good-vibrations.git\n",
      "   cdc28b0..6684c26  main -> main\n"
     ]
    },
    {
     "name": "stdout",
     "output_type": "stream",
     "text": [
      "   sleeping for 540s\n",
      "54 of 1000\n",
      "   recording for 60s; saving to /home/pi/good-vibrations/data/surfer/2022-05-07T00:48:22.737.wav\n",
      "   uploading data to GitHub\n",
      "Already up to date.\n",
      "[main d8599d5] record_wav\n",
      " 2 files changed, 23 insertions(+), 1 deletion(-)\n",
      " create mode 100644 data/surfer/2022-05-07T00:48:22.737.wav\n"
     ]
    },
    {
     "name": "stderr",
     "output_type": "stream",
     "text": [
      "To https://github.com/aubreymoore/good-vibrations.git\n",
      "   6684c26..d8599d5  main -> main\n"
     ]
    },
    {
     "name": "stdout",
     "output_type": "stream",
     "text": [
      "   sleeping for 540s\n",
      "55 of 1000\n",
      "   recording for 60s; saving to /home/pi/good-vibrations/data/surfer/2022-05-07T00:58:29.528.wav\n",
      "   uploading data to GitHub\n",
      "Already up to date.\n",
      "[main 06c9e83] record_wav\n",
      " 2 files changed, 23 insertions(+), 1 deletion(-)\n",
      " create mode 100644 data/surfer/2022-05-07T00:58:29.528.wav\n"
     ]
    },
    {
     "name": "stderr",
     "output_type": "stream",
     "text": [
      "To https://github.com/aubreymoore/good-vibrations.git\n",
      "   d8599d5..06c9e83  main -> main\n"
     ]
    },
    {
     "name": "stdout",
     "output_type": "stream",
     "text": [
      "   sleeping for 540s\n",
      "56 of 1000\n",
      "   recording for 60s; saving to /home/pi/good-vibrations/data/surfer/2022-05-07T01:08:35.751.wav\n",
      "   uploading data to GitHub\n",
      "Already up to date.\n",
      "[main d82f921] record_wav\n",
      " 2 files changed, 23 insertions(+), 1 deletion(-)\n",
      " create mode 100644 data/surfer/2022-05-07T01:08:35.751.wav\n"
     ]
    },
    {
     "name": "stderr",
     "output_type": "stream",
     "text": [
      "To https://github.com/aubreymoore/good-vibrations.git\n",
      "   06c9e83..d82f921  main -> main\n"
     ]
    },
    {
     "name": "stdout",
     "output_type": "stream",
     "text": [
      "   sleeping for 540s\n",
      "57 of 1000\n",
      "   recording for 60s; saving to /home/pi/good-vibrations/data/surfer/2022-05-07T01:18:42.023.wav\n",
      "   uploading data to GitHub\n",
      "Already up to date.\n",
      "[main c9d7d8b] record_wav\n",
      " 2 files changed, 23 insertions(+), 1 deletion(-)\n",
      " create mode 100644 data/surfer/2022-05-07T01:18:42.023.wav\n"
     ]
    },
    {
     "name": "stderr",
     "output_type": "stream",
     "text": [
      "To https://github.com/aubreymoore/good-vibrations.git\n",
      "   d82f921..c9d7d8b  main -> main\n"
     ]
    },
    {
     "name": "stdout",
     "output_type": "stream",
     "text": [
      "   sleeping for 540s\n",
      "58 of 1000\n",
      "   recording for 60s; saving to /home/pi/good-vibrations/data/surfer/2022-05-07T01:28:50.547.wav\n",
      "   uploading data to GitHub\n",
      "Already up to date.\n",
      "[main c1e2c26] record_wav\n",
      " 2 files changed, 23 insertions(+), 1 deletion(-)\n",
      " create mode 100644 data/surfer/2022-05-07T01:28:50.547.wav\n"
     ]
    },
    {
     "name": "stderr",
     "output_type": "stream",
     "text": [
      "To https://github.com/aubreymoore/good-vibrations.git\n",
      "   c9d7d8b..c1e2c26  main -> main\n"
     ]
    },
    {
     "name": "stdout",
     "output_type": "stream",
     "text": [
      "   sleeping for 540s\n",
      "59 of 1000\n",
      "   recording for 60s; saving to /home/pi/good-vibrations/data/surfer/2022-05-07T01:38:59.031.wav\n",
      "   uploading data to GitHub\n",
      "Already up to date.\n",
      "[main 5a528c9] record_wav\n",
      " 2 files changed, 21 insertions(+), 1 deletion(-)\n",
      " create mode 100644 data/surfer/2022-05-07T01:38:59.031.wav\n"
     ]
    },
    {
     "name": "stderr",
     "output_type": "stream",
     "text": [
      "To https://github.com/aubreymoore/good-vibrations.git\n",
      "   c1e2c26..5a528c9  main -> main\n"
     ]
    },
    {
     "name": "stdout",
     "output_type": "stream",
     "text": [
      "   sleeping for 540s\n",
      "60 of 1000\n",
      "   recording for 60s; saving to /home/pi/good-vibrations/data/surfer/2022-05-07T01:49:05.359.wav\n",
      "   uploading data to GitHub\n",
      "Already up to date.\n",
      "[main 6bac5b5] record_wav\n",
      " 2 files changed, 22 insertions(+)\n",
      " create mode 100644 data/surfer/2022-05-07T01:49:05.359.wav\n"
     ]
    },
    {
     "name": "stderr",
     "output_type": "stream",
     "text": [
      "To https://github.com/aubreymoore/good-vibrations.git\n",
      "   5a528c9..6bac5b5  main -> main\n"
     ]
    },
    {
     "name": "stdout",
     "output_type": "stream",
     "text": [
      "   sleeping for 540s\n",
      "61 of 1000\n",
      "   recording for 60s; saving to /home/pi/good-vibrations/data/surfer/2022-05-07T01:59:11.824.wav\n",
      "   uploading data to GitHub\n",
      "Already up to date.\n",
      "[main 1fe8346] record_wav\n",
      " 2 files changed, 22 insertions(+)\n",
      " create mode 100644 data/surfer/2022-05-07T01:59:11.824.wav\n"
     ]
    },
    {
     "name": "stderr",
     "output_type": "stream",
     "text": [
      "To https://github.com/aubreymoore/good-vibrations.git\n",
      "   6bac5b5..1fe8346  main -> main\n"
     ]
    },
    {
     "name": "stdout",
     "output_type": "stream",
     "text": [
      "   sleeping for 540s\n",
      "62 of 1000\n",
      "   recording for 60s; saving to /home/pi/good-vibrations/data/surfer/2022-05-07T02:09:17.958.wav\n",
      "   uploading data to GitHub\n",
      "Already up to date.\n",
      "[main 546db0a] record_wav\n",
      " 2 files changed, 22 insertions(+)\n",
      " create mode 100644 data/surfer/2022-05-07T02:09:17.958.wav\n"
     ]
    },
    {
     "name": "stderr",
     "output_type": "stream",
     "text": [
      "To https://github.com/aubreymoore/good-vibrations.git\n",
      "   1fe8346..546db0a  main -> main\n"
     ]
    },
    {
     "name": "stdout",
     "output_type": "stream",
     "text": [
      "   sleeping for 540s\n",
      "63 of 1000\n",
      "   recording for 60s; saving to /home/pi/good-vibrations/data/surfer/2022-05-07T02:19:24.228.wav\n",
      "   uploading data to GitHub\n",
      "Already up to date.\n",
      "[main 5531e73] record_wav\n",
      " 2 files changed, 22 insertions(+)\n",
      " create mode 100644 data/surfer/2022-05-07T02:19:24.228.wav\n"
     ]
    },
    {
     "name": "stderr",
     "output_type": "stream",
     "text": [
      "To https://github.com/aubreymoore/good-vibrations.git\n",
      "   546db0a..5531e73  main -> main\n"
     ]
    },
    {
     "name": "stdout",
     "output_type": "stream",
     "text": [
      "   sleeping for 540s\n",
      "64 of 1000\n",
      "   recording for 60s; saving to /home/pi/good-vibrations/data/surfer/2022-05-07T02:29:30.414.wav\n",
      "   uploading data to GitHub\n",
      "Already up to date.\n",
      "[main e80443f] record_wav\n",
      " 2 files changed, 22 insertions(+)\n",
      " create mode 100644 data/surfer/2022-05-07T02:29:30.414.wav\n"
     ]
    },
    {
     "name": "stderr",
     "output_type": "stream",
     "text": [
      "To https://github.com/aubreymoore/good-vibrations.git\n",
      "   5531e73..e80443f  main -> main\n"
     ]
    },
    {
     "name": "stdout",
     "output_type": "stream",
     "text": [
      "   sleeping for 540s\n",
      "65 of 1000\n",
      "   recording for 60s; saving to /home/pi/good-vibrations/data/surfer/2022-05-07T02:39:36.708.wav\n",
      "   uploading data to GitHub\n",
      "Already up to date.\n",
      "[main 62734d5] record_wav\n",
      " 2 files changed, 22 insertions(+)\n",
      " create mode 100644 data/surfer/2022-05-07T02:39:36.708.wav\n"
     ]
    },
    {
     "name": "stderr",
     "output_type": "stream",
     "text": [
      "To https://github.com/aubreymoore/good-vibrations.git\n",
      "   e80443f..62734d5  main -> main\n"
     ]
    },
    {
     "name": "stdout",
     "output_type": "stream",
     "text": [
      "   sleeping for 540s\n",
      "66 of 1000\n",
      "   recording for 60s; saving to /home/pi/good-vibrations/data/surfer/2022-05-07T02:49:43.228.wav\n",
      "   uploading data to GitHub\n",
      "Already up to date.\n",
      "[main f4830a8] record_wav\n",
      " 2 files changed, 22 insertions(+)\n",
      " create mode 100644 data/surfer/2022-05-07T02:49:43.228.wav\n"
     ]
    },
    {
     "name": "stderr",
     "output_type": "stream",
     "text": [
      "To https://github.com/aubreymoore/good-vibrations.git\n",
      "   62734d5..f4830a8  main -> main\n"
     ]
    },
    {
     "name": "stdout",
     "output_type": "stream",
     "text": [
      "   sleeping for 540s\n",
      "67 of 1000\n",
      "   recording for 60s; saving to /home/pi/good-vibrations/data/surfer/2022-05-07T02:59:50.077.wav\n",
      "   uploading data to GitHub\n",
      "Already up to date.\n",
      "[main cd1d8f7] record_wav\n",
      " 2 files changed, 22 insertions(+)\n",
      " create mode 100644 data/surfer/2022-05-07T02:59:50.077.wav\n"
     ]
    },
    {
     "name": "stderr",
     "output_type": "stream",
     "text": [
      "To https://github.com/aubreymoore/good-vibrations.git\n",
      "   f4830a8..cd1d8f7  main -> main\n"
     ]
    },
    {
     "name": "stdout",
     "output_type": "stream",
     "text": [
      "   sleeping for 540s\n",
      "68 of 1000\n",
      "   recording for 60s; saving to /home/pi/good-vibrations/data/surfer/2022-05-07T03:09:56.538.wav\n",
      "   uploading data to GitHub\n",
      "Already up to date.\n",
      "[main cf0d72f] record_wav\n",
      " 2 files changed, 22 insertions(+)\n",
      " create mode 100644 data/surfer/2022-05-07T03:09:56.538.wav\n"
     ]
    },
    {
     "name": "stderr",
     "output_type": "stream",
     "text": [
      "To https://github.com/aubreymoore/good-vibrations.git\n",
      "   cd1d8f7..cf0d72f  main -> main\n"
     ]
    },
    {
     "name": "stdout",
     "output_type": "stream",
     "text": [
      "   sleeping for 540s\n",
      "69 of 1000\n",
      "   recording for 60s; saving to /home/pi/good-vibrations/data/surfer/2022-05-07T03:20:02.888.wav\n",
      "   uploading data to GitHub\n",
      "Already up to date.\n",
      "[main 9cecd32] record_wav\n",
      " 2 files changed, 25 insertions(+), 1 deletion(-)\n",
      " create mode 100644 data/surfer/2022-05-07T03:20:02.888.wav\n"
     ]
    },
    {
     "name": "stderr",
     "output_type": "stream",
     "text": [
      "To https://github.com/aubreymoore/good-vibrations.git\n",
      "   cf0d72f..9cecd32  main -> main\n"
     ]
    },
    {
     "name": "stdout",
     "output_type": "stream",
     "text": [
      "   sleeping for 540s\n",
      "70 of 1000\n",
      "   recording for 60s; saving to /home/pi/good-vibrations/data/surfer/2022-05-07T03:30:09.267.wav\n",
      "   uploading data to GitHub\n",
      "Already up to date.\n",
      "[main 96e5c79] record_wav\n",
      " 2 files changed, 23 insertions(+), 1 deletion(-)\n",
      " create mode 100644 data/surfer/2022-05-07T03:30:09.267.wav\n"
     ]
    },
    {
     "name": "stderr",
     "output_type": "stream",
     "text": [
      "To https://github.com/aubreymoore/good-vibrations.git\n",
      "   9cecd32..96e5c79  main -> main\n"
     ]
    },
    {
     "name": "stdout",
     "output_type": "stream",
     "text": [
      "   sleeping for 540s\n",
      "71 of 1000\n",
      "   recording for 60s; saving to /home/pi/good-vibrations/data/surfer/2022-05-07T03:40:15.528.wav\n",
      "   uploading data to GitHub\n",
      "Already up to date.\n",
      "[main 626616e] record_wav\n",
      " 2 files changed, 23 insertions(+), 1 deletion(-)\n",
      " create mode 100644 data/surfer/2022-05-07T03:40:15.528.wav\n"
     ]
    },
    {
     "name": "stderr",
     "output_type": "stream",
     "text": [
      "To https://github.com/aubreymoore/good-vibrations.git\n",
      "   96e5c79..626616e  main -> main\n"
     ]
    },
    {
     "name": "stdout",
     "output_type": "stream",
     "text": [
      "   sleeping for 540s\n",
      "72 of 1000\n",
      "   recording for 60s; saving to /home/pi/good-vibrations/data/surfer/2022-05-07T03:50:21.838.wav\n",
      "   uploading data to GitHub\n",
      "Already up to date.\n",
      "[main 01e9397] record_wav\n",
      " 2 files changed, 23 insertions(+), 1 deletion(-)\n",
      " create mode 100644 data/surfer/2022-05-07T03:50:21.838.wav\n"
     ]
    },
    {
     "name": "stderr",
     "output_type": "stream",
     "text": [
      "To https://github.com/aubreymoore/good-vibrations.git\n",
      "   626616e..01e9397  main -> main\n"
     ]
    },
    {
     "name": "stdout",
     "output_type": "stream",
     "text": [
      "   sleeping for 540s\n",
      "73 of 1000\n",
      "   recording for 60s; saving to /home/pi/good-vibrations/data/surfer/2022-05-07T04:00:28.161.wav\n",
      "   uploading data to GitHub\n",
      "Already up to date.\n",
      "[main e61a6ea] record_wav\n",
      " 2 files changed, 23 insertions(+), 1 deletion(-)\n",
      " create mode 100644 data/surfer/2022-05-07T04:00:28.161.wav\n"
     ]
    },
    {
     "name": "stderr",
     "output_type": "stream",
     "text": [
      "To https://github.com/aubreymoore/good-vibrations.git\n",
      "   01e9397..e61a6ea  main -> main\n"
     ]
    },
    {
     "name": "stdout",
     "output_type": "stream",
     "text": [
      "   sleeping for 540s\n",
      "74 of 1000\n",
      "   recording for 60s; saving to /home/pi/good-vibrations/data/surfer/2022-05-07T04:10:34.429.wav\n",
      "   uploading data to GitHub\n",
      "Already up to date.\n",
      "[main 74fff92] record_wav\n",
      " 2 files changed, 23 insertions(+), 1 deletion(-)\n",
      " create mode 100644 data/surfer/2022-05-07T04:10:34.429.wav\n"
     ]
    },
    {
     "name": "stderr",
     "output_type": "stream",
     "text": [
      "To https://github.com/aubreymoore/good-vibrations.git\n",
      "   e61a6ea..74fff92  main -> main\n"
     ]
    },
    {
     "name": "stdout",
     "output_type": "stream",
     "text": [
      "   sleeping for 540s\n",
      "75 of 1000\n",
      "   recording for 60s; saving to /home/pi/good-vibrations/data/surfer/2022-05-07T04:20:40.788.wav\n",
      "   uploading data to GitHub\n",
      "Already up to date.\n",
      "[main 467ccce] record_wav\n",
      " 2 files changed, 23 insertions(+), 1 deletion(-)\n",
      " create mode 100644 data/surfer/2022-05-07T04:20:40.788.wav\n"
     ]
    },
    {
     "name": "stderr",
     "output_type": "stream",
     "text": [
      "To https://github.com/aubreymoore/good-vibrations.git\n",
      "   74fff92..467ccce  main -> main\n"
     ]
    },
    {
     "name": "stdout",
     "output_type": "stream",
     "text": [
      "   sleeping for 540s\n",
      "76 of 1000\n",
      "   recording for 60s; saving to /home/pi/good-vibrations/data/surfer/2022-05-07T04:30:49.598.wav\n",
      "   uploading data to GitHub\n",
      "Already up to date.\n",
      "[main e743c76] record_wav\n",
      " 2 files changed, 23 insertions(+), 1 deletion(-)\n",
      " create mode 100644 data/surfer/2022-05-07T04:30:49.598.wav\n"
     ]
    },
    {
     "name": "stderr",
     "output_type": "stream",
     "text": [
      "To https://github.com/aubreymoore/good-vibrations.git\n",
      "   467ccce..e743c76  main -> main\n"
     ]
    },
    {
     "name": "stdout",
     "output_type": "stream",
     "text": [
      "   sleeping for 540s\n",
      "77 of 1000\n",
      "   recording for 60s; saving to /home/pi/good-vibrations/data/surfer/2022-05-07T04:40:57.198.wav\n",
      "   uploading data to GitHub\n",
      "Already up to date.\n",
      "[main 8715d23] record_wav\n",
      " 2 files changed, 23 insertions(+), 1 deletion(-)\n",
      " create mode 100644 data/surfer/2022-05-07T04:40:57.198.wav\n"
     ]
    },
    {
     "name": "stderr",
     "output_type": "stream",
     "text": [
      "To https://github.com/aubreymoore/good-vibrations.git\n",
      "   e743c76..8715d23  main -> main\n"
     ]
    },
    {
     "name": "stdout",
     "output_type": "stream",
     "text": [
      "   sleeping for 540s\n",
      "78 of 1000\n",
      "   recording for 60s; saving to /home/pi/good-vibrations/data/surfer/2022-05-07T04:51:03.536.wav\n",
      "   uploading data to GitHub\n",
      "Already up to date.\n",
      "[main 6d7be59] record_wav\n",
      " 2 files changed, 23 insertions(+), 1 deletion(-)\n",
      " create mode 100644 data/surfer/2022-05-07T04:51:03.536.wav\n"
     ]
    },
    {
     "name": "stderr",
     "output_type": "stream",
     "text": [
      "To https://github.com/aubreymoore/good-vibrations.git\n",
      "   8715d23..6d7be59  main -> main\n"
     ]
    },
    {
     "name": "stdout",
     "output_type": "stream",
     "text": [
      "   sleeping for 540s\n",
      "79 of 1000\n",
      "   recording for 60s; saving to /home/pi/good-vibrations/data/surfer/2022-05-07T05:01:10.021.wav\n",
      "   uploading data to GitHub\n",
      "Already up to date.\n",
      "[main b3aafbd] record_wav\n",
      " 2 files changed, 21 insertions(+), 1 deletion(-)\n",
      " create mode 100644 data/surfer/2022-05-07T05:01:10.021.wav\n"
     ]
    },
    {
     "name": "stderr",
     "output_type": "stream",
     "text": [
      "To https://github.com/aubreymoore/good-vibrations.git\n",
      "   6d7be59..b3aafbd  main -> main\n"
     ]
    },
    {
     "name": "stdout",
     "output_type": "stream",
     "text": [
      "   sleeping for 540s\n",
      "80 of 1000\n",
      "   recording for 60s; saving to /home/pi/good-vibrations/data/surfer/2022-05-07T05:11:16.467.wav\n",
      "   uploading data to GitHub\n",
      "Already up to date.\n",
      "[main f02b9ed] record_wav\n",
      " 2 files changed, 22 insertions(+)\n",
      " create mode 100644 data/surfer/2022-05-07T05:11:16.467.wav\n"
     ]
    },
    {
     "name": "stderr",
     "output_type": "stream",
     "text": [
      "To https://github.com/aubreymoore/good-vibrations.git\n",
      "   b3aafbd..f02b9ed  main -> main\n"
     ]
    },
    {
     "name": "stdout",
     "output_type": "stream",
     "text": [
      "   sleeping for 540s\n",
      "81 of 1000\n",
      "   recording for 60s; saving to /home/pi/good-vibrations/data/surfer/2022-05-07T05:21:22.777.wav\n",
      "   uploading data to GitHub\n",
      "Already up to date.\n",
      "[main e3d169d] record_wav\n",
      " 2 files changed, 22 insertions(+)\n",
      " create mode 100644 data/surfer/2022-05-07T05:21:22.777.wav\n"
     ]
    },
    {
     "name": "stderr",
     "output_type": "stream",
     "text": [
      "To https://github.com/aubreymoore/good-vibrations.git\n",
      "   f02b9ed..e3d169d  main -> main\n"
     ]
    },
    {
     "name": "stdout",
     "output_type": "stream",
     "text": [
      "   sleeping for 540s\n",
      "82 of 1000\n",
      "   recording for 60s; saving to /home/pi/good-vibrations/data/surfer/2022-05-07T05:31:29.169.wav\n",
      "   uploading data to GitHub\n",
      "Already up to date.\n",
      "[main d712ad9] record_wav\n",
      " 2 files changed, 22 insertions(+)\n",
      " create mode 100644 data/surfer/2022-05-07T05:31:29.169.wav\n"
     ]
    },
    {
     "name": "stderr",
     "output_type": "stream",
     "text": [
      "To https://github.com/aubreymoore/good-vibrations.git\n",
      "   e3d169d..d712ad9  main -> main\n"
     ]
    },
    {
     "name": "stdout",
     "output_type": "stream",
     "text": [
      "   sleeping for 540s\n",
      "83 of 1000\n",
      "   recording for 60s; saving to /home/pi/good-vibrations/data/surfer/2022-05-07T05:41:35.417.wav\n",
      "   uploading data to GitHub\n",
      "Already up to date.\n",
      "[main ea1aa38] record_wav\n",
      " 2 files changed, 22 insertions(+)\n",
      " create mode 100644 data/surfer/2022-05-07T05:41:35.417.wav\n"
     ]
    },
    {
     "name": "stderr",
     "output_type": "stream",
     "text": [
      "To https://github.com/aubreymoore/good-vibrations.git\n",
      "   d712ad9..ea1aa38  main -> main\n"
     ]
    },
    {
     "name": "stdout",
     "output_type": "stream",
     "text": [
      "   sleeping for 540s\n",
      "84 of 1000\n",
      "   recording for 60s; saving to /home/pi/good-vibrations/data/surfer/2022-05-07T05:51:41.801.wav\n",
      "   uploading data to GitHub\n",
      "Already up to date.\n",
      "[main e2989d6] record_wav\n",
      " 2 files changed, 22 insertions(+)\n",
      " create mode 100644 data/surfer/2022-05-07T05:51:41.801.wav\n"
     ]
    },
    {
     "name": "stderr",
     "output_type": "stream",
     "text": [
      "To https://github.com/aubreymoore/good-vibrations.git\n",
      "   ea1aa38..e2989d6  main -> main\n"
     ]
    },
    {
     "name": "stdout",
     "output_type": "stream",
     "text": [
      "   sleeping for 540s\n",
      "85 of 1000\n",
      "   recording for 60s; saving to /home/pi/good-vibrations/data/surfer/2022-05-07T06:01:50.799.wav\n",
      "   uploading data to GitHub\n",
      "Already up to date.\n",
      "[main 59da6e1] record_wav\n",
      " 2 files changed, 22 insertions(+)\n",
      " create mode 100644 data/surfer/2022-05-07T06:01:50.799.wav\n"
     ]
    },
    {
     "name": "stderr",
     "output_type": "stream",
     "text": [
      "To https://github.com/aubreymoore/good-vibrations.git\n",
      "   e2989d6..59da6e1  main -> main\n"
     ]
    },
    {
     "name": "stdout",
     "output_type": "stream",
     "text": [
      "   sleeping for 540s\n",
      "86 of 1000\n",
      "   recording for 60s; saving to /home/pi/good-vibrations/data/surfer/2022-05-07T06:11:57.139.wav\n",
      "   uploading data to GitHub\n",
      "Already up to date.\n",
      "[main 12a1a99] record_wav\n",
      " 2 files changed, 22 insertions(+)\n",
      " create mode 100644 data/surfer/2022-05-07T06:11:57.139.wav\n"
     ]
    },
    {
     "name": "stderr",
     "output_type": "stream",
     "text": [
      "To https://github.com/aubreymoore/good-vibrations.git\n",
      "   59da6e1..12a1a99  main -> main\n"
     ]
    },
    {
     "name": "stdout",
     "output_type": "stream",
     "text": [
      "   sleeping for 540s\n",
      "87 of 1000\n",
      "   recording for 60s; saving to /home/pi/good-vibrations/data/surfer/2022-05-07T06:22:03.568.wav\n",
      "   uploading data to GitHub\n",
      "Already up to date.\n",
      "[main e94e481] record_wav\n",
      " 2 files changed, 22 insertions(+)\n",
      " create mode 100644 data/surfer/2022-05-07T06:22:03.568.wav\n"
     ]
    },
    {
     "name": "stderr",
     "output_type": "stream",
     "text": [
      "To https://github.com/aubreymoore/good-vibrations.git\n",
      "   12a1a99..e94e481  main -> main\n"
     ]
    },
    {
     "name": "stdout",
     "output_type": "stream",
     "text": [
      "   sleeping for 540s\n",
      "88 of 1000\n",
      "   recording for 60s; saving to /home/pi/good-vibrations/data/surfer/2022-05-07T06:32:10.078.wav\n",
      "   uploading data to GitHub\n",
      "Already up to date.\n",
      "[main af271d9] record_wav\n",
      " 2 files changed, 26 insertions(+), 1 deletion(-)\n",
      " create mode 100644 data/surfer/2022-05-07T06:32:10.078.wav\n"
     ]
    },
    {
     "name": "stderr",
     "output_type": "stream",
     "text": [
      "To https://github.com/aubreymoore/good-vibrations.git\n",
      "   e94e481..af271d9  main -> main\n"
     ]
    },
    {
     "name": "stdout",
     "output_type": "stream",
     "text": [
      "   sleeping for 540s\n",
      "89 of 1000\n",
      "   recording for 60s; saving to /home/pi/good-vibrations/data/surfer/2022-05-07T06:42:17.124.wav\n",
      "   uploading data to GitHub\n",
      "Already up to date.\n",
      "[main 4dbf42d] record_wav\n",
      " 2 files changed, 25 insertions(+), 1 deletion(-)\n",
      " create mode 100644 data/surfer/2022-05-07T06:42:17.124.wav\n"
     ]
    },
    {
     "name": "stderr",
     "output_type": "stream",
     "text": [
      "To https://github.com/aubreymoore/good-vibrations.git\n",
      "   af271d9..4dbf42d  main -> main\n"
     ]
    },
    {
     "name": "stdout",
     "output_type": "stream",
     "text": [
      "   sleeping for 540s\n",
      "90 of 1000\n",
      "   recording for 60s; saving to /home/pi/good-vibrations/data/surfer/2022-05-07T06:52:23.447.wav\n",
      "   uploading data to GitHub\n",
      "Already up to date.\n",
      "[main 700d80b] record_wav\n",
      " 2 files changed, 23 insertions(+), 1 deletion(-)\n",
      " create mode 100644 data/surfer/2022-05-07T06:52:23.447.wav\n"
     ]
    },
    {
     "name": "stderr",
     "output_type": "stream",
     "text": [
      "To https://github.com/aubreymoore/good-vibrations.git\n",
      "   4dbf42d..700d80b  main -> main\n"
     ]
    },
    {
     "name": "stdout",
     "output_type": "stream",
     "text": [
      "   sleeping for 540s\n",
      "91 of 1000\n",
      "   recording for 60s; saving to /home/pi/good-vibrations/data/surfer/2022-05-07T07:02:33.778.wav\n",
      "   uploading data to GitHub\n",
      "Already up to date.\n",
      "[main be7d42d] record_wav\n",
      " 2 files changed, 23 insertions(+), 1 deletion(-)\n",
      " create mode 100644 data/surfer/2022-05-07T07:02:33.778.wav\n"
     ]
    },
    {
     "name": "stderr",
     "output_type": "stream",
     "text": [
      "To https://github.com/aubreymoore/good-vibrations.git\n",
      "   700d80b..be7d42d  main -> main\n"
     ]
    },
    {
     "name": "stdout",
     "output_type": "stream",
     "text": [
      "   sleeping for 540s\n",
      "92 of 1000\n",
      "   recording for 60s; saving to /home/pi/good-vibrations/data/surfer/2022-05-07T07:12:40.019.wav\n",
      "   uploading data to GitHub\n",
      "Already up to date.\n",
      "[main 5f14af7] record_wav\n",
      " 2 files changed, 23 insertions(+), 1 deletion(-)\n",
      " create mode 100644 data/surfer/2022-05-07T07:12:40.019.wav\n"
     ]
    },
    {
     "name": "stderr",
     "output_type": "stream",
     "text": [
      "To https://github.com/aubreymoore/good-vibrations.git\n",
      "   be7d42d..5f14af7  main -> main\n"
     ]
    },
    {
     "name": "stdout",
     "output_type": "stream",
     "text": [
      "   sleeping for 540s\n",
      "93 of 1000\n",
      "   recording for 60s; saving to /home/pi/good-vibrations/data/surfer/2022-05-07T07:22:49.305.wav\n",
      "   uploading data to GitHub\n",
      "Already up to date.\n",
      "[main b32aaef] record_wav\n",
      " 2 files changed, 23 insertions(+), 1 deletion(-)\n",
      " create mode 100644 data/surfer/2022-05-07T07:22:49.305.wav\n"
     ]
    },
    {
     "name": "stderr",
     "output_type": "stream",
     "text": [
      "To https://github.com/aubreymoore/good-vibrations.git\n",
      "   5f14af7..b32aaef  main -> main\n"
     ]
    },
    {
     "name": "stdout",
     "output_type": "stream",
     "text": [
      "   sleeping for 540s\n",
      "94 of 1000\n",
      "   recording for 60s; saving to /home/pi/good-vibrations/data/surfer/2022-05-07T07:32:55.682.wav\n",
      "   uploading data to GitHub\n",
      "Already up to date.\n",
      "[main 544f63b] record_wav\n",
      " 2 files changed, 23 insertions(+), 1 deletion(-)\n",
      " create mode 100644 data/surfer/2022-05-07T07:32:55.682.wav\n"
     ]
    },
    {
     "name": "stderr",
     "output_type": "stream",
     "text": [
      "To https://github.com/aubreymoore/good-vibrations.git\n",
      "   b32aaef..544f63b  main -> main\n"
     ]
    },
    {
     "name": "stdout",
     "output_type": "stream",
     "text": [
      "   sleeping for 540s\n",
      "95 of 1000\n",
      "   recording for 60s; saving to /home/pi/good-vibrations/data/surfer/2022-05-07T07:43:02.022.wav\n",
      "   uploading data to GitHub\n",
      "Already up to date.\n",
      "[main 74316e0] record_wav\n",
      " 2 files changed, 23 insertions(+), 1 deletion(-)\n",
      " create mode 100644 data/surfer/2022-05-07T07:43:02.022.wav\n"
     ]
    },
    {
     "name": "stderr",
     "output_type": "stream",
     "text": [
      "To https://github.com/aubreymoore/good-vibrations.git\n",
      "   544f63b..74316e0  main -> main\n"
     ]
    },
    {
     "name": "stdout",
     "output_type": "stream",
     "text": [
      "   sleeping for 540s\n",
      "96 of 1000\n",
      "   recording for 60s; saving to /home/pi/good-vibrations/data/surfer/2022-05-07T07:53:08.471.wav\n",
      "   uploading data to GitHub\n",
      "Already up to date.\n",
      "[main 9186040] record_wav\n",
      " 2 files changed, 23 insertions(+), 1 deletion(-)\n",
      " create mode 100644 data/surfer/2022-05-07T07:53:08.471.wav\n"
     ]
    },
    {
     "name": "stderr",
     "output_type": "stream",
     "text": [
      "To https://github.com/aubreymoore/good-vibrations.git\n",
      "   74316e0..9186040  main -> main\n"
     ]
    },
    {
     "name": "stdout",
     "output_type": "stream",
     "text": [
      "   sleeping for 540s\n",
      "97 of 1000\n",
      "   recording for 60s; saving to /home/pi/good-vibrations/data/surfer/2022-05-07T08:03:14.820.wav\n",
      "   uploading data to GitHub\n",
      "Already up to date.\n",
      "[main 2a98505] record_wav\n",
      " 2 files changed, 23 insertions(+), 1 deletion(-)\n",
      " create mode 100644 data/surfer/2022-05-07T08:03:14.820.wav\n"
     ]
    },
    {
     "name": "stderr",
     "output_type": "stream",
     "text": [
      "To https://github.com/aubreymoore/good-vibrations.git\n",
      "   9186040..2a98505  main -> main\n"
     ]
    },
    {
     "name": "stdout",
     "output_type": "stream",
     "text": [
      "   sleeping for 540s\n",
      "98 of 1000\n",
      "   recording for 60s; saving to /home/pi/good-vibrations/data/surfer/2022-05-07T08:13:21.327.wav\n",
      "   uploading data to GitHub\n",
      "Already up to date.\n",
      "[main df01313] record_wav\n",
      " 2 files changed, 23 insertions(+), 1 deletion(-)\n",
      " create mode 100644 data/surfer/2022-05-07T08:13:21.327.wav\n"
     ]
    },
    {
     "name": "stderr",
     "output_type": "stream",
     "text": [
      "To https://github.com/aubreymoore/good-vibrations.git\n",
      "   2a98505..df01313  main -> main\n"
     ]
    },
    {
     "name": "stdout",
     "output_type": "stream",
     "text": [
      "   sleeping for 540s\n",
      "99 of 1000\n",
      "   recording for 60s; saving to /home/pi/good-vibrations/data/surfer/2022-05-07T08:23:27.886.wav\n",
      "   uploading data to GitHub\n",
      "Already up to date.\n",
      "[main 5564508] record_wav\n",
      " 2 files changed, 21 insertions(+), 1 deletion(-)\n",
      " create mode 100644 data/surfer/2022-05-07T08:23:27.886.wav\n"
     ]
    },
    {
     "name": "stderr",
     "output_type": "stream",
     "text": [
      "To https://github.com/aubreymoore/good-vibrations.git\n",
      "   df01313..5564508  main -> main\n"
     ]
    },
    {
     "name": "stdout",
     "output_type": "stream",
     "text": [
      "   sleeping for 540s\n",
      "100 of 1000\n",
      "   recording for 60s; saving to /home/pi/good-vibrations/data/surfer/2022-05-07T08:33:34.167.wav\n",
      "   uploading data to GitHub\n",
      "Already up to date.\n",
      "[main c20c90e] record_wav\n",
      " 2 files changed, 22 insertions(+)\n",
      " create mode 100644 data/surfer/2022-05-07T08:33:34.167.wav\n"
     ]
    },
    {
     "name": "stderr",
     "output_type": "stream",
     "text": [
      "To https://github.com/aubreymoore/good-vibrations.git\n",
      "   5564508..c20c90e  main -> main\n"
     ]
    },
    {
     "name": "stdout",
     "output_type": "stream",
     "text": [
      "   sleeping for 540s\n",
      "101 of 1000\n",
      "   recording for 60s; saving to /home/pi/good-vibrations/data/surfer/2022-05-07T08:43:40.678.wav\n",
      "   uploading data to GitHub\n",
      "Already up to date.\n",
      "[main 43dcd90] record_wav\n",
      " 2 files changed, 22 insertions(+)\n",
      " create mode 100644 data/surfer/2022-05-07T08:43:40.678.wav\n"
     ]
    },
    {
     "name": "stderr",
     "output_type": "stream",
     "text": [
      "To https://github.com/aubreymoore/good-vibrations.git\n",
      "   c20c90e..43dcd90  main -> main\n"
     ]
    },
    {
     "name": "stdout",
     "output_type": "stream",
     "text": [
      "   sleeping for 540s\n",
      "102 of 1000\n",
      "   recording for 60s; saving to /home/pi/good-vibrations/data/surfer/2022-05-07T08:53:48.558.wav\n",
      "   uploading data to GitHub\n",
      "Already up to date.\n",
      "[main ea7c09e] record_wav\n",
      " 2 files changed, 22 insertions(+)\n",
      " create mode 100644 data/surfer/2022-05-07T08:53:48.558.wav\n"
     ]
    },
    {
     "name": "stderr",
     "output_type": "stream",
     "text": [
      "To https://github.com/aubreymoore/good-vibrations.git\n",
      "   43dcd90..ea7c09e  main -> main\n"
     ]
    },
    {
     "name": "stdout",
     "output_type": "stream",
     "text": [
      "   sleeping for 540s\n",
      "103 of 1000\n",
      "   recording for 60s; saving to /home/pi/good-vibrations/data/surfer/2022-05-07T09:03:58.328.wav\n",
      "   uploading data to GitHub\n",
      "Already up to date.\n",
      "[main 26438d9] record_wav\n",
      " 2 files changed, 22 insertions(+)\n",
      " create mode 100644 data/surfer/2022-05-07T09:03:58.328.wav\n"
     ]
    },
    {
     "name": "stderr",
     "output_type": "stream",
     "text": [
      "To https://github.com/aubreymoore/good-vibrations.git\n",
      "   ea7c09e..26438d9  main -> main\n"
     ]
    },
    {
     "name": "stdout",
     "output_type": "stream",
     "text": [
      "   sleeping for 540s\n",
      "104 of 1000\n",
      "   recording for 60s; saving to /home/pi/good-vibrations/data/surfer/2022-05-07T09:14:05.298.wav\n",
      "   uploading data to GitHub\n",
      "Already up to date.\n",
      "[main b4044a2] record_wav\n",
      " 2 files changed, 22 insertions(+)\n",
      " create mode 100644 data/surfer/2022-05-07T09:14:05.298.wav\n"
     ]
    },
    {
     "name": "stderr",
     "output_type": "stream",
     "text": [
      "To https://github.com/aubreymoore/good-vibrations.git\n",
      "   26438d9..b4044a2  main -> main\n"
     ]
    },
    {
     "name": "stdout",
     "output_type": "stream",
     "text": [
      "   sleeping for 540s\n",
      "105 of 1000\n",
      "   recording for 60s; saving to /home/pi/good-vibrations/data/surfer/2022-05-07T09:24:11.658.wav\n",
      "   uploading data to GitHub\n",
      "Already up to date.\n",
      "[main 7a69bc0] record_wav\n",
      " 2 files changed, 22 insertions(+)\n",
      " create mode 100644 data/surfer/2022-05-07T09:24:11.658.wav\n"
     ]
    },
    {
     "name": "stderr",
     "output_type": "stream",
     "text": [
      "To https://github.com/aubreymoore/good-vibrations.git\n",
      "   b4044a2..7a69bc0  main -> main\n"
     ]
    },
    {
     "name": "stdout",
     "output_type": "stream",
     "text": [
      "   sleeping for 540s\n",
      "106 of 1000\n",
      "   recording for 60s; saving to /home/pi/good-vibrations/data/surfer/2022-05-07T09:34:18.040.wav\n",
      "   uploading data to GitHub\n",
      "Already up to date.\n",
      "[main 825a2a8] record_wav\n",
      " 2 files changed, 22 insertions(+)\n",
      " create mode 100644 data/surfer/2022-05-07T09:34:18.040.wav\n"
     ]
    },
    {
     "name": "stderr",
     "output_type": "stream",
     "text": [
      "To https://github.com/aubreymoore/good-vibrations.git\n",
      "   7a69bc0..825a2a8  main -> main\n"
     ]
    },
    {
     "name": "stdout",
     "output_type": "stream",
     "text": [
      "   sleeping for 540s\n",
      "107 of 1000\n",
      "   recording for 60s; saving to /home/pi/good-vibrations/data/surfer/2022-05-07T09:44:24.367.wav\n",
      "   uploading data to GitHub\n",
      "Already up to date.\n",
      "[main 3fd6bb0] record_wav\n",
      " 2 files changed, 22 insertions(+)\n",
      " create mode 100644 data/surfer/2022-05-07T09:44:24.367.wav\n"
     ]
    },
    {
     "name": "stderr",
     "output_type": "stream",
     "text": [
      "To https://github.com/aubreymoore/good-vibrations.git\n",
      "   825a2a8..3fd6bb0  main -> main\n"
     ]
    },
    {
     "name": "stdout",
     "output_type": "stream",
     "text": [
      "   sleeping for 540s\n",
      "108 of 1000\n",
      "   recording for 60s; saving to /home/pi/good-vibrations/data/surfer/2022-05-07T09:54:30.668.wav\n",
      "   uploading data to GitHub\n",
      "Already up to date.\n",
      "[main 259079f] record_wav\n",
      " 2 files changed, 22 insertions(+)\n",
      " create mode 100644 data/surfer/2022-05-07T09:54:30.668.wav\n"
     ]
    },
    {
     "name": "stderr",
     "output_type": "stream",
     "text": [
      "To https://github.com/aubreymoore/good-vibrations.git\n",
      "   3fd6bb0..259079f  main -> main\n"
     ]
    },
    {
     "name": "stdout",
     "output_type": "stream",
     "text": [
      "   sleeping for 540s\n",
      "109 of 1000\n",
      "   recording for 60s; saving to /home/pi/good-vibrations/data/surfer/2022-05-07T10:04:37.098.wav\n",
      "   uploading data to GitHub\n",
      "Already up to date.\n",
      "[main 89c0e3b] record_wav\n",
      " 2 files changed, 25 insertions(+), 1 deletion(-)\n",
      " create mode 100644 data/surfer/2022-05-07T10:04:37.098.wav\n"
     ]
    },
    {
     "name": "stderr",
     "output_type": "stream",
     "text": [
      "To https://github.com/aubreymoore/good-vibrations.git\n",
      "   259079f..89c0e3b  main -> main\n"
     ]
    },
    {
     "name": "stdout",
     "output_type": "stream",
     "text": [
      "   sleeping for 540s\n",
      "110 of 1000\n",
      "   recording for 60s; saving to /home/pi/good-vibrations/data/surfer/2022-05-07T10:14:43.700.wav\n",
      "   uploading data to GitHub\n",
      "Already up to date.\n",
      "[main 7e3801b] record_wav\n",
      " 2 files changed, 23 insertions(+), 1 deletion(-)\n",
      " create mode 100644 data/surfer/2022-05-07T10:14:43.700.wav\n"
     ]
    },
    {
     "name": "stderr",
     "output_type": "stream",
     "text": [
      "To https://github.com/aubreymoore/good-vibrations.git\n",
      "   89c0e3b..7e3801b  main -> main\n"
     ]
    },
    {
     "name": "stdout",
     "output_type": "stream",
     "text": [
      "   sleeping for 540s\n",
      "111 of 1000\n",
      "   recording for 60s; saving to /home/pi/good-vibrations/data/surfer/2022-05-07T10:24:50.514.wav\n",
      "   uploading data to GitHub\n",
      "Already up to date.\n",
      "[main 878e59c] record_wav\n",
      " 2 files changed, 23 insertions(+), 1 deletion(-)\n",
      " create mode 100644 data/surfer/2022-05-07T10:24:50.514.wav\n"
     ]
    },
    {
     "name": "stderr",
     "output_type": "stream",
     "text": [
      "To https://github.com/aubreymoore/good-vibrations.git\n",
      "   7e3801b..878e59c  main -> main\n"
     ]
    },
    {
     "name": "stdout",
     "output_type": "stream",
     "text": [
      "   sleeping for 540s\n",
      "112 of 1000\n",
      "   recording for 60s; saving to /home/pi/good-vibrations/data/surfer/2022-05-07T10:34:56.767.wav\n",
      "   uploading data to GitHub\n",
      "Already up to date.\n",
      "[main 574ab54] record_wav\n",
      " 2 files changed, 23 insertions(+), 1 deletion(-)\n",
      " create mode 100644 data/surfer/2022-05-07T10:34:56.767.wav\n"
     ]
    },
    {
     "name": "stderr",
     "output_type": "stream",
     "text": [
      "To https://github.com/aubreymoore/good-vibrations.git\n",
      "   878e59c..574ab54  main -> main\n"
     ]
    },
    {
     "name": "stdout",
     "output_type": "stream",
     "text": [
      "   sleeping for 540s\n",
      "113 of 1000\n",
      "   recording for 60s; saving to /home/pi/good-vibrations/data/surfer/2022-05-07T10:45:03.136.wav\n",
      "   uploading data to GitHub\n",
      "Already up to date.\n",
      "[main 9310f97] record_wav\n",
      " 2 files changed, 23 insertions(+), 1 deletion(-)\n",
      " create mode 100644 data/surfer/2022-05-07T10:45:03.136.wav\n"
     ]
    },
    {
     "name": "stderr",
     "output_type": "stream",
     "text": [
      "To https://github.com/aubreymoore/good-vibrations.git\n",
      "   574ab54..9310f97  main -> main\n"
     ]
    },
    {
     "name": "stdout",
     "output_type": "stream",
     "text": [
      "   sleeping for 540s\n",
      "114 of 1000\n",
      "   recording for 60s; saving to /home/pi/good-vibrations/data/surfer/2022-05-07T10:55:09.594.wav\n",
      "   uploading data to GitHub\n",
      "Already up to date.\n",
      "[main 0dd40c2] record_wav\n",
      " 2 files changed, 23 insertions(+), 1 deletion(-)\n",
      " create mode 100644 data/surfer/2022-05-07T10:55:09.594.wav\n"
     ]
    },
    {
     "name": "stderr",
     "output_type": "stream",
     "text": [
      "To https://github.com/aubreymoore/good-vibrations.git\n",
      "   9310f97..0dd40c2  main -> main\n"
     ]
    },
    {
     "name": "stdout",
     "output_type": "stream",
     "text": [
      "   sleeping for 540s\n",
      "115 of 1000\n",
      "   recording for 60s; saving to /home/pi/good-vibrations/data/surfer/2022-05-07T11:05:15.936.wav\n",
      "   uploading data to GitHub\n",
      "Already up to date.\n",
      "[main 34f0a7c] record_wav\n",
      " 2 files changed, 23 insertions(+), 1 deletion(-)\n",
      " create mode 100644 data/surfer/2022-05-07T11:05:15.936.wav\n"
     ]
    },
    {
     "name": "stderr",
     "output_type": "stream",
     "text": [
      "To https://github.com/aubreymoore/good-vibrations.git\n",
      "   0dd40c2..34f0a7c  main -> main\n"
     ]
    },
    {
     "name": "stdout",
     "output_type": "stream",
     "text": [
      "   sleeping for 540s\n",
      "116 of 1000\n",
      "   recording for 60s; saving to /home/pi/good-vibrations/data/surfer/2022-05-07T11:15:22.263.wav\n",
      "   uploading data to GitHub\n",
      "Already up to date.\n",
      "[main 25e3795] record_wav\n",
      " 2 files changed, 23 insertions(+), 1 deletion(-)\n",
      " create mode 100644 data/surfer/2022-05-07T11:15:22.263.wav\n"
     ]
    },
    {
     "name": "stderr",
     "output_type": "stream",
     "text": [
      "To https://github.com/aubreymoore/good-vibrations.git\n",
      "   34f0a7c..25e3795  main -> main\n"
     ]
    },
    {
     "name": "stdout",
     "output_type": "stream",
     "text": [
      "   sleeping for 540s\n",
      "117 of 1000\n",
      "   recording for 60s; saving to /home/pi/good-vibrations/data/surfer/2022-05-07T11:25:28.474.wav\n",
      "   uploading data to GitHub\n",
      "Already up to date.\n",
      "[main a1e7eb3] record_wav\n",
      " 2 files changed, 23 insertions(+), 1 deletion(-)\n",
      " create mode 100644 data/surfer/2022-05-07T11:25:28.474.wav\n"
     ]
    },
    {
     "name": "stderr",
     "output_type": "stream",
     "text": [
      "To https://github.com/aubreymoore/good-vibrations.git\n",
      "   25e3795..a1e7eb3  main -> main\n"
     ]
    },
    {
     "name": "stdout",
     "output_type": "stream",
     "text": [
      "   sleeping for 540s\n",
      "118 of 1000\n",
      "   recording for 60s; saving to /home/pi/good-vibrations/data/surfer/2022-05-07T11:35:34.726.wav\n",
      "   uploading data to GitHub\n",
      "Already up to date.\n",
      "[main c60687d] record_wav\n",
      " 2 files changed, 23 insertions(+), 1 deletion(-)\n",
      " create mode 100644 data/surfer/2022-05-07T11:35:34.726.wav\n"
     ]
    },
    {
     "name": "stderr",
     "output_type": "stream",
     "text": [
      "To https://github.com/aubreymoore/good-vibrations.git\n",
      "   a1e7eb3..c60687d  main -> main\n"
     ]
    },
    {
     "name": "stdout",
     "output_type": "stream",
     "text": [
      "   sleeping for 540s\n",
      "119 of 1000\n",
      "   recording for 60s; saving to /home/pi/good-vibrations/data/surfer/2022-05-07T11:45:41.248.wav\n",
      "   uploading data to GitHub\n",
      "Already up to date.\n",
      "[main ed04162] record_wav\n",
      " 2 files changed, 23 insertions(+), 1 deletion(-)\n",
      " create mode 100644 data/surfer/2022-05-07T11:45:41.248.wav\n"
     ]
    },
    {
     "name": "stderr",
     "output_type": "stream",
     "text": [
      "To https://github.com/aubreymoore/good-vibrations.git\n",
      "   c60687d..ed04162  main -> main\n"
     ]
    },
    {
     "name": "stdout",
     "output_type": "stream",
     "text": [
      "   sleeping for 540s\n",
      "120 of 1000\n",
      "   recording for 60s; saving to /home/pi/good-vibrations/data/surfer/2022-05-07T11:55:50.630.wav\n",
      "   uploading data to GitHub\n",
      "Already up to date.\n",
      "[main 687a75f] record_wav\n",
      " 2 files changed, 21 insertions(+), 1 deletion(-)\n",
      " create mode 100644 data/surfer/2022-05-07T11:55:50.630.wav\n"
     ]
    },
    {
     "name": "stderr",
     "output_type": "stream",
     "text": [
      "To https://github.com/aubreymoore/good-vibrations.git\n",
      "   ed04162..687a75f  main -> main\n"
     ]
    },
    {
     "name": "stdout",
     "output_type": "stream",
     "text": [
      "   sleeping for 540s\n",
      "121 of 1000\n",
      "   recording for 60s; saving to /home/pi/good-vibrations/data/surfer/2022-05-07T12:05:56.945.wav\n",
      "   uploading data to GitHub\n",
      "Already up to date.\n",
      "[main 8124825] record_wav\n",
      " 2 files changed, 22 insertions(+)\n",
      " create mode 100644 data/surfer/2022-05-07T12:05:56.945.wav\n"
     ]
    },
    {
     "name": "stderr",
     "output_type": "stream",
     "text": [
      "To https://github.com/aubreymoore/good-vibrations.git\n",
      "   687a75f..8124825  main -> main\n"
     ]
    },
    {
     "name": "stdout",
     "output_type": "stream",
     "text": [
      "   sleeping for 540s\n",
      "122 of 1000\n",
      "   recording for 60s; saving to /home/pi/good-vibrations/data/surfer/2022-05-07T12:16:03.262.wav\n",
      "   uploading data to GitHub\n",
      "Already up to date.\n",
      "[main f7b810f] record_wav\n",
      " 2 files changed, 22 insertions(+)\n",
      " create mode 100644 data/surfer/2022-05-07T12:16:03.262.wav\n"
     ]
    },
    {
     "name": "stderr",
     "output_type": "stream",
     "text": [
      "To https://github.com/aubreymoore/good-vibrations.git\n",
      "   8124825..f7b810f  main -> main\n"
     ]
    },
    {
     "name": "stdout",
     "output_type": "stream",
     "text": [
      "   sleeping for 540s\n",
      "123 of 1000\n",
      "   recording for 60s; saving to /home/pi/good-vibrations/data/surfer/2022-05-07T12:26:09.658.wav\n",
      "   uploading data to GitHub\n",
      "Already up to date.\n",
      "[main 894318b] record_wav\n",
      " 2 files changed, 22 insertions(+)\n",
      " create mode 100644 data/surfer/2022-05-07T12:26:09.658.wav\n"
     ]
    },
    {
     "name": "stderr",
     "output_type": "stream",
     "text": [
      "To https://github.com/aubreymoore/good-vibrations.git\n",
      "   f7b810f..894318b  main -> main\n"
     ]
    },
    {
     "name": "stdout",
     "output_type": "stream",
     "text": [
      "   sleeping for 540s\n",
      "124 of 1000\n",
      "   recording for 60s; saving to /home/pi/good-vibrations/data/surfer/2022-05-07T12:36:16.057.wav\n",
      "   uploading data to GitHub\n",
      "Already up to date.\n",
      "[main 01a6f7f] record_wav\n",
      " 2 files changed, 22 insertions(+)\n",
      " create mode 100644 data/surfer/2022-05-07T12:36:16.057.wav\n"
     ]
    },
    {
     "name": "stderr",
     "output_type": "stream",
     "text": [
      "To https://github.com/aubreymoore/good-vibrations.git\n",
      "   894318b..01a6f7f  main -> main\n"
     ]
    },
    {
     "name": "stdout",
     "output_type": "stream",
     "text": [
      "   sleeping for 540s\n",
      "125 of 1000\n",
      "   recording for 60s; saving to /home/pi/good-vibrations/data/surfer/2022-05-07T12:46:22.461.wav\n",
      "   uploading data to GitHub\n",
      "Already up to date.\n",
      "[main 6099c7a] record_wav\n",
      " 2 files changed, 22 insertions(+)\n",
      " create mode 100644 data/surfer/2022-05-07T12:46:22.461.wav\n"
     ]
    },
    {
     "name": "stderr",
     "output_type": "stream",
     "text": [
      "To https://github.com/aubreymoore/good-vibrations.git\n",
      "   01a6f7f..6099c7a  main -> main\n"
     ]
    },
    {
     "name": "stdout",
     "output_type": "stream",
     "text": [
      "   sleeping for 540s\n",
      "126 of 1000\n",
      "   recording for 60s; saving to /home/pi/good-vibrations/data/surfer/2022-05-07T12:56:28.707.wav\n",
      "   uploading data to GitHub\n",
      "Already up to date.\n",
      "[main 46e366e] record_wav\n",
      " 2 files changed, 22 insertions(+)\n",
      " create mode 100644 data/surfer/2022-05-07T12:56:28.707.wav\n"
     ]
    },
    {
     "name": "stderr",
     "output_type": "stream",
     "text": [
      "To https://github.com/aubreymoore/good-vibrations.git\n",
      "   6099c7a..46e366e  main -> main\n"
     ]
    },
    {
     "name": "stdout",
     "output_type": "stream",
     "text": [
      "   sleeping for 540s\n",
      "127 of 1000\n",
      "   recording for 60s; saving to /home/pi/good-vibrations/data/surfer/2022-05-07T13:06:35.252.wav\n",
      "   uploading data to GitHub\n",
      "Already up to date.\n",
      "[main f7f7971] record_wav\n",
      " 2 files changed, 22 insertions(+)\n",
      " create mode 100644 data/surfer/2022-05-07T13:06:35.252.wav\n"
     ]
    },
    {
     "name": "stderr",
     "output_type": "stream",
     "text": [
      "To https://github.com/aubreymoore/good-vibrations.git\n",
      "   46e366e..f7f7971  main -> main\n"
     ]
    },
    {
     "name": "stdout",
     "output_type": "stream",
     "text": [
      "   sleeping for 540s\n",
      "128 of 1000\n",
      "   recording for 60s; saving to /home/pi/good-vibrations/data/surfer/2022-05-07T13:16:41.677.wav\n",
      "   uploading data to GitHub\n",
      "Already up to date.\n",
      "[main 100f5ec] record_wav\n",
      " 2 files changed, 22 insertions(+)\n",
      " create mode 100644 data/surfer/2022-05-07T13:16:41.677.wav\n"
     ]
    },
    {
     "name": "stderr",
     "output_type": "stream",
     "text": [
      "To https://github.com/aubreymoore/good-vibrations.git\n",
      "   f7f7971..100f5ec  main -> main\n"
     ]
    },
    {
     "name": "stdout",
     "output_type": "stream",
     "text": [
      "   sleeping for 540s\n",
      "129 of 1000\n",
      "   recording for 60s; saving to /home/pi/good-vibrations/data/surfer/2022-05-07T13:26:50.905.wav\n",
      "   uploading data to GitHub\n",
      "Already up to date.\n",
      "[main 6abeacf] record_wav\n",
      " 2 files changed, 25 insertions(+), 1 deletion(-)\n",
      " create mode 100644 data/surfer/2022-05-07T13:26:50.905.wav\n"
     ]
    },
    {
     "name": "stderr",
     "output_type": "stream",
     "text": [
      "To https://github.com/aubreymoore/good-vibrations.git\n",
      "   100f5ec..6abeacf  main -> main\n"
     ]
    },
    {
     "name": "stdout",
     "output_type": "stream",
     "text": [
      "   sleeping for 540s\n",
      "130 of 1000\n",
      "   recording for 60s; saving to /home/pi/good-vibrations/data/surfer/2022-05-07T13:36:56.937.wav\n",
      "   uploading data to GitHub\n",
      "Already up to date.\n",
      "[main 31c40bb] record_wav\n",
      " 2 files changed, 23 insertions(+), 1 deletion(-)\n",
      " create mode 100644 data/surfer/2022-05-07T13:36:56.937.wav\n"
     ]
    },
    {
     "name": "stderr",
     "output_type": "stream",
     "text": [
      "To https://github.com/aubreymoore/good-vibrations.git\n",
      "   6abeacf..31c40bb  main -> main\n"
     ]
    },
    {
     "name": "stdout",
     "output_type": "stream",
     "text": [
      "   sleeping for 540s\n",
      "131 of 1000\n",
      "   recording for 60s; saving to /home/pi/good-vibrations/data/surfer/2022-05-07T13:47:03.274.wav\n",
      "   uploading data to GitHub\n",
      "Already up to date.\n",
      "[main ead639c] record_wav\n",
      " 2 files changed, 23 insertions(+), 1 deletion(-)\n",
      " create mode 100644 data/surfer/2022-05-07T13:47:03.274.wav\n"
     ]
    },
    {
     "name": "stderr",
     "output_type": "stream",
     "text": [
      "To https://github.com/aubreymoore/good-vibrations.git\n",
      "   31c40bb..ead639c  main -> main\n"
     ]
    },
    {
     "name": "stdout",
     "output_type": "stream",
     "text": [
      "   sleeping for 540s\n",
      "132 of 1000\n",
      "   recording for 60s; saving to /home/pi/good-vibrations/data/surfer/2022-05-07T13:57:10.067.wav\n",
      "   uploading data to GitHub\n",
      "Already up to date.\n",
      "[main 975a7ce] record_wav\n",
      " 2 files changed, 23 insertions(+), 1 deletion(-)\n",
      " create mode 100644 data/surfer/2022-05-07T13:57:10.067.wav\n"
     ]
    },
    {
     "name": "stderr",
     "output_type": "stream",
     "text": [
      "To https://github.com/aubreymoore/good-vibrations.git\n",
      "   ead639c..975a7ce  main -> main\n"
     ]
    },
    {
     "name": "stdout",
     "output_type": "stream",
     "text": [
      "   sleeping for 540s\n",
      "133 of 1000\n",
      "   recording for 60s; saving to /home/pi/good-vibrations/data/surfer/2022-05-07T14:07:16.138.wav\n",
      "   uploading data to GitHub\n",
      "Already up to date.\n",
      "[main f837a97] record_wav\n",
      " 2 files changed, 23 insertions(+), 1 deletion(-)\n",
      " create mode 100644 data/surfer/2022-05-07T14:07:16.138.wav\n"
     ]
    },
    {
     "name": "stderr",
     "output_type": "stream",
     "text": [
      "To https://github.com/aubreymoore/good-vibrations.git\n",
      "   975a7ce..f837a97  main -> main\n"
     ]
    },
    {
     "name": "stdout",
     "output_type": "stream",
     "text": [
      "   sleeping for 540s\n",
      "134 of 1000\n",
      "   recording for 60s; saving to /home/pi/good-vibrations/data/surfer/2022-05-07T14:17:22.358.wav\n",
      "   uploading data to GitHub\n",
      "Already up to date.\n",
      "[main 692b8d3] record_wav\n",
      " 2 files changed, 23 insertions(+), 1 deletion(-)\n",
      " create mode 100644 data/surfer/2022-05-07T14:17:22.358.wav\n"
     ]
    },
    {
     "name": "stderr",
     "output_type": "stream",
     "text": [
      "To https://github.com/aubreymoore/good-vibrations.git\n",
      "   f837a97..692b8d3  main -> main\n"
     ]
    },
    {
     "name": "stdout",
     "output_type": "stream",
     "text": [
      "   sleeping for 540s\n",
      "135 of 1000\n",
      "   recording for 60s; saving to /home/pi/good-vibrations/data/surfer/2022-05-07T14:27:28.739.wav\n",
      "   uploading data to GitHub\n",
      "Already up to date.\n",
      "[main bc3547e] record_wav\n",
      " 2 files changed, 23 insertions(+), 1 deletion(-)\n",
      " create mode 100644 data/surfer/2022-05-07T14:27:28.739.wav\n"
     ]
    },
    {
     "name": "stderr",
     "output_type": "stream",
     "text": [
      "To https://github.com/aubreymoore/good-vibrations.git\n",
      "   692b8d3..bc3547e  main -> main\n"
     ]
    },
    {
     "name": "stdout",
     "output_type": "stream",
     "text": [
      "   sleeping for 540s\n",
      "136 of 1000\n",
      "   recording for 60s; saving to /home/pi/good-vibrations/data/surfer/2022-05-07T14:37:35.025.wav\n",
      "   uploading data to GitHub\n",
      "Already up to date.\n",
      "[main c605f3b] record_wav\n",
      " 2 files changed, 23 insertions(+), 1 deletion(-)\n",
      " create mode 100644 data/surfer/2022-05-07T14:37:35.025.wav\n"
     ]
    },
    {
     "name": "stderr",
     "output_type": "stream",
     "text": [
      "To https://github.com/aubreymoore/good-vibrations.git\n",
      "   bc3547e..c605f3b  main -> main\n"
     ]
    },
    {
     "name": "stdout",
     "output_type": "stream",
     "text": [
      "   sleeping for 540s\n",
      "137 of 1000\n",
      "   recording for 60s; saving to /home/pi/good-vibrations/data/surfer/2022-05-07T14:47:45.032.wav\n",
      "   uploading data to GitHub\n",
      "Already up to date.\n",
      "[main a1be2a7] record_wav\n",
      " 2 files changed, 23 insertions(+), 1 deletion(-)\n",
      " create mode 100644 data/surfer/2022-05-07T14:47:45.032.wav\n"
     ]
    },
    {
     "name": "stderr",
     "output_type": "stream",
     "text": [
      "To https://github.com/aubreymoore/good-vibrations.git\n",
      "   c605f3b..a1be2a7  main -> main\n"
     ]
    },
    {
     "name": "stdout",
     "output_type": "stream",
     "text": [
      "   sleeping for 540s\n",
      "138 of 1000\n",
      "   recording for 60s; saving to /home/pi/good-vibrations/data/surfer/2022-05-07T14:57:52.473.wav\n",
      "   uploading data to GitHub\n",
      "Already up to date.\n",
      "[main 2eaa4f6] record_wav\n",
      " 2 files changed, 23 insertions(+), 1 deletion(-)\n",
      " create mode 100644 data/surfer/2022-05-07T14:57:52.473.wav\n"
     ]
    },
    {
     "name": "stderr",
     "output_type": "stream",
     "text": [
      "To https://github.com/aubreymoore/good-vibrations.git\n",
      "   a1be2a7..2eaa4f6  main -> main\n"
     ]
    },
    {
     "name": "stdout",
     "output_type": "stream",
     "text": [
      "   sleeping for 540s\n",
      "139 of 1000\n",
      "   recording for 60s; saving to /home/pi/good-vibrations/data/surfer/2022-05-07T15:07:58.727.wav\n",
      "   uploading data to GitHub\n",
      "Already up to date.\n",
      "[main 0b25941] record_wav\n",
      " 2 files changed, 21 insertions(+), 1 deletion(-)\n",
      " create mode 100644 data/surfer/2022-05-07T15:07:58.727.wav\n"
     ]
    },
    {
     "name": "stderr",
     "output_type": "stream",
     "text": [
      "To https://github.com/aubreymoore/good-vibrations.git\n",
      "   2eaa4f6..0b25941  main -> main\n"
     ]
    },
    {
     "name": "stdout",
     "output_type": "stream",
     "text": [
      "   sleeping for 540s\n",
      "140 of 1000\n",
      "   recording for 60s; saving to /home/pi/good-vibrations/data/surfer/2022-05-07T15:18:05.088.wav\n",
      "   uploading data to GitHub\n",
      "Already up to date.\n",
      "[main 3eb7910] record_wav\n",
      " 2 files changed, 22 insertions(+)\n",
      " create mode 100644 data/surfer/2022-05-07T15:18:05.088.wav\n"
     ]
    },
    {
     "name": "stderr",
     "output_type": "stream",
     "text": [
      "To https://github.com/aubreymoore/good-vibrations.git\n",
      "   0b25941..3eb7910  main -> main\n"
     ]
    },
    {
     "name": "stdout",
     "output_type": "stream",
     "text": [
      "   sleeping for 540s\n",
      "141 of 1000\n",
      "   recording for 60s; saving to /home/pi/good-vibrations/data/surfer/2022-05-07T15:28:11.380.wav\n",
      "   uploading data to GitHub\n",
      "Already up to date.\n",
      "[main 46893ab] record_wav\n",
      " 2 files changed, 22 insertions(+)\n",
      " create mode 100644 data/surfer/2022-05-07T15:28:11.380.wav\n"
     ]
    },
    {
     "name": "stderr",
     "output_type": "stream",
     "text": [
      "To https://github.com/aubreymoore/good-vibrations.git\n",
      "   3eb7910..46893ab  main -> main\n"
     ]
    },
    {
     "name": "stdout",
     "output_type": "stream",
     "text": [
      "   sleeping for 540s\n",
      "142 of 1000\n",
      "   recording for 60s; saving to /home/pi/good-vibrations/data/surfer/2022-05-07T15:38:17.678.wav\n",
      "   uploading data to GitHub\n",
      "Already up to date.\n",
      "[main 1ce6420] record_wav\n",
      " 2 files changed, 22 insertions(+)\n",
      " create mode 100644 data/surfer/2022-05-07T15:38:17.678.wav\n"
     ]
    },
    {
     "name": "stderr",
     "output_type": "stream",
     "text": [
      "To https://github.com/aubreymoore/good-vibrations.git\n",
      "   46893ab..1ce6420  main -> main\n"
     ]
    },
    {
     "name": "stdout",
     "output_type": "stream",
     "text": [
      "   sleeping for 540s\n",
      "143 of 1000\n",
      "   recording for 60s; saving to /home/pi/good-vibrations/data/surfer/2022-05-07T15:48:23.842.wav\n",
      "   uploading data to GitHub\n",
      "Already up to date.\n",
      "[main 9fbb4b6] record_wav\n",
      " 2 files changed, 22 insertions(+)\n",
      " create mode 100644 data/surfer/2022-05-07T15:48:23.842.wav\n"
     ]
    },
    {
     "name": "stderr",
     "output_type": "stream",
     "text": [
      "To https://github.com/aubreymoore/good-vibrations.git\n",
      "   1ce6420..9fbb4b6  main -> main\n"
     ]
    },
    {
     "name": "stdout",
     "output_type": "stream",
     "text": [
      "   sleeping for 540s\n",
      "144 of 1000\n",
      "   recording for 60s; saving to /home/pi/good-vibrations/data/surfer/2022-05-07T15:58:30.009.wav\n",
      "   uploading data to GitHub\n",
      "Already up to date.\n",
      "[main 0f1e174] record_wav\n",
      " 2 files changed, 22 insertions(+)\n",
      " create mode 100644 data/surfer/2022-05-07T15:58:30.009.wav\n"
     ]
    },
    {
     "name": "stderr",
     "output_type": "stream",
     "text": [
      "To https://github.com/aubreymoore/good-vibrations.git\n",
      "   9fbb4b6..0f1e174  main -> main\n"
     ]
    },
    {
     "name": "stdout",
     "output_type": "stream",
     "text": [
      "   sleeping for 540s\n",
      "145 of 1000\n",
      "   recording for 60s; saving to /home/pi/good-vibrations/data/surfer/2022-05-07T16:08:36.525.wav\n",
      "   uploading data to GitHub\n",
      "Already up to date.\n",
      "[main c240371] record_wav\n",
      " 2 files changed, 22 insertions(+)\n",
      " create mode 100644 data/surfer/2022-05-07T16:08:36.525.wav\n"
     ]
    },
    {
     "name": "stderr",
     "output_type": "stream",
     "text": [
      "To https://github.com/aubreymoore/good-vibrations.git\n",
      "   0f1e174..c240371  main -> main\n"
     ]
    },
    {
     "name": "stdout",
     "output_type": "stream",
     "text": [
      "   sleeping for 540s\n",
      "146 of 1000\n",
      "   recording for 60s; saving to /home/pi/good-vibrations/data/surfer/2022-05-07T16:18:42.833.wav\n",
      "   uploading data to GitHub\n",
      "Already up to date.\n",
      "[main ccb25fa] record_wav\n",
      " 2 files changed, 22 insertions(+)\n",
      " create mode 100644 data/surfer/2022-05-07T16:18:42.833.wav\n"
     ]
    },
    {
     "name": "stderr",
     "output_type": "stream",
     "text": [
      "To https://github.com/aubreymoore/good-vibrations.git\n",
      "   c240371..ccb25fa  main -> main\n"
     ]
    },
    {
     "name": "stdout",
     "output_type": "stream",
     "text": [
      "   sleeping for 540s\n",
      "147 of 1000\n",
      "   recording for 60s; saving to /home/pi/good-vibrations/data/surfer/2022-05-07T16:28:51.637.wav\n",
      "   uploading data to GitHub\n",
      "Already up to date.\n",
      "[main 00ffaff] record_wav\n",
      " 2 files changed, 22 insertions(+)\n",
      " create mode 100644 data/surfer/2022-05-07T16:28:51.637.wav\n"
     ]
    },
    {
     "name": "stderr",
     "output_type": "stream",
     "text": [
      "To https://github.com/aubreymoore/good-vibrations.git\n",
      "   ccb25fa..00ffaff  main -> main\n"
     ]
    },
    {
     "name": "stdout",
     "output_type": "stream",
     "text": [
      "   sleeping for 540s\n",
      "148 of 1000\n",
      "   recording for 60s; saving to /home/pi/good-vibrations/data/surfer/2022-05-07T16:38:58.097.wav\n",
      "   uploading data to GitHub\n",
      "Already up to date.\n",
      "[main 260bd76] record_wav\n",
      " 2 files changed, 22 insertions(+)\n",
      " create mode 100644 data/surfer/2022-05-07T16:38:58.097.wav\n"
     ]
    },
    {
     "name": "stderr",
     "output_type": "stream",
     "text": [
      "To https://github.com/aubreymoore/good-vibrations.git\n",
      "   00ffaff..260bd76  main -> main\n"
     ]
    },
    {
     "name": "stdout",
     "output_type": "stream",
     "text": [
      "   sleeping for 540s\n",
      "149 of 1000\n",
      "   recording for 60s; saving to /home/pi/good-vibrations/data/surfer/2022-05-07T16:49:04.433.wav\n",
      "   uploading data to GitHub\n",
      "Already up to date.\n",
      "[main 8ea3a7f] record_wav\n",
      " 2 files changed, 22 insertions(+)\n",
      " create mode 100644 data/surfer/2022-05-07T16:49:04.433.wav\n"
     ]
    },
    {
     "name": "stderr",
     "output_type": "stream",
     "text": [
      "To https://github.com/aubreymoore/good-vibrations.git\n",
      "   260bd76..8ea3a7f  main -> main\n"
     ]
    },
    {
     "name": "stdout",
     "output_type": "stream",
     "text": [
      "   sleeping for 540s\n",
      "150 of 1000\n",
      "   recording for 60s; saving to /home/pi/good-vibrations/data/surfer/2022-05-07T16:59:10.468.wav\n",
      "   uploading data to GitHub\n",
      "Already up to date.\n",
      "[main d397b1e] record_wav\n",
      " 2 files changed, 25 insertions(+), 1 deletion(-)\n",
      " create mode 100644 data/surfer/2022-05-07T16:59:10.468.wav\n"
     ]
    },
    {
     "name": "stderr",
     "output_type": "stream",
     "text": [
      "To https://github.com/aubreymoore/good-vibrations.git\n",
      "   8ea3a7f..d397b1e  main -> main\n"
     ]
    },
    {
     "name": "stdout",
     "output_type": "stream",
     "text": [
      "   sleeping for 540s\n",
      "151 of 1000\n",
      "   recording for 60s; saving to /home/pi/good-vibrations/data/surfer/2022-05-07T17:09:16.842.wav\n",
      "   uploading data to GitHub\n",
      "Already up to date.\n",
      "[main bf89c3d] record_wav\n",
      " 2 files changed, 23 insertions(+), 1 deletion(-)\n",
      " create mode 100644 data/surfer/2022-05-07T17:09:16.842.wav\n"
     ]
    },
    {
     "name": "stderr",
     "output_type": "stream",
     "text": [
      "To https://github.com/aubreymoore/good-vibrations.git\n",
      "   d397b1e..bf89c3d  main -> main\n"
     ]
    },
    {
     "name": "stdout",
     "output_type": "stream",
     "text": [
      "   sleeping for 540s\n",
      "152 of 1000\n",
      "   recording for 60s; saving to /home/pi/good-vibrations/data/surfer/2022-05-07T17:19:23.057.wav\n",
      "   uploading data to GitHub\n",
      "Already up to date.\n",
      "[main 32bc146] record_wav\n",
      " 2 files changed, 23 insertions(+), 1 deletion(-)\n",
      " create mode 100644 data/surfer/2022-05-07T17:19:23.057.wav\n"
     ]
    },
    {
     "name": "stderr",
     "output_type": "stream",
     "text": [
      "To https://github.com/aubreymoore/good-vibrations.git\n",
      "   bf89c3d..32bc146  main -> main\n"
     ]
    },
    {
     "name": "stdout",
     "output_type": "stream",
     "text": [
      "   sleeping for 540s\n",
      "153 of 1000\n",
      "   recording for 60s; saving to /home/pi/good-vibrations/data/surfer/2022-05-07T17:29:30.772.wav\n",
      "   uploading data to GitHub\n",
      "Already up to date.\n",
      "[main 72f1486] record_wav\n",
      " 2 files changed, 23 insertions(+), 1 deletion(-)\n",
      " create mode 100644 data/surfer/2022-05-07T17:29:30.772.wav\n"
     ]
    },
    {
     "name": "stderr",
     "output_type": "stream",
     "text": [
      "To https://github.com/aubreymoore/good-vibrations.git\n",
      "   32bc146..72f1486  main -> main\n"
     ]
    },
    {
     "name": "stdout",
     "output_type": "stream",
     "text": [
      "   sleeping for 540s\n",
      "154 of 1000\n",
      "   recording for 60s; saving to /home/pi/good-vibrations/data/surfer/2022-05-07T17:39:36.919.wav\n",
      "   uploading data to GitHub\n",
      "Already up to date.\n",
      "[main 494f47b] record_wav\n",
      " 2 files changed, 23 insertions(+), 1 deletion(-)\n",
      " create mode 100644 data/surfer/2022-05-07T17:39:36.919.wav\n"
     ]
    },
    {
     "name": "stderr",
     "output_type": "stream",
     "text": [
      "To https://github.com/aubreymoore/good-vibrations.git\n",
      "   72f1486..494f47b  main -> main\n"
     ]
    },
    {
     "name": "stdout",
     "output_type": "stream",
     "text": [
      "   sleeping for 540s\n",
      "155 of 1000\n",
      "   recording for 60s; saving to /home/pi/good-vibrations/data/surfer/2022-05-07T17:49:43.168.wav\n",
      "   uploading data to GitHub\n",
      "Already up to date.\n",
      "[main cb12ae9] record_wav\n",
      " 2 files changed, 23 insertions(+), 1 deletion(-)\n",
      " create mode 100644 data/surfer/2022-05-07T17:49:43.168.wav\n"
     ]
    },
    {
     "name": "stderr",
     "output_type": "stream",
     "text": [
      "To https://github.com/aubreymoore/good-vibrations.git\n",
      "   494f47b..cb12ae9  main -> main\n"
     ]
    },
    {
     "name": "stdout",
     "output_type": "stream",
     "text": [
      "   sleeping for 540s\n",
      "156 of 1000\n",
      "   recording for 60s; saving to /home/pi/good-vibrations/data/surfer/2022-05-07T17:59:51.775.wav\n",
      "   uploading data to GitHub\n",
      "Already up to date.\n",
      "[main 90a52a7] record_wav\n",
      " 2 files changed, 23 insertions(+), 1 deletion(-)\n",
      " create mode 100644 data/surfer/2022-05-07T17:59:51.775.wav\n"
     ]
    },
    {
     "name": "stderr",
     "output_type": "stream",
     "text": [
      "To https://github.com/aubreymoore/good-vibrations.git\n",
      "   cb12ae9..90a52a7  main -> main\n"
     ]
    },
    {
     "name": "stdout",
     "output_type": "stream",
     "text": [
      "   sleeping for 540s\n",
      "157 of 1000\n",
      "   recording for 60s; saving to /home/pi/good-vibrations/data/surfer/2022-05-07T18:09:58.022.wav\n",
      "   uploading data to GitHub\n",
      "Already up to date.\n",
      "[main 9b50a46] record_wav\n",
      " 2 files changed, 23 insertions(+), 1 deletion(-)\n",
      " create mode 100644 data/surfer/2022-05-07T18:09:58.022.wav\n"
     ]
    },
    {
     "name": "stderr",
     "output_type": "stream",
     "text": [
      "To https://github.com/aubreymoore/good-vibrations.git\n",
      "   90a52a7..9b50a46  main -> main\n"
     ]
    },
    {
     "name": "stdout",
     "output_type": "stream",
     "text": [
      "   sleeping for 540s\n",
      "158 of 1000\n",
      "   recording for 60s; saving to /home/pi/good-vibrations/data/surfer/2022-05-07T18:20:04.077.wav\n",
      "   uploading data to GitHub\n",
      "Already up to date.\n",
      "[main 2f57a6f] record_wav\n",
      " 2 files changed, 23 insertions(+), 1 deletion(-)\n",
      " create mode 100644 data/surfer/2022-05-07T18:20:04.077.wav\n"
     ]
    },
    {
     "name": "stderr",
     "output_type": "stream",
     "text": [
      "To https://github.com/aubreymoore/good-vibrations.git\n",
      "   9b50a46..2f57a6f  main -> main\n"
     ]
    },
    {
     "name": "stdout",
     "output_type": "stream",
     "text": [
      "   sleeping for 540s\n",
      "159 of 1000\n",
      "   recording for 60s; saving to /home/pi/good-vibrations/data/surfer/2022-05-07T18:30:10.415.wav\n",
      "   uploading data to GitHub\n",
      "Already up to date.\n",
      "[main 09635ff] record_wav\n",
      " 2 files changed, 23 insertions(+), 1 deletion(-)\n",
      " create mode 100644 data/surfer/2022-05-07T18:30:10.415.wav\n"
     ]
    },
    {
     "name": "stderr",
     "output_type": "stream",
     "text": [
      "To https://github.com/aubreymoore/good-vibrations.git\n",
      "   2f57a6f..09635ff  main -> main\n"
     ]
    },
    {
     "name": "stdout",
     "output_type": "stream",
     "text": [
      "   sleeping for 540s\n",
      "160 of 1000\n",
      "   recording for 60s; saving to /home/pi/good-vibrations/data/surfer/2022-05-07T18:40:16.628.wav\n",
      "   uploading data to GitHub\n",
      "Already up to date.\n",
      "[main 8b6cb64] record_wav\n",
      " 2 files changed, 23 insertions(+), 1 deletion(-)\n",
      " create mode 100644 data/surfer/2022-05-07T18:40:16.628.wav\n"
     ]
    },
    {
     "name": "stderr",
     "output_type": "stream",
     "text": [
      "To https://github.com/aubreymoore/good-vibrations.git\n",
      "   09635ff..8b6cb64  main -> main\n"
     ]
    },
    {
     "name": "stdout",
     "output_type": "stream",
     "text": [
      "   sleeping for 540s\n",
      "161 of 1000\n",
      "   recording for 60s; saving to /home/pi/good-vibrations/data/surfer/2022-05-07T18:50:22.919.wav\n",
      "   uploading data to GitHub\n",
      "Already up to date.\n",
      "[main aeb63c7] record_wav\n",
      " 2 files changed, 21 insertions(+), 1 deletion(-)\n",
      " create mode 100644 data/surfer/2022-05-07T18:50:22.919.wav\n"
     ]
    },
    {
     "name": "stderr",
     "output_type": "stream",
     "text": [
      "To https://github.com/aubreymoore/good-vibrations.git\n",
      "   8b6cb64..aeb63c7  main -> main\n"
     ]
    },
    {
     "name": "stdout",
     "output_type": "stream",
     "text": [
      "   sleeping for 540s\n",
      "162 of 1000\n",
      "   recording for 60s; saving to /home/pi/good-vibrations/data/surfer/2022-05-07T19:00:29.497.wav\n",
      "   uploading data to GitHub\n",
      "Already up to date.\n",
      "[main 72b5534] record_wav\n",
      " 2 files changed, 22 insertions(+)\n",
      " create mode 100644 data/surfer/2022-05-07T19:00:29.497.wav\n"
     ]
    },
    {
     "name": "stderr",
     "output_type": "stream",
     "text": [
      "To https://github.com/aubreymoore/good-vibrations.git\n",
      "   aeb63c7..72b5534  main -> main\n"
     ]
    },
    {
     "name": "stdout",
     "output_type": "stream",
     "text": [
      "   sleeping for 540s\n",
      "163 of 1000\n",
      "   recording for 60s; saving to /home/pi/good-vibrations/data/surfer/2022-05-07T19:10:35.748.wav\n",
      "   uploading data to GitHub\n",
      "Already up to date.\n",
      "[main 2b88859] record_wav\n",
      " 2 files changed, 22 insertions(+)\n",
      " create mode 100644 data/surfer/2022-05-07T19:10:35.748.wav\n"
     ]
    },
    {
     "name": "stderr",
     "output_type": "stream",
     "text": [
      "To https://github.com/aubreymoore/good-vibrations.git\n",
      "   72b5534..2b88859  main -> main\n"
     ]
    },
    {
     "name": "stdout",
     "output_type": "stream",
     "text": [
      "   sleeping for 540s\n",
      "164 of 1000\n",
      "   recording for 60s; saving to /home/pi/good-vibrations/data/surfer/2022-05-07T19:20:42.018.wav\n",
      "   uploading data to GitHub\n",
      "Already up to date.\n",
      "[main 732af7b] record_wav\n",
      " 2 files changed, 22 insertions(+)\n",
      " create mode 100644 data/surfer/2022-05-07T19:20:42.018.wav\n"
     ]
    },
    {
     "name": "stderr",
     "output_type": "stream",
     "text": [
      "To https://github.com/aubreymoore/good-vibrations.git\n",
      "   2b88859..732af7b  main -> main\n"
     ]
    },
    {
     "name": "stdout",
     "output_type": "stream",
     "text": [
      "   sleeping for 540s\n",
      "165 of 1000\n",
      "   recording for 60s; saving to /home/pi/good-vibrations/data/surfer/2022-05-07T19:30:49.657.wav\n",
      "   uploading data to GitHub\n",
      "Already up to date.\n",
      "[main c95c922] record_wav\n",
      " 2 files changed, 22 insertions(+)\n",
      " create mode 100644 data/surfer/2022-05-07T19:30:49.657.wav\n"
     ]
    },
    {
     "name": "stderr",
     "output_type": "stream",
     "text": [
      "To https://github.com/aubreymoore/good-vibrations.git\n",
      "   732af7b..c95c922  main -> main\n"
     ]
    },
    {
     "name": "stdout",
     "output_type": "stream",
     "text": [
      "   sleeping for 540s\n",
      "166 of 1000\n",
      "   recording for 60s; saving to /home/pi/good-vibrations/data/surfer/2022-05-07T19:40:56.023.wav\n",
      "   uploading data to GitHub\n",
      "Already up to date.\n",
      "[main e228095] record_wav\n",
      " 2 files changed, 22 insertions(+)\n",
      " create mode 100644 data/surfer/2022-05-07T19:40:56.023.wav\n"
     ]
    },
    {
     "name": "stderr",
     "output_type": "stream",
     "text": [
      "To https://github.com/aubreymoore/good-vibrations.git\n",
      "   c95c922..e228095  main -> main\n"
     ]
    },
    {
     "name": "stdout",
     "output_type": "stream",
     "text": [
      "   sleeping for 540s\n",
      "167 of 1000\n",
      "   recording for 60s; saving to /home/pi/good-vibrations/data/surfer/2022-05-07T19:51:02.415.wav\n",
      "   uploading data to GitHub\n",
      "Already up to date.\n",
      "[main b021280] record_wav\n",
      " 2 files changed, 22 insertions(+)\n",
      " create mode 100644 data/surfer/2022-05-07T19:51:02.415.wav\n"
     ]
    },
    {
     "name": "stderr",
     "output_type": "stream",
     "text": [
      "To https://github.com/aubreymoore/good-vibrations.git\n",
      "   e228095..b021280  main -> main\n"
     ]
    },
    {
     "name": "stdout",
     "output_type": "stream",
     "text": [
      "   sleeping for 540s\n",
      "168 of 1000\n",
      "   recording for 60s; saving to /home/pi/good-vibrations/data/surfer/2022-05-07T20:01:08.598.wav\n",
      "   uploading data to GitHub\n",
      "Already up to date.\n",
      "[main 6dc8c7a] record_wav\n",
      " 2 files changed, 22 insertions(+)\n",
      " create mode 100644 data/surfer/2022-05-07T20:01:08.598.wav\n"
     ]
    },
    {
     "name": "stderr",
     "output_type": "stream",
     "text": [
      "To https://github.com/aubreymoore/good-vibrations.git\n",
      "   b021280..6dc8c7a  main -> main\n"
     ]
    },
    {
     "name": "stdout",
     "output_type": "stream",
     "text": [
      "   sleeping for 540s\n",
      "169 of 1000\n",
      "   recording for 60s; saving to /home/pi/good-vibrations/data/surfer/2022-05-07T20:11:15.213.wav\n",
      "   uploading data to GitHub\n",
      "Already up to date.\n",
      "[main 293c9e0] record_wav\n",
      " 2 files changed, 22 insertions(+)\n",
      " create mode 100644 data/surfer/2022-05-07T20:11:15.213.wav\n"
     ]
    },
    {
     "name": "stderr",
     "output_type": "stream",
     "text": [
      "To https://github.com/aubreymoore/good-vibrations.git\n",
      "   6dc8c7a..293c9e0  main -> main\n"
     ]
    },
    {
     "name": "stdout",
     "output_type": "stream",
     "text": [
      "   sleeping for 540s\n",
      "170 of 1000\n",
      "   recording for 60s; saving to /home/pi/good-vibrations/data/surfer/2022-05-07T20:21:21.458.wav\n",
      "   uploading data to GitHub\n",
      "Already up to date.\n",
      "[main dd614e5] record_wav\n",
      " 2 files changed, 22 insertions(+)\n",
      " create mode 100644 data/surfer/2022-05-07T20:21:21.458.wav\n"
     ]
    },
    {
     "name": "stderr",
     "output_type": "stream",
     "text": [
      "To https://github.com/aubreymoore/good-vibrations.git\n",
      "   293c9e0..dd614e5  main -> main\n"
     ]
    },
    {
     "name": "stdout",
     "output_type": "stream",
     "text": [
      "   sleeping for 540s\n",
      "171 of 1000\n",
      "   recording for 60s; saving to /home/pi/good-vibrations/data/surfer/2022-05-07T20:31:27.814.wav\n",
      "   uploading data to GitHub\n",
      "Already up to date.\n",
      "[main 387bf96] record_wav\n",
      " 2 files changed, 25 insertions(+), 1 deletion(-)\n",
      " create mode 100644 data/surfer/2022-05-07T20:31:27.814.wav\n"
     ]
    },
    {
     "name": "stderr",
     "output_type": "stream",
     "text": [
      "To https://github.com/aubreymoore/good-vibrations.git\n",
      "   dd614e5..387bf96  main -> main\n"
     ]
    },
    {
     "name": "stdout",
     "output_type": "stream",
     "text": [
      "   sleeping for 540s\n",
      "172 of 1000\n",
      "   recording for 60s; saving to /home/pi/good-vibrations/data/surfer/2022-05-07T20:41:34.288.wav\n",
      "   uploading data to GitHub\n",
      "Already up to date.\n",
      "[main 7c837cb] record_wav\n",
      " 2 files changed, 23 insertions(+), 1 deletion(-)\n",
      " create mode 100644 data/surfer/2022-05-07T20:41:34.288.wav\n"
     ]
    },
    {
     "name": "stderr",
     "output_type": "stream",
     "text": [
      "To https://github.com/aubreymoore/good-vibrations.git\n",
      "   387bf96..7c837cb  main -> main\n"
     ]
    },
    {
     "name": "stdout",
     "output_type": "stream",
     "text": [
      "   sleeping for 540s\n",
      "173 of 1000\n",
      "   recording for 60s; saving to /home/pi/good-vibrations/data/surfer/2022-05-07T20:51:40.767.wav\n",
      "   uploading data to GitHub\n",
      "Already up to date.\n",
      "[main 5d06154] record_wav\n",
      " 2 files changed, 23 insertions(+), 1 deletion(-)\n",
      " create mode 100644 data/surfer/2022-05-07T20:51:40.767.wav\n"
     ]
    },
    {
     "name": "stderr",
     "output_type": "stream",
     "text": [
      "To https://github.com/aubreymoore/good-vibrations.git\n",
      "   7c837cb..5d06154  main -> main\n"
     ]
    },
    {
     "name": "stdout",
     "output_type": "stream",
     "text": [
      "   sleeping for 540s\n",
      "174 of 1000\n",
      "   recording for 60s; saving to /home/pi/good-vibrations/data/surfer/2022-05-07T21:01:49.727.wav\n",
      "   uploading data to GitHub\n",
      "Already up to date.\n",
      "[main 1cf16be] record_wav\n",
      " 2 files changed, 23 insertions(+), 1 deletion(-)\n",
      " create mode 100644 data/surfer/2022-05-07T21:01:49.727.wav\n"
     ]
    },
    {
     "name": "stderr",
     "output_type": "stream",
     "text": [
      "To https://github.com/aubreymoore/good-vibrations.git\n",
      "   5d06154..1cf16be  main -> main\n"
     ]
    },
    {
     "name": "stdout",
     "output_type": "stream",
     "text": [
      "   sleeping for 540s\n",
      "175 of 1000\n",
      "   recording for 60s; saving to /home/pi/good-vibrations/data/surfer/2022-05-07T21:11:55.977.wav\n",
      "   uploading data to GitHub\n",
      "Already up to date.\n",
      "[main de4f37e] record_wav\n",
      " 2 files changed, 23 insertions(+), 1 deletion(-)\n",
      " create mode 100644 data/surfer/2022-05-07T21:11:55.977.wav\n"
     ]
    },
    {
     "name": "stderr",
     "output_type": "stream",
     "text": [
      "To https://github.com/aubreymoore/good-vibrations.git\n",
      "   1cf16be..de4f37e  main -> main\n"
     ]
    },
    {
     "name": "stdout",
     "output_type": "stream",
     "text": [
      "   sleeping for 540s\n",
      "176 of 1000\n",
      "   recording for 60s; saving to /home/pi/good-vibrations/data/surfer/2022-05-07T21:22:02.292.wav\n",
      "   uploading data to GitHub\n",
      "Already up to date.\n",
      "[main 109c1d7] record_wav\n",
      " 2 files changed, 23 insertions(+), 1 deletion(-)\n",
      " create mode 100644 data/surfer/2022-05-07T21:22:02.292.wav\n"
     ]
    },
    {
     "name": "stderr",
     "output_type": "stream",
     "text": [
      "To https://github.com/aubreymoore/good-vibrations.git\n",
      "   de4f37e..109c1d7  main -> main\n"
     ]
    },
    {
     "name": "stdout",
     "output_type": "stream",
     "text": [
      "   sleeping for 540s\n",
      "177 of 1000\n",
      "   recording for 60s; saving to /home/pi/good-vibrations/data/surfer/2022-05-07T21:32:08.668.wav\n",
      "   uploading data to GitHub\n",
      "Already up to date.\n",
      "[main 641b052] record_wav\n",
      " 2 files changed, 23 insertions(+), 1 deletion(-)\n",
      " create mode 100644 data/surfer/2022-05-07T21:32:08.668.wav\n"
     ]
    },
    {
     "name": "stderr",
     "output_type": "stream",
     "text": [
      "To https://github.com/aubreymoore/good-vibrations.git\n",
      "   109c1d7..641b052  main -> main\n"
     ]
    },
    {
     "name": "stdout",
     "output_type": "stream",
     "text": [
      "   sleeping for 540s\n",
      "178 of 1000\n",
      "   recording for 60s; saving to /home/pi/good-vibrations/data/surfer/2022-05-07T21:42:16.064.wav\n",
      "   uploading data to GitHub\n",
      "Already up to date.\n",
      "[main 3acf56d] record_wav\n",
      " 2 files changed, 23 insertions(+), 1 deletion(-)\n",
      " create mode 100644 data/surfer/2022-05-07T21:42:16.064.wav\n"
     ]
    },
    {
     "name": "stderr",
     "output_type": "stream",
     "text": [
      "To https://github.com/aubreymoore/good-vibrations.git\n",
      "   641b052..3acf56d  main -> main\n"
     ]
    },
    {
     "name": "stdout",
     "output_type": "stream",
     "text": [
      "   sleeping for 540s\n",
      "179 of 1000\n",
      "   recording for 60s; saving to /home/pi/good-vibrations/data/surfer/2022-05-07T21:52:28.468.wav\n",
      "   uploading data to GitHub\n",
      "Already up to date.\n",
      "[main 54f628d] record_wav\n",
      " 2 files changed, 23 insertions(+), 1 deletion(-)\n",
      " create mode 100644 data/surfer/2022-05-07T21:52:28.468.wav\n"
     ]
    },
    {
     "name": "stderr",
     "output_type": "stream",
     "text": [
      "To https://github.com/aubreymoore/good-vibrations.git\n",
      "   3acf56d..54f628d  main -> main\n"
     ]
    },
    {
     "name": "stdout",
     "output_type": "stream",
     "text": [
      "   sleeping for 540s\n",
      "180 of 1000\n",
      "   recording for 60s; saving to /home/pi/good-vibrations/data/surfer/2022-05-07T22:02:34.788.wav\n",
      "   uploading data to GitHub\n",
      "Already up to date.\n",
      "[main 9101714] record_wav\n",
      " 2 files changed, 23 insertions(+), 1 deletion(-)\n",
      " create mode 100644 data/surfer/2022-05-07T22:02:34.788.wav\n"
     ]
    },
    {
     "name": "stderr",
     "output_type": "stream",
     "text": [
      "To https://github.com/aubreymoore/good-vibrations.git\n",
      "   54f628d..9101714  main -> main\n"
     ]
    },
    {
     "name": "stdout",
     "output_type": "stream",
     "text": [
      "   sleeping for 540s\n",
      "181 of 1000\n",
      "   recording for 60s; saving to /home/pi/good-vibrations/data/surfer/2022-05-07T22:12:41.018.wav\n",
      "   uploading data to GitHub\n",
      "Already up to date.\n",
      "[main 0f80c9e] record_wav\n",
      " 2 files changed, 21 insertions(+), 1 deletion(-)\n",
      " create mode 100644 data/surfer/2022-05-07T22:12:41.018.wav\n"
     ]
    },
    {
     "name": "stderr",
     "output_type": "stream",
     "text": [
      "To https://github.com/aubreymoore/good-vibrations.git\n",
      "   9101714..0f80c9e  main -> main\n"
     ]
    },
    {
     "name": "stdout",
     "output_type": "stream",
     "text": [
      "   sleeping for 540s\n",
      "182 of 1000\n",
      "   recording for 60s; saving to /home/pi/good-vibrations/data/surfer/2022-05-07T22:22:50.528.wav\n",
      "   uploading data to GitHub\n",
      "Already up to date.\n",
      "[main f004c8d] record_wav\n",
      " 2 files changed, 22 insertions(+)\n",
      " create mode 100644 data/surfer/2022-05-07T22:22:50.528.wav\n"
     ]
    },
    {
     "name": "stderr",
     "output_type": "stream",
     "text": [
      "To https://github.com/aubreymoore/good-vibrations.git\n",
      "   0f80c9e..f004c8d  main -> main\n"
     ]
    },
    {
     "name": "stdout",
     "output_type": "stream",
     "text": [
      "   sleeping for 540s\n",
      "183 of 1000\n",
      "   recording for 60s; saving to /home/pi/good-vibrations/data/surfer/2022-05-07T22:32:56.764.wav\n",
      "   uploading data to GitHub\n",
      "Already up to date.\n",
      "[main 9d7af61] record_wav\n",
      " 2 files changed, 22 insertions(+)\n",
      " create mode 100644 data/surfer/2022-05-07T22:32:56.764.wav\n"
     ]
    },
    {
     "name": "stderr",
     "output_type": "stream",
     "text": [
      "To https://github.com/aubreymoore/good-vibrations.git\n",
      "   f004c8d..9d7af61  main -> main\n"
     ]
    },
    {
     "name": "stdout",
     "output_type": "stream",
     "text": [
      "   sleeping for 540s\n",
      "184 of 1000\n",
      "   recording for 60s; saving to /home/pi/good-vibrations/data/surfer/2022-05-07T22:43:03.189.wav\n",
      "   uploading data to GitHub\n",
      "Already up to date.\n",
      "[main 4f1a83d] record_wav\n",
      " 2 files changed, 22 insertions(+)\n",
      " create mode 100644 data/surfer/2022-05-07T22:43:03.189.wav\n"
     ]
    },
    {
     "name": "stderr",
     "output_type": "stream",
     "text": [
      "To https://github.com/aubreymoore/good-vibrations.git\n",
      "   9d7af61..4f1a83d  main -> main\n"
     ]
    },
    {
     "name": "stdout",
     "output_type": "stream",
     "text": [
      "   sleeping for 540s\n",
      "185 of 1000\n",
      "   recording for 60s; saving to /home/pi/good-vibrations/data/surfer/2022-05-07T22:53:09.491.wav\n",
      "   uploading data to GitHub\n",
      "Already up to date.\n",
      "[main f057788] record_wav\n",
      " 2 files changed, 22 insertions(+)\n",
      " create mode 100644 data/surfer/2022-05-07T22:53:09.491.wav\n"
     ]
    },
    {
     "name": "stderr",
     "output_type": "stream",
     "text": [
      "To https://github.com/aubreymoore/good-vibrations.git\n",
      "   4f1a83d..f057788  main -> main\n"
     ]
    },
    {
     "name": "stdout",
     "output_type": "stream",
     "text": [
      "   sleeping for 540s\n",
      "186 of 1000\n",
      "   recording for 60s; saving to /home/pi/good-vibrations/data/surfer/2022-05-07T23:03:15.797.wav\n",
      "   uploading data to GitHub\n",
      "Already up to date.\n",
      "[main ea7d193] record_wav\n",
      " 2 files changed, 22 insertions(+)\n",
      " create mode 100644 data/surfer/2022-05-07T23:03:15.797.wav\n"
     ]
    },
    {
     "name": "stderr",
     "output_type": "stream",
     "text": [
      "To https://github.com/aubreymoore/good-vibrations.git\n",
      "   f057788..ea7d193  main -> main\n"
     ]
    },
    {
     "name": "stdout",
     "output_type": "stream",
     "text": [
      "   sleeping for 540s\n",
      "187 of 1000\n",
      "   recording for 60s; saving to /home/pi/good-vibrations/data/surfer/2022-05-07T23:13:22.181.wav\n",
      "   uploading data to GitHub\n",
      "Already up to date.\n",
      "[main 2323aaf] record_wav\n",
      " 2 files changed, 22 insertions(+)\n",
      " create mode 100644 data/surfer/2022-05-07T23:13:22.181.wav\n"
     ]
    },
    {
     "name": "stderr",
     "output_type": "stream",
     "text": [
      "To https://github.com/aubreymoore/good-vibrations.git\n",
      "   ea7d193..2323aaf  main -> main\n"
     ]
    },
    {
     "name": "stdout",
     "output_type": "stream",
     "text": [
      "   sleeping for 540s\n",
      "188 of 1000\n",
      "   recording for 60s; saving to /home/pi/good-vibrations/data/surfer/2022-05-07T23:23:28.558.wav\n",
      "   uploading data to GitHub\n",
      "Already up to date.\n",
      "[main ae8fd59] record_wav\n",
      " 2 files changed, 22 insertions(+)\n",
      " create mode 100644 data/surfer/2022-05-07T23:23:28.558.wav\n"
     ]
    },
    {
     "name": "stderr",
     "output_type": "stream",
     "text": [
      "To https://github.com/aubreymoore/good-vibrations.git\n",
      "   2323aaf..ae8fd59  main -> main\n"
     ]
    },
    {
     "name": "stdout",
     "output_type": "stream",
     "text": [
      "   sleeping for 540s\n",
      "189 of 1000\n",
      "   recording for 60s; saving to /home/pi/good-vibrations/data/surfer/2022-05-07T23:33:35.124.wav\n",
      "   uploading data to GitHub\n",
      "Already up to date.\n",
      "[main c0eb1b0] record_wav\n",
      " 2 files changed, 22 insertions(+)\n",
      " create mode 100644 data/surfer/2022-05-07T23:33:35.124.wav\n"
     ]
    },
    {
     "name": "stderr",
     "output_type": "stream",
     "text": [
      "To https://github.com/aubreymoore/good-vibrations.git\n",
      "   ae8fd59..c0eb1b0  main -> main\n"
     ]
    },
    {
     "name": "stdout",
     "output_type": "stream",
     "text": [
      "   sleeping for 540s\n",
      "190 of 1000\n",
      "   recording for 60s; saving to /home/pi/good-vibrations/data/surfer/2022-05-07T23:43:42.347.wav\n",
      "   uploading data to GitHub\n",
      "Already up to date.\n",
      "[main 2e1beab] record_wav\n",
      " 2 files changed, 25 insertions(+), 1 deletion(-)\n",
      " create mode 100644 data/surfer/2022-05-07T23:43:42.347.wav\n"
     ]
    },
    {
     "name": "stderr",
     "output_type": "stream",
     "text": [
      "To https://github.com/aubreymoore/good-vibrations.git\n",
      "   c0eb1b0..2e1beab  main -> main\n"
     ]
    },
    {
     "name": "stdout",
     "output_type": "stream",
     "text": [
      "   sleeping for 540s\n",
      "191 of 1000\n",
      "   recording for 60s; saving to /home/pi/good-vibrations/data/surfer/2022-05-07T23:53:51.412.wav\n",
      "   uploading data to GitHub\n",
      "Already up to date.\n",
      "[main 9b8c077] record_wav\n",
      " 2 files changed, 23 insertions(+), 1 deletion(-)\n",
      " create mode 100644 data/surfer/2022-05-07T23:53:51.412.wav\n"
     ]
    },
    {
     "name": "stderr",
     "output_type": "stream",
     "text": [
      "To https://github.com/aubreymoore/good-vibrations.git\n",
      "   2e1beab..9b8c077  main -> main\n"
     ]
    },
    {
     "name": "stdout",
     "output_type": "stream",
     "text": [
      "   sleeping for 540s\n",
      "192 of 1000\n",
      "   recording for 60s; saving to /home/pi/good-vibrations/data/surfer/2022-05-08T00:03:57.828.wav\n",
      "   uploading data to GitHub\n",
      "Already up to date.\n",
      "[main 0ded3be] record_wav\n",
      " 2 files changed, 23 insertions(+), 1 deletion(-)\n",
      " create mode 100644 data/surfer/2022-05-08T00:03:57.828.wav\n"
     ]
    },
    {
     "name": "stderr",
     "output_type": "stream",
     "text": [
      "To https://github.com/aubreymoore/good-vibrations.git\n",
      "   9b8c077..0ded3be  main -> main\n"
     ]
    },
    {
     "name": "stdout",
     "output_type": "stream",
     "text": [
      "   sleeping for 540s\n",
      "193 of 1000\n",
      "   recording for 60s; saving to /home/pi/good-vibrations/data/surfer/2022-05-08T00:14:04.342.wav\n",
      "   uploading data to GitHub\n",
      "Already up to date.\n",
      "[main a8258be] record_wav\n",
      " 2 files changed, 23 insertions(+), 1 deletion(-)\n",
      " create mode 100644 data/surfer/2022-05-08T00:14:04.342.wav\n"
     ]
    },
    {
     "name": "stderr",
     "output_type": "stream",
     "text": [
      "To https://github.com/aubreymoore/good-vibrations.git\n",
      "   0ded3be..a8258be  main -> main\n"
     ]
    },
    {
     "name": "stdout",
     "output_type": "stream",
     "text": [
      "   sleeping for 540s\n",
      "194 of 1000\n",
      "   recording for 60s; saving to /home/pi/good-vibrations/data/surfer/2022-05-08T00:24:10.461.wav\n",
      "   uploading data to GitHub\n",
      "Already up to date.\n",
      "[main 4b07f2a] record_wav\n",
      " 2 files changed, 23 insertions(+), 1 deletion(-)\n",
      " create mode 100644 data/surfer/2022-05-08T00:24:10.461.wav\n"
     ]
    },
    {
     "name": "stderr",
     "output_type": "stream",
     "text": [
      "To https://github.com/aubreymoore/good-vibrations.git\n",
      "   a8258be..4b07f2a  main -> main\n"
     ]
    },
    {
     "name": "stdout",
     "output_type": "stream",
     "text": [
      "   sleeping for 540s\n",
      "195 of 1000\n",
      "   recording for 60s; saving to /home/pi/good-vibrations/data/surfer/2022-05-08T00:34:16.868.wav\n"
     ]
    }
   ],
   "source": [
    "# MAIN\n",
    "\n",
    "print('STARTING')\n",
    "Path(OUTPUTDIR).mkdir(parents=True, exist_ok=True)   # ensure existence of OUTPUTDIR\n",
    "nrec = 1\n",
    "while nrec <= MAX_RECORDINGS:\n",
    "    print(f'{nrec} of {MAX_RECORDINGS}')\n",
    "    timestamp = datetime.datetime.now().isoformat()[:-3]\n",
    "    # timestamp = timestamp.replace(':', '-').replace('.', '-')   # git doesn't like colons\n",
    "    filepath = f'{OUTPUTDIR}/{timestamp}.wav'\n",
    "    print(f'   recording for {DURATION}s; saving to {filepath}')\n",
    "    record_wav_file(filepath, DURATION, SAMPLERATE, CHANNELS)\n",
    "    print('   uploading data to GitHub') \n",
    "    update_github()\n",
    "    nrec += 1\n",
    "    print(f'   sleeping for {SLEEP}s')\n",
    "    time.sleep(SLEEP)\n",
    "print('FINISHED')\n",
    "update_github()"
   ]
  }
 ],
 "metadata": {
  "kernelspec": {
   "display_name": "Python 3 (ipykernel)",
   "language": "python",
   "name": "python3"
  },
  "language_info": {
   "codemirror_mode": {
    "name": "ipython",
    "version": 3
   },
   "file_extension": ".py",
   "mimetype": "text/x-python",
   "name": "python",
   "nbconvert_exporter": "python",
   "pygments_lexer": "ipython3",
   "version": "3.7.3"
  }
 },
 "nbformat": 4,
 "nbformat_minor": 5
}

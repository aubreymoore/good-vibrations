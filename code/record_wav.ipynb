{
 "cells": [
  {
   "cell_type": "code",
   "execution_count": 6,
   "id": "3ff0b422",
   "metadata": {},
   "outputs": [],
   "source": [
    "import os\n",
    "from pathlib import Path\n",
    "import sounddevice as sd\n",
    "import soundfile as sf\n",
    "import datetime\n",
    "import time"
   ]
  },
  {
   "cell_type": "code",
   "execution_count": 7,
   "id": "5c768fd5-c85e-419a-a28d-001583d33dcc",
   "metadata": {
    "tags": [
     "parameters"
    ]
   },
   "outputs": [],
   "source": [
    "# This cell is tagged as \"parameters\" to allow using papermill\n",
    "\n",
    "MAX_RECORDINGS = 100000\n",
    "OUTPUTDIR = '/home/pi/good-vibrations/data/gpepp'\n",
    "DURATION = 1*60     # seconds\n",
    "SLEEP =    9*60     # seconds\n",
    "SAMPLERATE = 8000   # samples per second\n",
    "CHANNELS = 1        # 1 = mono; 2 = stereo"
   ]
  },
  {
   "cell_type": "code",
   "execution_count": 8,
   "id": "fb4da313-dede-43b9-be64-71626f357033",
   "metadata": {},
   "outputs": [],
   "source": [
    "def record_wav_file(filepath, seconds, samplerate, channels): \n",
    "    wav = sd.rec(frames=int(seconds*samplerate), samplerate=samplerate, channels=channels)\n",
    "    sd.wait()  # Wait until recording is finished\n",
    "    sf.write(filepath, wav, samplerate)"
   ]
  },
  {
   "cell_type": "code",
   "execution_count": 9,
   "id": "41e6964a-fe11-44e9-b1b9-f898bc7ebf75",
   "metadata": {},
   "outputs": [
    {
     "name": "stdout",
     "output_type": "stream",
     "text": [
      "CPU times: user 25 µs, sys: 11 µs, total: 36 µs\n",
      "Wall time: 64.4 µs\n"
     ]
    }
   ],
   "source": [
    "%%time\n",
    "\n",
    "def update_github():\n",
    "    \"\"\"\n",
    "    Simply executes a script containing the following:\n",
    "        \n",
    "    cd ..\n",
    "    git pull\n",
    "    git add .\n",
    "    git commit -m 'record_wav'\n",
    "    git push\n",
    "    \n",
    "    \"\"\"\n",
    "\n",
    "    command = f'./update_github.sh'\n",
    "    result = os.system(command)\n",
    "    # assert result==0, f'{command} failed\n",
    "\n",
    "# update_github()"
   ]
  },
  {
   "cell_type": "code",
   "execution_count": null,
   "id": "cbc07bb3-dc6b-4340-af77-378a2a92d623",
   "metadata": {},
   "outputs": [
    {
     "name": "stdout",
     "output_type": "stream",
     "text": [
      "STARTING\n",
      "1 of 100000\n",
      "   recording for 60s; saving to /home/pi/good-vibrations/data/gpepp/2022-05-23T13:13:19.526.wav\n",
      "   uploading data to GitHub\n",
      "Already up to date.\n",
      "[main ff0211b] record_wav\n",
      " 2 files changed, 9 insertions(+), 139 deletions(-)\n",
      " create mode 100644 data/gpepp/2022-05-23T13:13:19.526.wav\n"
     ]
    },
    {
     "name": "stderr",
     "output_type": "stream",
     "text": [
      "To https://github.com/aubreymoore/good-vibrations.git\n",
      "   55bebd4..ff0211b  main -> main\n"
     ]
    },
    {
     "name": "stdout",
     "output_type": "stream",
     "text": [
      "   sleeping for 540s\n",
      "2 of 100000\n",
      "   recording for 60s; saving to /home/pi/good-vibrations/data/gpepp/2022-05-23T13:23:33.519.wav\n",
      "   uploading data to GitHub\n",
      "Already up to date.\n",
      "[main f66c399] record_wav\n",
      " 2 files changed, 23 insertions(+), 1 deletion(-)\n",
      " create mode 100644 data/gpepp/2022-05-23T13:23:33.519.wav\n"
     ]
    },
    {
     "name": "stderr",
     "output_type": "stream",
     "text": [
      "To https://github.com/aubreymoore/good-vibrations.git\n",
      "   ff0211b..f66c399  main -> main\n"
     ]
    },
    {
     "name": "stdout",
     "output_type": "stream",
     "text": [
      "   sleeping for 540s\n",
      "3 of 100000\n",
      "   recording for 60s; saving to /home/pi/good-vibrations/data/gpepp/2022-05-23T13:33:39.999.wav\n",
      "   uploading data to GitHub\n",
      "Already up to date.\n",
      "[main 85d52e5] record_wav\n",
      " 2 files changed, 23 insertions(+), 1 deletion(-)\n",
      " create mode 100644 data/gpepp/2022-05-23T13:33:39.999.wav\n"
     ]
    },
    {
     "name": "stderr",
     "output_type": "stream",
     "text": [
      "To https://github.com/aubreymoore/good-vibrations.git\n",
      "   f66c399..85d52e5  main -> main\n"
     ]
    },
    {
     "name": "stdout",
     "output_type": "stream",
     "text": [
      "   sleeping for 540s\n",
      "4 of 100000\n",
      "   recording for 60s; saving to /home/pi/good-vibrations/data/gpepp/2022-05-23T13:43:51.028.wav\n",
      "   uploading data to GitHub\n",
      "Already up to date.\n",
      "[main b60bfd7] record_wav\n",
      " 2 files changed, 23 insertions(+), 1 deletion(-)\n",
      " create mode 100644 data/gpepp/2022-05-23T13:43:51.028.wav\n"
     ]
    },
    {
     "name": "stderr",
     "output_type": "stream",
     "text": [
      "To https://github.com/aubreymoore/good-vibrations.git\n",
      "   85d52e5..b60bfd7  main -> main\n"
     ]
    },
    {
     "name": "stdout",
     "output_type": "stream",
     "text": [
      "   sleeping for 540s\n",
      "5 of 100000\n",
      "   recording for 60s; saving to /home/pi/good-vibrations/data/gpepp/2022-05-23T13:53:57.366.wav\n",
      "   uploading data to GitHub\n",
      "Already up to date.\n",
      "[main 7a55a19] record_wav\n",
      " 2 files changed, 23 insertions(+), 1 deletion(-)\n",
      " create mode 100644 data/gpepp/2022-05-23T13:53:57.366.wav\n"
     ]
    },
    {
     "name": "stderr",
     "output_type": "stream",
     "text": [
      "To https://github.com/aubreymoore/good-vibrations.git\n",
      "   b60bfd7..7a55a19  main -> main\n"
     ]
    },
    {
     "name": "stdout",
     "output_type": "stream",
     "text": [
      "   sleeping for 540s\n",
      "6 of 100000\n",
      "   recording for 60s; saving to /home/pi/good-vibrations/data/gpepp/2022-05-23T14:04:03.859.wav\n",
      "   uploading data to GitHub\n",
      "Already up to date.\n",
      "[main eb332f1] record_wav\n",
      " 2 files changed, 23 insertions(+), 1 deletion(-)\n",
      " create mode 100644 data/gpepp/2022-05-23T14:04:03.859.wav\n"
     ]
    },
    {
     "name": "stderr",
     "output_type": "stream",
     "text": [
      "To https://github.com/aubreymoore/good-vibrations.git\n",
      "   7a55a19..eb332f1  main -> main\n"
     ]
    },
    {
     "name": "stdout",
     "output_type": "stream",
     "text": [
      "   sleeping for 540s\n",
      "7 of 100000\n",
      "   recording for 60s; saving to /home/pi/good-vibrations/data/gpepp/2022-05-23T14:14:10.494.wav\n",
      "   uploading data to GitHub\n",
      "Already up to date.\n",
      "[main 606668e] record_wav\n",
      " 2 files changed, 23 insertions(+), 1 deletion(-)\n",
      " create mode 100644 data/gpepp/2022-05-23T14:14:10.494.wav\n"
     ]
    },
    {
     "name": "stderr",
     "output_type": "stream",
     "text": [
      "To https://github.com/aubreymoore/good-vibrations.git\n",
      "   eb332f1..606668e  main -> main\n"
     ]
    },
    {
     "name": "stdout",
     "output_type": "stream",
     "text": [
      "   sleeping for 540s\n",
      "8 of 100000\n",
      "   recording for 60s; saving to /home/pi/good-vibrations/data/gpepp/2022-05-23T14:24:17.696.wav\n",
      "   uploading data to GitHub\n",
      "Already up to date.\n",
      "[main 413856f] record_wav\n",
      " 2 files changed, 23 insertions(+), 1 deletion(-)\n",
      " create mode 100644 data/gpepp/2022-05-23T14:24:17.696.wav\n"
     ]
    },
    {
     "name": "stderr",
     "output_type": "stream",
     "text": [
      "To https://github.com/aubreymoore/good-vibrations.git\n",
      "   606668e..413856f  main -> main\n"
     ]
    },
    {
     "name": "stdout",
     "output_type": "stream",
     "text": [
      "   sleeping for 540s\n",
      "9 of 100000\n",
      "   recording for 60s; saving to /home/pi/good-vibrations/data/gpepp/2022-05-23T14:34:23.999.wav\n",
      "   uploading data to GitHub\n",
      "Already up to date.\n",
      "[main 74ed9c9] record_wav\n",
      " 2 files changed, 21 insertions(+), 1 deletion(-)\n",
      " create mode 100644 data/gpepp/2022-05-23T14:34:23.999.wav\n"
     ]
    },
    {
     "name": "stderr",
     "output_type": "stream",
     "text": [
      "To https://github.com/aubreymoore/good-vibrations.git\n",
      "   413856f..74ed9c9  main -> main\n"
     ]
    },
    {
     "name": "stdout",
     "output_type": "stream",
     "text": [
      "   sleeping for 540s\n",
      "10 of 100000\n",
      "   recording for 60s; saving to /home/pi/good-vibrations/data/gpepp/2022-05-23T14:44:30.527.wav\n",
      "   uploading data to GitHub\n",
      "Already up to date.\n",
      "[main 72b35e3] record_wav\n",
      " 2 files changed, 22 insertions(+)\n",
      " create mode 100644 data/gpepp/2022-05-23T14:44:30.527.wav\n"
     ]
    },
    {
     "name": "stderr",
     "output_type": "stream",
     "text": [
      "To https://github.com/aubreymoore/good-vibrations.git\n",
      "   74ed9c9..72b35e3  main -> main\n"
     ]
    },
    {
     "name": "stdout",
     "output_type": "stream",
     "text": [
      "   sleeping for 540s\n",
      "11 of 100000\n",
      "   recording for 60s; saving to /home/pi/good-vibrations/data/gpepp/2022-05-23T14:54:36.769.wav\n",
      "   uploading data to GitHub\n",
      "Already up to date.\n",
      "[main c4f667f] record_wav\n",
      " 2 files changed, 22 insertions(+)\n",
      " create mode 100644 data/gpepp/2022-05-23T14:54:36.769.wav\n"
     ]
    },
    {
     "name": "stderr",
     "output_type": "stream",
     "text": [
      "To https://github.com/aubreymoore/good-vibrations.git\n",
      "   72b35e3..c4f667f  main -> main\n"
     ]
    },
    {
     "name": "stdout",
     "output_type": "stream",
     "text": [
      "   sleeping for 540s\n",
      "12 of 100000\n",
      "   recording for 60s; saving to /home/pi/good-vibrations/data/gpepp/2022-05-23T15:04:43.299.wav\n",
      "   uploading data to GitHub\n",
      "Already up to date.\n",
      "[main 253ef2f] record_wav\n",
      " 2 files changed, 22 insertions(+)\n",
      " create mode 100644 data/gpepp/2022-05-23T15:04:43.299.wav\n"
     ]
    },
    {
     "name": "stderr",
     "output_type": "stream",
     "text": [
      "To https://github.com/aubreymoore/good-vibrations.git\n",
      "   c4f667f..253ef2f  main -> main\n"
     ]
    },
    {
     "name": "stdout",
     "output_type": "stream",
     "text": [
      "   sleeping for 540s\n",
      "13 of 100000\n",
      "   recording for 60s; saving to /home/pi/good-vibrations/data/gpepp/2022-05-23T15:14:49.749.wav\n",
      "   uploading data to GitHub\n",
      "Already up to date.\n",
      "[main 0329d54] record_wav\n",
      " 2 files changed, 22 insertions(+)\n",
      " create mode 100644 data/gpepp/2022-05-23T15:14:49.749.wav\n"
     ]
    },
    {
     "name": "stderr",
     "output_type": "stream",
     "text": [
      "To https://github.com/aubreymoore/good-vibrations.git\n",
      "   253ef2f..0329d54  main -> main\n"
     ]
    },
    {
     "name": "stdout",
     "output_type": "stream",
     "text": [
      "   sleeping for 540s\n",
      "14 of 100000\n",
      "   recording for 60s; saving to /home/pi/good-vibrations/data/gpepp/2022-05-23T15:25:03.209.wav\n",
      "   uploading data to GitHub\n",
      "Already up to date.\n",
      "[main 121d958] record_wav\n",
      " 2 files changed, 22 insertions(+)\n",
      " create mode 100644 data/gpepp/2022-05-23T15:25:03.209.wav\n"
     ]
    },
    {
     "name": "stderr",
     "output_type": "stream",
     "text": [
      "To https://github.com/aubreymoore/good-vibrations.git\n",
      "   0329d54..121d958  main -> main\n"
     ]
    },
    {
     "name": "stdout",
     "output_type": "stream",
     "text": [
      "   sleeping for 540s\n",
      "15 of 100000\n",
      "   recording for 60s; saving to /home/pi/good-vibrations/data/gpepp/2022-05-23T15:35:09.767.wav\n",
      "   uploading data to GitHub\n",
      "Already up to date.\n",
      "[main f195805] record_wav\n",
      " 2 files changed, 22 insertions(+)\n",
      " create mode 100644 data/gpepp/2022-05-23T15:35:09.767.wav\n"
     ]
    },
    {
     "name": "stderr",
     "output_type": "stream",
     "text": [
      "To https://github.com/aubreymoore/good-vibrations.git\n",
      "   121d958..f195805  main -> main\n"
     ]
    },
    {
     "name": "stdout",
     "output_type": "stream",
     "text": [
      "   sleeping for 540s\n",
      "16 of 100000\n",
      "   recording for 60s; saving to /home/pi/good-vibrations/data/gpepp/2022-05-23T15:45:16.613.wav\n",
      "   uploading data to GitHub\n",
      "Already up to date.\n",
      "[main bf4dc2b] record_wav\n",
      " 2 files changed, 22 insertions(+)\n",
      " create mode 100644 data/gpepp/2022-05-23T15:45:16.613.wav\n"
     ]
    },
    {
     "name": "stderr",
     "output_type": "stream",
     "text": [
      "To https://github.com/aubreymoore/good-vibrations.git\n",
      "   f195805..bf4dc2b  main -> main\n"
     ]
    },
    {
     "name": "stdout",
     "output_type": "stream",
     "text": [
      "   sleeping for 540s\n",
      "17 of 100000\n",
      "   recording for 60s; saving to /home/pi/good-vibrations/data/gpepp/2022-05-23T15:55:23.886.wav\n",
      "   uploading data to GitHub\n",
      "Already up to date.\n",
      "[main 8e9abc2] record_wav\n",
      " 2 files changed, 22 insertions(+)\n",
      " create mode 100644 data/gpepp/2022-05-23T15:55:23.886.wav\n"
     ]
    },
    {
     "name": "stderr",
     "output_type": "stream",
     "text": [
      "To https://github.com/aubreymoore/good-vibrations.git\n",
      "   bf4dc2b..8e9abc2  main -> main\n"
     ]
    },
    {
     "name": "stdout",
     "output_type": "stream",
     "text": [
      "   sleeping for 540s\n",
      "18 of 100000\n",
      "   recording for 60s; saving to /home/pi/good-vibrations/data/gpepp/2022-05-23T16:05:30.355.wav\n",
      "   uploading data to GitHub\n",
      "Already up to date.\n",
      "[main 97c1684] record_wav\n",
      " 2 files changed, 25 insertions(+), 1 deletion(-)\n",
      " create mode 100644 data/gpepp/2022-05-23T16:05:30.355.wav\n"
     ]
    },
    {
     "name": "stderr",
     "output_type": "stream",
     "text": [
      "To https://github.com/aubreymoore/good-vibrations.git\n",
      "   8e9abc2..97c1684  main -> main\n"
     ]
    },
    {
     "name": "stdout",
     "output_type": "stream",
     "text": [
      "   sleeping for 540s\n",
      "19 of 100000\n",
      "   recording for 60s; saving to /home/pi/good-vibrations/data/gpepp/2022-05-23T16:15:36.710.wav\n",
      "   uploading data to GitHub\n",
      "Already up to date.\n",
      "[main 15f9a22] record_wav\n",
      " 2 files changed, 23 insertions(+), 1 deletion(-)\n",
      " create mode 100644 data/gpepp/2022-05-23T16:15:36.710.wav\n"
     ]
    },
    {
     "name": "stderr",
     "output_type": "stream",
     "text": [
      "To https://github.com/aubreymoore/good-vibrations.git\n",
      "   97c1684..15f9a22  main -> main\n"
     ]
    },
    {
     "name": "stdout",
     "output_type": "stream",
     "text": [
      "   sleeping for 540s\n",
      "20 of 100000\n",
      "   recording for 60s; saving to /home/pi/good-vibrations/data/gpepp/2022-05-23T16:25:43.933.wav\n",
      "   uploading data to GitHub\n",
      "Already up to date.\n",
      "[main adcdb6e] record_wav\n",
      " 2 files changed, 23 insertions(+), 1 deletion(-)\n",
      " create mode 100644 data/gpepp/2022-05-23T16:25:43.933.wav\n"
     ]
    },
    {
     "name": "stderr",
     "output_type": "stream",
     "text": [
      "To https://github.com/aubreymoore/good-vibrations.git\n",
      "   15f9a22..adcdb6e  main -> main\n"
     ]
    },
    {
     "name": "stdout",
     "output_type": "stream",
     "text": [
      "   sleeping for 540s\n",
      "21 of 100000\n",
      "   recording for 60s; saving to /home/pi/good-vibrations/data/gpepp/2022-05-23T16:35:50.399.wav\n",
      "   uploading data to GitHub\n",
      "Already up to date.\n",
      "[main 7d81350] record_wav\n",
      " 2 files changed, 23 insertions(+), 1 deletion(-)\n",
      " create mode 100644 data/gpepp/2022-05-23T16:35:50.399.wav\n"
     ]
    },
    {
     "name": "stderr",
     "output_type": "stream",
     "text": [
      "To https://github.com/aubreymoore/good-vibrations.git\n",
      "   adcdb6e..7d81350  main -> main\n"
     ]
    },
    {
     "name": "stdout",
     "output_type": "stream",
     "text": [
      "   sleeping for 540s\n",
      "22 of 100000\n",
      "   recording for 60s; saving to /home/pi/good-vibrations/data/gpepp/2022-05-23T16:45:57.249.wav\n",
      "   uploading data to GitHub\n",
      "Already up to date.\n",
      "[main 5f6e3f6] record_wav\n",
      " 2 files changed, 23 insertions(+), 1 deletion(-)\n",
      " create mode 100644 data/gpepp/2022-05-23T16:45:57.249.wav\n"
     ]
    },
    {
     "name": "stderr",
     "output_type": "stream",
     "text": [
      "To https://github.com/aubreymoore/good-vibrations.git\n",
      "   7d81350..5f6e3f6  main -> main\n"
     ]
    },
    {
     "name": "stdout",
     "output_type": "stream",
     "text": [
      "   sleeping for 540s\n",
      "23 of 100000\n",
      "   recording for 60s; saving to /home/pi/good-vibrations/data/gpepp/2022-05-23T16:56:08.819.wav\n",
      "   uploading data to GitHub\n",
      "Already up to date.\n",
      "[main 8e3f9fa] record_wav\n",
      " 2 files changed, 23 insertions(+), 1 deletion(-)\n",
      " create mode 100644 data/gpepp/2022-05-23T16:56:08.819.wav\n"
     ]
    },
    {
     "name": "stderr",
     "output_type": "stream",
     "text": [
      "To https://github.com/aubreymoore/good-vibrations.git\n",
      "   5f6e3f6..8e3f9fa  main -> main\n"
     ]
    },
    {
     "name": "stdout",
     "output_type": "stream",
     "text": [
      "   sleeping for 540s\n",
      "24 of 100000\n",
      "   recording for 60s; saving to /home/pi/good-vibrations/data/gpepp/2022-05-23T17:06:15.366.wav\n",
      "   uploading data to GitHub\n",
      "Already up to date.\n",
      "[main 4d72342] record_wav\n",
      " 2 files changed, 23 insertions(+), 1 deletion(-)\n",
      " create mode 100644 data/gpepp/2022-05-23T17:06:15.366.wav\n"
     ]
    },
    {
     "name": "stderr",
     "output_type": "stream",
     "text": [
      "To https://github.com/aubreymoore/good-vibrations.git\n",
      "   8e3f9fa..4d72342  main -> main\n"
     ]
    },
    {
     "name": "stdout",
     "output_type": "stream",
     "text": [
      "   sleeping for 540s\n",
      "25 of 100000\n",
      "   recording for 60s; saving to /home/pi/good-vibrations/data/gpepp/2022-05-23T17:16:23.722.wav\n",
      "   uploading data to GitHub\n",
      "Already up to date.\n",
      "[main 2aaba0e] record_wav\n",
      " 2 files changed, 23 insertions(+), 1 deletion(-)\n",
      " create mode 100644 data/gpepp/2022-05-23T17:16:23.722.wav\n"
     ]
    },
    {
     "name": "stderr",
     "output_type": "stream",
     "text": [
      "To https://github.com/aubreymoore/good-vibrations.git\n",
      "   4d72342..2aaba0e  main -> main\n"
     ]
    },
    {
     "name": "stdout",
     "output_type": "stream",
     "text": [
      "   sleeping for 540s\n",
      "26 of 100000\n",
      "   recording for 60s; saving to /home/pi/good-vibrations/data/gpepp/2022-05-23T17:26:31.889.wav\n",
      "   uploading data to GitHub\n",
      "Already up to date.\n",
      "[main 96b8209] record_wav\n",
      " 2 files changed, 23 insertions(+), 1 deletion(-)\n",
      " create mode 100644 data/gpepp/2022-05-23T17:26:31.889.wav\n"
     ]
    },
    {
     "name": "stderr",
     "output_type": "stream",
     "text": [
      "To https://github.com/aubreymoore/good-vibrations.git\n",
      "   2aaba0e..96b8209  main -> main\n"
     ]
    },
    {
     "name": "stdout",
     "output_type": "stream",
     "text": [
      "   sleeping for 540s\n",
      "27 of 100000\n",
      "   recording for 60s; saving to /home/pi/good-vibrations/data/gpepp/2022-05-23T17:36:39.950.wav\n",
      "   uploading data to GitHub\n"
     ]
    },
    {
     "name": "stderr",
     "output_type": "stream",
     "text": [
      "fatal: unable to access 'https://github.com/aubreymoore/good-vibrations.git/': Could not resolve host: github.com\n"
     ]
    },
    {
     "name": "stdout",
     "output_type": "stream",
     "text": [
      "[main 0d9c507] record_wav\n",
      " 2 files changed, 21 insertions(+), 1 deletion(-)\n",
      " create mode 100644 data/gpepp/2022-05-23T17:36:39.950.wav\n",
      "   sleeping for 540s\n"
     ]
    },
    {
     "name": "stderr",
     "output_type": "stream",
     "text": [
      "fatal: unable to access 'https://github.com/aubreymoore/good-vibrations.git/': Could not resolve host: github.com\n"
     ]
    },
    {
     "name": "stdout",
     "output_type": "stream",
     "text": [
      "28 of 100000\n",
      "   recording for 60s; saving to /home/pi/good-vibrations/data/gpepp/2022-05-23T17:46:40.598.wav\n",
      "   uploading data to GitHub\n",
      "Already up to date.\n",
      "[main d4e7d8e] record_wav\n",
      " 2 files changed, 27 insertions(+)\n",
      " create mode 100644 data/gpepp/2022-05-23T17:46:40.598.wav\n"
     ]
    },
    {
     "name": "stderr",
     "output_type": "stream",
     "text": [
      "To https://github.com/aubreymoore/good-vibrations.git\n",
      "   96b8209..d4e7d8e  main -> main\n"
     ]
    },
    {
     "name": "stdout",
     "output_type": "stream",
     "text": [
      "   sleeping for 540s\n",
      "29 of 100000\n",
      "   recording for 60s; saving to /home/pi/good-vibrations/data/gpepp/2022-05-23T17:56:49.079.wav\n",
      "   uploading data to GitHub\n"
     ]
    },
    {
     "name": "stderr",
     "output_type": "stream",
     "text": [
      "fatal: unable to access 'https://github.com/aubreymoore/good-vibrations.git/': Could not resolve host: github.com\n"
     ]
    },
    {
     "name": "stdout",
     "output_type": "stream",
     "text": [
      "[main 03d60f3] record_wav\n",
      " 2 files changed, 28 insertions(+)\n",
      " create mode 100644 data/gpepp/2022-05-23T17:56:49.079.wav\n",
      "   sleeping for 540s\n"
     ]
    },
    {
     "name": "stderr",
     "output_type": "stream",
     "text": [
      "fatal: unable to access 'https://github.com/aubreymoore/good-vibrations.git/': Could not resolve host: github.com\n"
     ]
    },
    {
     "name": "stdout",
     "output_type": "stream",
     "text": [
      "30 of 100000\n",
      "   recording for 60s; saving to /home/pi/good-vibrations/data/gpepp/2022-05-23T18:06:49.749.wav\n",
      "   uploading data to GitHub\n",
      "Already up to date.\n",
      "[main b9a67bf] record_wav\n",
      " 2 files changed, 27 insertions(+)\n",
      " create mode 100644 data/gpepp/2022-05-23T18:06:49.749.wav\n"
     ]
    },
    {
     "name": "stderr",
     "output_type": "stream",
     "text": [
      "To https://github.com/aubreymoore/good-vibrations.git\n",
      "   d4e7d8e..b9a67bf  main -> main\n"
     ]
    },
    {
     "name": "stdout",
     "output_type": "stream",
     "text": [
      "   sleeping for 540s\n",
      "31 of 100000\n",
      "   recording for 60s; saving to /home/pi/good-vibrations/data/gpepp/2022-05-23T18:17:05.189.wav\n",
      "   uploading data to GitHub\n",
      "Already up to date.\n",
      "[main 5b32679] record_wav\n",
      " 2 files changed, 28 insertions(+)\n",
      " create mode 100644 data/gpepp/2022-05-23T18:17:05.189.wav\n"
     ]
    },
    {
     "name": "stderr",
     "output_type": "stream",
     "text": [
      "To https://github.com/aubreymoore/good-vibrations.git\n",
      "   b9a67bf..5b32679  main -> main\n"
     ]
    },
    {
     "name": "stdout",
     "output_type": "stream",
     "text": [
      "   sleeping for 540s\n",
      "32 of 100000\n",
      "   recording for 60s; saving to /home/pi/good-vibrations/data/gpepp/2022-05-23T18:27:11.839.wav\n",
      "   uploading data to GitHub\n",
      "Already up to date.\n",
      "[main e46ef6e] record_wav\n",
      " 2 files changed, 22 insertions(+)\n",
      " create mode 100644 data/gpepp/2022-05-23T18:27:11.839.wav\n"
     ]
    },
    {
     "name": "stderr",
     "output_type": "stream",
     "text": [
      "To https://github.com/aubreymoore/good-vibrations.git\n",
      "   5b32679..e46ef6e  main -> main\n"
     ]
    },
    {
     "name": "stdout",
     "output_type": "stream",
     "text": [
      "   sleeping for 540s\n",
      "33 of 100000\n",
      "   recording for 60s; saving to /home/pi/good-vibrations/data/gpepp/2022-05-23T18:37:19.179.wav\n",
      "   uploading data to GitHub\n",
      "Already up to date.\n",
      "[main 9d9598a] record_wav\n",
      " 2 files changed, 22 insertions(+)\n",
      " create mode 100644 data/gpepp/2022-05-23T18:37:19.179.wav\n"
     ]
    },
    {
     "name": "stderr",
     "output_type": "stream",
     "text": [
      "To https://github.com/aubreymoore/good-vibrations.git\n",
      "   e46ef6e..9d9598a  main -> main\n"
     ]
    },
    {
     "name": "stdout",
     "output_type": "stream",
     "text": [
      "   sleeping for 540s\n",
      "34 of 100000\n",
      "   recording for 60s; saving to /home/pi/good-vibrations/data/gpepp/2022-05-23T18:47:25.529.wav\n",
      "   uploading data to GitHub\n",
      "Already up to date.\n",
      "[main 85d1475] record_wav\n",
      " 2 files changed, 22 insertions(+)\n",
      " create mode 100644 data/gpepp/2022-05-23T18:47:25.529.wav\n"
     ]
    },
    {
     "name": "stderr",
     "output_type": "stream",
     "text": [
      "To https://github.com/aubreymoore/good-vibrations.git\n",
      "   9d9598a..85d1475  main -> main\n"
     ]
    },
    {
     "name": "stdout",
     "output_type": "stream",
     "text": [
      "   sleeping for 540s\n",
      "35 of 100000\n",
      "   recording for 60s; saving to /home/pi/good-vibrations/data/gpepp/2022-05-23T18:57:32.172.wav\n",
      "   uploading data to GitHub\n",
      "Already up to date.\n",
      "[main b274ee6] record_wav\n",
      " 2 files changed, 22 insertions(+)\n",
      " create mode 100644 data/gpepp/2022-05-23T18:57:32.172.wav\n"
     ]
    },
    {
     "name": "stderr",
     "output_type": "stream",
     "text": [
      "To https://github.com/aubreymoore/good-vibrations.git\n",
      "   85d1475..b274ee6  main -> main\n"
     ]
    },
    {
     "name": "stdout",
     "output_type": "stream",
     "text": [
      "   sleeping for 540s\n",
      "36 of 100000\n",
      "   recording for 60s; saving to /home/pi/good-vibrations/data/gpepp/2022-05-23T19:07:38.639.wav\n",
      "   uploading data to GitHub\n",
      "Already up to date.\n",
      "[main 29476a2] record_wav\n",
      " 2 files changed, 22 insertions(+)\n",
      " create mode 100644 data/gpepp/2022-05-23T19:07:38.639.wav\n"
     ]
    },
    {
     "name": "stderr",
     "output_type": "stream",
     "text": [
      "To https://github.com/aubreymoore/good-vibrations.git\n",
      "   b274ee6..29476a2  main -> main\n"
     ]
    },
    {
     "name": "stdout",
     "output_type": "stream",
     "text": [
      "   sleeping for 540s\n",
      "37 of 100000\n",
      "   recording for 60s; saving to /home/pi/good-vibrations/data/gpepp/2022-05-23T19:17:45.749.wav\n",
      "   uploading data to GitHub\n"
     ]
    },
    {
     "name": "stderr",
     "output_type": "stream",
     "text": [
      "fatal: unable to access 'https://github.com/aubreymoore/good-vibrations.git/': Could not resolve host: github.com\n"
     ]
    },
    {
     "name": "stdout",
     "output_type": "stream",
     "text": [
      "[main bbcb8ae] record_wav\n",
      " 2 files changed, 25 insertions(+), 1 deletion(-)\n",
      " create mode 100644 data/gpepp/2022-05-23T19:17:45.749.wav\n"
     ]
    },
    {
     "name": "stderr",
     "output_type": "stream",
     "text": [
      "fatal: unable to access 'https://github.com/aubreymoore/good-vibrations.git/': Could not resolve host: github.com\n"
     ]
    },
    {
     "name": "stdout",
     "output_type": "stream",
     "text": [
      "   sleeping for 540s\n",
      "38 of 100000\n",
      "   recording for 60s; saving to /home/pi/good-vibrations/data/gpepp/2022-05-23T19:28:06.508.wav\n",
      "   uploading data to GitHub\n"
     ]
    },
    {
     "name": "stderr",
     "output_type": "stream",
     "text": [
      "fatal: unable to access 'https://github.com/aubreymoore/good-vibrations.git/': Could not resolve host: github.com\n"
     ]
    },
    {
     "name": "stdout",
     "output_type": "stream",
     "text": [
      "[main cb38e4b] record_wav\n",
      " 2 files changed, 34 insertions(+), 1 deletion(-)\n",
      " create mode 100644 data/gpepp/2022-05-23T19:28:06.508.wav\n"
     ]
    },
    {
     "name": "stderr",
     "output_type": "stream",
     "text": [
      "fatal: unable to access 'https://github.com/aubreymoore/good-vibrations.git/': Could not resolve host: github.com\n"
     ]
    },
    {
     "name": "stdout",
     "output_type": "stream",
     "text": [
      "   sleeping for 540s\n",
      "39 of 100000\n",
      "   recording for 60s; saving to /home/pi/good-vibrations/data/gpepp/2022-05-23T19:38:27.349.wav\n",
      "   uploading data to GitHub\n"
     ]
    },
    {
     "name": "stderr",
     "output_type": "stream",
     "text": [
      "fatal: unable to access 'https://github.com/aubreymoore/good-vibrations.git/': Could not resolve host: github.com\n"
     ]
    },
    {
     "name": "stdout",
     "output_type": "stream",
     "text": [
      "[main edb91b3] record_wav\n",
      " 2 files changed, 34 insertions(+), 1 deletion(-)\n",
      " create mode 100644 data/gpepp/2022-05-23T19:38:27.349.wav\n"
     ]
    },
    {
     "name": "stderr",
     "output_type": "stream",
     "text": [
      "fatal: unable to access 'https://github.com/aubreymoore/good-vibrations.git/': Could not resolve host: github.com\n"
     ]
    },
    {
     "name": "stdout",
     "output_type": "stream",
     "text": [
      "   sleeping for 540s\n",
      "40 of 100000\n",
      "   recording for 60s; saving to /home/pi/good-vibrations/data/gpepp/2022-05-23T19:48:48.130.wav\n",
      "   uploading data to GitHub\n",
      "Already up to date.\n",
      "[main 0c30576] record_wav\n",
      " 2 files changed, 32 insertions(+), 1 deletion(-)\n",
      " create mode 100644 data/gpepp/2022-05-23T19:48:48.130.wav\n"
     ]
    },
    {
     "name": "stderr",
     "output_type": "stream",
     "text": [
      "To https://github.com/aubreymoore/good-vibrations.git\n",
      "   29476a2..0c30576  main -> main\n"
     ]
    },
    {
     "name": "stdout",
     "output_type": "stream",
     "text": [
      "   sleeping for 540s\n",
      "41 of 100000\n",
      "   recording for 60s; saving to /home/pi/good-vibrations/data/gpepp/2022-05-23T19:58:57.370.wav\n",
      "   uploading data to GitHub\n",
      "Already up to date.\n",
      "[main 5a9b5ca] record_wav\n",
      " 2 files changed, 22 insertions(+)\n",
      " create mode 100644 data/gpepp/2022-05-23T19:58:57.370.wav\n"
     ]
    },
    {
     "name": "stderr",
     "output_type": "stream",
     "text": [
      "To https://github.com/aubreymoore/good-vibrations.git\n",
      "   0c30576..5a9b5ca  main -> main\n"
     ]
    },
    {
     "name": "stdout",
     "output_type": "stream",
     "text": [
      "   sleeping for 540s\n",
      "42 of 100000\n",
      "   recording for 60s; saving to /home/pi/good-vibrations/data/gpepp/2022-05-23T20:09:04.143.wav\n",
      "   uploading data to GitHub\n",
      "Already up to date.\n",
      "[main d8a4d81] record_wav\n",
      " 2 files changed, 22 insertions(+)\n",
      " create mode 100644 data/gpepp/2022-05-23T20:09:04.143.wav\n"
     ]
    },
    {
     "name": "stderr",
     "output_type": "stream",
     "text": [
      "To https://github.com/aubreymoore/good-vibrations.git\n",
      "   5a9b5ca..d8a4d81  main -> main\n"
     ]
    },
    {
     "name": "stdout",
     "output_type": "stream",
     "text": [
      "   sleeping for 540s\n",
      "43 of 100000\n",
      "   recording for 60s; saving to /home/pi/good-vibrations/data/gpepp/2022-05-23T20:19:10.699.wav\n",
      "   uploading data to GitHub\n",
      "Already up to date.\n",
      "[main 2d0f2d8] record_wav\n",
      " 2 files changed, 22 insertions(+)\n",
      " create mode 100644 data/gpepp/2022-05-23T20:19:10.699.wav\n"
     ]
    },
    {
     "name": "stderr",
     "output_type": "stream",
     "text": [
      "To https://github.com/aubreymoore/good-vibrations.git\n",
      "   d8a4d81..2d0f2d8  main -> main\n"
     ]
    },
    {
     "name": "stdout",
     "output_type": "stream",
     "text": [
      "   sleeping for 540s\n",
      "44 of 100000\n",
      "   recording for 60s; saving to /home/pi/good-vibrations/data/gpepp/2022-05-23T20:29:17.655.wav\n",
      "   uploading data to GitHub\n",
      "Already up to date.\n",
      "[main c0aeb01] record_wav\n",
      " 2 files changed, 22 insertions(+)\n",
      " create mode 100644 data/gpepp/2022-05-23T20:29:17.655.wav\n"
     ]
    },
    {
     "name": "stderr",
     "output_type": "stream",
     "text": [
      "To https://github.com/aubreymoore/good-vibrations.git\n",
      "   2d0f2d8..c0aeb01  main -> main\n"
     ]
    },
    {
     "name": "stdout",
     "output_type": "stream",
     "text": [
      "   sleeping for 540s\n",
      "45 of 100000\n",
      "   recording for 60s; saving to /home/pi/good-vibrations/data/gpepp/2022-05-23T20:39:24.685.wav\n",
      "   uploading data to GitHub\n",
      "Already up to date.\n",
      "[main 3ded042] record_wav\n",
      " 2 files changed, 22 insertions(+)\n",
      " create mode 100644 data/gpepp/2022-05-23T20:39:24.685.wav\n"
     ]
    },
    {
     "name": "stderr",
     "output_type": "stream",
     "text": [
      "To https://github.com/aubreymoore/good-vibrations.git\n",
      "   c0aeb01..3ded042  main -> main\n"
     ]
    },
    {
     "name": "stdout",
     "output_type": "stream",
     "text": [
      "   sleeping for 540s\n",
      "46 of 100000\n",
      "   recording for 60s; saving to /home/pi/good-vibrations/data/gpepp/2022-05-23T20:49:30.999.wav\n",
      "   uploading data to GitHub\n",
      "Already up to date.\n",
      "[main 9cea9a6] record_wav\n",
      " 2 files changed, 22 insertions(+)\n",
      " create mode 100644 data/gpepp/2022-05-23T20:49:30.999.wav\n"
     ]
    },
    {
     "name": "stderr",
     "output_type": "stream",
     "text": [
      "To https://github.com/aubreymoore/good-vibrations.git\n",
      "   3ded042..9cea9a6  main -> main\n"
     ]
    },
    {
     "name": "stdout",
     "output_type": "stream",
     "text": [
      "   sleeping for 540s\n",
      "47 of 100000\n",
      "   recording for 60s; saving to /home/pi/good-vibrations/data/gpepp/2022-05-23T20:59:37.729.wav\n",
      "   uploading data to GitHub\n"
     ]
    },
    {
     "name": "stderr",
     "output_type": "stream",
     "text": [
      "fatal: unable to access 'https://github.com/aubreymoore/good-vibrations.git/': Could not resolve host: github.com\n"
     ]
    },
    {
     "name": "stdout",
     "output_type": "stream",
     "text": [
      "[main 43a9e72] record_wav\n",
      " 2 files changed, 22 insertions(+)\n",
      " create mode 100644 data/gpepp/2022-05-23T20:59:37.729.wav\n"
     ]
    },
    {
     "name": "stderr",
     "output_type": "stream",
     "text": [
      "To https://github.com/aubreymoore/good-vibrations.git\n",
      "   9cea9a6..43a9e72  main -> main\n"
     ]
    },
    {
     "name": "stdout",
     "output_type": "stream",
     "text": [
      "   sleeping for 540s\n",
      "48 of 100000\n",
      "   recording for 60s; saving to /home/pi/good-vibrations/data/gpepp/2022-05-23T21:09:44.709.wav\n",
      "   uploading data to GitHub\n",
      "Already up to date.\n",
      "[main 3890641] record_wav\n",
      " 2 files changed, 34 insertions(+)\n",
      " create mode 100644 data/gpepp/2022-05-23T21:09:44.709.wav\n"
     ]
    },
    {
     "name": "stderr",
     "output_type": "stream",
     "text": [
      "To https://github.com/aubreymoore/good-vibrations.git\n",
      "   43a9e72..3890641  main -> main\n"
     ]
    },
    {
     "name": "stdout",
     "output_type": "stream",
     "text": [
      "   sleeping for 540s\n",
      "49 of 100000\n",
      "   recording for 60s; saving to /home/pi/good-vibrations/data/gpepp/2022-05-23T21:19:51.383.wav\n",
      "   uploading data to GitHub\n",
      "Already up to date.\n",
      "[main 446d332] record_wav\n",
      " 2 files changed, 26 insertions(+), 1 deletion(-)\n",
      " create mode 100644 data/gpepp/2022-05-23T21:19:51.383.wav\n"
     ]
    },
    {
     "name": "stderr",
     "output_type": "stream",
     "text": [
      "To https://github.com/aubreymoore/good-vibrations.git\n",
      "   3890641..446d332  main -> main\n"
     ]
    },
    {
     "name": "stdout",
     "output_type": "stream",
     "text": [
      "   sleeping for 540s\n",
      "50 of 100000\n",
      "   recording for 60s; saving to /home/pi/good-vibrations/data/gpepp/2022-05-23T21:29:57.699.wav\n",
      "   uploading data to GitHub\n",
      "Already up to date.\n",
      "[main 408ef16] record_wav\n",
      " 2 files changed, 22 insertions(+), 1 deletion(-)\n",
      " create mode 100644 data/gpepp/2022-05-23T21:29:57.699.wav\n"
     ]
    },
    {
     "name": "stderr",
     "output_type": "stream",
     "text": [
      "To https://github.com/aubreymoore/good-vibrations.git\n",
      "   446d332..408ef16  main -> main\n"
     ]
    },
    {
     "name": "stdout",
     "output_type": "stream",
     "text": [
      "   sleeping for 540s\n",
      "51 of 100000\n",
      "   recording for 60s; saving to /home/pi/good-vibrations/data/gpepp/2022-05-23T21:40:04.108.wav\n",
      "   uploading data to GitHub\n",
      "Already up to date.\n",
      "[main 2cc3b4d] record_wav\n",
      " 2 files changed, 23 insertions(+), 1 deletion(-)\n",
      " create mode 100644 data/gpepp/2022-05-23T21:40:04.108.wav\n"
     ]
    },
    {
     "name": "stderr",
     "output_type": "stream",
     "text": [
      "To https://github.com/aubreymoore/good-vibrations.git\n",
      "   408ef16..2cc3b4d  main -> main\n"
     ]
    },
    {
     "name": "stdout",
     "output_type": "stream",
     "text": [
      "   sleeping for 540s\n",
      "52 of 100000\n",
      "   recording for 60s; saving to /home/pi/good-vibrations/data/gpepp/2022-05-23T21:50:45.829.wav\n",
      "   uploading data to GitHub\n"
     ]
    },
    {
     "name": "stderr",
     "output_type": "stream",
     "text": [
      "fatal: unable to access 'https://github.com/aubreymoore/good-vibrations.git/': Could not resolve host: github.com\n"
     ]
    },
    {
     "name": "stdout",
     "output_type": "stream",
     "text": [
      "[main 111d786] record_wav\n",
      " 2 files changed, 23 insertions(+), 1 deletion(-)\n",
      " create mode 100644 data/gpepp/2022-05-23T21:50:45.829.wav\n",
      "   sleeping for 540s\n"
     ]
    },
    {
     "name": "stderr",
     "output_type": "stream",
     "text": [
      "fatal: unable to access 'https://github.com/aubreymoore/good-vibrations.git/': Could not resolve host: github.com\n"
     ]
    },
    {
     "name": "stdout",
     "output_type": "stream",
     "text": [
      "53 of 100000\n",
      "   recording for 60s; saving to /home/pi/good-vibrations/data/gpepp/2022-05-23T22:00:56.469.wav\n",
      "   uploading data to GitHub\n"
     ]
    },
    {
     "name": "stderr",
     "output_type": "stream",
     "text": [
      "fatal: unable to access 'https://github.com/aubreymoore/good-vibrations.git/': Could not resolve host: github.com\n"
     ]
    },
    {
     "name": "stdout",
     "output_type": "stream",
     "text": [
      "[main 591c673] record_wav\n",
      " 2 files changed, 26 insertions(+), 1 deletion(-)\n",
      " create mode 100644 data/gpepp/2022-05-23T22:00:56.469.wav\n",
      "   sleeping for 540s\n"
     ]
    },
    {
     "name": "stderr",
     "output_type": "stream",
     "text": [
      "fatal: unable to access 'https://github.com/aubreymoore/good-vibrations.git/': Could not resolve host: github.com\n"
     ]
    },
    {
     "name": "stdout",
     "output_type": "stream",
     "text": [
      "54 of 100000\n",
      "   recording for 60s; saving to /home/pi/good-vibrations/data/gpepp/2022-05-23T22:10:57.115.wav\n",
      "   uploading data to GitHub\n",
      "Already up to date.\n",
      "[main 3c98964] record_wav\n",
      " 2 files changed, 33 insertions(+)\n",
      " create mode 100644 data/gpepp/2022-05-23T22:10:57.115.wav\n"
     ]
    },
    {
     "name": "stderr",
     "output_type": "stream",
     "text": [
      "To https://github.com/aubreymoore/good-vibrations.git\n",
      "   2cc3b4d..3c98964  main -> main\n"
     ]
    },
    {
     "name": "stdout",
     "output_type": "stream",
     "text": [
      "   sleeping for 540s\n",
      "55 of 100000\n",
      "   recording for 60s; saving to /home/pi/good-vibrations/data/gpepp/2022-05-23T22:21:05.249.wav\n",
      "   uploading data to GitHub\n",
      "Already up to date.\n",
      "[main 9cd5f18] record_wav\n",
      " 2 files changed, 28 insertions(+)\n",
      " create mode 100644 data/gpepp/2022-05-23T22:21:05.249.wav\n"
     ]
    },
    {
     "name": "stderr",
     "output_type": "stream",
     "text": [
      "To https://github.com/aubreymoore/good-vibrations.git\n",
      "   3c98964..9cd5f18  main -> main\n"
     ]
    },
    {
     "name": "stdout",
     "output_type": "stream",
     "text": [
      "   sleeping for 540s\n",
      "56 of 100000\n",
      "   recording for 60s; saving to /home/pi/good-vibrations/data/gpepp/2022-05-23T22:31:11.939.wav\n",
      "   uploading data to GitHub\n",
      "Already up to date.\n",
      "[main b9a59de] record_wav\n",
      " 2 files changed, 22 insertions(+)\n",
      " create mode 100644 data/gpepp/2022-05-23T22:31:11.939.wav\n"
     ]
    },
    {
     "name": "stderr",
     "output_type": "stream",
     "text": [
      "To https://github.com/aubreymoore/good-vibrations.git\n",
      "   9cd5f18..b9a59de  main -> main\n"
     ]
    },
    {
     "name": "stdout",
     "output_type": "stream",
     "text": [
      "   sleeping for 540s\n",
      "57 of 100000\n",
      "   recording for 60s; saving to /home/pi/good-vibrations/data/gpepp/2022-05-23T22:41:18.499.wav\n",
      "   uploading data to GitHub\n",
      "Already up to date.\n",
      "[main c36c7e5] record_wav\n",
      " 2 files changed, 22 insertions(+)\n",
      " create mode 100644 data/gpepp/2022-05-23T22:41:18.499.wav\n"
     ]
    },
    {
     "name": "stderr",
     "output_type": "stream",
     "text": [
      "To https://github.com/aubreymoore/good-vibrations.git\n",
      "   b9a59de..c36c7e5  main -> main\n"
     ]
    },
    {
     "name": "stdout",
     "output_type": "stream",
     "text": [
      "   sleeping for 540s\n",
      "58 of 100000\n",
      "   recording for 60s; saving to /home/pi/good-vibrations/data/gpepp/2022-05-23T22:51:30.719.wav\n",
      "   uploading data to GitHub\n",
      "Already up to date.\n",
      "[main c6864ef] record_wav\n",
      " 2 files changed, 22 insertions(+)\n",
      " create mode 100644 data/gpepp/2022-05-23T22:51:30.719.wav\n"
     ]
    },
    {
     "name": "stderr",
     "output_type": "stream",
     "text": [
      "To https://github.com/aubreymoore/good-vibrations.git\n",
      "   c36c7e5..c6864ef  main -> main\n"
     ]
    },
    {
     "name": "stdout",
     "output_type": "stream",
     "text": [
      "   sleeping for 540s\n",
      "59 of 100000\n",
      "   recording for 60s; saving to /home/pi/good-vibrations/data/gpepp/2022-05-23T23:01:38.008.wav\n",
      "   uploading data to GitHub\n",
      "Already up to date.\n",
      "[main 7c016af] record_wav\n",
      " 2 files changed, 22 insertions(+)\n",
      " create mode 100644 data/gpepp/2022-05-23T23:01:38.008.wav\n"
     ]
    },
    {
     "name": "stderr",
     "output_type": "stream",
     "text": [
      "To https://github.com/aubreymoore/good-vibrations.git\n",
      "   c6864ef..7c016af  main -> main\n"
     ]
    },
    {
     "name": "stdout",
     "output_type": "stream",
     "text": [
      "   sleeping for 540s\n",
      "60 of 100000\n",
      "   recording for 60s; saving to /home/pi/good-vibrations/data/gpepp/2022-05-23T23:11:45.550.wav\n",
      "   uploading data to GitHub\n",
      "Already up to date.\n",
      "[main 3a09cc6] record_wav\n",
      " 2 files changed, 22 insertions(+)\n",
      " create mode 100644 data/gpepp/2022-05-23T23:11:45.550.wav\n"
     ]
    },
    {
     "name": "stderr",
     "output_type": "stream",
     "text": [
      "To https://github.com/aubreymoore/good-vibrations.git\n",
      "   7c016af..3a09cc6  main -> main\n"
     ]
    },
    {
     "name": "stdout",
     "output_type": "stream",
     "text": [
      "   sleeping for 540s\n",
      "61 of 100000\n",
      "   recording for 60s; saving to /home/pi/good-vibrations/data/gpepp/2022-05-23T23:22:03.489.wav\n",
      "   uploading data to GitHub\n",
      "Already up to date.\n",
      "[main e6886dc] record_wav\n",
      " 2 files changed, 25 insertions(+), 1 deletion(-)\n",
      " create mode 100644 data/gpepp/2022-05-23T23:22:03.489.wav\n"
     ]
    },
    {
     "name": "stderr",
     "output_type": "stream",
     "text": [
      "To https://github.com/aubreymoore/good-vibrations.git\n",
      "   3a09cc6..e6886dc  main -> main\n"
     ]
    },
    {
     "name": "stdout",
     "output_type": "stream",
     "text": [
      "   sleeping for 540s\n",
      "62 of 100000\n",
      "   recording for 60s; saving to /home/pi/good-vibrations/data/gpepp/2022-05-23T23:32:29.656.wav\n",
      "   uploading data to GitHub\n",
      "Already up to date.\n",
      "[main 01606ef] record_wav\n",
      " 2 files changed, 23 insertions(+), 1 deletion(-)\n",
      " create mode 100644 data/gpepp/2022-05-23T23:32:29.656.wav\n"
     ]
    },
    {
     "name": "stderr",
     "output_type": "stream",
     "text": [
      "To https://github.com/aubreymoore/good-vibrations.git\n",
      "   e6886dc..01606ef  main -> main\n"
     ]
    },
    {
     "name": "stdout",
     "output_type": "stream",
     "text": [
      "   sleeping for 540s\n",
      "63 of 100000\n",
      "   recording for 60s; saving to /home/pi/good-vibrations/data/gpepp/2022-05-23T23:43:02.869.wav\n",
      "   uploading data to GitHub\n",
      "Already up to date.\n",
      "[main d8111d9] record_wav\n",
      " 2 files changed, 21 insertions(+), 1 deletion(-)\n",
      " create mode 100644 data/gpepp/2022-05-23T23:43:02.869.wav\n"
     ]
    },
    {
     "name": "stderr",
     "output_type": "stream",
     "text": [
      "To https://github.com/aubreymoore/good-vibrations.git\n",
      "   01606ef..d8111d9  main -> main\n"
     ]
    },
    {
     "name": "stdout",
     "output_type": "stream",
     "text": [
      "   sleeping for 540s\n",
      "64 of 100000\n",
      "   recording for 60s; saving to /home/pi/good-vibrations/data/gpepp/2022-05-23T23:53:52.329.wav\n",
      "   uploading data to GitHub\n",
      "Already up to date.\n",
      "[main b3d9720] record_wav\n",
      " 2 files changed, 22 insertions(+)\n",
      " create mode 100644 data/gpepp/2022-05-23T23:53:52.329.wav\n"
     ]
    },
    {
     "name": "stderr",
     "output_type": "stream",
     "text": [
      "To https://github.com/aubreymoore/good-vibrations.git\n",
      "   d8111d9..b3d9720  main -> main\n"
     ]
    },
    {
     "name": "stdout",
     "output_type": "stream",
     "text": [
      "   sleeping for 540s\n",
      "65 of 100000\n",
      "   recording for 60s; saving to /home/pi/good-vibrations/data/gpepp/2022-05-24T00:04:44.004.wav\n",
      "   uploading data to GitHub\n",
      "Already up to date.\n",
      "[main dda4c61] record_wav\n",
      " 2 files changed, 25 insertions(+), 1 deletion(-)\n",
      " create mode 100644 data/gpepp/2022-05-24T00:04:44.004.wav\n"
     ]
    },
    {
     "name": "stderr",
     "output_type": "stream",
     "text": [
      "To https://github.com/aubreymoore/good-vibrations.git\n",
      "   b3d9720..dda4c61  main -> main\n"
     ]
    },
    {
     "name": "stdout",
     "output_type": "stream",
     "text": [
      "   sleeping for 540s\n",
      "66 of 100000\n",
      "   recording for 60s; saving to /home/pi/good-vibrations/data/gpepp/2022-05-24T00:15:53.025.wav\n",
      "   uploading data to GitHub\n",
      "Already up to date.\n",
      "[main e377b2d] record_wav\n",
      " 2 files changed, 21 insertions(+), 1 deletion(-)\n",
      " create mode 100644 data/gpepp/2022-05-24T00:15:53.025.wav\n"
     ]
    },
    {
     "name": "stderr",
     "output_type": "stream",
     "text": [
      "fatal: the remote end hung up unexpectedly\n",
      "fatal: the remote end hung up unexpectedly\n",
      "Everything up-to-date\n"
     ]
    },
    {
     "name": "stdout",
     "output_type": "stream",
     "text": [
      "   sleeping for 540s\n",
      "67 of 100000\n",
      "   recording for 60s; saving to /home/pi/good-vibrations/data/gpepp/2022-05-24T00:27:43.026.wav\n",
      "   uploading data to GitHub\n",
      "Already up to date.\n",
      "[main ba56ab2] record_wav\n",
      " 2 files changed, 23 insertions(+)\n",
      " create mode 100644 data/gpepp/2022-05-24T00:27:43.026.wav\n"
     ]
    },
    {
     "name": "stderr",
     "output_type": "stream",
     "text": [
      "To https://github.com/aubreymoore/good-vibrations.git\n",
      "   dda4c61..ba56ab2  main -> main\n"
     ]
    },
    {
     "name": "stdout",
     "output_type": "stream",
     "text": [
      "   sleeping for 540s\n",
      "68 of 100000\n",
      "   recording for 60s; saving to /home/pi/good-vibrations/data/gpepp/2022-05-24T00:38:29.699.wav\n",
      "   uploading data to GitHub\n",
      "Already up to date.\n",
      "[main 533c060] record_wav\n",
      " 2 files changed, 25 insertions(+), 1 deletion(-)\n",
      " create mode 100644 data/gpepp/2022-05-24T00:38:29.699.wav\n"
     ]
    },
    {
     "name": "stderr",
     "output_type": "stream",
     "text": [
      "To https://github.com/aubreymoore/good-vibrations.git\n",
      "   ba56ab2..533c060  main -> main\n"
     ]
    },
    {
     "name": "stdout",
     "output_type": "stream",
     "text": [
      "   sleeping for 540s\n",
      "69 of 100000\n",
      "   recording for 60s; saving to /home/pi/good-vibrations/data/gpepp/2022-05-24T00:48:36.359.wav\n",
      "   uploading data to GitHub\n",
      "Already up to date.\n",
      "[main b3e4a21] record_wav\n",
      " 2 files changed, 23 insertions(+), 1 deletion(-)\n",
      " create mode 100644 data/gpepp/2022-05-24T00:48:36.359.wav\n"
     ]
    },
    {
     "name": "stderr",
     "output_type": "stream",
     "text": [
      "To https://github.com/aubreymoore/good-vibrations.git\n",
      "   533c060..b3e4a21  main -> main\n"
     ]
    },
    {
     "name": "stdout",
     "output_type": "stream",
     "text": [
      "   sleeping for 540s\n",
      "70 of 100000\n",
      "   recording for 60s; saving to /home/pi/good-vibrations/data/gpepp/2022-05-24T00:58:46.039.wav\n",
      "   uploading data to GitHub\n",
      "Already up to date.\n",
      "[main 6d3df2a] record_wav\n",
      " 2 files changed, 23 insertions(+), 1 deletion(-)\n",
      " create mode 100644 data/gpepp/2022-05-24T00:58:46.039.wav\n"
     ]
    },
    {
     "name": "stderr",
     "output_type": "stream",
     "text": [
      "To https://github.com/aubreymoore/good-vibrations.git\n",
      "   b3e4a21..6d3df2a  main -> main\n"
     ]
    },
    {
     "name": "stdout",
     "output_type": "stream",
     "text": [
      "   sleeping for 540s\n",
      "71 of 100000\n",
      "   recording for 60s; saving to /home/pi/good-vibrations/data/gpepp/2022-05-24T01:09:05.189.wav\n",
      "   uploading data to GitHub\n",
      "Already up to date.\n",
      "[main 7f0ebfa] record_wav\n",
      " 2 files changed, 23 insertions(+), 1 deletion(-)\n",
      " create mode 100644 data/gpepp/2022-05-24T01:09:05.189.wav\n"
     ]
    },
    {
     "name": "stderr",
     "output_type": "stream",
     "text": [
      "To https://github.com/aubreymoore/good-vibrations.git\n",
      "   6d3df2a..7f0ebfa  main -> main\n"
     ]
    },
    {
     "name": "stdout",
     "output_type": "stream",
     "text": [
      "   sleeping for 540s\n",
      "72 of 100000\n",
      "   recording for 60s; saving to /home/pi/good-vibrations/data/gpepp/2022-05-24T01:19:37.103.wav\n",
      "   uploading data to GitHub\n",
      "Already up to date.\n",
      "[main c12a157] record_wav\n",
      " 2 files changed, 21 insertions(+), 1 deletion(-)\n",
      " create mode 100644 data/gpepp/2022-05-24T01:19:37.103.wav\n"
     ]
    },
    {
     "name": "stderr",
     "output_type": "stream",
     "text": [
      "To https://github.com/aubreymoore/good-vibrations.git\n",
      "   7f0ebfa..c12a157  main -> main\n"
     ]
    },
    {
     "name": "stdout",
     "output_type": "stream",
     "text": [
      "   sleeping for 540s\n",
      "73 of 100000\n",
      "   recording for 60s; saving to /home/pi/good-vibrations/data/gpepp/2022-05-24T01:30:15.694.wav\n",
      "   uploading data to GitHub\n",
      "Already up to date.\n",
      "[main b383c6c] record_wav\n",
      " 2 files changed, 25 insertions(+), 1 deletion(-)\n",
      " create mode 100644 data/gpepp/2022-05-24T01:30:15.694.wav\n"
     ]
    },
    {
     "name": "stderr",
     "output_type": "stream",
     "text": [
      "To https://github.com/aubreymoore/good-vibrations.git\n",
      "   c12a157..b383c6c  main -> main\n"
     ]
    },
    {
     "name": "stdout",
     "output_type": "stream",
     "text": [
      "   sleeping for 540s\n",
      "74 of 100000\n",
      "   recording for 60s; saving to /home/pi/good-vibrations/data/gpepp/2022-05-24T01:41:12.289.wav\n",
      "   uploading data to GitHub\n",
      "Already up to date.\n",
      "[main fcf67e4] record_wav\n",
      " 2 files changed, 21 insertions(+), 1 deletion(-)\n",
      " create mode 100644 data/gpepp/2022-05-24T01:41:12.289.wav\n"
     ]
    },
    {
     "name": "stderr",
     "output_type": "stream",
     "text": [
      "To https://github.com/aubreymoore/good-vibrations.git\n",
      "   b383c6c..fcf67e4  main -> main\n"
     ]
    },
    {
     "name": "stdout",
     "output_type": "stream",
     "text": [
      "   sleeping for 540s\n",
      "75 of 100000\n",
      "   recording for 60s; saving to /home/pi/good-vibrations/data/gpepp/2022-05-24T01:52:23.959.wav\n",
      "   uploading data to GitHub\n",
      "Already up to date.\n",
      "[main 840065d] record_wav\n",
      " 2 files changed, 25 insertions(+), 1 deletion(-)\n",
      " create mode 100644 data/gpepp/2022-05-24T01:52:23.959.wav\n"
     ]
    },
    {
     "name": "stderr",
     "output_type": "stream",
     "text": [
      "To https://github.com/aubreymoore/good-vibrations.git\n",
      "   fcf67e4..840065d  main -> main\n"
     ]
    },
    {
     "name": "stdout",
     "output_type": "stream",
     "text": [
      "   sleeping for 540s\n",
      "76 of 100000\n",
      "   recording for 60s; saving to /home/pi/good-vibrations/data/gpepp/2022-05-24T02:03:57.929.wav\n",
      "   uploading data to GitHub\n",
      "Already up to date.\n",
      "[main 63d7b66] record_wav\n",
      " 2 files changed, 21 insertions(+), 1 deletion(-)\n",
      " create mode 100644 data/gpepp/2022-05-24T02:03:57.929.wav\n"
     ]
    },
    {
     "name": "stderr",
     "output_type": "stream",
     "text": [
      "To https://github.com/aubreymoore/good-vibrations.git\n",
      "   840065d..63d7b66  main -> main\n"
     ]
    },
    {
     "name": "stdout",
     "output_type": "stream",
     "text": [
      "   sleeping for 540s\n",
      "77 of 100000\n",
      "   recording for 60s; saving to /home/pi/good-vibrations/data/gpepp/2022-05-24T02:15:35.744.wav\n",
      "   uploading data to GitHub\n",
      "Already up to date.\n",
      "[main 3a9b1cd] record_wav\n",
      " 2 files changed, 22 insertions(+)\n",
      " create mode 100644 data/gpepp/2022-05-24T02:15:35.744.wav\n"
     ]
    },
    {
     "name": "stderr",
     "output_type": "stream",
     "text": [
      "error: RPC failed; curl 92 HTTP/2 stream 0 was not closed cleanly: CANCEL (err 8)\n",
      "fatal: the remote end hung up unexpectedly\n",
      "fatal: the remote end hung up unexpectedly\n",
      "Everything up-to-date\n"
     ]
    },
    {
     "name": "stdout",
     "output_type": "stream",
     "text": [
      "   sleeping for 540s\n",
      "78 of 100000\n",
      "   recording for 60s; saving to /home/pi/good-vibrations/data/gpepp/2022-05-24T02:25:56.129.wav\n",
      "   uploading data to GitHub\n",
      "Already up to date.\n",
      "[main d265c22] record_wav\n",
      " 2 files changed, 24 insertions(+)\n",
      " create mode 100644 data/gpepp/2022-05-24T02:25:56.129.wav\n"
     ]
    },
    {
     "name": "stderr",
     "output_type": "stream",
     "text": [
      "error: RPC failed; curl 92 HTTP/2 stream 0 was not closed cleanly: CANCEL (err 8)\n",
      "fatal: the remote end hung up unexpectedly\n",
      "fatal: the remote end hung up unexpectedly\n",
      "Everything up-to-date\n"
     ]
    },
    {
     "name": "stdout",
     "output_type": "stream",
     "text": [
      "   sleeping for 540s\n",
      "79 of 100000\n",
      "   recording for 60s; saving to /home/pi/good-vibrations/data/gpepp/2022-05-24T02:37:37.620.wav\n",
      "   uploading data to GitHub\n",
      "Already up to date.\n",
      "[main 8e23c9c] record_wav\n",
      " 2 files changed, 24 insertions(+)\n",
      " create mode 100644 data/gpepp/2022-05-24T02:37:37.620.wav\n"
     ]
    },
    {
     "name": "stderr",
     "output_type": "stream",
     "text": [
      "To https://github.com/aubreymoore/good-vibrations.git\n",
      "   63d7b66..8e23c9c  main -> main\n"
     ]
    },
    {
     "name": "stdout",
     "output_type": "stream",
     "text": [
      "   sleeping for 540s\n",
      "80 of 100000\n",
      "   recording for 60s; saving to /home/pi/good-vibrations/data/gpepp/2022-05-24T02:47:58.799.wav\n",
      "   uploading data to GitHub\n",
      "Already up to date.\n",
      "[main c42e8a5] record_wav\n",
      " 2 files changed, 22 insertions(+)\n",
      " create mode 100644 data/gpepp/2022-05-24T02:47:58.799.wav\n"
     ]
    },
    {
     "name": "stderr",
     "output_type": "stream",
     "text": [
      "To https://github.com/aubreymoore/good-vibrations.git\n",
      "   8e23c9c..c42e8a5  main -> main\n"
     ]
    },
    {
     "name": "stdout",
     "output_type": "stream",
     "text": [
      "   sleeping for 540s\n",
      "81 of 100000\n",
      "   recording for 60s; saving to /home/pi/good-vibrations/data/gpepp/2022-05-24T02:58:05.413.wav\n",
      "   uploading data to GitHub\n",
      "Already up to date.\n",
      "[main d1b7005] record_wav\n",
      " 2 files changed, 22 insertions(+)\n",
      " create mode 100644 data/gpepp/2022-05-24T02:58:05.413.wav\n"
     ]
    },
    {
     "name": "stderr",
     "output_type": "stream",
     "text": [
      "To https://github.com/aubreymoore/good-vibrations.git\n",
      "   c42e8a5..d1b7005  main -> main\n"
     ]
    },
    {
     "name": "stdout",
     "output_type": "stream",
     "text": [
      "   sleeping for 540s\n",
      "82 of 100000\n",
      "   recording for 60s; saving to /home/pi/good-vibrations/data/gpepp/2022-05-24T03:08:12.579.wav\n",
      "   uploading data to GitHub\n",
      "Already up to date.\n",
      "[main 49d3f19] record_wav\n",
      " 2 files changed, 22 insertions(+)\n",
      " create mode 100644 data/gpepp/2022-05-24T03:08:12.579.wav\n"
     ]
    },
    {
     "name": "stderr",
     "output_type": "stream",
     "text": [
      "To https://github.com/aubreymoore/good-vibrations.git\n",
      "   d1b7005..49d3f19  main -> main\n"
     ]
    },
    {
     "name": "stdout",
     "output_type": "stream",
     "text": [
      "   sleeping for 540s\n",
      "83 of 100000\n",
      "   recording for 60s; saving to /home/pi/good-vibrations/data/gpepp/2022-05-24T03:18:19.358.wav\n",
      "   uploading data to GitHub\n"
     ]
    },
    {
     "name": "stderr",
     "output_type": "stream",
     "text": [
      "fatal: unable to access 'https://github.com/aubreymoore/good-vibrations.git/': Could not resolve host: github.com\n"
     ]
    },
    {
     "name": "stdout",
     "output_type": "stream",
     "text": [
      "[main a0501a6] record_wav\n",
      " 2 files changed, 22 insertions(+)\n",
      " create mode 100644 data/gpepp/2022-05-24T03:18:19.358.wav\n"
     ]
    },
    {
     "name": "stderr",
     "output_type": "stream",
     "text": [
      "To https://github.com/aubreymoore/good-vibrations.git\n",
      "   49d3f19..a0501a6  main -> main\n"
     ]
    },
    {
     "name": "stdout",
     "output_type": "stream",
     "text": [
      "   sleeping for 540s\n",
      "84 of 100000\n",
      "   recording for 60s; saving to /home/pi/good-vibrations/data/gpepp/2022-05-24T03:28:24.429.wav\n",
      "   uploading data to GitHub\n",
      "Already up to date.\n",
      "[main 457db16] record_wav\n",
      " 2 files changed, 37 insertions(+), 1 deletion(-)\n",
      " create mode 100644 data/gpepp/2022-05-24T03:28:24.429.wav\n"
     ]
    },
    {
     "name": "stderr",
     "output_type": "stream",
     "text": [
      "To https://github.com/aubreymoore/good-vibrations.git\n",
      "   a0501a6..457db16  main -> main\n"
     ]
    },
    {
     "name": "stdout",
     "output_type": "stream",
     "text": [
      "   sleeping for 540s\n",
      "85 of 100000\n",
      "   recording for 60s; saving to /home/pi/good-vibrations/data/gpepp/2022-05-24T03:38:31.024.wav\n",
      "   uploading data to GitHub\n",
      "Already up to date.\n",
      "[main e31292d] record_wav\n",
      " 2 files changed, 23 insertions(+), 1 deletion(-)\n",
      " create mode 100644 data/gpepp/2022-05-24T03:38:31.024.wav\n"
     ]
    },
    {
     "name": "stderr",
     "output_type": "stream",
     "text": [
      "To https://github.com/aubreymoore/good-vibrations.git\n",
      "   457db16..e31292d  main -> main\n"
     ]
    },
    {
     "name": "stdout",
     "output_type": "stream",
     "text": [
      "   sleeping for 540s\n",
      "86 of 100000\n",
      "   recording for 60s; saving to /home/pi/good-vibrations/data/gpepp/2022-05-24T03:48:37.478.wav\n",
      "   uploading data to GitHub\n",
      "Already up to date.\n",
      "[main df4d6b6] record_wav\n",
      " 2 files changed, 23 insertions(+), 1 deletion(-)\n",
      " create mode 100644 data/gpepp/2022-05-24T03:48:37.478.wav\n"
     ]
    },
    {
     "name": "stderr",
     "output_type": "stream",
     "text": [
      "To https://github.com/aubreymoore/good-vibrations.git\n",
      "   e31292d..df4d6b6  main -> main\n"
     ]
    },
    {
     "name": "stdout",
     "output_type": "stream",
     "text": [
      "   sleeping for 540s\n",
      "87 of 100000\n",
      "   recording for 60s; saving to /home/pi/good-vibrations/data/gpepp/2022-05-24T03:58:44.769.wav\n",
      "   uploading data to GitHub\n"
     ]
    },
    {
     "name": "stderr",
     "output_type": "stream",
     "text": [
      "fatal: unable to access 'https://github.com/aubreymoore/good-vibrations.git/': Could not resolve host: github.com\n"
     ]
    },
    {
     "name": "stdout",
     "output_type": "stream",
     "text": [
      "[main e7d968b] record_wav\n",
      " 2 files changed, 23 insertions(+), 1 deletion(-)\n",
      " create mode 100644 data/gpepp/2022-05-24T03:58:44.769.wav\n",
      "   sleeping for 540s\n"
     ]
    },
    {
     "name": "stderr",
     "output_type": "stream",
     "text": [
      "fatal: unable to access 'https://github.com/aubreymoore/good-vibrations.git/': Could not resolve host: github.com\n"
     ]
    },
    {
     "name": "stdout",
     "output_type": "stream",
     "text": [
      "88 of 100000\n",
      "   recording for 60s; saving to /home/pi/good-vibrations/data/gpepp/2022-05-24T04:08:45.319.wav\n",
      "   uploading data to GitHub\n"
     ]
    },
    {
     "name": "stderr",
     "output_type": "stream",
     "text": [
      "fatal: unable to access 'https://github.com/aubreymoore/good-vibrations.git/': Could not resolve host: github.com\n"
     ]
    },
    {
     "name": "stdout",
     "output_type": "stream",
     "text": [
      "[main 6953fac] record_wav\n",
      " 2 files changed, 34 insertions(+), 1 deletion(-)\n",
      " create mode 100644 data/gpepp/2022-05-24T04:08:45.319.wav\n",
      "   sleeping for 540s\n"
     ]
    },
    {
     "name": "stderr",
     "output_type": "stream",
     "text": [
      "fatal: unable to access 'https://github.com/aubreymoore/good-vibrations.git/': Could not resolve host: github.com\n"
     ]
    },
    {
     "name": "stdout",
     "output_type": "stream",
     "text": [
      "89 of 100000\n",
      "   recording for 60s; saving to /home/pi/good-vibrations/data/gpepp/2022-05-24T04:18:51.049.wav\n",
      "   uploading data to GitHub\n",
      "Already up to date.\n",
      "[main b3968f9] record_wav\n",
      " 2 files changed, 34 insertions(+), 1 deletion(-)\n",
      " create mode 100644 data/gpepp/2022-05-24T04:18:51.049.wav\n"
     ]
    },
    {
     "name": "stderr",
     "output_type": "stream",
     "text": [
      "To https://github.com/aubreymoore/good-vibrations.git\n",
      "   df4d6b6..b3968f9  main -> main\n"
     ]
    },
    {
     "name": "stdout",
     "output_type": "stream",
     "text": [
      "   sleeping for 540s\n",
      "90 of 100000\n",
      "   recording for 60s; saving to /home/pi/good-vibrations/data/gpepp/2022-05-24T04:28:59.784.wav\n",
      "   uploading data to GitHub\n",
      "Already up to date.\n",
      "[main 8071a82] record_wav\n",
      " 2 files changed, 23 insertions(+), 1 deletion(-)\n",
      " create mode 100644 data/gpepp/2022-05-24T04:28:59.784.wav\n"
     ]
    },
    {
     "name": "stderr",
     "output_type": "stream",
     "text": [
      "To https://github.com/aubreymoore/good-vibrations.git\n",
      "   b3968f9..8071a82  main -> main\n"
     ]
    },
    {
     "name": "stdout",
     "output_type": "stream",
     "text": [
      "   sleeping for 540s\n",
      "91 of 100000\n",
      "   recording for 60s; saving to /home/pi/good-vibrations/data/gpepp/2022-05-24T04:39:06.399.wav\n",
      "   uploading data to GitHub\n",
      "Already up to date.\n",
      "[main f7e19ae] record_wav\n",
      " 2 files changed, 23 insertions(+), 1 deletion(-)\n",
      " create mode 100644 data/gpepp/2022-05-24T04:39:06.399.wav\n"
     ]
    },
    {
     "name": "stderr",
     "output_type": "stream",
     "text": [
      "To https://github.com/aubreymoore/good-vibrations.git\n",
      "   8071a82..f7e19ae  main -> main\n"
     ]
    },
    {
     "name": "stdout",
     "output_type": "stream",
     "text": [
      "   sleeping for 540s\n",
      "92 of 100000\n",
      "   recording for 60s; saving to /home/pi/good-vibrations/data/gpepp/2022-05-24T04:49:12.819.wav\n",
      "   uploading data to GitHub\n",
      "Already up to date.\n",
      "[main 5414daa] record_wav\n",
      " 2 files changed, 23 insertions(+), 1 deletion(-)\n",
      " create mode 100644 data/gpepp/2022-05-24T04:49:12.819.wav\n"
     ]
    },
    {
     "name": "stderr",
     "output_type": "stream",
     "text": [
      "To https://github.com/aubreymoore/good-vibrations.git\n",
      "   f7e19ae..5414daa  main -> main\n"
     ]
    },
    {
     "name": "stdout",
     "output_type": "stream",
     "text": [
      "   sleeping for 540s\n",
      "93 of 100000\n",
      "   recording for 60s; saving to /home/pi/good-vibrations/data/gpepp/2022-05-24T04:59:19.512.wav\n",
      "   uploading data to GitHub\n"
     ]
    },
    {
     "name": "stderr",
     "output_type": "stream",
     "text": [
      "fatal: unable to access 'https://github.com/aubreymoore/good-vibrations.git/': Could not resolve host: github.com\n"
     ]
    },
    {
     "name": "stdout",
     "output_type": "stream",
     "text": [
      "[main 9489624] record_wav\n",
      " 2 files changed, 23 insertions(+), 1 deletion(-)\n",
      " create mode 100644 data/gpepp/2022-05-24T04:59:19.512.wav\n",
      "   sleeping for 540s\n"
     ]
    },
    {
     "name": "stderr",
     "output_type": "stream",
     "text": [
      "fatal: unable to access 'https://github.com/aubreymoore/good-vibrations.git/': Could not resolve host: github.com\n"
     ]
    },
    {
     "name": "stdout",
     "output_type": "stream",
     "text": [
      "94 of 100000\n",
      "   recording for 60s; saving to /home/pi/good-vibrations/data/gpepp/2022-05-24T05:09:20.235.wav\n",
      "   uploading data to GitHub\n",
      "Already up to date.\n",
      "[main c82f054] record_wav\n",
      " 2 files changed, 34 insertions(+), 1 deletion(-)\n",
      " create mode 100644 data/gpepp/2022-05-24T05:09:20.235.wav\n"
     ]
    },
    {
     "name": "stderr",
     "output_type": "stream",
     "text": [
      "To https://github.com/aubreymoore/good-vibrations.git\n",
      "   5414daa..c82f054  main -> main\n"
     ]
    },
    {
     "name": "stdout",
     "output_type": "stream",
     "text": [
      "   sleeping for 540s\n",
      "95 of 100000\n",
      "   recording for 60s; saving to /home/pi/good-vibrations/data/gpepp/2022-05-24T05:19:28.399.wav\n",
      "   uploading data to GitHub\n",
      "Already up to date.\n",
      "[main e1d50de] record_wav\n",
      " 2 files changed, 23 insertions(+), 1 deletion(-)\n",
      " create mode 100644 data/gpepp/2022-05-24T05:19:28.399.wav\n"
     ]
    },
    {
     "name": "stderr",
     "output_type": "stream",
     "text": [
      "To https://github.com/aubreymoore/good-vibrations.git\n",
      "   c82f054..e1d50de  main -> main\n"
     ]
    },
    {
     "name": "stdout",
     "output_type": "stream",
     "text": [
      "   sleeping for 540s\n",
      "96 of 100000\n",
      "   recording for 60s; saving to /home/pi/good-vibrations/data/gpepp/2022-05-24T05:29:34.959.wav\n",
      "   uploading data to GitHub\n",
      "Already up to date.\n",
      "[main 109c0cb] record_wav\n",
      " 2 files changed, 21 insertions(+), 1 deletion(-)\n",
      " create mode 100644 data/gpepp/2022-05-24T05:29:34.959.wav\n"
     ]
    },
    {
     "name": "stderr",
     "output_type": "stream",
     "text": [
      "To https://github.com/aubreymoore/good-vibrations.git\n",
      "   e1d50de..109c0cb  main -> main\n"
     ]
    },
    {
     "name": "stdout",
     "output_type": "stream",
     "text": [
      "   sleeping for 540s\n",
      "97 of 100000\n",
      "   recording for 60s; saving to /home/pi/good-vibrations/data/gpepp/2022-05-24T05:39:43.535.wav\n",
      "   uploading data to GitHub\n",
      "Already up to date.\n",
      "[main f333741] record_wav\n",
      " 2 files changed, 22 insertions(+)\n",
      " create mode 100644 data/gpepp/2022-05-24T05:39:43.535.wav\n"
     ]
    },
    {
     "name": "stderr",
     "output_type": "stream",
     "text": [
      "To https://github.com/aubreymoore/good-vibrations.git\n",
      "   109c0cb..f333741  main -> main\n"
     ]
    },
    {
     "name": "stdout",
     "output_type": "stream",
     "text": [
      "   sleeping for 540s\n",
      "98 of 100000\n",
      "   recording for 60s; saving to /home/pi/good-vibrations/data/gpepp/2022-05-24T05:49:50.179.wav\n",
      "   uploading data to GitHub\n",
      "Already up to date.\n",
      "[main 6009ac4] record_wav\n",
      " 2 files changed, 22 insertions(+)\n",
      " create mode 100644 data/gpepp/2022-05-24T05:49:50.179.wav\n"
     ]
    },
    {
     "name": "stderr",
     "output_type": "stream",
     "text": [
      "To https://github.com/aubreymoore/good-vibrations.git\n",
      "   f333741..6009ac4  main -> main\n"
     ]
    },
    {
     "name": "stdout",
     "output_type": "stream",
     "text": [
      "   sleeping for 540s\n",
      "99 of 100000\n",
      "   recording for 60s; saving to /home/pi/good-vibrations/data/gpepp/2022-05-24T05:59:56.659.wav\n",
      "   uploading data to GitHub\n",
      "Already up to date.\n",
      "[main 817f1c6] record_wav\n",
      " 2 files changed, 22 insertions(+)\n",
      " create mode 100644 data/gpepp/2022-05-24T05:59:56.659.wav\n"
     ]
    },
    {
     "name": "stderr",
     "output_type": "stream",
     "text": [
      "To https://github.com/aubreymoore/good-vibrations.git\n",
      "   6009ac4..817f1c6  main -> main\n"
     ]
    },
    {
     "name": "stdout",
     "output_type": "stream",
     "text": [
      "   sleeping for 540s\n",
      "100 of 100000\n",
      "   recording for 60s; saving to /home/pi/good-vibrations/data/gpepp/2022-05-24T06:10:03.379.wav\n",
      "   uploading data to GitHub\n",
      "Already up to date.\n",
      "[main 0352516] record_wav\n",
      " 2 files changed, 22 insertions(+)\n",
      " create mode 100644 data/gpepp/2022-05-24T06:10:03.379.wav\n"
     ]
    },
    {
     "name": "stderr",
     "output_type": "stream",
     "text": [
      "To https://github.com/aubreymoore/good-vibrations.git\n",
      "   817f1c6..0352516  main -> main\n"
     ]
    },
    {
     "name": "stdout",
     "output_type": "stream",
     "text": [
      "   sleeping for 540s\n",
      "101 of 100000\n",
      "   recording for 60s; saving to /home/pi/good-vibrations/data/gpepp/2022-05-24T06:20:09.823.wav\n",
      "   uploading data to GitHub\n",
      "Already up to date.\n",
      "[main 62e5971] record_wav\n",
      " 2 files changed, 22 insertions(+)\n",
      " create mode 100644 data/gpepp/2022-05-24T06:20:09.823.wav\n"
     ]
    },
    {
     "name": "stderr",
     "output_type": "stream",
     "text": [
      "To https://github.com/aubreymoore/good-vibrations.git\n",
      "   0352516..62e5971  main -> main\n"
     ]
    },
    {
     "name": "stdout",
     "output_type": "stream",
     "text": [
      "   sleeping for 540s\n",
      "102 of 100000\n",
      "   recording for 60s; saving to /home/pi/good-vibrations/data/gpepp/2022-05-24T06:30:17.319.wav\n",
      "   uploading data to GitHub\n",
      "Already up to date.\n",
      "[main 7437558] record_wav\n",
      " 2 files changed, 22 insertions(+)\n",
      " create mode 100644 data/gpepp/2022-05-24T06:30:17.319.wav\n"
     ]
    },
    {
     "name": "stderr",
     "output_type": "stream",
     "text": [
      "To https://github.com/aubreymoore/good-vibrations.git\n",
      "   62e5971..7437558  main -> main\n"
     ]
    },
    {
     "name": "stdout",
     "output_type": "stream",
     "text": [
      "   sleeping for 540s\n",
      "103 of 100000\n",
      "   recording for 60s; saving to /home/pi/good-vibrations/data/gpepp/2022-05-24T06:40:23.693.wav\n",
      "   uploading data to GitHub\n",
      "Already up to date.\n",
      "[main d26d9c5] record_wav\n",
      " 2 files changed, 22 insertions(+)\n",
      " create mode 100644 data/gpepp/2022-05-24T06:40:23.693.wav\n"
     ]
    },
    {
     "name": "stderr",
     "output_type": "stream",
     "text": [
      "To https://github.com/aubreymoore/good-vibrations.git\n",
      "   7437558..d26d9c5  main -> main\n"
     ]
    },
    {
     "name": "stdout",
     "output_type": "stream",
     "text": [
      "   sleeping for 540s\n",
      "104 of 100000\n",
      "   recording for 60s; saving to /home/pi/good-vibrations/data/gpepp/2022-05-24T06:50:30.349.wav\n",
      "   uploading data to GitHub\n",
      "Already up to date.\n",
      "[main 80be3f3] record_wav\n",
      " 2 files changed, 22 insertions(+)\n",
      " create mode 100644 data/gpepp/2022-05-24T06:50:30.349.wav\n"
     ]
    },
    {
     "name": "stderr",
     "output_type": "stream",
     "text": [
      "To https://github.com/aubreymoore/good-vibrations.git\n",
      "   d26d9c5..80be3f3  main -> main\n"
     ]
    },
    {
     "name": "stdout",
     "output_type": "stream",
     "text": [
      "   sleeping for 540s\n",
      "105 of 100000\n",
      "   recording for 60s; saving to /home/pi/good-vibrations/data/gpepp/2022-05-24T07:00:37.014.wav\n",
      "   uploading data to GitHub\n",
      "Already up to date.\n",
      "[main 98de288] record_wav\n",
      " 2 files changed, 22 insertions(+)\n",
      " create mode 100644 data/gpepp/2022-05-24T07:00:37.014.wav\n"
     ]
    },
    {
     "name": "stderr",
     "output_type": "stream",
     "text": [
      "To https://github.com/aubreymoore/good-vibrations.git\n",
      "   80be3f3..98de288  main -> main\n"
     ]
    },
    {
     "name": "stdout",
     "output_type": "stream",
     "text": [
      "   sleeping for 540s\n",
      "106 of 100000\n",
      "   recording for 60s; saving to /home/pi/good-vibrations/data/gpepp/2022-05-24T07:10:46.124.wav\n",
      "   uploading data to GitHub\n",
      "Already up to date.\n",
      "[main f336477] record_wav\n",
      " 2 files changed, 26 insertions(+), 1 deletion(-)\n",
      " create mode 100644 data/gpepp/2022-05-24T07:10:46.124.wav\n"
     ]
    },
    {
     "name": "stderr",
     "output_type": "stream",
     "text": [
      "To https://github.com/aubreymoore/good-vibrations.git\n",
      "   98de288..f336477  main -> main\n"
     ]
    },
    {
     "name": "stdout",
     "output_type": "stream",
     "text": [
      "   sleeping for 540s\n",
      "107 of 100000\n",
      "   recording for 60s; saving to /home/pi/good-vibrations/data/gpepp/2022-05-24T07:21:10.079.wav\n",
      "   uploading data to GitHub\n",
      "Already up to date.\n",
      "[main c1c040d] record_wav\n",
      " 2 files changed, 22 insertions(+), 1 deletion(-)\n",
      " create mode 100644 data/gpepp/2022-05-24T07:21:10.079.wav\n"
     ]
    },
    {
     "name": "stderr",
     "output_type": "stream",
     "text": [
      "To https://github.com/aubreymoore/good-vibrations.git\n",
      "   f336477..c1c040d  main -> main\n"
     ]
    },
    {
     "name": "stdout",
     "output_type": "stream",
     "text": [
      "   sleeping for 540s\n",
      "108 of 100000\n",
      "   recording for 60s; saving to /home/pi/good-vibrations/data/gpepp/2022-05-24T07:31:16.639.wav\n",
      "   uploading data to GitHub\n",
      "Already up to date.\n",
      "[main eeaf301] record_wav\n",
      " 2 files changed, 23 insertions(+), 1 deletion(-)\n",
      " create mode 100644 data/gpepp/2022-05-24T07:31:16.639.wav\n"
     ]
    },
    {
     "name": "stderr",
     "output_type": "stream",
     "text": [
      "To https://github.com/aubreymoore/good-vibrations.git\n",
      "   c1c040d..eeaf301  main -> main\n"
     ]
    },
    {
     "name": "stdout",
     "output_type": "stream",
     "text": [
      "   sleeping for 540s\n",
      "109 of 100000\n",
      "   recording for 60s; saving to /home/pi/good-vibrations/data/gpepp/2022-05-24T07:41:22.999.wav\n",
      "   uploading data to GitHub\n",
      "Already up to date.\n",
      "[main 2878cbe] record_wav\n",
      " 2 files changed, 23 insertions(+), 1 deletion(-)\n",
      " create mode 100644 data/gpepp/2022-05-24T07:41:22.999.wav\n"
     ]
    },
    {
     "name": "stderr",
     "output_type": "stream",
     "text": [
      "To https://github.com/aubreymoore/good-vibrations.git\n",
      "   eeaf301..2878cbe  main -> main\n"
     ]
    },
    {
     "name": "stdout",
     "output_type": "stream",
     "text": [
      "   sleeping for 540s\n",
      "110 of 100000\n",
      "   recording for 60s; saving to /home/pi/good-vibrations/data/gpepp/2022-05-24T07:51:29.359.wav\n",
      "   uploading data to GitHub\n",
      "Already up to date.\n",
      "[main 0a558fe] record_wav\n",
      " 2 files changed, 23 insertions(+), 1 deletion(-)\n",
      " create mode 100644 data/gpepp/2022-05-24T07:51:29.359.wav\n"
     ]
    },
    {
     "name": "stderr",
     "output_type": "stream",
     "text": [
      "To https://github.com/aubreymoore/good-vibrations.git\n",
      "   2878cbe..0a558fe  main -> main\n"
     ]
    },
    {
     "name": "stdout",
     "output_type": "stream",
     "text": [
      "   sleeping for 540s\n",
      "111 of 100000\n",
      "   recording for 60s; saving to /home/pi/good-vibrations/data/gpepp/2022-05-24T08:01:35.859.wav\n",
      "   uploading data to GitHub\n",
      "Already up to date.\n",
      "[main 7865209] record_wav\n",
      " 2 files changed, 23 insertions(+), 1 deletion(-)\n",
      " create mode 100644 data/gpepp/2022-05-24T08:01:35.859.wav\n"
     ]
    },
    {
     "name": "stderr",
     "output_type": "stream",
     "text": [
      "To https://github.com/aubreymoore/good-vibrations.git\n",
      "   0a558fe..7865209  main -> main\n"
     ]
    },
    {
     "name": "stdout",
     "output_type": "stream",
     "text": [
      "   sleeping for 540s\n",
      "112 of 100000\n",
      "   recording for 60s; saving to /home/pi/good-vibrations/data/gpepp/2022-05-24T08:11:44.251.wav\n",
      "   uploading data to GitHub\n",
      "Already up to date.\n",
      "[main 06f8b8f] record_wav\n",
      " 2 files changed, 23 insertions(+), 1 deletion(-)\n",
      " create mode 100644 data/gpepp/2022-05-24T08:11:44.251.wav\n"
     ]
    },
    {
     "name": "stderr",
     "output_type": "stream",
     "text": [
      "To https://github.com/aubreymoore/good-vibrations.git\n",
      "   7865209..06f8b8f  main -> main\n"
     ]
    },
    {
     "name": "stdout",
     "output_type": "stream",
     "text": [
      "   sleeping for 540s\n",
      "113 of 100000\n",
      "   recording for 60s; saving to /home/pi/good-vibrations/data/gpepp/2022-05-24T08:22:02.202.wav\n",
      "   uploading data to GitHub\n",
      "Already up to date.\n",
      "[main 1959874] record_wav\n",
      " 2 files changed, 21 insertions(+), 1 deletion(-)\n",
      " create mode 100644 data/gpepp/2022-05-24T08:22:02.202.wav\n"
     ]
    },
    {
     "name": "stderr",
     "output_type": "stream",
     "text": [
      "To https://github.com/aubreymoore/good-vibrations.git\n",
      "   06f8b8f..1959874  main -> main\n"
     ]
    },
    {
     "name": "stdout",
     "output_type": "stream",
     "text": [
      "   sleeping for 540s\n",
      "114 of 100000\n",
      "   recording for 60s; saving to /home/pi/good-vibrations/data/gpepp/2022-05-24T08:32:08.633.wav\n",
      "   uploading data to GitHub\n",
      "Already up to date.\n",
      "[main 4aec80a] record_wav\n",
      " 2 files changed, 22 insertions(+)\n",
      " create mode 100644 data/gpepp/2022-05-24T08:32:08.633.wav\n"
     ]
    },
    {
     "name": "stderr",
     "output_type": "stream",
     "text": [
      "To https://github.com/aubreymoore/good-vibrations.git\n",
      "   1959874..4aec80a  main -> main\n"
     ]
    },
    {
     "name": "stdout",
     "output_type": "stream",
     "text": [
      "   sleeping for 540s\n",
      "115 of 100000\n",
      "   recording for 60s; saving to /home/pi/good-vibrations/data/gpepp/2022-05-24T08:42:15.279.wav\n",
      "   uploading data to GitHub\n",
      "Already up to date.\n",
      "[main 23c8619] record_wav\n",
      " 2 files changed, 22 insertions(+)\n",
      " create mode 100644 data/gpepp/2022-05-24T08:42:15.279.wav\n"
     ]
    },
    {
     "name": "stderr",
     "output_type": "stream",
     "text": [
      "To https://github.com/aubreymoore/good-vibrations.git\n",
      "   4aec80a..23c8619  main -> main\n"
     ]
    },
    {
     "name": "stdout",
     "output_type": "stream",
     "text": [
      "   sleeping for 540s\n",
      "116 of 100000\n",
      "   recording for 60s; saving to /home/pi/good-vibrations/data/gpepp/2022-05-24T08:52:21.767.wav\n",
      "   uploading data to GitHub\n"
     ]
    },
    {
     "name": "stderr",
     "output_type": "stream",
     "text": [
      "fatal: unable to access 'https://github.com/aubreymoore/good-vibrations.git/': Could not resolve host: github.com\n"
     ]
    },
    {
     "name": "stdout",
     "output_type": "stream",
     "text": [
      "[main dd4a058] record_wav\n",
      " 2 files changed, 22 insertions(+)\n",
      " create mode 100644 data/gpepp/2022-05-24T08:52:21.767.wav\n",
      "   sleeping for 540s\n"
     ]
    },
    {
     "name": "stderr",
     "output_type": "stream",
     "text": [
      "fatal: unable to access 'https://github.com/aubreymoore/good-vibrations.git/': Could not resolve host: github.com\n"
     ]
    },
    {
     "name": "stdout",
     "output_type": "stream",
     "text": [
      "117 of 100000\n",
      "   recording for 60s; saving to /home/pi/good-vibrations/data/gpepp/2022-05-24T09:02:22.428.wav\n",
      "   uploading data to GitHub\n",
      "Already up to date.\n",
      "[main 9b6f04d] record_wav\n",
      " 2 files changed, 27 insertions(+)\n",
      " create mode 100644 data/gpepp/2022-05-24T09:02:22.428.wav\n"
     ]
    },
    {
     "name": "stderr",
     "output_type": "stream",
     "text": [
      "To https://github.com/aubreymoore/good-vibrations.git\n",
      "   23c8619..9b6f04d  main -> main\n"
     ]
    },
    {
     "name": "stdout",
     "output_type": "stream",
     "text": [
      "   sleeping for 540s\n",
      "118 of 100000\n",
      "   recording for 60s; saving to /home/pi/good-vibrations/data/gpepp/2022-05-24T09:12:30.200.wav\n",
      "   uploading data to GitHub\n",
      "Already up to date.\n",
      "[main 76ec66e] record_wav\n",
      " 2 files changed, 28 insertions(+)\n",
      " create mode 100644 data/gpepp/2022-05-24T09:12:30.200.wav\n"
     ]
    },
    {
     "name": "stderr",
     "output_type": "stream",
     "text": [
      "To https://github.com/aubreymoore/good-vibrations.git\n",
      "   9b6f04d..76ec66e  main -> main\n"
     ]
    },
    {
     "name": "stdout",
     "output_type": "stream",
     "text": [
      "   sleeping for 540s\n"
     ]
    }
   ],
   "source": [
    "# MAIN\n",
    "\n",
    "print('STARTING')\n",
    "Path(OUTPUTDIR).mkdir(parents=True, exist_ok=True)   # ensure existence of OUTPUTDIR\n",
    "nrec = 1\n",
    "while nrec <= MAX_RECORDINGS:\n",
    "    print(f'{nrec} of {MAX_RECORDINGS}')\n",
    "    timestamp = datetime.datetime.now().isoformat()[:-3]\n",
    "    # timestamp = timestamp.replace(':', '-').replace('.', '-')   # git doesn't like colons\n",
    "    filepath = f'{OUTPUTDIR}/{timestamp}.wav'\n",
    "    print(f'   recording for {DURATION}s; saving to {filepath}')\n",
    "    record_wav_file(filepath, DURATION, SAMPLERATE, CHANNELS)\n",
    "    print('   uploading data to GitHub') \n",
    "    update_github()\n",
    "    nrec += 1\n",
    "    print(f'   sleeping for {SLEEP}s')\n",
    "    time.sleep(SLEEP)\n",
    "print('FINISHED')\n",
    "update_github()"
   ]
  }
 ],
 "metadata": {
  "kernelspec": {
   "display_name": "Python 3 (ipykernel)",
   "language": "python",
   "name": "python3"
  },
  "language_info": {
   "codemirror_mode": {
    "name": "ipython",
    "version": 3
   },
   "file_extension": ".py",
   "mimetype": "text/x-python",
   "name": "python",
   "nbconvert_exporter": "python",
   "pygments_lexer": "ipython3",
   "version": "3.7.3"
  }
 },
 "nbformat": 4,
 "nbformat_minor": 5
}

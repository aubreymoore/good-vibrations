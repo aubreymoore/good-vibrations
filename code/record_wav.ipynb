{
 "cells": [
  {
   "cell_type": "code",
   "execution_count": 6,
   "id": "3ff0b422",
   "metadata": {},
   "outputs": [],
   "source": [
    "import os\n",
    "from pathlib import Path\n",
    "import sounddevice as sd\n",
    "import soundfile as sf\n",
    "import datetime\n",
    "import time"
   ]
  },
  {
   "cell_type": "code",
   "execution_count": 7,
   "id": "5c768fd5-c85e-419a-a28d-001583d33dcc",
   "metadata": {
    "tags": [
     "parameters"
    ]
   },
   "outputs": [],
   "source": [
    "# This cell is tagged as \"parameters\" to allow using papermill\n",
    "\n",
    "MAX_RECORDINGS = 100000\n",
    "OUTPUTDIR = '/home/pi/good-vibrations/data/gpepp'\n",
    "DURATION = 1*60     # seconds\n",
    "SLEEP =    9*60     # seconds\n",
    "SAMPLERATE = 8000   # samples per second\n",
    "CHANNELS = 1        # 1 = mono; 2 = stereo"
   ]
  },
  {
   "cell_type": "code",
   "execution_count": 8,
   "id": "fb4da313-dede-43b9-be64-71626f357033",
   "metadata": {},
   "outputs": [],
   "source": [
    "def record_wav_file(filepath, seconds, samplerate, channels): \n",
    "    wav = sd.rec(frames=int(seconds*samplerate), samplerate=samplerate, channels=channels)\n",
    "    sd.wait()  # Wait until recording is finished\n",
    "    sf.write(filepath, wav, samplerate)"
   ]
  },
  {
   "cell_type": "code",
   "execution_count": 9,
   "id": "41e6964a-fe11-44e9-b1b9-f898bc7ebf75",
   "metadata": {},
   "outputs": [
    {
     "name": "stdout",
     "output_type": "stream",
     "text": [
      "CPU times: user 25 µs, sys: 11 µs, total: 36 µs\n",
      "Wall time: 64.4 µs\n"
     ]
    }
   ],
   "source": [
    "%%time\n",
    "\n",
    "def update_github():\n",
    "    \"\"\"\n",
    "    Simply executes a script containing the following:\n",
    "        \n",
    "    cd ..\n",
    "    git pull\n",
    "    git add .\n",
    "    git commit -m 'record_wav'\n",
    "    git push\n",
    "    \n",
    "    \"\"\"\n",
    "\n",
    "    command = f'./update_github.sh'\n",
    "    result = os.system(command)\n",
    "    # assert result==0, f'{command} failed\n",
    "\n",
    "# update_github()"
   ]
  },
  {
   "cell_type": "code",
   "execution_count": null,
   "id": "cbc07bb3-dc6b-4340-af77-378a2a92d623",
   "metadata": {},
   "outputs": [
    {
     "name": "stdout",
     "output_type": "stream",
     "text": [
      "STARTING\n",
      "1 of 100000\n",
      "   recording for 60s; saving to /home/pi/good-vibrations/data/gpepp/2022-05-23T13:13:19.526.wav\n",
      "   uploading data to GitHub\n",
      "Already up to date.\n",
      "[main ff0211b] record_wav\n",
      " 2 files changed, 9 insertions(+), 139 deletions(-)\n",
      " create mode 100644 data/gpepp/2022-05-23T13:13:19.526.wav\n"
     ]
    },
    {
     "name": "stderr",
     "output_type": "stream",
     "text": [
      "To https://github.com/aubreymoore/good-vibrations.git\n",
      "   55bebd4..ff0211b  main -> main\n"
     ]
    },
    {
     "name": "stdout",
     "output_type": "stream",
     "text": [
      "   sleeping for 540s\n",
      "2 of 100000\n",
      "   recording for 60s; saving to /home/pi/good-vibrations/data/gpepp/2022-05-23T13:23:33.519.wav\n",
      "   uploading data to GitHub\n",
      "Already up to date.\n",
      "[main f66c399] record_wav\n",
      " 2 files changed, 23 insertions(+), 1 deletion(-)\n",
      " create mode 100644 data/gpepp/2022-05-23T13:23:33.519.wav\n"
     ]
    },
    {
     "name": "stderr",
     "output_type": "stream",
     "text": [
      "To https://github.com/aubreymoore/good-vibrations.git\n",
      "   ff0211b..f66c399  main -> main\n"
     ]
    },
    {
     "name": "stdout",
     "output_type": "stream",
     "text": [
      "   sleeping for 540s\n",
      "3 of 100000\n",
      "   recording for 60s; saving to /home/pi/good-vibrations/data/gpepp/2022-05-23T13:33:39.999.wav\n",
      "   uploading data to GitHub\n",
      "Already up to date.\n",
      "[main 85d52e5] record_wav\n",
      " 2 files changed, 23 insertions(+), 1 deletion(-)\n",
      " create mode 100644 data/gpepp/2022-05-23T13:33:39.999.wav\n"
     ]
    },
    {
     "name": "stderr",
     "output_type": "stream",
     "text": [
      "To https://github.com/aubreymoore/good-vibrations.git\n",
      "   f66c399..85d52e5  main -> main\n"
     ]
    },
    {
     "name": "stdout",
     "output_type": "stream",
     "text": [
      "   sleeping for 540s\n",
      "4 of 100000\n",
      "   recording for 60s; saving to /home/pi/good-vibrations/data/gpepp/2022-05-23T13:43:51.028.wav\n",
      "   uploading data to GitHub\n",
      "Already up to date.\n",
      "[main b60bfd7] record_wav\n",
      " 2 files changed, 23 insertions(+), 1 deletion(-)\n",
      " create mode 100644 data/gpepp/2022-05-23T13:43:51.028.wav\n"
     ]
    },
    {
     "name": "stderr",
     "output_type": "stream",
     "text": [
      "To https://github.com/aubreymoore/good-vibrations.git\n",
      "   85d52e5..b60bfd7  main -> main\n"
     ]
    },
    {
     "name": "stdout",
     "output_type": "stream",
     "text": [
      "   sleeping for 540s\n",
      "5 of 100000\n",
      "   recording for 60s; saving to /home/pi/good-vibrations/data/gpepp/2022-05-23T13:53:57.366.wav\n",
      "   uploading data to GitHub\n",
      "Already up to date.\n",
      "[main 7a55a19] record_wav\n",
      " 2 files changed, 23 insertions(+), 1 deletion(-)\n",
      " create mode 100644 data/gpepp/2022-05-23T13:53:57.366.wav\n"
     ]
    },
    {
     "name": "stderr",
     "output_type": "stream",
     "text": [
      "To https://github.com/aubreymoore/good-vibrations.git\n",
      "   b60bfd7..7a55a19  main -> main\n"
     ]
    },
    {
     "name": "stdout",
     "output_type": "stream",
     "text": [
      "   sleeping for 540s\n",
      "6 of 100000\n",
      "   recording for 60s; saving to /home/pi/good-vibrations/data/gpepp/2022-05-23T14:04:03.859.wav\n",
      "   uploading data to GitHub\n",
      "Already up to date.\n",
      "[main eb332f1] record_wav\n",
      " 2 files changed, 23 insertions(+), 1 deletion(-)\n",
      " create mode 100644 data/gpepp/2022-05-23T14:04:03.859.wav\n"
     ]
    },
    {
     "name": "stderr",
     "output_type": "stream",
     "text": [
      "To https://github.com/aubreymoore/good-vibrations.git\n",
      "   7a55a19..eb332f1  main -> main\n"
     ]
    },
    {
     "name": "stdout",
     "output_type": "stream",
     "text": [
      "   sleeping for 540s\n",
      "7 of 100000\n",
      "   recording for 60s; saving to /home/pi/good-vibrations/data/gpepp/2022-05-23T14:14:10.494.wav\n",
      "   uploading data to GitHub\n",
      "Already up to date.\n",
      "[main 606668e] record_wav\n",
      " 2 files changed, 23 insertions(+), 1 deletion(-)\n",
      " create mode 100644 data/gpepp/2022-05-23T14:14:10.494.wav\n"
     ]
    },
    {
     "name": "stderr",
     "output_type": "stream",
     "text": [
      "To https://github.com/aubreymoore/good-vibrations.git\n",
      "   eb332f1..606668e  main -> main\n"
     ]
    },
    {
     "name": "stdout",
     "output_type": "stream",
     "text": [
      "   sleeping for 540s\n",
      "8 of 100000\n",
      "   recording for 60s; saving to /home/pi/good-vibrations/data/gpepp/2022-05-23T14:24:17.696.wav\n",
      "   uploading data to GitHub\n",
      "Already up to date.\n",
      "[main 413856f] record_wav\n",
      " 2 files changed, 23 insertions(+), 1 deletion(-)\n",
      " create mode 100644 data/gpepp/2022-05-23T14:24:17.696.wav\n"
     ]
    },
    {
     "name": "stderr",
     "output_type": "stream",
     "text": [
      "To https://github.com/aubreymoore/good-vibrations.git\n",
      "   606668e..413856f  main -> main\n"
     ]
    },
    {
     "name": "stdout",
     "output_type": "stream",
     "text": [
      "   sleeping for 540s\n",
      "9 of 100000\n",
      "   recording for 60s; saving to /home/pi/good-vibrations/data/gpepp/2022-05-23T14:34:23.999.wav\n",
      "   uploading data to GitHub\n",
      "Already up to date.\n",
      "[main 74ed9c9] record_wav\n",
      " 2 files changed, 21 insertions(+), 1 deletion(-)\n",
      " create mode 100644 data/gpepp/2022-05-23T14:34:23.999.wav\n"
     ]
    },
    {
     "name": "stderr",
     "output_type": "stream",
     "text": [
      "To https://github.com/aubreymoore/good-vibrations.git\n",
      "   413856f..74ed9c9  main -> main\n"
     ]
    },
    {
     "name": "stdout",
     "output_type": "stream",
     "text": [
      "   sleeping for 540s\n",
      "10 of 100000\n",
      "   recording for 60s; saving to /home/pi/good-vibrations/data/gpepp/2022-05-23T14:44:30.527.wav\n",
      "   uploading data to GitHub\n",
      "Already up to date.\n",
      "[main 72b35e3] record_wav\n",
      " 2 files changed, 22 insertions(+)\n",
      " create mode 100644 data/gpepp/2022-05-23T14:44:30.527.wav\n"
     ]
    },
    {
     "name": "stderr",
     "output_type": "stream",
     "text": [
      "To https://github.com/aubreymoore/good-vibrations.git\n",
      "   74ed9c9..72b35e3  main -> main\n"
     ]
    },
    {
     "name": "stdout",
     "output_type": "stream",
     "text": [
      "   sleeping for 540s\n",
      "11 of 100000\n",
      "   recording for 60s; saving to /home/pi/good-vibrations/data/gpepp/2022-05-23T14:54:36.769.wav\n",
      "   uploading data to GitHub\n",
      "Already up to date.\n",
      "[main c4f667f] record_wav\n",
      " 2 files changed, 22 insertions(+)\n",
      " create mode 100644 data/gpepp/2022-05-23T14:54:36.769.wav\n"
     ]
    },
    {
     "name": "stderr",
     "output_type": "stream",
     "text": [
      "To https://github.com/aubreymoore/good-vibrations.git\n",
      "   72b35e3..c4f667f  main -> main\n"
     ]
    },
    {
     "name": "stdout",
     "output_type": "stream",
     "text": [
      "   sleeping for 540s\n",
      "12 of 100000\n",
      "   recording for 60s; saving to /home/pi/good-vibrations/data/gpepp/2022-05-23T15:04:43.299.wav\n",
      "   uploading data to GitHub\n",
      "Already up to date.\n",
      "[main 253ef2f] record_wav\n",
      " 2 files changed, 22 insertions(+)\n",
      " create mode 100644 data/gpepp/2022-05-23T15:04:43.299.wav\n"
     ]
    },
    {
     "name": "stderr",
     "output_type": "stream",
     "text": [
      "To https://github.com/aubreymoore/good-vibrations.git\n",
      "   c4f667f..253ef2f  main -> main\n"
     ]
    },
    {
     "name": "stdout",
     "output_type": "stream",
     "text": [
      "   sleeping for 540s\n",
      "13 of 100000\n",
      "   recording for 60s; saving to /home/pi/good-vibrations/data/gpepp/2022-05-23T15:14:49.749.wav\n",
      "   uploading data to GitHub\n",
      "Already up to date.\n",
      "[main 0329d54] record_wav\n",
      " 2 files changed, 22 insertions(+)\n",
      " create mode 100644 data/gpepp/2022-05-23T15:14:49.749.wav\n"
     ]
    },
    {
     "name": "stderr",
     "output_type": "stream",
     "text": [
      "To https://github.com/aubreymoore/good-vibrations.git\n",
      "   253ef2f..0329d54  main -> main\n"
     ]
    },
    {
     "name": "stdout",
     "output_type": "stream",
     "text": [
      "   sleeping for 540s\n",
      "14 of 100000\n",
      "   recording for 60s; saving to /home/pi/good-vibrations/data/gpepp/2022-05-23T15:25:03.209.wav\n",
      "   uploading data to GitHub\n",
      "Already up to date.\n",
      "[main 121d958] record_wav\n",
      " 2 files changed, 22 insertions(+)\n",
      " create mode 100644 data/gpepp/2022-05-23T15:25:03.209.wav\n"
     ]
    },
    {
     "name": "stderr",
     "output_type": "stream",
     "text": [
      "To https://github.com/aubreymoore/good-vibrations.git\n",
      "   0329d54..121d958  main -> main\n"
     ]
    },
    {
     "name": "stdout",
     "output_type": "stream",
     "text": [
      "   sleeping for 540s\n",
      "15 of 100000\n",
      "   recording for 60s; saving to /home/pi/good-vibrations/data/gpepp/2022-05-23T15:35:09.767.wav\n",
      "   uploading data to GitHub\n",
      "Already up to date.\n",
      "[main f195805] record_wav\n",
      " 2 files changed, 22 insertions(+)\n",
      " create mode 100644 data/gpepp/2022-05-23T15:35:09.767.wav\n"
     ]
    },
    {
     "name": "stderr",
     "output_type": "stream",
     "text": [
      "To https://github.com/aubreymoore/good-vibrations.git\n",
      "   121d958..f195805  main -> main\n"
     ]
    },
    {
     "name": "stdout",
     "output_type": "stream",
     "text": [
      "   sleeping for 540s\n",
      "16 of 100000\n",
      "   recording for 60s; saving to /home/pi/good-vibrations/data/gpepp/2022-05-23T15:45:16.613.wav\n",
      "   uploading data to GitHub\n",
      "Already up to date.\n",
      "[main bf4dc2b] record_wav\n",
      " 2 files changed, 22 insertions(+)\n",
      " create mode 100644 data/gpepp/2022-05-23T15:45:16.613.wav\n"
     ]
    },
    {
     "name": "stderr",
     "output_type": "stream",
     "text": [
      "To https://github.com/aubreymoore/good-vibrations.git\n",
      "   f195805..bf4dc2b  main -> main\n"
     ]
    },
    {
     "name": "stdout",
     "output_type": "stream",
     "text": [
      "   sleeping for 540s\n",
      "17 of 100000\n",
      "   recording for 60s; saving to /home/pi/good-vibrations/data/gpepp/2022-05-23T15:55:23.886.wav\n",
      "   uploading data to GitHub\n",
      "Already up to date.\n",
      "[main 8e9abc2] record_wav\n",
      " 2 files changed, 22 insertions(+)\n",
      " create mode 100644 data/gpepp/2022-05-23T15:55:23.886.wav\n"
     ]
    },
    {
     "name": "stderr",
     "output_type": "stream",
     "text": [
      "To https://github.com/aubreymoore/good-vibrations.git\n",
      "   bf4dc2b..8e9abc2  main -> main\n"
     ]
    },
    {
     "name": "stdout",
     "output_type": "stream",
     "text": [
      "   sleeping for 540s\n",
      "18 of 100000\n",
      "   recording for 60s; saving to /home/pi/good-vibrations/data/gpepp/2022-05-23T16:05:30.355.wav\n",
      "   uploading data to GitHub\n",
      "Already up to date.\n",
      "[main 97c1684] record_wav\n",
      " 2 files changed, 25 insertions(+), 1 deletion(-)\n",
      " create mode 100644 data/gpepp/2022-05-23T16:05:30.355.wav\n"
     ]
    },
    {
     "name": "stderr",
     "output_type": "stream",
     "text": [
      "To https://github.com/aubreymoore/good-vibrations.git\n",
      "   8e9abc2..97c1684  main -> main\n"
     ]
    },
    {
     "name": "stdout",
     "output_type": "stream",
     "text": [
      "   sleeping for 540s\n",
      "19 of 100000\n",
      "   recording for 60s; saving to /home/pi/good-vibrations/data/gpepp/2022-05-23T16:15:36.710.wav\n",
      "   uploading data to GitHub\n",
      "Already up to date.\n",
      "[main 15f9a22] record_wav\n",
      " 2 files changed, 23 insertions(+), 1 deletion(-)\n",
      " create mode 100644 data/gpepp/2022-05-23T16:15:36.710.wav\n"
     ]
    },
    {
     "name": "stderr",
     "output_type": "stream",
     "text": [
      "To https://github.com/aubreymoore/good-vibrations.git\n",
      "   97c1684..15f9a22  main -> main\n"
     ]
    },
    {
     "name": "stdout",
     "output_type": "stream",
     "text": [
      "   sleeping for 540s\n",
      "20 of 100000\n",
      "   recording for 60s; saving to /home/pi/good-vibrations/data/gpepp/2022-05-23T16:25:43.933.wav\n",
      "   uploading data to GitHub\n",
      "Already up to date.\n",
      "[main adcdb6e] record_wav\n",
      " 2 files changed, 23 insertions(+), 1 deletion(-)\n",
      " create mode 100644 data/gpepp/2022-05-23T16:25:43.933.wav\n"
     ]
    },
    {
     "name": "stderr",
     "output_type": "stream",
     "text": [
      "To https://github.com/aubreymoore/good-vibrations.git\n",
      "   15f9a22..adcdb6e  main -> main\n"
     ]
    },
    {
     "name": "stdout",
     "output_type": "stream",
     "text": [
      "   sleeping for 540s\n",
      "21 of 100000\n",
      "   recording for 60s; saving to /home/pi/good-vibrations/data/gpepp/2022-05-23T16:35:50.399.wav\n",
      "   uploading data to GitHub\n",
      "Already up to date.\n",
      "[main 7d81350] record_wav\n",
      " 2 files changed, 23 insertions(+), 1 deletion(-)\n",
      " create mode 100644 data/gpepp/2022-05-23T16:35:50.399.wav\n"
     ]
    },
    {
     "name": "stderr",
     "output_type": "stream",
     "text": [
      "To https://github.com/aubreymoore/good-vibrations.git\n",
      "   adcdb6e..7d81350  main -> main\n"
     ]
    },
    {
     "name": "stdout",
     "output_type": "stream",
     "text": [
      "   sleeping for 540s\n",
      "22 of 100000\n",
      "   recording for 60s; saving to /home/pi/good-vibrations/data/gpepp/2022-05-23T16:45:57.249.wav\n",
      "   uploading data to GitHub\n",
      "Already up to date.\n",
      "[main 5f6e3f6] record_wav\n",
      " 2 files changed, 23 insertions(+), 1 deletion(-)\n",
      " create mode 100644 data/gpepp/2022-05-23T16:45:57.249.wav\n"
     ]
    },
    {
     "name": "stderr",
     "output_type": "stream",
     "text": [
      "To https://github.com/aubreymoore/good-vibrations.git\n",
      "   7d81350..5f6e3f6  main -> main\n"
     ]
    },
    {
     "name": "stdout",
     "output_type": "stream",
     "text": [
      "   sleeping for 540s\n",
      "23 of 100000\n",
      "   recording for 60s; saving to /home/pi/good-vibrations/data/gpepp/2022-05-23T16:56:08.819.wav\n",
      "   uploading data to GitHub\n",
      "Already up to date.\n",
      "[main 8e3f9fa] record_wav\n",
      " 2 files changed, 23 insertions(+), 1 deletion(-)\n",
      " create mode 100644 data/gpepp/2022-05-23T16:56:08.819.wav\n"
     ]
    },
    {
     "name": "stderr",
     "output_type": "stream",
     "text": [
      "To https://github.com/aubreymoore/good-vibrations.git\n",
      "   5f6e3f6..8e3f9fa  main -> main\n"
     ]
    },
    {
     "name": "stdout",
     "output_type": "stream",
     "text": [
      "   sleeping for 540s\n",
      "24 of 100000\n",
      "   recording for 60s; saving to /home/pi/good-vibrations/data/gpepp/2022-05-23T17:06:15.366.wav\n",
      "   uploading data to GitHub\n",
      "Already up to date.\n",
      "[main 4d72342] record_wav\n",
      " 2 files changed, 23 insertions(+), 1 deletion(-)\n",
      " create mode 100644 data/gpepp/2022-05-23T17:06:15.366.wav\n"
     ]
    },
    {
     "name": "stderr",
     "output_type": "stream",
     "text": [
      "To https://github.com/aubreymoore/good-vibrations.git\n",
      "   8e3f9fa..4d72342  main -> main\n"
     ]
    },
    {
     "name": "stdout",
     "output_type": "stream",
     "text": [
      "   sleeping for 540s\n",
      "25 of 100000\n",
      "   recording for 60s; saving to /home/pi/good-vibrations/data/gpepp/2022-05-23T17:16:23.722.wav\n",
      "   uploading data to GitHub\n",
      "Already up to date.\n",
      "[main 2aaba0e] record_wav\n",
      " 2 files changed, 23 insertions(+), 1 deletion(-)\n",
      " create mode 100644 data/gpepp/2022-05-23T17:16:23.722.wav\n"
     ]
    },
    {
     "name": "stderr",
     "output_type": "stream",
     "text": [
      "To https://github.com/aubreymoore/good-vibrations.git\n",
      "   4d72342..2aaba0e  main -> main\n"
     ]
    },
    {
     "name": "stdout",
     "output_type": "stream",
     "text": [
      "   sleeping for 540s\n",
      "26 of 100000\n",
      "   recording for 60s; saving to /home/pi/good-vibrations/data/gpepp/2022-05-23T17:26:31.889.wav\n",
      "   uploading data to GitHub\n",
      "Already up to date.\n",
      "[main 96b8209] record_wav\n",
      " 2 files changed, 23 insertions(+), 1 deletion(-)\n",
      " create mode 100644 data/gpepp/2022-05-23T17:26:31.889.wav\n"
     ]
    },
    {
     "name": "stderr",
     "output_type": "stream",
     "text": [
      "To https://github.com/aubreymoore/good-vibrations.git\n",
      "   2aaba0e..96b8209  main -> main\n"
     ]
    },
    {
     "name": "stdout",
     "output_type": "stream",
     "text": [
      "   sleeping for 540s\n",
      "27 of 100000\n",
      "   recording for 60s; saving to /home/pi/good-vibrations/data/gpepp/2022-05-23T17:36:39.950.wav\n",
      "   uploading data to GitHub\n"
     ]
    },
    {
     "name": "stderr",
     "output_type": "stream",
     "text": [
      "fatal: unable to access 'https://github.com/aubreymoore/good-vibrations.git/': Could not resolve host: github.com\n"
     ]
    },
    {
     "name": "stdout",
     "output_type": "stream",
     "text": [
      "[main 0d9c507] record_wav\n",
      " 2 files changed, 21 insertions(+), 1 deletion(-)\n",
      " create mode 100644 data/gpepp/2022-05-23T17:36:39.950.wav\n",
      "   sleeping for 540s\n"
     ]
    },
    {
     "name": "stderr",
     "output_type": "stream",
     "text": [
      "fatal: unable to access 'https://github.com/aubreymoore/good-vibrations.git/': Could not resolve host: github.com\n"
     ]
    },
    {
     "name": "stdout",
     "output_type": "stream",
     "text": [
      "28 of 100000\n",
      "   recording for 60s; saving to /home/pi/good-vibrations/data/gpepp/2022-05-23T17:46:40.598.wav\n",
      "   uploading data to GitHub\n",
      "Already up to date.\n",
      "[main d4e7d8e] record_wav\n",
      " 2 files changed, 27 insertions(+)\n",
      " create mode 100644 data/gpepp/2022-05-23T17:46:40.598.wav\n"
     ]
    },
    {
     "name": "stderr",
     "output_type": "stream",
     "text": [
      "To https://github.com/aubreymoore/good-vibrations.git\n",
      "   96b8209..d4e7d8e  main -> main\n"
     ]
    },
    {
     "name": "stdout",
     "output_type": "stream",
     "text": [
      "   sleeping for 540s\n",
      "29 of 100000\n",
      "   recording for 60s; saving to /home/pi/good-vibrations/data/gpepp/2022-05-23T17:56:49.079.wav\n",
      "   uploading data to GitHub\n"
     ]
    },
    {
     "name": "stderr",
     "output_type": "stream",
     "text": [
      "fatal: unable to access 'https://github.com/aubreymoore/good-vibrations.git/': Could not resolve host: github.com\n"
     ]
    },
    {
     "name": "stdout",
     "output_type": "stream",
     "text": [
      "[main 03d60f3] record_wav\n",
      " 2 files changed, 28 insertions(+)\n",
      " create mode 100644 data/gpepp/2022-05-23T17:56:49.079.wav\n",
      "   sleeping for 540s\n"
     ]
    },
    {
     "name": "stderr",
     "output_type": "stream",
     "text": [
      "fatal: unable to access 'https://github.com/aubreymoore/good-vibrations.git/': Could not resolve host: github.com\n"
     ]
    },
    {
     "name": "stdout",
     "output_type": "stream",
     "text": [
      "30 of 100000\n",
      "   recording for 60s; saving to /home/pi/good-vibrations/data/gpepp/2022-05-23T18:06:49.749.wav\n",
      "   uploading data to GitHub\n",
      "Already up to date.\n",
      "[main b9a67bf] record_wav\n",
      " 2 files changed, 27 insertions(+)\n",
      " create mode 100644 data/gpepp/2022-05-23T18:06:49.749.wav\n"
     ]
    },
    {
     "name": "stderr",
     "output_type": "stream",
     "text": [
      "To https://github.com/aubreymoore/good-vibrations.git\n",
      "   d4e7d8e..b9a67bf  main -> main\n"
     ]
    },
    {
     "name": "stdout",
     "output_type": "stream",
     "text": [
      "   sleeping for 540s\n",
      "31 of 100000\n",
      "   recording for 60s; saving to /home/pi/good-vibrations/data/gpepp/2022-05-23T18:17:05.189.wav\n",
      "   uploading data to GitHub\n",
      "Already up to date.\n",
      "[main 5b32679] record_wav\n",
      " 2 files changed, 28 insertions(+)\n",
      " create mode 100644 data/gpepp/2022-05-23T18:17:05.189.wav\n"
     ]
    },
    {
     "name": "stderr",
     "output_type": "stream",
     "text": [
      "To https://github.com/aubreymoore/good-vibrations.git\n",
      "   b9a67bf..5b32679  main -> main\n"
     ]
    },
    {
     "name": "stdout",
     "output_type": "stream",
     "text": [
      "   sleeping for 540s\n",
      "32 of 100000\n",
      "   recording for 60s; saving to /home/pi/good-vibrations/data/gpepp/2022-05-23T18:27:11.839.wav\n",
      "   uploading data to GitHub\n",
      "Already up to date.\n",
      "[main e46ef6e] record_wav\n",
      " 2 files changed, 22 insertions(+)\n",
      " create mode 100644 data/gpepp/2022-05-23T18:27:11.839.wav\n"
     ]
    },
    {
     "name": "stderr",
     "output_type": "stream",
     "text": [
      "To https://github.com/aubreymoore/good-vibrations.git\n",
      "   5b32679..e46ef6e  main -> main\n"
     ]
    },
    {
     "name": "stdout",
     "output_type": "stream",
     "text": [
      "   sleeping for 540s\n",
      "33 of 100000\n",
      "   recording for 60s; saving to /home/pi/good-vibrations/data/gpepp/2022-05-23T18:37:19.179.wav\n",
      "   uploading data to GitHub\n",
      "Already up to date.\n",
      "[main 9d9598a] record_wav\n",
      " 2 files changed, 22 insertions(+)\n",
      " create mode 100644 data/gpepp/2022-05-23T18:37:19.179.wav\n"
     ]
    },
    {
     "name": "stderr",
     "output_type": "stream",
     "text": [
      "To https://github.com/aubreymoore/good-vibrations.git\n",
      "   e46ef6e..9d9598a  main -> main\n"
     ]
    },
    {
     "name": "stdout",
     "output_type": "stream",
     "text": [
      "   sleeping for 540s\n",
      "34 of 100000\n",
      "   recording for 60s; saving to /home/pi/good-vibrations/data/gpepp/2022-05-23T18:47:25.529.wav\n",
      "   uploading data to GitHub\n",
      "Already up to date.\n",
      "[main 85d1475] record_wav\n",
      " 2 files changed, 22 insertions(+)\n",
      " create mode 100644 data/gpepp/2022-05-23T18:47:25.529.wav\n"
     ]
    },
    {
     "name": "stderr",
     "output_type": "stream",
     "text": [
      "To https://github.com/aubreymoore/good-vibrations.git\n",
      "   9d9598a..85d1475  main -> main\n"
     ]
    },
    {
     "name": "stdout",
     "output_type": "stream",
     "text": [
      "   sleeping for 540s\n",
      "35 of 100000\n",
      "   recording for 60s; saving to /home/pi/good-vibrations/data/gpepp/2022-05-23T18:57:32.172.wav\n",
      "   uploading data to GitHub\n",
      "Already up to date.\n",
      "[main b274ee6] record_wav\n",
      " 2 files changed, 22 insertions(+)\n",
      " create mode 100644 data/gpepp/2022-05-23T18:57:32.172.wav\n"
     ]
    },
    {
     "name": "stderr",
     "output_type": "stream",
     "text": [
      "To https://github.com/aubreymoore/good-vibrations.git\n",
      "   85d1475..b274ee6  main -> main\n"
     ]
    },
    {
     "name": "stdout",
     "output_type": "stream",
     "text": [
      "   sleeping for 540s\n",
      "36 of 100000\n",
      "   recording for 60s; saving to /home/pi/good-vibrations/data/gpepp/2022-05-23T19:07:38.639.wav\n",
      "   uploading data to GitHub\n",
      "Already up to date.\n",
      "[main 29476a2] record_wav\n",
      " 2 files changed, 22 insertions(+)\n",
      " create mode 100644 data/gpepp/2022-05-23T19:07:38.639.wav\n"
     ]
    },
    {
     "name": "stderr",
     "output_type": "stream",
     "text": [
      "To https://github.com/aubreymoore/good-vibrations.git\n",
      "   b274ee6..29476a2  main -> main\n"
     ]
    },
    {
     "name": "stdout",
     "output_type": "stream",
     "text": [
      "   sleeping for 540s\n",
      "37 of 100000\n",
      "   recording for 60s; saving to /home/pi/good-vibrations/data/gpepp/2022-05-23T19:17:45.749.wav\n",
      "   uploading data to GitHub\n"
     ]
    },
    {
     "name": "stderr",
     "output_type": "stream",
     "text": [
      "fatal: unable to access 'https://github.com/aubreymoore/good-vibrations.git/': Could not resolve host: github.com\n"
     ]
    },
    {
     "name": "stdout",
     "output_type": "stream",
     "text": [
      "[main bbcb8ae] record_wav\n",
      " 2 files changed, 25 insertions(+), 1 deletion(-)\n",
      " create mode 100644 data/gpepp/2022-05-23T19:17:45.749.wav\n"
     ]
    },
    {
     "name": "stderr",
     "output_type": "stream",
     "text": [
      "fatal: unable to access 'https://github.com/aubreymoore/good-vibrations.git/': Could not resolve host: github.com\n"
     ]
    },
    {
     "name": "stdout",
     "output_type": "stream",
     "text": [
      "   sleeping for 540s\n",
      "38 of 100000\n",
      "   recording for 60s; saving to /home/pi/good-vibrations/data/gpepp/2022-05-23T19:28:06.508.wav\n",
      "   uploading data to GitHub\n"
     ]
    },
    {
     "name": "stderr",
     "output_type": "stream",
     "text": [
      "fatal: unable to access 'https://github.com/aubreymoore/good-vibrations.git/': Could not resolve host: github.com\n"
     ]
    },
    {
     "name": "stdout",
     "output_type": "stream",
     "text": [
      "[main cb38e4b] record_wav\n",
      " 2 files changed, 34 insertions(+), 1 deletion(-)\n",
      " create mode 100644 data/gpepp/2022-05-23T19:28:06.508.wav\n"
     ]
    },
    {
     "name": "stderr",
     "output_type": "stream",
     "text": [
      "fatal: unable to access 'https://github.com/aubreymoore/good-vibrations.git/': Could not resolve host: github.com\n"
     ]
    },
    {
     "name": "stdout",
     "output_type": "stream",
     "text": [
      "   sleeping for 540s\n",
      "39 of 100000\n",
      "   recording for 60s; saving to /home/pi/good-vibrations/data/gpepp/2022-05-23T19:38:27.349.wav\n",
      "   uploading data to GitHub\n"
     ]
    },
    {
     "name": "stderr",
     "output_type": "stream",
     "text": [
      "fatal: unable to access 'https://github.com/aubreymoore/good-vibrations.git/': Could not resolve host: github.com\n"
     ]
    },
    {
     "name": "stdout",
     "output_type": "stream",
     "text": [
      "[main edb91b3] record_wav\n",
      " 2 files changed, 34 insertions(+), 1 deletion(-)\n",
      " create mode 100644 data/gpepp/2022-05-23T19:38:27.349.wav\n"
     ]
    },
    {
     "name": "stderr",
     "output_type": "stream",
     "text": [
      "fatal: unable to access 'https://github.com/aubreymoore/good-vibrations.git/': Could not resolve host: github.com\n"
     ]
    },
    {
     "name": "stdout",
     "output_type": "stream",
     "text": [
      "   sleeping for 540s\n",
      "40 of 100000\n",
      "   recording for 60s; saving to /home/pi/good-vibrations/data/gpepp/2022-05-23T19:48:48.130.wav\n",
      "   uploading data to GitHub\n",
      "Already up to date.\n",
      "[main 0c30576] record_wav\n",
      " 2 files changed, 32 insertions(+), 1 deletion(-)\n",
      " create mode 100644 data/gpepp/2022-05-23T19:48:48.130.wav\n"
     ]
    },
    {
     "name": "stderr",
     "output_type": "stream",
     "text": [
      "To https://github.com/aubreymoore/good-vibrations.git\n",
      "   29476a2..0c30576  main -> main\n"
     ]
    },
    {
     "name": "stdout",
     "output_type": "stream",
     "text": [
      "   sleeping for 540s\n",
      "41 of 100000\n",
      "   recording for 60s; saving to /home/pi/good-vibrations/data/gpepp/2022-05-23T19:58:57.370.wav\n",
      "   uploading data to GitHub\n",
      "Already up to date.\n",
      "[main 5a9b5ca] record_wav\n",
      " 2 files changed, 22 insertions(+)\n",
      " create mode 100644 data/gpepp/2022-05-23T19:58:57.370.wav\n"
     ]
    },
    {
     "name": "stderr",
     "output_type": "stream",
     "text": [
      "To https://github.com/aubreymoore/good-vibrations.git\n",
      "   0c30576..5a9b5ca  main -> main\n"
     ]
    },
    {
     "name": "stdout",
     "output_type": "stream",
     "text": [
      "   sleeping for 540s\n",
      "42 of 100000\n",
      "   recording for 60s; saving to /home/pi/good-vibrations/data/gpepp/2022-05-23T20:09:04.143.wav\n",
      "   uploading data to GitHub\n",
      "Already up to date.\n",
      "[main d8a4d81] record_wav\n",
      " 2 files changed, 22 insertions(+)\n",
      " create mode 100644 data/gpepp/2022-05-23T20:09:04.143.wav\n"
     ]
    },
    {
     "name": "stderr",
     "output_type": "stream",
     "text": [
      "To https://github.com/aubreymoore/good-vibrations.git\n",
      "   5a9b5ca..d8a4d81  main -> main\n"
     ]
    },
    {
     "name": "stdout",
     "output_type": "stream",
     "text": [
      "   sleeping for 540s\n",
      "43 of 100000\n",
      "   recording for 60s; saving to /home/pi/good-vibrations/data/gpepp/2022-05-23T20:19:10.699.wav\n",
      "   uploading data to GitHub\n",
      "Already up to date.\n",
      "[main 2d0f2d8] record_wav\n",
      " 2 files changed, 22 insertions(+)\n",
      " create mode 100644 data/gpepp/2022-05-23T20:19:10.699.wav\n"
     ]
    },
    {
     "name": "stderr",
     "output_type": "stream",
     "text": [
      "To https://github.com/aubreymoore/good-vibrations.git\n",
      "   d8a4d81..2d0f2d8  main -> main\n"
     ]
    },
    {
     "name": "stdout",
     "output_type": "stream",
     "text": [
      "   sleeping for 540s\n",
      "44 of 100000\n",
      "   recording for 60s; saving to /home/pi/good-vibrations/data/gpepp/2022-05-23T20:29:17.655.wav\n",
      "   uploading data to GitHub\n",
      "Already up to date.\n",
      "[main c0aeb01] record_wav\n",
      " 2 files changed, 22 insertions(+)\n",
      " create mode 100644 data/gpepp/2022-05-23T20:29:17.655.wav\n"
     ]
    },
    {
     "name": "stderr",
     "output_type": "stream",
     "text": [
      "To https://github.com/aubreymoore/good-vibrations.git\n",
      "   2d0f2d8..c0aeb01  main -> main\n"
     ]
    },
    {
     "name": "stdout",
     "output_type": "stream",
     "text": [
      "   sleeping for 540s\n",
      "45 of 100000\n",
      "   recording for 60s; saving to /home/pi/good-vibrations/data/gpepp/2022-05-23T20:39:24.685.wav\n",
      "   uploading data to GitHub\n",
      "Already up to date.\n",
      "[main 3ded042] record_wav\n",
      " 2 files changed, 22 insertions(+)\n",
      " create mode 100644 data/gpepp/2022-05-23T20:39:24.685.wav\n"
     ]
    },
    {
     "name": "stderr",
     "output_type": "stream",
     "text": [
      "To https://github.com/aubreymoore/good-vibrations.git\n",
      "   c0aeb01..3ded042  main -> main\n"
     ]
    },
    {
     "name": "stdout",
     "output_type": "stream",
     "text": [
      "   sleeping for 540s\n",
      "46 of 100000\n",
      "   recording for 60s; saving to /home/pi/good-vibrations/data/gpepp/2022-05-23T20:49:30.999.wav\n",
      "   uploading data to GitHub\n",
      "Already up to date.\n",
      "[main 9cea9a6] record_wav\n",
      " 2 files changed, 22 insertions(+)\n",
      " create mode 100644 data/gpepp/2022-05-23T20:49:30.999.wav\n"
     ]
    },
    {
     "name": "stderr",
     "output_type": "stream",
     "text": [
      "To https://github.com/aubreymoore/good-vibrations.git\n",
      "   3ded042..9cea9a6  main -> main\n"
     ]
    },
    {
     "name": "stdout",
     "output_type": "stream",
     "text": [
      "   sleeping for 540s\n",
      "47 of 100000\n",
      "   recording for 60s; saving to /home/pi/good-vibrations/data/gpepp/2022-05-23T20:59:37.729.wav\n",
      "   uploading data to GitHub\n"
     ]
    },
    {
     "name": "stderr",
     "output_type": "stream",
     "text": [
      "fatal: unable to access 'https://github.com/aubreymoore/good-vibrations.git/': Could not resolve host: github.com\n"
     ]
    },
    {
     "name": "stdout",
     "output_type": "stream",
     "text": [
      "[main 43a9e72] record_wav\n",
      " 2 files changed, 22 insertions(+)\n",
      " create mode 100644 data/gpepp/2022-05-23T20:59:37.729.wav\n"
     ]
    },
    {
     "name": "stderr",
     "output_type": "stream",
     "text": [
      "To https://github.com/aubreymoore/good-vibrations.git\n",
      "   9cea9a6..43a9e72  main -> main\n"
     ]
    },
    {
     "name": "stdout",
     "output_type": "stream",
     "text": [
      "   sleeping for 540s\n",
      "48 of 100000\n",
      "   recording for 60s; saving to /home/pi/good-vibrations/data/gpepp/2022-05-23T21:09:44.709.wav\n",
      "   uploading data to GitHub\n",
      "Already up to date.\n",
      "[main 3890641] record_wav\n",
      " 2 files changed, 34 insertions(+)\n",
      " create mode 100644 data/gpepp/2022-05-23T21:09:44.709.wav\n"
     ]
    },
    {
     "name": "stderr",
     "output_type": "stream",
     "text": [
      "To https://github.com/aubreymoore/good-vibrations.git\n",
      "   43a9e72..3890641  main -> main\n"
     ]
    },
    {
     "name": "stdout",
     "output_type": "stream",
     "text": [
      "   sleeping for 540s\n",
      "49 of 100000\n",
      "   recording for 60s; saving to /home/pi/good-vibrations/data/gpepp/2022-05-23T21:19:51.383.wav\n",
      "   uploading data to GitHub\n",
      "Already up to date.\n",
      "[main 446d332] record_wav\n",
      " 2 files changed, 26 insertions(+), 1 deletion(-)\n",
      " create mode 100644 data/gpepp/2022-05-23T21:19:51.383.wav\n"
     ]
    },
    {
     "name": "stderr",
     "output_type": "stream",
     "text": [
      "To https://github.com/aubreymoore/good-vibrations.git\n",
      "   3890641..446d332  main -> main\n"
     ]
    },
    {
     "name": "stdout",
     "output_type": "stream",
     "text": [
      "   sleeping for 540s\n",
      "50 of 100000\n",
      "   recording for 60s; saving to /home/pi/good-vibrations/data/gpepp/2022-05-23T21:29:57.699.wav\n",
      "   uploading data to GitHub\n",
      "Already up to date.\n",
      "[main 408ef16] record_wav\n",
      " 2 files changed, 22 insertions(+), 1 deletion(-)\n",
      " create mode 100644 data/gpepp/2022-05-23T21:29:57.699.wav\n"
     ]
    },
    {
     "name": "stderr",
     "output_type": "stream",
     "text": [
      "To https://github.com/aubreymoore/good-vibrations.git\n",
      "   446d332..408ef16  main -> main\n"
     ]
    },
    {
     "name": "stdout",
     "output_type": "stream",
     "text": [
      "   sleeping for 540s\n",
      "51 of 100000\n",
      "   recording for 60s; saving to /home/pi/good-vibrations/data/gpepp/2022-05-23T21:40:04.108.wav\n",
      "   uploading data to GitHub\n",
      "Already up to date.\n",
      "[main 2cc3b4d] record_wav\n",
      " 2 files changed, 23 insertions(+), 1 deletion(-)\n",
      " create mode 100644 data/gpepp/2022-05-23T21:40:04.108.wav\n"
     ]
    },
    {
     "name": "stderr",
     "output_type": "stream",
     "text": [
      "To https://github.com/aubreymoore/good-vibrations.git\n",
      "   408ef16..2cc3b4d  main -> main\n"
     ]
    },
    {
     "name": "stdout",
     "output_type": "stream",
     "text": [
      "   sleeping for 540s\n",
      "52 of 100000\n",
      "   recording for 60s; saving to /home/pi/good-vibrations/data/gpepp/2022-05-23T21:50:45.829.wav\n",
      "   uploading data to GitHub\n"
     ]
    },
    {
     "name": "stderr",
     "output_type": "stream",
     "text": [
      "fatal: unable to access 'https://github.com/aubreymoore/good-vibrations.git/': Could not resolve host: github.com\n"
     ]
    },
    {
     "name": "stdout",
     "output_type": "stream",
     "text": [
      "[main 111d786] record_wav\n",
      " 2 files changed, 23 insertions(+), 1 deletion(-)\n",
      " create mode 100644 data/gpepp/2022-05-23T21:50:45.829.wav\n",
      "   sleeping for 540s\n"
     ]
    },
    {
     "name": "stderr",
     "output_type": "stream",
     "text": [
      "fatal: unable to access 'https://github.com/aubreymoore/good-vibrations.git/': Could not resolve host: github.com\n"
     ]
    },
    {
     "name": "stdout",
     "output_type": "stream",
     "text": [
      "53 of 100000\n",
      "   recording for 60s; saving to /home/pi/good-vibrations/data/gpepp/2022-05-23T22:00:56.469.wav\n",
      "   uploading data to GitHub\n"
     ]
    },
    {
     "name": "stderr",
     "output_type": "stream",
     "text": [
      "fatal: unable to access 'https://github.com/aubreymoore/good-vibrations.git/': Could not resolve host: github.com\n"
     ]
    },
    {
     "name": "stdout",
     "output_type": "stream",
     "text": [
      "[main 591c673] record_wav\n",
      " 2 files changed, 26 insertions(+), 1 deletion(-)\n",
      " create mode 100644 data/gpepp/2022-05-23T22:00:56.469.wav\n",
      "   sleeping for 540s\n"
     ]
    },
    {
     "name": "stderr",
     "output_type": "stream",
     "text": [
      "fatal: unable to access 'https://github.com/aubreymoore/good-vibrations.git/': Could not resolve host: github.com\n"
     ]
    },
    {
     "name": "stdout",
     "output_type": "stream",
     "text": [
      "54 of 100000\n",
      "   recording for 60s; saving to /home/pi/good-vibrations/data/gpepp/2022-05-23T22:10:57.115.wav\n",
      "   uploading data to GitHub\n",
      "Already up to date.\n",
      "[main 3c98964] record_wav\n",
      " 2 files changed, 33 insertions(+)\n",
      " create mode 100644 data/gpepp/2022-05-23T22:10:57.115.wav\n"
     ]
    },
    {
     "name": "stderr",
     "output_type": "stream",
     "text": [
      "To https://github.com/aubreymoore/good-vibrations.git\n",
      "   2cc3b4d..3c98964  main -> main\n"
     ]
    },
    {
     "name": "stdout",
     "output_type": "stream",
     "text": [
      "   sleeping for 540s\n",
      "55 of 100000\n",
      "   recording for 60s; saving to /home/pi/good-vibrations/data/gpepp/2022-05-23T22:21:05.249.wav\n",
      "   uploading data to GitHub\n",
      "Already up to date.\n",
      "[main 9cd5f18] record_wav\n",
      " 2 files changed, 28 insertions(+)\n",
      " create mode 100644 data/gpepp/2022-05-23T22:21:05.249.wav\n"
     ]
    },
    {
     "name": "stderr",
     "output_type": "stream",
     "text": [
      "To https://github.com/aubreymoore/good-vibrations.git\n",
      "   3c98964..9cd5f18  main -> main\n"
     ]
    },
    {
     "name": "stdout",
     "output_type": "stream",
     "text": [
      "   sleeping for 540s\n",
      "56 of 100000\n",
      "   recording for 60s; saving to /home/pi/good-vibrations/data/gpepp/2022-05-23T22:31:11.939.wav\n",
      "   uploading data to GitHub\n",
      "Already up to date.\n",
      "[main b9a59de] record_wav\n",
      " 2 files changed, 22 insertions(+)\n",
      " create mode 100644 data/gpepp/2022-05-23T22:31:11.939.wav\n"
     ]
    },
    {
     "name": "stderr",
     "output_type": "stream",
     "text": [
      "To https://github.com/aubreymoore/good-vibrations.git\n",
      "   9cd5f18..b9a59de  main -> main\n"
     ]
    },
    {
     "name": "stdout",
     "output_type": "stream",
     "text": [
      "   sleeping for 540s\n",
      "57 of 100000\n",
      "   recording for 60s; saving to /home/pi/good-vibrations/data/gpepp/2022-05-23T22:41:18.499.wav\n",
      "   uploading data to GitHub\n",
      "Already up to date.\n",
      "[main c36c7e5] record_wav\n",
      " 2 files changed, 22 insertions(+)\n",
      " create mode 100644 data/gpepp/2022-05-23T22:41:18.499.wav\n"
     ]
    },
    {
     "name": "stderr",
     "output_type": "stream",
     "text": [
      "To https://github.com/aubreymoore/good-vibrations.git\n",
      "   b9a59de..c36c7e5  main -> main\n"
     ]
    },
    {
     "name": "stdout",
     "output_type": "stream",
     "text": [
      "   sleeping for 540s\n",
      "58 of 100000\n",
      "   recording for 60s; saving to /home/pi/good-vibrations/data/gpepp/2022-05-23T22:51:30.719.wav\n",
      "   uploading data to GitHub\n",
      "Already up to date.\n",
      "[main c6864ef] record_wav\n",
      " 2 files changed, 22 insertions(+)\n",
      " create mode 100644 data/gpepp/2022-05-23T22:51:30.719.wav\n"
     ]
    },
    {
     "name": "stderr",
     "output_type": "stream",
     "text": [
      "To https://github.com/aubreymoore/good-vibrations.git\n",
      "   c36c7e5..c6864ef  main -> main\n"
     ]
    },
    {
     "name": "stdout",
     "output_type": "stream",
     "text": [
      "   sleeping for 540s\n",
      "59 of 100000\n",
      "   recording for 60s; saving to /home/pi/good-vibrations/data/gpepp/2022-05-23T23:01:38.008.wav\n",
      "   uploading data to GitHub\n",
      "Already up to date.\n",
      "[main 7c016af] record_wav\n",
      " 2 files changed, 22 insertions(+)\n",
      " create mode 100644 data/gpepp/2022-05-23T23:01:38.008.wav\n"
     ]
    },
    {
     "name": "stderr",
     "output_type": "stream",
     "text": [
      "To https://github.com/aubreymoore/good-vibrations.git\n",
      "   c6864ef..7c016af  main -> main\n"
     ]
    },
    {
     "name": "stdout",
     "output_type": "stream",
     "text": [
      "   sleeping for 540s\n",
      "60 of 100000\n",
      "   recording for 60s; saving to /home/pi/good-vibrations/data/gpepp/2022-05-23T23:11:45.550.wav\n",
      "   uploading data to GitHub\n",
      "Already up to date.\n",
      "[main 3a09cc6] record_wav\n",
      " 2 files changed, 22 insertions(+)\n",
      " create mode 100644 data/gpepp/2022-05-23T23:11:45.550.wav\n"
     ]
    },
    {
     "name": "stderr",
     "output_type": "stream",
     "text": [
      "To https://github.com/aubreymoore/good-vibrations.git\n",
      "   7c016af..3a09cc6  main -> main\n"
     ]
    },
    {
     "name": "stdout",
     "output_type": "stream",
     "text": [
      "   sleeping for 540s\n",
      "61 of 100000\n",
      "   recording for 60s; saving to /home/pi/good-vibrations/data/gpepp/2022-05-23T23:22:03.489.wav\n",
      "   uploading data to GitHub\n",
      "Already up to date.\n",
      "[main e6886dc] record_wav\n",
      " 2 files changed, 25 insertions(+), 1 deletion(-)\n",
      " create mode 100644 data/gpepp/2022-05-23T23:22:03.489.wav\n"
     ]
    },
    {
     "name": "stderr",
     "output_type": "stream",
     "text": [
      "To https://github.com/aubreymoore/good-vibrations.git\n",
      "   3a09cc6..e6886dc  main -> main\n"
     ]
    },
    {
     "name": "stdout",
     "output_type": "stream",
     "text": [
      "   sleeping for 540s\n",
      "62 of 100000\n",
      "   recording for 60s; saving to /home/pi/good-vibrations/data/gpepp/2022-05-23T23:32:29.656.wav\n",
      "   uploading data to GitHub\n",
      "Already up to date.\n",
      "[main 01606ef] record_wav\n",
      " 2 files changed, 23 insertions(+), 1 deletion(-)\n",
      " create mode 100644 data/gpepp/2022-05-23T23:32:29.656.wav\n"
     ]
    },
    {
     "name": "stderr",
     "output_type": "stream",
     "text": [
      "To https://github.com/aubreymoore/good-vibrations.git\n",
      "   e6886dc..01606ef  main -> main\n"
     ]
    },
    {
     "name": "stdout",
     "output_type": "stream",
     "text": [
      "   sleeping for 540s\n",
      "63 of 100000\n",
      "   recording for 60s; saving to /home/pi/good-vibrations/data/gpepp/2022-05-23T23:43:02.869.wav\n",
      "   uploading data to GitHub\n",
      "Already up to date.\n",
      "[main d8111d9] record_wav\n",
      " 2 files changed, 21 insertions(+), 1 deletion(-)\n",
      " create mode 100644 data/gpepp/2022-05-23T23:43:02.869.wav\n"
     ]
    },
    {
     "name": "stderr",
     "output_type": "stream",
     "text": [
      "To https://github.com/aubreymoore/good-vibrations.git\n",
      "   01606ef..d8111d9  main -> main\n"
     ]
    },
    {
     "name": "stdout",
     "output_type": "stream",
     "text": [
      "   sleeping for 540s\n",
      "64 of 100000\n",
      "   recording for 60s; saving to /home/pi/good-vibrations/data/gpepp/2022-05-23T23:53:52.329.wav\n",
      "   uploading data to GitHub\n",
      "Already up to date.\n",
      "[main b3d9720] record_wav\n",
      " 2 files changed, 22 insertions(+)\n",
      " create mode 100644 data/gpepp/2022-05-23T23:53:52.329.wav\n"
     ]
    },
    {
     "name": "stderr",
     "output_type": "stream",
     "text": [
      "To https://github.com/aubreymoore/good-vibrations.git\n",
      "   d8111d9..b3d9720  main -> main\n"
     ]
    },
    {
     "name": "stdout",
     "output_type": "stream",
     "text": [
      "   sleeping for 540s\n",
      "65 of 100000\n",
      "   recording for 60s; saving to /home/pi/good-vibrations/data/gpepp/2022-05-24T00:04:44.004.wav\n",
      "   uploading data to GitHub\n",
      "Already up to date.\n",
      "[main dda4c61] record_wav\n",
      " 2 files changed, 25 insertions(+), 1 deletion(-)\n",
      " create mode 100644 data/gpepp/2022-05-24T00:04:44.004.wav\n"
     ]
    },
    {
     "name": "stderr",
     "output_type": "stream",
     "text": [
      "To https://github.com/aubreymoore/good-vibrations.git\n",
      "   b3d9720..dda4c61  main -> main\n"
     ]
    },
    {
     "name": "stdout",
     "output_type": "stream",
     "text": [
      "   sleeping for 540s\n",
      "66 of 100000\n",
      "   recording for 60s; saving to /home/pi/good-vibrations/data/gpepp/2022-05-24T00:15:53.025.wav\n",
      "   uploading data to GitHub\n",
      "Already up to date.\n",
      "[main e377b2d] record_wav\n",
      " 2 files changed, 21 insertions(+), 1 deletion(-)\n",
      " create mode 100644 data/gpepp/2022-05-24T00:15:53.025.wav\n"
     ]
    },
    {
     "name": "stderr",
     "output_type": "stream",
     "text": [
      "fatal: the remote end hung up unexpectedly\n",
      "fatal: the remote end hung up unexpectedly\n",
      "Everything up-to-date\n"
     ]
    },
    {
     "name": "stdout",
     "output_type": "stream",
     "text": [
      "   sleeping for 540s\n",
      "67 of 100000\n",
      "   recording for 60s; saving to /home/pi/good-vibrations/data/gpepp/2022-05-24T00:27:43.026.wav\n",
      "   uploading data to GitHub\n",
      "Already up to date.\n",
      "[main ba56ab2] record_wav\n",
      " 2 files changed, 23 insertions(+)\n",
      " create mode 100644 data/gpepp/2022-05-24T00:27:43.026.wav\n"
     ]
    },
    {
     "name": "stderr",
     "output_type": "stream",
     "text": [
      "To https://github.com/aubreymoore/good-vibrations.git\n",
      "   dda4c61..ba56ab2  main -> main\n"
     ]
    },
    {
     "name": "stdout",
     "output_type": "stream",
     "text": [
      "   sleeping for 540s\n",
      "68 of 100000\n",
      "   recording for 60s; saving to /home/pi/good-vibrations/data/gpepp/2022-05-24T00:38:29.699.wav\n",
      "   uploading data to GitHub\n",
      "Already up to date.\n",
      "[main 533c060] record_wav\n",
      " 2 files changed, 25 insertions(+), 1 deletion(-)\n",
      " create mode 100644 data/gpepp/2022-05-24T00:38:29.699.wav\n"
     ]
    },
    {
     "name": "stderr",
     "output_type": "stream",
     "text": [
      "To https://github.com/aubreymoore/good-vibrations.git\n",
      "   ba56ab2..533c060  main -> main\n"
     ]
    },
    {
     "name": "stdout",
     "output_type": "stream",
     "text": [
      "   sleeping for 540s\n",
      "69 of 100000\n",
      "   recording for 60s; saving to /home/pi/good-vibrations/data/gpepp/2022-05-24T00:48:36.359.wav\n",
      "   uploading data to GitHub\n",
      "Already up to date.\n",
      "[main b3e4a21] record_wav\n",
      " 2 files changed, 23 insertions(+), 1 deletion(-)\n",
      " create mode 100644 data/gpepp/2022-05-24T00:48:36.359.wav\n"
     ]
    },
    {
     "name": "stderr",
     "output_type": "stream",
     "text": [
      "To https://github.com/aubreymoore/good-vibrations.git\n",
      "   533c060..b3e4a21  main -> main\n"
     ]
    },
    {
     "name": "stdout",
     "output_type": "stream",
     "text": [
      "   sleeping for 540s\n",
      "70 of 100000\n",
      "   recording for 60s; saving to /home/pi/good-vibrations/data/gpepp/2022-05-24T00:58:46.039.wav\n",
      "   uploading data to GitHub\n",
      "Already up to date.\n",
      "[main 6d3df2a] record_wav\n",
      " 2 files changed, 23 insertions(+), 1 deletion(-)\n",
      " create mode 100644 data/gpepp/2022-05-24T00:58:46.039.wav\n"
     ]
    },
    {
     "name": "stderr",
     "output_type": "stream",
     "text": [
      "To https://github.com/aubreymoore/good-vibrations.git\n",
      "   b3e4a21..6d3df2a  main -> main\n"
     ]
    },
    {
     "name": "stdout",
     "output_type": "stream",
     "text": [
      "   sleeping for 540s\n",
      "71 of 100000\n",
      "   recording for 60s; saving to /home/pi/good-vibrations/data/gpepp/2022-05-24T01:09:05.189.wav\n",
      "   uploading data to GitHub\n",
      "Already up to date.\n",
      "[main 7f0ebfa] record_wav\n",
      " 2 files changed, 23 insertions(+), 1 deletion(-)\n",
      " create mode 100644 data/gpepp/2022-05-24T01:09:05.189.wav\n"
     ]
    },
    {
     "name": "stderr",
     "output_type": "stream",
     "text": [
      "To https://github.com/aubreymoore/good-vibrations.git\n",
      "   6d3df2a..7f0ebfa  main -> main\n"
     ]
    },
    {
     "name": "stdout",
     "output_type": "stream",
     "text": [
      "   sleeping for 540s\n",
      "72 of 100000\n",
      "   recording for 60s; saving to /home/pi/good-vibrations/data/gpepp/2022-05-24T01:19:37.103.wav\n",
      "   uploading data to GitHub\n",
      "Already up to date.\n",
      "[main c12a157] record_wav\n",
      " 2 files changed, 21 insertions(+), 1 deletion(-)\n",
      " create mode 100644 data/gpepp/2022-05-24T01:19:37.103.wav\n"
     ]
    },
    {
     "name": "stderr",
     "output_type": "stream",
     "text": [
      "To https://github.com/aubreymoore/good-vibrations.git\n",
      "   7f0ebfa..c12a157  main -> main\n"
     ]
    },
    {
     "name": "stdout",
     "output_type": "stream",
     "text": [
      "   sleeping for 540s\n",
      "73 of 100000\n",
      "   recording for 60s; saving to /home/pi/good-vibrations/data/gpepp/2022-05-24T01:30:15.694.wav\n",
      "   uploading data to GitHub\n",
      "Already up to date.\n",
      "[main b383c6c] record_wav\n",
      " 2 files changed, 25 insertions(+), 1 deletion(-)\n",
      " create mode 100644 data/gpepp/2022-05-24T01:30:15.694.wav\n"
     ]
    },
    {
     "name": "stderr",
     "output_type": "stream",
     "text": [
      "To https://github.com/aubreymoore/good-vibrations.git\n",
      "   c12a157..b383c6c  main -> main\n"
     ]
    },
    {
     "name": "stdout",
     "output_type": "stream",
     "text": [
      "   sleeping for 540s\n",
      "74 of 100000\n",
      "   recording for 60s; saving to /home/pi/good-vibrations/data/gpepp/2022-05-24T01:41:12.289.wav\n",
      "   uploading data to GitHub\n",
      "Already up to date.\n",
      "[main fcf67e4] record_wav\n",
      " 2 files changed, 21 insertions(+), 1 deletion(-)\n",
      " create mode 100644 data/gpepp/2022-05-24T01:41:12.289.wav\n"
     ]
    },
    {
     "name": "stderr",
     "output_type": "stream",
     "text": [
      "To https://github.com/aubreymoore/good-vibrations.git\n",
      "   b383c6c..fcf67e4  main -> main\n"
     ]
    },
    {
     "name": "stdout",
     "output_type": "stream",
     "text": [
      "   sleeping for 540s\n",
      "75 of 100000\n",
      "   recording for 60s; saving to /home/pi/good-vibrations/data/gpepp/2022-05-24T01:52:23.959.wav\n",
      "   uploading data to GitHub\n",
      "Already up to date.\n",
      "[main 840065d] record_wav\n",
      " 2 files changed, 25 insertions(+), 1 deletion(-)\n",
      " create mode 100644 data/gpepp/2022-05-24T01:52:23.959.wav\n"
     ]
    },
    {
     "name": "stderr",
     "output_type": "stream",
     "text": [
      "To https://github.com/aubreymoore/good-vibrations.git\n",
      "   fcf67e4..840065d  main -> main\n"
     ]
    },
    {
     "name": "stdout",
     "output_type": "stream",
     "text": [
      "   sleeping for 540s\n",
      "76 of 100000\n",
      "   recording for 60s; saving to /home/pi/good-vibrations/data/gpepp/2022-05-24T02:03:57.929.wav\n",
      "   uploading data to GitHub\n",
      "Already up to date.\n",
      "[main 63d7b66] record_wav\n",
      " 2 files changed, 21 insertions(+), 1 deletion(-)\n",
      " create mode 100644 data/gpepp/2022-05-24T02:03:57.929.wav\n"
     ]
    },
    {
     "name": "stderr",
     "output_type": "stream",
     "text": [
      "To https://github.com/aubreymoore/good-vibrations.git\n",
      "   840065d..63d7b66  main -> main\n"
     ]
    },
    {
     "name": "stdout",
     "output_type": "stream",
     "text": [
      "   sleeping for 540s\n",
      "77 of 100000\n",
      "   recording for 60s; saving to /home/pi/good-vibrations/data/gpepp/2022-05-24T02:15:35.744.wav\n",
      "   uploading data to GitHub\n",
      "Already up to date.\n",
      "[main 3a9b1cd] record_wav\n",
      " 2 files changed, 22 insertions(+)\n",
      " create mode 100644 data/gpepp/2022-05-24T02:15:35.744.wav\n"
     ]
    },
    {
     "name": "stderr",
     "output_type": "stream",
     "text": [
      "error: RPC failed; curl 92 HTTP/2 stream 0 was not closed cleanly: CANCEL (err 8)\n",
      "fatal: the remote end hung up unexpectedly\n",
      "fatal: the remote end hung up unexpectedly\n",
      "Everything up-to-date\n"
     ]
    },
    {
     "name": "stdout",
     "output_type": "stream",
     "text": [
      "   sleeping for 540s\n",
      "78 of 100000\n",
      "   recording for 60s; saving to /home/pi/good-vibrations/data/gpepp/2022-05-24T02:25:56.129.wav\n",
      "   uploading data to GitHub\n",
      "Already up to date.\n",
      "[main d265c22] record_wav\n",
      " 2 files changed, 24 insertions(+)\n",
      " create mode 100644 data/gpepp/2022-05-24T02:25:56.129.wav\n"
     ]
    },
    {
     "name": "stderr",
     "output_type": "stream",
     "text": [
      "error: RPC failed; curl 92 HTTP/2 stream 0 was not closed cleanly: CANCEL (err 8)\n",
      "fatal: the remote end hung up unexpectedly\n",
      "fatal: the remote end hung up unexpectedly\n",
      "Everything up-to-date\n"
     ]
    },
    {
     "name": "stdout",
     "output_type": "stream",
     "text": [
      "   sleeping for 540s\n",
      "79 of 100000\n",
      "   recording for 60s; saving to /home/pi/good-vibrations/data/gpepp/2022-05-24T02:37:37.620.wav\n",
      "   uploading data to GitHub\n",
      "Already up to date.\n",
      "[main 8e23c9c] record_wav\n",
      " 2 files changed, 24 insertions(+)\n",
      " create mode 100644 data/gpepp/2022-05-24T02:37:37.620.wav\n"
     ]
    },
    {
     "name": "stderr",
     "output_type": "stream",
     "text": [
      "To https://github.com/aubreymoore/good-vibrations.git\n",
      "   63d7b66..8e23c9c  main -> main\n"
     ]
    },
    {
     "name": "stdout",
     "output_type": "stream",
     "text": [
      "   sleeping for 540s\n",
      "80 of 100000\n",
      "   recording for 60s; saving to /home/pi/good-vibrations/data/gpepp/2022-05-24T02:47:58.799.wav\n",
      "   uploading data to GitHub\n",
      "Already up to date.\n",
      "[main c42e8a5] record_wav\n",
      " 2 files changed, 22 insertions(+)\n",
      " create mode 100644 data/gpepp/2022-05-24T02:47:58.799.wav\n"
     ]
    },
    {
     "name": "stderr",
     "output_type": "stream",
     "text": [
      "To https://github.com/aubreymoore/good-vibrations.git\n",
      "   8e23c9c..c42e8a5  main -> main\n"
     ]
    },
    {
     "name": "stdout",
     "output_type": "stream",
     "text": [
      "   sleeping for 540s\n",
      "81 of 100000\n",
      "   recording for 60s; saving to /home/pi/good-vibrations/data/gpepp/2022-05-24T02:58:05.413.wav\n",
      "   uploading data to GitHub\n",
      "Already up to date.\n",
      "[main d1b7005] record_wav\n",
      " 2 files changed, 22 insertions(+)\n",
      " create mode 100644 data/gpepp/2022-05-24T02:58:05.413.wav\n"
     ]
    },
    {
     "name": "stderr",
     "output_type": "stream",
     "text": [
      "To https://github.com/aubreymoore/good-vibrations.git\n",
      "   c42e8a5..d1b7005  main -> main\n"
     ]
    },
    {
     "name": "stdout",
     "output_type": "stream",
     "text": [
      "   sleeping for 540s\n",
      "82 of 100000\n",
      "   recording for 60s; saving to /home/pi/good-vibrations/data/gpepp/2022-05-24T03:08:12.579.wav\n",
      "   uploading data to GitHub\n",
      "Already up to date.\n",
      "[main 49d3f19] record_wav\n",
      " 2 files changed, 22 insertions(+)\n",
      " create mode 100644 data/gpepp/2022-05-24T03:08:12.579.wav\n"
     ]
    },
    {
     "name": "stderr",
     "output_type": "stream",
     "text": [
      "To https://github.com/aubreymoore/good-vibrations.git\n",
      "   d1b7005..49d3f19  main -> main\n"
     ]
    },
    {
     "name": "stdout",
     "output_type": "stream",
     "text": [
      "   sleeping for 540s\n",
      "83 of 100000\n",
      "   recording for 60s; saving to /home/pi/good-vibrations/data/gpepp/2022-05-24T03:18:19.358.wav\n",
      "   uploading data to GitHub\n"
     ]
    },
    {
     "name": "stderr",
     "output_type": "stream",
     "text": [
      "fatal: unable to access 'https://github.com/aubreymoore/good-vibrations.git/': Could not resolve host: github.com\n"
     ]
    },
    {
     "name": "stdout",
     "output_type": "stream",
     "text": [
      "[main a0501a6] record_wav\n",
      " 2 files changed, 22 insertions(+)\n",
      " create mode 100644 data/gpepp/2022-05-24T03:18:19.358.wav\n"
     ]
    },
    {
     "name": "stderr",
     "output_type": "stream",
     "text": [
      "To https://github.com/aubreymoore/good-vibrations.git\n",
      "   49d3f19..a0501a6  main -> main\n"
     ]
    },
    {
     "name": "stdout",
     "output_type": "stream",
     "text": [
      "   sleeping for 540s\n",
      "84 of 100000\n",
      "   recording for 60s; saving to /home/pi/good-vibrations/data/gpepp/2022-05-24T03:28:24.429.wav\n",
      "   uploading data to GitHub\n",
      "Already up to date.\n",
      "[main 457db16] record_wav\n",
      " 2 files changed, 37 insertions(+), 1 deletion(-)\n",
      " create mode 100644 data/gpepp/2022-05-24T03:28:24.429.wav\n"
     ]
    },
    {
     "name": "stderr",
     "output_type": "stream",
     "text": [
      "To https://github.com/aubreymoore/good-vibrations.git\n",
      "   a0501a6..457db16  main -> main\n"
     ]
    },
    {
     "name": "stdout",
     "output_type": "stream",
     "text": [
      "   sleeping for 540s\n",
      "85 of 100000\n",
      "   recording for 60s; saving to /home/pi/good-vibrations/data/gpepp/2022-05-24T03:38:31.024.wav\n",
      "   uploading data to GitHub\n",
      "Already up to date.\n",
      "[main e31292d] record_wav\n",
      " 2 files changed, 23 insertions(+), 1 deletion(-)\n",
      " create mode 100644 data/gpepp/2022-05-24T03:38:31.024.wav\n"
     ]
    },
    {
     "name": "stderr",
     "output_type": "stream",
     "text": [
      "To https://github.com/aubreymoore/good-vibrations.git\n",
      "   457db16..e31292d  main -> main\n"
     ]
    },
    {
     "name": "stdout",
     "output_type": "stream",
     "text": [
      "   sleeping for 540s\n",
      "86 of 100000\n",
      "   recording for 60s; saving to /home/pi/good-vibrations/data/gpepp/2022-05-24T03:48:37.478.wav\n",
      "   uploading data to GitHub\n",
      "Already up to date.\n",
      "[main df4d6b6] record_wav\n",
      " 2 files changed, 23 insertions(+), 1 deletion(-)\n",
      " create mode 100644 data/gpepp/2022-05-24T03:48:37.478.wav\n"
     ]
    },
    {
     "name": "stderr",
     "output_type": "stream",
     "text": [
      "To https://github.com/aubreymoore/good-vibrations.git\n",
      "   e31292d..df4d6b6  main -> main\n"
     ]
    },
    {
     "name": "stdout",
     "output_type": "stream",
     "text": [
      "   sleeping for 540s\n",
      "87 of 100000\n",
      "   recording for 60s; saving to /home/pi/good-vibrations/data/gpepp/2022-05-24T03:58:44.769.wav\n",
      "   uploading data to GitHub\n"
     ]
    },
    {
     "name": "stderr",
     "output_type": "stream",
     "text": [
      "fatal: unable to access 'https://github.com/aubreymoore/good-vibrations.git/': Could not resolve host: github.com\n"
     ]
    },
    {
     "name": "stdout",
     "output_type": "stream",
     "text": [
      "[main e7d968b] record_wav\n",
      " 2 files changed, 23 insertions(+), 1 deletion(-)\n",
      " create mode 100644 data/gpepp/2022-05-24T03:58:44.769.wav\n",
      "   sleeping for 540s\n"
     ]
    },
    {
     "name": "stderr",
     "output_type": "stream",
     "text": [
      "fatal: unable to access 'https://github.com/aubreymoore/good-vibrations.git/': Could not resolve host: github.com\n"
     ]
    },
    {
     "name": "stdout",
     "output_type": "stream",
     "text": [
      "88 of 100000\n",
      "   recording for 60s; saving to /home/pi/good-vibrations/data/gpepp/2022-05-24T04:08:45.319.wav\n",
      "   uploading data to GitHub\n"
     ]
    },
    {
     "name": "stderr",
     "output_type": "stream",
     "text": [
      "fatal: unable to access 'https://github.com/aubreymoore/good-vibrations.git/': Could not resolve host: github.com\n"
     ]
    },
    {
     "name": "stdout",
     "output_type": "stream",
     "text": [
      "[main 6953fac] record_wav\n",
      " 2 files changed, 34 insertions(+), 1 deletion(-)\n",
      " create mode 100644 data/gpepp/2022-05-24T04:08:45.319.wav\n",
      "   sleeping for 540s\n"
     ]
    },
    {
     "name": "stderr",
     "output_type": "stream",
     "text": [
      "fatal: unable to access 'https://github.com/aubreymoore/good-vibrations.git/': Could not resolve host: github.com\n"
     ]
    },
    {
     "name": "stdout",
     "output_type": "stream",
     "text": [
      "89 of 100000\n",
      "   recording for 60s; saving to /home/pi/good-vibrations/data/gpepp/2022-05-24T04:18:51.049.wav\n",
      "   uploading data to GitHub\n",
      "Already up to date.\n",
      "[main b3968f9] record_wav\n",
      " 2 files changed, 34 insertions(+), 1 deletion(-)\n",
      " create mode 100644 data/gpepp/2022-05-24T04:18:51.049.wav\n"
     ]
    },
    {
     "name": "stderr",
     "output_type": "stream",
     "text": [
      "To https://github.com/aubreymoore/good-vibrations.git\n",
      "   df4d6b6..b3968f9  main -> main\n"
     ]
    },
    {
     "name": "stdout",
     "output_type": "stream",
     "text": [
      "   sleeping for 540s\n",
      "90 of 100000\n",
      "   recording for 60s; saving to /home/pi/good-vibrations/data/gpepp/2022-05-24T04:28:59.784.wav\n",
      "   uploading data to GitHub\n",
      "Already up to date.\n",
      "[main 8071a82] record_wav\n",
      " 2 files changed, 23 insertions(+), 1 deletion(-)\n",
      " create mode 100644 data/gpepp/2022-05-24T04:28:59.784.wav\n"
     ]
    },
    {
     "name": "stderr",
     "output_type": "stream",
     "text": [
      "To https://github.com/aubreymoore/good-vibrations.git\n",
      "   b3968f9..8071a82  main -> main\n"
     ]
    },
    {
     "name": "stdout",
     "output_type": "stream",
     "text": [
      "   sleeping for 540s\n",
      "91 of 100000\n",
      "   recording for 60s; saving to /home/pi/good-vibrations/data/gpepp/2022-05-24T04:39:06.399.wav\n",
      "   uploading data to GitHub\n",
      "Already up to date.\n",
      "[main f7e19ae] record_wav\n",
      " 2 files changed, 23 insertions(+), 1 deletion(-)\n",
      " create mode 100644 data/gpepp/2022-05-24T04:39:06.399.wav\n"
     ]
    },
    {
     "name": "stderr",
     "output_type": "stream",
     "text": [
      "To https://github.com/aubreymoore/good-vibrations.git\n",
      "   8071a82..f7e19ae  main -> main\n"
     ]
    },
    {
     "name": "stdout",
     "output_type": "stream",
     "text": [
      "   sleeping for 540s\n",
      "92 of 100000\n",
      "   recording for 60s; saving to /home/pi/good-vibrations/data/gpepp/2022-05-24T04:49:12.819.wav\n",
      "   uploading data to GitHub\n",
      "Already up to date.\n",
      "[main 5414daa] record_wav\n",
      " 2 files changed, 23 insertions(+), 1 deletion(-)\n",
      " create mode 100644 data/gpepp/2022-05-24T04:49:12.819.wav\n"
     ]
    },
    {
     "name": "stderr",
     "output_type": "stream",
     "text": [
      "To https://github.com/aubreymoore/good-vibrations.git\n",
      "   f7e19ae..5414daa  main -> main\n"
     ]
    },
    {
     "name": "stdout",
     "output_type": "stream",
     "text": [
      "   sleeping for 540s\n",
      "93 of 100000\n",
      "   recording for 60s; saving to /home/pi/good-vibrations/data/gpepp/2022-05-24T04:59:19.512.wav\n",
      "   uploading data to GitHub\n"
     ]
    },
    {
     "name": "stderr",
     "output_type": "stream",
     "text": [
      "fatal: unable to access 'https://github.com/aubreymoore/good-vibrations.git/': Could not resolve host: github.com\n"
     ]
    },
    {
     "name": "stdout",
     "output_type": "stream",
     "text": [
      "[main 9489624] record_wav\n",
      " 2 files changed, 23 insertions(+), 1 deletion(-)\n",
      " create mode 100644 data/gpepp/2022-05-24T04:59:19.512.wav\n",
      "   sleeping for 540s\n"
     ]
    },
    {
     "name": "stderr",
     "output_type": "stream",
     "text": [
      "fatal: unable to access 'https://github.com/aubreymoore/good-vibrations.git/': Could not resolve host: github.com\n"
     ]
    },
    {
     "name": "stdout",
     "output_type": "stream",
     "text": [
      "94 of 100000\n",
      "   recording for 60s; saving to /home/pi/good-vibrations/data/gpepp/2022-05-24T05:09:20.235.wav\n",
      "   uploading data to GitHub\n",
      "Already up to date.\n",
      "[main c82f054] record_wav\n",
      " 2 files changed, 34 insertions(+), 1 deletion(-)\n",
      " create mode 100644 data/gpepp/2022-05-24T05:09:20.235.wav\n"
     ]
    },
    {
     "name": "stderr",
     "output_type": "stream",
     "text": [
      "To https://github.com/aubreymoore/good-vibrations.git\n",
      "   5414daa..c82f054  main -> main\n"
     ]
    },
    {
     "name": "stdout",
     "output_type": "stream",
     "text": [
      "   sleeping for 540s\n",
      "95 of 100000\n",
      "   recording for 60s; saving to /home/pi/good-vibrations/data/gpepp/2022-05-24T05:19:28.399.wav\n",
      "   uploading data to GitHub\n",
      "Already up to date.\n",
      "[main e1d50de] record_wav\n",
      " 2 files changed, 23 insertions(+), 1 deletion(-)\n",
      " create mode 100644 data/gpepp/2022-05-24T05:19:28.399.wav\n"
     ]
    },
    {
     "name": "stderr",
     "output_type": "stream",
     "text": [
      "To https://github.com/aubreymoore/good-vibrations.git\n",
      "   c82f054..e1d50de  main -> main\n"
     ]
    },
    {
     "name": "stdout",
     "output_type": "stream",
     "text": [
      "   sleeping for 540s\n",
      "96 of 100000\n",
      "   recording for 60s; saving to /home/pi/good-vibrations/data/gpepp/2022-05-24T05:29:34.959.wav\n",
      "   uploading data to GitHub\n",
      "Already up to date.\n",
      "[main 109c0cb] record_wav\n",
      " 2 files changed, 21 insertions(+), 1 deletion(-)\n",
      " create mode 100644 data/gpepp/2022-05-24T05:29:34.959.wav\n"
     ]
    },
    {
     "name": "stderr",
     "output_type": "stream",
     "text": [
      "To https://github.com/aubreymoore/good-vibrations.git\n",
      "   e1d50de..109c0cb  main -> main\n"
     ]
    },
    {
     "name": "stdout",
     "output_type": "stream",
     "text": [
      "   sleeping for 540s\n",
      "97 of 100000\n",
      "   recording for 60s; saving to /home/pi/good-vibrations/data/gpepp/2022-05-24T05:39:43.535.wav\n",
      "   uploading data to GitHub\n",
      "Already up to date.\n",
      "[main f333741] record_wav\n",
      " 2 files changed, 22 insertions(+)\n",
      " create mode 100644 data/gpepp/2022-05-24T05:39:43.535.wav\n"
     ]
    },
    {
     "name": "stderr",
     "output_type": "stream",
     "text": [
      "To https://github.com/aubreymoore/good-vibrations.git\n",
      "   109c0cb..f333741  main -> main\n"
     ]
    },
    {
     "name": "stdout",
     "output_type": "stream",
     "text": [
      "   sleeping for 540s\n",
      "98 of 100000\n",
      "   recording for 60s; saving to /home/pi/good-vibrations/data/gpepp/2022-05-24T05:49:50.179.wav\n",
      "   uploading data to GitHub\n",
      "Already up to date.\n",
      "[main 6009ac4] record_wav\n",
      " 2 files changed, 22 insertions(+)\n",
      " create mode 100644 data/gpepp/2022-05-24T05:49:50.179.wav\n"
     ]
    },
    {
     "name": "stderr",
     "output_type": "stream",
     "text": [
      "To https://github.com/aubreymoore/good-vibrations.git\n",
      "   f333741..6009ac4  main -> main\n"
     ]
    },
    {
     "name": "stdout",
     "output_type": "stream",
     "text": [
      "   sleeping for 540s\n",
      "99 of 100000\n",
      "   recording for 60s; saving to /home/pi/good-vibrations/data/gpepp/2022-05-24T05:59:56.659.wav\n",
      "   uploading data to GitHub\n",
      "Already up to date.\n",
      "[main 817f1c6] record_wav\n",
      " 2 files changed, 22 insertions(+)\n",
      " create mode 100644 data/gpepp/2022-05-24T05:59:56.659.wav\n"
     ]
    },
    {
     "name": "stderr",
     "output_type": "stream",
     "text": [
      "To https://github.com/aubreymoore/good-vibrations.git\n",
      "   6009ac4..817f1c6  main -> main\n"
     ]
    },
    {
     "name": "stdout",
     "output_type": "stream",
     "text": [
      "   sleeping for 540s\n",
      "100 of 100000\n",
      "   recording for 60s; saving to /home/pi/good-vibrations/data/gpepp/2022-05-24T06:10:03.379.wav\n",
      "   uploading data to GitHub\n",
      "Already up to date.\n",
      "[main 0352516] record_wav\n",
      " 2 files changed, 22 insertions(+)\n",
      " create mode 100644 data/gpepp/2022-05-24T06:10:03.379.wav\n"
     ]
    },
    {
     "name": "stderr",
     "output_type": "stream",
     "text": [
      "To https://github.com/aubreymoore/good-vibrations.git\n",
      "   817f1c6..0352516  main -> main\n"
     ]
    },
    {
     "name": "stdout",
     "output_type": "stream",
     "text": [
      "   sleeping for 540s\n",
      "101 of 100000\n",
      "   recording for 60s; saving to /home/pi/good-vibrations/data/gpepp/2022-05-24T06:20:09.823.wav\n",
      "   uploading data to GitHub\n",
      "Already up to date.\n",
      "[main 62e5971] record_wav\n",
      " 2 files changed, 22 insertions(+)\n",
      " create mode 100644 data/gpepp/2022-05-24T06:20:09.823.wav\n"
     ]
    },
    {
     "name": "stderr",
     "output_type": "stream",
     "text": [
      "To https://github.com/aubreymoore/good-vibrations.git\n",
      "   0352516..62e5971  main -> main\n"
     ]
    },
    {
     "name": "stdout",
     "output_type": "stream",
     "text": [
      "   sleeping for 540s\n",
      "102 of 100000\n",
      "   recording for 60s; saving to /home/pi/good-vibrations/data/gpepp/2022-05-24T06:30:17.319.wav\n",
      "   uploading data to GitHub\n",
      "Already up to date.\n",
      "[main 7437558] record_wav\n",
      " 2 files changed, 22 insertions(+)\n",
      " create mode 100644 data/gpepp/2022-05-24T06:30:17.319.wav\n"
     ]
    },
    {
     "name": "stderr",
     "output_type": "stream",
     "text": [
      "To https://github.com/aubreymoore/good-vibrations.git\n",
      "   62e5971..7437558  main -> main\n"
     ]
    },
    {
     "name": "stdout",
     "output_type": "stream",
     "text": [
      "   sleeping for 540s\n",
      "103 of 100000\n",
      "   recording for 60s; saving to /home/pi/good-vibrations/data/gpepp/2022-05-24T06:40:23.693.wav\n",
      "   uploading data to GitHub\n",
      "Already up to date.\n",
      "[main d26d9c5] record_wav\n",
      " 2 files changed, 22 insertions(+)\n",
      " create mode 100644 data/gpepp/2022-05-24T06:40:23.693.wav\n"
     ]
    },
    {
     "name": "stderr",
     "output_type": "stream",
     "text": [
      "To https://github.com/aubreymoore/good-vibrations.git\n",
      "   7437558..d26d9c5  main -> main\n"
     ]
    },
    {
     "name": "stdout",
     "output_type": "stream",
     "text": [
      "   sleeping for 540s\n",
      "104 of 100000\n",
      "   recording for 60s; saving to /home/pi/good-vibrations/data/gpepp/2022-05-24T06:50:30.349.wav\n",
      "   uploading data to GitHub\n",
      "Already up to date.\n",
      "[main 80be3f3] record_wav\n",
      " 2 files changed, 22 insertions(+)\n",
      " create mode 100644 data/gpepp/2022-05-24T06:50:30.349.wav\n"
     ]
    },
    {
     "name": "stderr",
     "output_type": "stream",
     "text": [
      "To https://github.com/aubreymoore/good-vibrations.git\n",
      "   d26d9c5..80be3f3  main -> main\n"
     ]
    },
    {
     "name": "stdout",
     "output_type": "stream",
     "text": [
      "   sleeping for 540s\n",
      "105 of 100000\n",
      "   recording for 60s; saving to /home/pi/good-vibrations/data/gpepp/2022-05-24T07:00:37.014.wav\n",
      "   uploading data to GitHub\n",
      "Already up to date.\n",
      "[main 98de288] record_wav\n",
      " 2 files changed, 22 insertions(+)\n",
      " create mode 100644 data/gpepp/2022-05-24T07:00:37.014.wav\n"
     ]
    },
    {
     "name": "stderr",
     "output_type": "stream",
     "text": [
      "To https://github.com/aubreymoore/good-vibrations.git\n",
      "   80be3f3..98de288  main -> main\n"
     ]
    },
    {
     "name": "stdout",
     "output_type": "stream",
     "text": [
      "   sleeping for 540s\n",
      "106 of 100000\n",
      "   recording for 60s; saving to /home/pi/good-vibrations/data/gpepp/2022-05-24T07:10:46.124.wav\n",
      "   uploading data to GitHub\n",
      "Already up to date.\n",
      "[main f336477] record_wav\n",
      " 2 files changed, 26 insertions(+), 1 deletion(-)\n",
      " create mode 100644 data/gpepp/2022-05-24T07:10:46.124.wav\n"
     ]
    },
    {
     "name": "stderr",
     "output_type": "stream",
     "text": [
      "To https://github.com/aubreymoore/good-vibrations.git\n",
      "   98de288..f336477  main -> main\n"
     ]
    },
    {
     "name": "stdout",
     "output_type": "stream",
     "text": [
      "   sleeping for 540s\n",
      "107 of 100000\n",
      "   recording for 60s; saving to /home/pi/good-vibrations/data/gpepp/2022-05-24T07:21:10.079.wav\n",
      "   uploading data to GitHub\n",
      "Already up to date.\n",
      "[main c1c040d] record_wav\n",
      " 2 files changed, 22 insertions(+), 1 deletion(-)\n",
      " create mode 100644 data/gpepp/2022-05-24T07:21:10.079.wav\n"
     ]
    },
    {
     "name": "stderr",
     "output_type": "stream",
     "text": [
      "To https://github.com/aubreymoore/good-vibrations.git\n",
      "   f336477..c1c040d  main -> main\n"
     ]
    },
    {
     "name": "stdout",
     "output_type": "stream",
     "text": [
      "   sleeping for 540s\n",
      "108 of 100000\n",
      "   recording for 60s; saving to /home/pi/good-vibrations/data/gpepp/2022-05-24T07:31:16.639.wav\n",
      "   uploading data to GitHub\n",
      "Already up to date.\n",
      "[main eeaf301] record_wav\n",
      " 2 files changed, 23 insertions(+), 1 deletion(-)\n",
      " create mode 100644 data/gpepp/2022-05-24T07:31:16.639.wav\n"
     ]
    },
    {
     "name": "stderr",
     "output_type": "stream",
     "text": [
      "To https://github.com/aubreymoore/good-vibrations.git\n",
      "   c1c040d..eeaf301  main -> main\n"
     ]
    },
    {
     "name": "stdout",
     "output_type": "stream",
     "text": [
      "   sleeping for 540s\n",
      "109 of 100000\n",
      "   recording for 60s; saving to /home/pi/good-vibrations/data/gpepp/2022-05-24T07:41:22.999.wav\n",
      "   uploading data to GitHub\n",
      "Already up to date.\n",
      "[main 2878cbe] record_wav\n",
      " 2 files changed, 23 insertions(+), 1 deletion(-)\n",
      " create mode 100644 data/gpepp/2022-05-24T07:41:22.999.wav\n"
     ]
    },
    {
     "name": "stderr",
     "output_type": "stream",
     "text": [
      "To https://github.com/aubreymoore/good-vibrations.git\n",
      "   eeaf301..2878cbe  main -> main\n"
     ]
    },
    {
     "name": "stdout",
     "output_type": "stream",
     "text": [
      "   sleeping for 540s\n",
      "110 of 100000\n",
      "   recording for 60s; saving to /home/pi/good-vibrations/data/gpepp/2022-05-24T07:51:29.359.wav\n",
      "   uploading data to GitHub\n",
      "Already up to date.\n",
      "[main 0a558fe] record_wav\n",
      " 2 files changed, 23 insertions(+), 1 deletion(-)\n",
      " create mode 100644 data/gpepp/2022-05-24T07:51:29.359.wav\n"
     ]
    },
    {
     "name": "stderr",
     "output_type": "stream",
     "text": [
      "To https://github.com/aubreymoore/good-vibrations.git\n",
      "   2878cbe..0a558fe  main -> main\n"
     ]
    },
    {
     "name": "stdout",
     "output_type": "stream",
     "text": [
      "   sleeping for 540s\n",
      "111 of 100000\n",
      "   recording for 60s; saving to /home/pi/good-vibrations/data/gpepp/2022-05-24T08:01:35.859.wav\n",
      "   uploading data to GitHub\n",
      "Already up to date.\n",
      "[main 7865209] record_wav\n",
      " 2 files changed, 23 insertions(+), 1 deletion(-)\n",
      " create mode 100644 data/gpepp/2022-05-24T08:01:35.859.wav\n"
     ]
    },
    {
     "name": "stderr",
     "output_type": "stream",
     "text": [
      "To https://github.com/aubreymoore/good-vibrations.git\n",
      "   0a558fe..7865209  main -> main\n"
     ]
    },
    {
     "name": "stdout",
     "output_type": "stream",
     "text": [
      "   sleeping for 540s\n",
      "112 of 100000\n",
      "   recording for 60s; saving to /home/pi/good-vibrations/data/gpepp/2022-05-24T08:11:44.251.wav\n",
      "   uploading data to GitHub\n",
      "Already up to date.\n",
      "[main 06f8b8f] record_wav\n",
      " 2 files changed, 23 insertions(+), 1 deletion(-)\n",
      " create mode 100644 data/gpepp/2022-05-24T08:11:44.251.wav\n"
     ]
    },
    {
     "name": "stderr",
     "output_type": "stream",
     "text": [
      "To https://github.com/aubreymoore/good-vibrations.git\n",
      "   7865209..06f8b8f  main -> main\n"
     ]
    },
    {
     "name": "stdout",
     "output_type": "stream",
     "text": [
      "   sleeping for 540s\n",
      "113 of 100000\n",
      "   recording for 60s; saving to /home/pi/good-vibrations/data/gpepp/2022-05-24T08:22:02.202.wav\n",
      "   uploading data to GitHub\n",
      "Already up to date.\n",
      "[main 1959874] record_wav\n",
      " 2 files changed, 21 insertions(+), 1 deletion(-)\n",
      " create mode 100644 data/gpepp/2022-05-24T08:22:02.202.wav\n"
     ]
    },
    {
     "name": "stderr",
     "output_type": "stream",
     "text": [
      "To https://github.com/aubreymoore/good-vibrations.git\n",
      "   06f8b8f..1959874  main -> main\n"
     ]
    },
    {
     "name": "stdout",
     "output_type": "stream",
     "text": [
      "   sleeping for 540s\n",
      "114 of 100000\n",
      "   recording for 60s; saving to /home/pi/good-vibrations/data/gpepp/2022-05-24T08:32:08.633.wav\n",
      "   uploading data to GitHub\n",
      "Already up to date.\n",
      "[main 4aec80a] record_wav\n",
      " 2 files changed, 22 insertions(+)\n",
      " create mode 100644 data/gpepp/2022-05-24T08:32:08.633.wav\n"
     ]
    },
    {
     "name": "stderr",
     "output_type": "stream",
     "text": [
      "To https://github.com/aubreymoore/good-vibrations.git\n",
      "   1959874..4aec80a  main -> main\n"
     ]
    },
    {
     "name": "stdout",
     "output_type": "stream",
     "text": [
      "   sleeping for 540s\n",
      "115 of 100000\n",
      "   recording for 60s; saving to /home/pi/good-vibrations/data/gpepp/2022-05-24T08:42:15.279.wav\n",
      "   uploading data to GitHub\n",
      "Already up to date.\n",
      "[main 23c8619] record_wav\n",
      " 2 files changed, 22 insertions(+)\n",
      " create mode 100644 data/gpepp/2022-05-24T08:42:15.279.wav\n"
     ]
    },
    {
     "name": "stderr",
     "output_type": "stream",
     "text": [
      "To https://github.com/aubreymoore/good-vibrations.git\n",
      "   4aec80a..23c8619  main -> main\n"
     ]
    },
    {
     "name": "stdout",
     "output_type": "stream",
     "text": [
      "   sleeping for 540s\n",
      "116 of 100000\n",
      "   recording for 60s; saving to /home/pi/good-vibrations/data/gpepp/2022-05-24T08:52:21.767.wav\n",
      "   uploading data to GitHub\n"
     ]
    },
    {
     "name": "stderr",
     "output_type": "stream",
     "text": [
      "fatal: unable to access 'https://github.com/aubreymoore/good-vibrations.git/': Could not resolve host: github.com\n"
     ]
    },
    {
     "name": "stdout",
     "output_type": "stream",
     "text": [
      "[main dd4a058] record_wav\n",
      " 2 files changed, 22 insertions(+)\n",
      " create mode 100644 data/gpepp/2022-05-24T08:52:21.767.wav\n",
      "   sleeping for 540s\n"
     ]
    },
    {
     "name": "stderr",
     "output_type": "stream",
     "text": [
      "fatal: unable to access 'https://github.com/aubreymoore/good-vibrations.git/': Could not resolve host: github.com\n"
     ]
    },
    {
     "name": "stdout",
     "output_type": "stream",
     "text": [
      "117 of 100000\n",
      "   recording for 60s; saving to /home/pi/good-vibrations/data/gpepp/2022-05-24T09:02:22.428.wav\n",
      "   uploading data to GitHub\n",
      "Already up to date.\n",
      "[main 9b6f04d] record_wav\n",
      " 2 files changed, 27 insertions(+)\n",
      " create mode 100644 data/gpepp/2022-05-24T09:02:22.428.wav\n"
     ]
    },
    {
     "name": "stderr",
     "output_type": "stream",
     "text": [
      "To https://github.com/aubreymoore/good-vibrations.git\n",
      "   23c8619..9b6f04d  main -> main\n"
     ]
    },
    {
     "name": "stdout",
     "output_type": "stream",
     "text": [
      "   sleeping for 540s\n",
      "118 of 100000\n",
      "   recording for 60s; saving to /home/pi/good-vibrations/data/gpepp/2022-05-24T09:12:30.200.wav\n",
      "   uploading data to GitHub\n",
      "Already up to date.\n",
      "[main 76ec66e] record_wav\n",
      " 2 files changed, 28 insertions(+)\n",
      " create mode 100644 data/gpepp/2022-05-24T09:12:30.200.wav\n"
     ]
    },
    {
     "name": "stderr",
     "output_type": "stream",
     "text": [
      "To https://github.com/aubreymoore/good-vibrations.git\n",
      "   9b6f04d..76ec66e  main -> main\n"
     ]
    },
    {
     "name": "stdout",
     "output_type": "stream",
     "text": [
      "   sleeping for 540s\n",
      "119 of 100000\n",
      "   recording for 60s; saving to /home/pi/good-vibrations/data/gpepp/2022-05-24T09:22:37.312.wav\n",
      "   uploading data to GitHub\n",
      "Already up to date.\n",
      "[main 66dac5f] record_wav\n",
      " 2 files changed, 22 insertions(+)\n",
      " create mode 100644 data/gpepp/2022-05-24T09:22:37.312.wav\n"
     ]
    },
    {
     "name": "stderr",
     "output_type": "stream",
     "text": [
      "To https://github.com/aubreymoore/good-vibrations.git\n",
      "   76ec66e..66dac5f  main -> main\n"
     ]
    },
    {
     "name": "stdout",
     "output_type": "stream",
     "text": [
      "   sleeping for 540s\n",
      "120 of 100000\n",
      "   recording for 60s; saving to /home/pi/good-vibrations/data/gpepp/2022-05-24T09:32:44.371.wav\n",
      "   uploading data to GitHub\n",
      "Already up to date.\n",
      "[main 22dd2c6] record_wav\n",
      " 2 files changed, 22 insertions(+)\n",
      " create mode 100644 data/gpepp/2022-05-24T09:32:44.371.wav\n"
     ]
    },
    {
     "name": "stderr",
     "output_type": "stream",
     "text": [
      "To https://github.com/aubreymoore/good-vibrations.git\n",
      "   66dac5f..22dd2c6  main -> main\n"
     ]
    },
    {
     "name": "stdout",
     "output_type": "stream",
     "text": [
      "   sleeping for 540s\n",
      "121 of 100000\n",
      "   recording for 60s; saving to /home/pi/good-vibrations/data/gpepp/2022-05-24T09:42:52.206.wav\n",
      "   uploading data to GitHub\n",
      "Already up to date.\n",
      "[main 2a63858] record_wav\n",
      " 2 files changed, 22 insertions(+)\n",
      " create mode 100644 data/gpepp/2022-05-24T09:42:52.206.wav\n"
     ]
    },
    {
     "name": "stderr",
     "output_type": "stream",
     "text": [
      "To https://github.com/aubreymoore/good-vibrations.git\n",
      "   22dd2c6..2a63858  main -> main\n"
     ]
    },
    {
     "name": "stdout",
     "output_type": "stream",
     "text": [
      "   sleeping for 540s\n",
      "122 of 100000\n",
      "   recording for 60s; saving to /home/pi/good-vibrations/data/gpepp/2022-05-24T09:53:03.583.wav\n",
      "   uploading data to GitHub\n",
      "Already up to date.\n",
      "[main f6816c5] record_wav\n",
      " 2 files changed, 25 insertions(+), 1 deletion(-)\n",
      " create mode 100644 data/gpepp/2022-05-24T09:53:03.583.wav\n"
     ]
    },
    {
     "name": "stderr",
     "output_type": "stream",
     "text": [
      "To https://github.com/aubreymoore/good-vibrations.git\n",
      "   2a63858..f6816c5  main -> main\n"
     ]
    },
    {
     "name": "stdout",
     "output_type": "stream",
     "text": [
      "   sleeping for 540s\n",
      "123 of 100000\n",
      "   recording for 60s; saving to /home/pi/good-vibrations/data/gpepp/2022-05-24T10:03:10.748.wav\n",
      "   uploading data to GitHub\n",
      "Already up to date.\n",
      "[main 7a228a5] record_wav\n",
      " 2 files changed, 23 insertions(+), 1 deletion(-)\n",
      " create mode 100644 data/gpepp/2022-05-24T10:03:10.748.wav\n"
     ]
    },
    {
     "name": "stderr",
     "output_type": "stream",
     "text": [
      "To https://github.com/aubreymoore/good-vibrations.git\n",
      "   f6816c5..7a228a5  main -> main\n"
     ]
    },
    {
     "name": "stdout",
     "output_type": "stream",
     "text": [
      "   sleeping for 540s\n",
      "124 of 100000\n",
      "   recording for 60s; saving to /home/pi/good-vibrations/data/gpepp/2022-05-24T10:13:20.173.wav\n",
      "   uploading data to GitHub\n",
      "Already up to date.\n",
      "[main 27628e5] record_wav\n",
      " 2 files changed, 23 insertions(+), 1 deletion(-)\n",
      " create mode 100644 data/gpepp/2022-05-24T10:13:20.173.wav\n"
     ]
    },
    {
     "name": "stderr",
     "output_type": "stream",
     "text": [
      "To https://github.com/aubreymoore/good-vibrations.git\n",
      "   7a228a5..27628e5  main -> main\n"
     ]
    },
    {
     "name": "stdout",
     "output_type": "stream",
     "text": [
      "   sleeping for 540s\n",
      "125 of 100000\n",
      "   recording for 60s; saving to /home/pi/good-vibrations/data/gpepp/2022-05-24T10:23:27.948.wav\n",
      "   uploading data to GitHub\n",
      "Already up to date.\n",
      "[main 9b6f07e] record_wav\n",
      " 2 files changed, 23 insertions(+), 1 deletion(-)\n",
      " create mode 100644 data/gpepp/2022-05-24T10:23:27.948.wav\n"
     ]
    },
    {
     "name": "stderr",
     "output_type": "stream",
     "text": [
      "To https://github.com/aubreymoore/good-vibrations.git\n",
      "   27628e5..9b6f07e  main -> main\n"
     ]
    },
    {
     "name": "stdout",
     "output_type": "stream",
     "text": [
      "   sleeping for 540s\n",
      "126 of 100000\n",
      "   recording for 60s; saving to /home/pi/good-vibrations/data/gpepp/2022-05-24T10:33:36.819.wav\n",
      "   uploading data to GitHub\n",
      "Already up to date.\n",
      "[main 561ddd0] record_wav\n",
      " 2 files changed, 23 insertions(+), 1 deletion(-)\n",
      " create mode 100644 data/gpepp/2022-05-24T10:33:36.819.wav\n"
     ]
    },
    {
     "name": "stderr",
     "output_type": "stream",
     "text": [
      "To https://github.com/aubreymoore/good-vibrations.git\n",
      "   9b6f07e..561ddd0  main -> main\n"
     ]
    },
    {
     "name": "stdout",
     "output_type": "stream",
     "text": [
      "   sleeping for 540s\n",
      "127 of 100000\n",
      "   recording for 60s; saving to /home/pi/good-vibrations/data/gpepp/2022-05-24T10:43:51.009.wav\n",
      "   uploading data to GitHub\n"
     ]
    },
    {
     "name": "stderr",
     "output_type": "stream",
     "text": [
      "fatal: unable to access 'https://github.com/aubreymoore/good-vibrations.git/': Could not resolve host: github.com\n"
     ]
    },
    {
     "name": "stdout",
     "output_type": "stream",
     "text": [
      "[main 40b0ea7] record_wav\n",
      " 2 files changed, 23 insertions(+), 1 deletion(-)\n",
      " create mode 100644 data/gpepp/2022-05-24T10:43:51.009.wav\n",
      "   sleeping for 540s\n"
     ]
    },
    {
     "name": "stderr",
     "output_type": "stream",
     "text": [
      "fatal: unable to access 'https://github.com/aubreymoore/good-vibrations.git/': Could not resolve host: github.com\n"
     ]
    },
    {
     "name": "stdout",
     "output_type": "stream",
     "text": [
      "128 of 100000\n",
      "   recording for 60s; saving to /home/pi/good-vibrations/data/gpepp/2022-05-24T10:53:51.719.wav\n",
      "   uploading data to GitHub\n"
     ]
    },
    {
     "name": "stderr",
     "output_type": "stream",
     "text": [
      "fatal: unable to access 'https://github.com/aubreymoore/good-vibrations.git/': Could not resolve host: github.com\n"
     ]
    },
    {
     "name": "stdout",
     "output_type": "stream",
     "text": [
      "[main 3009f17] record_wav\n",
      " 2 files changed, 34 insertions(+), 1 deletion(-)\n",
      " create mode 100644 data/gpepp/2022-05-24T10:53:51.719.wav\n",
      "   sleeping for 540s\n"
     ]
    },
    {
     "name": "stderr",
     "output_type": "stream",
     "text": [
      "fatal: unable to access 'https://github.com/aubreymoore/good-vibrations.git/': Could not resolve host: github.com\n"
     ]
    },
    {
     "name": "stdout",
     "output_type": "stream",
     "text": [
      "129 of 100000\n",
      "   recording for 60s; saving to /home/pi/good-vibrations/data/gpepp/2022-05-24T11:03:52.349.wav\n",
      "   uploading data to GitHub\n"
     ]
    },
    {
     "name": "stderr",
     "output_type": "stream",
     "text": [
      "fatal: unable to access 'https://github.com/aubreymoore/good-vibrations.git/': Could not resolve host: github.com\n"
     ]
    },
    {
     "name": "stdout",
     "output_type": "stream",
     "text": [
      "[main f6b44ed] record_wav\n",
      " 2 files changed, 34 insertions(+), 1 deletion(-)\n",
      " create mode 100644 data/gpepp/2022-05-24T11:03:52.349.wav\n"
     ]
    },
    {
     "name": "stderr",
     "output_type": "stream",
     "text": [
      "To https://github.com/aubreymoore/good-vibrations.git\n",
      "   561ddd0..f6b44ed  main -> main\n"
     ]
    },
    {
     "name": "stdout",
     "output_type": "stream",
     "text": [
      "   sleeping for 540s\n",
      "130 of 100000\n",
      "   recording for 60s; saving to /home/pi/good-vibrations/data/gpepp/2022-05-24T11:14:10.671.wav\n",
      "   uploading data to GitHub\n",
      "Already up to date.\n",
      "[main ef70dcb] record_wav\n",
      " 2 files changed, 33 insertions(+), 1 deletion(-)\n",
      " create mode 100644 data/gpepp/2022-05-24T11:14:10.671.wav\n"
     ]
    },
    {
     "name": "stderr",
     "output_type": "stream",
     "text": [
      "To https://github.com/aubreymoore/good-vibrations.git\n",
      "   f6b44ed..ef70dcb  main -> main\n"
     ]
    },
    {
     "name": "stdout",
     "output_type": "stream",
     "text": [
      "   sleeping for 540s\n",
      "131 of 100000\n",
      "   recording for 60s; saving to /home/pi/good-vibrations/data/gpepp/2022-05-24T11:24:17.246.wav\n",
      "   uploading data to GitHub\n",
      "Already up to date.\n",
      "[main f23ed55] record_wav\n",
      " 2 files changed, 22 insertions(+)\n",
      " create mode 100644 data/gpepp/2022-05-24T11:24:17.246.wav\n"
     ]
    },
    {
     "name": "stderr",
     "output_type": "stream",
     "text": [
      "To https://github.com/aubreymoore/good-vibrations.git\n",
      "   ef70dcb..f23ed55  main -> main\n"
     ]
    },
    {
     "name": "stdout",
     "output_type": "stream",
     "text": [
      "   sleeping for 540s\n",
      "132 of 100000\n",
      "   recording for 60s; saving to /home/pi/good-vibrations/data/gpepp/2022-05-24T11:34:24.904.wav\n",
      "   uploading data to GitHub\n",
      "Already up to date.\n",
      "[main b527c23] record_wav\n",
      " 2 files changed, 22 insertions(+)\n",
      " create mode 100644 data/gpepp/2022-05-24T11:34:24.904.wav\n"
     ]
    },
    {
     "name": "stderr",
     "output_type": "stream",
     "text": [
      "To https://github.com/aubreymoore/good-vibrations.git\n",
      "   f23ed55..b527c23  main -> main\n"
     ]
    },
    {
     "name": "stdout",
     "output_type": "stream",
     "text": [
      "   sleeping for 540s\n",
      "133 of 100000\n",
      "   recording for 60s; saving to /home/pi/good-vibrations/data/gpepp/2022-05-24T11:44:31.830.wav\n",
      "   uploading data to GitHub\n",
      "Already up to date.\n",
      "[main 8c049ad] record_wav\n",
      " 2 files changed, 22 insertions(+)\n",
      " create mode 100644 data/gpepp/2022-05-24T11:44:31.830.wav\n"
     ]
    },
    {
     "name": "stderr",
     "output_type": "stream",
     "text": [
      "To https://github.com/aubreymoore/good-vibrations.git\n",
      "   b527c23..8c049ad  main -> main\n"
     ]
    },
    {
     "name": "stdout",
     "output_type": "stream",
     "text": [
      "   sleeping for 540s\n",
      "134 of 100000\n",
      "   recording for 60s; saving to /home/pi/good-vibrations/data/gpepp/2022-05-24T11:54:39.673.wav\n",
      "   uploading data to GitHub\n",
      "Already up to date.\n",
      "[main 3394fb0] record_wav\n",
      " 2 files changed, 22 insertions(+)\n",
      " create mode 100644 data/gpepp/2022-05-24T11:54:39.673.wav\n"
     ]
    },
    {
     "name": "stderr",
     "output_type": "stream",
     "text": [
      "To https://github.com/aubreymoore/good-vibrations.git\n",
      "   8c049ad..3394fb0  main -> main\n"
     ]
    },
    {
     "name": "stdout",
     "output_type": "stream",
     "text": [
      "   sleeping for 540s\n",
      "135 of 100000\n",
      "   recording for 60s; saving to /home/pi/good-vibrations/data/gpepp/2022-05-24T12:04:49.416.wav\n",
      "   uploading data to GitHub\n",
      "Already up to date.\n",
      "[main 834a47c] record_wav\n",
      " 2 files changed, 22 insertions(+)\n",
      " create mode 100644 data/gpepp/2022-05-24T12:04:49.416.wav\n"
     ]
    },
    {
     "name": "stderr",
     "output_type": "stream",
     "text": [
      "To https://github.com/aubreymoore/good-vibrations.git\n",
      "   3394fb0..834a47c  main -> main\n"
     ]
    },
    {
     "name": "stdout",
     "output_type": "stream",
     "text": [
      "   sleeping for 540s\n",
      "136 of 100000\n",
      "   recording for 60s; saving to /home/pi/good-vibrations/data/gpepp/2022-05-24T12:14:55.999.wav\n",
      "   uploading data to GitHub\n",
      "Already up to date.\n",
      "[main 4ba743c] record_wav\n",
      " 2 files changed, 22 insertions(+)\n",
      " create mode 100644 data/gpepp/2022-05-24T12:14:55.999.wav\n"
     ]
    },
    {
     "name": "stderr",
     "output_type": "stream",
     "text": [
      "To https://github.com/aubreymoore/good-vibrations.git\n",
      "   834a47c..4ba743c  main -> main\n"
     ]
    },
    {
     "name": "stdout",
     "output_type": "stream",
     "text": [
      "   sleeping for 540s\n",
      "137 of 100000\n",
      "   recording for 60s; saving to /home/pi/good-vibrations/data/gpepp/2022-05-24T12:25:03.149.wav\n",
      "   uploading data to GitHub\n",
      "Already up to date.\n",
      "[main cde92a3] record_wav\n",
      " 2 files changed, 22 insertions(+)\n",
      " create mode 100644 data/gpepp/2022-05-24T12:25:03.149.wav\n"
     ]
    },
    {
     "name": "stderr",
     "output_type": "stream",
     "text": [
      "To https://github.com/aubreymoore/good-vibrations.git\n",
      "   4ba743c..cde92a3  main -> main\n"
     ]
    },
    {
     "name": "stdout",
     "output_type": "stream",
     "text": [
      "   sleeping for 540s\n",
      "138 of 100000\n",
      "   recording for 60s; saving to /home/pi/good-vibrations/data/gpepp/2022-05-24T12:35:09.634.wav\n",
      "   uploading data to GitHub\n",
      "Already up to date.\n",
      "[main 46cbe6d] record_wav\n",
      " 2 files changed, 22 insertions(+)\n",
      " create mode 100644 data/gpepp/2022-05-24T12:35:09.634.wav\n"
     ]
    },
    {
     "name": "stderr",
     "output_type": "stream",
     "text": [
      "To https://github.com/aubreymoore/good-vibrations.git\n",
      "   cde92a3..46cbe6d  main -> main\n"
     ]
    },
    {
     "name": "stdout",
     "output_type": "stream",
     "text": [
      "   sleeping for 540s\n",
      "139 of 100000\n",
      "   recording for 60s; saving to /home/pi/good-vibrations/data/gpepp/2022-05-24T12:45:17.749.wav\n",
      "   uploading data to GitHub\n",
      "Already up to date.\n",
      "[main 7713b9b] record_wav\n",
      " 2 files changed, 25 insertions(+), 1 deletion(-)\n",
      " create mode 100644 data/gpepp/2022-05-24T12:45:17.749.wav\n"
     ]
    },
    {
     "name": "stderr",
     "output_type": "stream",
     "text": [
      "To https://github.com/aubreymoore/good-vibrations.git\n",
      "   46cbe6d..7713b9b  main -> main\n"
     ]
    },
    {
     "name": "stdout",
     "output_type": "stream",
     "text": [
      "   sleeping for 540s\n",
      "140 of 100000\n",
      "   recording for 60s; saving to /home/pi/good-vibrations/data/gpepp/2022-05-24T12:55:29.679.wav\n",
      "   uploading data to GitHub\n",
      "Already up to date.\n",
      "[main f65e7a9] record_wav\n",
      " 2 files changed, 23 insertions(+), 1 deletion(-)\n",
      " create mode 100644 data/gpepp/2022-05-24T12:55:29.679.wav\n"
     ]
    },
    {
     "name": "stderr",
     "output_type": "stream",
     "text": [
      "To https://github.com/aubreymoore/good-vibrations.git\n",
      "   7713b9b..f65e7a9  main -> main\n"
     ]
    },
    {
     "name": "stdout",
     "output_type": "stream",
     "text": [
      "   sleeping for 540s\n",
      "141 of 100000\n",
      "   recording for 60s; saving to /home/pi/good-vibrations/data/gpepp/2022-05-24T13:05:52.437.wav\n",
      "   uploading data to GitHub\n",
      "Already up to date.\n",
      "[main d1ee546] record_wav\n",
      " 2 files changed, 23 insertions(+), 1 deletion(-)\n",
      " create mode 100644 data/gpepp/2022-05-24T13:05:52.437.wav\n"
     ]
    },
    {
     "name": "stderr",
     "output_type": "stream",
     "text": [
      "To https://github.com/aubreymoore/good-vibrations.git\n",
      "   f65e7a9..d1ee546  main -> main\n"
     ]
    },
    {
     "name": "stdout",
     "output_type": "stream",
     "text": [
      "   sleeping for 540s\n",
      "142 of 100000\n",
      "   recording for 60s; saving to /home/pi/good-vibrations/data/gpepp/2022-05-24T13:16:00.083.wav\n",
      "   uploading data to GitHub\n",
      "Already up to date.\n",
      "[main 1beba2c] record_wav\n",
      " 2 files changed, 23 insertions(+), 1 deletion(-)\n",
      " create mode 100644 data/gpepp/2022-05-24T13:16:00.083.wav\n"
     ]
    },
    {
     "name": "stderr",
     "output_type": "stream",
     "text": [
      "To https://github.com/aubreymoore/good-vibrations.git\n",
      "   d1ee546..1beba2c  main -> main\n"
     ]
    },
    {
     "name": "stdout",
     "output_type": "stream",
     "text": [
      "   sleeping for 540s\n",
      "143 of 100000\n",
      "   recording for 60s; saving to /home/pi/good-vibrations/data/gpepp/2022-05-24T13:26:11.575.wav\n",
      "   uploading data to GitHub\n",
      "Already up to date.\n",
      "[main 784521f] record_wav\n",
      " 2 files changed, 23 insertions(+), 1 deletion(-)\n",
      " create mode 100644 data/gpepp/2022-05-24T13:26:11.575.wav\n"
     ]
    },
    {
     "name": "stderr",
     "output_type": "stream",
     "text": [
      "To https://github.com/aubreymoore/good-vibrations.git\n",
      "   1beba2c..784521f  main -> main\n"
     ]
    },
    {
     "name": "stdout",
     "output_type": "stream",
     "text": [
      "   sleeping for 540s\n",
      "144 of 100000\n",
      "   recording for 60s; saving to /home/pi/good-vibrations/data/gpepp/2022-05-24T13:36:23.825.wav\n",
      "   uploading data to GitHub\n",
      "Already up to date.\n",
      "[main 89b5416] record_wav\n",
      " 2 files changed, 21 insertions(+), 1 deletion(-)\n",
      " create mode 100644 data/gpepp/2022-05-24T13:36:23.825.wav\n"
     ]
    },
    {
     "name": "stderr",
     "output_type": "stream",
     "text": [
      "To https://github.com/aubreymoore/good-vibrations.git\n",
      "   784521f..89b5416  main -> main\n"
     ]
    },
    {
     "name": "stdout",
     "output_type": "stream",
     "text": [
      "   sleeping for 540s\n",
      "145 of 100000\n",
      "   recording for 60s; saving to /home/pi/good-vibrations/data/gpepp/2022-05-24T13:46:31.490.wav\n",
      "   uploading data to GitHub\n",
      "Already up to date.\n",
      "[main a56ba9d] record_wav\n",
      " 2 files changed, 22 insertions(+)\n",
      " create mode 100644 data/gpepp/2022-05-24T13:46:31.490.wav\n"
     ]
    },
    {
     "name": "stderr",
     "output_type": "stream",
     "text": [
      "To https://github.com/aubreymoore/good-vibrations.git\n",
      "   89b5416..a56ba9d  main -> main\n"
     ]
    },
    {
     "name": "stdout",
     "output_type": "stream",
     "text": [
      "   sleeping for 540s\n",
      "146 of 100000\n",
      "   recording for 60s; saving to /home/pi/good-vibrations/data/gpepp/2022-05-24T13:56:40.947.wav\n",
      "   uploading data to GitHub\n",
      "Already up to date.\n",
      "[main c79a814] record_wav\n",
      " 2 files changed, 22 insertions(+)\n",
      " create mode 100644 data/gpepp/2022-05-24T13:56:40.947.wav\n"
     ]
    },
    {
     "name": "stderr",
     "output_type": "stream",
     "text": [
      "To https://github.com/aubreymoore/good-vibrations.git\n",
      "   a56ba9d..c79a814  main -> main\n"
     ]
    },
    {
     "name": "stdout",
     "output_type": "stream",
     "text": [
      "   sleeping for 540s\n",
      "147 of 100000\n",
      "   recording for 60s; saving to /home/pi/good-vibrations/data/gpepp/2022-05-24T14:06:49.403.wav\n",
      "   uploading data to GitHub\n",
      "Already up to date.\n",
      "[main 2c0ca76] record_wav\n",
      " 2 files changed, 22 insertions(+)\n",
      " create mode 100644 data/gpepp/2022-05-24T14:06:49.403.wav\n"
     ]
    },
    {
     "name": "stderr",
     "output_type": "stream",
     "text": [
      "To https://github.com/aubreymoore/good-vibrations.git\n",
      "   c79a814..2c0ca76  main -> main\n"
     ]
    },
    {
     "name": "stdout",
     "output_type": "stream",
     "text": [
      "   sleeping for 540s\n",
      "148 of 100000\n",
      "   recording for 60s; saving to /home/pi/good-vibrations/data/gpepp/2022-05-24T14:16:56.749.wav\n",
      "   uploading data to GitHub\n",
      "Already up to date.\n",
      "[main 2020a87] record_wav\n",
      " 2 files changed, 22 insertions(+)\n",
      " create mode 100644 data/gpepp/2022-05-24T14:16:56.749.wav\n"
     ]
    },
    {
     "name": "stderr",
     "output_type": "stream",
     "text": [
      "To https://github.com/aubreymoore/good-vibrations.git\n",
      "   2c0ca76..2020a87  main -> main\n"
     ]
    },
    {
     "name": "stdout",
     "output_type": "stream",
     "text": [
      "   sleeping for 540s\n",
      "149 of 100000\n",
      "   recording for 60s; saving to /home/pi/good-vibrations/data/gpepp/2022-05-24T14:27:17.699.wav\n",
      "   uploading data to GitHub\n",
      "Already up to date.\n",
      "[main 9020d4b] record_wav\n",
      " 2 files changed, 22 insertions(+)\n",
      " create mode 100644 data/gpepp/2022-05-24T14:27:17.699.wav\n"
     ]
    },
    {
     "name": "stderr",
     "output_type": "stream",
     "text": [
      "To https://github.com/aubreymoore/good-vibrations.git\n",
      "   2020a87..9020d4b  main -> main\n"
     ]
    },
    {
     "name": "stdout",
     "output_type": "stream",
     "text": [
      "   sleeping for 540s\n",
      "150 of 100000\n",
      "   recording for 60s; saving to /home/pi/good-vibrations/data/gpepp/2022-05-24T14:37:25.329.wav\n",
      "   uploading data to GitHub\n",
      "Already up to date.\n",
      "[main 7ddf146] record_wav\n",
      " 2 files changed, 22 insertions(+)\n",
      " create mode 100644 data/gpepp/2022-05-24T14:37:25.329.wav\n"
     ]
    },
    {
     "name": "stderr",
     "output_type": "stream",
     "text": [
      "To https://github.com/aubreymoore/good-vibrations.git\n",
      "   9020d4b..7ddf146  main -> main\n"
     ]
    },
    {
     "name": "stdout",
     "output_type": "stream",
     "text": [
      "   sleeping for 540s\n",
      "151 of 100000\n",
      "   recording for 60s; saving to /home/pi/good-vibrations/data/gpepp/2022-05-24T14:47:32.269.wav\n",
      "   uploading data to GitHub\n",
      "Already up to date.\n",
      "[main f935ae1] record_wav\n",
      " 2 files changed, 25 insertions(+), 1 deletion(-)\n",
      " create mode 100644 data/gpepp/2022-05-24T14:47:32.269.wav\n"
     ]
    },
    {
     "name": "stderr",
     "output_type": "stream",
     "text": [
      "To https://github.com/aubreymoore/good-vibrations.git\n",
      "   7ddf146..f935ae1  main -> main\n"
     ]
    },
    {
     "name": "stdout",
     "output_type": "stream",
     "text": [
      "   sleeping for 540s\n",
      "152 of 100000\n",
      "   recording for 60s; saving to /home/pi/good-vibrations/data/gpepp/2022-05-24T14:57:39.599.wav\n",
      "   uploading data to GitHub\n",
      "Already up to date.\n",
      "[main 6430b6d] record_wav\n",
      " 2 files changed, 23 insertions(+), 1 deletion(-)\n",
      " create mode 100644 data/gpepp/2022-05-24T14:57:39.599.wav\n"
     ]
    },
    {
     "name": "stderr",
     "output_type": "stream",
     "text": [
      "To https://github.com/aubreymoore/good-vibrations.git\n",
      "   f935ae1..6430b6d  main -> main\n"
     ]
    },
    {
     "name": "stdout",
     "output_type": "stream",
     "text": [
      "   sleeping for 540s\n",
      "153 of 100000\n",
      "   recording for 60s; saving to /home/pi/good-vibrations/data/gpepp/2022-05-24T15:07:47.419.wav\n",
      "   uploading data to GitHub\n",
      "Already up to date.\n",
      "[main 9aa5d58] record_wav\n",
      " 2 files changed, 23 insertions(+), 1 deletion(-)\n",
      " create mode 100644 data/gpepp/2022-05-24T15:07:47.419.wav\n"
     ]
    },
    {
     "name": "stderr",
     "output_type": "stream",
     "text": [
      "To https://github.com/aubreymoore/good-vibrations.git\n",
      "   6430b6d..9aa5d58  main -> main\n"
     ]
    },
    {
     "name": "stdout",
     "output_type": "stream",
     "text": [
      "   sleeping for 540s\n",
      "154 of 100000\n",
      "   recording for 60s; saving to /home/pi/good-vibrations/data/gpepp/2022-05-24T15:17:55.367.wav\n",
      "   uploading data to GitHub\n",
      "Already up to date.\n",
      "[main 9605e2a] record_wav\n",
      " 2 files changed, 23 insertions(+), 1 deletion(-)\n",
      " create mode 100644 data/gpepp/2022-05-24T15:17:55.367.wav\n"
     ]
    },
    {
     "name": "stderr",
     "output_type": "stream",
     "text": [
      "To https://github.com/aubreymoore/good-vibrations.git\n",
      "   9aa5d58..9605e2a  main -> main\n"
     ]
    },
    {
     "name": "stdout",
     "output_type": "stream",
     "text": [
      "   sleeping for 540s\n",
      "155 of 100000\n",
      "   recording for 60s; saving to /home/pi/good-vibrations/data/gpepp/2022-05-24T15:28:02.443.wav\n",
      "   uploading data to GitHub\n",
      "Already up to date.\n",
      "[main 651501c] record_wav\n",
      " 2 files changed, 23 insertions(+), 1 deletion(-)\n",
      " create mode 100644 data/gpepp/2022-05-24T15:28:02.443.wav\n"
     ]
    },
    {
     "name": "stderr",
     "output_type": "stream",
     "text": [
      "To https://github.com/aubreymoore/good-vibrations.git\n",
      "   9605e2a..651501c  main -> main\n"
     ]
    },
    {
     "name": "stdout",
     "output_type": "stream",
     "text": [
      "   sleeping for 540s\n",
      "156 of 100000\n",
      "   recording for 60s; saving to /home/pi/good-vibrations/data/gpepp/2022-05-24T15:38:09.035.wav\n",
      "   uploading data to GitHub\n",
      "Already up to date.\n",
      "[main 5bd2a10] record_wav\n",
      " 2 files changed, 23 insertions(+), 1 deletion(-)\n",
      " create mode 100644 data/gpepp/2022-05-24T15:38:09.035.wav\n"
     ]
    },
    {
     "name": "stderr",
     "output_type": "stream",
     "text": [
      "To https://github.com/aubreymoore/good-vibrations.git\n",
      "   651501c..5bd2a10  main -> main\n"
     ]
    },
    {
     "name": "stdout",
     "output_type": "stream",
     "text": [
      "   sleeping for 540s\n",
      "157 of 100000\n",
      "   recording for 60s; saving to /home/pi/good-vibrations/data/gpepp/2022-05-24T15:48:15.739.wav\n",
      "   uploading data to GitHub\n",
      "Already up to date.\n",
      "[main efc6ce7] record_wav\n",
      " 2 files changed, 23 insertions(+), 1 deletion(-)\n",
      " create mode 100644 data/gpepp/2022-05-24T15:48:15.739.wav\n"
     ]
    },
    {
     "name": "stderr",
     "output_type": "stream",
     "text": [
      "To https://github.com/aubreymoore/good-vibrations.git\n",
      "   5bd2a10..efc6ce7  main -> main\n"
     ]
    },
    {
     "name": "stdout",
     "output_type": "stream",
     "text": [
      "   sleeping for 540s\n",
      "158 of 100000\n",
      "   recording for 60s; saving to /home/pi/good-vibrations/data/gpepp/2022-05-24T15:58:22.187.wav\n",
      "   uploading data to GitHub\n",
      "Already up to date.\n",
      "[main f69867a] record_wav\n",
      " 2 files changed, 23 insertions(+), 1 deletion(-)\n",
      " create mode 100644 data/gpepp/2022-05-24T15:58:22.187.wav\n"
     ]
    },
    {
     "name": "stderr",
     "output_type": "stream",
     "text": [
      "To https://github.com/aubreymoore/good-vibrations.git\n",
      "   efc6ce7..f69867a  main -> main\n"
     ]
    },
    {
     "name": "stdout",
     "output_type": "stream",
     "text": [
      "   sleeping for 540s\n",
      "159 of 100000\n",
      "   recording for 60s; saving to /home/pi/good-vibrations/data/gpepp/2022-05-24T16:08:28.899.wav\n",
      "   uploading data to GitHub\n",
      "Already up to date.\n",
      "[main 678b057] record_wav\n",
      " 2 files changed, 23 insertions(+), 1 deletion(-)\n",
      " create mode 100644 data/gpepp/2022-05-24T16:08:28.899.wav\n"
     ]
    },
    {
     "name": "stderr",
     "output_type": "stream",
     "text": [
      "To https://github.com/aubreymoore/good-vibrations.git\n",
      "   f69867a..678b057  main -> main\n"
     ]
    },
    {
     "name": "stdout",
     "output_type": "stream",
     "text": [
      "   sleeping for 540s\n",
      "160 of 100000\n",
      "   recording for 60s; saving to /home/pi/good-vibrations/data/gpepp/2022-05-24T16:18:35.694.wav\n",
      "   uploading data to GitHub\n",
      "Already up to date.\n",
      "[main 75281ab] record_wav\n",
      " 2 files changed, 23 insertions(+), 1 deletion(-)\n",
      " create mode 100644 data/gpepp/2022-05-24T16:18:35.694.wav\n"
     ]
    },
    {
     "name": "stderr",
     "output_type": "stream",
     "text": [
      "To https://github.com/aubreymoore/good-vibrations.git\n",
      "   678b057..75281ab  main -> main\n"
     ]
    },
    {
     "name": "stdout",
     "output_type": "stream",
     "text": [
      "   sleeping for 540s\n",
      "161 of 100000\n",
      "   recording for 60s; saving to /home/pi/good-vibrations/data/gpepp/2022-05-24T16:28:44.762.wav\n",
      "   uploading data to GitHub\n",
      "Already up to date.\n",
      "[main 8b801a2] record_wav\n",
      " 2 files changed, 21 insertions(+), 1 deletion(-)\n",
      " create mode 100644 data/gpepp/2022-05-24T16:28:44.762.wav\n"
     ]
    },
    {
     "name": "stderr",
     "output_type": "stream",
     "text": [
      "To https://github.com/aubreymoore/good-vibrations.git\n",
      "   75281ab..8b801a2  main -> main\n"
     ]
    },
    {
     "name": "stdout",
     "output_type": "stream",
     "text": [
      "   sleeping for 540s\n",
      "162 of 100000\n",
      "   recording for 60s; saving to /home/pi/good-vibrations/data/gpepp/2022-05-24T16:38:52.893.wav\n",
      "   uploading data to GitHub\n",
      "Already up to date.\n",
      "[main 9811e0c] record_wav\n",
      " 2 files changed, 22 insertions(+)\n",
      " create mode 100644 data/gpepp/2022-05-24T16:38:52.893.wav\n"
     ]
    },
    {
     "name": "stderr",
     "output_type": "stream",
     "text": [
      "To https://github.com/aubreymoore/good-vibrations.git\n",
      "   8b801a2..9811e0c  main -> main\n"
     ]
    },
    {
     "name": "stdout",
     "output_type": "stream",
     "text": [
      "   sleeping for 540s\n",
      "163 of 100000\n",
      "   recording for 60s; saving to /home/pi/good-vibrations/data/gpepp/2022-05-24T16:48:59.889.wav\n",
      "   uploading data to GitHub\n",
      "Already up to date.\n",
      "[main d19530e] record_wav\n",
      " 2 files changed, 22 insertions(+)\n",
      " create mode 100644 data/gpepp/2022-05-24T16:48:59.889.wav\n"
     ]
    },
    {
     "name": "stderr",
     "output_type": "stream",
     "text": [
      "To https://github.com/aubreymoore/good-vibrations.git\n",
      "   9811e0c..d19530e  main -> main\n"
     ]
    },
    {
     "name": "stdout",
     "output_type": "stream",
     "text": [
      "   sleeping for 540s\n",
      "164 of 100000\n",
      "   recording for 60s; saving to /home/pi/good-vibrations/data/gpepp/2022-05-24T16:59:06.709.wav\n",
      "   uploading data to GitHub\n",
      "Already up to date.\n",
      "[main 9f7d729] record_wav\n",
      " 2 files changed, 22 insertions(+)\n",
      " create mode 100644 data/gpepp/2022-05-24T16:59:06.709.wav\n"
     ]
    },
    {
     "name": "stderr",
     "output_type": "stream",
     "text": [
      "To https://github.com/aubreymoore/good-vibrations.git\n",
      "   d19530e..9f7d729  main -> main\n"
     ]
    },
    {
     "name": "stdout",
     "output_type": "stream",
     "text": [
      "   sleeping for 540s\n",
      "165 of 100000\n",
      "   recording for 60s; saving to /home/pi/good-vibrations/data/gpepp/2022-05-24T17:09:13.159.wav\n",
      "   uploading data to GitHub\n",
      "Already up to date.\n",
      "[main 9f8a38f] record_wav\n",
      " 2 files changed, 22 insertions(+)\n",
      " create mode 100644 data/gpepp/2022-05-24T17:09:13.159.wav\n"
     ]
    },
    {
     "name": "stderr",
     "output_type": "stream",
     "text": [
      "To https://github.com/aubreymoore/good-vibrations.git\n",
      "   9f7d729..9f8a38f  main -> main\n"
     ]
    },
    {
     "name": "stdout",
     "output_type": "stream",
     "text": [
      "   sleeping for 540s\n",
      "166 of 100000\n",
      "   recording for 60s; saving to /home/pi/good-vibrations/data/gpepp/2022-05-24T17:19:19.921.wav\n",
      "   uploading data to GitHub\n",
      "Already up to date.\n",
      "[main f6f60ad] record_wav\n",
      " 2 files changed, 22 insertions(+)\n",
      " create mode 100644 data/gpepp/2022-05-24T17:19:19.921.wav\n"
     ]
    },
    {
     "name": "stderr",
     "output_type": "stream",
     "text": [
      "To https://github.com/aubreymoore/good-vibrations.git\n",
      "   9f8a38f..f6f60ad  main -> main\n"
     ]
    },
    {
     "name": "stdout",
     "output_type": "stream",
     "text": [
      "   sleeping for 540s\n",
      "167 of 100000\n",
      "   recording for 60s; saving to /home/pi/good-vibrations/data/gpepp/2022-05-24T17:29:26.499.wav\n",
      "   uploading data to GitHub\n",
      "Already up to date.\n",
      "[main 5daa392] record_wav\n",
      " 2 files changed, 22 insertions(+)\n",
      " create mode 100644 data/gpepp/2022-05-24T17:29:26.499.wav\n"
     ]
    },
    {
     "name": "stderr",
     "output_type": "stream",
     "text": [
      "To https://github.com/aubreymoore/good-vibrations.git\n",
      "   f6f60ad..5daa392  main -> main\n"
     ]
    },
    {
     "name": "stdout",
     "output_type": "stream",
     "text": [
      "   sleeping for 540s\n",
      "168 of 100000\n",
      "   recording for 60s; saving to /home/pi/good-vibrations/data/gpepp/2022-05-24T17:39:32.949.wav\n",
      "   uploading data to GitHub\n",
      "Already up to date.\n",
      "[main df6af62] record_wav\n",
      " 2 files changed, 22 insertions(+)\n",
      " create mode 100644 data/gpepp/2022-05-24T17:39:32.949.wav\n"
     ]
    },
    {
     "name": "stderr",
     "output_type": "stream",
     "text": [
      "To https://github.com/aubreymoore/good-vibrations.git\n",
      "   5daa392..df6af62  main -> main\n"
     ]
    },
    {
     "name": "stdout",
     "output_type": "stream",
     "text": [
      "   sleeping for 540s\n",
      "169 of 100000\n",
      "   recording for 60s; saving to /home/pi/good-vibrations/data/gpepp/2022-05-24T17:49:41.719.wav\n",
      "   uploading data to GitHub\n",
      "Already up to date.\n",
      "[main e14938a] record_wav\n",
      " 2 files changed, 22 insertions(+)\n",
      " create mode 100644 data/gpepp/2022-05-24T17:49:41.719.wav\n"
     ]
    },
    {
     "name": "stderr",
     "output_type": "stream",
     "text": [
      "To https://github.com/aubreymoore/good-vibrations.git\n",
      "   df6af62..e14938a  main -> main\n"
     ]
    },
    {
     "name": "stdout",
     "output_type": "stream",
     "text": [
      "   sleeping for 540s\n",
      "170 of 100000\n",
      "   recording for 60s; saving to /home/pi/good-vibrations/data/gpepp/2022-05-24T17:59:48.669.wav\n",
      "   uploading data to GitHub\n",
      "Already up to date.\n",
      "[main e9fc683] record_wav\n",
      " 2 files changed, 25 insertions(+), 1 deletion(-)\n",
      " create mode 100644 data/gpepp/2022-05-24T17:59:48.669.wav\n"
     ]
    },
    {
     "name": "stderr",
     "output_type": "stream",
     "text": [
      "To https://github.com/aubreymoore/good-vibrations.git\n",
      "   e14938a..e9fc683  main -> main\n"
     ]
    },
    {
     "name": "stdout",
     "output_type": "stream",
     "text": [
      "   sleeping for 540s\n",
      "171 of 100000\n",
      "   recording for 60s; saving to /home/pi/good-vibrations/data/gpepp/2022-05-24T18:09:56.319.wav\n",
      "   uploading data to GitHub\n",
      "Already up to date.\n",
      "[main ae4f88b] record_wav\n",
      " 2 files changed, 23 insertions(+), 1 deletion(-)\n",
      " create mode 100644 data/gpepp/2022-05-24T18:09:56.319.wav\n"
     ]
    },
    {
     "name": "stderr",
     "output_type": "stream",
     "text": [
      "To https://github.com/aubreymoore/good-vibrations.git\n",
      "   e9fc683..ae4f88b  main -> main\n"
     ]
    },
    {
     "name": "stdout",
     "output_type": "stream",
     "text": [
      "   sleeping for 540s\n",
      "172 of 100000\n",
      "   recording for 60s; saving to /home/pi/good-vibrations/data/gpepp/2022-05-24T18:20:03.020.wav\n",
      "   uploading data to GitHub\n",
      "Already up to date.\n",
      "[main 4856076] record_wav\n",
      " 2 files changed, 23 insertions(+), 1 deletion(-)\n",
      " create mode 100644 data/gpepp/2022-05-24T18:20:03.020.wav\n"
     ]
    },
    {
     "name": "stderr",
     "output_type": "stream",
     "text": [
      "To https://github.com/aubreymoore/good-vibrations.git\n",
      "   ae4f88b..4856076  main -> main\n"
     ]
    },
    {
     "name": "stdout",
     "output_type": "stream",
     "text": [
      "   sleeping for 540s\n",
      "173 of 100000\n",
      "   recording for 60s; saving to /home/pi/good-vibrations/data/gpepp/2022-05-24T18:30:11.146.wav\n",
      "   uploading data to GitHub\n",
      "Already up to date.\n",
      "[main 93ab7be] record_wav\n",
      " 2 files changed, 23 insertions(+), 1 deletion(-)\n",
      " create mode 100644 data/gpepp/2022-05-24T18:30:11.146.wav\n"
     ]
    },
    {
     "name": "stderr",
     "output_type": "stream",
     "text": [
      "To https://github.com/aubreymoore/good-vibrations.git\n",
      "   4856076..93ab7be  main -> main\n"
     ]
    },
    {
     "name": "stdout",
     "output_type": "stream",
     "text": [
      "   sleeping for 540s\n",
      "174 of 100000\n",
      "   recording for 60s; saving to /home/pi/good-vibrations/data/gpepp/2022-05-24T18:40:17.490.wav\n",
      "   uploading data to GitHub\n",
      "Already up to date.\n",
      "[main c55250f] record_wav\n",
      " 2 files changed, 23 insertions(+), 1 deletion(-)\n",
      " create mode 100644 data/gpepp/2022-05-24T18:40:17.490.wav\n"
     ]
    },
    {
     "name": "stderr",
     "output_type": "stream",
     "text": [
      "To https://github.com/aubreymoore/good-vibrations.git\n",
      "   93ab7be..c55250f  main -> main\n"
     ]
    },
    {
     "name": "stdout",
     "output_type": "stream",
     "text": [
      "   sleeping for 540s\n",
      "175 of 100000\n",
      "   recording for 60s; saving to /home/pi/good-vibrations/data/gpepp/2022-05-24T18:50:23.789.wav\n",
      "   uploading data to GitHub\n",
      "Already up to date.\n",
      "[main 7df7e80] record_wav\n",
      " 2 files changed, 23 insertions(+), 1 deletion(-)\n",
      " create mode 100644 data/gpepp/2022-05-24T18:50:23.789.wav\n"
     ]
    },
    {
     "name": "stderr",
     "output_type": "stream",
     "text": [
      "To https://github.com/aubreymoore/good-vibrations.git\n",
      "   c55250f..7df7e80  main -> main\n"
     ]
    },
    {
     "name": "stdout",
     "output_type": "stream",
     "text": [
      "   sleeping for 540s\n",
      "176 of 100000\n",
      "   recording for 60s; saving to /home/pi/good-vibrations/data/gpepp/2022-05-24T19:00:30.419.wav\n",
      "   uploading data to GitHub\n",
      "Already up to date.\n",
      "[main 7a71814] record_wav\n",
      " 2 files changed, 23 insertions(+), 1 deletion(-)\n",
      " create mode 100644 data/gpepp/2022-05-24T19:00:30.419.wav\n"
     ]
    },
    {
     "name": "stderr",
     "output_type": "stream",
     "text": [
      "To https://github.com/aubreymoore/good-vibrations.git\n",
      "   7df7e80..7a71814  main -> main\n"
     ]
    },
    {
     "name": "stdout",
     "output_type": "stream",
     "text": [
      "   sleeping for 540s\n",
      "177 of 100000\n",
      "   recording for 60s; saving to /home/pi/good-vibrations/data/gpepp/2022-05-24T19:10:36.801.wav\n",
      "   uploading data to GitHub\n",
      "Already up to date.\n",
      "[main a37cf00] record_wav\n",
      " 2 files changed, 23 insertions(+), 1 deletion(-)\n",
      " create mode 100644 data/gpepp/2022-05-24T19:10:36.801.wav\n"
     ]
    },
    {
     "name": "stderr",
     "output_type": "stream",
     "text": [
      "To https://github.com/aubreymoore/good-vibrations.git\n",
      "   7a71814..a37cf00  main -> main\n"
     ]
    },
    {
     "name": "stdout",
     "output_type": "stream",
     "text": [
      "   sleeping for 540s\n",
      "178 of 100000\n",
      "   recording for 60s; saving to /home/pi/good-vibrations/data/gpepp/2022-05-24T19:20:45.799.wav\n",
      "   uploading data to GitHub\n",
      "Already up to date.\n",
      "[main a4bf6fa] record_wav\n",
      " 2 files changed, 23 insertions(+), 1 deletion(-)\n",
      " create mode 100644 data/gpepp/2022-05-24T19:20:45.799.wav\n"
     ]
    },
    {
     "name": "stderr",
     "output_type": "stream",
     "text": [
      "To https://github.com/aubreymoore/good-vibrations.git\n",
      "   a37cf00..a4bf6fa  main -> main\n"
     ]
    },
    {
     "name": "stdout",
     "output_type": "stream",
     "text": [
      "   sleeping for 540s\n",
      "179 of 100000\n",
      "   recording for 60s; saving to /home/pi/good-vibrations/data/gpepp/2022-05-24T19:30:52.434.wav\n",
      "   uploading data to GitHub\n",
      "Already up to date.\n",
      "[main a6fc335] record_wav\n",
      " 2 files changed, 23 insertions(+), 1 deletion(-)\n",
      " create mode 100644 data/gpepp/2022-05-24T19:30:52.434.wav\n"
     ]
    },
    {
     "name": "stderr",
     "output_type": "stream",
     "text": [
      "To https://github.com/aubreymoore/good-vibrations.git\n",
      "   a4bf6fa..a6fc335  main -> main\n"
     ]
    },
    {
     "name": "stdout",
     "output_type": "stream",
     "text": [
      "   sleeping for 540s\n",
      "180 of 100000\n",
      "   recording for 60s; saving to /home/pi/good-vibrations/data/gpepp/2022-05-24T19:40:59.270.wav\n",
      "   uploading data to GitHub\n",
      "Already up to date.\n",
      "[main e54a95e] record_wav\n",
      " 2 files changed, 21 insertions(+), 1 deletion(-)\n",
      " create mode 100644 data/gpepp/2022-05-24T19:40:59.270.wav\n"
     ]
    },
    {
     "name": "stderr",
     "output_type": "stream",
     "text": [
      "To https://github.com/aubreymoore/good-vibrations.git\n",
      "   a6fc335..e54a95e  main -> main\n"
     ]
    },
    {
     "name": "stdout",
     "output_type": "stream",
     "text": [
      "   sleeping for 540s\n",
      "181 of 100000\n",
      "   recording for 60s; saving to /home/pi/good-vibrations/data/gpepp/2022-05-24T19:51:05.779.wav\n",
      "   uploading data to GitHub\n",
      "Already up to date.\n",
      "[main 6e2fa26] record_wav\n",
      " 2 files changed, 22 insertions(+)\n",
      " create mode 100644 data/gpepp/2022-05-24T19:51:05.779.wav\n"
     ]
    },
    {
     "name": "stderr",
     "output_type": "stream",
     "text": [
      "To https://github.com/aubreymoore/good-vibrations.git\n",
      "   e54a95e..6e2fa26  main -> main\n"
     ]
    },
    {
     "name": "stdout",
     "output_type": "stream",
     "text": [
      "   sleeping for 540s\n",
      "182 of 100000\n",
      "   recording for 60s; saving to /home/pi/good-vibrations/data/gpepp/2022-05-24T20:01:12.439.wav\n",
      "   uploading data to GitHub\n",
      "Already up to date.\n",
      "[main 02bde3f] record_wav\n",
      " 2 files changed, 22 insertions(+)\n",
      " create mode 100644 data/gpepp/2022-05-24T20:01:12.439.wav\n"
     ]
    },
    {
     "name": "stderr",
     "output_type": "stream",
     "text": [
      "To https://github.com/aubreymoore/good-vibrations.git\n",
      "   6e2fa26..02bde3f  main -> main\n"
     ]
    },
    {
     "name": "stdout",
     "output_type": "stream",
     "text": [
      "   sleeping for 540s\n",
      "183 of 100000\n",
      "   recording for 60s; saving to /home/pi/good-vibrations/data/gpepp/2022-05-24T20:11:19.086.wav\n",
      "   uploading data to GitHub\n",
      "Already up to date.\n",
      "[main 80a3e54] record_wav\n",
      " 2 files changed, 22 insertions(+)\n",
      " create mode 100644 data/gpepp/2022-05-24T20:11:19.086.wav\n"
     ]
    },
    {
     "name": "stderr",
     "output_type": "stream",
     "text": [
      "To https://github.com/aubreymoore/good-vibrations.git\n",
      "   02bde3f..80a3e54  main -> main\n"
     ]
    },
    {
     "name": "stdout",
     "output_type": "stream",
     "text": [
      "   sleeping for 540s\n",
      "184 of 100000\n",
      "   recording for 60s; saving to /home/pi/good-vibrations/data/gpepp/2022-05-24T20:21:26.091.wav\n",
      "   uploading data to GitHub\n",
      "Already up to date.\n",
      "[main 66751ad] record_wav\n",
      " 2 files changed, 22 insertions(+)\n",
      " create mode 100644 data/gpepp/2022-05-24T20:21:26.091.wav\n"
     ]
    },
    {
     "name": "stderr",
     "output_type": "stream",
     "text": [
      "To https://github.com/aubreymoore/good-vibrations.git\n",
      "   80a3e54..66751ad  main -> main\n"
     ]
    },
    {
     "name": "stdout",
     "output_type": "stream",
     "text": [
      "   sleeping for 540s\n",
      "185 of 100000\n",
      "   recording for 60s; saving to /home/pi/good-vibrations/data/gpepp/2022-05-24T20:31:32.749.wav\n",
      "   uploading data to GitHub\n",
      "Already up to date.\n",
      "[main 168c5a1] record_wav\n",
      " 2 files changed, 22 insertions(+)\n",
      " create mode 100644 data/gpepp/2022-05-24T20:31:32.749.wav\n"
     ]
    },
    {
     "name": "stderr",
     "output_type": "stream",
     "text": [
      "To https://github.com/aubreymoore/good-vibrations.git\n",
      "   66751ad..168c5a1  main -> main\n"
     ]
    },
    {
     "name": "stdout",
     "output_type": "stream",
     "text": [
      "   sleeping for 540s\n",
      "186 of 100000\n",
      "   recording for 60s; saving to /home/pi/good-vibrations/data/gpepp/2022-05-24T20:41:43.021.wav\n",
      "   uploading data to GitHub\n",
      "Already up to date.\n",
      "[main f333c5b] record_wav\n",
      " 2 files changed, 22 insertions(+)\n",
      " create mode 100644 data/gpepp/2022-05-24T20:41:43.021.wav\n"
     ]
    },
    {
     "name": "stderr",
     "output_type": "stream",
     "text": [
      "To https://github.com/aubreymoore/good-vibrations.git\n",
      "   168c5a1..f333c5b  main -> main\n"
     ]
    },
    {
     "name": "stdout",
     "output_type": "stream",
     "text": [
      "   sleeping for 540s\n",
      "187 of 100000\n",
      "   recording for 60s; saving to /home/pi/good-vibrations/data/gpepp/2022-05-24T20:51:51.132.wav\n",
      "   uploading data to GitHub\n",
      "Already up to date.\n",
      "[main 2895c7e] record_wav\n",
      " 2 files changed, 22 insertions(+)\n",
      " create mode 100644 data/gpepp/2022-05-24T20:51:51.132.wav\n"
     ]
    },
    {
     "name": "stderr",
     "output_type": "stream",
     "text": [
      "To https://github.com/aubreymoore/good-vibrations.git\n",
      "   f333c5b..2895c7e  main -> main\n"
     ]
    },
    {
     "name": "stdout",
     "output_type": "stream",
     "text": [
      "   sleeping for 540s\n",
      "188 of 100000\n",
      "   recording for 60s; saving to /home/pi/good-vibrations/data/gpepp/2022-05-24T21:01:57.939.wav\n",
      "   uploading data to GitHub\n",
      "Already up to date.\n",
      "[main e601fa0] record_wav\n",
      " 2 files changed, 22 insertions(+)\n",
      " create mode 100644 data/gpepp/2022-05-24T21:01:57.939.wav\n"
     ]
    },
    {
     "name": "stderr",
     "output_type": "stream",
     "text": [
      "To https://github.com/aubreymoore/good-vibrations.git\n",
      "   2895c7e..e601fa0  main -> main\n"
     ]
    },
    {
     "name": "stdout",
     "output_type": "stream",
     "text": [
      "   sleeping for 540s\n",
      "189 of 100000\n",
      "   recording for 60s; saving to /home/pi/good-vibrations/data/gpepp/2022-05-24T21:12:04.599.wav\n",
      "   uploading data to GitHub\n",
      "Already up to date.\n",
      "[main 98acabe] record_wav\n",
      " 2 files changed, 22 insertions(+)\n",
      " create mode 100644 data/gpepp/2022-05-24T21:12:04.599.wav\n"
     ]
    },
    {
     "name": "stderr",
     "output_type": "stream",
     "text": [
      "To https://github.com/aubreymoore/good-vibrations.git\n",
      "   e601fa0..98acabe  main -> main\n"
     ]
    },
    {
     "name": "stdout",
     "output_type": "stream",
     "text": [
      "   sleeping for 540s\n",
      "190 of 100000\n",
      "   recording for 60s; saving to /home/pi/good-vibrations/data/gpepp/2022-05-24T21:22:13.529.wav\n",
      "   uploading data to GitHub\n",
      "Already up to date.\n",
      "[main f0fa0b0] record_wav\n",
      " 2 files changed, 25 insertions(+), 1 deletion(-)\n",
      " create mode 100644 data/gpepp/2022-05-24T21:22:13.529.wav\n"
     ]
    },
    {
     "name": "stderr",
     "output_type": "stream",
     "text": [
      "To https://github.com/aubreymoore/good-vibrations.git\n",
      "   98acabe..f0fa0b0  main -> main\n"
     ]
    },
    {
     "name": "stdout",
     "output_type": "stream",
     "text": [
      "   sleeping for 540s\n",
      "191 of 100000\n",
      "   recording for 60s; saving to /home/pi/good-vibrations/data/gpepp/2022-05-24T21:32:23.410.wav\n",
      "   uploading data to GitHub\n",
      "Already up to date.\n",
      "[main 666423e] record_wav\n",
      " 2 files changed, 23 insertions(+), 1 deletion(-)\n",
      " create mode 100644 data/gpepp/2022-05-24T21:32:23.410.wav\n"
     ]
    },
    {
     "name": "stderr",
     "output_type": "stream",
     "text": [
      "To https://github.com/aubreymoore/good-vibrations.git\n",
      "   f0fa0b0..666423e  main -> main\n"
     ]
    },
    {
     "name": "stdout",
     "output_type": "stream",
     "text": [
      "   sleeping for 540s\n",
      "192 of 100000\n",
      "   recording for 60s; saving to /home/pi/good-vibrations/data/gpepp/2022-05-24T21:42:30.101.wav\n",
      "   uploading data to GitHub\n",
      "Already up to date.\n",
      "[main 231b41c] record_wav\n",
      " 2 files changed, 23 insertions(+), 1 deletion(-)\n",
      " create mode 100644 data/gpepp/2022-05-24T21:42:30.101.wav\n"
     ]
    },
    {
     "name": "stderr",
     "output_type": "stream",
     "text": [
      "To https://github.com/aubreymoore/good-vibrations.git\n",
      "   666423e..231b41c  main -> main\n"
     ]
    },
    {
     "name": "stdout",
     "output_type": "stream",
     "text": [
      "   sleeping for 540s\n",
      "193 of 100000\n",
      "   recording for 60s; saving to /home/pi/good-vibrations/data/gpepp/2022-05-24T21:52:36.736.wav\n",
      "   uploading data to GitHub\n",
      "Already up to date.\n",
      "[main 1df945d] record_wav\n",
      " 2 files changed, 23 insertions(+), 1 deletion(-)\n",
      " create mode 100644 data/gpepp/2022-05-24T21:52:36.736.wav\n"
     ]
    },
    {
     "name": "stderr",
     "output_type": "stream",
     "text": [
      "To https://github.com/aubreymoore/good-vibrations.git\n",
      "   231b41c..1df945d  main -> main\n"
     ]
    },
    {
     "name": "stdout",
     "output_type": "stream",
     "text": [
      "   sleeping for 540s\n",
      "194 of 100000\n",
      "   recording for 60s; saving to /home/pi/good-vibrations/data/gpepp/2022-05-24T22:02:47.583.wav\n",
      "   uploading data to GitHub\n",
      "Already up to date.\n",
      "[main e4825d5] record_wav\n",
      " 2 files changed, 23 insertions(+), 1 deletion(-)\n",
      " create mode 100644 data/gpepp/2022-05-24T22:02:47.583.wav\n"
     ]
    },
    {
     "name": "stderr",
     "output_type": "stream",
     "text": [
      "To https://github.com/aubreymoore/good-vibrations.git\n",
      "   1df945d..e4825d5  main -> main\n"
     ]
    },
    {
     "name": "stdout",
     "output_type": "stream",
     "text": [
      "   sleeping for 540s\n",
      "195 of 100000\n",
      "   recording for 60s; saving to /home/pi/good-vibrations/data/gpepp/2022-05-24T22:13:02.747.wav\n",
      "   uploading data to GitHub\n",
      "Already up to date.\n",
      "[main 1e9209a] record_wav\n",
      " 2 files changed, 23 insertions(+), 1 deletion(-)\n",
      " create mode 100644 data/gpepp/2022-05-24T22:13:02.747.wav\n"
     ]
    },
    {
     "name": "stderr",
     "output_type": "stream",
     "text": [
      "To https://github.com/aubreymoore/good-vibrations.git\n",
      "   e4825d5..1e9209a  main -> main\n"
     ]
    },
    {
     "name": "stdout",
     "output_type": "stream",
     "text": [
      "   sleeping for 540s\n",
      "196 of 100000\n",
      "   recording for 60s; saving to /home/pi/good-vibrations/data/gpepp/2022-05-24T22:23:09.189.wav\n",
      "   uploading data to GitHub\n",
      "Already up to date.\n",
      "[main c512a59] record_wav\n",
      " 2 files changed, 23 insertions(+), 1 deletion(-)\n",
      " create mode 100644 data/gpepp/2022-05-24T22:23:09.189.wav\n"
     ]
    },
    {
     "name": "stderr",
     "output_type": "stream",
     "text": [
      "To https://github.com/aubreymoore/good-vibrations.git\n",
      "   1e9209a..c512a59  main -> main\n"
     ]
    },
    {
     "name": "stdout",
     "output_type": "stream",
     "text": [
      "   sleeping for 540s\n",
      "197 of 100000\n",
      "   recording for 60s; saving to /home/pi/good-vibrations/data/gpepp/2022-05-24T22:33:15.992.wav\n",
      "   uploading data to GitHub\n",
      "Already up to date.\n",
      "[main 39b161f] record_wav\n",
      " 2 files changed, 23 insertions(+), 1 deletion(-)\n",
      " create mode 100644 data/gpepp/2022-05-24T22:33:15.992.wav\n"
     ]
    },
    {
     "name": "stderr",
     "output_type": "stream",
     "text": [
      "To https://github.com/aubreymoore/good-vibrations.git\n",
      "   c512a59..39b161f  main -> main\n"
     ]
    },
    {
     "name": "stdout",
     "output_type": "stream",
     "text": [
      "   sleeping for 540s\n",
      "198 of 100000\n",
      "   recording for 60s; saving to /home/pi/good-vibrations/data/gpepp/2022-05-24T22:43:22.555.wav\n",
      "   uploading data to GitHub\n",
      "Already up to date.\n",
      "[main 723b204] record_wav\n",
      " 2 files changed, 23 insertions(+), 1 deletion(-)\n",
      " create mode 100644 data/gpepp/2022-05-24T22:43:22.555.wav\n"
     ]
    },
    {
     "name": "stderr",
     "output_type": "stream",
     "text": [
      "To https://github.com/aubreymoore/good-vibrations.git\n",
      "   39b161f..723b204  main -> main\n"
     ]
    },
    {
     "name": "stdout",
     "output_type": "stream",
     "text": [
      "   sleeping for 540s\n",
      "199 of 100000\n",
      "   recording for 60s; saving to /home/pi/good-vibrations/data/gpepp/2022-05-24T22:53:28.759.wav\n",
      "   uploading data to GitHub\n"
     ]
    },
    {
     "name": "stderr",
     "output_type": "stream",
     "text": [
      "fatal: unable to access 'https://github.com/aubreymoore/good-vibrations.git/': Could not resolve host: github.com\n"
     ]
    },
    {
     "name": "stdout",
     "output_type": "stream",
     "text": [
      "[main d9da897] record_wav\n",
      " 2 files changed, 21 insertions(+), 1 deletion(-)\n",
      " create mode 100644 data/gpepp/2022-05-24T22:53:28.759.wav\n",
      "   sleeping for 540s\n"
     ]
    },
    {
     "name": "stderr",
     "output_type": "stream",
     "text": [
      "fatal: unable to access 'https://github.com/aubreymoore/good-vibrations.git/': Could not resolve host: github.com\n"
     ]
    },
    {
     "name": "stdout",
     "output_type": "stream",
     "text": [
      "200 of 100000\n",
      "   recording for 60s; saving to /home/pi/good-vibrations/data/gpepp/2022-05-24T23:03:29.369.wav\n",
      "   uploading data to GitHub\n",
      "Already up to date.\n",
      "[main c9a9ed2] record_wav\n",
      " 2 files changed, 27 insertions(+)\n",
      " create mode 100644 data/gpepp/2022-05-24T23:03:29.369.wav\n"
     ]
    },
    {
     "name": "stderr",
     "output_type": "stream",
     "text": [
      "To https://github.com/aubreymoore/good-vibrations.git\n",
      "   723b204..c9a9ed2  main -> main\n"
     ]
    },
    {
     "name": "stdout",
     "output_type": "stream",
     "text": [
      "   sleeping for 540s\n",
      "201 of 100000\n",
      "   recording for 60s; saving to /home/pi/good-vibrations/data/gpepp/2022-05-24T23:13:37.749.wav\n",
      "   uploading data to GitHub\n",
      "Already up to date.\n",
      "[main 8336852] record_wav\n",
      " 2 files changed, 28 insertions(+)\n",
      " create mode 100644 data/gpepp/2022-05-24T23:13:37.749.wav\n"
     ]
    },
    {
     "name": "stderr",
     "output_type": "stream",
     "text": [
      "To https://github.com/aubreymoore/good-vibrations.git\n",
      "   c9a9ed2..8336852  main -> main\n"
     ]
    },
    {
     "name": "stdout",
     "output_type": "stream",
     "text": [
      "   sleeping for 540s\n",
      "202 of 100000\n",
      "   recording for 60s; saving to /home/pi/good-vibrations/data/gpepp/2022-05-24T23:23:46.119.wav\n",
      "   uploading data to GitHub\n",
      "Already up to date.\n",
      "[main 9476652] record_wav\n",
      " 2 files changed, 22 insertions(+)\n",
      " create mode 100644 data/gpepp/2022-05-24T23:23:46.119.wav\n"
     ]
    },
    {
     "name": "stderr",
     "output_type": "stream",
     "text": [
      "To https://github.com/aubreymoore/good-vibrations.git\n",
      "   8336852..9476652  main -> main\n"
     ]
    },
    {
     "name": "stdout",
     "output_type": "stream",
     "text": [
      "   sleeping for 540s\n",
      "203 of 100000\n",
      "   recording for 60s; saving to /home/pi/good-vibrations/data/gpepp/2022-05-24T23:33:52.949.wav\n",
      "   uploading data to GitHub\n",
      "Already up to date.\n",
      "[main 4b9866d] record_wav\n",
      " 2 files changed, 22 insertions(+)\n",
      " create mode 100644 data/gpepp/2022-05-24T23:33:52.949.wav\n"
     ]
    },
    {
     "name": "stderr",
     "output_type": "stream",
     "text": [
      "To https://github.com/aubreymoore/good-vibrations.git\n",
      "   9476652..4b9866d  main -> main\n"
     ]
    },
    {
     "name": "stdout",
     "output_type": "stream",
     "text": [
      "   sleeping for 540s\n",
      "204 of 100000\n",
      "   recording for 60s; saving to /home/pi/good-vibrations/data/gpepp/2022-05-24T23:43:59.480.wav\n",
      "   uploading data to GitHub\n",
      "Already up to date.\n",
      "[main 3fe1f0f] record_wav\n",
      " 2 files changed, 22 insertions(+)\n",
      " create mode 100644 data/gpepp/2022-05-24T23:43:59.480.wav\n"
     ]
    },
    {
     "name": "stderr",
     "output_type": "stream",
     "text": [
      "To https://github.com/aubreymoore/good-vibrations.git\n",
      "   4b9866d..3fe1f0f  main -> main\n"
     ]
    },
    {
     "name": "stdout",
     "output_type": "stream",
     "text": [
      "   sleeping for 540s\n",
      "205 of 100000\n",
      "   recording for 60s; saving to /home/pi/good-vibrations/data/gpepp/2022-05-24T23:54:08.749.wav\n",
      "   uploading data to GitHub\n",
      "Already up to date.\n",
      "[main 5ca3901] record_wav\n",
      " 2 files changed, 22 insertions(+)\n",
      " create mode 100644 data/gpepp/2022-05-24T23:54:08.749.wav\n"
     ]
    },
    {
     "name": "stderr",
     "output_type": "stream",
     "text": [
      "To https://github.com/aubreymoore/good-vibrations.git\n",
      "   3fe1f0f..5ca3901  main -> main\n"
     ]
    },
    {
     "name": "stdout",
     "output_type": "stream",
     "text": [
      "   sleeping for 540s\n",
      "206 of 100000\n",
      "   recording for 60s; saving to /home/pi/good-vibrations/data/gpepp/2022-05-25T00:04:18.099.wav\n",
      "   uploading data to GitHub\n",
      "Already up to date.\n",
      "[main 209c836] record_wav\n",
      " 2 files changed, 22 insertions(+)\n",
      " create mode 100644 data/gpepp/2022-05-25T00:04:18.099.wav\n"
     ]
    },
    {
     "name": "stderr",
     "output_type": "stream",
     "text": [
      "To https://github.com/aubreymoore/good-vibrations.git\n",
      "   5ca3901..209c836  main -> main\n"
     ]
    },
    {
     "name": "stdout",
     "output_type": "stream",
     "text": [
      "   sleeping for 540s\n",
      "207 of 100000\n",
      "   recording for 60s; saving to /home/pi/good-vibrations/data/gpepp/2022-05-25T00:14:24.767.wav\n",
      "   uploading data to GitHub\n",
      "Already up to date.\n",
      "[main 4b7f398] record_wav\n",
      " 2 files changed, 22 insertions(+)\n",
      " create mode 100644 data/gpepp/2022-05-25T00:14:24.767.wav\n"
     ]
    },
    {
     "name": "stderr",
     "output_type": "stream",
     "text": [
      "To https://github.com/aubreymoore/good-vibrations.git\n",
      "   209c836..4b7f398  main -> main\n"
     ]
    },
    {
     "name": "stdout",
     "output_type": "stream",
     "text": [
      "   sleeping for 540s\n",
      "208 of 100000\n",
      "   recording for 60s; saving to /home/pi/good-vibrations/data/gpepp/2022-05-25T00:24:31.749.wav\n",
      "   uploading data to GitHub\n",
      "Already up to date.\n",
      "[main cd56884] record_wav\n",
      " 2 files changed, 26 insertions(+), 1 deletion(-)\n",
      " create mode 100644 data/gpepp/2022-05-25T00:24:31.749.wav\n"
     ]
    },
    {
     "name": "stderr",
     "output_type": "stream",
     "text": [
      "To https://github.com/aubreymoore/good-vibrations.git\n",
      "   4b7f398..cd56884  main -> main\n"
     ]
    },
    {
     "name": "stdout",
     "output_type": "stream",
     "text": [
      "   sleeping for 540s\n",
      "209 of 100000\n",
      "   recording for 60s; saving to /home/pi/good-vibrations/data/gpepp/2022-05-25T00:34:38.766.wav\n",
      "   uploading data to GitHub\n",
      "Already up to date.\n",
      "[main 164923d] record_wav\n",
      " 2 files changed, 22 insertions(+), 1 deletion(-)\n",
      " create mode 100644 data/gpepp/2022-05-25T00:34:38.766.wav\n"
     ]
    },
    {
     "name": "stderr",
     "output_type": "stream",
     "text": [
      "To https://github.com/aubreymoore/good-vibrations.git\n",
      "   cd56884..164923d  main -> main\n"
     ]
    },
    {
     "name": "stdout",
     "output_type": "stream",
     "text": [
      "   sleeping for 540s\n",
      "210 of 100000\n",
      "   recording for 60s; saving to /home/pi/good-vibrations/data/gpepp/2022-05-25T00:44:46.900.wav\n",
      "   uploading data to GitHub\n",
      "Already up to date.\n",
      "[main 5956185] record_wav\n",
      " 2 files changed, 23 insertions(+), 1 deletion(-)\n",
      " create mode 100644 data/gpepp/2022-05-25T00:44:46.900.wav\n"
     ]
    },
    {
     "name": "stderr",
     "output_type": "stream",
     "text": [
      "To https://github.com/aubreymoore/good-vibrations.git\n",
      "   164923d..5956185  main -> main\n"
     ]
    },
    {
     "name": "stdout",
     "output_type": "stream",
     "text": [
      "   sleeping for 540s\n",
      "211 of 100000\n",
      "   recording for 60s; saving to /home/pi/good-vibrations/data/gpepp/2022-05-25T00:54:53.379.wav\n",
      "   uploading data to GitHub\n",
      "Already up to date.\n",
      "[main 5d61861] record_wav\n",
      " 2 files changed, 23 insertions(+), 1 deletion(-)\n",
      " create mode 100644 data/gpepp/2022-05-25T00:54:53.379.wav\n"
     ]
    },
    {
     "name": "stderr",
     "output_type": "stream",
     "text": [
      "To https://github.com/aubreymoore/good-vibrations.git\n",
      "   5956185..5d61861  main -> main\n"
     ]
    },
    {
     "name": "stdout",
     "output_type": "stream",
     "text": [
      "   sleeping for 540s\n",
      "212 of 100000\n",
      "   recording for 60s; saving to /home/pi/good-vibrations/data/gpepp/2022-05-25T01:04:59.939.wav\n",
      "   uploading data to GitHub\n",
      "Already up to date.\n",
      "[main 1bae078] record_wav\n",
      " 2 files changed, 23 insertions(+), 1 deletion(-)\n",
      " create mode 100644 data/gpepp/2022-05-25T01:04:59.939.wav\n"
     ]
    },
    {
     "name": "stderr",
     "output_type": "stream",
     "text": [
      "To https://github.com/aubreymoore/good-vibrations.git\n",
      "   5d61861..1bae078  main -> main\n"
     ]
    },
    {
     "name": "stdout",
     "output_type": "stream",
     "text": [
      "   sleeping for 540s\n",
      "213 of 100000\n",
      "   recording for 60s; saving to /home/pi/good-vibrations/data/gpepp/2022-05-25T01:15:06.411.wav\n",
      "   uploading data to GitHub\n",
      "Already up to date.\n",
      "[main 3f716ae] record_wav\n",
      " 2 files changed, 23 insertions(+), 1 deletion(-)\n",
      " create mode 100644 data/gpepp/2022-05-25T01:15:06.411.wav\n"
     ]
    },
    {
     "name": "stderr",
     "output_type": "stream",
     "text": [
      "To https://github.com/aubreymoore/good-vibrations.git\n",
      "   1bae078..3f716ae  main -> main\n"
     ]
    },
    {
     "name": "stdout",
     "output_type": "stream",
     "text": [
      "   sleeping for 540s\n",
      "214 of 100000\n",
      "   recording for 60s; saving to /home/pi/good-vibrations/data/gpepp/2022-05-25T01:25:13.079.wav\n",
      "   uploading data to GitHub\n",
      "Already up to date.\n",
      "[main 93582a3] record_wav\n",
      " 2 files changed, 23 insertions(+), 1 deletion(-)\n",
      " create mode 100644 data/gpepp/2022-05-25T01:25:13.079.wav\n"
     ]
    },
    {
     "name": "stderr",
     "output_type": "stream",
     "text": [
      "To https://github.com/aubreymoore/good-vibrations.git\n",
      "   3f716ae..93582a3  main -> main\n"
     ]
    },
    {
     "name": "stdout",
     "output_type": "stream",
     "text": [
      "   sleeping for 540s\n",
      "215 of 100000\n",
      "   recording for 60s; saving to /home/pi/good-vibrations/data/gpepp/2022-05-25T01:35:19.699.wav\n",
      "   uploading data to GitHub\n",
      "Already up to date.\n",
      "[main 25cba96] record_wav\n",
      " 2 files changed, 23 insertions(+), 1 deletion(-)\n",
      " create mode 100644 data/gpepp/2022-05-25T01:35:19.699.wav\n"
     ]
    },
    {
     "name": "stderr",
     "output_type": "stream",
     "text": [
      "To https://github.com/aubreymoore/good-vibrations.git\n",
      "   93582a3..25cba96  main -> main\n"
     ]
    },
    {
     "name": "stdout",
     "output_type": "stream",
     "text": [
      "   sleeping for 540s\n",
      "216 of 100000\n",
      "   recording for 60s; saving to /home/pi/good-vibrations/data/gpepp/2022-05-25T01:45:26.259.wav\n",
      "   uploading data to GitHub\n",
      "Already up to date.\n",
      "[main d29c18f] record_wav\n",
      " 2 files changed, 23 insertions(+), 1 deletion(-)\n",
      " create mode 100644 data/gpepp/2022-05-25T01:45:26.259.wav\n"
     ]
    },
    {
     "name": "stderr",
     "output_type": "stream",
     "text": [
      "To https://github.com/aubreymoore/good-vibrations.git\n",
      "   25cba96..d29c18f  main -> main\n"
     ]
    },
    {
     "name": "stdout",
     "output_type": "stream",
     "text": [
      "   sleeping for 540s\n",
      "217 of 100000\n",
      "   recording for 60s; saving to /home/pi/good-vibrations/data/gpepp/2022-05-25T01:55:33.059.wav\n",
      "   uploading data to GitHub\n",
      "Already up to date.\n",
      "[main 1d676e8] record_wav\n",
      " 2 files changed, 23 insertions(+), 1 deletion(-)\n",
      " create mode 100644 data/gpepp/2022-05-25T01:55:33.059.wav\n"
     ]
    },
    {
     "name": "stderr",
     "output_type": "stream",
     "text": [
      "To https://github.com/aubreymoore/good-vibrations.git\n",
      "   d29c18f..1d676e8  main -> main\n"
     ]
    },
    {
     "name": "stdout",
     "output_type": "stream",
     "text": [
      "   sleeping for 540s\n",
      "218 of 100000\n",
      "   recording for 60s; saving to /home/pi/good-vibrations/data/gpepp/2022-05-25T02:05:39.499.wav\n",
      "   uploading data to GitHub\n",
      "Already up to date.\n",
      "[main a7675a3] record_wav\n",
      " 2 files changed, 23 insertions(+), 1 deletion(-)\n",
      " create mode 100644 data/gpepp/2022-05-25T02:05:39.499.wav\n"
     ]
    },
    {
     "name": "stderr",
     "output_type": "stream",
     "text": [
      "To https://github.com/aubreymoore/good-vibrations.git\n",
      "   1d676e8..a7675a3  main -> main\n"
     ]
    },
    {
     "name": "stdout",
     "output_type": "stream",
     "text": [
      "   sleeping for 540s\n",
      "219 of 100000\n",
      "   recording for 60s; saving to /home/pi/good-vibrations/data/gpepp/2022-05-25T02:15:46.749.wav\n",
      "   uploading data to GitHub\n",
      "Already up to date.\n",
      "[main a2c0e12] record_wav\n",
      " 2 files changed, 23 insertions(+), 1 deletion(-)\n",
      " create mode 100644 data/gpepp/2022-05-25T02:15:46.749.wav\n"
     ]
    },
    {
     "name": "stderr",
     "output_type": "stream",
     "text": [
      "To https://github.com/aubreymoore/good-vibrations.git\n",
      "   a7675a3..a2c0e12  main -> main\n"
     ]
    },
    {
     "name": "stdout",
     "output_type": "stream",
     "text": [
      "   sleeping for 540s\n",
      "220 of 100000\n",
      "   recording for 60s; saving to /home/pi/good-vibrations/data/gpepp/2022-05-25T02:25:53.711.wav\n",
      "   uploading data to GitHub\n",
      "Already up to date.\n",
      "[main f8b4a98] record_wav\n",
      " 2 files changed, 23 insertions(+), 1 deletion(-)\n",
      " create mode 100644 data/gpepp/2022-05-25T02:25:53.711.wav\n"
     ]
    },
    {
     "name": "stderr",
     "output_type": "stream",
     "text": [
      "To https://github.com/aubreymoore/good-vibrations.git\n",
      "   a2c0e12..f8b4a98  main -> main\n"
     ]
    },
    {
     "name": "stdout",
     "output_type": "stream",
     "text": [
      "   sleeping for 540s\n",
      "221 of 100000\n",
      "   recording for 60s; saving to /home/pi/good-vibrations/data/gpepp/2022-05-25T02:36:00.470.wav\n",
      "   uploading data to GitHub\n"
     ]
    },
    {
     "name": "stderr",
     "output_type": "stream",
     "text": [
      "fatal: unable to access 'https://github.com/aubreymoore/good-vibrations.git/': Could not resolve host: github.com\n"
     ]
    },
    {
     "name": "stdout",
     "output_type": "stream",
     "text": [
      "[main 8d6fdb3] record_wav\n",
      " 2 files changed, 21 insertions(+), 1 deletion(-)\n",
      " create mode 100644 data/gpepp/2022-05-25T02:36:00.470.wav\n",
      "   sleeping for 540s\n"
     ]
    },
    {
     "name": "stderr",
     "output_type": "stream",
     "text": [
      "fatal: unable to access 'https://github.com/aubreymoore/good-vibrations.git/': Could not resolve host: github.com\n"
     ]
    },
    {
     "name": "stdout",
     "output_type": "stream",
     "text": [
      "222 of 100000\n",
      "   recording for 60s; saving to /home/pi/good-vibrations/data/gpepp/2022-05-25T02:46:01.429.wav\n",
      "   uploading data to GitHub\n",
      "Already up to date.\n",
      "[main 845164e] record_wav\n",
      " 2 files changed, 27 insertions(+)\n",
      " create mode 100644 data/gpepp/2022-05-25T02:46:01.429.wav\n"
     ]
    },
    {
     "name": "stderr",
     "output_type": "stream",
     "text": [
      "To https://github.com/aubreymoore/good-vibrations.git\n",
      "   f8b4a98..845164e  main -> main\n"
     ]
    },
    {
     "name": "stdout",
     "output_type": "stream",
     "text": [
      "   sleeping for 540s\n",
      "223 of 100000\n",
      "   recording for 60s; saving to /home/pi/good-vibrations/data/gpepp/2022-05-25T02:56:09.366.wav\n",
      "   uploading data to GitHub\n",
      "Already up to date.\n",
      "[main f7c1d76] record_wav\n",
      " 2 files changed, 28 insertions(+)\n",
      " create mode 100644 data/gpepp/2022-05-25T02:56:09.366.wav\n"
     ]
    },
    {
     "name": "stderr",
     "output_type": "stream",
     "text": [
      "To https://github.com/aubreymoore/good-vibrations.git\n",
      "   845164e..f7c1d76  main -> main\n"
     ]
    },
    {
     "name": "stdout",
     "output_type": "stream",
     "text": [
      "   sleeping for 540s\n",
      "224 of 100000\n",
      "   recording for 60s; saving to /home/pi/good-vibrations/data/gpepp/2022-05-25T03:06:18.471.wav\n",
      "   uploading data to GitHub\n",
      "Already up to date.\n",
      "[main d82d3f8] record_wav\n",
      " 2 files changed, 22 insertions(+)\n",
      " create mode 100644 data/gpepp/2022-05-25T03:06:18.471.wav\n"
     ]
    },
    {
     "name": "stderr",
     "output_type": "stream",
     "text": [
      "To https://github.com/aubreymoore/good-vibrations.git\n",
      "   f7c1d76..d82d3f8  main -> main\n"
     ]
    },
    {
     "name": "stdout",
     "output_type": "stream",
     "text": [
      "   sleeping for 540s\n",
      "225 of 100000\n",
      "   recording for 60s; saving to /home/pi/good-vibrations/data/gpepp/2022-05-25T03:16:26.099.wav\n",
      "   uploading data to GitHub\n",
      "Already up to date.\n",
      "[main ae38d85] record_wav\n",
      " 2 files changed, 22 insertions(+)\n",
      " create mode 100644 data/gpepp/2022-05-25T03:16:26.099.wav\n"
     ]
    },
    {
     "name": "stderr",
     "output_type": "stream",
     "text": [
      "To https://github.com/aubreymoore/good-vibrations.git\n",
      "   d82d3f8..ae38d85  main -> main\n"
     ]
    },
    {
     "name": "stdout",
     "output_type": "stream",
     "text": [
      "   sleeping for 540s\n",
      "226 of 100000\n",
      "   recording for 60s; saving to /home/pi/good-vibrations/data/gpepp/2022-05-25T03:26:38.844.wav\n",
      "   uploading data to GitHub\n",
      "Already up to date.\n",
      "[main 8fdaded] record_wav\n",
      " 2 files changed, 22 insertions(+)\n",
      " create mode 100644 data/gpepp/2022-05-25T03:26:38.844.wav\n"
     ]
    },
    {
     "name": "stderr",
     "output_type": "stream",
     "text": [
      "To https://github.com/aubreymoore/good-vibrations.git\n",
      "   ae38d85..8fdaded  main -> main\n"
     ]
    },
    {
     "name": "stdout",
     "output_type": "stream",
     "text": [
      "   sleeping for 540s\n",
      "227 of 100000\n",
      "   recording for 60s; saving to /home/pi/good-vibrations/data/gpepp/2022-05-25T03:36:46.749.wav\n",
      "   uploading data to GitHub\n",
      "Already up to date.\n",
      "[main 5cbb8e8] record_wav\n",
      " 2 files changed, 22 insertions(+)\n",
      " create mode 100644 data/gpepp/2022-05-25T03:36:46.749.wav\n"
     ]
    },
    {
     "name": "stderr",
     "output_type": "stream",
     "text": [
      "To https://github.com/aubreymoore/good-vibrations.git\n",
      "   8fdaded..5cbb8e8  main -> main\n"
     ]
    },
    {
     "name": "stdout",
     "output_type": "stream",
     "text": [
      "   sleeping for 540s\n",
      "228 of 100000\n",
      "   recording for 60s; saving to /home/pi/good-vibrations/data/gpepp/2022-05-25T03:46:53.583.wav\n",
      "   uploading data to GitHub\n",
      "Already up to date.\n",
      "[main dc952c1] record_wav\n",
      " 2 files changed, 22 insertions(+)\n",
      " create mode 100644 data/gpepp/2022-05-25T03:46:53.583.wav\n"
     ]
    },
    {
     "name": "stderr",
     "output_type": "stream",
     "text": [
      "To https://github.com/aubreymoore/good-vibrations.git\n",
      "   5cbb8e8..dc952c1  main -> main\n"
     ]
    },
    {
     "name": "stdout",
     "output_type": "stream",
     "text": [
      "   sleeping for 540s\n",
      "229 of 100000\n",
      "   recording for 60s; saving to /home/pi/good-vibrations/data/gpepp/2022-05-25T03:57:00.319.wav\n",
      "   uploading data to GitHub\n",
      "Already up to date.\n",
      "[main 98be262] record_wav\n",
      " 2 files changed, 22 insertions(+)\n",
      " create mode 100644 data/gpepp/2022-05-25T03:57:00.319.wav\n"
     ]
    },
    {
     "name": "stderr",
     "output_type": "stream",
     "text": [
      "To https://github.com/aubreymoore/good-vibrations.git\n",
      "   dc952c1..98be262  main -> main\n"
     ]
    },
    {
     "name": "stdout",
     "output_type": "stream",
     "text": [
      "   sleeping for 540s\n",
      "230 of 100000\n",
      "   recording for 60s; saving to /home/pi/good-vibrations/data/gpepp/2022-05-25T04:07:07.459.wav\n",
      "   uploading data to GitHub\n",
      "Already up to date.\n",
      "[main c1b8695] record_wav\n",
      " 2 files changed, 22 insertions(+)\n",
      " create mode 100644 data/gpepp/2022-05-25T04:07:07.459.wav\n"
     ]
    },
    {
     "name": "stderr",
     "output_type": "stream",
     "text": [
      "To https://github.com/aubreymoore/good-vibrations.git\n",
      "   98be262..c1b8695  main -> main\n"
     ]
    },
    {
     "name": "stdout",
     "output_type": "stream",
     "text": [
      "   sleeping for 540s\n",
      "231 of 100000\n",
      "   recording for 60s; saving to /home/pi/good-vibrations/data/gpepp/2022-05-25T04:17:14.093.wav\n",
      "   uploading data to GitHub\n",
      "Already up to date.\n",
      "[main dad4794] record_wav\n",
      " 2 files changed, 22 insertions(+)\n",
      " create mode 100644 data/gpepp/2022-05-25T04:17:14.093.wav\n"
     ]
    },
    {
     "name": "stderr",
     "output_type": "stream",
     "text": [
      "To https://github.com/aubreymoore/good-vibrations.git\n",
      "   c1b8695..dad4794  main -> main\n"
     ]
    },
    {
     "name": "stdout",
     "output_type": "stream",
     "text": [
      "   sleeping for 540s\n",
      "232 of 100000\n",
      "   recording for 60s; saving to /home/pi/good-vibrations/data/gpepp/2022-05-25T04:27:20.969.wav\n",
      "   uploading data to GitHub\n",
      "Already up to date.\n",
      "[main 6616dc0] record_wav\n",
      " 2 files changed, 25 insertions(+), 1 deletion(-)\n",
      " create mode 100644 data/gpepp/2022-05-25T04:27:20.969.wav\n"
     ]
    },
    {
     "name": "stderr",
     "output_type": "stream",
     "text": [
      "To https://github.com/aubreymoore/good-vibrations.git\n",
      "   dad4794..6616dc0  main -> main\n"
     ]
    },
    {
     "name": "stdout",
     "output_type": "stream",
     "text": [
      "   sleeping for 540s\n",
      "233 of 100000\n",
      "   recording for 60s; saving to /home/pi/good-vibrations/data/gpepp/2022-05-25T04:37:30.583.wav\n",
      "   uploading data to GitHub\n",
      "Already up to date.\n",
      "[main d37ce2a] record_wav\n",
      " 2 files changed, 23 insertions(+), 1 deletion(-)\n",
      " create mode 100644 data/gpepp/2022-05-25T04:37:30.583.wav\n"
     ]
    },
    {
     "name": "stderr",
     "output_type": "stream",
     "text": [
      "To https://github.com/aubreymoore/good-vibrations.git\n",
      "   6616dc0..d37ce2a  main -> main\n"
     ]
    },
    {
     "name": "stdout",
     "output_type": "stream",
     "text": [
      "   sleeping for 540s\n",
      "234 of 100000\n",
      "   recording for 60s; saving to /home/pi/good-vibrations/data/gpepp/2022-05-25T04:47:37.151.wav\n",
      "   uploading data to GitHub\n",
      "Already up to date.\n",
      "[main ae8c92d] record_wav\n",
      " 2 files changed, 23 insertions(+), 1 deletion(-)\n",
      " create mode 100644 data/gpepp/2022-05-25T04:47:37.151.wav\n"
     ]
    },
    {
     "name": "stderr",
     "output_type": "stream",
     "text": [
      "To https://github.com/aubreymoore/good-vibrations.git\n",
      "   d37ce2a..ae8c92d  main -> main\n"
     ]
    },
    {
     "name": "stdout",
     "output_type": "stream",
     "text": [
      "   sleeping for 540s\n",
      "235 of 100000\n",
      "   recording for 60s; saving to /home/pi/good-vibrations/data/gpepp/2022-05-25T04:57:45.789.wav\n",
      "   uploading data to GitHub\n",
      "Already up to date.\n",
      "[main d4a8b60] record_wav\n",
      " 2 files changed, 23 insertions(+), 1 deletion(-)\n",
      " create mode 100644 data/gpepp/2022-05-25T04:57:45.789.wav\n"
     ]
    },
    {
     "name": "stderr",
     "output_type": "stream",
     "text": [
      "To https://github.com/aubreymoore/good-vibrations.git\n",
      "   ae8c92d..d4a8b60  main -> main\n"
     ]
    },
    {
     "name": "stdout",
     "output_type": "stream",
     "text": [
      "   sleeping for 540s\n",
      "236 of 100000\n",
      "   recording for 60s; saving to /home/pi/good-vibrations/data/gpepp/2022-05-25T05:07:53.027.wav\n",
      "   uploading data to GitHub\n",
      "Already up to date.\n",
      "[main cc345f5] record_wav\n",
      " 2 files changed, 23 insertions(+), 1 deletion(-)\n",
      " create mode 100644 data/gpepp/2022-05-25T05:07:53.027.wav\n"
     ]
    },
    {
     "name": "stderr",
     "output_type": "stream",
     "text": [
      "To https://github.com/aubreymoore/good-vibrations.git\n",
      "   d4a8b60..cc345f5  main -> main\n"
     ]
    },
    {
     "name": "stdout",
     "output_type": "stream",
     "text": [
      "   sleeping for 540s\n",
      "237 of 100000\n",
      "   recording for 60s; saving to /home/pi/good-vibrations/data/gpepp/2022-05-25T05:18:00.519.wav\n",
      "   uploading data to GitHub\n",
      "Already up to date.\n",
      "[main 8ce04b5] record_wav\n",
      " 2 files changed, 23 insertions(+), 1 deletion(-)\n",
      " create mode 100644 data/gpepp/2022-05-25T05:18:00.519.wav\n"
     ]
    },
    {
     "name": "stderr",
     "output_type": "stream",
     "text": [
      "To https://github.com/aubreymoore/good-vibrations.git\n",
      "   cc345f5..8ce04b5  main -> main\n"
     ]
    },
    {
     "name": "stdout",
     "output_type": "stream",
     "text": [
      "   sleeping for 540s\n",
      "238 of 100000\n",
      "   recording for 60s; saving to /home/pi/good-vibrations/data/gpepp/2022-05-25T05:28:08.493.wav\n",
      "   uploading data to GitHub\n",
      "Already up to date.\n",
      "[main fe29d97] record_wav\n",
      " 2 files changed, 23 insertions(+), 1 deletion(-)\n",
      " create mode 100644 data/gpepp/2022-05-25T05:28:08.493.wav\n"
     ]
    },
    {
     "name": "stderr",
     "output_type": "stream",
     "text": [
      "To https://github.com/aubreymoore/good-vibrations.git\n",
      "   8ce04b5..fe29d97  main -> main\n"
     ]
    },
    {
     "name": "stdout",
     "output_type": "stream",
     "text": [
      "   sleeping for 540s\n",
      "239 of 100000\n",
      "   recording for 60s; saving to /home/pi/good-vibrations/data/gpepp/2022-05-25T05:38:15.059.wav\n",
      "   uploading data to GitHub\n",
      "Already up to date.\n",
      "[main 78445cb] record_wav\n",
      " 2 files changed, 23 insertions(+), 1 deletion(-)\n",
      " create mode 100644 data/gpepp/2022-05-25T05:38:15.059.wav\n"
     ]
    },
    {
     "name": "stderr",
     "output_type": "stream",
     "text": [
      "To https://github.com/aubreymoore/good-vibrations.git\n",
      "   fe29d97..78445cb  main -> main\n"
     ]
    },
    {
     "name": "stdout",
     "output_type": "stream",
     "text": [
      "   sleeping for 540s\n",
      "240 of 100000\n",
      "   recording for 60s; saving to /home/pi/good-vibrations/data/gpepp/2022-05-25T05:48:21.508.wav\n",
      "   uploading data to GitHub\n",
      "Already up to date.\n",
      "[main bef6f13] record_wav\n",
      " 2 files changed, 23 insertions(+), 1 deletion(-)\n",
      " create mode 100644 data/gpepp/2022-05-25T05:48:21.508.wav\n"
     ]
    },
    {
     "name": "stderr",
     "output_type": "stream",
     "text": [
      "To https://github.com/aubreymoore/good-vibrations.git\n",
      "   78445cb..bef6f13  main -> main\n"
     ]
    },
    {
     "name": "stdout",
     "output_type": "stream",
     "text": [
      "   sleeping for 540s\n",
      "241 of 100000\n",
      "   recording for 60s; saving to /home/pi/good-vibrations/data/gpepp/2022-05-25T05:58:28.338.wav\n",
      "   uploading data to GitHub\n",
      "Already up to date.\n",
      "[main f9978c5] record_wav\n",
      " 2 files changed, 23 insertions(+), 1 deletion(-)\n",
      " create mode 100644 data/gpepp/2022-05-25T05:58:28.338.wav\n"
     ]
    },
    {
     "name": "stderr",
     "output_type": "stream",
     "text": [
      "To https://github.com/aubreymoore/good-vibrations.git\n",
      "   bef6f13..f9978c5  main -> main\n"
     ]
    },
    {
     "name": "stdout",
     "output_type": "stream",
     "text": [
      "   sleeping for 540s\n",
      "242 of 100000\n",
      "   recording for 60s; saving to /home/pi/good-vibrations/data/gpepp/2022-05-25T06:08:34.909.wav\n",
      "   uploading data to GitHub\n",
      "Already up to date.\n",
      "[main cef1dc9] record_wav\n",
      " 2 files changed, 23 insertions(+), 1 deletion(-)\n",
      " create mode 100644 data/gpepp/2022-05-25T06:08:34.909.wav\n"
     ]
    },
    {
     "name": "stderr",
     "output_type": "stream",
     "text": [
      "To https://github.com/aubreymoore/good-vibrations.git\n",
      "   f9978c5..cef1dc9  main -> main\n"
     ]
    },
    {
     "name": "stdout",
     "output_type": "stream",
     "text": [
      "   sleeping for 540s\n",
      "243 of 100000\n",
      "   recording for 60s; saving to /home/pi/good-vibrations/data/gpepp/2022-05-25T06:18:45.194.wav\n",
      "   uploading data to GitHub\n",
      "Already up to date.\n",
      "[main 4a6781f] record_wav\n",
      " 2 files changed, 23 insertions(+), 1 deletion(-)\n",
      " create mode 100644 data/gpepp/2022-05-25T06:18:45.194.wav\n"
     ]
    },
    {
     "name": "stderr",
     "output_type": "stream",
     "text": [
      "To https://github.com/aubreymoore/good-vibrations.git\n",
      "   cef1dc9..4a6781f  main -> main\n"
     ]
    },
    {
     "name": "stdout",
     "output_type": "stream",
     "text": [
      "   sleeping for 540s\n",
      "244 of 100000\n",
      "   recording for 60s; saving to /home/pi/good-vibrations/data/gpepp/2022-05-25T06:28:53.093.wav\n",
      "   uploading data to GitHub\n",
      "Already up to date.\n",
      "[main 1037a50] record_wav\n",
      " 2 files changed, 21 insertions(+), 1 deletion(-)\n",
      " create mode 100644 data/gpepp/2022-05-25T06:28:53.093.wav\n"
     ]
    },
    {
     "name": "stderr",
     "output_type": "stream",
     "text": [
      "To https://github.com/aubreymoore/good-vibrations.git\n",
      "   4a6781f..1037a50  main -> main\n"
     ]
    },
    {
     "name": "stdout",
     "output_type": "stream",
     "text": [
      "   sleeping for 540s\n",
      "245 of 100000\n",
      "   recording for 60s; saving to /home/pi/good-vibrations/data/gpepp/2022-05-25T06:38:59.979.wav\n",
      "   uploading data to GitHub\n",
      "Already up to date.\n",
      "[main b7bc886] record_wav\n",
      " 2 files changed, 22 insertions(+)\n",
      " create mode 100644 data/gpepp/2022-05-25T06:38:59.979.wav\n"
     ]
    },
    {
     "name": "stderr",
     "output_type": "stream",
     "text": [
      "To https://github.com/aubreymoore/good-vibrations.git\n",
      "   1037a50..b7bc886  main -> main\n"
     ]
    },
    {
     "name": "stdout",
     "output_type": "stream",
     "text": [
      "   sleeping for 540s\n",
      "246 of 100000\n",
      "   recording for 60s; saving to /home/pi/good-vibrations/data/gpepp/2022-05-25T06:49:06.694.wav\n",
      "   uploading data to GitHub\n"
     ]
    },
    {
     "name": "stderr",
     "output_type": "stream",
     "text": [
      "fatal: unable to access 'https://github.com/aubreymoore/good-vibrations.git/': Could not resolve host: github.com\n"
     ]
    },
    {
     "name": "stdout",
     "output_type": "stream",
     "text": [
      "[main af8a794] record_wav\n",
      " 2 files changed, 22 insertions(+)\n",
      " create mode 100644 data/gpepp/2022-05-25T06:49:06.694.wav\n",
      "   sleeping for 540s\n"
     ]
    },
    {
     "name": "stderr",
     "output_type": "stream",
     "text": [
      "fatal: unable to access 'https://github.com/aubreymoore/good-vibrations.git/': Could not resolve host: github.com\n"
     ]
    },
    {
     "name": "stdout",
     "output_type": "stream",
     "text": [
      "247 of 100000\n",
      "   recording for 60s; saving to /home/pi/good-vibrations/data/gpepp/2022-05-25T06:59:07.399.wav\n",
      "   uploading data to GitHub\n",
      "Already up to date.\n",
      "[main e6a9610] record_wav\n",
      " 2 files changed, 27 insertions(+)\n",
      " create mode 100644 data/gpepp/2022-05-25T06:59:07.399.wav\n"
     ]
    },
    {
     "name": "stderr",
     "output_type": "stream",
     "text": [
      "To https://github.com/aubreymoore/good-vibrations.git\n",
      "   b7bc886..e6a9610  main -> main\n"
     ]
    },
    {
     "name": "stdout",
     "output_type": "stream",
     "text": [
      "   sleeping for 540s\n",
      "248 of 100000\n",
      "   recording for 60s; saving to /home/pi/good-vibrations/data/gpepp/2022-05-25T07:09:15.429.wav\n",
      "   uploading data to GitHub\n",
      "Already up to date.\n",
      "[main 13a6336] record_wav\n",
      " 2 files changed, 28 insertions(+)\n",
      " create mode 100644 data/gpepp/2022-05-25T07:09:15.429.wav\n"
     ]
    },
    {
     "name": "stderr",
     "output_type": "stream",
     "text": [
      "To https://github.com/aubreymoore/good-vibrations.git\n",
      "   e6a9610..13a6336  main -> main\n"
     ]
    },
    {
     "name": "stdout",
     "output_type": "stream",
     "text": [
      "   sleeping for 540s\n",
      "249 of 100000\n",
      "   recording for 60s; saving to /home/pi/good-vibrations/data/gpepp/2022-05-25T07:19:22.065.wav\n",
      "   uploading data to GitHub\n",
      "Already up to date.\n",
      "[main ff73269] record_wav\n",
      " 2 files changed, 22 insertions(+)\n",
      " create mode 100644 data/gpepp/2022-05-25T07:19:22.065.wav\n"
     ]
    },
    {
     "name": "stderr",
     "output_type": "stream",
     "text": [
      "To https://github.com/aubreymoore/good-vibrations.git\n",
      "   13a6336..ff73269  main -> main\n"
     ]
    },
    {
     "name": "stdout",
     "output_type": "stream",
     "text": [
      "   sleeping for 540s\n",
      "250 of 100000\n",
      "   recording for 60s; saving to /home/pi/good-vibrations/data/gpepp/2022-05-25T07:29:28.583.wav\n",
      "   uploading data to GitHub\n",
      "Already up to date.\n",
      "[main 9b92fc4] record_wav\n",
      " 2 files changed, 22 insertions(+)\n",
      " create mode 100644 data/gpepp/2022-05-25T07:29:28.583.wav\n"
     ]
    },
    {
     "name": "stderr",
     "output_type": "stream",
     "text": [
      "To https://github.com/aubreymoore/good-vibrations.git\n",
      "   ff73269..9b92fc4  main -> main\n"
     ]
    },
    {
     "name": "stdout",
     "output_type": "stream",
     "text": [
      "   sleeping for 540s\n",
      "251 of 100000\n",
      "   recording for 60s; saving to /home/pi/good-vibrations/data/gpepp/2022-05-25T07:39:35.359.wav\n",
      "   uploading data to GitHub\n",
      "Already up to date.\n",
      "[main e3bcba4] record_wav\n",
      " 2 files changed, 22 insertions(+)\n",
      " create mode 100644 data/gpepp/2022-05-25T07:39:35.359.wav\n"
     ]
    },
    {
     "name": "stderr",
     "output_type": "stream",
     "text": [
      "To https://github.com/aubreymoore/good-vibrations.git\n",
      "   9b92fc4..e3bcba4  main -> main\n"
     ]
    },
    {
     "name": "stdout",
     "output_type": "stream",
     "text": [
      "   sleeping for 540s\n",
      "252 of 100000\n",
      "   recording for 60s; saving to /home/pi/good-vibrations/data/gpepp/2022-05-25T07:49:43.729.wav\n",
      "   uploading data to GitHub\n",
      "Already up to date.\n",
      "[main 267c044] record_wav\n",
      " 2 files changed, 22 insertions(+)\n",
      " create mode 100644 data/gpepp/2022-05-25T07:49:43.729.wav\n"
     ]
    },
    {
     "name": "stderr",
     "output_type": "stream",
     "text": [
      "To https://github.com/aubreymoore/good-vibrations.git\n",
      "   e3bcba4..267c044  main -> main\n"
     ]
    },
    {
     "name": "stdout",
     "output_type": "stream",
     "text": [
      "   sleeping for 540s\n",
      "253 of 100000\n",
      "   recording for 60s; saving to /home/pi/good-vibrations/data/gpepp/2022-05-25T07:59:50.259.wav\n",
      "   uploading data to GitHub\n",
      "Already up to date.\n",
      "[main 6fc83d1] record_wav\n",
      " 2 files changed, 22 insertions(+)\n",
      " create mode 100644 data/gpepp/2022-05-25T07:59:50.259.wav\n"
     ]
    },
    {
     "name": "stderr",
     "output_type": "stream",
     "text": [
      "To https://github.com/aubreymoore/good-vibrations.git\n",
      "   267c044..6fc83d1  main -> main\n"
     ]
    },
    {
     "name": "stdout",
     "output_type": "stream",
     "text": [
      "   sleeping for 540s\n",
      "254 of 100000\n",
      "   recording for 60s; saving to /home/pi/good-vibrations/data/gpepp/2022-05-25T08:09:57.359.wav\n",
      "   uploading data to GitHub\n",
      "Already up to date.\n",
      "[main 5e0aea8] record_wav\n",
      " 2 files changed, 22 insertions(+)\n",
      " create mode 100644 data/gpepp/2022-05-25T08:09:57.359.wav\n"
     ]
    },
    {
     "name": "stderr",
     "output_type": "stream",
     "text": [
      "To https://github.com/aubreymoore/good-vibrations.git\n",
      "   6fc83d1..5e0aea8  main -> main\n"
     ]
    },
    {
     "name": "stdout",
     "output_type": "stream",
     "text": [
      "   sleeping for 540s\n",
      "255 of 100000\n",
      "   recording for 60s; saving to /home/pi/good-vibrations/data/gpepp/2022-05-25T08:20:03.919.wav\n",
      "   uploading data to GitHub\n",
      "Already up to date.\n",
      "[main 1414d2e] record_wav\n",
      " 2 files changed, 25 insertions(+), 1 deletion(-)\n",
      " create mode 100644 data/gpepp/2022-05-25T08:20:03.919.wav\n"
     ]
    },
    {
     "name": "stderr",
     "output_type": "stream",
     "text": [
      "To https://github.com/aubreymoore/good-vibrations.git\n",
      "   5e0aea8..1414d2e  main -> main\n"
     ]
    },
    {
     "name": "stdout",
     "output_type": "stream",
     "text": [
      "   sleeping for 540s\n",
      "256 of 100000\n",
      "   recording for 60s; saving to /home/pi/good-vibrations/data/gpepp/2022-05-25T08:30:10.461.wav\n",
      "   uploading data to GitHub\n",
      "Already up to date.\n",
      "[main f6deb27] record_wav\n",
      " 2 files changed, 23 insertions(+), 1 deletion(-)\n",
      " create mode 100644 data/gpepp/2022-05-25T08:30:10.461.wav\n"
     ]
    },
    {
     "name": "stderr",
     "output_type": "stream",
     "text": [
      "To https://github.com/aubreymoore/good-vibrations.git\n",
      "   1414d2e..f6deb27  main -> main\n"
     ]
    },
    {
     "name": "stdout",
     "output_type": "stream",
     "text": [
      "   sleeping for 540s\n",
      "257 of 100000\n",
      "   recording for 60s; saving to /home/pi/good-vibrations/data/gpepp/2022-05-25T08:40:17.159.wav\n",
      "   uploading data to GitHub\n",
      "Already up to date.\n",
      "[main 3bf0ef8] record_wav\n",
      " 2 files changed, 23 insertions(+), 1 deletion(-)\n",
      " create mode 100644 data/gpepp/2022-05-25T08:40:17.159.wav\n"
     ]
    },
    {
     "name": "stderr",
     "output_type": "stream",
     "text": [
      "To https://github.com/aubreymoore/good-vibrations.git\n",
      "   f6deb27..3bf0ef8  main -> main\n"
     ]
    },
    {
     "name": "stdout",
     "output_type": "stream",
     "text": [
      "   sleeping for 540s\n",
      "258 of 100000\n",
      "   recording for 60s; saving to /home/pi/good-vibrations/data/gpepp/2022-05-25T08:50:23.769.wav\n",
      "   uploading data to GitHub\n",
      "Already up to date.\n",
      "[main 8020d45] record_wav\n",
      " 2 files changed, 23 insertions(+), 1 deletion(-)\n",
      " create mode 100644 data/gpepp/2022-05-25T08:50:23.769.wav\n"
     ]
    },
    {
     "name": "stderr",
     "output_type": "stream",
     "text": [
      "To https://github.com/aubreymoore/good-vibrations.git\n",
      "   3bf0ef8..8020d45  main -> main\n"
     ]
    },
    {
     "name": "stdout",
     "output_type": "stream",
     "text": [
      "   sleeping for 540s\n",
      "259 of 100000\n",
      "   recording for 60s; saving to /home/pi/good-vibrations/data/gpepp/2022-05-25T09:00:30.873.wav\n",
      "   uploading data to GitHub\n",
      "Already up to date.\n",
      "[main afd19c1] record_wav\n",
      " 2 files changed, 23 insertions(+), 1 deletion(-)\n",
      " create mode 100644 data/gpepp/2022-05-25T09:00:30.873.wav\n"
     ]
    },
    {
     "name": "stderr",
     "output_type": "stream",
     "text": [
      "To https://github.com/aubreymoore/good-vibrations.git\n",
      "   8020d45..afd19c1  main -> main\n"
     ]
    },
    {
     "name": "stdout",
     "output_type": "stream",
     "text": [
      "   sleeping for 540s\n",
      "260 of 100000\n",
      "   recording for 60s; saving to /home/pi/good-vibrations/data/gpepp/2022-05-25T09:10:37.499.wav\n",
      "   uploading data to GitHub\n",
      "Already up to date.\n",
      "[main 6967eeb] record_wav\n",
      " 2 files changed, 23 insertions(+), 1 deletion(-)\n",
      " create mode 100644 data/gpepp/2022-05-25T09:10:37.499.wav\n"
     ]
    },
    {
     "name": "stderr",
     "output_type": "stream",
     "text": [
      "To https://github.com/aubreymoore/good-vibrations.git\n",
      "   afd19c1..6967eeb  main -> main\n"
     ]
    },
    {
     "name": "stdout",
     "output_type": "stream",
     "text": [
      "   sleeping for 540s\n",
      "261 of 100000\n",
      "   recording for 60s; saving to /home/pi/good-vibrations/data/gpepp/2022-05-25T09:20:45.919.wav\n",
      "   uploading data to GitHub\n",
      "Already up to date.\n",
      "[main ea58a9c] record_wav\n",
      " 2 files changed, 23 insertions(+), 1 deletion(-)\n",
      " create mode 100644 data/gpepp/2022-05-25T09:20:45.919.wav\n"
     ]
    },
    {
     "name": "stderr",
     "output_type": "stream",
     "text": [
      "To https://github.com/aubreymoore/good-vibrations.git\n",
      "   6967eeb..ea58a9c  main -> main\n"
     ]
    },
    {
     "name": "stdout",
     "output_type": "stream",
     "text": [
      "   sleeping for 540s\n",
      "262 of 100000\n",
      "   recording for 60s; saving to /home/pi/good-vibrations/data/gpepp/2022-05-25T09:30:52.379.wav\n",
      "   uploading data to GitHub\n",
      "Already up to date.\n",
      "[main ed1c9e4] record_wav\n",
      " 2 files changed, 23 insertions(+), 1 deletion(-)\n",
      " create mode 100644 data/gpepp/2022-05-25T09:30:52.379.wav\n"
     ]
    },
    {
     "name": "stderr",
     "output_type": "stream",
     "text": [
      "To https://github.com/aubreymoore/good-vibrations.git\n",
      "   ea58a9c..ed1c9e4  main -> main\n"
     ]
    },
    {
     "name": "stdout",
     "output_type": "stream",
     "text": [
      "   sleeping for 540s\n",
      "263 of 100000\n",
      "   recording for 60s; saving to /home/pi/good-vibrations/data/gpepp/2022-05-25T09:40:58.894.wav\n",
      "   uploading data to GitHub\n",
      "Already up to date.\n",
      "[main 2b99214] record_wav\n",
      " 2 files changed, 23 insertions(+), 1 deletion(-)\n",
      " create mode 100644 data/gpepp/2022-05-25T09:40:58.894.wav\n"
     ]
    },
    {
     "name": "stderr",
     "output_type": "stream",
     "text": [
      "To https://github.com/aubreymoore/good-vibrations.git\n",
      "   ed1c9e4..2b99214  main -> main\n"
     ]
    },
    {
     "name": "stdout",
     "output_type": "stream",
     "text": [
      "   sleeping for 540s\n",
      "264 of 100000\n",
      "   recording for 60s; saving to /home/pi/good-vibrations/data/gpepp/2022-05-25T09:51:06.019.wav\n",
      "   uploading data to GitHub\n",
      "Already up to date.\n",
      "[main ec13031] record_wav\n",
      " 2 files changed, 23 insertions(+), 1 deletion(-)\n",
      " create mode 100644 data/gpepp/2022-05-25T09:51:06.019.wav\n"
     ]
    },
    {
     "name": "stderr",
     "output_type": "stream",
     "text": [
      "To https://github.com/aubreymoore/good-vibrations.git\n",
      "   2b99214..ec13031  main -> main\n"
     ]
    },
    {
     "name": "stdout",
     "output_type": "stream",
     "text": [
      "   sleeping for 540s\n",
      "265 of 100000\n",
      "   recording for 60s; saving to /home/pi/good-vibrations/data/gpepp/2022-05-25T10:01:15.590.wav\n",
      "   uploading data to GitHub\n",
      "Already up to date.\n",
      "[main 84b0087] record_wav\n",
      " 2 files changed, 23 insertions(+), 1 deletion(-)\n",
      " create mode 100644 data/gpepp/2022-05-25T10:01:15.590.wav\n"
     ]
    },
    {
     "name": "stderr",
     "output_type": "stream",
     "text": [
      "To https://github.com/aubreymoore/good-vibrations.git\n",
      "   ec13031..84b0087  main -> main\n"
     ]
    },
    {
     "name": "stdout",
     "output_type": "stream",
     "text": [
      "   sleeping for 540s\n",
      "266 of 100000\n",
      "   recording for 60s; saving to /home/pi/good-vibrations/data/gpepp/2022-05-25T10:11:22.199.wav\n",
      "   uploading data to GitHub\n",
      "Already up to date.\n",
      "[main 1161780] record_wav\n",
      " 2 files changed, 23 insertions(+), 1 deletion(-)\n",
      " create mode 100644 data/gpepp/2022-05-25T10:11:22.199.wav\n"
     ]
    },
    {
     "name": "stderr",
     "output_type": "stream",
     "text": [
      "To https://github.com/aubreymoore/good-vibrations.git\n",
      "   84b0087..1161780  main -> main\n"
     ]
    },
    {
     "name": "stdout",
     "output_type": "stream",
     "text": [
      "   sleeping for 540s\n",
      "267 of 100000\n",
      "   recording for 60s; saving to /home/pi/good-vibrations/data/gpepp/2022-05-25T10:21:28.799.wav\n",
      "   uploading data to GitHub\n",
      "Already up to date.\n",
      "[main efc4bf5] record_wav\n",
      " 2 files changed, 21 insertions(+), 1 deletion(-)\n",
      " create mode 100644 data/gpepp/2022-05-25T10:21:28.799.wav\n"
     ]
    },
    {
     "name": "stderr",
     "output_type": "stream",
     "text": [
      "To https://github.com/aubreymoore/good-vibrations.git\n",
      "   1161780..efc4bf5  main -> main\n"
     ]
    },
    {
     "name": "stdout",
     "output_type": "stream",
     "text": [
      "   sleeping for 540s\n",
      "268 of 100000\n",
      "   recording for 60s; saving to /home/pi/good-vibrations/data/gpepp/2022-05-25T10:31:35.289.wav\n",
      "   uploading data to GitHub\n",
      "Already up to date.\n",
      "[main b455864] record_wav\n",
      " 2 files changed, 22 insertions(+)\n",
      " create mode 100644 data/gpepp/2022-05-25T10:31:35.289.wav\n"
     ]
    },
    {
     "name": "stderr",
     "output_type": "stream",
     "text": [
      "To https://github.com/aubreymoore/good-vibrations.git\n",
      "   efc4bf5..b455864  main -> main\n"
     ]
    },
    {
     "name": "stdout",
     "output_type": "stream",
     "text": [
      "   sleeping for 540s\n",
      "269 of 100000\n",
      "   recording for 60s; saving to /home/pi/good-vibrations/data/gpepp/2022-05-25T10:41:44.297.wav\n",
      "   uploading data to GitHub\n",
      "Already up to date.\n",
      "[main e898221] record_wav\n",
      " 2 files changed, 22 insertions(+)\n",
      " create mode 100644 data/gpepp/2022-05-25T10:41:44.297.wav\n"
     ]
    },
    {
     "name": "stderr",
     "output_type": "stream",
     "text": [
      "To https://github.com/aubreymoore/good-vibrations.git\n",
      "   b455864..e898221  main -> main\n"
     ]
    },
    {
     "name": "stdout",
     "output_type": "stream",
     "text": [
      "   sleeping for 540s\n",
      "270 of 100000\n",
      "   recording for 60s; saving to /home/pi/good-vibrations/data/gpepp/2022-05-25T10:51:51.019.wav\n",
      "   uploading data to GitHub\n",
      "Already up to date.\n",
      "[main 4ba7537] record_wav\n",
      " 2 files changed, 22 insertions(+)\n",
      " create mode 100644 data/gpepp/2022-05-25T10:51:51.019.wav\n"
     ]
    },
    {
     "name": "stderr",
     "output_type": "stream",
     "text": [
      "To https://github.com/aubreymoore/good-vibrations.git\n",
      "   e898221..4ba7537  main -> main\n"
     ]
    },
    {
     "name": "stdout",
     "output_type": "stream",
     "text": [
      "   sleeping for 540s\n",
      "271 of 100000\n",
      "   recording for 60s; saving to /home/pi/good-vibrations/data/gpepp/2022-05-25T11:01:57.950.wav\n",
      "   uploading data to GitHub\n",
      "Already up to date.\n",
      "[main 2010aba] record_wav\n",
      " 2 files changed, 22 insertions(+)\n",
      " create mode 100644 data/gpepp/2022-05-25T11:01:57.950.wav\n"
     ]
    },
    {
     "name": "stderr",
     "output_type": "stream",
     "text": [
      "To https://github.com/aubreymoore/good-vibrations.git\n",
      "   4ba7537..2010aba  main -> main\n"
     ]
    },
    {
     "name": "stdout",
     "output_type": "stream",
     "text": [
      "   sleeping for 540s\n",
      "272 of 100000\n",
      "   recording for 60s; saving to /home/pi/good-vibrations/data/gpepp/2022-05-25T11:12:05.249.wav\n",
      "   uploading data to GitHub\n",
      "Already up to date.\n",
      "[main 8736270] record_wav\n",
      " 2 files changed, 22 insertions(+)\n",
      " create mode 100644 data/gpepp/2022-05-25T11:12:05.249.wav\n"
     ]
    },
    {
     "name": "stderr",
     "output_type": "stream",
     "text": [
      "To https://github.com/aubreymoore/good-vibrations.git\n",
      "   2010aba..8736270  main -> main\n"
     ]
    },
    {
     "name": "stdout",
     "output_type": "stream",
     "text": [
      "   sleeping for 540s\n",
      "273 of 100000\n",
      "   recording for 60s; saving to /home/pi/good-vibrations/data/gpepp/2022-05-25T11:22:12.169.wav\n",
      "   uploading data to GitHub\n",
      "Already up to date.\n",
      "[main 6e87d42] record_wav\n",
      " 2 files changed, 22 insertions(+)\n",
      " create mode 100644 data/gpepp/2022-05-25T11:22:12.169.wav\n"
     ]
    },
    {
     "name": "stderr",
     "output_type": "stream",
     "text": [
      "To https://github.com/aubreymoore/good-vibrations.git\n",
      "   8736270..6e87d42  main -> main\n"
     ]
    },
    {
     "name": "stdout",
     "output_type": "stream",
     "text": [
      "   sleeping for 540s\n",
      "274 of 100000\n",
      "   recording for 60s; saving to /home/pi/good-vibrations/data/gpepp/2022-05-25T11:32:19.483.wav\n",
      "   uploading data to GitHub\n",
      "Already up to date.\n",
      "[main 2fdec26] record_wav\n",
      " 2 files changed, 22 insertions(+)\n",
      " create mode 100644 data/gpepp/2022-05-25T11:32:19.483.wav\n"
     ]
    },
    {
     "name": "stderr",
     "output_type": "stream",
     "text": [
      "To https://github.com/aubreymoore/good-vibrations.git\n",
      "   6e87d42..2fdec26  main -> main\n"
     ]
    },
    {
     "name": "stdout",
     "output_type": "stream",
     "text": [
      "   sleeping for 540s\n",
      "275 of 100000\n",
      "   recording for 60s; saving to /home/pi/good-vibrations/data/gpepp/2022-05-25T11:42:26.659.wav\n",
      "   uploading data to GitHub\n",
      "Already up to date.\n",
      "[main 108f8bd] record_wav\n",
      " 2 files changed, 22 insertions(+)\n",
      " create mode 100644 data/gpepp/2022-05-25T11:42:26.659.wav\n"
     ]
    },
    {
     "name": "stderr",
     "output_type": "stream",
     "text": [
      "To https://github.com/aubreymoore/good-vibrations.git\n",
      "   2fdec26..108f8bd  main -> main\n"
     ]
    },
    {
     "name": "stdout",
     "output_type": "stream",
     "text": [
      "   sleeping for 540s\n",
      "276 of 100000\n",
      "   recording for 60s; saving to /home/pi/good-vibrations/data/gpepp/2022-05-25T11:52:33.360.wav\n",
      "   uploading data to GitHub\n",
      "Already up to date.\n",
      "[main 5d1dacb] record_wav\n",
      " 2 files changed, 22 insertions(+)\n",
      " create mode 100644 data/gpepp/2022-05-25T11:52:33.360.wav\n"
     ]
    },
    {
     "name": "stderr",
     "output_type": "stream",
     "text": [
      "To https://github.com/aubreymoore/good-vibrations.git\n",
      "   108f8bd..5d1dacb  main -> main\n"
     ]
    },
    {
     "name": "stdout",
     "output_type": "stream",
     "text": [
      "   sleeping for 540s\n",
      "277 of 100000\n",
      "   recording for 60s; saving to /home/pi/good-vibrations/data/gpepp/2022-05-25T12:02:39.933.wav\n",
      "   uploading data to GitHub\n",
      "Already up to date.\n",
      "[main 4d11605] record_wav\n",
      " 2 files changed, 25 insertions(+), 1 deletion(-)\n",
      " create mode 100644 data/gpepp/2022-05-25T12:02:39.933.wav\n"
     ]
    },
    {
     "name": "stderr",
     "output_type": "stream",
     "text": [
      "To https://github.com/aubreymoore/good-vibrations.git\n",
      "   5d1dacb..4d11605  main -> main\n"
     ]
    },
    {
     "name": "stdout",
     "output_type": "stream",
     "text": [
      "   sleeping for 540s\n",
      "278 of 100000\n",
      "   recording for 60s; saving to /home/pi/good-vibrations/data/gpepp/2022-05-25T12:12:48.339.wav\n",
      "   uploading data to GitHub\n",
      "Already up to date.\n",
      "[main c75341e] record_wav\n",
      " 2 files changed, 23 insertions(+), 1 deletion(-)\n",
      " create mode 100644 data/gpepp/2022-05-25T12:12:48.339.wav\n"
     ]
    },
    {
     "name": "stderr",
     "output_type": "stream",
     "text": [
      "To https://github.com/aubreymoore/good-vibrations.git\n",
      "   4d11605..c75341e  main -> main\n"
     ]
    },
    {
     "name": "stdout",
     "output_type": "stream",
     "text": [
      "   sleeping for 540s\n",
      "279 of 100000\n",
      "   recording for 60s; saving to /home/pi/good-vibrations/data/gpepp/2022-05-25T12:22:54.999.wav\n",
      "   uploading data to GitHub\n",
      "Already up to date.\n",
      "[main aec0a34] record_wav\n",
      " 2 files changed, 23 insertions(+), 1 deletion(-)\n",
      " create mode 100644 data/gpepp/2022-05-25T12:22:54.999.wav\n"
     ]
    },
    {
     "name": "stderr",
     "output_type": "stream",
     "text": [
      "To https://github.com/aubreymoore/good-vibrations.git\n",
      "   c75341e..aec0a34  main -> main\n"
     ]
    },
    {
     "name": "stdout",
     "output_type": "stream",
     "text": [
      "   sleeping for 540s\n",
      "280 of 100000\n",
      "   recording for 60s; saving to /home/pi/good-vibrations/data/gpepp/2022-05-25T12:33:04.999.wav\n",
      "   uploading data to GitHub\n",
      "Already up to date.\n",
      "[main b2d3eb1] record_wav\n",
      " 2 files changed, 23 insertions(+), 1 deletion(-)\n",
      " create mode 100644 data/gpepp/2022-05-25T12:33:04.999.wav\n"
     ]
    },
    {
     "name": "stderr",
     "output_type": "stream",
     "text": [
      "To https://github.com/aubreymoore/good-vibrations.git\n",
      "   aec0a34..b2d3eb1  main -> main\n"
     ]
    },
    {
     "name": "stdout",
     "output_type": "stream",
     "text": [
      "   sleeping for 540s\n",
      "281 of 100000\n",
      "   recording for 60s; saving to /home/pi/good-vibrations/data/gpepp/2022-05-25T12:43:11.689.wav\n",
      "   uploading data to GitHub\n",
      "Already up to date.\n",
      "[main 99084b9] record_wav\n",
      " 2 files changed, 23 insertions(+), 1 deletion(-)\n",
      " create mode 100644 data/gpepp/2022-05-25T12:43:11.689.wav\n"
     ]
    },
    {
     "name": "stderr",
     "output_type": "stream",
     "text": [
      "To https://github.com/aubreymoore/good-vibrations.git\n",
      "   b2d3eb1..99084b9  main -> main\n"
     ]
    },
    {
     "name": "stdout",
     "output_type": "stream",
     "text": [
      "   sleeping for 540s\n",
      "282 of 100000\n",
      "   recording for 60s; saving to /home/pi/good-vibrations/data/gpepp/2022-05-25T12:53:18.249.wav\n",
      "   uploading data to GitHub\n"
     ]
    },
    {
     "name": "stderr",
     "output_type": "stream",
     "text": [
      "fatal: unable to access 'https://github.com/aubreymoore/good-vibrations.git/': Could not resolve host: github.com\n"
     ]
    },
    {
     "name": "stdout",
     "output_type": "stream",
     "text": [
      "[main 853cf79] record_wav\n",
      " 2 files changed, 23 insertions(+), 1 deletion(-)\n",
      " create mode 100644 data/gpepp/2022-05-25T12:53:18.249.wav\n",
      "   sleeping for 540s\n"
     ]
    },
    {
     "name": "stderr",
     "output_type": "stream",
     "text": [
      "fatal: unable to access 'https://github.com/aubreymoore/good-vibrations.git/': Could not resolve host: github.com\n"
     ]
    },
    {
     "name": "stdout",
     "output_type": "stream",
     "text": [
      "283 of 100000\n",
      "   recording for 60s; saving to /home/pi/good-vibrations/data/gpepp/2022-05-25T13:03:18.969.wav\n",
      "   uploading data to GitHub\n",
      "Already up to date.\n",
      "[main 8248075] record_wav\n",
      " 2 files changed, 34 insertions(+), 1 deletion(-)\n",
      " create mode 100644 data/gpepp/2022-05-25T13:03:18.969.wav\n"
     ]
    },
    {
     "name": "stderr",
     "output_type": "stream",
     "text": [
      "To https://github.com/aubreymoore/good-vibrations.git\n",
      "   99084b9..8248075  main -> main\n"
     ]
    },
    {
     "name": "stdout",
     "output_type": "stream",
     "text": [
      "   sleeping for 540s\n",
      "284 of 100000\n",
      "   recording for 60s; saving to /home/pi/good-vibrations/data/gpepp/2022-05-25T13:13:26.999.wav\n",
      "   uploading data to GitHub\n",
      "Already up to date.\n",
      "[main 49e0d79] record_wav\n",
      " 2 files changed, 23 insertions(+), 1 deletion(-)\n",
      " create mode 100644 data/gpepp/2022-05-25T13:13:26.999.wav\n"
     ]
    },
    {
     "name": "stderr",
     "output_type": "stream",
     "text": [
      "To https://github.com/aubreymoore/good-vibrations.git\n",
      "   8248075..49e0d79  main -> main\n"
     ]
    },
    {
     "name": "stdout",
     "output_type": "stream",
     "text": [
      "   sleeping for 540s\n",
      "285 of 100000\n",
      "   recording for 60s; saving to /home/pi/good-vibrations/data/gpepp/2022-05-25T13:23:34.743.wav\n",
      "   uploading data to GitHub\n",
      "Already up to date.\n",
      "[main 9dfa840] record_wav\n",
      " 2 files changed, 23 insertions(+), 1 deletion(-)\n",
      " create mode 100644 data/gpepp/2022-05-25T13:23:34.743.wav\n"
     ]
    },
    {
     "name": "stderr",
     "output_type": "stream",
     "text": [
      "To https://github.com/aubreymoore/good-vibrations.git\n",
      "   49e0d79..9dfa840  main -> main\n"
     ]
    },
    {
     "name": "stdout",
     "output_type": "stream",
     "text": [
      "   sleeping for 540s\n",
      "286 of 100000\n",
      "   recording for 60s; saving to /home/pi/good-vibrations/data/gpepp/2022-05-25T13:33:41.679.wav\n",
      "   uploading data to GitHub\n",
      "Already up to date.\n",
      "[main 9cae2a1] record_wav\n",
      " 2 files changed, 23 insertions(+), 1 deletion(-)\n",
      " create mode 100644 data/gpepp/2022-05-25T13:33:41.679.wav\n"
     ]
    },
    {
     "name": "stderr",
     "output_type": "stream",
     "text": [
      "To https://github.com/aubreymoore/good-vibrations.git\n",
      "   9dfa840..9cae2a1  main -> main\n"
     ]
    },
    {
     "name": "stdout",
     "output_type": "stream",
     "text": [
      "   sleeping for 540s\n",
      "287 of 100000\n",
      "   recording for 60s; saving to /home/pi/good-vibrations/data/gpepp/2022-05-25T13:43:50.355.wav\n",
      "   uploading data to GitHub\n",
      "Already up to date.\n",
      "[main 20d7077] record_wav\n",
      " 2 files changed, 23 insertions(+), 1 deletion(-)\n",
      " create mode 100644 data/gpepp/2022-05-25T13:43:50.355.wav\n"
     ]
    },
    {
     "name": "stderr",
     "output_type": "stream",
     "text": [
      "To https://github.com/aubreymoore/good-vibrations.git\n",
      "   9cae2a1..20d7077  main -> main\n"
     ]
    },
    {
     "name": "stdout",
     "output_type": "stream",
     "text": [
      "   sleeping for 540s\n",
      "288 of 100000\n",
      "   recording for 60s; saving to /home/pi/good-vibrations/data/gpepp/2022-05-25T13:53:57.391.wav\n",
      "   uploading data to GitHub\n",
      "Already up to date.\n",
      "[main 879e4ff] record_wav\n",
      " 2 files changed, 21 insertions(+), 1 deletion(-)\n",
      " create mode 100644 data/gpepp/2022-05-25T13:53:57.391.wav\n"
     ]
    },
    {
     "name": "stderr",
     "output_type": "stream",
     "text": [
      "To https://github.com/aubreymoore/good-vibrations.git\n",
      "   20d7077..879e4ff  main -> main\n"
     ]
    },
    {
     "name": "stdout",
     "output_type": "stream",
     "text": [
      "   sleeping for 540s\n",
      "289 of 100000\n",
      "   recording for 60s; saving to /home/pi/good-vibrations/data/gpepp/2022-05-25T14:04:04.327.wav\n",
      "   uploading data to GitHub\n",
      "Already up to date.\n",
      "[main 95f20ae] record_wav\n",
      " 2 files changed, 22 insertions(+)\n",
      " create mode 100644 data/gpepp/2022-05-25T14:04:04.327.wav\n"
     ]
    },
    {
     "name": "stderr",
     "output_type": "stream",
     "text": [
      "To https://github.com/aubreymoore/good-vibrations.git\n",
      "   879e4ff..95f20ae  main -> main\n"
     ]
    },
    {
     "name": "stdout",
     "output_type": "stream",
     "text": [
      "   sleeping for 540s\n",
      "290 of 100000\n",
      "   recording for 60s; saving to /home/pi/good-vibrations/data/gpepp/2022-05-25T14:14:10.993.wav\n",
      "   uploading data to GitHub\n",
      "Already up to date.\n",
      "[main 71da189] record_wav\n",
      " 2 files changed, 22 insertions(+)\n",
      " create mode 100644 data/gpepp/2022-05-25T14:14:10.993.wav\n"
     ]
    },
    {
     "name": "stderr",
     "output_type": "stream",
     "text": [
      "To https://github.com/aubreymoore/good-vibrations.git\n",
      "   95f20ae..71da189  main -> main\n"
     ]
    },
    {
     "name": "stdout",
     "output_type": "stream",
     "text": [
      "   sleeping for 540s\n",
      "291 of 100000\n",
      "   recording for 60s; saving to /home/pi/good-vibrations/data/gpepp/2022-05-25T14:24:17.849.wav\n",
      "   uploading data to GitHub\n",
      "Already up to date.\n",
      "[main a246c63] record_wav\n",
      " 2 files changed, 22 insertions(+)\n",
      " create mode 100644 data/gpepp/2022-05-25T14:24:17.849.wav\n"
     ]
    },
    {
     "name": "stderr",
     "output_type": "stream",
     "text": [
      "To https://github.com/aubreymoore/good-vibrations.git\n",
      "   71da189..a246c63  main -> main\n"
     ]
    },
    {
     "name": "stdout",
     "output_type": "stream",
     "text": [
      "   sleeping for 540s\n",
      "292 of 100000\n",
      "   recording for 60s; saving to /home/pi/good-vibrations/data/gpepp/2022-05-25T14:34:24.379.wav\n",
      "   uploading data to GitHub\n",
      "Already up to date.\n",
      "[main 894cc44] record_wav\n",
      " 2 files changed, 22 insertions(+)\n",
      " create mode 100644 data/gpepp/2022-05-25T14:34:24.379.wav\n"
     ]
    },
    {
     "name": "stderr",
     "output_type": "stream",
     "text": [
      "To https://github.com/aubreymoore/good-vibrations.git\n",
      "   a246c63..894cc44  main -> main\n"
     ]
    },
    {
     "name": "stdout",
     "output_type": "stream",
     "text": [
      "   sleeping for 540s\n",
      "293 of 100000\n",
      "   recording for 60s; saving to /home/pi/good-vibrations/data/gpepp/2022-05-25T14:44:31.122.wav\n",
      "   uploading data to GitHub\n",
      "Already up to date.\n",
      "[main 243dd7c] record_wav\n",
      " 2 files changed, 22 insertions(+)\n",
      " create mode 100644 data/gpepp/2022-05-25T14:44:31.122.wav\n"
     ]
    },
    {
     "name": "stderr",
     "output_type": "stream",
     "text": [
      "To https://github.com/aubreymoore/good-vibrations.git\n",
      "   894cc44..243dd7c  main -> main\n"
     ]
    },
    {
     "name": "stdout",
     "output_type": "stream",
     "text": [
      "   sleeping for 540s\n",
      "294 of 100000\n",
      "   recording for 60s; saving to /home/pi/good-vibrations/data/gpepp/2022-05-25T14:54:38.948.wav\n",
      "   uploading data to GitHub\n",
      "Already up to date.\n",
      "[main ea261ab] record_wav\n",
      " 2 files changed, 22 insertions(+)\n",
      " create mode 100644 data/gpepp/2022-05-25T14:54:38.948.wav\n"
     ]
    },
    {
     "name": "stderr",
     "output_type": "stream",
     "text": [
      "To https://github.com/aubreymoore/good-vibrations.git\n",
      "   243dd7c..ea261ab  main -> main\n"
     ]
    },
    {
     "name": "stdout",
     "output_type": "stream",
     "text": [
      "   sleeping for 540s\n",
      "295 of 100000\n",
      "   recording for 60s; saving to /home/pi/good-vibrations/data/gpepp/2022-05-25T15:04:46.129.wav\n",
      "   uploading data to GitHub\n",
      "Already up to date.\n",
      "[main e5f2c76] record_wav\n",
      " 2 files changed, 22 insertions(+)\n",
      " create mode 100644 data/gpepp/2022-05-25T15:04:46.129.wav\n"
     ]
    },
    {
     "name": "stderr",
     "output_type": "stream",
     "text": [
      "To https://github.com/aubreymoore/good-vibrations.git\n",
      "   ea261ab..e5f2c76  main -> main\n"
     ]
    },
    {
     "name": "stdout",
     "output_type": "stream",
     "text": [
      "   sleeping for 540s\n",
      "296 of 100000\n",
      "   recording for 60s; saving to /home/pi/good-vibrations/data/gpepp/2022-05-25T15:14:54.183.wav\n",
      "   uploading data to GitHub\n",
      "Already up to date.\n",
      "[main 6ee969b] record_wav\n",
      " 2 files changed, 22 insertions(+)\n",
      " create mode 100644 data/gpepp/2022-05-25T15:14:54.183.wav\n"
     ]
    },
    {
     "name": "stderr",
     "output_type": "stream",
     "text": [
      "To https://github.com/aubreymoore/good-vibrations.git\n",
      "   e5f2c76..6ee969b  main -> main\n"
     ]
    },
    {
     "name": "stdout",
     "output_type": "stream",
     "text": [
      "   sleeping for 540s\n",
      "297 of 100000\n",
      "   recording for 60s; saving to /home/pi/good-vibrations/data/gpepp/2022-05-25T15:25:01.208.wav\n",
      "   uploading data to GitHub\n",
      "Already up to date.\n",
      "[main a3f04d9] record_wav\n",
      " 2 files changed, 22 insertions(+)\n",
      " create mode 100644 data/gpepp/2022-05-25T15:25:01.208.wav\n"
     ]
    },
    {
     "name": "stderr",
     "output_type": "stream",
     "text": [
      "To https://github.com/aubreymoore/good-vibrations.git\n",
      "   6ee969b..a3f04d9  main -> main\n"
     ]
    },
    {
     "name": "stdout",
     "output_type": "stream",
     "text": [
      "   sleeping for 540s\n",
      "298 of 100000\n",
      "   recording for 60s; saving to /home/pi/good-vibrations/data/gpepp/2022-05-25T15:35:07.859.wav\n",
      "   uploading data to GitHub\n",
      "Already up to date.\n",
      "[main 4e1ed62] record_wav\n",
      " 2 files changed, 8 insertions(+), 1 deletion(-)\n",
      " create mode 100644 data/gpepp/2022-05-25T15:35:07.859.wav\n"
     ]
    },
    {
     "name": "stderr",
     "output_type": "stream",
     "text": [
      "To https://github.com/aubreymoore/good-vibrations.git\n",
      "   a3f04d9..4e1ed62  main -> main\n"
     ]
    },
    {
     "name": "stdout",
     "output_type": "stream",
     "text": [
      "   sleeping for 540s\n",
      "299 of 100000\n",
      "   recording for 60s; saving to /home/pi/good-vibrations/data/gpepp/2022-05-25T15:45:14.601.wav\n",
      "   uploading data to GitHub\n",
      "Already up to date.\n",
      "[main cb13bdd] record_wav\n",
      " 2 files changed, 39 insertions(+)\n",
      " create mode 100644 data/gpepp/2022-05-25T15:45:14.601.wav\n"
     ]
    },
    {
     "name": "stderr",
     "output_type": "stream",
     "text": [
      "To https://github.com/aubreymoore/good-vibrations.git\n",
      "   4e1ed62..cb13bdd  main -> main\n"
     ]
    },
    {
     "name": "stdout",
     "output_type": "stream",
     "text": [
      "   sleeping for 540s\n",
      "300 of 100000\n",
      "   recording for 60s; saving to /home/pi/good-vibrations/data/gpepp/2022-05-25T15:55:21.366.wav\n",
      "   uploading data to GitHub\n",
      "Already up to date.\n",
      "[main 0247d7f] record_wav\n",
      " 2 files changed, 23 insertions(+), 1 deletion(-)\n",
      " create mode 100644 data/gpepp/2022-05-25T15:55:21.366.wav\n"
     ]
    },
    {
     "name": "stderr",
     "output_type": "stream",
     "text": [
      "To https://github.com/aubreymoore/good-vibrations.git\n",
      "   cb13bdd..0247d7f  main -> main\n"
     ]
    },
    {
     "name": "stdout",
     "output_type": "stream",
     "text": [
      "   sleeping for 540s\n",
      "301 of 100000\n",
      "   recording for 60s; saving to /home/pi/good-vibrations/data/gpepp/2022-05-25T16:05:33.019.wav\n",
      "   uploading data to GitHub\n"
     ]
    },
    {
     "name": "stderr",
     "output_type": "stream",
     "text": [
      "From https://github.com/aubreymoore/good-vibrations\n",
      "   0247d7f..3e8df4a  main       -> origin/main\n"
     ]
    },
    {
     "name": "stdout",
     "output_type": "stream",
     "text": [
      "Updating 0247d7f..3e8df4a\n",
      "Fast-forward\n",
      " data/gpepp/actions.csv | 5 +++++\n",
      " 1 file changed, 5 insertions(+)\n",
      " create mode 100644 data/gpepp/actions.csv\n",
      "[main d91e7f1] record_wav\n",
      " 2 files changed, 23 insertions(+), 1 deletion(-)\n",
      " create mode 100644 data/gpepp/2022-05-25T16:05:33.019.wav\n"
     ]
    },
    {
     "name": "stderr",
     "output_type": "stream",
     "text": [
      "To https://github.com/aubreymoore/good-vibrations.git\n",
      "   3e8df4a..d91e7f1  main -> main\n"
     ]
    },
    {
     "name": "stdout",
     "output_type": "stream",
     "text": [
      "   sleeping for 540s\n",
      "302 of 100000\n",
      "   recording for 60s; saving to /home/pi/good-vibrations/data/gpepp/2022-05-25T16:15:40.979.wav\n",
      "   uploading data to GitHub\n",
      "Already up to date.\n",
      "[main cb0daa2] record_wav\n",
      " 2 files changed, 41 insertions(+), 1 deletion(-)\n",
      " create mode 100644 data/gpepp/2022-05-25T16:15:40.979.wav\n"
     ]
    },
    {
     "name": "stderr",
     "output_type": "stream",
     "text": [
      "To https://github.com/aubreymoore/good-vibrations.git\n",
      "   d91e7f1..cb0daa2  main -> main\n"
     ]
    },
    {
     "name": "stdout",
     "output_type": "stream",
     "text": [
      "   sleeping for 540s\n",
      "303 of 100000\n",
      "   recording for 60s; saving to /home/pi/good-vibrations/data/gpepp/2022-05-25T16:25:48.419.wav\n",
      "   uploading data to GitHub\n",
      "Already up to date.\n",
      "[main f0f8fe9] record_wav\n",
      " 2 files changed, 23 insertions(+), 1 deletion(-)\n",
      " create mode 100644 data/gpepp/2022-05-25T16:25:48.419.wav\n"
     ]
    },
    {
     "name": "stderr",
     "output_type": "stream",
     "text": [
      "To https://github.com/aubreymoore/good-vibrations.git\n",
      "   cb0daa2..f0f8fe9  main -> main\n"
     ]
    },
    {
     "name": "stdout",
     "output_type": "stream",
     "text": [
      "   sleeping for 540s\n",
      "304 of 100000\n",
      "   recording for 60s; saving to /home/pi/good-vibrations/data/gpepp/2022-05-25T16:35:55.139.wav\n",
      "   uploading data to GitHub\n",
      "Already up to date.\n",
      "[main 959e80e] record_wav\n",
      " 2 files changed, 23 insertions(+), 1 deletion(-)\n",
      " create mode 100644 data/gpepp/2022-05-25T16:35:55.139.wav\n"
     ]
    },
    {
     "name": "stderr",
     "output_type": "stream",
     "text": [
      "To https://github.com/aubreymoore/good-vibrations.git\n",
      "   f0f8fe9..959e80e  main -> main\n"
     ]
    },
    {
     "name": "stdout",
     "output_type": "stream",
     "text": [
      "   sleeping for 540s\n",
      "305 of 100000\n",
      "   recording for 60s; saving to /home/pi/good-vibrations/data/gpepp/2022-05-25T16:46:01.779.wav\n",
      "   uploading data to GitHub\n",
      "Already up to date.\n",
      "[main 5890dda] record_wav\n",
      " 2 files changed, 23 insertions(+), 1 deletion(-)\n",
      " create mode 100644 data/gpepp/2022-05-25T16:46:01.779.wav\n"
     ]
    },
    {
     "name": "stderr",
     "output_type": "stream",
     "text": [
      "To https://github.com/aubreymoore/good-vibrations.git\n",
      "   959e80e..5890dda  main -> main\n"
     ]
    },
    {
     "name": "stdout",
     "output_type": "stream",
     "text": [
      "   sleeping for 540s\n",
      "306 of 100000\n",
      "   recording for 60s; saving to /home/pi/good-vibrations/data/gpepp/2022-05-25T16:56:08.659.wav\n",
      "   uploading data to GitHub\n",
      "Already up to date.\n",
      "[main e8c092e] record_wav\n",
      " 2 files changed, 23 insertions(+), 1 deletion(-)\n",
      " create mode 100644 data/gpepp/2022-05-25T16:56:08.659.wav\n"
     ]
    },
    {
     "name": "stderr",
     "output_type": "stream",
     "text": [
      "To https://github.com/aubreymoore/good-vibrations.git\n",
      "   5890dda..e8c092e  main -> main\n"
     ]
    },
    {
     "name": "stdout",
     "output_type": "stream",
     "text": [
      "   sleeping for 540s\n",
      "307 of 100000\n",
      "   recording for 60s; saving to /home/pi/good-vibrations/data/gpepp/2022-05-25T17:06:15.580.wav\n",
      "   uploading data to GitHub\n",
      "Already up to date.\n",
      "[main d075b96] record_wav\n",
      " 2 files changed, 23 insertions(+), 1 deletion(-)\n",
      " create mode 100644 data/gpepp/2022-05-25T17:06:15.580.wav\n"
     ]
    },
    {
     "name": "stderr",
     "output_type": "stream",
     "text": [
      "To https://github.com/aubreymoore/good-vibrations.git\n",
      "   e8c092e..d075b96  main -> main\n"
     ]
    },
    {
     "name": "stdout",
     "output_type": "stream",
     "text": [
      "   sleeping for 540s\n",
      "308 of 100000\n",
      "   recording for 60s; saving to /home/pi/good-vibrations/data/gpepp/2022-05-25T17:16:22.912.wav\n",
      "   uploading data to GitHub\n",
      "Already up to date.\n",
      "[main 40b1438] record_wav\n",
      " 2 files changed, 23 insertions(+), 1 deletion(-)\n",
      " create mode 100644 data/gpepp/2022-05-25T17:16:22.912.wav\n"
     ]
    },
    {
     "name": "stderr",
     "output_type": "stream",
     "text": [
      "To https://github.com/aubreymoore/good-vibrations.git\n",
      "   d075b96..40b1438  main -> main\n"
     ]
    },
    {
     "name": "stdout",
     "output_type": "stream",
     "text": [
      "   sleeping for 540s\n",
      "309 of 100000\n",
      "   recording for 60s; saving to /home/pi/good-vibrations/data/gpepp/2022-05-25T17:26:29.499.wav\n",
      "   uploading data to GitHub\n",
      "Already up to date.\n",
      "[main 37d06d8] record_wav\n",
      " 2 files changed, 23 insertions(+), 1 deletion(-)\n",
      " create mode 100644 data/gpepp/2022-05-25T17:26:29.499.wav\n"
     ]
    },
    {
     "name": "stderr",
     "output_type": "stream",
     "text": [
      "To https://github.com/aubreymoore/good-vibrations.git\n",
      "   40b1438..37d06d8  main -> main\n"
     ]
    },
    {
     "name": "stdout",
     "output_type": "stream",
     "text": [
      "   sleeping for 540s\n",
      "310 of 100000\n",
      "   recording for 60s; saving to /home/pi/good-vibrations/data/gpepp/2022-05-25T17:36:36.119.wav\n",
      "   uploading data to GitHub\n",
      "Already up to date.\n",
      "[main 33b21b8] record_wav\n",
      " 2 files changed, 21 insertions(+), 1 deletion(-)\n",
      " create mode 100644 data/gpepp/2022-05-25T17:36:36.119.wav\n"
     ]
    },
    {
     "name": "stderr",
     "output_type": "stream",
     "text": [
      "To https://github.com/aubreymoore/good-vibrations.git\n",
      "   37d06d8..33b21b8  main -> main\n"
     ]
    },
    {
     "name": "stdout",
     "output_type": "stream",
     "text": [
      "   sleeping for 540s\n",
      "311 of 100000\n",
      "   recording for 60s; saving to /home/pi/good-vibrations/data/gpepp/2022-05-25T17:46:44.999.wav\n",
      "   uploading data to GitHub\n",
      "Already up to date.\n",
      "[main b805df8] record_wav\n",
      " 2 files changed, 22 insertions(+)\n",
      " create mode 100644 data/gpepp/2022-05-25T17:46:44.999.wav\n"
     ]
    },
    {
     "name": "stderr",
     "output_type": "stream",
     "text": [
      "To https://github.com/aubreymoore/good-vibrations.git\n",
      "   33b21b8..b805df8  main -> main\n"
     ]
    },
    {
     "name": "stdout",
     "output_type": "stream",
     "text": [
      "   sleeping for 540s\n",
      "312 of 100000\n",
      "   recording for 60s; saving to /home/pi/good-vibrations/data/gpepp/2022-05-25T17:56:51.829.wav\n",
      "   uploading data to GitHub\n",
      "Already up to date.\n",
      "[main 35db302] record_wav\n",
      " 2 files changed, 22 insertions(+)\n",
      " create mode 100644 data/gpepp/2022-05-25T17:56:51.829.wav\n"
     ]
    },
    {
     "name": "stderr",
     "output_type": "stream",
     "text": [
      "To https://github.com/aubreymoore/good-vibrations.git\n",
      "   b805df8..35db302  main -> main\n"
     ]
    },
    {
     "name": "stdout",
     "output_type": "stream",
     "text": [
      "   sleeping for 540s\n",
      "313 of 100000\n",
      "   recording for 60s; saving to /home/pi/good-vibrations/data/gpepp/2022-05-25T18:06:59.089.wav\n",
      "   uploading data to GitHub\n",
      "Already up to date.\n",
      "[main 8d56c03] record_wav\n",
      " 2 files changed, 22 insertions(+)\n",
      " create mode 100644 data/gpepp/2022-05-25T18:06:59.089.wav\n"
     ]
    },
    {
     "name": "stderr",
     "output_type": "stream",
     "text": [
      "To https://github.com/aubreymoore/good-vibrations.git\n",
      "   35db302..8d56c03  main -> main\n"
     ]
    },
    {
     "name": "stdout",
     "output_type": "stream",
     "text": [
      "   sleeping for 540s\n",
      "314 of 100000\n",
      "   recording for 60s; saving to /home/pi/good-vibrations/data/gpepp/2022-05-25T18:17:07.619.wav\n",
      "   uploading data to GitHub\n",
      "Already up to date.\n",
      "[main 6ef7c72] record_wav\n",
      " 2 files changed, 22 insertions(+)\n",
      " create mode 100644 data/gpepp/2022-05-25T18:17:07.619.wav\n"
     ]
    },
    {
     "name": "stderr",
     "output_type": "stream",
     "text": [
      "To https://github.com/aubreymoore/good-vibrations.git\n",
      "   8d56c03..6ef7c72  main -> main\n"
     ]
    },
    {
     "name": "stdout",
     "output_type": "stream",
     "text": [
      "   sleeping for 540s\n",
      "315 of 100000\n",
      "   recording for 60s; saving to /home/pi/good-vibrations/data/gpepp/2022-05-25T18:27:14.949.wav\n",
      "   uploading data to GitHub\n",
      "Already up to date.\n",
      "[main c51495d] record_wav\n",
      " 2 files changed, 22 insertions(+)\n",
      " create mode 100644 data/gpepp/2022-05-25T18:27:14.949.wav\n"
     ]
    },
    {
     "name": "stderr",
     "output_type": "stream",
     "text": [
      "To https://github.com/aubreymoore/good-vibrations.git\n",
      "   6ef7c72..c51495d  main -> main\n"
     ]
    },
    {
     "name": "stdout",
     "output_type": "stream",
     "text": [
      "   sleeping for 540s\n",
      "316 of 100000\n",
      "   recording for 60s; saving to /home/pi/good-vibrations/data/gpepp/2022-05-25T18:37:21.549.wav\n",
      "   uploading data to GitHub\n",
      "Already up to date.\n",
      "[main 2ea16dd] record_wav\n",
      " 2 files changed, 22 insertions(+)\n",
      " create mode 100644 data/gpepp/2022-05-25T18:37:21.549.wav\n"
     ]
    },
    {
     "name": "stderr",
     "output_type": "stream",
     "text": [
      "To https://github.com/aubreymoore/good-vibrations.git\n",
      "   c51495d..2ea16dd  main -> main\n"
     ]
    },
    {
     "name": "stdout",
     "output_type": "stream",
     "text": [
      "   sleeping for 540s\n",
      "317 of 100000\n",
      "   recording for 60s; saving to /home/pi/good-vibrations/data/gpepp/2022-05-25T18:47:28.059.wav\n",
      "   uploading data to GitHub\n",
      "Already up to date.\n",
      "[main d9371bd] record_wav\n",
      " 2 files changed, 22 insertions(+)\n",
      " create mode 100644 data/gpepp/2022-05-25T18:47:28.059.wav\n"
     ]
    },
    {
     "name": "stderr",
     "output_type": "stream",
     "text": [
      "To https://github.com/aubreymoore/good-vibrations.git\n",
      "   2ea16dd..d9371bd  main -> main\n"
     ]
    },
    {
     "name": "stdout",
     "output_type": "stream",
     "text": [
      "   sleeping for 540s\n",
      "318 of 100000\n",
      "   recording for 60s; saving to /home/pi/good-vibrations/data/gpepp/2022-05-25T18:57:34.523.wav\n",
      "   uploading data to GitHub\n",
      "Already up to date.\n",
      "[main c2ca79b] record_wav\n",
      " 2 files changed, 22 insertions(+)\n",
      " create mode 100644 data/gpepp/2022-05-25T18:57:34.523.wav\n"
     ]
    },
    {
     "name": "stderr",
     "output_type": "stream",
     "text": [
      "To https://github.com/aubreymoore/good-vibrations.git\n",
      "   d9371bd..c2ca79b  main -> main\n"
     ]
    },
    {
     "name": "stdout",
     "output_type": "stream",
     "text": [
      "   sleeping for 540s\n",
      "319 of 100000\n",
      "   recording for 60s; saving to /home/pi/good-vibrations/data/gpepp/2022-05-25T19:07:41.289.wav\n",
      "   uploading data to GitHub\n",
      "Already up to date.\n",
      "[main 57ee386] record_wav\n",
      " 2 files changed, 22 insertions(+)\n",
      " create mode 100644 data/gpepp/2022-05-25T19:07:41.289.wav\n"
     ]
    },
    {
     "name": "stderr",
     "output_type": "stream",
     "text": [
      "To https://github.com/aubreymoore/good-vibrations.git\n",
      "   c2ca79b..57ee386  main -> main\n"
     ]
    },
    {
     "name": "stdout",
     "output_type": "stream",
     "text": [
      "   sleeping for 540s\n",
      "320 of 100000\n",
      "   recording for 60s; saving to /home/pi/good-vibrations/data/gpepp/2022-05-25T19:17:48.999.wav\n",
      "   uploading data to GitHub\n",
      "Already up to date.\n",
      "[main 7a0f592] record_wav\n",
      " 2 files changed, 25 insertions(+), 1 deletion(-)\n",
      " create mode 100644 data/gpepp/2022-05-25T19:17:48.999.wav\n"
     ]
    },
    {
     "name": "stderr",
     "output_type": "stream",
     "text": [
      "To https://github.com/aubreymoore/good-vibrations.git\n",
      "   57ee386..7a0f592  main -> main\n"
     ]
    },
    {
     "name": "stdout",
     "output_type": "stream",
     "text": [
      "   sleeping for 540s\n",
      "321 of 100000\n",
      "   recording for 60s; saving to /home/pi/good-vibrations/data/gpepp/2022-05-25T19:27:55.743.wav\n",
      "   uploading data to GitHub\n",
      "Already up to date.\n",
      "[main 3331192] record_wav\n",
      " 2 files changed, 23 insertions(+), 1 deletion(-)\n",
      " create mode 100644 data/gpepp/2022-05-25T19:27:55.743.wav\n"
     ]
    },
    {
     "name": "stderr",
     "output_type": "stream",
     "text": [
      "To https://github.com/aubreymoore/good-vibrations.git\n",
      "   7a0f592..3331192  main -> main\n"
     ]
    },
    {
     "name": "stdout",
     "output_type": "stream",
     "text": [
      "   sleeping for 540s\n",
      "322 of 100000\n",
      "   recording for 60s; saving to /home/pi/good-vibrations/data/gpepp/2022-05-25T19:38:02.249.wav\n",
      "   uploading data to GitHub\n",
      "Already up to date.\n",
      "[main db7b6b8] record_wav\n",
      " 2 files changed, 23 insertions(+), 1 deletion(-)\n",
      " create mode 100644 data/gpepp/2022-05-25T19:38:02.249.wav\n"
     ]
    },
    {
     "name": "stderr",
     "output_type": "stream",
     "text": [
      "To https://github.com/aubreymoore/good-vibrations.git\n",
      "   3331192..db7b6b8  main -> main\n"
     ]
    },
    {
     "name": "stdout",
     "output_type": "stream",
     "text": [
      "   sleeping for 540s\n",
      "323 of 100000\n",
      "   recording for 60s; saving to /home/pi/good-vibrations/data/gpepp/2022-05-25T19:48:09.102.wav\n",
      "   uploading data to GitHub\n",
      "Already up to date.\n",
      "[main 7f75a58] record_wav\n",
      " 2 files changed, 23 insertions(+), 1 deletion(-)\n",
      " create mode 100644 data/gpepp/2022-05-25T19:48:09.102.wav\n"
     ]
    },
    {
     "name": "stderr",
     "output_type": "stream",
     "text": [
      "To https://github.com/aubreymoore/good-vibrations.git\n",
      "   db7b6b8..7f75a58  main -> main\n"
     ]
    },
    {
     "name": "stdout",
     "output_type": "stream",
     "text": [
      "   sleeping for 540s\n",
      "324 of 100000\n",
      "   recording for 60s; saving to /home/pi/good-vibrations/data/gpepp/2022-05-25T19:58:16.929.wav\n",
      "   uploading data to GitHub\n",
      "Already up to date.\n",
      "[main b447e21] record_wav\n",
      " 2 files changed, 23 insertions(+), 1 deletion(-)\n",
      " create mode 100644 data/gpepp/2022-05-25T19:58:16.929.wav\n"
     ]
    },
    {
     "name": "stderr",
     "output_type": "stream",
     "text": [
      "To https://github.com/aubreymoore/good-vibrations.git\n",
      "   7f75a58..b447e21  main -> main\n"
     ]
    },
    {
     "name": "stdout",
     "output_type": "stream",
     "text": [
      "   sleeping for 540s\n",
      "325 of 100000\n",
      "   recording for 60s; saving to /home/pi/good-vibrations/data/gpepp/2022-05-25T20:08:23.866.wav\n",
      "   uploading data to GitHub\n",
      "Already up to date.\n",
      "[main e815587] record_wav\n",
      " 2 files changed, 23 insertions(+), 1 deletion(-)\n",
      " create mode 100644 data/gpepp/2022-05-25T20:08:23.866.wav\n"
     ]
    },
    {
     "name": "stderr",
     "output_type": "stream",
     "text": [
      "To https://github.com/aubreymoore/good-vibrations.git\n",
      "   b447e21..e815587  main -> main\n"
     ]
    },
    {
     "name": "stdout",
     "output_type": "stream",
     "text": [
      "   sleeping for 540s\n",
      "326 of 100000\n",
      "   recording for 60s; saving to /home/pi/good-vibrations/data/gpepp/2022-05-25T20:18:30.539.wav\n",
      "   uploading data to GitHub\n",
      "Already up to date.\n",
      "[main 1896807] record_wav\n",
      " 2 files changed, 23 insertions(+), 1 deletion(-)\n",
      " create mode 100644 data/gpepp/2022-05-25T20:18:30.539.wav\n"
     ]
    },
    {
     "name": "stderr",
     "output_type": "stream",
     "text": [
      "To https://github.com/aubreymoore/good-vibrations.git\n",
      "   e815587..1896807  main -> main\n"
     ]
    },
    {
     "name": "stdout",
     "output_type": "stream",
     "text": [
      "   sleeping for 540s\n",
      "327 of 100000\n",
      "   recording for 60s; saving to /home/pi/good-vibrations/data/gpepp/2022-05-25T20:28:37.990.wav\n",
      "   uploading data to GitHub\n",
      "Already up to date.\n",
      "[main 88b2fc0] record_wav\n",
      " 2 files changed, 23 insertions(+), 1 deletion(-)\n",
      " create mode 100644 data/gpepp/2022-05-25T20:28:37.990.wav\n"
     ]
    },
    {
     "name": "stderr",
     "output_type": "stream",
     "text": [
      "To https://github.com/aubreymoore/good-vibrations.git\n",
      "   1896807..88b2fc0  main -> main\n"
     ]
    },
    {
     "name": "stdout",
     "output_type": "stream",
     "text": [
      "   sleeping for 540s\n",
      "328 of 100000\n",
      "   recording for 60s; saving to /home/pi/good-vibrations/data/gpepp/2022-05-25T20:38:46.519.wav\n",
      "   uploading data to GitHub\n",
      "Already up to date.\n",
      "[main 709b48f] record_wav\n",
      " 2 files changed, 23 insertions(+), 1 deletion(-)\n",
      " create mode 100644 data/gpepp/2022-05-25T20:38:46.519.wav\n"
     ]
    },
    {
     "name": "stderr",
     "output_type": "stream",
     "text": [
      "To https://github.com/aubreymoore/good-vibrations.git\n",
      "   88b2fc0..709b48f  main -> main\n"
     ]
    },
    {
     "name": "stdout",
     "output_type": "stream",
     "text": [
      "   sleeping for 540s\n",
      "329 of 100000\n",
      "   recording for 60s; saving to /home/pi/good-vibrations/data/gpepp/2022-05-25T20:48:53.109.wav\n",
      "   uploading data to GitHub\n",
      "Already up to date.\n",
      "[main 4a6e09d] record_wav\n",
      " 2 files changed, 23 insertions(+), 1 deletion(-)\n",
      " create mode 100644 data/gpepp/2022-05-25T20:48:53.109.wav\n"
     ]
    },
    {
     "name": "stderr",
     "output_type": "stream",
     "text": [
      "To https://github.com/aubreymoore/good-vibrations.git\n",
      "   709b48f..4a6e09d  main -> main\n"
     ]
    },
    {
     "name": "stdout",
     "output_type": "stream",
     "text": [
      "   sleeping for 540s\n",
      "330 of 100000\n",
      "   recording for 60s; saving to /home/pi/good-vibrations/data/gpepp/2022-05-25T20:58:59.761.wav\n",
      "   uploading data to GitHub\n",
      "Already up to date.\n",
      "[main d7a9074] record_wav\n",
      " 2 files changed, 23 insertions(+), 1 deletion(-)\n",
      " create mode 100644 data/gpepp/2022-05-25T20:58:59.761.wav\n"
     ]
    },
    {
     "name": "stderr",
     "output_type": "stream",
     "text": [
      "To https://github.com/aubreymoore/good-vibrations.git\n",
      "   4a6e09d..d7a9074  main -> main\n"
     ]
    },
    {
     "name": "stdout",
     "output_type": "stream",
     "text": [
      "   sleeping for 540s\n",
      "331 of 100000\n",
      "   recording for 60s; saving to /home/pi/good-vibrations/data/gpepp/2022-05-25T21:09:07.044.wav\n",
      "   uploading data to GitHub\n",
      "Already up to date.\n",
      "[main a103035] record_wav\n",
      " 2 files changed, 21 insertions(+), 1 deletion(-)\n",
      " create mode 100644 data/gpepp/2022-05-25T21:09:07.044.wav\n"
     ]
    },
    {
     "name": "stderr",
     "output_type": "stream",
     "text": [
      "To https://github.com/aubreymoore/good-vibrations.git\n",
      "   d7a9074..a103035  main -> main\n"
     ]
    },
    {
     "name": "stdout",
     "output_type": "stream",
     "text": [
      "   sleeping for 540s\n",
      "332 of 100000\n",
      "   recording for 60s; saving to /home/pi/good-vibrations/data/gpepp/2022-05-25T21:19:13.819.wav\n",
      "   uploading data to GitHub\n",
      "Already up to date.\n",
      "[main 2a0f5ae] record_wav\n",
      " 2 files changed, 22 insertions(+)\n",
      " create mode 100644 data/gpepp/2022-05-25T21:19:13.819.wav\n"
     ]
    },
    {
     "name": "stderr",
     "output_type": "stream",
     "text": [
      "To https://github.com/aubreymoore/good-vibrations.git\n",
      "   a103035..2a0f5ae  main -> main\n"
     ]
    },
    {
     "name": "stdout",
     "output_type": "stream",
     "text": [
      "   sleeping for 540s\n",
      "333 of 100000\n",
      "   recording for 60s; saving to /home/pi/good-vibrations/data/gpepp/2022-05-25T21:29:20.628.wav\n",
      "   uploading data to GitHub\n",
      "Already up to date.\n",
      "[main 595b02f] record_wav\n",
      " 2 files changed, 22 insertions(+)\n",
      " create mode 100644 data/gpepp/2022-05-25T21:29:20.628.wav\n"
     ]
    },
    {
     "name": "stderr",
     "output_type": "stream",
     "text": [
      "To https://github.com/aubreymoore/good-vibrations.git\n",
      "   2a0f5ae..595b02f  main -> main\n"
     ]
    },
    {
     "name": "stdout",
     "output_type": "stream",
     "text": [
      "   sleeping for 540s\n",
      "334 of 100000\n",
      "   recording for 60s; saving to /home/pi/good-vibrations/data/gpepp/2022-05-25T21:39:27.099.wav\n",
      "   uploading data to GitHub\n",
      "Already up to date.\n",
      "[main 91e7816] record_wav\n",
      " 2 files changed, 22 insertions(+)\n",
      " create mode 100644 data/gpepp/2022-05-25T21:39:27.099.wav\n"
     ]
    },
    {
     "name": "stderr",
     "output_type": "stream",
     "text": [
      "To https://github.com/aubreymoore/good-vibrations.git\n",
      "   595b02f..91e7816  main -> main\n"
     ]
    },
    {
     "name": "stdout",
     "output_type": "stream",
     "text": [
      "   sleeping for 540s\n",
      "335 of 100000\n",
      "   recording for 60s; saving to /home/pi/good-vibrations/data/gpepp/2022-05-25T21:49:33.719.wav\n",
      "   uploading data to GitHub\n",
      "Already up to date.\n",
      "[main 0b5c13d] record_wav\n",
      " 2 files changed, 22 insertions(+)\n",
      " create mode 100644 data/gpepp/2022-05-25T21:49:33.719.wav\n"
     ]
    },
    {
     "name": "stderr",
     "output_type": "stream",
     "text": [
      "To https://github.com/aubreymoore/good-vibrations.git\n",
      "   91e7816..0b5c13d  main -> main\n"
     ]
    },
    {
     "name": "stdout",
     "output_type": "stream",
     "text": [
      "   sleeping for 540s\n",
      "336 of 100000\n",
      "   recording for 60s; saving to /home/pi/good-vibrations/data/gpepp/2022-05-25T21:59:40.248.wav\n",
      "   uploading data to GitHub\n",
      "Already up to date.\n",
      "[main 92859a8] record_wav\n",
      " 2 files changed, 22 insertions(+)\n",
      " create mode 100644 data/gpepp/2022-05-25T21:59:40.248.wav\n"
     ]
    },
    {
     "name": "stderr",
     "output_type": "stream",
     "text": [
      "To https://github.com/aubreymoore/good-vibrations.git\n",
      "   0b5c13d..92859a8  main -> main\n"
     ]
    },
    {
     "name": "stdout",
     "output_type": "stream",
     "text": [
      "   sleeping for 540s\n",
      "337 of 100000\n",
      "   recording for 60s; saving to /home/pi/good-vibrations/data/gpepp/2022-05-25T22:09:47.672.wav\n",
      "   uploading data to GitHub\n",
      "Already up to date.\n",
      "[main 8bafdd5] record_wav\n",
      " 2 files changed, 22 insertions(+)\n",
      " create mode 100644 data/gpepp/2022-05-25T22:09:47.672.wav\n"
     ]
    },
    {
     "name": "stderr",
     "output_type": "stream",
     "text": [
      "To https://github.com/aubreymoore/good-vibrations.git\n",
      "   92859a8..8bafdd5  main -> main\n"
     ]
    },
    {
     "name": "stdout",
     "output_type": "stream",
     "text": [
      "   sleeping for 540s\n",
      "338 of 100000\n",
      "   recording for 60s; saving to /home/pi/good-vibrations/data/gpepp/2022-05-25T22:19:54.608.wav\n",
      "   uploading data to GitHub\n",
      "Already up to date.\n",
      "[main 27334db] record_wav\n",
      " 2 files changed, 22 insertions(+)\n",
      " create mode 100644 data/gpepp/2022-05-25T22:19:54.608.wav\n"
     ]
    },
    {
     "name": "stderr",
     "output_type": "stream",
     "text": [
      "To https://github.com/aubreymoore/good-vibrations.git\n",
      "   8bafdd5..27334db  main -> main\n"
     ]
    },
    {
     "name": "stdout",
     "output_type": "stream",
     "text": [
      "   sleeping for 540s\n",
      "339 of 100000\n",
      "   recording for 60s; saving to /home/pi/good-vibrations/data/gpepp/2022-05-25T22:30:01.319.wav\n",
      "   uploading data to GitHub\n",
      "Already up to date.\n",
      "[main 7ee2105] record_wav\n",
      " 2 files changed, 22 insertions(+)\n",
      " create mode 100644 data/gpepp/2022-05-25T22:30:01.319.wav\n"
     ]
    },
    {
     "name": "stderr",
     "output_type": "stream",
     "text": [
      "To https://github.com/aubreymoore/good-vibrations.git\n",
      "   27334db..7ee2105  main -> main\n"
     ]
    },
    {
     "name": "stdout",
     "output_type": "stream",
     "text": [
      "   sleeping for 540s\n"
     ]
    }
   ],
   "source": [
    "# MAIN\n",
    "\n",
    "print('STARTING')\n",
    "Path(OUTPUTDIR).mkdir(parents=True, exist_ok=True)   # ensure existence of OUTPUTDIR\n",
    "nrec = 1\n",
    "while nrec <= MAX_RECORDINGS:\n",
    "    print(f'{nrec} of {MAX_RECORDINGS}')\n",
    "    timestamp = datetime.datetime.now().isoformat()[:-3]\n",
    "    # timestamp = timestamp.replace(':', '-').replace('.', '-')   # git doesn't like colons\n",
    "    filepath = f'{OUTPUTDIR}/{timestamp}.wav'\n",
    "    print(f'   recording for {DURATION}s; saving to {filepath}')\n",
    "    record_wav_file(filepath, DURATION, SAMPLERATE, CHANNELS)\n",
    "    print('   uploading data to GitHub') \n",
    "    update_github()\n",
    "    nrec += 1\n",
    "    print(f'   sleeping for {SLEEP}s')\n",
    "    time.sleep(SLEEP)\n",
    "print('FINISHED')\n",
    "update_github()"
   ]
  }
 ],
 "metadata": {
  "kernelspec": {
   "display_name": "Python 3 (ipykernel)",
   "language": "python",
   "name": "python3"
  },
  "language_info": {
   "codemirror_mode": {
    "name": "ipython",
    "version": 3
   },
   "file_extension": ".py",
   "mimetype": "text/x-python",
   "name": "python",
   "nbconvert_exporter": "python",
   "pygments_lexer": "ipython3",
   "version": "3.7.3"
  }
 },
 "nbformat": 4,
 "nbformat_minor": 5
}

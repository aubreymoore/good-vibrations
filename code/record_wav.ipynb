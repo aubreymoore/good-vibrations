{
 "cells": [
  {
   "cell_type": "code",
   "execution_count": 1,
   "id": "3ff0b422",
   "metadata": {},
   "outputs": [],
   "source": [
    "import os\n",
    "from pathlib import Path\n",
    "import sounddevice as sd\n",
    "import soundfile as sf\n",
    "import datetime\n",
    "import time"
   ]
  },
  {
   "cell_type": "code",
   "execution_count": 2,
   "id": "5c768fd5-c85e-419a-a28d-001583d33dcc",
   "metadata": {
    "tags": [
     "parameters"
    ]
   },
   "outputs": [],
   "source": [
    "# This cell is tagged as \"parameters\" to allow using papermill\n",
    "\n",
    "MAX_RECORDINGS = 1000\n",
    "OUTPUTDIR = '/home/pi/good-vibrations/data/surfer'\n",
    "DURATION = 1*60     # seconds\n",
    "SLEEP =    9*60     # seconds\n",
    "SAMPLERATE = 8000   # samples per second\n",
    "CHANNELS = 1        # 1 = mono; 2 = stereo"
   ]
  },
  {
   "cell_type": "code",
   "execution_count": 3,
   "id": "fb4da313-dede-43b9-be64-71626f357033",
   "metadata": {},
   "outputs": [],
   "source": [
    "def record_wav_file(filepath, seconds, samplerate, channels): \n",
    "    wav = sd.rec(frames=int(seconds*samplerate), samplerate=samplerate, channels=channels)\n",
    "    sd.wait()  # Wait until recording is finished\n",
    "    sf.write(filepath, wav, samplerate)"
   ]
  },
  {
   "cell_type": "code",
   "execution_count": 4,
   "id": "41e6964a-fe11-44e9-b1b9-f898bc7ebf75",
   "metadata": {},
   "outputs": [
    {
     "name": "stdout",
     "output_type": "stream",
     "text": [
      "CPU times: user 19 µs, sys: 3 µs, total: 22 µs\n",
      "Wall time: 39.6 µs\n"
     ]
    }
   ],
   "source": [
    "%%time\n",
    "\n",
    "def update_github():\n",
    "    \"\"\"\n",
    "    Simply executes a script containing the following:\n",
    "        \n",
    "    cd ..\n",
    "    git pull\n",
    "    git add .\n",
    "    git commit -m 'record_wav'\n",
    "    git push\n",
    "    \n",
    "    \"\"\"\n",
    "\n",
    "    command = f'./update_github.sh'\n",
    "    result = os.system(command)\n",
    "    # assert result==0, f'{command} failed\n",
    "\n",
    "# update_github()"
   ]
  },
  {
   "cell_type": "code",
   "execution_count": null,
   "id": "cbc07bb3-dc6b-4340-af77-378a2a92d623",
   "metadata": {},
   "outputs": [
    {
     "name": "stdout",
     "output_type": "stream",
     "text": [
      "STARTING\n",
      "1 of 1000\n",
      "   recording for 60s; saving to /home/pi/good-vibrations/data/surfer/2022-05-06T15:52:11.152.wav\n",
      "   uploading data to GitHub\n",
      "Already up to date.\n",
      "[main 864527c] record_wav\n",
      " 4 files changed, 6 insertions(+), 136 deletions(-)\n",
      " create mode 100644 data/surfer/2022-05-06T15:52:11.152.wav\n",
      " delete mode 100644 data/test/2022-05-05T02:17:14.078.wav\n",
      " delete mode 100644 data/test/2022-05-05T02:17:31.149.wav\n"
     ]
    },
    {
     "name": "stderr",
     "output_type": "stream",
     "text": [
      "To https://github.com/aubreymoore/good-vibrations.git\n",
      "   89c04cd..864527c  main -> main\n"
     ]
    },
    {
     "name": "stdout",
     "output_type": "stream",
     "text": [
      "   sleeping for 540s\n",
      "2 of 1000\n",
      "   recording for 60s; saving to /home/pi/good-vibrations/data/surfer/2022-05-06T16:02:21.517.wav\n",
      "   uploading data to GitHub\n",
      "Already up to date.\n",
      "[main a16a12d] record_wav\n",
      " 2 files changed, 25 insertions(+), 1 deletion(-)\n",
      " create mode 100644 data/surfer/2022-05-06T16:02:21.517.wav\n"
     ]
    },
    {
     "name": "stderr",
     "output_type": "stream",
     "text": [
      "To https://github.com/aubreymoore/good-vibrations.git\n",
      "   864527c..a16a12d  main -> main\n"
     ]
    },
    {
     "name": "stdout",
     "output_type": "stream",
     "text": [
      "   sleeping for 540s\n",
      "3 of 1000\n",
      "   recording for 60s; saving to /home/pi/good-vibrations/data/surfer/2022-05-06T16:12:28.371.wav\n",
      "   uploading data to GitHub\n",
      "Already up to date.\n",
      "[main 32ce2d6] record_wav\n",
      " 2 files changed, 21 insertions(+), 1 deletion(-)\n",
      " create mode 100644 data/surfer/2022-05-06T16:12:28.371.wav\n"
     ]
    },
    {
     "name": "stderr",
     "output_type": "stream",
     "text": [
      "To https://github.com/aubreymoore/good-vibrations.git\n",
      "   a16a12d..32ce2d6  main -> main\n"
     ]
    },
    {
     "name": "stdout",
     "output_type": "stream",
     "text": [
      "   sleeping for 540s\n",
      "4 of 1000\n",
      "   recording for 60s; saving to /home/pi/good-vibrations/data/surfer/2022-05-06T16:22:40.447.wav\n",
      "   uploading data to GitHub\n",
      "Already up to date.\n",
      "[main 8bce2dd] record_wav\n",
      " 2 files changed, 22 insertions(+)\n",
      " create mode 100644 data/surfer/2022-05-06T16:22:40.447.wav\n"
     ]
    },
    {
     "name": "stderr",
     "output_type": "stream",
     "text": [
      "To https://github.com/aubreymoore/good-vibrations.git\n",
      "   32ce2d6..8bce2dd  main -> main\n"
     ]
    },
    {
     "name": "stdout",
     "output_type": "stream",
     "text": [
      "   sleeping for 540s\n",
      "5 of 1000\n",
      "   recording for 60s; saving to /home/pi/good-vibrations/data/surfer/2022-05-06T16:32:49.597.wav\n",
      "   uploading data to GitHub\n",
      "Already up to date.\n",
      "[main 50cb0eb] record_wav\n",
      " 2 files changed, 22 insertions(+)\n",
      " create mode 100644 data/surfer/2022-05-06T16:32:49.597.wav\n"
     ]
    },
    {
     "name": "stderr",
     "output_type": "stream",
     "text": [
      "To https://github.com/aubreymoore/good-vibrations.git\n",
      "   8bce2dd..50cb0eb  main -> main\n"
     ]
    },
    {
     "name": "stdout",
     "output_type": "stream",
     "text": [
      "   sleeping for 540s\n",
      "6 of 1000\n",
      "   recording for 60s; saving to /home/pi/good-vibrations/data/surfer/2022-05-06T16:42:55.999.wav\n",
      "   uploading data to GitHub\n",
      "Already up to date.\n",
      "[main 5bd90e2] record_wav\n",
      " 2 files changed, 22 insertions(+)\n",
      " create mode 100644 data/surfer/2022-05-06T16:42:55.999.wav\n"
     ]
    },
    {
     "name": "stderr",
     "output_type": "stream",
     "text": [
      "To https://github.com/aubreymoore/good-vibrations.git\n",
      "   50cb0eb..5bd90e2  main -> main\n"
     ]
    },
    {
     "name": "stdout",
     "output_type": "stream",
     "text": [
      "   sleeping for 540s\n",
      "7 of 1000\n",
      "   recording for 60s; saving to /home/pi/good-vibrations/data/surfer/2022-05-06T16:53:02.367.wav\n",
      "   uploading data to GitHub\n",
      "Already up to date.\n",
      "[main 3bbb409] record_wav\n",
      " 2 files changed, 22 insertions(+)\n",
      " create mode 100644 data/surfer/2022-05-06T16:53:02.367.wav\n"
     ]
    },
    {
     "name": "stderr",
     "output_type": "stream",
     "text": [
      "To https://github.com/aubreymoore/good-vibrations.git\n",
      "   5bd90e2..3bbb409  main -> main\n"
     ]
    },
    {
     "name": "stdout",
     "output_type": "stream",
     "text": [
      "   sleeping for 540s\n",
      "8 of 1000\n",
      "   recording for 60s; saving to /home/pi/good-vibrations/data/surfer/2022-05-06T17:03:08.543.wav\n",
      "   uploading data to GitHub\n",
      "Already up to date.\n",
      "[main c72f4c7] record_wav\n",
      " 2 files changed, 22 insertions(+)\n",
      " create mode 100644 data/surfer/2022-05-06T17:03:08.543.wav\n"
     ]
    },
    {
     "name": "stderr",
     "output_type": "stream",
     "text": [
      "To https://github.com/aubreymoore/good-vibrations.git\n",
      "   3bbb409..c72f4c7  main -> main\n"
     ]
    },
    {
     "name": "stdout",
     "output_type": "stream",
     "text": [
      "   sleeping for 540s\n",
      "9 of 1000\n",
      "   recording for 60s; saving to /home/pi/good-vibrations/data/surfer/2022-05-06T17:13:15.017.wav\n",
      "   uploading data to GitHub\n",
      "Already up to date.\n",
      "[main 4799b4e] record_wav\n",
      " 2 files changed, 22 insertions(+)\n",
      " create mode 100644 data/surfer/2022-05-06T17:13:15.017.wav\n"
     ]
    },
    {
     "name": "stderr",
     "output_type": "stream",
     "text": [
      "To https://github.com/aubreymoore/good-vibrations.git\n",
      "   c72f4c7..4799b4e  main -> main\n"
     ]
    },
    {
     "name": "stdout",
     "output_type": "stream",
     "text": [
      "   sleeping for 540s\n",
      "10 of 1000\n",
      "   recording for 60s; saving to /home/pi/good-vibrations/data/surfer/2022-05-06T17:23:21.359.wav\n",
      "   uploading data to GitHub\n",
      "Already up to date.\n",
      "[main 6b5f187] record_wav\n",
      " 2 files changed, 22 insertions(+)\n",
      " create mode 100644 data/surfer/2022-05-06T17:23:21.359.wav\n"
     ]
    },
    {
     "name": "stderr",
     "output_type": "stream",
     "text": [
      "To https://github.com/aubreymoore/good-vibrations.git\n",
      "   4799b4e..6b5f187  main -> main\n"
     ]
    },
    {
     "name": "stdout",
     "output_type": "stream",
     "text": [
      "   sleeping for 540s\n",
      "11 of 1000\n",
      "   recording for 60s; saving to /home/pi/good-vibrations/data/surfer/2022-05-06T17:33:27.518.wav\n",
      "   uploading data to GitHub\n",
      "Already up to date.\n",
      "[main 4d9200b] record_wav\n",
      " 2 files changed, 22 insertions(+)\n",
      " create mode 100644 data/surfer/2022-05-06T17:33:27.518.wav\n"
     ]
    },
    {
     "name": "stderr",
     "output_type": "stream",
     "text": [
      "To https://github.com/aubreymoore/good-vibrations.git\n",
      "   6b5f187..4d9200b  main -> main\n"
     ]
    },
    {
     "name": "stdout",
     "output_type": "stream",
     "text": [
      "   sleeping for 540s\n",
      "12 of 1000\n",
      "   recording for 60s; saving to /home/pi/good-vibrations/data/surfer/2022-05-06T17:43:34.569.wav\n",
      "   uploading data to GitHub\n",
      "Already up to date.\n",
      "[main 992c8d0] record_wav\n",
      " 2 files changed, 25 insertions(+), 1 deletion(-)\n",
      " create mode 100644 data/surfer/2022-05-06T17:43:34.569.wav\n"
     ]
    },
    {
     "name": "stderr",
     "output_type": "stream",
     "text": [
      "To https://github.com/aubreymoore/good-vibrations.git\n",
      "   4d9200b..992c8d0  main -> main\n"
     ]
    },
    {
     "name": "stdout",
     "output_type": "stream",
     "text": [
      "   sleeping for 540s\n",
      "13 of 1000\n",
      "   recording for 60s; saving to /home/pi/good-vibrations/data/surfer/2022-05-06T17:53:40.958.wav\n",
      "   uploading data to GitHub\n",
      "Already up to date.\n",
      "[main 04d40e0] record_wav\n",
      " 2 files changed, 23 insertions(+), 1 deletion(-)\n",
      " create mode 100644 data/surfer/2022-05-06T17:53:40.958.wav\n"
     ]
    },
    {
     "name": "stderr",
     "output_type": "stream",
     "text": [
      "To https://github.com/aubreymoore/good-vibrations.git\n",
      "   992c8d0..04d40e0  main -> main\n"
     ]
    },
    {
     "name": "stdout",
     "output_type": "stream",
     "text": [
      "   sleeping for 540s\n",
      "14 of 1000\n",
      "   recording for 60s; saving to /home/pi/good-vibrations/data/surfer/2022-05-06T18:03:50.258.wav\n",
      "   uploading data to GitHub\n",
      "Already up to date.\n",
      "[main ae79242] record_wav\n",
      " 2 files changed, 23 insertions(+), 1 deletion(-)\n",
      " create mode 100644 data/surfer/2022-05-06T18:03:50.258.wav\n"
     ]
    },
    {
     "name": "stderr",
     "output_type": "stream",
     "text": [
      "To https://github.com/aubreymoore/good-vibrations.git\n",
      "   04d40e0..ae79242  main -> main\n"
     ]
    },
    {
     "name": "stdout",
     "output_type": "stream",
     "text": [
      "   sleeping for 540s\n",
      "15 of 1000\n",
      "   recording for 60s; saving to /home/pi/good-vibrations/data/surfer/2022-05-06T18:13:56.550.wav\n",
      "   uploading data to GitHub\n",
      "Already up to date.\n",
      "[main ba1a6c5] record_wav\n",
      " 2 files changed, 23 insertions(+), 1 deletion(-)\n",
      " create mode 100644 data/surfer/2022-05-06T18:13:56.550.wav\n"
     ]
    },
    {
     "name": "stderr",
     "output_type": "stream",
     "text": [
      "To https://github.com/aubreymoore/good-vibrations.git\n",
      "   ae79242..ba1a6c5  main -> main\n"
     ]
    },
    {
     "name": "stdout",
     "output_type": "stream",
     "text": [
      "   sleeping for 540s\n",
      "16 of 1000\n",
      "   recording for 60s; saving to /home/pi/good-vibrations/data/surfer/2022-05-06T18:24:02.979.wav\n",
      "   uploading data to GitHub\n",
      "Already up to date.\n",
      "[main fc01023] record_wav\n",
      " 2 files changed, 23 insertions(+), 1 deletion(-)\n",
      " create mode 100644 data/surfer/2022-05-06T18:24:02.979.wav\n"
     ]
    },
    {
     "name": "stderr",
     "output_type": "stream",
     "text": [
      "To https://github.com/aubreymoore/good-vibrations.git\n",
      "   ba1a6c5..fc01023  main -> main\n"
     ]
    },
    {
     "name": "stdout",
     "output_type": "stream",
     "text": [
      "   sleeping for 540s\n",
      "17 of 1000\n",
      "   recording for 60s; saving to /home/pi/good-vibrations/data/surfer/2022-05-06T18:34:09.417.wav\n",
      "   uploading data to GitHub\n",
      "Already up to date.\n",
      "[main 68c1173] record_wav\n",
      " 2 files changed, 23 insertions(+), 1 deletion(-)\n",
      " create mode 100644 data/surfer/2022-05-06T18:34:09.417.wav\n"
     ]
    },
    {
     "name": "stderr",
     "output_type": "stream",
     "text": [
      "To https://github.com/aubreymoore/good-vibrations.git\n",
      "   fc01023..68c1173  main -> main\n"
     ]
    },
    {
     "name": "stdout",
     "output_type": "stream",
     "text": [
      "   sleeping for 540s\n",
      "18 of 1000\n",
      "   recording for 60s; saving to /home/pi/good-vibrations/data/surfer/2022-05-06T18:44:16.067.wav\n",
      "   uploading data to GitHub\n",
      "Already up to date.\n",
      "[main 0bd9dce] record_wav\n",
      " 2 files changed, 23 insertions(+), 1 deletion(-)\n",
      " create mode 100644 data/surfer/2022-05-06T18:44:16.067.wav\n"
     ]
    },
    {
     "name": "stderr",
     "output_type": "stream",
     "text": [
      "To https://github.com/aubreymoore/good-vibrations.git\n",
      "   68c1173..0bd9dce  main -> main\n"
     ]
    },
    {
     "name": "stdout",
     "output_type": "stream",
     "text": [
      "   sleeping for 540s\n",
      "19 of 1000\n",
      "   recording for 60s; saving to /home/pi/good-vibrations/data/surfer/2022-05-06T18:54:22.283.wav\n",
      "   uploading data to GitHub\n",
      "Already up to date.\n",
      "[main 9d05e42] record_wav\n",
      " 2 files changed, 23 insertions(+), 1 deletion(-)\n",
      " create mode 100644 data/surfer/2022-05-06T18:54:22.283.wav\n"
     ]
    },
    {
     "name": "stderr",
     "output_type": "stream",
     "text": [
      "To https://github.com/aubreymoore/good-vibrations.git\n",
      "   0bd9dce..9d05e42  main -> main\n"
     ]
    },
    {
     "name": "stdout",
     "output_type": "stream",
     "text": [
      "   sleeping for 540s\n",
      "20 of 1000\n",
      "   recording for 60s; saving to /home/pi/good-vibrations/data/surfer/2022-05-06T19:04:34.647.wav\n",
      "   uploading data to GitHub\n",
      "Already up to date.\n",
      "[main 0887230] record_wav\n",
      " 2 files changed, 23 insertions(+), 1 deletion(-)\n",
      " create mode 100644 data/surfer/2022-05-06T19:04:34.647.wav\n"
     ]
    },
    {
     "name": "stderr",
     "output_type": "stream",
     "text": [
      "To https://github.com/aubreymoore/good-vibrations.git\n",
      "   9d05e42..0887230  main -> main\n"
     ]
    },
    {
     "name": "stdout",
     "output_type": "stream",
     "text": [
      "   sleeping for 540s\n",
      "21 of 1000\n",
      "   recording for 60s; saving to /home/pi/good-vibrations/data/surfer/2022-05-06T19:14:40.808.wav\n",
      "   uploading data to GitHub\n",
      "Already up to date.\n",
      "[main c8e67b3] record_wav\n",
      " 2 files changed, 21 insertions(+), 1 deletion(-)\n",
      " create mode 100644 data/surfer/2022-05-06T19:14:40.808.wav\n"
     ]
    },
    {
     "name": "stderr",
     "output_type": "stream",
     "text": [
      "To https://github.com/aubreymoore/good-vibrations.git\n",
      "   0887230..c8e67b3  main -> main\n"
     ]
    },
    {
     "name": "stdout",
     "output_type": "stream",
     "text": [
      "   sleeping for 540s\n",
      "22 of 1000\n",
      "   recording for 60s; saving to /home/pi/good-vibrations/data/surfer/2022-05-06T19:24:49.168.wav\n",
      "   uploading data to GitHub\n",
      "Already up to date.\n",
      "[main 607dc77] record_wav\n",
      " 2 files changed, 22 insertions(+)\n",
      " create mode 100644 data/surfer/2022-05-06T19:24:49.168.wav\n"
     ]
    },
    {
     "name": "stderr",
     "output_type": "stream",
     "text": [
      "To https://github.com/aubreymoore/good-vibrations.git\n",
      "   c8e67b3..607dc77  main -> main\n"
     ]
    },
    {
     "name": "stdout",
     "output_type": "stream",
     "text": [
      "   sleeping for 540s\n",
      "23 of 1000\n",
      "   recording for 60s; saving to /home/pi/good-vibrations/data/surfer/2022-05-06T19:34:55.207.wav\n",
      "   uploading data to GitHub\n",
      "Already up to date.\n",
      "[main 652eee1] record_wav\n",
      " 2 files changed, 22 insertions(+)\n",
      " create mode 100644 data/surfer/2022-05-06T19:34:55.207.wav\n"
     ]
    },
    {
     "name": "stderr",
     "output_type": "stream",
     "text": [
      "To https://github.com/aubreymoore/good-vibrations.git\n",
      "   607dc77..652eee1  main -> main\n"
     ]
    },
    {
     "name": "stdout",
     "output_type": "stream",
     "text": [
      "   sleeping for 540s\n",
      "24 of 1000\n",
      "   recording for 60s; saving to /home/pi/good-vibrations/data/surfer/2022-05-06T19:45:01.407.wav\n",
      "   uploading data to GitHub\n",
      "Already up to date.\n",
      "[main ee4c63b] record_wav\n",
      " 2 files changed, 22 insertions(+)\n",
      " create mode 100644 data/surfer/2022-05-06T19:45:01.407.wav\n"
     ]
    },
    {
     "name": "stderr",
     "output_type": "stream",
     "text": [
      "To https://github.com/aubreymoore/good-vibrations.git\n",
      "   652eee1..ee4c63b  main -> main\n"
     ]
    },
    {
     "name": "stdout",
     "output_type": "stream",
     "text": [
      "   sleeping for 540s\n",
      "25 of 1000\n",
      "   recording for 60s; saving to /home/pi/good-vibrations/data/surfer/2022-05-06T19:55:07.428.wav\n",
      "   uploading data to GitHub\n",
      "Already up to date.\n",
      "[main be9a9bf] record_wav\n",
      " 2 files changed, 22 insertions(+)\n",
      " create mode 100644 data/surfer/2022-05-06T19:55:07.428.wav\n"
     ]
    },
    {
     "name": "stderr",
     "output_type": "stream",
     "text": [
      "To https://github.com/aubreymoore/good-vibrations.git\n",
      "   ee4c63b..be9a9bf  main -> main\n"
     ]
    },
    {
     "name": "stdout",
     "output_type": "stream",
     "text": [
      "   sleeping for 540s\n",
      "26 of 1000\n",
      "   recording for 60s; saving to /home/pi/good-vibrations/data/surfer/2022-05-06T20:05:13.568.wav\n",
      "   uploading data to GitHub\n",
      "Already up to date.\n",
      "[main d473e70] record_wav\n",
      " 2 files changed, 22 insertions(+)\n",
      " create mode 100644 data/surfer/2022-05-06T20:05:13.568.wav\n"
     ]
    },
    {
     "name": "stderr",
     "output_type": "stream",
     "text": [
      "To https://github.com/aubreymoore/good-vibrations.git\n",
      "   be9a9bf..d473e70  main -> main\n"
     ]
    },
    {
     "name": "stdout",
     "output_type": "stream",
     "text": [
      "   sleeping for 540s\n",
      "27 of 1000\n",
      "   recording for 60s; saving to /home/pi/good-vibrations/data/surfer/2022-05-06T20:15:19.694.wav\n",
      "   uploading data to GitHub\n",
      "Already up to date.\n",
      "[main 483635a] record_wav\n",
      " 2 files changed, 22 insertions(+)\n",
      " create mode 100644 data/surfer/2022-05-06T20:15:19.694.wav\n"
     ]
    },
    {
     "name": "stderr",
     "output_type": "stream",
     "text": [
      "To https://github.com/aubreymoore/good-vibrations.git\n",
      "   d473e70..483635a  main -> main\n"
     ]
    },
    {
     "name": "stdout",
     "output_type": "stream",
     "text": [
      "   sleeping for 540s\n"
     ]
    }
   ],
   "source": [
    "# MAIN\n",
    "\n",
    "print('STARTING')\n",
    "Path(OUTPUTDIR).mkdir(parents=True, exist_ok=True)   # ensure existence of OUTPUTDIR\n",
    "nrec = 1\n",
    "while nrec <= MAX_RECORDINGS:\n",
    "    print(f'{nrec} of {MAX_RECORDINGS}')\n",
    "    timestamp = datetime.datetime.now().isoformat()[:-3]\n",
    "    # timestamp = timestamp.replace(':', '-').replace('.', '-')   # git doesn't like colons\n",
    "    filepath = f'{OUTPUTDIR}/{timestamp}.wav'\n",
    "    print(f'   recording for {DURATION}s; saving to {filepath}')\n",
    "    record_wav_file(filepath, DURATION, SAMPLERATE, CHANNELS)\n",
    "    print('   uploading data to GitHub') \n",
    "    update_github()\n",
    "    nrec += 1\n",
    "    print(f'   sleeping for {SLEEP}s')\n",
    "    time.sleep(SLEEP)\n",
    "print('FINISHED')\n",
    "update_github()"
   ]
  }
 ],
 "metadata": {
  "kernelspec": {
   "display_name": "Python 3 (ipykernel)",
   "language": "python",
   "name": "python3"
  },
  "language_info": {
   "codemirror_mode": {
    "name": "ipython",
    "version": 3
   },
   "file_extension": ".py",
   "mimetype": "text/x-python",
   "name": "python",
   "nbconvert_exporter": "python",
   "pygments_lexer": "ipython3",
   "version": "3.7.3"
  }
 },
 "nbformat": 4,
 "nbformat_minor": 5
}

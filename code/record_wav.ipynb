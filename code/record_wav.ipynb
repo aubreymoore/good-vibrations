{
 "cells": [
  {
   "cell_type": "code",
   "execution_count": 1,
   "id": "3ff0b422",
   "metadata": {},
   "outputs": [],
   "source": [
    "import os\n",
    "from pathlib import Path\n",
    "import sounddevice as sd\n",
    "import soundfile as sf\n",
    "import datetime\n",
    "import time"
   ]
  },
  {
   "cell_type": "code",
   "execution_count": 2,
   "id": "5c768fd5-c85e-419a-a28d-001583d33dcc",
   "metadata": {
    "tags": [
     "parameters"
    ]
   },
   "outputs": [],
   "source": [
    "# This cell is tagged as \"parameters\" to allow using papermill\n",
    "\n",
    "MAX_RECORDINGS = 6\n",
    "OUTPUTDIR = '/home/pi/Desktop/test'\n",
    "DURATION = 1*60   # seconds\n",
    "SLEEP =    1      # seconds\n",
    "SAMPLERATE = 8000 # samples per second\n",
    "CHANNELS = 1      # 1 = mono; 2 = stereo"
   ]
  },
  {
   "cell_type": "code",
   "execution_count": 3,
   "id": "fb4da313-dede-43b9-be64-71626f357033",
   "metadata": {},
   "outputs": [],
   "source": [
    "def record_wav_file(filepath, seconds, samplerate, channels): \n",
    "    wav = sd.rec(frames=int(seconds*samplerate), samplerate=samplerate, channels=channels)\n",
    "    sd.wait()  # Wait until recording is finished\n",
    "    sf.write(filepath, wav, samplerate)"
   ]
  },
  {
   "cell_type": "code",
   "execution_count": 4,
   "id": "41e6964a-fe11-44e9-b1b9-f898bc7ebf75",
   "metadata": {},
   "outputs": [
    {
     "name": "stdout",
     "output_type": "stream",
     "text": [
      "CPU times: user 23 µs, sys: 3 µs, total: 26 µs\n",
      "Wall time: 46 µs\n"
     ]
    }
   ],
   "source": [
    "%%time\n",
    "\n",
    "def update_github():\n",
    "    \"\"\"\n",
    "    Simply executes a script containing the following:\n",
    "        \n",
    "    cd ..\n",
    "    git pull\n",
    "    git add .\n",
    "    git commit -m 'record_wav'\n",
    "    git push\n",
    "    \n",
    "    \"\"\"\n",
    "\n",
    "    command = f'./update_github.sh'\n",
    "    result = os.system(command)\n",
    "    # assert result==0, f'{command} failed\n",
    "\n",
    "# update_github()"
   ]
  },
  {
   "cell_type": "code",
   "execution_count": 5,
   "id": "cbc07bb3-dc6b-4340-af77-378a2a92d623",
   "metadata": {},
   "outputs": [
    {
     "name": "stdout",
     "output_type": "stream",
     "text": [
      "STARTING\n",
      "1 of 6\n",
      "   recording for 60s; saving to /home/pi/Desktop/test/2022-05-04T18:09:05.233.wav\n",
      "   uploading data to GitHub\n",
      "Already up to date.\n",
      "[main f0161bb] record_wav\n",
      " 2 files changed, 64 insertions(+), 68 deletions(-)\n"
     ]
    },
    {
     "name": "stderr",
     "output_type": "stream",
     "text": [
      "To https://github.com/aubreymoore/good-vibrations.git\n",
      "   42ef2a3..f0161bb  main -> main\n"
     ]
    },
    {
     "name": "stdout",
     "output_type": "stream",
     "text": [
      "   sleeping for 540s\n",
      "2 of 6\n",
      "   recording for 60s; saving to /home/pi/Desktop/test/2022-05-04T18:19:11.791.wav\n",
      "   uploading data to GitHub\n",
      "Already up to date.\n",
      "[main 0699c16] record_wav\n",
      " 1 file changed, 22 insertions(+), 1 deletion(-)\n"
     ]
    },
    {
     "name": "stderr",
     "output_type": "stream",
     "text": [
      "To https://github.com/aubreymoore/good-vibrations.git\n",
      "   f0161bb..0699c16  main -> main\n"
     ]
    },
    {
     "name": "stdout",
     "output_type": "stream",
     "text": [
      "   sleeping for 540s\n",
      "3 of 6\n",
      "   recording for 60s; saving to /home/pi/Desktop/test/2022-05-04T18:29:19.329.wav\n",
      "   uploading data to GitHub\n",
      "Already up to date.\n",
      "[main f2f7423] record_wav\n",
      " 1 file changed, 22 insertions(+), 1 deletion(-)\n"
     ]
    },
    {
     "name": "stderr",
     "output_type": "stream",
     "text": [
      "To https://github.com/aubreymoore/good-vibrations.git\n",
      "   0699c16..f2f7423  main -> main\n"
     ]
    },
    {
     "name": "stdout",
     "output_type": "stream",
     "text": [
      "   sleeping for 540s\n",
      "4 of 6\n",
      "   recording for 60s; saving to /home/pi/Desktop/test/2022-05-04T18:39:24.123.wav\n",
      "   uploading data to GitHub\n",
      "Already up to date.\n",
      "[main b949508] record_wav\n",
      " 1 file changed, 22 insertions(+), 1 deletion(-)\n"
     ]
    },
    {
     "name": "stderr",
     "output_type": "stream",
     "text": [
      "To https://github.com/aubreymoore/good-vibrations.git\n",
      "   f2f7423..b949508  main -> main\n"
     ]
    },
    {
     "name": "stdout",
     "output_type": "stream",
     "text": [
      "   sleeping for 540s\n",
      "5 of 6\n",
      "   recording for 60s; saving to /home/pi/Desktop/test/2022-05-04T18:49:30.519.wav\n",
      "   uploading data to GitHub\n",
      "Already up to date.\n",
      "[main 4b9a0c9] record_wav\n",
      " 1 file changed, 22 insertions(+), 1 deletion(-)\n"
     ]
    },
    {
     "name": "stderr",
     "output_type": "stream",
     "text": [
      "To https://github.com/aubreymoore/good-vibrations.git\n",
      "   b949508..4b9a0c9  main -> main\n"
     ]
    },
    {
     "name": "stdout",
     "output_type": "stream",
     "text": [
      "   sleeping for 540s\n",
      "6 of 6\n",
      "   recording for 60s; saving to /home/pi/Desktop/test/2022-05-04T18:59:36.104.wav\n",
      "   uploading data to GitHub\n",
      "Already up to date.\n",
      "[main f8f981c] record_wav\n",
      " 1 file changed, 22 insertions(+), 1 deletion(-)\n"
     ]
    },
    {
     "name": "stderr",
     "output_type": "stream",
     "text": [
      "To https://github.com/aubreymoore/good-vibrations.git\n",
      "   4b9a0c9..f8f981c  main -> main\n"
     ]
    },
    {
     "name": "stdout",
     "output_type": "stream",
     "text": [
      "   sleeping for 540s\n",
      "FINISHED\n"
     ]
    }
   ],
   "source": [
    "# MAIN\n",
    "\n",
    "print('STARTING')\n",
    "Path(OUTPUTDIR).mkdir(parents=True, exist_ok=True)   # ensure existence of OUTPUTDIR\n",
    "nrec = 1\n",
    "while nrec <= MAX_RECORDINGS:\n",
    "    print(f'{nrec} of {MAX_RECORDINGS}')\n",
    "    timestamp = datetime.datetime.now().isoformat()[:-3]\n",
    "    filepath = f'{OUTPUTDIR}/{timestamp}.wav'\n",
    "    filepath = filepath.replace(':', '_')   # git doesn't like colons\n",
    "    print(f'   recording for {DURATION}s; saving to {filepath}')\n",
    "    record_wav_file(filepath, DURATION, SAMPLERATE, CHANNELS)\n",
    "    print('   uploading data to GitHub') \n",
    "    update_github()\n",
    "    nrec += 1\n",
    "    print(f'   sleeping for {SLEEP}s')\n",
    "    time.sleep(SLEEP)\n",
    "print('FINISHED')"
   ]
  }
 ],
 "metadata": {
  "kernelspec": {
   "display_name": "Python 3 (ipykernel)",
   "language": "python",
   "name": "python3"
  },
  "language_info": {
   "codemirror_mode": {
    "name": "ipython",
    "version": 3
   },
   "file_extension": ".py",
   "mimetype": "text/x-python",
   "name": "python",
   "nbconvert_exporter": "python",
   "pygments_lexer": "ipython3",
   "version": "3.7.3"
  }
 },
 "nbformat": 4,
 "nbformat_minor": 5
}

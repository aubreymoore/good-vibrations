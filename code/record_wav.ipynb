{
 "cells": [
  {
   "cell_type": "code",
   "execution_count": 6,
   "id": "3ff0b422",
   "metadata": {},
   "outputs": [],
   "source": [
    "import os\n",
    "from pathlib import Path\n",
    "import sounddevice as sd\n",
    "import soundfile as sf\n",
    "import datetime\n",
    "import time"
   ]
  },
  {
   "cell_type": "code",
   "execution_count": 7,
   "id": "5c768fd5-c85e-419a-a28d-001583d33dcc",
   "metadata": {
    "tags": [
     "parameters"
    ]
   },
   "outputs": [],
   "source": [
    "# This cell is tagged as \"parameters\" to allow using papermill\n",
    "\n",
    "MAX_RECORDINGS = 100000\n",
    "OUTPUTDIR = '/home/pi/good-vibrations/data/gpepp'\n",
    "DURATION = 1*60     # seconds\n",
    "SLEEP =    9*60     # seconds\n",
    "SAMPLERATE = 8000   # samples per second\n",
    "CHANNELS = 1        # 1 = mono; 2 = stereo"
   ]
  },
  {
   "cell_type": "code",
   "execution_count": 8,
   "id": "fb4da313-dede-43b9-be64-71626f357033",
   "metadata": {},
   "outputs": [],
   "source": [
    "def record_wav_file(filepath, seconds, samplerate, channels): \n",
    "    wav = sd.rec(frames=int(seconds*samplerate), samplerate=samplerate, channels=channels)\n",
    "    sd.wait()  # Wait until recording is finished\n",
    "    sf.write(filepath, wav, samplerate)"
   ]
  },
  {
   "cell_type": "code",
   "execution_count": 9,
   "id": "41e6964a-fe11-44e9-b1b9-f898bc7ebf75",
   "metadata": {},
   "outputs": [
    {
     "name": "stdout",
     "output_type": "stream",
     "text": [
      "CPU times: user 25 µs, sys: 11 µs, total: 36 µs\n",
      "Wall time: 64.4 µs\n"
     ]
    }
   ],
   "source": [
    "%%time\n",
    "\n",
    "def update_github():\n",
    "    \"\"\"\n",
    "    Simply executes a script containing the following:\n",
    "        \n",
    "    cd ..\n",
    "    git pull\n",
    "    git add .\n",
    "    git commit -m 'record_wav'\n",
    "    git push\n",
    "    \n",
    "    \"\"\"\n",
    "\n",
    "    command = f'./update_github.sh'\n",
    "    result = os.system(command)\n",
    "    # assert result==0, f'{command} failed\n",
    "\n",
    "# update_github()"
   ]
  },
  {
   "cell_type": "code",
   "execution_count": null,
   "id": "cbc07bb3-dc6b-4340-af77-378a2a92d623",
   "metadata": {},
   "outputs": [
    {
     "name": "stdout",
     "output_type": "stream",
     "text": [
      "STARTING\n",
      "1 of 100000\n",
      "   recording for 60s; saving to /home/pi/good-vibrations/data/gpepp/2022-05-23T13:13:19.526.wav\n",
      "   uploading data to GitHub\n",
      "Already up to date.\n",
      "[main ff0211b] record_wav\n",
      " 2 files changed, 9 insertions(+), 139 deletions(-)\n",
      " create mode 100644 data/gpepp/2022-05-23T13:13:19.526.wav\n"
     ]
    },
    {
     "name": "stderr",
     "output_type": "stream",
     "text": [
      "To https://github.com/aubreymoore/good-vibrations.git\n",
      "   55bebd4..ff0211b  main -> main\n"
     ]
    },
    {
     "name": "stdout",
     "output_type": "stream",
     "text": [
      "   sleeping for 540s\n",
      "2 of 100000\n",
      "   recording for 60s; saving to /home/pi/good-vibrations/data/gpepp/2022-05-23T13:23:33.519.wav\n",
      "   uploading data to GitHub\n",
      "Already up to date.\n",
      "[main f66c399] record_wav\n",
      " 2 files changed, 23 insertions(+), 1 deletion(-)\n",
      " create mode 100644 data/gpepp/2022-05-23T13:23:33.519.wav\n"
     ]
    },
    {
     "name": "stderr",
     "output_type": "stream",
     "text": [
      "To https://github.com/aubreymoore/good-vibrations.git\n",
      "   ff0211b..f66c399  main -> main\n"
     ]
    },
    {
     "name": "stdout",
     "output_type": "stream",
     "text": [
      "   sleeping for 540s\n",
      "3 of 100000\n",
      "   recording for 60s; saving to /home/pi/good-vibrations/data/gpepp/2022-05-23T13:33:39.999.wav\n",
      "   uploading data to GitHub\n",
      "Already up to date.\n",
      "[main 85d52e5] record_wav\n",
      " 2 files changed, 23 insertions(+), 1 deletion(-)\n",
      " create mode 100644 data/gpepp/2022-05-23T13:33:39.999.wav\n"
     ]
    },
    {
     "name": "stderr",
     "output_type": "stream",
     "text": [
      "To https://github.com/aubreymoore/good-vibrations.git\n",
      "   f66c399..85d52e5  main -> main\n"
     ]
    },
    {
     "name": "stdout",
     "output_type": "stream",
     "text": [
      "   sleeping for 540s\n",
      "4 of 100000\n",
      "   recording for 60s; saving to /home/pi/good-vibrations/data/gpepp/2022-05-23T13:43:51.028.wav\n",
      "   uploading data to GitHub\n",
      "Already up to date.\n",
      "[main b60bfd7] record_wav\n",
      " 2 files changed, 23 insertions(+), 1 deletion(-)\n",
      " create mode 100644 data/gpepp/2022-05-23T13:43:51.028.wav\n"
     ]
    },
    {
     "name": "stderr",
     "output_type": "stream",
     "text": [
      "To https://github.com/aubreymoore/good-vibrations.git\n",
      "   85d52e5..b60bfd7  main -> main\n"
     ]
    },
    {
     "name": "stdout",
     "output_type": "stream",
     "text": [
      "   sleeping for 540s\n",
      "5 of 100000\n",
      "   recording for 60s; saving to /home/pi/good-vibrations/data/gpepp/2022-05-23T13:53:57.366.wav\n",
      "   uploading data to GitHub\n",
      "Already up to date.\n",
      "[main 7a55a19] record_wav\n",
      " 2 files changed, 23 insertions(+), 1 deletion(-)\n",
      " create mode 100644 data/gpepp/2022-05-23T13:53:57.366.wav\n"
     ]
    },
    {
     "name": "stderr",
     "output_type": "stream",
     "text": [
      "To https://github.com/aubreymoore/good-vibrations.git\n",
      "   b60bfd7..7a55a19  main -> main\n"
     ]
    },
    {
     "name": "stdout",
     "output_type": "stream",
     "text": [
      "   sleeping for 540s\n",
      "6 of 100000\n",
      "   recording for 60s; saving to /home/pi/good-vibrations/data/gpepp/2022-05-23T14:04:03.859.wav\n",
      "   uploading data to GitHub\n",
      "Already up to date.\n",
      "[main eb332f1] record_wav\n",
      " 2 files changed, 23 insertions(+), 1 deletion(-)\n",
      " create mode 100644 data/gpepp/2022-05-23T14:04:03.859.wav\n"
     ]
    },
    {
     "name": "stderr",
     "output_type": "stream",
     "text": [
      "To https://github.com/aubreymoore/good-vibrations.git\n",
      "   7a55a19..eb332f1  main -> main\n"
     ]
    },
    {
     "name": "stdout",
     "output_type": "stream",
     "text": [
      "   sleeping for 540s\n",
      "7 of 100000\n",
      "   recording for 60s; saving to /home/pi/good-vibrations/data/gpepp/2022-05-23T14:14:10.494.wav\n",
      "   uploading data to GitHub\n",
      "Already up to date.\n",
      "[main 606668e] record_wav\n",
      " 2 files changed, 23 insertions(+), 1 deletion(-)\n",
      " create mode 100644 data/gpepp/2022-05-23T14:14:10.494.wav\n"
     ]
    },
    {
     "name": "stderr",
     "output_type": "stream",
     "text": [
      "To https://github.com/aubreymoore/good-vibrations.git\n",
      "   eb332f1..606668e  main -> main\n"
     ]
    },
    {
     "name": "stdout",
     "output_type": "stream",
     "text": [
      "   sleeping for 540s\n",
      "8 of 100000\n",
      "   recording for 60s; saving to /home/pi/good-vibrations/data/gpepp/2022-05-23T14:24:17.696.wav\n",
      "   uploading data to GitHub\n",
      "Already up to date.\n",
      "[main 413856f] record_wav\n",
      " 2 files changed, 23 insertions(+), 1 deletion(-)\n",
      " create mode 100644 data/gpepp/2022-05-23T14:24:17.696.wav\n"
     ]
    },
    {
     "name": "stderr",
     "output_type": "stream",
     "text": [
      "To https://github.com/aubreymoore/good-vibrations.git\n",
      "   606668e..413856f  main -> main\n"
     ]
    },
    {
     "name": "stdout",
     "output_type": "stream",
     "text": [
      "   sleeping for 540s\n",
      "9 of 100000\n",
      "   recording for 60s; saving to /home/pi/good-vibrations/data/gpepp/2022-05-23T14:34:23.999.wav\n",
      "   uploading data to GitHub\n",
      "Already up to date.\n",
      "[main 74ed9c9] record_wav\n",
      " 2 files changed, 21 insertions(+), 1 deletion(-)\n",
      " create mode 100644 data/gpepp/2022-05-23T14:34:23.999.wav\n"
     ]
    },
    {
     "name": "stderr",
     "output_type": "stream",
     "text": [
      "To https://github.com/aubreymoore/good-vibrations.git\n",
      "   413856f..74ed9c9  main -> main\n"
     ]
    },
    {
     "name": "stdout",
     "output_type": "stream",
     "text": [
      "   sleeping for 540s\n"
     ]
    }
   ],
   "source": [
    "# MAIN\n",
    "\n",
    "print('STARTING')\n",
    "Path(OUTPUTDIR).mkdir(parents=True, exist_ok=True)   # ensure existence of OUTPUTDIR\n",
    "nrec = 1\n",
    "while nrec <= MAX_RECORDINGS:\n",
    "    print(f'{nrec} of {MAX_RECORDINGS}')\n",
    "    timestamp = datetime.datetime.now().isoformat()[:-3]\n",
    "    # timestamp = timestamp.replace(':', '-').replace('.', '-')   # git doesn't like colons\n",
    "    filepath = f'{OUTPUTDIR}/{timestamp}.wav'\n",
    "    print(f'   recording for {DURATION}s; saving to {filepath}')\n",
    "    record_wav_file(filepath, DURATION, SAMPLERATE, CHANNELS)\n",
    "    print('   uploading data to GitHub') \n",
    "    update_github()\n",
    "    nrec += 1\n",
    "    print(f'   sleeping for {SLEEP}s')\n",
    "    time.sleep(SLEEP)\n",
    "print('FINISHED')\n",
    "update_github()"
   ]
  }
 ],
 "metadata": {
  "kernelspec": {
   "display_name": "Python 3 (ipykernel)",
   "language": "python",
   "name": "python3"
  },
  "language_info": {
   "codemirror_mode": {
    "name": "ipython",
    "version": 3
   },
   "file_extension": ".py",
   "mimetype": "text/x-python",
   "name": "python",
   "nbconvert_exporter": "python",
   "pygments_lexer": "ipython3",
   "version": "3.7.3"
  }
 },
 "nbformat": 4,
 "nbformat_minor": 5
}
